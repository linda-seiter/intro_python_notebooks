{
 "cells": [
  {
   "cell_type": "code",
   "execution_count": null,
   "metadata": {},
   "outputs": [],
   "source": [
    "from PIL import Image               # to load images\n",
    "from IPython.display import display # to display images\n",
    "import numpy as np\n"
   ]
  },
  {
   "cell_type": "code",
   "execution_count": null,
   "metadata": {},
   "outputs": [],
   "source": [
    "list_nums = [10,20,40]\n",
    "print(list_nums)\n",
    "list_nums[1] = 7\n",
    "print(list_nums)"
   ]
  },
  {
   "cell_type": "code",
   "execution_count": null,
   "metadata": {},
   "outputs": [],
   "source": [
    "#A tuple is like a list, but it is immutable (can't change a value)\n",
    "tuple_nums = (10,20,40)\n",
    "print(tuple_nums)\n",
    "# error\n",
    "#tuple_nums[1] = 7\n",
    "\n",
    "#need to create new tuple\n",
    "tuple_nums = (tuple_nums[0],7,tuple_nums[2])\n",
    "print(tuple_nums)"
   ]
  },
  {
   "cell_type": "code",
   "execution_count": null,
   "metadata": {},
   "outputs": [],
   "source": [
    "image = Image.open('cat.jpg')\n",
    "display(image)"
   ]
  },
  {
   "cell_type": "markdown",
   "metadata": {},
   "source": [
    "## 2D image manipulation"
   ]
  },
  {
   "cell_type": "code",
   "execution_count": null,
   "metadata": {},
   "outputs": [],
   "source": [
    "#Using numpy to manipulate image as 2D (rows, columns)\n",
    "\n",
    "image = Image.open('cat.jpg')\n",
    "display(image)\n",
    "\n",
    "pixels_2D = np.array(image)  #convert to 2D list\n",
    "print(len(pixels_2D))  #height, rows\n",
    "print(len(pixels_2D[0])) #width, columns\n",
    "print(pixels_2D[0][0])  #first pixel, notice it is a list not tuple\n",
    "pixels_2D[10][100] = [0, 50, 100]  #change color of pixel[r][c] to black\n",
    "image = Image.fromarray(pixels_2D)\n",
    "display(image)"
   ]
  },
  {
   "cell_type": "code",
   "execution_count": null,
   "metadata": {},
   "outputs": [],
   "source": [
    "#set all pixels in first 20 rows to red\n",
    "image = Image.open('cat.jpg')\n",
    "display(image)\n",
    "\n",
    "pixels_2D = np.array(image)  #convert to 2D list\n",
    "rows = len(pixels_2D)\n",
    "cols = len(pixels_2D[0])\n",
    "\n",
    "for r in range(20):\n",
    "    for c in range(cols):\n",
    "        pixels_2D[r][c] = [255,0,0]  #reassign pixel rgb to max red of 255\n",
    "        \n",
    "image = Image.fromarray(pixels_2D)\n",
    "display(image)"
   ]
  },
  {
   "cell_type": "code",
   "execution_count": null,
   "metadata": {},
   "outputs": [],
   "source": [
    "#set all pixels in first 20 columns to red\n"
   ]
  },
  {
   "cell_type": "code",
   "execution_count": null,
   "metadata": {},
   "outputs": [],
   "source": [
    "#set pixels in top half to blue\n"
   ]
  },
  {
   "cell_type": "code",
   "execution_count": null,
   "metadata": {},
   "outputs": [],
   "source": [
    "#remove red from pixels in first 50 rows\n"
   ]
  },
  {
   "cell_type": "code",
   "execution_count": null,
   "metadata": {},
   "outputs": [],
   "source": [
    "\n",
    "#add green stripe every 10th row\n"
   ]
  },
  {
   "cell_type": "code",
   "execution_count": null,
   "metadata": {},
   "outputs": [],
   "source": [
    "image = Image.new(mode = \"RGB\", size = (200, 200))\n",
    "display(image)\n"
   ]
  },
  {
   "cell_type": "code",
   "execution_count": null,
   "metadata": {},
   "outputs": [],
   "source": [
    "#New blank image (set initial color)\n",
    "\n",
    "image = Image.new(mode = \"RGB\", size = (200, 200),color = (153, 153, 255))\n",
    "display(image)\n"
   ]
  },
  {
   "cell_type": "code",
   "execution_count": null,
   "metadata": {},
   "outputs": [],
   "source": [
    "image = Image.new(mode = \"RGB\", size = (400, 400))\n",
    "\n",
    "#increase amount of red for each row\n",
    "\n"
   ]
  },
  {
   "cell_type": "code",
   "execution_count": null,
   "metadata": {},
   "outputs": [],
   "source": [
    "#copy left half to right half\n",
    "\n"
   ]
  },
  {
   "cell_type": "code",
   "execution_count": null,
   "metadata": {},
   "outputs": [],
   "source": [
    "#set dark eyes to green.  Test for dark pixels (rgb each less than 100). \n",
    "\n"
   ]
  },
  {
   "cell_type": "code",
   "execution_count": null,
   "metadata": {},
   "outputs": [],
   "source": []
  }
 ],
 "metadata": {
  "kernelspec": {
   "display_name": "Python 3",
   "language": "python",
   "name": "python3"
  },
  "language_info": {
   "codemirror_mode": {
    "name": "ipython",
    "version": 3
   },
   "file_extension": ".py",
   "mimetype": "text/x-python",
   "name": "python",
   "nbconvert_exporter": "python",
   "pygments_lexer": "ipython3",
   "version": "3.6.9"
  }
 },
 "nbformat": 4,
 "nbformat_minor": 2
}
