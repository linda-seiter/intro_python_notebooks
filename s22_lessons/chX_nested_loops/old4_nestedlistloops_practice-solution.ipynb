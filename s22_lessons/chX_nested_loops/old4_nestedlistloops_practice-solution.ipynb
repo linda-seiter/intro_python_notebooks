{
 "cells": [
  {
   "cell_type": "code",
   "execution_count": 9,
   "metadata": {},
   "outputs": [],
   "source": [
    "from PIL import Image               # to load images\n",
    "from IPython.display import display # to display images\n",
    "import numpy as np\n",
    "import random\n"
   ]
  },
  {
   "cell_type": "code",
   "execution_count": 5,
   "metadata": {},
   "outputs": [
    {
     "name": "stdout",
     "output_type": "stream",
     "text": [
      "Testing printing matrix1 reverse\n",
      "4 5 6 \n",
      "1 2 3 \n",
      "Testing printing matrix2 reverse\n",
      "5 6 7 8 \n",
      "1 2 3 4 \n",
      "2 8 10 12 \n"
     ]
    }
   ],
   "source": [
    "'''\n",
    "Challenge#1 \n",
    "'''\n",
    "#Write your function here:\n",
    "def print_reverse(matrix):    \n",
    "    for r in range(len(matrix)-1,-1,-1):\n",
    "        for c in range(len(matrix[0])):\n",
    "            print(matrix[r][c],end=' ')\n",
    "        print()\n",
    "\n",
    "        \n",
    "#Test your function:\n",
    "\n",
    "print('Testing printing matrix1 reverse')\n",
    "matrix1 = [ \n",
    "    [1,2,3],\n",
    "    [4,5,6]\n",
    "]\n",
    "print_reverse(matrix1) \n",
    "\n",
    "print('Testing printing matrix2 reverse')\n",
    "matrix2 = [ \n",
    "    [2,8,10,12],\n",
    "    [1,2,3,4],\n",
    "    [5,6,7,8]\n",
    "]\n",
    "print_reverse(matrix2) \n"
   ]
  },
  {
   "cell_type": "code",
   "execution_count": 7,
   "metadata": {},
   "outputs": [
    {
     "name": "stdout",
     "output_type": "stream",
     "text": [
      "Testing printing matrix1 reverse\n",
      "6 5 4 \n",
      "3 2 1 \n",
      "Testing printing matrix2 reverse\n",
      "8 7 6 5 \n",
      "4 3 2 1 \n",
      "12 10 8 2 \n"
     ]
    }
   ],
   "source": [
    "'''\n",
    "Challenge#2\n",
    "'''\n",
    "\n",
    "#Write your function here:\n",
    "\n",
    "def print_reverse(matrix):    \n",
    "    for r in range(len(matrix)-1,-1,-1):\n",
    "        for c in range(len(matrix[0])-1,-1,-1):\n",
    "            print(matrix[r][c],end=' ')\n",
    "        print()\n",
    "\n",
    "        \n",
    "#Test your function:\n",
    "\n",
    "print('Testing printing matrix1 reverse')\n",
    "matrix1 = [ \n",
    "    [1,2,3],\n",
    "    [4,5,6]\n",
    "]\n",
    "print_reverse(matrix1) \n",
    "\n",
    "print('Testing printing matrix2 reverse')\n",
    "matrix2 = [ \n",
    "    [2,8,10,12],\n",
    "    [1,2,3,4],\n",
    "    [5,6,7,8]\n",
    "]\n",
    "print_reverse(matrix2) \n"
   ]
  },
  {
   "cell_type": "code",
   "execution_count": 16,
   "metadata": {},
   "outputs": [
    {
     "data": {
      "image/png": "[encoded data removed]",
      "text/plain": [
       "<PIL.Image.Image image mode=RGB size=200x200 at 0x7FEEC2D3B6A0>"
      ]
     },
     "metadata": {},
     "output_type": "display_data"
    }
   ],
   "source": [
    "'''\n",
    "Challenge#4\n",
    "'''\n",
    "image = Image.new(mode = \"RGB\", size = (200, 200))\n",
    "\n",
    "pixels_2D = np.array(image)  #convert to 2D list\n",
    "rows = len(pixels_2D)\n",
    "cols = len(pixels_2D[0])\n",
    "\n",
    "red=255\n",
    "green=0\n",
    "blue=255\n",
    "for r in range(rows):\n",
    "    for c in range(cols):\n",
    "        pixels_2D[r][c] = [red,green,blue]\n",
    "    red -= 1\n",
    "    \n",
    "            \n",
    "        \n",
    "image = Image.fromarray(pixels_2D)\n",
    "display(image)"
   ]
  },
  {
   "cell_type": "code",
   "execution_count": 13,
   "metadata": {},
   "outputs": [
    {
     "data": {
      "image/png": "[encoded data removed]",
      "text/plain": [
       "<PIL.Image.Image image mode=RGB size=200x200 at 0x7FEEC2D340B8>"
      ]
     },
     "metadata": {},
     "output_type": "display_data"
    }
   ],
   "source": [
    "'''\n",
    "Challenge#3\n",
    "'''\n",
    "image = Image.new(mode = \"RGB\", size = (200, 200))\n",
    "\n",
    "pixels_2D = np.array(image)  #convert to 2D list\n",
    "rows = len(pixels_2D)\n",
    "cols = len(pixels_2D[0])\n",
    "\n",
    "for r in range(rows):\n",
    "    for c in range(cols):\n",
    "        random_num = random.randint(0,2)\n",
    "        if random_num == 0:\n",
    "            pixels_2D[r][c] = [255,0,0]\n",
    "        elif random_num == 1:\n",
    "            pixels_2D[r][c] = [0,255,0]\n",
    "        else:\n",
    "            pixels_2D[r][c] = [0,0,255]\n",
    "            \n",
    "        \n",
    "image = Image.fromarray(pixels_2D)\n",
    "display(image)"
   ]
  },
  {
   "cell_type": "code",
   "execution_count": null,
   "metadata": {},
   "outputs": [],
   "source": []
  }
 ],
 "metadata": {
  "kernelspec": {
   "display_name": "Python 3",
   "language": "python",
   "name": "python3"
  },
  "language_info": {
   "codemirror_mode": {
    "name": "ipython",
    "version": 3
   },
   "file_extension": ".py",
   "mimetype": "text/x-python",
   "name": "python",
   "nbconvert_exporter": "python",
   "pygments_lexer": "ipython3",
   "version": "3.6.9"
  }
 },
 "nbformat": 4,
 "nbformat_minor": 2
}
