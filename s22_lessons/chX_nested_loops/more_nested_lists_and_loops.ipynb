{
 "cells": [
  {
   "cell_type": "code",
   "execution_count": null,
   "metadata": {},
   "outputs": [],
   "source": [
    "#1 dimensional list of grades\n",
    "num_grades = 3\n",
    "grades_1D = []\n",
    "\n",
    "for g in range(num_grades):\n",
    "    next_grade = int(input('enter grade#{}:'.format(g+1)))\n",
    "    grades_1D.append(next_grade)\n",
    "    \n",
    "print(grades_1D)"
   ]
  },
  {
   "cell_type": "code",
   "execution_count": null,
   "metadata": {},
   "outputs": [],
   "source": [
    "#2 nested list of grades.  \n",
    "#Each row represents the grades for a student (2 students, 3 grades per student)\n",
    "\n",
    "num_students = 2\n",
    "num_grades = 3\n",
    "grades_2D = []\n",
    "\n",
    "#get grades for next student\n",
    "for s in range(num_students):\n",
    "    grades_2D.append([])  #add a new empty list to represent the student.\n",
    "    print('adding grades for student#{}'.format(s+1))\n",
    "    for g in range(num_grades):\n",
    "        next_grade = int(input('enter grade#{}:'.format(g+1)))\n",
    "        grades_2D[s].append(next_grade)\n",
    "\n",
    "print(grades_2D)"
   ]
  },
  {
   "cell_type": "code",
   "execution_count": null,
   "metadata": {},
   "outputs": [],
   "source": [
    "#we can also create a 1D list of a fixed size with 0 for all grades\n",
    "num_grades = 3\n",
    "grades_1D_fixed_size = [0]*num_grades\n",
    "print(grades_1D_fixed_size)\n",
    "\n",
    "#use indexing to reassign the grades\n",
    "for g in range(num_grades):\n",
    "    next_grade = int(input('enter grade#{}:'.format(g+1)))\n",
    "    grades_1D_fixed_size[g] = next_grade\n",
    "    \n",
    "print(grades_1D_fixed_size)"
   ]
  },
  {
   "cell_type": "code",
   "execution_count": null,
   "metadata": {},
   "outputs": [],
   "source": [
    "#we can create a 2D fixed size list with 3 rows of 0 for each grade\n",
    "\n",
    "num_students = 2\n",
    "num_grades = 3\n",
    "grades_2D_fixed_size = [[0]*num_grades for n in range(num_students)]\n",
    "print(grades_2D_fixed_size)\n",
    "\n",
    "#use row/column indexing to reassign the grades\n",
    "for s in range(num_students):\n",
    "    print('adding grades for student#{}'.format(s+1))\n",
    "    for g in range(num_grades):\n",
    "        next_grade = int(input('enter grade#{}:'.format(g+1)))\n",
    "        grades_2D_fixed_size[s][g]=next_grade\n",
    "\n",
    "print(grades_2D_fixed_size)"
   ]
  },
  {
   "cell_type": "code",
   "execution_count": null,
   "metadata": {},
   "outputs": [],
   "source": []
  }
 ],
 "metadata": {
  "kernelspec": {
   "display_name": "Python 3",
   "language": "python",
   "name": "python3"
  },
  "language_info": {
   "codemirror_mode": {
    "name": "ipython",
    "version": 3
   },
   "file_extension": ".py",
   "mimetype": "text/x-python",
   "name": "python",
   "nbconvert_exporter": "python",
   "pygments_lexer": "ipython3",
   "version": "3.6.9"
  }
 },
 "nbformat": 4,
 "nbformat_minor": 2
}
