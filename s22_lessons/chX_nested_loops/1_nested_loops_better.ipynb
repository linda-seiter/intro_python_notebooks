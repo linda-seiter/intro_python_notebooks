{
 "cells": [
  {
   "cell_type": "code",
   "execution_count": 2,
   "metadata": {},
   "outputs": [
    {
     "name": "stdout",
     "output_type": "stream",
     "text": [
      "5\n",
      "6\n",
      "7\n",
      "8\n",
      "9\n",
      "10\n",
      "10\n",
      "9\n",
      "8\n",
      "7\n",
      "6\n",
      "5\n"
     ]
    }
   ],
   "source": [
    "#print the numbers 5 to 10\n",
    "for i in range(5, 11):\n",
    "    print(i)\n",
    "\n",
    "#print the numbers 10 to 5\n",
    "for i in range(10, 4, -1):\n",
    "    print(i)\n"
   ]
  },
  {
   "cell_type": "code",
   "execution_count": 3,
   "metadata": {},
   "outputs": [
    {
     "name": "stdout",
     "output_type": "stream",
     "text": [
      "hi fred\n",
      "hi sue\n",
      "hi al\n",
      "hi joe\n",
      "hi herb\n"
     ]
    }
   ],
   "source": [
    "name_list = ['fred',  'sue', 'al', 'joe', 'herb']\n",
    "for name in name_list: \n",
    "    print('hi', name)"
   ]
  },
  {
   "cell_type": "code",
   "execution_count": 5,
   "metadata": {},
   "outputs": [
    {
     "name": "stdout",
     "output_type": "stream",
     "text": [
      "sue\n",
      "al\n",
      "joe\n"
     ]
    }
   ],
   "source": [
    "#print names in positions 1 through 3\n",
    "for i in range(1,4):\n",
    "    print(name_list[i])"
   ]
  },
  {
   "cell_type": "code",
   "execution_count": 13,
   "metadata": {},
   "outputs": [
    {
     "name": "stdout",
     "output_type": "stream",
     "text": [
      "1,1      1,2      1,3      1,4      \n",
      "2,1      2,2      2,3      2,4      \n",
      "3,1      3,2      3,3      3,4      \n"
     ]
    }
   ],
   "source": [
    "for row in range(1,4): \n",
    "    for col in range(1,5):  \n",
    "        print('{},{}'.format(row, col), end='      ')\n",
    "    print()\n"
   ]
  },
  {
   "cell_type": "code",
   "execution_count": 8,
   "metadata": {},
   "outputs": [
    {
     "name": "stdout",
     "output_type": "stream",
     "text": [
      "1 2 3 4 \n",
      "2 4 6 8 \n",
      "3 6 9 12 \n"
     ]
    }
   ],
   "source": [
    "for row in range(1,4): \n",
    "    for col in range(1,5):  \n",
    "        print(row*col,end=' ')\n",
    "    print()  #start a new row on new line\n"
   ]
  },
  {
   "cell_type": "code",
   "execution_count": 16,
   "metadata": {},
   "outputs": [
    {
     "name": "stdout",
     "output_type": "stream",
     "text": [
      "A1 B1 C1 D1 \n",
      "A2 B2 C2 D2 \n",
      "A3 B3 C3 D3 \n"
     ]
    }
   ],
   "source": [
    "letters = ['A','B','C','D']\n",
    "for row in range(1,4):  #row=1..3\n",
    "    for col in letters:  #col=A,B,C,D\n",
    "        print('{}{}'.format(col,row),end=' ')\n",
    "    print()  #start a new row on new line\n"
   ]
  },
  {
   "cell_type": "code",
   "execution_count": 19,
   "metadata": {},
   "outputs": [
    {
     "name": "stdout",
     "output_type": "stream",
     "text": [
      "*!\n",
      "**!\n",
      "***!\n"
     ]
    }
   ],
   "source": [
    "\n",
    "for row in range(1,4):  #row=1..3\n",
    "    for col in range(row):  \n",
    "        print('*', end = '')\n",
    "    print('!')  #start a new row on new line\n"
   ]
  },
  {
   "cell_type": "code",
   "execution_count": 3,
   "metadata": {},
   "outputs": [
    {
     "name": "stdout",
     "output_type": "stream",
     "text": [
      "pizza ordered 3 times\n",
      "wings ordered 5 times\n",
      "burger ordered 6 times\n",
      "ice cream ordered 6 times\n"
     ]
    }
   ],
   "source": [
    "menu_items = ['pizza', 'wings', 'burger','ice cream']\n",
    "freds_weekly_orders = ['wings', 'pizza', 'pizza', 'burger', 'pizza', 'wings']\n",
    "\n",
    "for food in menu_items:\n",
    "    count=0\n",
    "    for order in freds_weekly_orders:\n",
    "        if order == food:\n",
    "            count += 1\n",
    "    print('{} ordered {} times'.format(food,count))\n"
   ]
  },
  {
   "cell_type": "code",
   "execution_count": 1,
   "metadata": {},
   "outputs": [],
   "source": [
    "from ipycanvas import Canvas"
   ]
  },
  {
   "cell_type": "code",
   "execution_count": 2,
   "metadata": {},
   "outputs": [
    {
     "data": {
      "application/vnd.jupyter.widget-view+json": {
       "model_id": "5f1e02aa189849ec8f5a21a1fc3da6be",
       "version_major": 2,
       "version_minor": 0
      },
      "text/plain": [
       "Canvas(height=400, width=400)"
      ]
     },
     "metadata": {},
     "output_type": "display_data"
    }
   ],
   "source": [
    "canvas = Canvas(width=400, height=400)\n",
    "display(canvas)\n",
    "\n",
    "square_size=50\n",
    "horiz_space=25\n",
    "\n",
    "for col in range(4):\n",
    "    canvas.fill_rect((square_size+horiz_space)*col,0,square_size,square_size)"
   ]
  },
  {
   "cell_type": "code",
   "execution_count": 4,
   "metadata": {},
   "outputs": [
    {
     "data": {
      "application/vnd.jupyter.widget-view+json": {
       "model_id": "7865ea428b684c2c902ccdb3e39b93a5",
       "version_major": 2,
       "version_minor": 0
      },
      "text/plain": [
       "Canvas(height=400, width=400)"
      ]
     },
     "metadata": {},
     "output_type": "display_data"
    }
   ],
   "source": [
    "canvas = Canvas(width=400, height=400)\n",
    "display(canvas)\n",
    "\n",
    "square_size=50\n",
    "horiz_space=25\n",
    "vert_space = 10\n",
    "\n",
    "for row in range(3):\n",
    "    for col in range(4):\n",
    "        canvas.fill_rect((square_size+horiz_space)*col,\n",
    "                         (square_size+vert_space)*row,\n",
    "                         square_size,square_size)"
   ]
  },
  {
   "cell_type": "code",
   "execution_count": 5,
   "metadata": {},
   "outputs": [
    {
     "data": {
      "application/vnd.jupyter.widget-view+json": {
       "model_id": "8b816db2c3e944b18f736885214d7f85",
       "version_major": 2,
       "version_minor": 0
      },
      "text/plain": [
       "Canvas(height=400, width=400)"
      ]
     },
     "metadata": {},
     "output_type": "display_data"
    }
   ],
   "source": [
    "canvas = Canvas(width=400, height=400)\n",
    "display(canvas)\n",
    "\n",
    "square_size=20\n",
    "horiz_space=25\n",
    "vert_space=10\n",
    "x=0\n",
    "y=0\n",
    "\n",
    "for row in range(3):\n",
    "    for col in range(canvas.width//(square_size+horiz_space)):\n",
    "        if col % 2 == 0:\n",
    "            canvas.fill_style = 'red'\n",
    "        else:\n",
    "            canvas.fill_style = 'blue'\n",
    "        canvas.fill_rect(x,y,square_size,square_size)\n",
    "        x += square_size + horiz_space\n",
    "    y += square_size + vert_space\n",
    "    x = 0"
   ]
  },
  {
   "cell_type": "code",
   "execution_count": 6,
   "metadata": {},
   "outputs": [
    {
     "data": {
      "application/vnd.jupyter.widget-view+json": {
       "model_id": "1b79c58ac5f24bafa51e403ac4bddd98",
       "version_major": 2,
       "version_minor": 0
      },
      "text/plain": [
       "Canvas(height=400, width=400)"
      ]
     },
     "metadata": {},
     "output_type": "display_data"
    }
   ],
   "source": [
    "canvas = Canvas(width=400, height=400)\n",
    "display(canvas)\n",
    "\n",
    "square_size=20\n",
    "horiz_space=25\n",
    "vert_space=10\n",
    "x=0\n",
    "y=0\n",
    "\n",
    "for row in range(4):\n",
    "    for col in range(4):\n",
    "        if row == col:\n",
    "            canvas.fill_style = 'red'\n",
    "        else:\n",
    "            canvas.fill_style = 'blue'\n",
    "        canvas.fill_rect(x,y,square_size,square_size)\n",
    "        x += square_size + horiz_space\n",
    "    y += square_size + vert_space\n",
    "    x = 0"
   ]
  },
  {
   "cell_type": "code",
   "execution_count": null,
   "metadata": {},
   "outputs": [],
   "source": []
  }
 ],
 "metadata": {
  "kernelspec": {
   "display_name": "Python 3",
   "language": "python",
   "name": "python3"
  },
  "language_info": {
   "codemirror_mode": {
    "name": "ipython",
    "version": 3
   },
   "file_extension": ".py",
   "mimetype": "text/x-python",
   "name": "python",
   "nbconvert_exporter": "python",
   "pygments_lexer": "ipython3",
   "version": "3.6.9"
  }
 },
 "nbformat": 4,
 "nbformat_minor": 2
}
