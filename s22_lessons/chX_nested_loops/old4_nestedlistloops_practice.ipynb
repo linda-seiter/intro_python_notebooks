{
 "cells": [
  {
   "cell_type": "code",
   "execution_count": null,
   "metadata": {},
   "outputs": [],
   "source": [
    "from PIL import Image               # to load images\n",
    "from IPython.display import display # to display images\n",
    "import numpy as np\n",
    "import random\n"
   ]
  },
  {
   "cell_type": "code",
   "execution_count": null,
   "metadata": {},
   "outputs": [],
   "source": [
    "'''\n",
    "Challenge#1 \n",
    "'''\n",
    "#Write your function here:\n",
    "\n",
    "        \n",
    "#Test your function:\n",
    "\n",
    "print('Testing printing matrix1 reverse')\n",
    "matrix1 = [ \n",
    "    [1,2,3],\n",
    "    [4,5,6]\n",
    "]\n",
    "print_reverse(matrix1) \n",
    "\n",
    "print('Testing printing matrix2 reverse')\n",
    "matrix2 = [ \n",
    "    [2,8,10,12],\n",
    "    [1,2,3,4],\n",
    "    [5,6,7,8]\n",
    "]\n",
    "print_reverse(matrix2) \n"
   ]
  },
  {
   "cell_type": "code",
   "execution_count": null,
   "metadata": {},
   "outputs": [],
   "source": [
    "'''\n",
    "Challenge#2\n",
    "'''\n",
    "\n",
    "#Write your function here:\n",
    "\n",
    "      \n",
    "#Test your function:\n",
    "\n",
    "print('Testing printing matrix1 reverse')\n",
    "matrix1 = [ \n",
    "    [1,2,3],\n",
    "    [4,5,6]\n",
    "]\n",
    "print_reverse(matrix1) \n",
    "\n",
    "print('Testing printing matrix2 reverse')\n",
    "matrix2 = [ \n",
    "    [2,8,10,12],\n",
    "    [1,2,3,4],\n",
    "    [5,6,7,8]\n",
    "]\n",
    "print_reverse(matrix2) \n"
   ]
  },
  {
   "cell_type": "code",
   "execution_count": null,
   "metadata": {},
   "outputs": [],
   "source": [
    "'''\n",
    "Challenge#3\n",
    "'''\n",
    "\n",
    "\n"
   ]
  },
  {
   "cell_type": "code",
   "execution_count": null,
   "metadata": {},
   "outputs": [],
   "source": [
    "'''\n",
    "Challenge#4\n",
    "'''\n"
   ]
  },
  {
   "cell_type": "code",
   "execution_count": null,
   "metadata": {},
   "outputs": [],
   "source": []
  }
 ],
 "metadata": {
  "kernelspec": {
   "display_name": "Python 3",
   "language": "python",
   "name": "python3"
  },
  "language_info": {
   "codemirror_mode": {
    "name": "ipython",
    "version": 3
   },
   "file_extension": ".py",
   "mimetype": "text/x-python",
   "name": "python",
   "nbconvert_exporter": "python",
   "pygments_lexer": "ipython3",
   "version": "3.6.9"
  }
 },
 "nbformat": 4,
 "nbformat_minor": 2
}
