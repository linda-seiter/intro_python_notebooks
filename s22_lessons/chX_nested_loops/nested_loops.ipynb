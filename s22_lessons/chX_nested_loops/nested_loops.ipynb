{
 "cells": [
  {
   "cell_type": "code",
   "execution_count": 1,
   "metadata": {},
   "outputs": [],
   "source": [
    "from ipycanvas import Canvas"
   ]
  },
  {
   "cell_type": "code",
   "execution_count": 67,
   "metadata": {},
   "outputs": [
    {
     "name": "stdout",
     "output_type": "stream",
     "text": [
      "a\n",
      "97\n",
      "a\n"
     ]
    }
   ],
   "source": [
    "letter = 'a'\n",
    "print(letter)\n",
    "print(ord(letter))  #ordinal value for letter\n",
    "print(chr(ord(letter)))  #convert from ordinal value back to character"
   ]
  },
  {
   "cell_type": "code",
   "execution_count": 68,
   "metadata": {},
   "outputs": [
    {
     "name": "stdout",
     "output_type": "stream",
     "text": [
      "a\n",
      "b\n",
      "c\n",
      "d\n",
      "e\n"
     ]
    }
   ],
   "source": [
    "letter = 'a'\n",
    "while letter < 'f':\n",
    "    print (letter)\n",
    "    letter = chr(ord(letter) + 1)"
   ]
  },
  {
   "cell_type": "code",
   "execution_count": 79,
   "metadata": {},
   "outputs": [
    {
     "name": "stdout",
     "output_type": "stream",
     "text": [
      "abcde\n"
     ]
    }
   ],
   "source": [
    "letter = 'a'\n",
    "word=''\n",
    "while letter < 'f':\n",
    "    word += letter\n",
    "    letter = chr(ord(letter) + 1)\n",
    "    \n",
    "print(word)"
   ]
  },
  {
   "cell_type": "code",
   "execution_count": null,
   "metadata": {},
   "outputs": [],
   "source": []
  },
  {
   "cell_type": "code",
   "execution_count": 69,
   "metadata": {},
   "outputs": [
    {
     "name": "stdout",
     "output_type": "stream",
     "text": [
      "0\n",
      "1\n",
      "2\n"
     ]
    }
   ],
   "source": [
    "#i=0,1,2\n",
    "for i in range(3):\n",
    "    print(i)"
   ]
  },
  {
   "cell_type": "code",
   "execution_count": 70,
   "metadata": {},
   "outputs": [
    {
     "name": "stdout",
     "output_type": "stream",
     "text": [
      "i=0,j=0\n",
      "i=0,j=1\n",
      "i=0,j=2\n",
      "i=0,j=3\n",
      "i=1,j=0\n",
      "i=1,j=1\n",
      "i=1,j=2\n",
      "i=1,j=3\n",
      "i=2,j=0\n",
      "i=2,j=1\n",
      "i=2,j=2\n",
      "i=2,j=3\n"
     ]
    }
   ],
   "source": [
    "#i=0,1,2\n",
    "for i in range(3):\n",
    "    #j=0,1,2,3\n",
    "    for j in range(4):\n",
    "        print('i={},j={}'.format(i,j))\n"
   ]
  },
  {
   "cell_type": "code",
   "execution_count": 71,
   "metadata": {},
   "outputs": [
    {
     "name": "stdout",
     "output_type": "stream",
     "text": [
      "i=1,j=1\n",
      "i=1,j=2\n",
      "i=1,j=3\n",
      "i=1,j=4\n",
      "i=2,j=1\n",
      "i=2,j=2\n",
      "i=2,j=3\n",
      "i=2,j=4\n",
      "i=3,j=1\n",
      "i=3,j=2\n",
      "i=3,j=3\n",
      "i=3,j=4\n"
     ]
    }
   ],
   "source": [
    "#i=1,2,3\n",
    "for i in range(1,4):\n",
    "    #j=1,2,3,4\n",
    "    for j in range(1,5):\n",
    "        print('i={},j={}'.format(i,j))\n"
   ]
  },
  {
   "cell_type": "code",
   "execution_count": 72,
   "metadata": {},
   "outputs": [
    {
     "name": "stdout",
     "output_type": "stream",
     "text": [
      "*!\n",
      "**!\n",
      "***!\n",
      "****!\n",
      "*****!\n"
     ]
    }
   ],
   "source": [
    "for line in range(5):\n",
    "    for star in range(line+1):\n",
    "        print('*',end='')\n",
    "    print('!')  #outer loop"
   ]
  },
  {
   "cell_type": "code",
   "execution_count": 73,
   "metadata": {},
   "outputs": [
    {
     "name": "stdout",
     "output_type": "stream",
     "text": [
      "   5  10  15  20  25  30  35  40  45  50"
     ]
    }
   ],
   "source": [
    "factor=5\n",
    "for n in range(1, 11): \n",
    "    print('{:4}'.format(n*factor), end = '')\n",
    "     "
   ]
  },
  {
   "cell_type": "code",
   "execution_count": 74,
   "metadata": {},
   "outputs": [
    {
     "name": "stdout",
     "output_type": "stream",
     "text": [
      "   1   2   3   4   5\n",
      "   2   4   6   8  10\n",
      "   3   6   9  12  15\n",
      "   4   8  12  16  20\n",
      "   5  10  15  20  25\n",
      "   6  12  18  24  30\n",
      "\n",
      "   1   2   3   4   5   6   7   8   9  10\n",
      "   2   4   6   8  10  12  14  16  18  20\n",
      "   3   6   9  12  15  18  21  24  27  30\n",
      "   4   8  12  16  20  24  28  32  36  40\n",
      "   5  10  15  20  25  30  35  40  45  50\n"
     ]
    }
   ],
   "source": [
    "def mult_table(column, row):\n",
    "    for r in range(1, row+1): \n",
    "        for c in range(1, column+1): \n",
    "            print('{:4}'.format(r*c), end = '')\n",
    "        print()\n",
    "        \n",
    "mult_table(5, 6)\n",
    "print()\n",
    "mult_table(10,5)\n"
   ]
  },
  {
   "cell_type": "code",
   "execution_count": 75,
   "metadata": {},
   "outputs": [
    {
     "data": {
      "application/vnd.jupyter.widget-view+json": {
       "model_id": "918ce55043d849848c5995f803b70537",
       "version_major": 2,
       "version_minor": 0
      },
      "text/plain": [
       "Canvas(height=200, width=200)"
      ]
     },
     "metadata": {},
     "output_type": "display_data"
    }
   ],
   "source": [
    "canvas = Canvas(width=200, height=200)\n",
    "display(canvas)\n",
    "\n",
    "size=50\n",
    "num_squares=canvas.width//size\n",
    "x=0\n",
    "y=0\n",
    "for row in range(num_squares):\n",
    "    for col in range(num_squares):\n",
    "          canvas.fill_style='red'\n",
    "          canvas.fill_rect(x, y, size, size)\n",
    "          canvas.stroke_style='black'\n",
    "          canvas.stroke_rect(x, y, size, size)\n",
    "          x += size\n",
    "    #new row\n",
    "    x=0\n",
    "    y+=size\n"
   ]
  },
  {
   "cell_type": "code",
   "execution_count": 76,
   "metadata": {},
   "outputs": [
    {
     "data": {
      "application/vnd.jupyter.widget-view+json": {
       "model_id": "b0cf120dfd9f4b6c9e4ec06c5fe67289",
       "version_major": 2,
       "version_minor": 0
      },
      "text/plain": [
       "Canvas(height=200, width=200)"
      ]
     },
     "metadata": {},
     "output_type": "display_data"
    }
   ],
   "source": [
    "canvas = Canvas(width=200, height=200)\n",
    "display(canvas)\n",
    "\n",
    "size=50\n",
    "num_squares=canvas.width//size\n",
    "for row in range(num_squares):\n",
    "    for col in range(num_squares):\n",
    "          canvas.fill_style='red'\n",
    "          canvas.fill_rect(col*size, row*size, size, size)\n",
    "          canvas.stroke_style='black'\n",
    "          canvas.stroke_rect(col*size, row*size, size, size)\n"
   ]
  },
  {
   "cell_type": "code",
   "execution_count": 3,
   "metadata": {},
   "outputs": [
    {
     "data": {
      "application/vnd.jupyter.widget-view+json": {
       "model_id": "4306a3a42c364deb9815fca4ea3427d6",
       "version_major": 2,
       "version_minor": 0
      },
      "text/plain": [
       "Canvas(height=200, width=200)"
      ]
     },
     "metadata": {},
     "output_type": "display_data"
    }
   ],
   "source": [
    "canvas = Canvas(width=200, height=200)\n",
    "display(canvas)\n",
    "\n",
    "size=50\n",
    "\n",
    "for y in range(0,canvas.height,size):\n",
    "    for x in range(0,canvas.width,size):\n",
    "          canvas.fill_style='red'\n",
    "          canvas.fill_rect(x,y, size, size)\n",
    "          canvas.stroke_style='black'\n",
    "          canvas.stroke_rect(x,y, size, size)\n"
   ]
  },
  {
   "cell_type": "code",
   "execution_count": 77,
   "metadata": {},
   "outputs": [
    {
     "data": {
      "application/vnd.jupyter.widget-view+json": {
       "model_id": "2043429c561145e9889b96d65466af5b",
       "version_major": 2,
       "version_minor": 0
      },
      "text/plain": [
       "Canvas(height=200, width=200)"
      ]
     },
     "metadata": {},
     "output_type": "display_data"
    }
   ],
   "source": [
    "canvas = Canvas(width=200, height=200)\n",
    "display(canvas)\n",
    "\n",
    "size=50\n",
    "num_squares=canvas.width//size\n",
    "x=0\n",
    "y=0\n",
    "for row in range(num_squares):\n",
    "    for col in range(num_squares):\n",
    "        if row==col:\n",
    "            canvas.fill_style='red'\n",
    "        else:\n",
    "            canvas.fill_style='white'\n",
    "        canvas.fill_rect(x, y, size, size)\n",
    "        canvas.stroke_style='black'\n",
    "        canvas.stroke_rect(x, y, size, size)\n",
    "        x += size\n",
    "    #new row\n",
    "    x=0\n",
    "    y+=size\n"
   ]
  },
  {
   "cell_type": "code",
   "execution_count": 78,
   "metadata": {},
   "outputs": [
    {
     "data": {
      "application/vnd.jupyter.widget-view+json": {
       "model_id": "47f635ca53ee4cb28a00d60cc0611dc1",
       "version_major": 2,
       "version_minor": 0
      },
      "text/plain": [
       "Canvas(height=200, width=200)"
      ]
     },
     "metadata": {},
     "output_type": "display_data"
    }
   ],
   "source": [
    "canvas = Canvas(width=200, height=200)\n",
    "display(canvas)\n",
    "\n",
    "size=50\n",
    "num_squares=canvas.width//size\n",
    "x=0\n",
    "y=0\n",
    "for row in range(num_squares):\n",
    "    for col in range(num_squares):\n",
    "        if (row+col) %2 == 0:\n",
    "            canvas.fill_style='red'\n",
    "        else:\n",
    "            canvas.fill_style='white'\n",
    "        canvas.fill_rect(x, y, size, size)\n",
    "        canvas.stroke_style='black'\n",
    "        canvas.stroke_rect(x, y, size, size)\n",
    "        x += size\n",
    "    #new row\n",
    "    x=0\n",
    "    y+=size\n"
   ]
  }
 ],
 "metadata": {
  "kernelspec": {
   "display_name": "Python 3",
   "language": "python",
   "name": "python3"
  },
  "language_info": {
   "codemirror_mode": {
    "name": "ipython",
    "version": 3
   },
   "file_extension": ".py",
   "mimetype": "text/x-python",
   "name": "python",
   "nbconvert_exporter": "python",
   "pygments_lexer": "ipython3",
   "version": "3.6.9"
  }
 },
 "nbformat": 4,
 "nbformat_minor": 2
}
