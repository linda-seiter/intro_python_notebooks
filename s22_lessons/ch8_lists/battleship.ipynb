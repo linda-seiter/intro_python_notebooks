{
 "cells": [
  {
   "cell_type": "code",
   "execution_count": null,
   "metadata": {},
   "outputs": [],
   "source": [
    "list1 = ['a','b','c']\n",
    "print(list1)\n",
    "print('a' in list1)\n",
    "if 'a' in list1:\n",
    "    list1.remove('a')\n",
    "print(list1)\n",
    "\n",
    "list2 = [\n",
    "        ['a','b'],\n",
    "        ['c','d']\n",
    "    ]\n",
    "print(list2)\n",
    "print(['c','d'] in list2)\n",
    "if ['c','d'] in list2:\n",
    "    list2.remove(['c','d'])\n",
    "print(list2)\n"
   ]
  },
  {
   "cell_type": "code",
   "execution_count": null,
   "metadata": {},
   "outputs": [],
   "source": [
    "import random\n",
    "\n",
    "def build_board(size) :\n",
    "    newboard = []\n",
    "    row = []\n",
    "    for r in range(size):\n",
    "        row = []\n",
    "        for c in range(size):\n",
    "            row.append('?')\n",
    "        newboard.append(row)\n",
    "    return newboard\n",
    "\n",
    "\n",
    "def print_board(str,board) :\n",
    "    print(str)\n",
    "    for row in board:\n",
    "        for col in row:\n",
    "            print(col, end=' ')\n",
    "        print()\n",
    "    print()\n",
    "\n",
    "\n",
    "def place_ship(size) :\n",
    "    ship_length = size//2  #ship is half width, or could be random\n",
    "    rand_row = random.randint(0,size-1)\n",
    "    rand_col = random.randint(0,size-ship_length)  #start position of ship \n",
    "    ship_coords = [ ]\n",
    "    for i in range(ship_length):\n",
    "            ship_coords.append([rand_row, rand_col + i])\n",
    "       \n",
    "    return ship_coords\n",
    "\n",
    "def update_board(coords, board, chr):\n",
    "    #assume matrix\n",
    "    if (coords[0] >= 0 and coords[0] < len(board) and \n",
    "        coords[1] >= 0 and coords[1] < len(board)):\n",
    "        board[coords[0]][coords[1]] = chr\n",
    "    else:\n",
    "        print('Invalid coordinates:',coords)\n",
    "\n",
    "#main algorithm\n",
    "board = build_board(4)\n",
    "print_board('Initial board', board)\n",
    "ship_coords = place_ship(len(board))\n",
    "\n",
    "print('secret ship coordinates', ship_coords)\n",
    "\n",
    "num_guesses = 0\n",
    "while (len(ship_coords) > 0 and num_guesses < 5):\n",
    "    num_guesses += 1\n",
    "    guess_str = input('guess a coordinate(row,col):')\n",
    "    guess_coord = list(map(int,guess_str.split(',')))\n",
    "    print(guess_coord)\n",
    "    if guess_coord in ship_coords:\n",
    "        update_board(guess_coord, board,'+') #hit\n",
    "        print_board('hit', board)\n",
    "        ship_coords.remove(guess_coord)\n",
    "        print('secret ship coordinates', ship_coords)\n",
    "    else:\n",
    "        update_board(guess_coord, board, '-')  #miss\n",
    "        print_board('miss', board)\n",
    "        print('secret ship coordinates', ship_coords)\n",
    "\n",
    "if len(ship_coords) == 0:\n",
    "    print('You sank my battleship!')\n",
    "else:\n",
    "    print('You are out of guesses')"
   ]
  },
  {
   "cell_type": "code",
   "execution_count": 12,
   "metadata": {},
   "outputs": [
    {
     "name": "stdout",
     "output_type": "stream",
     "text": [
      "['0', '0', '0', '0']\n",
      "['0', '0', '0', '0']\n",
      "[['a', 'b', 'c'], ['a', 'b', 'c'], ['a', 'b', 'c']]\n",
      "[['0', '0', '0', '0'], ['0', '0', '0', '0'], ['0', '0', '0', '0'], ['0', '0', '0', '0']]\n"
     ]
    }
   ],
   "source": [
    "\n",
    "row = []\n",
    "for i in range(4):\n",
    "    row.append('0')\n",
    "print(row)\n",
    "\n",
    "\n",
    "\n",
    "#another way to do this\n",
    "row = 4 * ['0']\n",
    "print(row)\n",
    "\n",
    "list1d = ['a','b','c']\n",
    "list2d = 3 * [list1d]\n",
    "print(list2d)\n",
    "board = 4 * [4 * ['0']] \n",
    "print (board)"
   ]
  },
  {
   "cell_type": "code",
   "execution_count": null,
   "metadata": {},
   "outputs": [],
   "source": []
  }
 ],
 "metadata": {
  "kernelspec": {
   "display_name": "Python 3",
   "language": "python",
   "name": "python3"
  },
  "language_info": {
   "codemirror_mode": {
    "name": "ipython",
    "version": 3
   },
   "file_extension": ".py",
   "mimetype": "text/x-python",
   "name": "python",
   "nbconvert_exporter": "python",
   "pygments_lexer": "ipython3",
   "version": "3.6.9"
  }
 },
 "nbformat": 4,
 "nbformat_minor": 2
}
