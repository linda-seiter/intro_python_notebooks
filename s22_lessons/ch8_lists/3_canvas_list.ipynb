{
 "cells": [
  {
   "cell_type": "code",
   "execution_count": 1,
   "metadata": {},
   "outputs": [],
   "source": [
    "from ipycanvas import Canvas\n",
    "from ipywidgets import Image\n",
    "import random\n",
    "from time import sleep\n"
   ]
  },
  {
   "cell_type": "code",
   "execution_count": 6,
   "metadata": {},
   "outputs": [
    {
     "data": {
      "application/vnd.jupyter.widget-view+json": {
       "model_id": "7fceb548731a40d898af41ab906a5323",
       "version_major": 2,
       "version_minor": 0
      },
      "text/plain": [
       "Canvas(height=200, width=200)"
      ]
     },
     "metadata": {},
     "output_type": "display_data"
    }
   ],
   "source": [
    "#V1\n",
    "canvas = Canvas(width=200, height=200)\n",
    "display(canvas)\n",
    "canvas.stroke_rect(0,0,canvas.width, canvas.height)\n",
    "\n",
    "x = 50\n",
    "y = 10\n",
    "\n",
    "canvas.fill_circle(x, y, 5)\n",
    "    \n",
    "#loop 4 times to move circle random amount every 1 second\n",
    "for j in range(4):\n",
    "        sleep(1)\n",
    "        canvas.clear()\n",
    "        canvas.stroke_rect(0,0,canvas.width, canvas.height)\n",
    "        #generate random move amount, update y\n",
    "        y += random.randint(10,30)\n",
    "        canvas.fill_circle(x, y, 5)\n",
    "        canvas.fill_text(y,x+5,y)\n",
    "    "
   ]
  },
  {
   "cell_type": "code",
   "execution_count": null,
   "metadata": {},
   "outputs": [],
   "source": []
  }
 ],
 "metadata": {
  "kernelspec": {
   "display_name": "Python 3",
   "language": "python",
   "name": "python3"
  },
  "language_info": {
   "codemirror_mode": {
    "name": "ipython",
    "version": 3
   },
   "file_extension": ".py",
   "mimetype": "text/x-python",
   "name": "python",
   "nbconvert_exporter": "python",
   "pygments_lexer": "ipython3",
   "version": "3.6.9"
  }
 },
 "nbformat": 4,
 "nbformat_minor": 2
}
