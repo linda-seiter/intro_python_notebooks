{
 "cells": [
  {
   "cell_type": "code",
   "execution_count": 11,
   "metadata": {},
   "outputs": [
    {
     "name": "stdout",
     "output_type": "stream",
     "text": [
      "tests passed\n"
     ]
    }
   ],
   "source": [
    "def even_values(list) :\n",
    "    even_list = []\n",
    "    for item in list:\n",
    "        if item %2 == 0:\n",
    "            even_list.append(item)\n",
    "    return even_list\n",
    "\n",
    "assert(even_values([5,3,4,3,9,2,7,4]) == [4,2,4])\n",
    "assert(even_values([1,5,9]) == [])\n",
    "\n",
    "print('tests passed')"
   ]
  },
  {
   "cell_type": "code",
   "execution_count": 9,
   "metadata": {},
   "outputs": [
    {
     "name": "stdout",
     "output_type": "stream",
     "text": [
      "[5, 9, 2]\n",
      "[]\n",
      "tests passed\n"
     ]
    }
   ],
   "source": [
    "def unique_values(list) :\n",
    "    unique_list = []\n",
    "    for item in list:\n",
    "        if list.count(item) == 1:\n",
    "            unique_list.append(item)\n",
    "    return unique_list\n",
    "\n",
    "assert(unique_values([5,3,7,3,9,2,7]) == [5,9,2])\n",
    "assert(unique_values([1,1,1]) == [])\n",
    "\n",
    "print('tests passed')"
   ]
  },
  {
   "cell_type": "code",
   "execution_count": 10,
   "metadata": {},
   "outputs": [
    {
     "name": "stdout",
     "output_type": "stream",
     "text": [
      "tests passed\n"
     ]
    }
   ],
   "source": [
    "#a set does not have duplicates\n",
    "def set_of_values(list) :\n",
    "    value_set = []\n",
    "    for item in list:\n",
    "        if value_set.count(item) == 0:\n",
    "            value_set.append(item)  #add if not already in set\n",
    "    return value_set\n",
    "\n",
    "assert(set_of_values([5,3,7,3,9,2,7]) == [5,3,7,9,2])\n",
    "assert(set_of_values([1,1,1]) == [1])\n",
    "\n",
    "print('tests passed')"
   ]
  }
 ],
 "metadata": {
  "kernelspec": {
   "display_name": "Python 3",
   "language": "python",
   "name": "python3"
  },
  "language_info": {
   "codemirror_mode": {
    "name": "ipython",
    "version": 3
   },
   "file_extension": ".py",
   "mimetype": "text/x-python",
   "name": "python",
   "nbconvert_exporter": "python",
   "pygments_lexer": "ipython3",
   "version": "3.6.9"
  }
 },
 "nbformat": 4,
 "nbformat_minor": 2
}
