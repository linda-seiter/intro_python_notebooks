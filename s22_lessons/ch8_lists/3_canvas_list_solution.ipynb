{
 "cells": [
  {
   "cell_type": "code",
   "execution_count": 1,
   "metadata": {},
   "outputs": [],
   "source": [
    "from ipycanvas import Canvas\n",
    "from ipywidgets import Image\n",
    "import random\n",
    "from time import sleep\n"
   ]
  },
  {
   "cell_type": "code",
   "execution_count": 6,
   "metadata": {},
   "outputs": [
    {
     "data": {
      "application/vnd.jupyter.widget-view+json": {
       "model_id": "7fceb548731a40d898af41ab906a5323",
       "version_major": 2,
       "version_minor": 0
      },
      "text/plain": [
       "Canvas(height=200, width=200)"
      ]
     },
     "metadata": {},
     "output_type": "display_data"
    }
   ],
   "source": [
    "#V1\n",
    "canvas = Canvas(width=200, height=200)\n",
    "display(canvas)\n",
    "canvas.stroke_rect(0,0,canvas.width, canvas.height)\n",
    "\n",
    "x = 50\n",
    "y = 10\n",
    "\n",
    "canvas.fill_circle(x, y, 5)\n",
    "    \n",
    "#loop 4 times to move circle random amount every 1 second\n",
    "for j in range(4):\n",
    "        sleep(1)\n",
    "        canvas.clear()\n",
    "        canvas.stroke_rect(0,0,canvas.width, canvas.height)\n",
    "        #generate random move amount, update y\n",
    "        y += random.randint(10,30)\n",
    "        canvas.fill_circle(x, y, 5)\n",
    "        canvas.fill_text(y,x+5,y)\n",
    "    "
   ]
  },
  {
   "cell_type": "code",
   "execution_count": 10,
   "metadata": {},
   "outputs": [
    {
     "data": {
      "application/vnd.jupyter.widget-view+json": {
       "model_id": "4fcccb41347b4cc2be7bf4776ebab675",
       "version_major": 2,
       "version_minor": 0
      },
      "text/plain": [
       "Canvas(height=200, width=200)"
      ]
     },
     "metadata": {},
     "output_type": "display_data"
    }
   ],
   "source": [
    "#V2 - two circles racing (without lists)\n",
    "canvas = Canvas(width=200, height=200)\n",
    "display(canvas)\n",
    "canvas.stroke_rect(0,0,canvas.width, canvas.height)\n",
    "\n",
    "#start out at same y\n",
    "x0 = 50\n",
    "y0 = 10\n",
    "x1 = 75\n",
    "y1 = 10\n",
    "\n",
    "canvas.fill_circle(x0, y0, 5)\n",
    "canvas.fill_circle(x1, y1, 5)\n",
    "    \n",
    "#loop 4 times to move circle random amount every 1 second\n",
    "for j in range(4):\n",
    "        sleep(1)\n",
    "        canvas.clear()\n",
    "        canvas.stroke_rect(0,0,canvas.width, canvas.height)\n",
    "        #generate random move amount, update y\n",
    "        y0 += random.randint(10,30)\n",
    "        canvas.fill_circle(x0, y0, 5)\n",
    "        canvas.fill_text(y0, x0+5, y0)\n",
    "    \n",
    "        y1 += random.randint(10,30)\n",
    "        canvas.fill_circle(x1, y1, 5)\n",
    "        canvas.fill_text(y1, x1+5, y1)\n",
    "    \n",
    "        \n",
    "    "
   ]
  },
  {
   "cell_type": "code",
   "execution_count": 14,
   "metadata": {},
   "outputs": [
    {
     "data": {
      "application/vnd.jupyter.widget-view+json": {
       "model_id": "9cd256ba77624d04869c9f5d37aa05a8",
       "version_major": 2,
       "version_minor": 0
      },
      "text/plain": [
       "Canvas(height=200, width=200)"
      ]
     },
     "metadata": {},
     "output_type": "display_data"
    }
   ],
   "source": [
    "#V3 - what if we want 3 circles or 10 circles?  use a list.\n",
    "canvas = Canvas(width=200, height=200)\n",
    "display(canvas)\n",
    "canvas.stroke_rect(0,0,canvas.width, canvas.height)\n",
    "\n",
    "#Start with just 3 circles in list. We will compute these in next version.\n",
    "x = [50, 75, 100]  #25 pixels apart\n",
    "y = [10, 10, 10]\n",
    "\n",
    "#First we will do this without a loop to see the pattern\n",
    "canvas.fill_circle(x[0], y[0], 5)\n",
    "canvas.fill_circle(x[1], y[1], 5)\n",
    "canvas.fill_circle(x[2], y[2], 5)\n",
    "    \n",
    "#loop 4 times to move circle random amount every 1 second\n",
    "for j in range(4):\n",
    "        sleep(1)\n",
    "        canvas.clear()\n",
    "        canvas.stroke_rect(0,0,canvas.width, canvas.height)\n",
    "        \n",
    "        #generate random move amount, update y\n",
    "        y[0] += random.randint(10,30)\n",
    "        canvas.fill_circle(x[0], y[0], 5)\n",
    "        canvas.fill_text(y[0], x[0]+5, y[0])\n",
    "    \n",
    "        y[1] += random.randint(10,30)\n",
    "        canvas.fill_circle(x[1], y[1], 5)\n",
    "        canvas.fill_text(y[1], x[1]+5, y[1])\n",
    "    \n",
    "        y[2] += random.randint(10,30)\n",
    "        canvas.fill_circle(x[2], y[2], 5)\n",
    "        canvas.fill_text(y[2], x[2]+5, y[2])\n",
    "    \n",
    "        \n",
    "    "
   ]
  },
  {
   "cell_type": "code",
   "execution_count": 16,
   "metadata": {},
   "outputs": [
    {
     "data": {
      "application/vnd.jupyter.widget-view+json": {
       "model_id": "5e00a071b1d9449d855cc11f0bf120df",
       "version_major": 2,
       "version_minor": 0
      },
      "text/plain": [
       "Canvas(height=200, width=200)"
      ]
     },
     "metadata": {},
     "output_type": "display_data"
    }
   ],
   "source": [
    "#V4 - Use loop to draw the circles and text\n",
    "canvas = Canvas(width=200, height=200)\n",
    "display(canvas)\n",
    "canvas.stroke_rect(0,0,canvas.width, canvas.height)\n",
    "\n",
    "#Start with just 3 circles in list. We will compute these in next version.\n",
    "x = [50, 75, 100]  #25 pixels apart\n",
    "y = [10, 10, 10]\n",
    "\n",
    "#Use loop. x and y lists have same length\n",
    "for i in range(len(y)):\n",
    "    canvas.fill_circle(x[i], y[i], 5)\n",
    "    \n",
    "#loop 4 times to move circle random amount every 1 second\n",
    "for j in range(4):\n",
    "        sleep(1)\n",
    "        canvas.clear()\n",
    "        canvas.stroke_rect(0,0,canvas.width, canvas.height)\n",
    "        \n",
    "        for i in range(len(y)):\n",
    "            y[i] += random.randint(10,30)\n",
    "            canvas.fill_circle(x[i], y[i], 5)\n",
    "            canvas.fill_text(y[i], x[i]+5, y[i])\n",
    "    \n",
    "        \n",
    "    \n",
    "        \n",
    "    "
   ]
  },
  {
   "cell_type": "code",
   "execution_count": 19,
   "metadata": {},
   "outputs": [
    {
     "data": {
      "application/vnd.jupyter.widget-view+json": {
       "model_id": "",
       "version_major": 2,
       "version_minor": 0
      },
      "text/plain": [
       "Canvas(height=200, width=200)"
      ]
     },
     "metadata": {},
     "output_type": "display_data"
    },
    {
     "name": "stdout",
     "output_type": "stream",
     "text": [
      "[50, 75, 100, 125]\n",
      "[10, 10, 10, 10]\n"
     ]
    }
   ],
   "source": [
    "#V5 - Use loop to create lists.\n",
    "canvas = Canvas(width=200, height=200)\n",
    "display(canvas)\n",
    "canvas.stroke_rect(0,0,canvas.width, canvas.height)\n",
    "\n",
    "#4 circles.  Start with empty lists\n",
    "x = []\n",
    "y = []\n",
    "hspace = 25\n",
    "#Generate \n",
    "for i in range(4):\n",
    "    x.append(50 + i*hspace)   #spaced 25 pixels apart\n",
    "    y.append(10)\n",
    "    \n",
    "#confirm lists have correct values\n",
    "print(x)\n",
    "print(y)\n",
    "\n",
    "#Use loop. x and y lists have same length\n",
    "for i in range(len(y)):\n",
    "    canvas.fill_circle(x[i], y[i], 5)\n",
    "    \n",
    "#loop 4 times to move circle random amount every 1 second\n",
    "for j in range(4):\n",
    "        sleep(1)\n",
    "        canvas.clear()\n",
    "        canvas.stroke_rect(0,0,canvas.width, canvas.height)\n",
    "        \n",
    "        for i in range(len(y)):\n",
    "            y[i] += random.randint(10,30)\n",
    "            canvas.fill_circle(x[i], y[i], 5)\n",
    "            canvas.fill_text(y[i], x[i]+5, y[i])\n",
    "    \n",
    "        \n",
    "    \n",
    "        \n",
    "    "
   ]
  },
  {
   "cell_type": "code",
   "execution_count": 20,
   "metadata": {},
   "outputs": [
    {
     "data": {
      "application/vnd.jupyter.widget-view+json": {
       "model_id": "1e4da75d66384b1eac194e732f85ef15",
       "version_major": 2,
       "version_minor": 0
      },
      "text/plain": [
       "Canvas(height=200, width=200)"
      ]
     },
     "metadata": {},
     "output_type": "display_data"
    },
    {
     "name": "stdout",
     "output_type": "stream",
     "text": [
      "[50, 75, 100, 125]\n",
      "[10, 10, 10, 10]\n"
     ]
    }
   ],
   "source": [
    "#V6 - Show leader\n",
    "canvas = Canvas(width=200, height=200)\n",
    "display(canvas)\n",
    "canvas.stroke_rect(0,0,canvas.width, canvas.height)\n",
    "\n",
    "#4 circles.  Start with empty lists\n",
    "x = []\n",
    "y = []\n",
    "hspace = 25\n",
    "#Generate \n",
    "for i in range(4):\n",
    "    x.append(50 + i*hspace)   #spaced 25 pixels apart\n",
    "    y.append(10)\n",
    "    \n",
    "#confirm lists have correct values\n",
    "print(x)\n",
    "print(y)\n",
    "\n",
    "#Use loop. x and y lists have same length\n",
    "for i in range(len(y)):\n",
    "    canvas.fill_circle(x[i], y[i], 5)\n",
    "    \n",
    "#loop 4 times to move circle random amount every 1 second\n",
    "for j in range(4):\n",
    "        sleep(1)\n",
    "        canvas.clear()\n",
    "        canvas.stroke_rect(0,0,canvas.width, canvas.height)\n",
    "        \n",
    "        #first update the y values\n",
    "        for i in range(len(y)):\n",
    "            y[i] += random.randint(10,30)\n",
    "            \n",
    "        max_y = max(y)\n",
    "        for i in range(len(y)):\n",
    "            if y[i] == max_y:\n",
    "                canvas.fill_style = 'red'\n",
    "            else:\n",
    "                canvas.fill_style = 'black'\n",
    "            canvas.fill_circle(x[i], y[i], 5)\n",
    "            canvas.fill_text(y[i], x[i]+5, y[i])\n",
    "    \n",
    "        \n",
    "    \n",
    "        \n",
    "    "
   ]
  },
  {
   "cell_type": "code",
   "execution_count": 6,
   "metadata": {},
   "outputs": [
    {
     "data": {
      "application/vnd.jupyter.widget-view+json": {
       "model_id": "719b356c4fdb4b80b0e0f4e2ddc49a5e",
       "version_major": 2,
       "version_minor": 0
      },
      "text/plain": [
       "Canvas(height=400, width=400)"
      ]
     },
     "metadata": {},
     "output_type": "display_data"
    }
   ],
   "source": [
    "canvas = Canvas(width=400, height=400)\n",
    "display(canvas)\n",
    "canvas.stroke_rect(0,0,canvas.width, canvas.height)\n",
    "\n",
    "ladybug = Image.from_file('ladybug.jpg')\n",
    "canvas.draw_image(ladybug, 100, 100)  #x,y \n",
    "canvas.draw_image(ladybug, 50, 300, 20) #x,y,width\n",
    "canvas.draw_image(ladybug, 300, 0, 50, 100) #x,y,width, height\n"
   ]
  },
  {
   "cell_type": "code",
   "execution_count": null,
   "metadata": {},
   "outputs": [],
   "source": []
  },
  {
   "cell_type": "code",
   "execution_count": 7,
   "metadata": {},
   "outputs": [
    {
     "data": {
      "application/vnd.jupyter.widget-view+json": {
       "model_id": "4e0500438ad0437abf3ef4819d622819",
       "version_major": 2,
       "version_minor": 0
      },
      "text/plain": [
       "Canvas(height=200, width=200)"
      ]
     },
     "metadata": {},
     "output_type": "display_data"
    }
   ],
   "source": [
    "#CHALLENGE BUG RACE\n",
    "\n",
    "canvas = Canvas(width=200, height=200)\n",
    "display(canvas)\n",
    "canvas.stroke_rect(0,0,canvas.width, canvas.height)\n",
    "\n",
    "bug_width = 20\n",
    "bug_height = 20\n",
    "y = [10, 10, 10]\n",
    "images = [Image.from_file('ladybug.jpg'), \n",
    "          Image.from_file('worm.jpg'),\n",
    "          Image.from_file('butterfly.jpg')]\n",
    "\n",
    "#draw bug images instead of circles\n",
    "for i in range(len(y)):\n",
    "    canvas.draw_image(images[i], 50*(i+1), y[i], bug_width, bug_height)\n",
    "    \n",
    "#loop 4 times to move bugs random amount\n",
    "for j in range(4):\n",
    "        sleep(1)\n",
    "        canvas.clear()\n",
    "        canvas.stroke_rect(0,0,canvas.width, canvas.height)\n",
    "        for i in range(len(y)):\n",
    "            #generate random move amount, update y\n",
    "            move_y = random.randint(10,30)\n",
    "            y[i] += move_y\n",
    "            canvas.draw_image(images[i], 50*(i+1), y[i], bug_width, bug_height)\n",
    "        \n",
    "        #after moving all bugs, display text \"leader\" below bug in the lead.  there could be ties for leader\n",
    "        max_y=max(y)\n",
    "        for i in range(len(y)):\n",
    "            if y[i] == max_y:\n",
    "                canvas.stroke_text('leader', 50*(i+1), y[i] +bug_height + 10)\n",
    "        \n",
    "    "
   ]
  },
  {
   "cell_type": "code",
   "execution_count": null,
   "metadata": {},
   "outputs": [],
   "source": []
  },
  {
   "cell_type": "code",
   "execution_count": 8,
   "metadata": {},
   "outputs": [
    {
     "data": {
      "application/vnd.jupyter.widget-view+json": {
       "model_id": "c6bef748149f413d819131882eedc8b4",
       "version_major": 2,
       "version_minor": 0
      },
      "text/plain": [
       "Canvas(height=200, width=200)"
      ]
     },
     "metadata": {},
     "output_type": "display_data"
    },
    {
     "name": "stdout",
     "output_type": "stream",
     "text": [
      "enter x,y:50,40\n"
     ]
    }
   ],
   "source": [
    "#CHALLENGE: \n",
    "\n",
    "canvas = Canvas(width=200, height=200)\n",
    "display(canvas)\n",
    "canvas.stroke_rect(0,0,canvas.width, canvas.height)\n",
    "\n",
    "#prompt user to x,y \n",
    "coord_string = input('enter x,y:')\n",
    "#use split function to convert string x,y coord list\n",
    "index_comma = coord_string.index(',')\n",
    "\n",
    "#need at least one character before and after comma\n",
    "if index_comma > 0 and index_comma < len(coord_string) -1:\n",
    "    x_str = coord_string[0:index_comma]\n",
    "    y_str = coord_string[index_comma+1:]\n",
    "    if x_str.isdigit() and y_str.isdigit():\n",
    "        x = int(x_str)\n",
    "        y = int(y_str)\n",
    "        canvas.fill_circle(x, y, 5)\n",
    "    else:\n",
    "        print('x and y must be integer values')\n",
    "else:\n",
    "    print('invalid input:',coord_string)\n"
   ]
  },
  {
   "cell_type": "code",
   "execution_count": null,
   "metadata": {},
   "outputs": [],
   "source": []
  }
 ],
 "metadata": {
  "kernelspec": {
   "display_name": "Python 3",
   "language": "python",
   "name": "python3"
  },
  "language_info": {
   "codemirror_mode": {
    "name": "ipython",
    "version": 3
   },
   "file_extension": ".py",
   "mimetype": "text/x-python",
   "name": "python",
   "nbconvert_exporter": "python",
   "pygments_lexer": "ipython3",
   "version": "3.6.9"
  }
 },
 "nbformat": 4,
 "nbformat_minor": 2
}
