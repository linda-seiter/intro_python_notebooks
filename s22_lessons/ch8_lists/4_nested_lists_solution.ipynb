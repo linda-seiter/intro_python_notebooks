{
 "cells": [
  {
   "cell_type": "code",
   "execution_count": 1,
   "metadata": {},
   "outputs": [],
   "source": [
    "#Zybooks section 8.5 - Nested lists"
   ]
  },
  {
   "cell_type": "code",
   "execution_count": 2,
   "metadata": {},
   "outputs": [
    {
     "name": "stdout",
     "output_type": "stream",
     "text": [
      "First nested list: [90, 87, 92, 82]\n",
      "Second nested list: [72, 97, 84, 94]\n",
      "Element 0 of first nested list: 90\n",
      "Element 1 of first nested list: 87\n",
      "Element 0 of second nested list: 72\n",
      "Element 1 of second nested list: 97\n",
      "3\n",
      "4\n",
      "4\n",
      "70\n"
     ]
    }
   ],
   "source": [
    "grade_list = [\n",
    "        [90, 87, 92, 82],   #fred's grades\n",
    "        [72, 97, 84, 94],   #pat's grades\n",
    "        [70, 85, 100, 77]    #bob's grades\n",
    "        ]\n",
    "print('First nested list:', grade_list[0])  #row 0, fred's grades\n",
    "print('Second nested list:', grade_list[1]) #row 1, pat's grades\n",
    "print('Element 0 of first nested list:', grade_list[0][0]) #row 0 col 0\n",
    "print('Element 1 of first nested list:', grade_list[0][1]) #row 0 col 1\n",
    "print('Element 0 of second nested list:', grade_list[1][0]) #row 1 col 0\n",
    "print('Element 1 of second nested list:', grade_list[1][1]) #row 1 col 1\n",
    "\n",
    "print(len(grade_list))  #number of rows\n",
    "print(len(grade_list[0])) #number of columns in row 0\n",
    "print(len(grade_list[1])) #number of columns in row 1\n",
    "\n",
    "#CHALLENGE: print bob's grade on 1st test.   Bob's grade on last test. \n",
    "print(grade_list[2][0])\n",
    "\n",
    "#CHALLENGE: What is printed by grade_list[1][2]? How about grade_list[2][1]?\n"
   ]
  },
  {
   "cell_type": "code",
   "execution_count": 3,
   "metadata": {},
   "outputs": [
    {
     "name": "stdout",
     "output_type": "stream",
     "text": [
      "[[1.0, 5.0, 10.0], [0.75, 3.77, 7.53], [0.65, 3.25, 6.5]]\n",
      "10.0 US Dollars = 7.53 Euros\n",
      "1.0 US Dollars = 0.65 British Pounds\n",
      "[0.65, 3.25, 6.5]\n",
      "3 rows\n",
      "3 columns\n"
     ]
    }
   ],
   "source": [
    "\n",
    "currency = [\n",
    "        [1.00, 5.00, 10.0], # US Dollars\n",
    "        [0.75, 3.77, 7.53], # Euros\n",
    "        [0.65, 3.25, 6.50]  # British pounds\n",
    "]\n",
    "\n",
    "print(currency)\n",
    "#CHALLENGE: print the Euros equivalent for 10.0 US Dollars.\n",
    "print('{} US Dollars = {} Euros'.format(currency[0][2],currency[1][2]))\n",
    "#Print the British pounds equivalent for 1.00 US Dollars.\n",
    "print('{} US Dollars = {} British Pounds'.format(currency[0][0],currency[2][0]))\n",
    "\n",
    "\n",
    "#CHALLENGE: print the entire row for British pounds\n",
    "print(currency[2])\n",
    "\n",
    "#CHALLENGE: How would you print the number of rows? How about number of cells in first row?\n",
    "print('{} rows'.format(len(currency)))\n",
    "print('{} columns'.format(len(currency[0])))"
   ]
  },
  {
   "cell_type": "code",
   "execution_count": 3,
   "metadata": {},
   "outputs": [
    {
     "name": "stdout",
     "output_type": "stream",
     "text": [
      "[[1.0, 5.0, 10.0], [0.75, 3.77, 7.53], [0.65, 3.25, 6.5]]\n",
      "10.0 US Dollars = 7.53 Euros\n",
      "1.0 US Dollars = 0.65 British Pounds\n",
      "[0.65, 3.25, 6.5]\n",
      "3 rows\n",
      "3 columns\n"
     ]
    }
   ],
   "source": [
    "currency = [\n",
    "        [1.00, 5.00, 10.0], # US Dollars\n",
    "        [0.75, 3.77, 7.53], # Euros\n",
    "        [0.65, 3.25, 6.50]  # British pounds\n",
    "]\n",
    "\n",
    "print(currency)\n",
    "#CHALLENGE: print the Euros equivalent for 10.0 US Dollars.\n",
    "print('{} US Dollars = {} Euros'.format(currency[0][2],currency[1][2]))\n",
    "#Print the British pounds equivalent for 1.00 US Dollars.\n",
    "print('{} US Dollars = {} British Pounds'.format(currency[0][0],currency[2][0]))\n",
    "\n",
    "\n",
    "#CHALLENGE: print the entire row for British pounds\n",
    "print(currency[2])\n",
    "\n",
    "#CHALLENGE: How would you print the number of rows? How about number of cells in first row?\n",
    "print('{} rows'.format(len(currency)))\n",
    "print('{} columns'.format(len(currency[0])))"
   ]
  },
  {
   "cell_type": "code",
   "execution_count": 4,
   "metadata": {},
   "outputs": [
    {
     "name": "stdout",
     "output_type": "stream",
     "text": [
      "  1.0000  5.0000 10.0000\n",
      "  0.7500  3.7700  7.5300\n",
      "  0.6500  3.2500  6.5000\n"
     ]
    }
   ],
   "source": [
    "#Looping through nested list using indexing.  \n",
    "currency = [\n",
    "        [1.00, 5.00, 10.00], # US Dollars\n",
    "        [0.75, 3.77, 7.53], # Euros\n",
    "        [0.65, 3.25, 6.50]  # British pounds\n",
    "]\n",
    "for r in range(len(currency)):\n",
    "    for c in range(len(currency[r])):\n",
    "        print('{:8.4f}'.format(currency[r][c]), end='') #field width 8, 4 digits total\n",
    "    print()"
   ]
  },
  {
   "cell_type": "code",
   "execution_count": 5,
   "metadata": {},
   "outputs": [
    {
     "name": "stdout",
     "output_type": "stream",
     "text": [
      "  90  87  92  82\n",
      "  72  97  84  94\n",
      "  70  85 100  77\n"
     ]
    }
   ],
   "source": [
    "#CHALLENGE: Print the grade list in a row/column format with a field width of 4 since 100 is largest grade.\n",
    "grade_list = [\n",
    "        [90, 87, 92, 82],   #fred's grades\n",
    "        [72, 97, 84, 94],   #pat's grades\n",
    "        [70, 85, 100, 77]    #bob's grades\n",
    "        ]\n",
    "\n",
    "for r in range(len(grade_list)):\n",
    "    for c in range(len(grade_list[r])):\n",
    "        print('{:4}'.format(grade_list[r][c]), end='')\n",
    "    print()"
   ]
  },
  {
   "cell_type": "code",
   "execution_count": 6,
   "metadata": {},
   "outputs": [
    {
     "name": "stdout",
     "output_type": "stream",
     "text": [
      "  95  92  97  87\n",
      "  77 100  89  99\n",
      "  75  90 100  82\n"
     ]
    }
   ],
   "source": [
    "#CHALLENGE: Add 5 points to each grade, max grade of 100\n",
    "grade_list = [\n",
    "        [90, 87, 92, 82],   #fred's grades\n",
    "        [72, 97, 84, 94],   #pat's grades\n",
    "        [70, 85, 100, 77]    #bob's grades\n",
    "        ]\n",
    "\n",
    "for r in range(len(grade_list)):\n",
    "    for c in range(len(grade_list[r])):\n",
    "        #grade_list[r][c] += 5\n",
    "        grade_list[r][c] = min(100, grade_list[r][c] + 5)\n",
    "        print('{:4}'.format(grade_list[r][c]), end='')\n",
    "    print()"
   ]
  },
  {
   "cell_type": "code",
   "execution_count": 7,
   "metadata": {},
   "outputs": [
    {
     "name": "stdout",
     "output_type": "stream",
     "text": [
      "   1.0   5.0  10.0\n",
      "  0.75  3.77  7.53\n",
      "  0.65  3.25   6.5\n"
     ]
    }
   ],
   "source": [
    "#Non index-based loop \n",
    "#This works as long as you don't want to change list contents\n",
    "currency = [\n",
    "        [1.00, 5.00, 10.0], # US Dollars\n",
    "        [0.75, 3.77, 7.53], # Euros\n",
    "        [0.65, 3.25, 6.50]  # British pounds\n",
    "]\n",
    "for row in currency:\n",
    "    for cell in row:\n",
    "        print('{:6}'.format(cell), end='')\n",
    "    print()\n",
    "\n"
   ]
  },
  {
   "cell_type": "code",
   "execution_count": 8,
   "metadata": {},
   "outputs": [
    {
     "name": "stdout",
     "output_type": "stream",
     "text": [
      "    90    87    92    82\n",
      "    72    97    84    94\n",
      "    70    85   100    77\n"
     ]
    }
   ],
   "source": [
    "#CHALLENGE: Non index-based loop through the grades\n",
    "grade_list = [\n",
    "        [90, 87, 92, 82],   #fred's grades\n",
    "        [72, 97, 84, 94],   #pat's grades\n",
    "        [70, 85, 100, 77]    #bob's grades\n",
    "        ]\n",
    "\n",
    "for row in grade_list:\n",
    "    for cell in row:\n",
    "        print('{:6}'.format(cell), end='')\n",
    "    print()"
   ]
  },
  {
   "cell_type": "code",
   "execution_count": 9,
   "metadata": {},
   "outputs": [
    {
     "name": "stdout",
     "output_type": "stream",
     "text": [
      "85.833333\n"
     ]
    }
   ],
   "source": [
    "#CHALLENGE: Average of all grades\n",
    "\n",
    "grade_list = [\n",
    "        [90, 87, 92, 82],   #fred's grades\n",
    "        [72, 97, 84, 94],   #pat's grades\n",
    "        [70, 85, 100, 77]    #bob's grades\n",
    "        ]\n",
    "\n",
    "total = 0\n",
    "count = 0\n",
    "for row in grade_list:\n",
    "    for cell in row:\n",
    "        total += cell\n",
    "        count += 1\n",
    "print('{:2f}'.format(total/count))"
   ]
  },
  {
   "cell_type": "code",
   "execution_count": 10,
   "metadata": {},
   "outputs": [
    {
     "name": "stdout",
     "output_type": "stream",
     "text": [
      "85.83333333333333\n"
     ]
    }
   ],
   "source": [
    "\n",
    "grade_list = [\n",
    "        [90, 87, 92, 82],   #fred's grades\n",
    "        [72, 97, 84, 94],   #pat's grades\n",
    "        [70, 85, 100, 77]    #bob's grades\n",
    "        ]\n",
    "\n",
    "total = 0\n",
    "count = 0\n",
    "\n",
    "for row in grade_list:\n",
    "    total += sum(row)\n",
    "    count += len(row)\n",
    "    \n",
    "print(total/count)"
   ]
  },
  {
   "cell_type": "code",
   "execution_count": 11,
   "metadata": {},
   "outputs": [
    {
     "name": "stdout",
     "output_type": "stream",
     "text": [
      "3.5\n",
      "4.0\n"
     ]
    }
   ],
   "source": [
    "#Matrix - all rows have same number of columns\n",
    "\n",
    "def average(matrix):\n",
    "    num_rows=len(matrix)\n",
    "    num_cols=len(matrix[0])  #get the length of first row\n",
    "    num_cells=num_rows*num_cols\n",
    "    sum=0\n",
    "    for row in matrix:\n",
    "        for cell in row:\n",
    "            sum += cell\n",
    "    return sum/num_cells\n",
    "\n",
    "matrix1 = [ [1,2,3],[4,5,6]]\n",
    "print( average(matrix1))\n",
    "\n",
    "matrix2 = [ [2,8,10,12],[2,2,2,2],[2,2,2,2]]\n",
    "print( average(matrix2))\n"
   ]
  },
  {
   "cell_type": "code",
   "execution_count": 12,
   "metadata": {},
   "outputs": [
    {
     "name": "stdout",
     "output_type": "stream",
     "text": [
      "6\n",
      "12\n"
     ]
    }
   ],
   "source": [
    "#Matrix - all rows have same number of columns\n",
    "\n",
    "def find_max(matrix):\n",
    "    max=matrix[0][0] # initialize to first cell\n",
    "    for row in matrix:\n",
    "        for cell in row:\n",
    "            if cell > max:\n",
    "                max = cell\n",
    "    return max\n",
    "\n",
    "matrix1 = [ [1,2,3],[4,5,6]]\n",
    "print( find_max(matrix1))\n",
    "\n",
    "matrix2 = [ [2,8,10,12],[2,2,2,2],[2,2,2,2]]\n",
    "print( find_max(matrix2))\n"
   ]
  },
  {
   "cell_type": "code",
   "execution_count": 13,
   "metadata": {},
   "outputs": [
    {
     "name": "stdout",
     "output_type": "stream",
     "text": [
      "[[4, 8, 12], [16, 20, 24]]\n"
     ]
    }
   ],
   "source": [
    "#Matrix - all rows have same number of columns\n",
    "\n",
    "def multiply(matrix, n):\n",
    "    max=matrix[0][0] # initialize to first cell\n",
    "    for r in range(len(matrix)):\n",
    "        for c in range(len(matrix[r])):\n",
    "            matrix[r][c] *= n\n",
    "\n",
    "            \n",
    "matrix1 = [ [1,2,3],[4,5,6]]\n",
    "multiply(matrix1, 4)\n",
    "print(matrix1)\n"
   ]
  },
  {
   "cell_type": "code",
   "execution_count": null,
   "metadata": {},
   "outputs": [],
   "source": []
  },
  {
   "cell_type": "code",
   "execution_count": 14,
   "metadata": {},
   "outputs": [
    {
     "name": "stdout",
     "output_type": "stream",
     "text": [
      "Enter city pair (Ex: 1 2) -- 1 2\n",
      "['1', '2']\n",
      "Distance: 2011 miles\n"
     ]
    }
   ],
   "source": [
    "# direct driving distances between cities, in miles\n",
    "# 0: Boston    1: Chicago    2: Los Angeles\n",
    "\n",
    "distances = [\n",
    "    [\n",
    "        0,  \n",
    "        960,  # Boston-Chicago\n",
    "        2960 # Boston-Los Angeles\n",
    "    ],\n",
    "    [\n",
    "        960,  # Chicago-Boston\n",
    "        0,\n",
    "        2011  # Chicago-Los Angeles\n",
    "    ],\n",
    "    [\n",
    "        2960,  # Los Angeles-Boston\n",
    "        2011,  # Los-Angeles-Chicago\n",
    "        0\n",
    "    ]\n",
    "]\n",
    "\n",
    "user_input = input('Enter city pair (Ex: 1 2) -- ').strip()\n",
    "input_list= user_input.split()  #\n",
    "print(input_list)\n",
    "city1=int(input_list[0])\n",
    "city2=int(input_list[1])\n",
    "\n",
    "print('Distance: {} miles'.format(distances[city1][city2]))\n"
   ]
  },
  {
   "cell_type": "code",
   "execution_count": 15,
   "metadata": {},
   "outputs": [
    {
     "name": "stdout",
     "output_type": "stream",
     "text": [
      "Enter city name pair (Ex: Chicago LosAngeles) -- Chicago LosAngeles\n",
      "['Chicago', 'LosAngeles']\n",
      "Distance: 2011 miles\n"
     ]
    }
   ],
   "source": [
    "# direct driving distances between cities, in miles\n",
    "# 0: Boston    1: Chicago    2: Los Angeles\n",
    "\n",
    "city_names = ['Boston','Chicago','LosAngeles']\n",
    "\n",
    "\n",
    "distances = [\n",
    "    [\n",
    "        0,  \n",
    "        960,  # Boston-Chicago\n",
    "        2960 # Boston-Los Angeles\n",
    "    ],\n",
    "    [\n",
    "        960,  # Chicago-Boston\n",
    "        0,\n",
    "        2011  # Chicago-Los Angeles\n",
    "    ],\n",
    "    [\n",
    "        2960,  # Los Angeles-Boston\n",
    "        2011,  # Los Angeles-Chicago\n",
    "        0\n",
    "    ]\n",
    "]\n",
    "\n",
    "user_input = input('Enter city name pair (Ex: Chicago LosAngeles) -- ').strip()\n",
    "input_list= user_input.split()\n",
    "print(input_list)\n",
    "city1=city_names.index(input_list[0])\n",
    "city2=city_names.index(input_list[1])\n",
    "\n",
    "\n",
    "print('Distance: {} miles'.format(distances[city1][city2]))\n",
    "\n"
   ]
  },
  {
   "cell_type": "code",
   "execution_count": 1,
   "metadata": {},
   "outputs": [],
   "source": [
    "#Return a list of the number of symptoms for each patient in symptoms.\n",
    "    \n",
    "def symptom_count(patient_symptom_list):\n",
    "    result = []\n",
    "    for patient in patient_symptom_list:\n",
    "        result.append(len(patient))\n",
    "    return result\n",
    "\n",
    "patient_symptom_list = [\n",
    "    ['fatique', 'abdominal swelling', 'bruising'],   #first patient\n",
    "    ['loss of appetite', 'fatique']    #second patient\n",
    "]\n",
    "\n",
    "assert(symptom_count(patient_symptom_list)  == [3,2])\n",
    "print('tests passed')"
   ]
  },
  {
   "cell_type": "code",
   "execution_count": 12,
   "metadata": {},
   "outputs": [
    {
     "name": "stdout",
     "output_type": "stream",
     "text": [
      "['Chan', 'Ross']\n"
     ]
    }
   ],
   "source": [
    "patients = [ ['Milos', 'Jones', 48, 'male', 'smoker', 210], \n",
    "             ['Delia', 'Chan', 39, 'female', 'non-smoker', 170], \n",
    "             ['Denise', 'Ross', 62, 'female', 'non-smoker', 150] ]\n",
    "\n",
    "#create list of names of female patients\n",
    "female_patients = []\n",
    "for patient in patients:\n",
    "    if patient[3] == 'female':\n",
    "        female_patients.append(patient[1])\n",
    "\n",
    "print(female_patients)"
   ]
  },
  {
   "cell_type": "code",
   "execution_count": 7,
   "metadata": {},
   "outputs": [
    {
     "name": "stdout",
     "output_type": "stream",
     "text": [
      "[['0', 'X', '0'], ['0', 'X', '0'], ['0', 'X', '0']]\n"
     ]
    }
   ],
   "source": [
    "tictactoe = [\n",
    "    ['0', '0', '0'],\n",
    "    ['0', '0', '0'],\n",
    "    ['0', '0', '0'],\n",
    "]\n",
    "\n",
    "tictactoe[0][1] = 'X'\n",
    "tictactoe[1][1] = 'X'\n",
    "tictactoe[2][1] = 'X'\n",
    "    \n",
    "print(tictactoe)"
   ]
  },
  {
   "cell_type": "code",
   "execution_count": 5,
   "metadata": {},
   "outputs": [
    {
     "name": "stdout",
     "output_type": "stream",
     "text": [
      "[['0', '0', '0'], ['0', '0', '0'], ['0', '0', '0']]\n",
      "[['0', 'X', '0'], ['0', 'X', '0'], ['0', 'X', '0']]\n"
     ]
    }
   ],
   "source": [
    "tictactoe = [\n",
    "    ['0', '0', '0'],\n",
    "    ['0', '0', '0'],\n",
    "    ['0', '0', '0'],\n",
    "]\n",
    "\n",
    "\n",
    "for r in range(len(tictactoe)):\n",
    "    tictactoe[r][1] = 'X'\n",
    "    \n",
    "print(tictactoe)"
   ]
  },
  {
   "cell_type": "code",
   "execution_count": 3,
   "metadata": {},
   "outputs": [
    {
     "name": "stdout",
     "output_type": "stream",
     "text": [
      "[['0', '0', '0'], ['0', '0', '0'], ['0', '0', '0']]\n",
      "[['0', 'X', '0'], ['0', 'X', '0'], ['0', 'X', '0']]\n"
     ]
    }
   ],
   "source": [
    "tictactoe = [\n",
    "    ['0', '0', '0'],\n",
    "    ['0', '0', '0'],\n",
    "    ['0', '0', '0'],\n",
    "]\n",
    "\n",
    "\n",
    "for row in tictactoe:\n",
    "    row[1] = 'X'\n",
    "    \n",
    "print(tictactoe)"
   ]
  },
  {
   "cell_type": "code",
   "execution_count": 9,
   "metadata": {},
   "outputs": [
    {
     "name": "stdout",
     "output_type": "stream",
     "text": [
      "[['0', '0', '0'], ['0', '0', '0'], ['0', '0', '0']]\n",
      "[['X', '0', '0'], ['0', 'X', '0'], ['0', '0', 'X']]\n"
     ]
    }
   ],
   "source": [
    "tictactoe = [\n",
    "    ['0', '0', '0'],\n",
    "    ['0', '0', '0'],\n",
    "    ['0', '0', '0'],\n",
    "]\n",
    "\n",
    "\n",
    "for r in range(len(tictactoe)):\n",
    "    for c in range(len(tictactoe[r])):\n",
    "        if r == c:\n",
    "            tictactoe[r][c] = 'X'\n",
    "    \n",
    "print(tictactoe)"
   ]
  },
  {
   "cell_type": "code",
   "execution_count": 14,
   "metadata": {},
   "outputs": [
    {
     "name": "stdout",
     "output_type": "stream",
     "text": [
      "['Fred', 'Herbert', 'Smith']\n",
      "['3', '55', '78', '99']\n",
      "[3, 55, 78, 99]\n"
     ]
    }
   ],
   "source": [
    "name = 'Fred Herbert Smith'\n",
    "name_list = name.split() #space delimeter\n",
    "print(name_list)\n",
    "\n",
    "num_str = '3,55,78,99'\n",
    "num_str_list = num_str.split(',')\n",
    "print(num_str_list)\n",
    "\n",
    "num_int_list = list(map(int, num_str_list))\n",
    "print(num_int_list)"
   ]
  }
 ],
 "metadata": {
  "kernelspec": {
   "display_name": "Python 3",
   "language": "python",
   "name": "python3"
  },
  "language_info": {
   "codemirror_mode": {
    "name": "ipython",
    "version": 3
   },
   "file_extension": ".py",
   "mimetype": "text/x-python",
   "name": "python",
   "nbconvert_exporter": "python",
   "pygments_lexer": "ipython3",
   "version": "3.6.9"
  }
 },
 "nbformat": 4,
 "nbformat_minor": 2
}
