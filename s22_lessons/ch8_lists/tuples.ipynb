{
 "cells": [
  {
   "cell_type": "markdown",
   "metadata": {},
   "source": [
    "## List - Collection of values.  Mutable"
   ]
  },
  {
   "cell_type": "code",
   "execution_count": null,
   "metadata": {},
   "outputs": [],
   "source": [
    "names = ['Daniel', 'Roxanna', 'Jean']\n",
    "\n",
    "print(names)"
   ]
  },
  {
   "cell_type": "code",
   "execution_count": null,
   "metadata": {},
   "outputs": [],
   "source": [
    "#Use indexing to access an element in the list.\n",
    "#Python uses 0-based indexing (1st element in position 0)\n",
    "\n",
    "names[0]"
   ]
  },
  {
   "cell_type": "code",
   "execution_count": null,
   "metadata": {},
   "outputs": [],
   "source": [
    "names[1]"
   ]
  },
  {
   "cell_type": "code",
   "execution_count": null,
   "metadata": {},
   "outputs": [],
   "source": [
    "names[2]"
   ]
  },
  {
   "cell_type": "code",
   "execution_count": null,
   "metadata": {},
   "outputs": [],
   "source": [
    "#names[3]"
   ]
  },
  {
   "cell_type": "code",
   "execution_count": null,
   "metadata": {},
   "outputs": [],
   "source": [
    "#len function returns size of list\n",
    "len(names)"
   ]
  },
  {
   "cell_type": "code",
   "execution_count": null,
   "metadata": {},
   "outputs": [],
   "source": [
    "#get last element using len\n",
    "names[len(names)-1]"
   ]
  },
  {
   "cell_type": "code",
   "execution_count": null,
   "metadata": {},
   "outputs": [],
   "source": [
    "#updating an element\n",
    "names[0] = 'Danny'"
   ]
  },
  {
   "cell_type": "code",
   "execution_count": null,
   "metadata": {},
   "outputs": [],
   "source": [
    "names"
   ]
  },
  {
   "cell_type": "code",
   "execution_count": null,
   "metadata": {},
   "outputs": [],
   "source": [
    "#swapping requires a temporary variable\n",
    "tmp=names[1]\n",
    "names[1] = names[2]\n",
    "names[2] = tmp\n",
    "\n",
    "names"
   ]
  },
  {
   "cell_type": "code",
   "execution_count": null,
   "metadata": {},
   "outputs": [],
   "source": [
    "#once the list is created, can't use indexing to add items\n",
    "\n",
    "#names[3] = 'Fred'\n"
   ]
  },
  {
   "cell_type": "code",
   "execution_count": null,
   "metadata": {},
   "outputs": [],
   "source": [
    "#use the append function to add an item\n",
    "names.append('Fred')\n",
    "names"
   ]
  },
  {
   "cell_type": "code",
   "execution_count": null,
   "metadata": {},
   "outputs": [],
   "source": []
  },
  {
   "cell_type": "code",
   "execution_count": null,
   "metadata": {},
   "outputs": [],
   "source": [
    "#pop(i) removes element  at index i\n",
    "\n",
    "names.pop(1)  #remove Jean\n",
    "names"
   ]
  },
  {
   "cell_type": "code",
   "execution_count": null,
   "metadata": {},
   "outputs": [],
   "source": [
    "#pop(i) error if index out of range\n",
    "#names.pop(10)"
   ]
  },
  {
   "cell_type": "code",
   "execution_count": null,
   "metadata": {},
   "outputs": [],
   "source": [
    "names.append('Bob')\n",
    "names.append('Fred')\n",
    "names.append('Bob')\n",
    "\n",
    "names"
   ]
  },
  {
   "cell_type": "code",
   "execution_count": null,
   "metadata": {},
   "outputs": [],
   "source": [
    "#indexing using a range  [start inclusive, end exclusive]\n",
    "names[0:3]"
   ]
  },
  {
   "cell_type": "code",
   "execution_count": null,
   "metadata": {},
   "outputs": [],
   "source": [
    "#indexing using a range  [start inclusive, end exclusive]\n",
    "names[3:len(names)]"
   ]
  },
  {
   "cell_type": "code",
   "execution_count": null,
   "metadata": {},
   "outputs": [],
   "source": [
    "#remove first occurrence of Bob\n",
    "names.remove('Bob')\n",
    "\n",
    "names"
   ]
  },
  {
   "cell_type": "code",
   "execution_count": null,
   "metadata": {},
   "outputs": [],
   "source": [
    "names.count('Bob')"
   ]
  },
  {
   "cell_type": "code",
   "execution_count": null,
   "metadata": {},
   "outputs": [],
   "source": [
    "names.count('Fred')"
   ]
  },
  {
   "cell_type": "code",
   "execution_count": null,
   "metadata": {},
   "outputs": [],
   "source": [
    "names.count('Freddy')"
   ]
  },
  {
   "cell_type": "code",
   "execution_count": null,
   "metadata": {},
   "outputs": [],
   "source": [
    "names.index('Bob')"
   ]
  },
  {
   "cell_type": "code",
   "execution_count": null,
   "metadata": {},
   "outputs": [],
   "source": [
    "names.index('Fred')  #returns first occurrence "
   ]
  },
  {
   "cell_type": "code",
   "execution_count": null,
   "metadata": {},
   "outputs": [],
   "source": [
    "#names.index('Freddy')  #returns first occurrence "
   ]
  },
  {
   "cell_type": "code",
   "execution_count": null,
   "metadata": {},
   "outputs": [],
   "source": [
    "grades = [89, 67, 95, 78]\n",
    "\n",
    "grades"
   ]
  },
  {
   "cell_type": "code",
   "execution_count": null,
   "metadata": {},
   "outputs": [],
   "source": [
    "min(grades)\n"
   ]
  },
  {
   "cell_type": "code",
   "execution_count": null,
   "metadata": {},
   "outputs": [],
   "source": [
    "max(grades)"
   ]
  },
  {
   "cell_type": "code",
   "execution_count": null,
   "metadata": {},
   "outputs": [],
   "source": [
    "sum(grades)"
   ]
  },
  {
   "cell_type": "code",
   "execution_count": null,
   "metadata": {},
   "outputs": [],
   "source": [
    "#average\n",
    "\n",
    "sum(grades)/len(grades)"
   ]
  },
  {
   "cell_type": "code",
   "execution_count": null,
   "metadata": {},
   "outputs": [],
   "source": [
    "grades2 = [88,66,99,55]\n",
    "grades2"
   ]
  },
  {
   "cell_type": "code",
   "execution_count": null,
   "metadata": {},
   "outputs": [],
   "source": [
    "allgrades = grades + grades2\n",
    "allgrades"
   ]
  },
  {
   "cell_type": "code",
   "execution_count": null,
   "metadata": {},
   "outputs": [],
   "source": [
    "sports=['football','volleyball','soccer']\n",
    "sports"
   ]
  },
  {
   "cell_type": "code",
   "execution_count": null,
   "metadata": {},
   "outputs": [],
   "source": [
    "more_sports = ['golf','swimming','wrestling']\n",
    "more_sports"
   ]
  },
  {
   "cell_type": "code",
   "execution_count": null,
   "metadata": {},
   "outputs": [],
   "source": [
    "#add items from more_sports onto end of sports\n",
    "sports.extend(more_sports)\n",
    "sports"
   ]
  },
  {
   "cell_type": "code",
   "execution_count": null,
   "metadata": {},
   "outputs": [],
   "source": [
    "#insert an item before item at specified index\n",
    "sports.insert(2,'baseball')\n",
    "sports"
   ]
  },
  {
   "cell_type": "code",
   "execution_count": null,
   "metadata": {},
   "outputs": [],
   "source": [
    "sports.sort()\n",
    "sports"
   ]
  },
  {
   "cell_type": "code",
   "execution_count": null,
   "metadata": {},
   "outputs": [],
   "source": [
    "sports.reverse()\n",
    "sports"
   ]
  },
  {
   "cell_type": "markdown",
   "metadata": {},
   "source": [
    "## Looping through a list"
   ]
  },
  {
   "cell_type": "code",
   "execution_count": null,
   "metadata": {},
   "outputs": [],
   "source": [
    "names = ['Ann','Amir','Jose','DeWayne']\n",
    "for name in names:\n",
    "  print('Hi {}!'.format(name))\n"
   ]
  },
  {
   "cell_type": "code",
   "execution_count": null,
   "metadata": {},
   "outputs": [],
   "source": [
    "#we can also use explicit indexing\n",
    "\n",
    "for i in range(len(names)):\n",
    "    print('index#{} = {}'.format(i,names[i]))"
   ]
  },
  {
   "cell_type": "code",
   "execution_count": null,
   "metadata": {},
   "outputs": [],
   "source": [
    "#go through a list backward\n",
    "\n",
    "for i in range(len(names)-1, -1, -1):\n",
    "    print('index#{} = {}'.format(i,names[i]))"
   ]
  },
  {
   "cell_type": "code",
   "execution_count": null,
   "metadata": {},
   "outputs": [],
   "source": [
    "for name in reversed(names):\n",
    "    print(name)"
   ]
  },
  {
   "cell_type": "code",
   "execution_count": null,
   "metadata": {},
   "outputs": [],
   "source": [
    "grades = [88,72,56,99, 59]\n",
    "count=0\n",
    "#count grades below 80\n",
    "for grade in grades:\n",
    "    if grade <80:\n",
    "        count += 1\n",
    "        \n",
    "print(count)"
   ]
  },
  {
   "cell_type": "code",
   "execution_count": null,
   "metadata": {},
   "outputs": [],
   "source": [
    "#Ask the user for 5 numbers, storing them in a list.\n",
    "\n",
    "nums = []  #empty list\n",
    "for i in range(5):\n",
    "    next_num = int(input('enter next number:'))\n",
    "    nums.append(next_num)  #must use append to add element\n",
    "\n",
    "print(nums)"
   ]
  },
  {
   "cell_type": "code",
   "execution_count": null,
   "metadata": {},
   "outputs": [],
   "source": [
    "#Loop until sentinel (stopping value) entered\n",
    "\n",
    "nums = []  #empty list\n",
    "val = int(input('enter number (-999 to quit):'))\n",
    "while val != -999:\n",
    "    nums.append(val)  \n",
    "    val = int(input('enter number (-999 to quit):'))\n",
    "\n",
    "print(nums)"
   ]
  },
  {
   "cell_type": "code",
   "execution_count": null,
   "metadata": {},
   "outputs": [],
   "source": [
    "#pass array as a parameter to function\n",
    "def sum_positive(num_list):\n",
    "    sum=0\n",
    "    for n in num_list:\n",
    "        if n > 0:\n",
    "            sum += n\n",
    "    return sum\n",
    "\n",
    "list1 = [1,4,-2,-7,3]\n",
    "assert( sum_positive(list1) == 8)\n",
    "\n",
    "assert( sum_positive([-2, -5, 4, 3, -1, 10]) == 17)"
   ]
  },
  {
   "cell_type": "code",
   "execution_count": null,
   "metadata": {},
   "outputs": [],
   "source": [
    "def double_it(list):\n",
    "    for i in range(len(list)):\n",
    "        list[i] *= 2\n",
    "    return list\n",
    "\n",
    "nums_1 = [7,2,5]\n",
    "nums_2 = [2,3,2, 2,-6,13]\n",
    "\n",
    "print(double_it(nums_1))\n",
    "print(double_it(nums_2))\n"
   ]
  },
  {
   "cell_type": "code",
   "execution_count": null,
   "metadata": {},
   "outputs": [],
   "source": [
    "def multiply_values(list1, list2):\n",
    "    mult_list = [] #create new empty list\n",
    "    if len(list1) == len(list2):\n",
    "        for i in range(len(list1)):\n",
    "            mult_list.append( list1[i] * list2[i] )\n",
    "    return mult_list\n",
    "\n",
    "nums_1 = [7,2,5]\n",
    "nums_2 = [2,3,2]\n",
    "\n",
    "print(multiply_values(nums_1, nums_2))"
   ]
  },
  {
   "cell_type": "code",
   "execution_count": null,
   "metadata": {},
   "outputs": [],
   "source": [
    "#modifying elements of a list, curve all grades below 90\n",
    "#THIS WON'T WORK BECAUSE NEED TO KNOW POSITION OF ELEMENT\n",
    "\n",
    "grades = [88,66,99,78,92]\n",
    "\n",
    "#grade is a temporary variable that has a COPY of the list element\n",
    "#grade does not directly reference the list element\n",
    "for grade in grades: \n",
    "    if grade < 90:\n",
    "        grade+= 5   #does not change array element\n",
    "\n",
    "print(grades)"
   ]
  },
  {
   "cell_type": "code",
   "execution_count": null,
   "metadata": {},
   "outputs": [],
   "source": [
    "#must use indexing to modify a list element\n",
    "\n",
    "grades = [88,66,99,78,92]\n",
    "\n",
    "#curve all grades below 90 by 5 points\n",
    "for i in range(len(grades)): \n",
    "    if grades[i] < 90:\n",
    "        grades[i] = grades[i] + 5\n",
    "\n",
    "print(grades)"
   ]
  },
  {
   "cell_type": "code",
   "execution_count": null,
   "metadata": {},
   "outputs": [],
   "source": [
    "#enumerate\n",
    "\n",
    "grades = [88,66,99,78,92]\n",
    "\n",
    "for pos, grade in enumerate(grades):\n",
    "    print(pos, grade)\n"
   ]
  },
  {
   "cell_type": "code",
   "execution_count": null,
   "metadata": {},
   "outputs": [],
   "source": [
    "#enumerate\n",
    "\n",
    "grades = [88,66,99,78,92]\n",
    "\n",
    "#you can use an enumerator to modify list contents\n",
    "for pos, grade in enumerate(grades):\n",
    "    #print(pos, grade)\n",
    "    if grade < 90:\n",
    "        grades[pos] = grades[pos] + 5\n",
    "        \n",
    "grades\n"
   ]
  },
  {
   "cell_type": "code",
   "execution_count": null,
   "metadata": {},
   "outputs": [],
   "source": [
    "phrase = 'Hi my name is Fred'\n",
    "phrase\n",
    "words = phrase.split()  #split on space\n",
    "words\n",
    "words[0]\n",
    "for word in words:\n",
    "    print(word)\n",
    "    \n",
    "    \n",
    "reportcard = 'a,b,b+,a-,b,c+'\n",
    "reportcard\n",
    "grades = reportcard.split(',')\n",
    "grades\n",
    "for grade in grades:\n",
    "    print(grade)"
   ]
  },
  {
   "cell_type": "markdown",
   "metadata": {},
   "source": [
    "## Tuples - Immutable"
   ]
  },
  {
   "cell_type": "code",
   "execution_count": null,
   "metadata": {},
   "outputs": [],
   "source": [
    "#create tuple using () rather than []\n",
    "xy_coord = (100, 50)\n",
    "\n",
    "xy_coord"
   ]
  },
  {
   "cell_type": "code",
   "execution_count": null,
   "metadata": {},
   "outputs": [],
   "source": [
    "xy_coord[0]"
   ]
  },
  {
   "cell_type": "code",
   "execution_count": null,
   "metadata": {},
   "outputs": [],
   "source": [
    "xy_coord[1]"
   ]
  },
  {
   "cell_type": "code",
   "execution_count": null,
   "metadata": {},
   "outputs": [],
   "source": [
    "len(xy_coord)"
   ]
  },
  {
   "cell_type": "code",
   "execution_count": null,
   "metadata": {},
   "outputs": [],
   "source": [
    "#error, can't modify tuple element\n",
    "#xy_coord[0] = 90"
   ]
  },
  {
   "cell_type": "code",
   "execution_count": null,
   "metadata": {},
   "outputs": [],
   "source": [
    "min(xy_coord)"
   ]
  },
  {
   "cell_type": "code",
   "execution_count": null,
   "metadata": {},
   "outputs": [],
   "source": [
    "max(xy_coord)"
   ]
  },
  {
   "cell_type": "code",
   "execution_count": null,
   "metadata": {},
   "outputs": [],
   "source": [
    "#error, tuple is immutable\n",
    "#xy_coord.append(5)"
   ]
  },
  {
   "cell_type": "code",
   "execution_count": null,
   "metadata": {},
   "outputs": [],
   "source": []
  },
  {
   "cell_type": "markdown",
   "metadata": {},
   "source": [
    "## Named Tuples - Access elements by name instead of indexing"
   ]
  },
  {
   "cell_type": "code",
   "execution_count": null,
   "metadata": {},
   "outputs": [],
   "source": [
    "#make, model, price, horsepower,seats\n",
    "chevy_blazer = ('Chevrolet', 'Blazer', 32000, 275, 8)  \n",
    "chevy_impala = ('Chevrolet', 'Impala', 37495, 305, 5)  \n",
    "\n",
    "print(chevy_blazer)\n",
    "print(chevy_impala)"
   ]
  },
  {
   "cell_type": "code",
   "execution_count": null,
   "metadata": {},
   "outputs": [],
   "source": [
    "#need to access elements using indexing\n",
    "\n",
    "chevy_blazer[2]  #price"
   ]
  },
  {
   "cell_type": "code",
   "execution_count": null,
   "metadata": {},
   "outputs": [],
   "source": [
    "#add the prices\n",
    "chevy_blazer[2] + chevy_impala[2]"
   ]
  },
  {
   "cell_type": "code",
   "execution_count": null,
   "metadata": {},
   "outputs": [],
   "source": [
    "#compare the prices\n",
    "chevy_blazer[2] < chevy_impala[2]"
   ]
  },
  {
   "cell_type": "code",
   "execution_count": null,
   "metadata": {},
   "outputs": [],
   "source": [
    "#A named tuple lets you access elements using a name rather than index"
   ]
  },
  {
   "cell_type": "code",
   "execution_count": null,
   "metadata": {},
   "outputs": [],
   "source": [
    "from collections import namedtuple\n",
    "\n",
    "Car = namedtuple('Car', ['make','model','price','horsepower','seats'])  # Create the named tuple\n",
    "\n",
    "chevy_blazer = Car('Chevrolet', 'Blazer', 32000, 275, 8)  # Use the named tuple to describe a car\n",
    "chevy_impala = Car('Chevrolet', 'Impala', 37495, 305, 5)  # Use the named tuple to describe a different car\n",
    "\n",
    "print(chevy_blazer)\n",
    "print(chevy_impala)"
   ]
  },
  {
   "cell_type": "code",
   "execution_count": null,
   "metadata": {},
   "outputs": [],
   "source": [
    "#use . instead of [] \n",
    "chevy_blazer.price"
   ]
  },
  {
   "cell_type": "code",
   "execution_count": null,
   "metadata": {},
   "outputs": [],
   "source": [
    "chevy_blazer.price + chevy_impala.price"
   ]
  },
  {
   "cell_type": "code",
   "execution_count": null,
   "metadata": {},
   "outputs": [],
   "source": [
    "chevy_blazer.price < chevy_impala.price"
   ]
  },
  {
   "cell_type": "code",
   "execution_count": null,
   "metadata": {},
   "outputs": [],
   "source": []
  }
 ],
 "metadata": {
  "kernelspec": {
   "display_name": "Python 3",
   "language": "python",
   "name": "python3"
  },
  "language_info": {
   "codemirror_mode": {
    "name": "ipython",
    "version": 3
   },
   "file_extension": ".py",
   "mimetype": "text/x-python",
   "name": "python",
   "nbconvert_exporter": "python",
   "pygments_lexer": "ipython3",
   "version": "3.6.9"
  }
 },
 "nbformat": 4,
 "nbformat_minor": 2
}
