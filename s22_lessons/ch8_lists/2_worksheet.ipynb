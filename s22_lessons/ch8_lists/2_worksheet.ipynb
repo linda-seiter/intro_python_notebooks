{
 "cells": [
  {
   "cell_type": "code",
   "execution_count": 2,
   "metadata": {},
   "outputs": [
    {
     "name": "stdout",
     "output_type": "stream",
     "text": [
      "[6, 3, 8, 4, 2]\n"
     ]
    }
   ],
   "source": [
    "nums = [6,3,8,4,2]\n",
    "print(nums)\n",
    "\n",
    "\n",
    "\n",
    "\n",
    "  "
   ]
  },
  {
   "cell_type": "code",
   "execution_count": 3,
   "metadata": {},
   "outputs": [
    {
     "name": "stdout",
     "output_type": "stream",
     "text": [
      "8\n"
     ]
    }
   ],
   "source": [
    "print(nums[2])\n",
    "\n",
    "\n",
    "\n",
    "  "
   ]
  },
  {
   "cell_type": "code",
   "execution_count": 4,
   "metadata": {},
   "outputs": [
    {
     "name": "stdout",
     "output_type": "stream",
     "text": [
      "6\n",
      "3\n",
      "8\n",
      "4\n",
      "2\n"
     ]
    }
   ],
   "source": [
    "for n in nums:\n",
    "    print(n)\n",
    "    \n",
    "    \n",
    "    \n",
    "    \n",
    "    "
   ]
  },
  {
   "cell_type": "code",
   "execution_count": 5,
   "metadata": {},
   "outputs": [
    {
     "name": "stdout",
     "output_type": "stream",
     "text": [
      "0,6\n",
      "1,3\n",
      "2,8\n",
      "3,4\n",
      "4,2\n"
     ]
    }
   ],
   "source": [
    "for i in range(len(nums)):\n",
    "    print('{},{}'.format(i,nums[i]))\n",
    "    \n",
    "    \n",
    "    \n",
    "    \n",
    "    \n",
    "    \n",
    "      "
   ]
  },
  {
   "cell_type": "code",
   "execution_count": 6,
   "metadata": {},
   "outputs": [
    {
     "name": "stdout",
     "output_type": "stream",
     "text": [
      "[11, 3, 8, 4, 2]\n"
     ]
    }
   ],
   "source": [
    "nums[0] = nums[1] + nums[2]\n",
    "print(nums)\n",
    "\n",
    "\n",
    "\n",
    "\n",
    "\n",
    "   "
   ]
  },
  {
   "cell_type": "code",
   "execution_count": 7,
   "metadata": {
    "scrolled": true
   },
   "outputs": [
    {
     "name": "stdout",
     "output_type": "stream",
     "text": [
      "[11, 3, 8, 4, 12]\n"
     ]
    }
   ],
   "source": [
    "nums[-1] = nums[-2] + nums[-3]\n",
    "print(nums)\n",
    "\n",
    "\n",
    "\n",
    "\n",
    "\n",
    "   "
   ]
  },
  {
   "cell_type": "code",
   "execution_count": 8,
   "metadata": {},
   "outputs": [
    {
     "name": "stdout",
     "output_type": "stream",
     "text": [
      "grade: 75\n",
      "grade: 93\n",
      "grade: 87\n",
      "[70, 88, 82]\n"
     ]
    }
   ],
   "source": [
    "hw1_grades = [70, 88, 82]\n",
    "for grade in hw1_grades:\n",
    "    grade += 5\n",
    "    print('grade:',grade)\n",
    "    \n",
    "print(hw1_grades)\n",
    "\n",
    "\n",
    "\n",
    "\n",
    "   "
   ]
  },
  {
   "cell_type": "code",
   "execution_count": 9,
   "metadata": {},
   "outputs": [
    {
     "name": "stdout",
     "output_type": "stream",
     "text": [
      "grade: 75\n",
      "grade: 93\n",
      "grade: 87\n",
      "[75, 93, 87]\n"
     ]
    }
   ],
   "source": [
    "hw1_grades = [70, 88, 82]\n",
    "for i in range(len(hw1_grades)):\n",
    "    hw1_grades[i] += 5\n",
    "    print('grade:',hw1_grades[i] )\n",
    "    \n",
    "print(hw1_grades)\n",
    "\n",
    "\n",
    "\n",
    "\n",
    "   "
   ]
  },
  {
   "cell_type": "code",
   "execution_count": null,
   "metadata": {},
   "outputs": [],
   "source": [
    "\n",
    "\n",
    "\n",
    "\n",
    "\n",
    "\n",
    "\n",
    "   \n",
    "\n"
   ]
  }
 ],
 "metadata": {
  "kernelspec": {
   "display_name": "Python 3",
   "language": "python",
   "name": "python3"
  },
  "language_info": {
   "codemirror_mode": {
    "name": "ipython",
    "version": 3
   },
   "file_extension": ".py",
   "mimetype": "text/x-python",
   "name": "python",
   "nbconvert_exporter": "python",
   "pygments_lexer": "ipython3",
   "version": "3.6.9"
  }
 },
 "nbformat": 4,
 "nbformat_minor": 2
}
