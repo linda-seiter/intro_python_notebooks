{
 "cells": [
  {
   "cell_type": "code",
   "execution_count": null,
   "metadata": {},
   "outputs": [],
   "source": [
    "#Zybooks section 8.5 - Nested lists"
   ]
  },
  {
   "cell_type": "code",
   "execution_count": null,
   "metadata": {},
   "outputs": [],
   "source": [
    "grade_list = [\n",
    "        [90, 87, 92, 82],   #fred's grades\n",
    "        [72, 97, 84, 94],   #pat's grades\n",
    "        [70, 85, 100, 77]    #bob's grades\n",
    "        ]\n",
    "print('First nested list:')  #row 0, fred's grades\n",
    "print('Second nested list:') #row 1, pat's grades\n",
    "print('Element 0 of first nested list:') #row 0 col 0\n",
    "print('Element 1 of first nested list:') #row 0 col 1\n",
    "print('Element 0 of second nested list:') #row 1 col 0\n",
    "print('Element 1 of second nested list:') #row 1 col 1\n",
    "\n",
    "print()  #number of rows\n",
    "print() #number of columns in row 0\n",
    "print() #number of columns in row 1\n",
    "\n",
    "#CHALLENGE: print bob's grade on 1st test.   Bob's grade on last test. \n",
    "print()\n",
    "\n",
    "#CHALLENGE: What is printed by grade_list[1][2]? How about grade_list[2][1]?\n"
   ]
  },
  {
   "cell_type": "code",
   "execution_count": null,
   "metadata": {},
   "outputs": [],
   "source": [
    "\n",
    "currency = [\n",
    "        [1.00, 5.00, 10.0], # US Dollars\n",
    "        [0.75, 3.77, 7.53], # Euros\n",
    "        [0.65, 3.25, 6.50]  # British pounds\n",
    "]\n",
    "\n",
    "print(currency)\n",
    "#CHALLENGE: print the Euros equivalent for 10.0 US Dollars.\n",
    "print('{} US Dollars = {} Euros'.format())\n",
    "#Print the British pounds equivalent for 1.00 US Dollars.\n",
    "print('{} US Dollars = {} British Pounds'.format()\n",
    "\n",
    "\n",
    "#CHALLENGE: print the entire row for British pounds\n",
    "print()\n",
    "\n",
    "#CHALLENGE: How would you print the number of rows? How about number of cells in first row?\n",
    "print('{} rows'.format()\n",
    "print('{} columns'.format()"
   ]
  },
  {
   "cell_type": "code",
   "execution_count": null,
   "metadata": {},
   "outputs": [],
   "source": [
    "#Looping through nested list using indexing.  \n",
    "currency = [\n",
    "        [1.00, 5.00, 10.00], # US Dollars\n",
    "        [0.75, 3.77, 7.53], # Euros\n",
    "        [0.65, 3.25, 6.50]  # British pounds\n",
    "]\n",
    "\n"
   ]
  },
  {
   "cell_type": "code",
   "execution_count": null,
   "metadata": {},
   "outputs": [],
   "source": [
    "#CHALLENGE: Print the grade list in a row/column format with a field width of 4 since 100 is largest grade.\n",
    "grade_list = [\n",
    "        [90, 87, 92, 82],   #fred's grades\n",
    "        [72, 97, 84, 94],   #pat's grades\n",
    "        [70, 85, 100, 77]    #bob's grades\n",
    "        ]\n"
   ]
  },
  {
   "cell_type": "code",
   "execution_count": null,
   "metadata": {},
   "outputs": [],
   "source": [
    "#CHALLENGE: Add 5 points to each grade, max grade of 100\n",
    "grade_list = [\n",
    "        [90, 87, 92, 82],   #fred's grades\n",
    "        [72, 97, 84, 94],   #pat's grades\n",
    "        [70, 85, 100, 77]    #bob's grades\n",
    "        ]\n"
   ]
  },
  {
   "cell_type": "code",
   "execution_count": null,
   "metadata": {},
   "outputs": [],
   "source": [
    "#Non index-based loop \n",
    "#This works as long as you don't want to change list contents\n",
    "currency = [\n",
    "        [1.00, 5.00, 10.0], # US Dollars\n",
    "        [0.75, 3.77, 7.53], # Euros\n",
    "        [0.65, 3.25, 6.50]  # British pounds\n",
    "]\n"
   ]
  },
  {
   "cell_type": "code",
   "execution_count": null,
   "metadata": {},
   "outputs": [],
   "source": [
    "#CHALLENGE: Non index-based loop through the grades\n",
    "grade_list = [\n",
    "        [90, 87, 92, 82],   #fred's grades\n",
    "        [72, 97, 84, 94],   #pat's grades\n",
    "        [70, 85, 100, 77]    #bob's grades\n",
    "        ]\n",
    "\n"
   ]
  },
  {
   "cell_type": "code",
   "execution_count": null,
   "metadata": {},
   "outputs": [],
   "source": [
    "#CHALLENGE: Average of all grades\n",
    "\n",
    "grade_list = [\n",
    "        [90, 87, 92, 82],   #fred's grades\n",
    "        [72, 97, 84, 94],   #pat's grades\n",
    "        [70, 85, 100, 77]    #bob's grades\n",
    "        ]\n",
    "\n"
   ]
  },
  {
   "cell_type": "code",
   "execution_count": null,
   "metadata": {},
   "outputs": [],
   "source": [
    "\n",
    "grade_list = [\n",
    "        [90, 87, 92, 82],   #fred's grades\n",
    "        [72, 97, 84, 94],   #pat's grades\n",
    "        [70, 85, 100, 77]    #bob's grades\n",
    "        ]\n",
    "\n"
   ]
  },
  {
   "cell_type": "code",
   "execution_count": null,
   "metadata": {},
   "outputs": [],
   "source": [
    "#Matrix - all rows have same number of columns\n",
    "\n",
    "def average(matrix):\n",
    "\n",
    "matrix1 = [ [1,2,3],[4,5,6]]\n",
    "print( average(matrix1))\n",
    "\n",
    "matrix2 = [ [2,8,10,12],[2,2,2,2],[2,2,2,2]]\n",
    "print( average(matrix2))\n"
   ]
  },
  {
   "cell_type": "code",
   "execution_count": null,
   "metadata": {},
   "outputs": [],
   "source": [
    "#Matrix - all rows have same number of columns\n",
    "\n",
    "\n",
    "matrix1 = [ [1,2,3],[4,5,6]]\n",
    "print( find_max(matrix1))\n",
    "\n",
    "matrix2 = [ [2,8,10,12],[2,2,2,2],[2,2,2,2]]\n",
    "print( find_max(matrix2))\n"
   ]
  },
  {
   "cell_type": "code",
   "execution_count": null,
   "metadata": {},
   "outputs": [],
   "source": [
    "#Matrix - all rows have same number of columns\n",
    "\n",
    "            \n",
    "matrix1 = [ [1,2,3],[4,5,6]]\n",
    "multiply(matrix1, 4)\n",
    "print(matrix1)\n"
   ]
  },
  {
   "cell_type": "code",
   "execution_count": null,
   "metadata": {},
   "outputs": [],
   "source": []
  },
  {
   "cell_type": "code",
   "execution_count": null,
   "metadata": {},
   "outputs": [],
   "source": [
    "# direct driving distances between cities, in miles\n",
    "# 0: Boston    1: Chicago    2: Los Angeles\n",
    "\n",
    "distances = [\n",
    "    [\n",
    "        0,  \n",
    "        960,  # Boston-Chicago\n",
    "        2960 # Boston-Los Angeles\n",
    "    ],\n",
    "    [\n",
    "        960,  # Chicago-Boston\n",
    "        0,\n",
    "        2011  # Chicago-Los Angeles\n",
    "    ],\n",
    "    [\n",
    "        2960,  # Los Angeles-Boston\n",
    "        2011,  # Los-Angeles-Chicago\n",
    "        0\n",
    "    ]\n",
    "]\n",
    "\n",
    "user_input = input('Enter city pair (Ex: 1 2) -- ').strip()\n",
    "input_list= user_input.split()  #\n",
    "print(input_list)\n",
    "city1=int(input_list[0])\n",
    "city2=int(input_list[1])\n",
    "\n",
    "print('Distance: {} miles'.format(distances[city1][city2]))\n"
   ]
  },
  {
   "cell_type": "code",
   "execution_count": null,
   "metadata": {},
   "outputs": [],
   "source": [
    "# direct driving distances between cities, in miles\n",
    "# 0: Boston    1: Chicago    2: Los Angeles\n",
    "\n",
    "city_names = ['Boston','Chicago','LosAngeles']\n",
    "\n",
    "\n",
    "distances = [\n",
    "    [\n",
    "        0,  \n",
    "        960,  # Boston-Chicago\n",
    "        2960 # Boston-Los Angeles\n",
    "    ],\n",
    "    [\n",
    "        960,  # Chicago-Boston\n",
    "        0,\n",
    "        2011  # Chicago-Los Angeles\n",
    "    ],\n",
    "    [\n",
    "        2960,  # Los Angeles-Boston\n",
    "        2011,  # Los Angeles-Chicago\n",
    "        0\n",
    "    ]\n",
    "]\n",
    "\n",
    "user_input = input('Enter city name pair (Ex: Chicago LosAngeles) -- ').strip()\n",
    "input_list= user_input.split()\n",
    "print(input_list)\n",
    "city1=city_names.index(input_list[0])\n",
    "city2=city_names.index(input_list[1])\n",
    "\n",
    "\n",
    "print('Distance: {} miles'.format(distances[city1][city2]))\n",
    "\n"
   ]
  }
 ],
 "metadata": {
  "kernelspec": {
   "display_name": "Python 3",
   "language": "python",
   "name": "python3"
  },
  "language_info": {
   "codemirror_mode": {
    "name": "ipython",
    "version": 3
   },
   "file_extension": ".py",
   "mimetype": "text/x-python",
   "name": "python",
   "nbconvert_exporter": "python",
   "pygments_lexer": "ipython3",
   "version": "3.6.9"
  }
 },
 "nbformat": 4,
 "nbformat_minor": 2
}
