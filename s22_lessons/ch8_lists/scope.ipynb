{
 "cells": [
  {
   "cell_type": "markdown",
   "metadata": {},
   "source": [
    "Section 6.10 Variable Scope"
   ]
  },
  {
   "cell_type": "code",
   "execution_count": null,
   "metadata": {},
   "outputs": [],
   "source": [
    "#PA 2.3.2\n",
    "\n",
    "bob_salary = 25000\n",
    "tom_salary = 30000\n",
    "bob_salary = tom_salary\n",
    "tom_salary = tom_salary * 1.2\n",
    "total_salaries = bob_salary + tom_salary\n",
    "\n"
   ]
  },
  {
   "cell_type": "code",
   "execution_count": null,
   "metadata": {},
   "outputs": [],
   "source": [
    "A variable is only visible to part of a program, known as the scope. \n",
    "\n",
    "A variable defined outside of a function is called a global variable.\n",
    "Global variable scope extends from the initial assignment to the end of the file and the global variable\n",
    "can be accessed inside any function.\n",
    "\n",
    "You will have an error if you try to access/reference a variable before it is assigned a value, since its scope begins\n",
    "at the first assignment statement."
   ]
  },
  {
   "cell_type": "code",
   "execution_count": null,
   "metadata": {},
   "outputs": [],
   "source": []
  },
  {
   "cell_type": "code",
   "execution_count": null,
   "metadata": {},
   "outputs": [],
   "source": [
    "#Which lines of code cause scope error?\n",
    "\n",
    "\n",
    "a=10\n",
    "b=7\n",
    "print(a)  \n",
    "print(b)  \n",
    "print(c)  \n",
    "c=8\n",
    "print(c)  \n",
    "\n",
    "d=b      \n",
    "e=f      \n",
    "f=a      \n",
    "e=f     "
   ]
  },
  {
   "cell_type": "code",
   "execution_count": null,
   "metadata": {},
   "outputs": [],
   "source": [
    "#slight detour, remember how to swap two variables?  what happens when variable on lhs and rhs of assignment?\n",
    "\n",
    "a=10\n",
    "b=7\n",
    "print('a=',a,'b=',b)\n",
    "\n",
    "#this does not work\n",
    "a=b\n",
    "b=a\n",
    "print('a=',a,'b=',b)\n",
    "\n"
   ]
  },
  {
   "cell_type": "code",
   "execution_count": null,
   "metadata": {},
   "outputs": [],
   "source": [
    "#need a temporary variable to preserve variable a before assigning it to b\n",
    "a=10\n",
    "b=7\n",
    "print('a=',a,'b=',b)\n",
    "\n",
    "\n",
    "\n"
   ]
  },
  {
   "cell_type": "markdown",
   "metadata": {},
   "source": [
    "\n",
    "When a variable is created inside a function, the variable  scope is limited to inside that function. \n",
    "In fact, because a variable name does not exist until bound to an object (assigned a value), \n",
    "the variable scope is actually limited to after the first assignment of the variable until the end of the function.\n",
    "\n",
    "A parameter is a local variable that is bound to the argument value passed at the function call.  The scope of the parameter\n",
    "variable is the entire function body since it is assigned a value at the function call.\n"
   ]
  },
  {
   "cell_type": "code",
   "execution_count": null,
   "metadata": {},
   "outputs": [],
   "source": [
    "#NOTE: Variation of example 6.10.1\n",
    "\n",
    "def height_US_to_centimeters(feet, inches):\n",
    "    total_inches = (feet * inches_per_foot) + inches  #notice this uses global inches_per_foot\n",
    "    centimeters = total_inches * centimeters_per_inch  #uses global centimeters_per_inch\n",
    "    return centimeters\n",
    "\n",
    "#global variables since they are defined outside of a function\n",
    "centimeters_per_inch = 2.54\n",
    "inches_per_foot = 12\n",
    "\n",
    "bob_ft=5\n",
    "bob_inch=7\n",
    "bob_cm = height_US_to_centimeters(bob_ft, bob_inch)\n",
    "print('bob cm:', bob_cm)\n",
    "\n",
    "lee_ft=6\n",
    "lee_inch=4\n",
    "lee_cm = height_US_to_centimeters(lee_ft, lee_inch)\n",
    "print('lee cm:', lee_cm)\n",
    "\n"
   ]
  },
  {
   "cell_type": "markdown",
   "metadata": {},
   "source": [
    "Global scope - centimeters_per_inch, inches_per_foot, bob_ft, bob_inch, bob_cm, lee_ft, lee_inch, lee_cm\n",
    "Local scope - feet (parameter), inches (parameter), total_inches, centimeters\n",
    "\n",
    "A local variable is only visible within the function.\n",
    "A global variable is visible both inside and outside of functions.\n",
    "A local variable can have the same name as a global variable.  The local variable hides the global with the same name."
   ]
  },
  {
   "cell_type": "code",
   "execution_count": null,
   "metadata": {},
   "outputs": [],
   "source": [
    "#global variables used inside function.  list before function just to make clear they are used by function\n",
    "centimeters_per_inch = 2.54\n",
    "inches_per_foot = 12\n",
    "\n",
    "def height_US_to_centimeters(feet, inches):\n",
    "    total_inches = (feet * inches_per_foot) + inches  #notice this uses global inches_per_foot\n",
    "    centimeters = total_inches * centimeters_per_inch  #uses global centimeters_per_inch\n",
    "    return centimeters\n",
    "\n",
    "\n",
    "#main algorithm.  global variables not used in function, put after function.\n",
    "\n",
    "bob_ft=5\n",
    "bob_inch=7\n",
    "bob_cm = height_US_to_centimeters(bob_ft, bob_inch)\n",
    "print('bob cm:', bob_cm)\n",
    "\n",
    "lee_ft=6\n",
    "lee_inch=4\n",
    "lee_cm = height_US_to_centimeters(lee_ft, lee_inch)\n",
    "print('lee cm:', lee_cm)\n",
    "\n"
   ]
  },
  {
   "cell_type": "markdown",
   "metadata": {},
   "source": [
    "The following examples do not demonstrate good coding style (reassigning  parameters and globals within a function is usually a bad idea), but the examples help to demonstrate scope."
   ]
  },
  {
   "cell_type": "code",
   "execution_count": null,
   "metadata": {},
   "outputs": [],
   "source": [
    "def m(a,b):\n",
    "    c=a+b  \n",
    "    d=a*e  \n",
    "    print(\"m:\",a,b,c,d) \n",
    "    \n",
    "a=5\n",
    "b=6\n",
    "c=7\n",
    "d=8\n",
    "e=9\n",
    "m(a,b)\n",
    "print(\"global:\",a,b,c,d,e)  \n",
    "\n",
    "\n",
    "m(b,a)\n",
    "print(\"global:\",a,b,c,d,e)  \n",
    "       "
   ]
  },
  {
   "cell_type": "markdown",
   "metadata": {},
   "source": [
    "Functions also have scope.  In the example above, the function m has global scope (it is visible from the point it is declared to the end of the Python code block).  The function print has built-in scope, since it is a function that comes predefined with the Python language and it is not something we have to write."
   ]
  },
  {
   "cell_type": "code",
   "execution_count": null,
   "metadata": {},
   "outputs": [],
   "source": []
  },
  {
   "cell_type": "code",
   "execution_count": null,
   "metadata": {},
   "outputs": [],
   "source": []
  },
  {
   "cell_type": "markdown",
   "metadata": {},
   "source": [
    "\n",
    "When a function modifies a parameter, whether or not that modification is seen outside the scope of the function depends on the mutability of the argument object.\n",
    "\n",
    "Python uses something called \"passed by assignment\" which acts similar to \"pass by value\" for immutable objects (like strings, integers, floats, booleans) and \"pass by reference\" for mutable objects (list, dictionary).\n",
    "\n",
    "Assigning a parameter variable a new value within the function will not affect the global object passed as the argument if the object is immutable (string, integer, etc) but it will affect the global if it is mutable such as a list."
   ]
  },
  {
   "cell_type": "code",
   "execution_count": null,
   "metadata": {},
   "outputs": [],
   "source": [
    "def n(a,b,c):\n",
    "    a += 1  \n",
    "    b += b  \n",
    "    c = 'hello' \n",
    "    d = 'bye' \n",
    "    print(\"n:\",a,b,c,d)\n",
    "    \n",
    "n(1,2,'hi')\n",
    "\n",
    "a=5\n",
    "b=6\n",
    "c='howdy'\n",
    "print(\"global:\",a,b,c) \n",
    "n(a,b,c)\n",
    "print(\"global:\",a,b,c)  \n",
    "      \n",
    "a=1\n",
    "b=2\n",
    "print(\"global:\",a,b,c) \n",
    "n(b,a,c)\n",
    "print(\"global:\",a,b,c)  \n",
    "n(a,a,a)\n",
    "print(\"global:\",a,b,c)\n",
    "\n"
   ]
  },
  {
   "cell_type": "code",
   "execution_count": null,
   "metadata": {},
   "outputs": [],
   "source": [
    "#lists are mutable, so changes made in the function affect the global list object passed as parameter\n",
    "\n",
    "def increment_list_item(list, index, amount):\n",
    "    list[index] += amount\n",
    "    \n",
    "list1 = [6,8,12]\n",
    "print('before list1',list1)\n",
    "increment_list_item(list1, 2, 10)\n",
    "print('after',list1)\n",
    "increment_list_item(list1, 0, -5)\n",
    "print('after',list1)\n",
    "\n",
    "list2=[9,8,7,6,5,4]\n",
    "print('before list2',list1)\n",
    "increment_list_item(list2, 5, list2[0])\n",
    "print('after',list2)\n"
   ]
  },
  {
   "cell_type": "code",
   "execution_count": null,
   "metadata": {},
   "outputs": [],
   "source": [
    "#why does this not work?\n",
    "\n",
    "def double_all_bad(list):\n",
    "    #this type of for loop can access list elements but can't change them.\n",
    "    for element in list:\n",
    "        element *= 2\n",
    "        \n",
    "list1 = [6,8,12]\n",
    "print('before list1',list1)\n",
    "double_all_bad(list1)\n",
    "print('after',list1)\n"
   ]
  },
  {
   "cell_type": "code",
   "execution_count": null,
   "metadata": {},
   "outputs": [],
   "source": [
    "#write function to take parameter as a list and double each element value\n"
   ]
  },
  {
   "cell_type": "markdown",
   "metadata": {},
   "source": [
    "Assignment of global variables in functions should be used sparingly. \n",
    "\n",
    "If a local variable (including a parameter) has the same name as a global variable, then the naming can be very confusing to a reader. \n",
    "\n",
    "Furthermore, if a function updates the global variable, then that function's behavior is no longer limited to its parameters and return value; the function may have side effects that are hard for a programmer to recognize. \n",
    "\n",
    "Good practice is to limit the use of global variables to defining constants that are independent of any function. \n",
    "\n",
    "Global variables should generally be avoided (with a few exceptions), especially by beginner programmers."
   ]
  },
  {
   "cell_type": "code",
   "execution_count": null,
   "metadata": {},
   "outputs": [],
   "source": []
  },
  {
   "cell_type": "code",
   "execution_count": null,
   "metadata": {},
   "outputs": [],
   "source": []
  },
  {
   "cell_type": "code",
   "execution_count": null,
   "metadata": {},
   "outputs": [],
   "source": []
  }
 ],
 "metadata": {
  "kernelspec": {
   "display_name": "Python 3",
   "language": "python",
   "name": "python3"
  },
  "language_info": {
   "codemirror_mode": {
    "name": "ipython",
    "version": 3
   },
   "file_extension": ".py",
   "mimetype": "text/x-python",
   "name": "python",
   "nbconvert_exporter": "python",
   "pygments_lexer": "ipython3",
   "version": "3.6.9"
  }
 },
 "nbformat": 4,
 "nbformat_minor": 2
}
