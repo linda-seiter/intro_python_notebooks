{
 "cells": [
  {
   "cell_type": "code",
   "execution_count": null,
   "metadata": {},
   "outputs": [],
   "source": [
    "#Technique using nested loops\n",
    "\n",
    "def print_max_per_row(matrix):\n",
    "    \n",
    "    for r in range(len(matrix)):\n",
    "        max=matrix[r][0]  #initialize to first cell in row\n",
    "        \n",
    "        #skip first cell\n",
    "        for c in range(1,len(matrix[r])):\n",
    "            if (max < matrix[r][c]):\n",
    "                max = matrix[r][c]\n",
    "        print('max in row {} is {}'.format(r,max))\n",
    "\n",
    "            \n",
    "matrix1 = [ [8,3,12,2],[9,2,5,7]]\n",
    "print_max_per_row(matrix1)\n"
   ]
  },
  {
   "cell_type": "code",
   "execution_count": null,
   "metadata": {},
   "outputs": [],
   "source": [
    "#Technique using nested loops\n",
    "\n",
    "\n",
    "def get_max_per_row(matrix):\n",
    "    max_list = []\n",
    "    for r in range(len(matrix)):\n",
    "        max=matrix[r][0]  #initialize to first cell in row\n",
    "        \n",
    "        #skip first cell\n",
    "        for c in range(1,len(matrix[r])):\n",
    "            if (max < matrix[r][c]):\n",
    "                max = matrix[r][c]\n",
    "        max_list.append(max)\n",
    "    return max_list\n",
    "\n",
    "            \n",
    "matrix1 = [ [8,3,12,2],[9,2,5,7]]\n",
    "assert(get_max_per_row(matrix1) == [12,9])\n",
    "\n",
    "print('Tests passed')"
   ]
  },
  {
   "cell_type": "code",
   "execution_count": null,
   "metadata": {},
   "outputs": [],
   "source": []
  },
  {
   "cell_type": "code",
   "execution_count": null,
   "metadata": {},
   "outputs": [],
   "source": []
  },
  {
   "cell_type": "code",
   "execution_count": null,
   "metadata": {},
   "outputs": [],
   "source": [
    "#Technique using separate helper function that computes given non-nested list\n",
    "\n",
    "def print_max_in_list(list):\n",
    "    max=list[0]  #initialize to first cell in list\n",
    "        \n",
    "    #skip first cell\n",
    "    for c in range(1,len(list)):\n",
    "        if (max < list[c]):\n",
    "            max = list[c]\n",
    "    print('max in list is {}'.format(max))\n",
    "\n",
    "def print_max_per_row_V2(matrix):\n",
    "    \n",
    "    for r in range(len(matrix)):\n",
    "        next_row = matrix[r]\n",
    "        print_max_in_list(next_row)\n",
    "\n",
    "            \n",
    "matrix1 = [ [8,3,12,2],[9,2,5,7]]\n",
    "print_max_per_row_V2(matrix1)\n"
   ]
  },
  {
   "cell_type": "code",
   "execution_count": null,
   "metadata": {},
   "outputs": [],
   "source": [
    "#Technique using helper function that works with a list\n",
    "\n",
    "def get_max_in_list(list):\n",
    "    max=list[0]\n",
    "    #skip first cell\n",
    "    for c in range(1,len(list)):\n",
    "        if (max < list[c]):\n",
    "            max = list[c]\n",
    "    return max\n",
    "\n",
    "def get_max_per_row_V2(matrix):\n",
    "    max_list = []\n",
    "    for r in range(len(matrix)):\n",
    "        next_row = matrix[r]\n",
    "        max=get_max_in_list(next_row)\n",
    "        max_list.append(max)\n",
    "    return max_list\n",
    "\n",
    "            \n",
    "matrix1 = [ [8,3,12,2],[9,2,5,7]]\n",
    "assert(get_max_per_row_V2(matrix1) == [12,9])\n",
    "\n",
    "print('Tests passed')"
   ]
  },
  {
   "cell_type": "code",
   "execution_count": null,
   "metadata": {},
   "outputs": [],
   "source": [
    "#Technique using helper function that works with a list\n",
    "\n",
    "def average(list):\n",
    "    sum=0\n",
    "    for c in range(len(list)):\n",
    "        sum += list[c]\n",
    "    return sum//len(list)\n",
    "\n",
    "def avg_per_student(matrix):\n",
    "    avg_list = []\n",
    "    for r in range(len(matrix)):\n",
    "        next_row = matrix[r]\n",
    "        student_avg=avg(next_row)\n",
    "        avg_list.append(student_avg)\n",
    "    return avg_list\n",
    "\n",
    "            \n",
    "grades = [ \n",
    "    [60,70,80,90],\n",
    "    [80,88,72,90],\n",
    "    [100,84,88,92]\n",
    "]\n",
    "\n",
    "print(avg_per_student(grades))"
   ]
  }
 ],
 "metadata": {
  "kernelspec": {
   "display_name": "Python 3",
   "language": "python",
   "name": "python3"
  },
  "language_info": {
   "codemirror_mode": {
    "name": "ipython",
    "version": 3
   },
   "file_extension": ".py",
   "mimetype": "text/x-python",
   "name": "python",
   "nbconvert_exporter": "python",
   "pygments_lexer": "ipython3",
   "version": "3.6.9"
  }
 },
 "nbformat": 4,
 "nbformat_minor": 2
}
