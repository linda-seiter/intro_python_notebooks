{
 "cells": [
  {
   "cell_type": "code",
   "execution_count": null,
   "metadata": {},
   "outputs": [],
   "source": [
    "#Zybooks section 8.5 - Nested lists"
   ]
  },
  {
   "cell_type": "code",
   "execution_count": null,
   "metadata": {},
   "outputs": [],
   "source": [
    "grade_list = [\n",
    "        [90, 87, 92, 82],   #fred's grades\n",
    "        [72, 97, 84, 94],   #pat's grades\n",
    "        [70, 85, 100, 77]    #bob's grades\n",
    "        ]\n",
    "print('First nested list:', grade_list[0])  #row 0\n",
    "print('Second nested list:', grade_list[1]) #row 1\n",
    "print('Element 0 of first nested list:', grade_list[0][0]) #row 0 col 0\n",
    "print('Element 1 of first nested list:', grade_list[0][1]) #row 0 col 1\n",
    "print('Element 0 of second nested list:', grade_list[1][0]) #row 1 col 0\n",
    "print('Element 1 of second nested list:', grade_list[1][1]) #row 1 col 1\n",
    "\n",
    "print(len(grade_list))  #number of rows\n",
    "print(len(grade_list[0])) #number of columns in row 0\n",
    "print(len(grade_list[1])) #number of columns in row 1\n",
    "\n",
    "#CHALLENGE: print bob's grade on 1st test.   Bob's grade on last test. \n",
    "print(grade_list[2][0])\n",
    "\n",
    "#CHALLENGE: What is printed by grade_list[1][2]? How about grade_list[2][1]?\n"
   ]
  },
  {
   "cell_type": "code",
   "execution_count": null,
   "metadata": {},
   "outputs": [],
   "source": [
    "currency = [\n",
    "        [1.00, 5.00, 10.0], # US Dollars\n",
    "        [0.75, 3.77, 7.53], # Euros\n",
    "        [0.65, 3.25, 6.50]  # British pounds\n",
    "]\n",
    "\n",
    "print(currency)\n",
    "#CHALLENGE: print the Euros equivalent for 10.0 US Dollars.\n",
    "#Print the British pounds equivalent for 1.00 US Dollars.\n",
    "\n",
    "\n",
    "#CHALLENGE: print the entire row for British pounds\n",
    "\n",
    "\n",
    "#CHALLENGE: How would you print the number of rows? How about number of cells in first row?"
   ]
  },
  {
   "cell_type": "code",
   "execution_count": null,
   "metadata": {},
   "outputs": [],
   "source": [
    "#Looping through nested list using indexing.  \n",
    "currency = [\n",
    "        [1.00, 5.00, 10.0], # US Dollars\n",
    "        [0.75, 3.77, 7.53], # Euros\n",
    "        [0.65, 3.25, 6.50]  # British pounds\n",
    "]\n",
    "for r in range(len(currency)):\n",
    "    for c in range(len(currency[r])):\n",
    "        print('{:8.4}'.format(currency[r][c]), end=' ') #field width 8, max 4 digits total\n",
    "    print()"
   ]
  },
  {
   "cell_type": "code",
   "execution_count": null,
   "metadata": {},
   "outputs": [],
   "source": [
    "#CHALLENGE: Print the grade list in a row/column format with a field width of 3 since 100 is largest grade.\n",
    "grade_list = [\n",
    "        [90, 87, 92, 82],   #fred's grades\n",
    "        [72, 97, 84, 94],   #pat's grades\n",
    "        [70, 85, 100, 77]    #bob's grades\n",
    "        ]\n",
    "\n",
    "for r in range(len(grade_list)):\n",
    "    for c in range(len(grade_list[r])):\n",
    "        print('{:3}'.format(grade_list[r][c]), end=' ')\n",
    "    print()"
   ]
  },
  {
   "cell_type": "code",
   "execution_count": null,
   "metadata": {},
   "outputs": [],
   "source": [
    "#CHALLENGE: Add 5 points to each grade\n",
    "grade_list = [\n",
    "        [90, 87, 92, 82],   #fred's grades\n",
    "        [72, 97, 84, 94],   #pat's grades\n",
    "        [70, 85, 100, 77]    #bob's grades\n",
    "        ]\n",
    "\n",
    "for r in range(len(grade_list)):\n",
    "    for c in range(len(grade_list[r])):\n",
    "        #grade_list[r][c] += 5\n",
    "        grade_list[r][c] = min(100, grade_list[r][c] + 5)\n",
    "        print('{:3}'.format(grade_list[r][c]), end=' ')\n",
    "    print()"
   ]
  },
  {
   "cell_type": "code",
   "execution_count": null,
   "metadata": {},
   "outputs": [],
   "source": [
    "#Non index-based loop \n",
    "#This works as long as you don't want to change list contents\n",
    "currency = [\n",
    "        [1.00, 5.00, 10.0], # US Dollars\n",
    "        [0.75, 3.77, 7.53], # Euros\n",
    "        [0.65, 3.25, 6.50]  # British pounds\n",
    "]\n",
    "for row in currency:\n",
    "    for cell in row:\n",
    "        print('{:6}'.format(cell), end=' ')\n",
    "    print()\n",
    "\n"
   ]
  },
  {
   "cell_type": "code",
   "execution_count": null,
   "metadata": {},
   "outputs": [],
   "source": [
    "#CHALLENGE: Non index-based loop through the grades\n",
    "grade_list = [\n",
    "        [90, 87, 92, 82],   #fred's grades\n",
    "        [72, 97, 84, 94],   #pat's grades\n",
    "        [70, 85, 100, 77]    #bob's grades\n",
    "        ]\n",
    "\n",
    "for row in grade_list:\n",
    "    for cell in row:\n",
    "        print('{:6}'.format(cell), end=' ')\n",
    "    print()"
   ]
  },
  {
   "cell_type": "code",
   "execution_count": 55,
   "metadata": {},
   "outputs": [
    {
     "name": "stdout",
     "output_type": "stream",
     "text": [
      "85.83333333333333\n"
     ]
    }
   ],
   "source": [
    "#CHALLENGE: Average of all grades\n",
    "\n",
    "grade_list = [\n",
    "        [90, 87, 92, 82],   #fred's grades\n",
    "        [72, 97, 84, 94],   #pat's grades\n",
    "        [70, 85, 100, 77]    #bob's grades\n",
    "        ]\n",
    "\n",
    "total = 0\n",
    "count = 0\n",
    "for row in grade_list:\n",
    "    for cell in row:\n",
    "        total += cell\n",
    "        count += 1\n",
    "print(total/count)"
   ]
  },
  {
   "cell_type": "code",
   "execution_count": 57,
   "metadata": {},
   "outputs": [
    {
     "ename": "AttributeError",
     "evalue": "'list' object has no attribute 'sum'",
     "output_type": "error",
     "traceback": [
      "\u001b[0;31m---------------------------------------------------------------------------\u001b[0m",
      "\u001b[0;31mAttributeError\u001b[0m                            Traceback (most recent call last)",
      "\u001b[0;32m<ipython-input-57-ca6460a2bb09>\u001b[0m in \u001b[0;36m<module>\u001b[0;34m()\u001b[0m\n\u001b[1;32m      9\u001b[0m \u001b[0;34m\u001b[0m\u001b[0m\n\u001b[1;32m     10\u001b[0m \u001b[0;32mfor\u001b[0m \u001b[0mrow\u001b[0m \u001b[0;32min\u001b[0m \u001b[0mgrade_list\u001b[0m\u001b[0;34m:\u001b[0m\u001b[0;34m\u001b[0m\u001b[0;34m\u001b[0m\u001b[0m\n\u001b[0;32m---> 11\u001b[0;31m     \u001b[0mtotal\u001b[0m \u001b[0;34m+=\u001b[0m \u001b[0mrow\u001b[0m\u001b[0;34m.\u001b[0m\u001b[0msum\u001b[0m\u001b[0;34m(\u001b[0m\u001b[0;34m)\u001b[0m\u001b[0;34m\u001b[0m\u001b[0;34m\u001b[0m\u001b[0m\n\u001b[0m\u001b[1;32m     12\u001b[0m     \u001b[0mcount\u001b[0m \u001b[0;34m+=\u001b[0m \u001b[0mlen\u001b[0m\u001b[0;34m(\u001b[0m\u001b[0mrow\u001b[0m\u001b[0;34m)\u001b[0m\u001b[0;34m\u001b[0m\u001b[0;34m\u001b[0m\u001b[0m\n\u001b[1;32m     13\u001b[0m \u001b[0;34m\u001b[0m\u001b[0m\n",
      "\u001b[0;31mAttributeError\u001b[0m: 'list' object has no attribute 'sum'"
     ]
    }
   ],
   "source": [
    "grade_list = [\n",
    "        [90, 87, 92, 82],   #fred's grades\n",
    "        [72, 97, 84, 94],   #pat's grades\n",
    "        [70, 85, 100, 77]    #bob's grades\n",
    "        ]\n",
    "\n",
    "total = 0\n",
    "count = 0\n",
    "\n",
    "for row in grade_list:\n",
    "    total += sum(row)\n",
    "    count += len(row)\n",
    "    \n",
    "print(total/count)"
   ]
  },
  {
   "cell_type": "code",
   "execution_count": null,
   "metadata": {},
   "outputs": [],
   "source": [
    "#Matrix - all rows have same number of columns\n",
    "\n",
    "def average(matrix):\n",
    "    num_rows=len(matrix)\n",
    "    num_cols=len(matrix[0])  #get the length of first row\n",
    "    num_cells=num_rows*num_cols\n",
    "    sum=0\n",
    "    for row in matrix:\n",
    "        for cell in row:\n",
    "            sum += cell\n",
    "    return sum/num_cells\n",
    "\n",
    "matrix1 = [ [1,2,3],[4,5,6]]\n",
    "print( average(matrix1))\n",
    "\n",
    "matrix2 = [ [2,8,10,12],[2,2,2,2],[2,2,2,2]]\n",
    "print( average(matrix2))\n"
   ]
  },
  {
   "cell_type": "code",
   "execution_count": null,
   "metadata": {},
   "outputs": [],
   "source": [
    "#Matrix - all rows have same number of columns\n",
    "\n",
    "def find_max(matrix):\n",
    "    max=matrix[0][0] # initialize to first cell\n",
    "    for row in matrix:\n",
    "        for cell in row:\n",
    "            if cell > max:\n",
    "                max = cell\n",
    "    return max\n",
    "\n",
    "matrix1 = [ [1,2,3],[4,5,6]]\n",
    "print( find_max(matrix1))\n",
    "\n",
    "matrix2 = [ [2,8,10,12],[2,2,2,2],[2,2,2,2]]\n",
    "print( find_max(matrix2))\n"
   ]
  },
  {
   "cell_type": "code",
   "execution_count": null,
   "metadata": {},
   "outputs": [],
   "source": [
    "#Matrix - all rows have same number of columns\n",
    "\n",
    "def multiply(matrix, n):\n",
    "    max=matrix[0][0] # initialize to first cell\n",
    "    for r in range(len(matrix)):\n",
    "        for c in range(len(matrix[r])):\n",
    "            matrix[r][c] *= n\n",
    "\n",
    "            \n",
    "matrix1 = [ [1,2,3],[4,5,6]]\n",
    "multiply(matrix1, 4)\n",
    "print(matrix1)\n"
   ]
  },
  {
   "cell_type": "code",
   "execution_count": null,
   "metadata": {},
   "outputs": [],
   "source": []
  },
  {
   "cell_type": "code",
   "execution_count": null,
   "metadata": {},
   "outputs": [],
   "source": [
    "# direct driving distances between cities, in miles\n",
    "# 0: Boston    1: Chicago    2: Los Angeles\n",
    "\n",
    "distances = [\n",
    "    [\n",
    "        0,  \n",
    "        960,  # Boston-Chicago\n",
    "        2960 # Boston-Los Angeles\n",
    "    ],\n",
    "    [\n",
    "        960,  # Chicago-Boston\n",
    "        0,\n",
    "        2011  # Chicago-Los Angeles\n",
    "    ],\n",
    "    [\n",
    "        2960,  # Los Angeles-Boston\n",
    "        2011,  # Los-Angeles-Chicago\n",
    "        0\n",
    "    ]\n",
    "]\n",
    "\n",
    "user_input = input('Enter city pair (Ex: 1 2) -- ').strip()\n",
    "input_list= user_input.split()  #\n",
    "print(input_list)\n",
    "city1=int(input_list[0])\n",
    "city2=int(input_list[1])\n",
    "\n",
    "print('Distance: {} miles'.format(distances[city1][city2]))\n"
   ]
  },
  {
   "cell_type": "code",
   "execution_count": null,
   "metadata": {},
   "outputs": [],
   "source": [
    "# direct driving distances between cities, in miles\n",
    "# 0: Boston    1: Chicago    2: Los Angeles\n",
    "\n",
    "city_names = ['Boston','Chicago','LosAngeles']\n",
    "\n",
    "\n",
    "distances = [\n",
    "    [\n",
    "        0,  \n",
    "        960,  # Boston-Chicago\n",
    "        2960 # Boston-Los Angeles\n",
    "    ],\n",
    "    [\n",
    "        960,  # Chicago-Boston\n",
    "        0,\n",
    "        2011  # Chicago-Los Angeles\n",
    "    ],\n",
    "    [\n",
    "        2960,  # Los Angeles-Boston\n",
    "        2011,  # Los Angeles-Chicago\n",
    "        0\n",
    "    ]\n",
    "]\n",
    "\n",
    "user_input = input('Enter city name pair (Ex: Chicago LosAngeles) -- ').strip()\n",
    "input_list= user_input.split()\n",
    "print(input_list)\n",
    "city1=city_names.index(input_list[0])\n",
    "city2=city_names.index(input_list[1])\n",
    "\n",
    "\n",
    "print('Distance: {} miles'.format(distances[city1][city2]))\n",
    "\n"
   ]
  }
 ],
 "metadata": {
  "kernelspec": {
   "display_name": "Python 3",
   "language": "python",
   "name": "python3"
  },
  "language_info": {
   "codemirror_mode": {
    "name": "ipython",
    "version": 3
   },
   "file_extension": ".py",
   "mimetype": "text/x-python",
   "name": "python",
   "nbconvert_exporter": "python",
   "pygments_lexer": "ipython3",
   "version": "3.6.9"
  }
 },
 "nbformat": 4,
 "nbformat_minor": 2
}
