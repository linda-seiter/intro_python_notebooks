{
 "cells": [
  {
   "cell_type": "code",
   "execution_count": null,
   "metadata": {},
   "outputs": [],
   "source": [
    "#Ask the user for 5 numbers, storing them in a list.\n",
    "\n",
    "nums = []  #empty list\n",
    "for i in range(5):\n",
    "    next_num = int(input('enter next number:'))\n",
    "    nums.append(next_num)  #must use append to add element\n",
    "\n",
    "print(nums)"
   ]
  },
  {
   "cell_type": "code",
   "execution_count": null,
   "metadata": {},
   "outputs": [],
   "source": [
    "#CHALLENGE:\n",
    "#Read in numbers to add to list.\n",
    "#Stop when 0 entered (don't add 0 to the list)\n",
    "#Print the list contents after the loop.\n",
    "\n"
   ]
  },
  {
   "cell_type": "code",
   "execution_count": 6,
   "metadata": {},
   "outputs": [
    {
     "name": "stdout",
     "output_type": "stream",
     "text": [
      "[88, 66, 90, 78, 92]\n",
      "[88, 66, 90, 78, 92]\n"
     ]
    }
   ],
   "source": [
    "#modifying elements of a list, curve all grades below 90\n",
    "#THIS WON'T WORK BECAUSE NEED TO KNOW POSITION OF ELEMENT\n",
    "\n",
    "grades = [88,66,90,78,92]\n",
    "print(grades)\n",
    "#grade is a temporary variable that has a COPY of the list element\n",
    "#grade does not directly reference the list element\n",
    "for grade in grades: \n",
    "        grade+= 5   #does not change array element\n",
    "\n",
    "print(grades)  #same as original list, grades were not changed"
   ]
  },
  {
   "cell_type": "code",
   "execution_count": 3,
   "metadata": {},
   "outputs": [
    {
     "name": "stdout",
     "output_type": "stream",
     "text": [
      "[88, 66, 90, 78, 92]\n",
      "[93, 71, 95, 83, 97]\n"
     ]
    }
   ],
   "source": [
    "#CHALLENGE: \n",
    "#You must use an index-based loop to modify list elements.\n",
    "#Curve each grade in the list by 5 points and print the list after the loop \n",
    "\n",
    "grades = [88,66,90,78,92]\n",
    "print(grades)\n",
    "#add your loop here\n",
    "\n",
    "\n",
    "\n",
    "\n",
    "#print grades list to confirm curve\n",
    "\n",
    "\n"
   ]
  },
  {
   "cell_type": "code",
   "execution_count": 4,
   "metadata": {},
   "outputs": [
    {
     "name": "stdout",
     "output_type": "stream",
     "text": [
      "tests passed\n"
     ]
    }
   ],
   "source": [
    "#CHALLENGE: Write function is_increasing that takes a list as parameter.\n",
    "#The function should return a boolean value indicating whether\n",
    "#or not the list items are in increasing order, i.e.\n",
    "#each element is smaller than the next element in the list.\n",
    "#Be careful when you reach the end of the list!\n",
    "\n",
    "#add your function here\n",
    "\n",
    "\n",
    "\n",
    "\n",
    "#test cases\n",
    "list1=[3,5,9,12]\n",
    "list2=[-2,0,1,3,6,7,99,100]\n",
    "list3=[7,9,5,15,22]  #5<9\n",
    "list4=[2,6,6,9]      #6==6\n",
    "list5=[8]\n",
    "list6=[]\n",
    "\n",
    "assert(is_increasing(list1) == True)\n",
    "assert(is_increasing(list2) == True)\n",
    "assert(is_increasing(list3) == False)\n",
    "assert(is_increasing(list4) == False)\n",
    "assert(is_increasing(list5) == True)\n",
    "assert(is_increasing(list6) == True)\n",
    "\n",
    "print('tests passed')"
   ]
  },
  {
   "cell_type": "code",
   "execution_count": 1,
   "metadata": {},
   "outputs": [
    {
     "name": "stdout",
     "output_type": "stream",
     "text": [
      "[88, 66, 90, 78, 90, 92]\n",
      "[66, 78, 88, 90, 90, 92]\n"
     ]
    }
   ],
   "source": [
    "#The sort function will sort a list in ascending order.\n",
    "\n",
    "nums = [88,66,90,78,90,92]\n",
    "print(nums)\n",
    "nums.sort()   #sort in ascending order\n",
    "print(nums)"
   ]
  },
  {
   "cell_type": "code",
   "execution_count": 2,
   "metadata": {},
   "outputs": [
    {
     "name": "stdout",
     "output_type": "stream",
     "text": [
      "[88, 66, 90, 78, 90, 92]\n",
      "[66, 78, 88, 90, 90, 92]\n"
     ]
    }
   ],
   "source": [
    "#Sort modifies the list.  You can copy the list then sort if you don't want to change the list\n",
    "nums = [88,66,90,78,90,92]\n",
    "nums2 = nums.copy()\n",
    "nums2.sort()\n",
    "print(nums)  #unsorted\n",
    "print(nums2) #sorted\n"
   ]
  },
  {
   "cell_type": "code",
   "execution_count": 5,
   "metadata": {},
   "outputs": [
    {
     "name": "stdout",
     "output_type": "stream",
     "text": [
      "tests passed\n"
     ]
    }
   ],
   "source": [
    "#CHALLENGE: Write a function same_set that takes two lists as parameters.\n",
    "#The function should return a boolean indicating if the lists contains the set of values.\n",
    "#Note the values may not be in the same order in the lists.  \n",
    "#You will need to sort both lists before comparing.\n",
    "#The function SHOULD NOT ALTER the lists passed as parameters, so copy the lists before sorting.\n",
    "\n",
    "#add your function here\n",
    "\n",
    "\n",
    "\n",
    "#Test cases\n",
    "\n",
    "nums1 = [5,3,8]\n",
    "nums2 = [8,5,3]\n",
    "nums3 = [1,2,3]\n",
    "nums4 = [3,5,8,10]\n",
    "\n",
    "assert(same_set(nums1, nums2) == True)\n",
    "assert(same_set(nums1, nums3) == False)\n",
    "assert(same_set(nums1, nums4) == False)\n",
    "print('tests passed')"
   ]
  },
  {
   "cell_type": "code",
   "execution_count": null,
   "metadata": {},
   "outputs": [],
   "source": []
  }
 ],
 "metadata": {
  "kernelspec": {
   "display_name": "Python 3",
   "language": "python",
   "name": "python3"
  },
  "language_info": {
   "codemirror_mode": {
    "name": "ipython",
    "version": 3
   },
   "file_extension": ".py",
   "mimetype": "text/x-python",
   "name": "python",
   "nbconvert_exporter": "python",
   "pygments_lexer": "ipython3",
   "version": "3.6.9"
  }
 },
 "nbformat": 4,
 "nbformat_minor": 2
}
