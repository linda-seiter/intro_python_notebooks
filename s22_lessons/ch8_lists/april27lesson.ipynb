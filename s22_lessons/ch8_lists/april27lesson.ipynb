{
 "cells": [
  {
   "cell_type": "code",
   "execution_count": null,
   "metadata": {},
   "outputs": [],
   "source": [
    "#step through homework9 solution"
   ]
  },
  {
   "cell_type": "code",
   "execution_count": null,
   "metadata": {},
   "outputs": [],
   "source": [
    "#task1 notes\n",
    "\n",
    "str = 'happy birthday'\n",
    "n=6\n",
    "#get character at index 6\n",
    "print(n < len(str))  #true\n",
    "print(str[n])\n",
    "#position 30, bombs. need to compare n to length to make sure it is ok\n",
    "n=30\n",
    "print(n < len(str)) #false\n",
    "print(str[n])\n"
   ]
  },
  {
   "cell_type": "code",
   "execution_count": null,
   "metadata": {},
   "outputs": [],
   "source": [
    "#task2 relies on find and count functions, substring extraction\n",
    "\n",
    "str = 'happy birthday'\n",
    "print(str.find('b'))  #6\n",
    "print(str.find('z'))  #-1\n",
    "print(str.count('b')) #1\n",
    "print(str.count('z')) #0\n",
    "\n",
    "start_index = str.find('b')\n",
    "substr = str[start_index+1:]\n",
    "print(substr)\n",
    "\n",
    "#this doesn't work since start_index -1 (z not in string)\n",
    "start_index = str.find('z')\n",
    "substr = str[start_index+1:]  #-1 + 1 = 0, so extracts entire string\n",
    "print(substr)\n"
   ]
  },
  {
   "cell_type": "code",
   "execution_count": null,
   "metadata": {},
   "outputs": [],
   "source": [
    "str = 'abcdefgh'\n",
    "start = 2\n",
    "end = 4\n",
    "#substring we don't want\n",
    "sub=str[start:end+1]\n",
    "print(sub)  #cde\n",
    "\n",
    "before = str[0:start] #ab\n",
    "print(before)\n",
    "after = str[end+1:] #fgh\n",
    "print(after)\n",
    "\n",
    "print(before+after)"
   ]
  },
  {
   "cell_type": "code",
   "execution_count": null,
   "metadata": {},
   "outputs": [],
   "source": [
    "#task5\n",
    "str='a4bc9d'\n",
    "#wrong, tests entire string\n",
    "print(str.isdigit())\n",
    "#look at each individual character\n",
    "for c in str:\n",
    "    print(c, c.isdigit())"
   ]
  },
  {
   "cell_type": "code",
   "execution_count": null,
   "metadata": {},
   "outputs": [],
   "source": [
    "#task6\n",
    "\n",
    "c = '6'\n",
    "d = '7'\n",
    "print(c+d)\n",
    "print(int(c)+int(d))\n"
   ]
  },
  {
   "cell_type": "code",
   "execution_count": null,
   "metadata": {},
   "outputs": [],
   "source": [
    "str = \"Fred Herbert Smith\"\n",
    "index_first_space = str.find(' ')\n",
    "print(index_first_space)\n",
    "#does not work if no first space\n",
    "first = str[:index_first_space]\n",
    "print(first)\n",
    "index_second_space = str.find(' ', index_first_space+1)\n",
    "#does not work if no second space\n",
    "middle = str[index_first_space+1:index_second_space]\n",
    "last = str[index_second_space+1:]\n",
    "print(middle)\n",
    "print(last)\n",
    "print(index_second_space)"
   ]
  }
 ],
 "metadata": {
  "kernelspec": {
   "display_name": "Python 3",
   "language": "python",
   "name": "python3"
  },
  "language_info": {
   "codemirror_mode": {
    "name": "ipython",
    "version": 3
   },
   "file_extension": ".py",
   "mimetype": "text/x-python",
   "name": "python",
   "nbconvert_exporter": "python",
   "pygments_lexer": "ipython3",
   "version": "3.6.9"
  }
 },
 "nbformat": 4,
 "nbformat_minor": 2
}
