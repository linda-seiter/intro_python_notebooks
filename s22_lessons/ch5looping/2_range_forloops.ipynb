{
 "cells": [
  {
   "cell_type": "markdown",
   "metadata": {},
   "source": [
    "[python tutor](http://pythontutor.com/visualize.html#mode=edit)"
   ]
  },
  {
   "cell_type": "code",
   "execution_count": 17,
   "metadata": {},
   "outputs": [],
   "source": [
    "import math\n",
    "import random\n",
    "from ipycanvas import Canvas\n",
    "from time import sleep"
   ]
  },
  {
   "cell_type": "markdown",
   "metadata": {},
   "source": [
    "### For loops"
   ]
  },
  {
   "cell_type": "code",
   "execution_count": 7,
   "metadata": {},
   "outputs": [
    {
     "name": "stdout",
     "output_type": "stream",
     "text": [
      "Hi Bill!\n",
      "Hi Nicole!\n",
      "Hi John!\n"
     ]
    }
   ],
   "source": [
    "#PA 5.5.1\n",
    "#Use brackets to create a list of values\n",
    "#A for loop is convenient for accessing the list items\n",
    "for name in ['Bill', 'Nicole', 'John']:\n",
    "  print('Hi {}!'.format(name))\n",
    "\n"
   ]
  },
  {
   "cell_type": "code",
   "execution_count": 8,
   "metadata": {},
   "outputs": [
    {
     "name": "stdout",
     "output_type": "stream",
     "text": [
      "Fred Smith\n"
     ]
    }
   ],
   "source": [
    "#The + operator can be used for string concatenation\n",
    "name = \"Fred\" + \" \" + \"Smith\"\n",
    "print(name)"
   ]
  },
  {
   "cell_type": "code",
   "execution_count": 11,
   "metadata": {},
   "outputs": [
    {
     "name": "stdout",
     "output_type": "stream",
     "text": [
      "See spot fetch the ball\n"
     ]
    }
   ],
   "source": [
    "#The += operator appends characters to the string\n",
    "\n",
    "sentence = \"See spot\"\n",
    "sentence += \" fetch the ball\"\n",
    "print(sentence)"
   ]
  },
  {
   "cell_type": "code",
   "execution_count": null,
   "metadata": {},
   "outputs": [],
   "source": [
    "#Figure 5.5.3\n",
    "#A for loop can loop through a string one character at a time.\n",
    "my_str = ''\n",
    "for character in \"Take me to the moon.\":\n",
    "    my_str += character + '_'   #append the character and underscore to my_str\n",
    "print(my_str)"
   ]
  },
  {
   "cell_type": "code",
   "execution_count": null,
   "metadata": {},
   "outputs": [],
   "source": [
    "#Figure 5.5.3\n",
    "\n",
    "#A list of daily revenues\n",
    "daily_revenues = [\n",
    "    2356.23,  # Monday\n",
    "    1800.12,  # Tuesday\n",
    "    1792.50,  # Wednesday\n",
    "    2058.10,  # Thursday\n",
    "    1988.00,  # Friday\n",
    "    2002.99,  # Saturday\n",
    "    1890.75   # Sunday\n",
    "]\n",
    "\n",
    "#Use a for loop to sum up the values in the daily_revenues list\n",
    "\n",
    "\n",
    "print(f'Weekly revenue: ${total:.2f}')\n",
    "print(f'Daily average revenue: ${average:.2f}')"
   ]
  },
  {
   "cell_type": "code",
   "execution_count": 12,
   "metadata": {},
   "outputs": [
    {
     "name": "stdout",
     "output_type": "stream",
     "text": [
      "Biffle | Bowyer | Busch | Gordon | Patrick | \n",
      "Printing in reverse:\n",
      "Patrick | Gordon | Busch | Bowyer | Biffle | "
     ]
    }
   ],
   "source": [
    "#Figure 5.5.4\n",
    "\n",
    "names = [\n",
    "    'Biffle',\n",
    "    'Bowyer', \n",
    "    'Busch',\n",
    "    'Gordon',\n",
    "    'Patrick'\n",
    "]\n",
    "\n",
    "for name in names:\n",
    "    print(name, '|', end=' ')\n",
    "\n",
    "print('\\nPrinting in reverse:')\n",
    "for name in reversed(names):\n",
    "    print(name, '|', end=' ')"
   ]
  },
  {
   "cell_type": "markdown",
   "metadata": {},
   "source": [
    "### Range function"
   ]
  },
  {
   "cell_type": "markdown",
   "metadata": {},
   "source": [
    "range(5)  produces the sequence 0,1,2,3,4\n",
    "\n",
    "range(3,12) produces the sequence 3,4,5,6,7,8,9,10,11\n",
    "\n",
    "range(10,45,5) produces the sequence 10,15,20,25,30,35,40"
   ]
  },
  {
   "cell_type": "code",
   "execution_count": 14,
   "metadata": {},
   "outputs": [
    {
     "name": "stdout",
     "output_type": "stream",
     "text": [
      "0\n",
      "1\n",
      "2\n",
      "3\n",
      "4\n"
     ]
    }
   ],
   "source": [
    "# 0..4\n",
    "for i in range(5):\n",
    "    print(i)"
   ]
  },
  {
   "cell_type": "code",
   "execution_count": 30,
   "metadata": {},
   "outputs": [
    {
     "name": "stdout",
     "output_type": "stream",
     "text": [
      "0\n",
      "1\n",
      "2\n",
      "3\n",
      "4\n"
     ]
    }
   ],
   "source": [
    "#equivalent while loop\n",
    "\n"
   ]
  },
  {
   "cell_type": "code",
   "execution_count": 15,
   "metadata": {},
   "outputs": [
    {
     "name": "stdout",
     "output_type": "stream",
     "text": [
      "3\n",
      "4\n",
      "5\n",
      "6\n",
      "7\n",
      "8\n",
      "9\n",
      "10\n",
      "11\n"
     ]
    }
   ],
   "source": [
    "# 3..11 \n",
    "for i in range(3,12):\n",
    "    print(i)"
   ]
  },
  {
   "cell_type": "code",
   "execution_count": null,
   "metadata": {},
   "outputs": [],
   "source": [
    "#equivalent while loop\n",
    "\n"
   ]
  },
  {
   "cell_type": "code",
   "execution_count": 16,
   "metadata": {},
   "outputs": [
    {
     "name": "stdout",
     "output_type": "stream",
     "text": [
      "10\n",
      "15\n",
      "20\n",
      "25\n",
      "30\n",
      "35\n",
      "40\n"
     ]
    }
   ],
   "source": [
    "#10 to 40 by 5\n",
    "for num in range(10,45,5):\n",
    "    print(num)"
   ]
  },
  {
   "cell_type": "code",
   "execution_count": 31,
   "metadata": {},
   "outputs": [
    {
     "name": "stdout",
     "output_type": "stream",
     "text": [
      "10\n",
      "15\n",
      "20\n",
      "25\n",
      "30\n",
      "35\n",
      "40\n"
     ]
    }
   ],
   "source": [
    "#equivalent while loop\n",
    "\n"
   ]
  },
  {
   "cell_type": "code",
   "execution_count": null,
   "metadata": {},
   "outputs": [],
   "source": [
    "100, 90, ... 10\n",
    "for num in range(100,0,-10):\n",
    "    print(num)"
   ]
  },
  {
   "cell_type": "code",
   "execution_count": 32,
   "metadata": {},
   "outputs": [
    {
     "name": "stdout",
     "output_type": "stream",
     "text": [
      "100\n",
      "90\n",
      "80\n",
      "70\n",
      "60\n",
      "50\n",
      "40\n",
      "30\n",
      "20\n",
      "10\n"
     ]
    }
   ],
   "source": [
    "#equivalent while loop\n",
    "\n",
    "\n"
   ]
  },
  {
   "cell_type": "code",
   "execution_count": null,
   "metadata": {},
   "outputs": [],
   "source": [
    "#CHallenge: Write a for loop to print 2,4,6,8, who do we appreciate?\n"
   ]
  },
  {
   "cell_type": "code",
   "execution_count": 18,
   "metadata": {},
   "outputs": [
    {
     "name": "stdout",
     "output_type": "stream",
     "text": [
      "Enter years: 5\n",
      "\n",
      " Savings in year 0: $10000.00\n",
      " Savings in year 1: $10500.00\n",
      " Savings in year 2: $11025.00\n",
      " Savings in year 3: $11576.25\n",
      " Savings in year 4: $12155.06\n",
      "\n",
      "\n"
     ]
    }
   ],
   "source": [
    "'''Program that calculates savings and interest'''\n",
    "\n",
    "#0..year-1\n",
    "\n",
    "initial_savings = 10000\n",
    "interest_rate = 0.05\n",
    "\n",
    "years = int(input('Enter years: '))\n",
    "print()\n",
    "\n",
    "savings = initial_savings\n",
    "for i in range(years):\n",
    "    print(' Savings in year {}: ${:.2f}'.format(i, savings))\n",
    "    savings = savings + (savings*interest_rate)\n",
    "\n",
    "print('\\n')\n"
   ]
  },
  {
   "cell_type": "code",
   "execution_count": 33,
   "metadata": {},
   "outputs": [
    {
     "data": {
      "application/vnd.jupyter.widget-view+json": {
       "model_id": "36e9ba34b54444228e1fc78a0dc7c73b",
       "version_major": 2,
       "version_minor": 0
      },
      "text/plain": [
       "Canvas(height=200, width=200)"
      ]
     },
     "metadata": {},
     "output_type": "display_data"
    }
   ],
   "source": [
    "#NOTE: SMALLER CANVAS\n",
    "\n",
    "canvas = Canvas(width=200, height=200)\n",
    "display(canvas)\n",
    "canvas.fill_style='yellow'\n",
    "\n",
    "canvas.fill_rect(0,0,200,200)\n",
    "\n",
    "#use for loop to draw vertical lines spaced 10 pixels apart\n",
    "x=0\n",
    "canvas.stroke_line(x,0,x,200)\n"
   ]
  },
  {
   "cell_type": "code",
   "execution_count": 24,
   "metadata": {},
   "outputs": [
    {
     "data": {
      "application/vnd.jupyter.widget-view+json": {
       "model_id": "f1d4b79c8e664fc5836452ae8a8f0eae",
       "version_major": 2,
       "version_minor": 0
      },
      "text/plain": [
       "Canvas(height=200, width=200)"
      ]
     },
     "metadata": {},
     "output_type": "display_data"
    }
   ],
   "source": [
    "canvas = Canvas(width=200, height=200)\n",
    "display(canvas)\n",
    "\n",
    "canvas.fill_style='yellow'\n",
    "canvas.fill_rect(0,0,canvas.width,canvas.height)\n",
    "\n",
    "#use for loop to draw horizontal lines spaced 10 pixels apart\n"
   ]
  },
  {
   "cell_type": "code",
   "execution_count": null,
   "metadata": {},
   "outputs": [],
   "source": []
  }
 ],
 "metadata": {
  "kernelspec": {
   "display_name": "Python 3",
   "language": "python",
   "name": "python3"
  },
  "language_info": {
   "codemirror_mode": {
    "name": "ipython",
    "version": 3
   },
   "file_extension": ".py",
   "mimetype": "text/x-python",
   "name": "python",
   "nbconvert_exporter": "python",
   "pygments_lexer": "ipython3",
   "version": "3.6.9"
  }
 },
 "nbformat": 4,
 "nbformat_minor": 2
}
