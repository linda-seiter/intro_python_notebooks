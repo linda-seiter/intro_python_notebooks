{
 "cells": [
  {
   "cell_type": "code",
   "execution_count": 8,
   "metadata": {},
   "outputs": [],
   "source": [
    "from time import sleep\n",
    "from ipycanvas import Canvas"
   ]
  },
  {
   "cell_type": "code",
   "execution_count": 24,
   "metadata": {},
   "outputs": [
    {
     "name": "stdout",
     "output_type": "stream",
     "text": [
      "i=1\n",
      "i=2\n",
      "i=3\n",
      "i=4\n"
     ]
    }
   ],
   "source": [
    "for i in range(1,5):\n",
    "    print('i={}'.format(i))"
   ]
  },
  {
   "cell_type": "code",
   "execution_count": 13,
   "metadata": {},
   "outputs": [
    {
     "name": "stdout",
     "output_type": "stream",
     "text": [
      "i=1,j=1\n",
      "i=1,j=2\n",
      "i=2,j=1\n",
      "i=2,j=2\n",
      "i=3,j=1\n",
      "i=3,j=2\n",
      "i=4,j=1\n",
      "i=4,j=2\n"
     ]
    }
   ],
   "source": [
    "for i in range(1,5):\n",
    "    for j in range(1,3):\n",
    "        print('i={},j={}'.format(i,j))\n"
   ]
  },
  {
   "cell_type": "code",
   "execution_count": 2,
   "metadata": {},
   "outputs": [
    {
     "name": "stdout",
     "output_type": "stream",
     "text": [
      "1*2=2\n",
      "2*2=4\n",
      "3*2=6\n",
      "4*2=8\n",
      "\n",
      "1*3=3\n",
      "2*3=6\n",
      "3*3=9\n",
      "4*3=12\n",
      "\n"
     ]
    }
   ],
   "source": [
    "for num1 in range(1,5):\n",
    "    print('{}*2={}'.format(num1,num1*2))\n",
    "print()\n",
    "\n",
    "for num1 in range(1,5):\n",
    "    print('{}*3={}'.format(num1,num1*3))\n",
    "print()\n"
   ]
  },
  {
   "cell_type": "code",
   "execution_count": 4,
   "metadata": {},
   "outputs": [
    {
     "name": "stdout",
     "output_type": "stream",
     "text": [
      "1*2=2\n",
      "2*2=4\n",
      "3*2=6\n",
      "4*2=8\n",
      "\n",
      "1*3=3\n",
      "2*3=6\n",
      "3*3=9\n",
      "4*3=12\n",
      "\n"
     ]
    }
   ],
   "source": [
    "num2 = 2\n",
    "for num1 in range(1,5):\n",
    "    print('{}*{}={}'.format(num1,num2,num1*num2))\n",
    "print()\n",
    "\n",
    "\n",
    "num2 = 3\n",
    "for num1 in range(1,5):\n",
    "    print('{}*{}={}'.format(num1,num2,num1*num2))\n",
    "print()\n"
   ]
  },
  {
   "cell_type": "code",
   "execution_count": 5,
   "metadata": {},
   "outputs": [
    {
     "name": "stdout",
     "output_type": "stream",
     "text": [
      "1*2=2\n",
      "2*2=4\n",
      "3*2=6\n",
      "4*2=8\n",
      "\n",
      "1*3=3\n",
      "2*3=6\n",
      "3*3=9\n",
      "4*3=12\n",
      "\n",
      "1*4=4\n",
      "2*4=8\n",
      "3*4=12\n",
      "4*4=16\n",
      "\n",
      "1*5=5\n",
      "2*5=10\n",
      "3*5=15\n",
      "4*5=20\n",
      "\n",
      "1*6=6\n",
      "2*6=12\n",
      "3*6=18\n",
      "4*6=24\n",
      "\n",
      "1*7=7\n",
      "2*7=14\n",
      "3*7=21\n",
      "4*7=28\n",
      "\n",
      "1*8=8\n",
      "2*8=16\n",
      "3*8=24\n",
      "4*8=32\n",
      "\n",
      "1*9=9\n",
      "2*9=18\n",
      "3*9=27\n",
      "4*9=36\n",
      "\n"
     ]
    }
   ],
   "source": [
    "for num2 in range(2,10):\n",
    "    for num1 in range(1,5):\n",
    "        print('{}*{}={}'.format(num1,num2,num1*num2))\n",
    "    print()\n"
   ]
  },
  {
   "cell_type": "code",
   "execution_count": 10,
   "metadata": {},
   "outputs": [
    {
     "name": "stdout",
     "output_type": "stream",
     "text": [
      "97\n",
      "b\n",
      "98\n",
      "b\n"
     ]
    }
   ],
   "source": [
    "letter = 'a'\n",
    "print(ord(letter))  #a is 97\n",
    "num = 98\n",
    "print(chr(num))  #98 is b\n",
    "print(ord(letter) + 1)  #98\n",
    "print(chr(ord(letter) + 1))  #b"
   ]
  },
  {
   "cell_type": "code",
   "execution_count": 11,
   "metadata": {},
   "outputs": [
    {
     "name": "stdout",
     "output_type": "stream",
     "text": [
      "Two-letter domain names:\n",
      "aa.com\n",
      "ab.com\n",
      "ac.com\n"
     ]
    }
   ],
   "source": [
    "\"\"\"\n",
    "\n",
    "Note that ord() and chr() convert between text and the ASCII or Unicode encoding:\n",
    "-  ord('a') yields the encoded value of 'a', the number 97.\n",
    "-  ord('a')+1 adds 1 to the encoded value of 'a', giving 98.\n",
    "-  chr(ord('a')+1) converts 98 back into a letter, producing 'b'\n",
    "\"\"\"\n",
    "print('Two-letter domain names:')\n",
    "\n",
    "letter1 = 'a'\n",
    "letter2 = 'a'\n",
    "while letter2 <= 'c':  # Inner loop\n",
    "        print(f'{letter1}{letter2}.com')\n",
    "        letter2 = chr(ord(letter2) + 1)"
   ]
  },
  {
   "cell_type": "code",
   "execution_count": 41,
   "metadata": {},
   "outputs": [
    {
     "name": "stdout",
     "output_type": "stream",
     "text": [
      "Two-letter domain names:\n",
      "aa.com\n",
      "ab.com\n",
      "ac.com\n",
      "ad.com\n",
      "ae.com\n",
      "ba.com\n",
      "bb.com\n",
      "bc.com\n",
      "bd.com\n",
      "be.com\n",
      "ca.com\n",
      "cb.com\n",
      "cc.com\n",
      "cd.com\n",
      "ce.com\n",
      "da.com\n",
      "db.com\n",
      "dc.com\n",
      "dd.com\n",
      "de.com\n"
     ]
    }
   ],
   "source": [
    "\"\"\"\n",
    "Program to print all 2-letter domain names.\n",
    "\n",
    "Note that ord() and chr() convert between text and the ASCII or Unicode encoding:\n",
    "-  ord('a') yields the encoded value of 'a', the number 97.\n",
    "-  ord('a')+1 adds 1 to the encoded value of 'a', giving 98.\n",
    "-  chr(ord('a')+1) converts 98 back into a letter, producing 'b'\n",
    "\"\"\"\n",
    "print('Two-letter domain names:')\n",
    "\n",
    "letter1 = 'a'\n",
    "letter2 = '?'\n",
    "while letter1 <= 'd':  # Outer loop\n",
    "    letter2 = 'a'\n",
    "    while letter2 <= 'e':  # Inner loop\n",
    "        print(f'{letter1}{letter2}.com')\n",
    "        letter2 = chr(ord(letter2) + 1)\n",
    "    letter1 = chr(ord(letter1) + 1)"
   ]
  },
  {
   "cell_type": "code",
   "execution_count": 25,
   "metadata": {},
   "outputs": [
    {
     "name": "stdout",
     "output_type": "stream",
     "text": [
      "1,1      1,2      1,3      1,4      \n",
      "2,1      2,2      2,3      2,4      \n",
      "3,1      3,2      3,3      3,4      \n"
     ]
    }
   ],
   "source": [
    "for row in range(1,4): \n",
    "    for col in range(1,5):  \n",
    "        print('{},{}'.format(row, col), end='      ')\n",
    "    print()\n"
   ]
  },
  {
   "cell_type": "code",
   "execution_count": 26,
   "metadata": {},
   "outputs": [
    {
     "name": "stdout",
     "output_type": "stream",
     "text": [
      "1      2      3      4      \n",
      "2      4      6      8      \n",
      "3      6      9      12      \n"
     ]
    }
   ],
   "source": [
    "for row in range(1,4): \n",
    "    for col in range(1,5):  \n",
    "        print('{}'.format(row *col), end='      ')\n",
    "    print()\n"
   ]
  },
  {
   "cell_type": "code",
   "execution_count": 18,
   "metadata": {},
   "outputs": [
    {
     "data": {
      "application/vnd.jupyter.widget-view+json": {
       "model_id": "",
       "version_major": 2,
       "version_minor": 0
      },
      "text/plain": [
       "Canvas(height=200, width=200)"
      ]
     },
     "metadata": {},
     "output_type": "display_data"
    }
   ],
   "source": [
    "canvas = Canvas(width=200, height=200)\n",
    "display(canvas)\n",
    "\n",
    "canvas.stroke_style='black'\n",
    "canvas.stroke_rect(0,0,200,200)\n",
    "canvas.fill_style='blue'\n",
    "\n",
    "x=0\n",
    "y=0\n",
    "horiz_space = 25\n",
    "ncols = 8\n",
    "for col in range(ncols):\n",
    "    x = col*horiz_space\n",
    "    canvas.fill_rect(x,y,5,5)"
   ]
  },
  {
   "cell_type": "code",
   "execution_count": 40,
   "metadata": {},
   "outputs": [
    {
     "data": {
      "application/vnd.jupyter.widget-view+json": {
       "model_id": "085a1dcf041c4ba09514b70a9019f8e7",
       "version_major": 2,
       "version_minor": 0
      },
      "text/plain": [
       "Canvas(height=200, width=200)"
      ]
     },
     "metadata": {},
     "output_type": "display_data"
    }
   ],
   "source": [
    "canvas = Canvas(width=200, height=200)\n",
    "display(canvas)\n",
    "\n",
    "canvas.stroke_style='black'\n",
    "canvas.stroke_rect(0,0,200,200)\n",
    "canvas.fill_style='blue'\n",
    "\n",
    "x=0\n",
    "y=0\n",
    "horiz_space = 25\n",
    "vert_space = 50\n",
    "ncols = 8\n",
    "nrows = 4\n",
    "for row in range(nrows):\n",
    "    y = row * vert_space\n",
    "    for col in range(ncols):\n",
    "        x = col*horiz_space\n",
    "        canvas.fill_rect(x,y,5,5)"
   ]
  },
  {
   "cell_type": "code",
   "execution_count": 39,
   "metadata": {},
   "outputs": [
    {
     "data": {
      "text/plain": [
       "'DO FOR HOMEWORK'"
      ]
     },
     "execution_count": 39,
     "metadata": {},
     "output_type": "execute_result"
    }
   ],
   "source": [
    "'''DO FOR HOMEWORK'''"
   ]
  },
  {
   "cell_type": "code",
   "execution_count": 42,
   "metadata": {},
   "outputs": [
    {
     "data": {
      "application/vnd.jupyter.widget-view+json": {
       "model_id": "63169048f2fc4dcb920ab74a6c3ace10",
       "version_major": 2,
       "version_minor": 0
      },
      "text/plain": [
       "Canvas(height=200, width=200)"
      ]
     },
     "metadata": {},
     "output_type": "display_data"
    }
   ],
   "source": [
    "canvas = Canvas(width=200, height=200)\n",
    "display(canvas)\n",
    "\n",
    "canvas.stroke_style='black'\n",
    "canvas.stroke_rect(0,0,200,200)\n",
    "canvas.fill_style='blue'\n",
    "canvas.stroke_style = 'green'\n",
    "\n",
    "size=50\n",
    "for col in range(4):\n",
    "    x = col*size\n",
    "    y=0\n",
    "    canvas.stroke_rect(x,y,size,size)\n",
    "    canvas.fill_circle(x+size/2,y+size/2,size/4)\n"
   ]
  },
  {
   "cell_type": "code",
   "execution_count": 35,
   "metadata": {},
   "outputs": [
    {
     "data": {
      "application/vnd.jupyter.widget-view+json": {
       "model_id": "cc408a6881cf440fa8de4046b11a6eda",
       "version_major": 2,
       "version_minor": 0
      },
      "text/plain": [
       "Canvas(height=200, width=200)"
      ]
     },
     "metadata": {},
     "output_type": "display_data"
    }
   ],
   "source": [
    "canvas = Canvas(width=200, height=200)\n",
    "display(canvas)\n",
    "\n",
    "canvas.stroke_style='black'\n",
    "canvas.stroke_rect(0,0,200,200)\n",
    "canvas.fill_style='blue'\n",
    "canvas.stroke_style = 'green'\n",
    "\n",
    "size=50\n",
    "for row in range(4):\n",
    "    for col in range(4):\n",
    "        x = col*size\n",
    "        y=row*size\n",
    "        canvas.stroke_rect(x,y,size,size)\n",
    "        canvas.fill_circle(x+size/2,y+size/2,size/4)\n"
   ]
  },
  {
   "cell_type": "code",
   "execution_count": 33,
   "metadata": {},
   "outputs": [
    {
     "data": {
      "application/vnd.jupyter.widget-view+json": {
       "model_id": "38acb214be9a4b918260be07bc44f961",
       "version_major": 2,
       "version_minor": 0
      },
      "text/plain": [
       "Canvas(height=200, width=200)"
      ]
     },
     "metadata": {},
     "output_type": "display_data"
    }
   ],
   "source": [
    "canvas = Canvas(width=200, height=200)\n",
    "display(canvas)\n",
    "\n",
    "canvas.stroke_style='black'\n",
    "canvas.stroke_rect(0,0,200,200)\n",
    "canvas.fill_style='blue'\n",
    "canvas.stroke_style = 'green'\n",
    "\n",
    "size=50\n",
    "for row in range(4):\n",
    "    for col in range(4):\n",
    "        x = col*size\n",
    "        y=row*size\n",
    "        if row % 2 == 0:\n",
    "            canvas.fill_style = 'red'\n",
    "        else:\n",
    "            canvas.fill_style = 'blue'\n",
    "        canvas.stroke_rect(x,y,size,size)\n",
    "        canvas.fill_circle(x+size/2,y+size/2,size/4)\n"
   ]
  },
  {
   "cell_type": "code",
   "execution_count": 32,
   "metadata": {},
   "outputs": [
    {
     "data": {
      "application/vnd.jupyter.widget-view+json": {
       "model_id": "",
       "version_major": 2,
       "version_minor": 0
      },
      "text/plain": [
       "Canvas(height=200, width=200)"
      ]
     },
     "metadata": {},
     "output_type": "display_data"
    }
   ],
   "source": [
    "canvas = Canvas(width=200, height=200)\n",
    "display(canvas)\n",
    "\n",
    "canvas.stroke_style='black'\n",
    "canvas.stroke_rect(0,0,200,200)\n",
    "canvas.fill_style='blue'\n",
    "canvas.stroke_style = 'green'\n",
    "\n",
    "size=50\n",
    "for row in range(4):\n",
    "    for col in range(4):\n",
    "        x = col*size\n",
    "        y=row*size\n",
    "        canvas.stroke_rect(x,y,size,size)\n",
    "        if row == col:\n",
    "            canvas.fill_style = 'red'\n",
    "        else:\n",
    "            canvas.fill_style = 'blue'\n",
    "        canvas.fill_circle(x+size/2,y+size/2,size/4)\n"
   ]
  },
  {
   "cell_type": "code",
   "execution_count": 44,
   "metadata": {},
   "outputs": [
    {
     "data": {
      "application/vnd.jupyter.widget-view+json": {
       "model_id": "2047b4b19d4e4a36a2274af633e6b6fe",
       "version_major": 2,
       "version_minor": 0
      },
      "text/plain": [
       "Canvas(height=200, width=200)"
      ]
     },
     "metadata": {},
     "output_type": "display_data"
    },
    {
     "name": "stdout",
     "output_type": "stream",
     "text": [
      "size:100\n"
     ]
    }
   ],
   "source": [
    "canvas = Canvas(width=200, height=200)\n",
    "display(canvas)\n",
    "\n",
    "canvas.stroke_style='black'\n",
    "canvas.stroke_rect(0,0,200,200)\n",
    "canvas.fill_style='blue'\n",
    "canvas.stroke_style = 'green'\n",
    "\n",
    "size=int(input('size:'))\n",
    "for row in range(canvas.width//size):\n",
    "    for col in range(canvas.height//size):\n",
    "        x = col*size\n",
    "        y=row*size\n",
    "        canvas.stroke_rect(x,y,size,size)\n",
    "        if row == col:\n",
    "            canvas.fill_style = 'red'\n",
    "        else:\n",
    "            canvas.fill_style = 'blue'\n",
    "        canvas.fill_circle(x+size/2,y+size/2,size/4)\n"
   ]
  },
  {
   "cell_type": "code",
   "execution_count": 18,
   "metadata": {},
   "outputs": [
    {
     "name": "stdout",
     "output_type": "stream",
     "text": [
      "!!!"
     ]
    }
   ],
   "source": [
    "for i in range(3):\n",
    "    print('!', end='')"
   ]
  },
  {
   "cell_type": "code",
   "execution_count": 17,
   "metadata": {},
   "outputs": [
    {
     "name": "stdout",
     "output_type": "stream",
     "text": [
      "!!\n",
      "!!!!\n",
      "!!!!!!\n",
      "!!!!!!!!\n",
      "!!!!!!!!!!\n"
     ]
    }
   ],
   "source": [
    "for j in range(1,6):\n",
    "    for i in range(2*j):\n",
    "        print('!', end='')\n",
    "    print()"
   ]
  },
  {
   "cell_type": "code",
   "execution_count": 26,
   "metadata": {},
   "outputs": [
    {
     "name": "stdout",
     "output_type": "stream",
     "text": [
      "( ( ( ( ( ) ) ) ) ) "
     ]
    }
   ],
   "source": [
    "n = 5\n",
    "for i in range(n):\n",
    "    print('(',end=' ')\n",
    "for i in range(n):\n",
    "    print(')',end=' ')"
   ]
  },
  {
   "cell_type": "code",
   "execution_count": 25,
   "metadata": {},
   "outputs": [
    {
     "name": "stdout",
     "output_type": "stream",
     "text": [
      "( ) \n",
      "( ( ) ) \n",
      "( ( ( ) ) ) \n",
      "( ( ( ( ) ) ) ) \n"
     ]
    }
   ],
   "source": [
    "for n in range(1,5):\n",
    "    for i in range(n):\n",
    "        print('(',end=' ')\n",
    "    for i in range(n):\n",
    "        print(')',end=' ')\n",
    "    print()"
   ]
  }
 ],
 "metadata": {
  "kernelspec": {
   "display_name": "Python 3",
   "language": "python",
   "name": "python3"
  },
  "language_info": {
   "codemirror_mode": {
    "name": "ipython",
    "version": 3
   },
   "file_extension": ".py",
   "mimetype": "text/x-python",
   "name": "python",
   "nbconvert_exporter": "python",
   "pygments_lexer": "ipython3",
   "version": "3.6.9"
  }
 },
 "nbformat": 4,
 "nbformat_minor": 2
}
