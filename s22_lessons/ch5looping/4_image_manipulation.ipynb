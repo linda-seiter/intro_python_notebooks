{
 "cells": [
  {
   "cell_type": "code",
   "execution_count": null,
   "metadata": {},
   "outputs": [],
   "source": [
    "from PIL import Image               # to load images\n",
    "from IPython.display import display # to display images\n",
    "import numpy as np"
   ]
  },
  {
   "cell_type": "code",
   "execution_count": null,
   "metadata": {},
   "outputs": [],
   "source": [
    "image = Image.open('cat.jpg')\n",
    "display(image)"
   ]
  },
  {
   "cell_type": "markdown",
   "metadata": {},
   "source": [
    "## 2D image manipulation"
   ]
  },
  {
   "cell_type": "markdown",
   "metadata": {},
   "source": [
    "RGB (red green blue) values range between 0 and 255"
   ]
  },
  {
   "cell_type": "code",
   "execution_count": null,
   "metadata": {},
   "outputs": [],
   "source": [
    "#Using numpy to manipulate image as 2D (rows, columns)\n",
    "\n",
    "image = Image.open('cat.jpg')\n",
    "pixels_2D = np.array(image)  #convert image to 2D list of pixels\n",
    "print(pixels_2D[0][0])  #first pixel color as [r g b]\n",
    "print(pixels_2D[100][50])  #pixel at row 100, column 50\n",
    "\n",
    "display(image)"
   ]
  },
  {
   "cell_type": "code",
   "execution_count": null,
   "metadata": {},
   "outputs": [],
   "source": [
    "#Using numpy to manipulate image as 2D (rows, columns)\n",
    "\n",
    "image = Image.open('cat.jpg')\n",
    "pixels_2D = np.array(image)  #convert image to pixel list\n",
    "pixels_2D[10][100] = [255, 0, 0]  #change color of pixel at row 10, column 100 to red\n",
    "pixels_2D[100][10] = [0, 0, 0]  #black\n",
    "image = Image.fromarray(pixels_2D)  #convert pixel list back to an image\n",
    "display(image)"
   ]
  },
  {
   "cell_type": "code",
   "execution_count": null,
   "metadata": {},
   "outputs": [],
   "source": [
    "#set all pixels in first 20 rows to red\n",
    "image = Image.open('cat.jpg')\n",
    "\n",
    "pixels_2D = np.array(image)  #convert to 2D list\n",
    "rows = len(pixels_2D)  #number of rows\n",
    "cols = len(pixels_2D[0])  #number of columns\n",
    "\n",
    "#draw black stripe down image in column 10\n"
   ]
  },
  {
   "cell_type": "code",
   "execution_count": null,
   "metadata": {},
   "outputs": [],
   "source": [
    "#set all pixels in first 20 columns to red\n",
    "image = Image.open('cat.jpg')\n",
    "\n",
    "pixels_2D = np.array(image)  #convert to 2D list\n",
    "rows = len(pixels_2D)\n",
    "cols = len(pixels_2D[0])\n"
   ]
  },
  {
   "cell_type": "code",
   "execution_count": null,
   "metadata": {},
   "outputs": [],
   "source": [
    "#set all pixels in first 20 rows to red\n",
    "image = Image.open('cat.jpg')\n",
    "\n",
    "pixels_2D = np.array(image)  #convert to 2D list\n",
    "rows = len(pixels_2D)\n",
    "cols = len(pixels_2D[0])\n",
    "\n"
   ]
  },
  {
   "cell_type": "code",
   "execution_count": null,
   "metadata": {},
   "outputs": [],
   "source": [
    "#set pixels in top half to blue\n",
    "image = Image.open('cat.jpg')\n",
    "display(image)\n",
    "\n",
    "pixels_2D = np.array(image)  #convert to 2D list\n",
    "rows = len(pixels_2D)\n",
    "cols = len(pixels_2D[0])\n"
   ]
  },
  {
   "cell_type": "code",
   "execution_count": null,
   "metadata": {},
   "outputs": [],
   "source": [
    "image = Image.open('cat.jpg')\n",
    "display(image)\n",
    "\n",
    "#add green stripe every 10th row\n",
    "pixels_2D = np.array(image)  #convert to 2D list\n",
    "rows = len(pixels_2D)\n",
    "cols = len(pixels_2D[0])\n"
   ]
  },
  {
   "cell_type": "code",
   "execution_count": null,
   "metadata": {},
   "outputs": [],
   "source": [
    "image = Image.open('cat.jpg')\n",
    "pixels_2D = np.array(image)\n",
    "\n",
    "pixel = pixels_2D[10][50]   #row 10, column 50\n",
    "print(pixel)  #[r g b]\n",
    "red = pixel[0]  #get first value in pixel\n",
    "green = pixel[1]  #get second value in pixel\n",
    "blue = pixel[2]  #get third value in pixel\n",
    "print(red)\n",
    "print(green)\n",
    "print(blue)"
   ]
  },
  {
   "cell_type": "code",
   "execution_count": null,
   "metadata": {},
   "outputs": [],
   "source": [
    "image = Image.open('cat.jpg')\n",
    "display(image)\n",
    "\n",
    "#remove red from pixels in first 50 rows\n",
    "pixels_2D = np.array(image)  #convert to 2D list\n",
    "rows = len(pixels_2D)\n",
    "cols = len(pixels_2D[0])\n",
    "\n",
    "        \n",
    "image = Image.fromarray(pixels_2D)\n",
    "display(image)"
   ]
  },
  {
   "cell_type": "code",
   "execution_count": null,
   "metadata": {},
   "outputs": [],
   "source": [
    "image = Image.new(mode = \"RGB\", size = (200, 200))\n",
    "display(image)\n"
   ]
  },
  {
   "cell_type": "code",
   "execution_count": null,
   "metadata": {},
   "outputs": [],
   "source": [
    "#New blank image (set initial color)\n",
    "\n",
    "image = Image.new(mode = \"RGB\", size = (200, 200),color = (153, 153, 255))\n",
    "display(image)\n"
   ]
  },
  {
   "cell_type": "code",
   "execution_count": null,
   "metadata": {},
   "outputs": [],
   "source": [
    "#New blank image (set initial color)\n",
    "\n",
    "image = Image.new(mode = \"RGB\", size = (200, 200),color = (153, 153, 255))\n",
    "display(image)\n",
    "\n",
    "pixels_2D = np.array(image)\n",
    "rows = len(pixels_2D)\n",
    "cols = len(pixels_2D[0])#first row\n",
    "#add white stripe every 10th column\n"
   ]
  },
  {
   "cell_type": "code",
   "execution_count": null,
   "metadata": {},
   "outputs": [],
   "source": [
    "image = Image.new(mode = \"RGB\", size = (200, 200))\n",
    "\n",
    "#increase amount of red for each row\n",
    "\n",
    "pixels_2D = np.array(image)  #convert to 2D list\n",
    "rows = len(pixels_2D)\n",
    "cols = len(pixels_2D[0])\n",
    "\n",
    "red=0\n",
    "green=0\n",
    "blue=0\n",
    "\n",
    "            "
   ]
  },
  {
   "cell_type": "code",
   "execution_count": null,
   "metadata": {},
   "outputs": [],
   "source": []
  }
 ],
 "metadata": {
  "kernelspec": {
   "display_name": "Python 3",
   "language": "python",
   "name": "python3"
  },
  "language_info": {
   "codemirror_mode": {
    "name": "ipython",
    "version": 3
   },
   "file_extension": ".py",
   "mimetype": "text/x-python",
   "name": "python",
   "nbconvert_exporter": "python",
   "pygments_lexer": "ipython3",
   "version": "3.6.9"
  }
 },
 "nbformat": 4,
 "nbformat_minor": 2
}
