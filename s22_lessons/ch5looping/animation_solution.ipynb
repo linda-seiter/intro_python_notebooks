{
 "cells": [
  {
   "cell_type": "code",
   "execution_count": 1,
   "metadata": {},
   "outputs": [],
   "source": [
    "from ipycanvas import Canvas\n",
    "from time import sleep\n",
    "import random"
   ]
  },
  {
   "cell_type": "code",
   "execution_count": 35,
   "metadata": {},
   "outputs": [
    {
     "data": {
      "application/vnd.jupyter.widget-view+json": {
       "model_id": "8e142ec316eb4b719b0b77267bc70f6a",
       "version_major": 2,
       "version_minor": 0
      },
      "text/plain": [
       "Canvas(height=400, width=400)"
      ]
     },
     "metadata": {},
     "output_type": "display_data"
    },
    {
     "name": "stdout",
     "output_type": "stream",
     "text": [
      "1\n",
      "2\n",
      "3\n",
      "4\n",
      "5\n",
      "6\n",
      "7\n",
      "8\n",
      "9\n",
      "10\n"
     ]
    }
   ],
   "source": [
    "canvas = Canvas(width=400, height=400)\n",
    "display(canvas)\n",
    "\n",
    "x = 50\n",
    "y = 100\n",
    "    \n",
    "#draw 10  lines spaced 10 pixels apart\n",
    "count = 1\n",
    "while count <= 10:\n",
    "    print(count)\n",
    "    canvas.stroke_line(x,y,x,y+100)  #draw first line\n",
    "    sleep(0.5)  #pause 1/2 second between loop iterations\n",
    "    x += 10  #shift x to the right\n",
    "    count += 1"
   ]
  },
  {
   "cell_type": "code",
   "execution_count": 59,
   "metadata": {},
   "outputs": [
    {
     "data": {
      "application/vnd.jupyter.widget-view+json": {
       "model_id": "7502120898f94504afba8ea28cdec4e9",
       "version_major": 2,
       "version_minor": 0
      },
      "text/plain": [
       "Canvas(height=400, width=400)"
      ]
     },
     "metadata": {},
     "output_type": "display_data"
    }
   ],
   "source": [
    "canvas = Canvas(width=400, height=400)\n",
    "display(canvas)\n",
    "\n",
    "x = 50\n",
    "y = 100\n",
    "\n",
    "#move line 10 pixels to the right every 1/2 second\n",
    "count = 1\n",
    "while count <= 10:\n",
    "    canvas.stroke_line(x,y,x,y+100)\n",
    "    x += 10\n",
    "    sleep(0.5)  #pause 1/2 second between loop iterations\n",
    "    count += 1\n",
    "    canvas.clear() #erase drawing before next line is drawn"
   ]
  },
  {
   "cell_type": "code",
   "execution_count": 61,
   "metadata": {},
   "outputs": [
    {
     "data": {
      "application/vnd.jupyter.widget-view+json": {
       "model_id": "",
       "version_major": 2,
       "version_minor": 0
      },
      "text/plain": [
       "Canvas(height=200, width=200)"
      ]
     },
     "metadata": {},
     "output_type": "display_data"
    },
    {
     "name": "stdout",
     "output_type": "stream",
     "text": [
      "0\n",
      "25\n",
      "50\n",
      "75\n",
      "100\n"
     ]
    }
   ],
   "source": [
    "canvas = Canvas(width=200, height=200)\n",
    "display(canvas)\n",
    "canvas.stroke_rect(0,0,200,200)\n",
    "\n",
    "x = 0\n",
    "y = 50\n",
    "size=20\n",
    "\n",
    "count = 1\n",
    "while count <= 5:\n",
    "    print(x)\n",
    "    canvas.fill_rect(x,y,size,size)\n",
    "    x += 25\n",
    "    count += 1\n",
    "    sleep(0.5)\n",
    "    "
   ]
  },
  {
   "cell_type": "code",
   "execution_count": 62,
   "metadata": {},
   "outputs": [
    {
     "data": {
      "application/vnd.jupyter.widget-view+json": {
       "model_id": "",
       "version_major": 2,
       "version_minor": 0
      },
      "text/plain": [
       "Canvas(height=200, width=200)"
      ]
     },
     "metadata": {},
     "output_type": "display_data"
    },
    {
     "name": "stdout",
     "output_type": "stream",
     "text": [
      "0\n",
      "30\n",
      "67\n",
      "98\n",
      "133\n"
     ]
    }
   ],
   "source": [
    "canvas = Canvas(width=200, height=200)\n",
    "display(canvas)\n",
    "canvas.stroke_rect(0,0,200,200)\n",
    "\n",
    "x = 0\n",
    "y = 50\n",
    "size=20\n",
    "\n",
    "count = 1\n",
    "while count <= 5:\n",
    "    print(x)\n",
    "    canvas.fill_rect(x,y,size,size)\n",
    "    x += random.randint(30,50)\n",
    "    count += 1\n",
    "    sleep(0.5)\n",
    "    "
   ]
  },
  {
   "cell_type": "code",
   "execution_count": 66,
   "metadata": {},
   "outputs": [
    {
     "data": {
      "application/vnd.jupyter.widget-view+json": {
       "model_id": "0527627a08af4f90bbcc4a5c8604432d",
       "version_major": 2,
       "version_minor": 0
      },
      "text/plain": [
       "Canvas(height=200, width=200)"
      ]
     },
     "metadata": {},
     "output_type": "display_data"
    },
    {
     "name": "stdout",
     "output_type": "stream",
     "text": [
      "0\n",
      "40\n",
      "73\n",
      "123\n",
      "156\n",
      "188\n",
      "outside canvas: 223\n"
     ]
    }
   ],
   "source": [
    "canvas = Canvas(width=200, height=200)\n",
    "display(canvas)\n",
    "canvas.stroke_rect(0,0,200,200)\n",
    "\n",
    "x = 0\n",
    "y = 50\n",
    "size=20\n",
    "\n",
    "while x < 200:\n",
    "    print(x)\n",
    "    canvas.fill_rect(x,y,size,size)\n",
    "    x += random.randint(30,50)\n",
    "    sleep(0.5)\n",
    "print('outside canvas:',x)    "
   ]
  },
  {
   "cell_type": "code",
   "execution_count": null,
   "metadata": {},
   "outputs": [],
   "source": []
  },
  {
   "cell_type": "code",
   "execution_count": null,
   "metadata": {},
   "outputs": [],
   "source": []
  }
 ],
 "metadata": {
  "kernelspec": {
   "display_name": "Python 3",
   "language": "python",
   "name": "python3"
  },
  "language_info": {
   "codemirror_mode": {
    "name": "ipython",
    "version": 3
   },
   "file_extension": ".py",
   "mimetype": "text/x-python",
   "name": "python",
   "nbconvert_exporter": "python",
   "pygments_lexer": "ipython3",
   "version": "3.6.9"
  }
 },
 "nbformat": 4,
 "nbformat_minor": 2
}
