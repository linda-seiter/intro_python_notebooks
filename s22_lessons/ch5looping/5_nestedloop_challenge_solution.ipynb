{
 "cells": [
  {
   "cell_type": "code",
   "execution_count": 15,
   "metadata": {},
   "outputs": [],
   "source": [
    "from PIL import Image               # to load images\n",
    "from IPython.display import display # to display images\n",
    "import numpy as np\n",
    "import random\n",
    "from ipycanvas import Canvas"
   ]
  },
  {
   "cell_type": "code",
   "execution_count": 11,
   "metadata": {},
   "outputs": [
    {
     "name": "stdout",
     "output_type": "stream",
     "text": [
      "*\n",
      "**\n",
      "***\n",
      "****\n",
      "*****\n",
      "******\n"
     ]
    }
   ],
   "source": [
    "'''\n",
    "Task1a\n",
    "'''\n",
    "n=6\n",
    "for r in range(1,n+1):\n",
    "    for c in range(r):\n",
    "        print('*',end='')\n",
    "    print()"
   ]
  },
  {
   "cell_type": "code",
   "execution_count": 10,
   "metadata": {},
   "outputs": [
    {
     "name": "stdout",
     "output_type": "stream",
     "text": [
      "*!\n",
      "**!!\n",
      "***!!!\n",
      "****!!!!\n",
      "*****!!!!!\n",
      "******!!!!!!\n"
     ]
    }
   ],
   "source": [
    "'''\n",
    "Task1b\n",
    "'''\n",
    "n=6\n",
    "for r in range(1,n+1):\n",
    "    for c in range(r):\n",
    "        print('*',end='')\n",
    "    for c in range(r):\n",
    "        print('!',end='')\n",
    "    print()"
   ]
  },
  {
   "cell_type": "code",
   "execution_count": 9,
   "metadata": {},
   "outputs": [
    {
     "name": "stdout",
     "output_type": "stream",
     "text": [
      "*!!!!!\n",
      "**!!!!\n",
      "***!!!\n",
      "****!!\n",
      "*****!\n",
      "******\n"
     ]
    }
   ],
   "source": [
    "'''\n",
    "Task1c\n",
    "'''\n",
    "\n",
    "n = 6\n",
    "for r in range(1,n+1):\n",
    "    for c in range(r):\n",
    "        print('*',end='')\n",
    "    for c in range(n-r):\n",
    "        print('!',end='')\n",
    "    print()"
   ]
  },
  {
   "cell_type": "code",
   "execution_count": 26,
   "metadata": {},
   "outputs": [
    {
     "name": "stdout",
     "output_type": "stream",
     "text": [
      "# # # # # # # # # # \n",
      "_ # _ # _ # _ # _ # \n",
      "_ _ # _ _ # _ _ # _ \n",
      "_ _ _ # _ _ _ # _ _ \n",
      "_ _ _ _ # _ _ _ _ # \n",
      "_ _ _ _ _ # _ _ _ _ \n"
     ]
    }
   ],
   "source": [
    "'''\n",
    "Task1d\n",
    "'''\n",
    "\n",
    "n = 6\n",
    "for r in range(1,n+1):\n",
    "    for c in range(1,11):\n",
    "        if c%r == 0:\n",
    "            print('#',end=' ')\n",
    "        else:\n",
    "            print('_',end=' ')\n",
    "    print()"
   ]
  },
  {
   "cell_type": "code",
   "execution_count": null,
   "metadata": {},
   "outputs": [],
   "source": []
  },
  {
   "cell_type": "code",
   "execution_count": null,
   "metadata": {},
   "outputs": [],
   "source": []
  },
  {
   "cell_type": "code",
   "execution_count": null,
   "metadata": {},
   "outputs": [],
   "source": []
  },
  {
   "cell_type": "code",
   "execution_count": 16,
   "metadata": {},
   "outputs": [
    {
     "data": {
      "image/png": "[encoded data removed]",
      "text/plain": [
       "<PIL.Image.Image image mode=RGB size=100x100 at 0x7F7146C12320>"
      ]
     },
     "metadata": {},
     "output_type": "display_data"
    },
    {
     "data": {
      "image/png": "[encoded data removed]",
      "text/plain": [
       "<PIL.Image.Image image mode=RGB size=100x100 at 0x7F7146C126D8>"
      ]
     },
     "metadata": {},
     "output_type": "display_data"
    }
   ],
   "source": [
    "'''\n",
    "Task2a\n",
    "'''\n",
    "\n",
    "image = Image.new(mode = \"RGB\", size = (100,100))\n",
    "display(image)\n",
    "pixels_2D = np.array(image)  #convert to 2D list\n",
    "rows = len(pixels_2D)\n",
    "cols = len(pixels_2D[0])\n",
    "\n",
    "for r in range(rows):\n",
    "    for c in range(cols):\n",
    "        if r == c:\n",
    "            pixels_2D[r][c] = [0,255,0]\n",
    "        \n",
    "image = Image.fromarray(pixels_2D)\n",
    "display(image)"
   ]
  },
  {
   "cell_type": "code",
   "execution_count": 27,
   "metadata": {},
   "outputs": [
    {
     "data": {
      "image/png": "[encoded data removed]",
      "text/plain": [
       "<PIL.Image.Image image mode=RGB size=100x100 at 0x7F7146AD0B00>"
      ]
     },
     "metadata": {},
     "output_type": "display_data"
    },
    {
     "data": {
      "image/png": "[encoded data removed]",
      "text/plain": [
       "<PIL.Image.Image image mode=RGB size=100x100 at 0x7F7146AD0BA8>"
      ]
     },
     "metadata": {},
     "output_type": "display_data"
    }
   ],
   "source": [
    "'''\n",
    "Task2b\n",
    "'''\n",
    "\n",
    "image = Image.new(mode = \"RGB\", size = (100,100))\n",
    "display(image)\n",
    "pixels_2D = np.array(image)  #convert to 2D list\n",
    "rows = len(pixels_2D)\n",
    "cols = len(pixels_2D[0])\n",
    "\n",
    "for r in range(rows):\n",
    "    for c in range(cols):\n",
    "        if r == c or r == cols - c:\n",
    "            pixels_2D[r][c] = [0,255,0]\n",
    "        \n",
    "image = Image.fromarray(pixels_2D)\n",
    "display(image)"
   ]
  },
  {
   "cell_type": "code",
   "execution_count": 33,
   "metadata": {},
   "outputs": [
    {
     "data": {
      "image/png": "[encoded data removed]",
      "text/plain": [
       "<PIL.Image.Image image mode=RGB size=100x100 at 0x7F7146AC5940>"
      ]
     },
     "metadata": {},
     "output_type": "display_data"
    },
    {
     "data": {
      "image/png": "[encoded data removed]",
      "text/plain": [
       "<PIL.Image.Image image mode=RGB size=100x100 at 0x7F7146AC5390>"
      ]
     },
     "metadata": {},
     "output_type": "display_data"
    }
   ],
   "source": [
    "'''\n",
    "Task2c\n",
    "'''\n",
    "\n",
    "image = Image.new(mode = \"RGB\", size = (100,100))\n",
    "display(image)\n",
    "pixels_2D = np.array(image)  #convert to 2D list\n",
    "rows = len(pixels_2D)\n",
    "cols = len(pixels_2D[0])\n",
    "\n",
    "for r in range(rows):\n",
    "    for c in range(cols):\n",
    "        if r == c or r == cols - c:\n",
    "            pixels_2D[r][c] = [0,255,0]\n",
    "        elif r > c :\n",
    "            pixels_2D[r][c] = [0,0,255]\n",
    "        else:\n",
    "            pixels_2D[r][c] = [255,0,0]\n",
    "        \n",
    "image = Image.fromarray(pixels_2D)\n",
    "display(image)"
   ]
  },
  {
   "cell_type": "code",
   "execution_count": null,
   "metadata": {},
   "outputs": [],
   "source": []
  }
 ],
 "metadata": {
  "kernelspec": {
   "display_name": "Python 3",
   "language": "python",
   "name": "python3"
  },
  "language_info": {
   "codemirror_mode": {
    "name": "ipython",
    "version": 3
   },
   "file_extension": ".py",
   "mimetype": "text/x-python",
   "name": "python",
   "nbconvert_exporter": "python",
   "pygments_lexer": "ipython3",
   "version": "3.6.9"
  }
 },
 "nbformat": 4,
 "nbformat_minor": 2
}
