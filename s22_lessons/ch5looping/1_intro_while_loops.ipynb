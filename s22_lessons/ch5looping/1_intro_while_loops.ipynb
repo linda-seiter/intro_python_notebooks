{
 "cells": [
  {
   "cell_type": "markdown",
   "metadata": {},
   "source": [
    "[python tutor](http://pythontutor.com/visualize.html#mode=edit)"
   ]
  },
  {
   "cell_type": "code",
   "execution_count": 2,
   "metadata": {},
   "outputs": [],
   "source": [
    "import math\n",
    "import random\n",
    "from ipycanvas import Canvas\n",
    "from time import sleep"
   ]
  },
  {
   "cell_type": "code",
   "execution_count": null,
   "metadata": {},
   "outputs": [],
   "source": [
    "# an if statement is executed once\n",
    "\n",
    "num = 1\n",
    "if num < 10:\n",
    "    print('num=',num)\n",
    "    num += 1\n",
    "print('after if', num)"
   ]
  },
  {
   "cell_type": "markdown",
   "metadata": {},
   "source": [
    "### Basic counting while loop"
   ]
  },
  {
   "cell_type": "code",
   "execution_count": null,
   "metadata": {},
   "outputs": [],
   "source": [
    "# a while statement is executed multiple times as long as the condition is true\n",
    "\n",
    "num = 1\n",
    "print('before while', num)\n",
    "while num < 5:\n",
    "    print('num=',num)\n",
    "    num += 1\n",
    "print('after while', num)"
   ]
  },
  {
   "cell_type": "code",
   "execution_count": null,
   "metadata": {},
   "outputs": [],
   "source": [
    "#Ask user for starting value and increment.  show 5 number sequence.\n",
    "\n",
    "start_num = int(input('starting value:'))\n",
    "increment = int(input('increment:'))\n",
    "print(start_num)\n",
    "print(start_num+increment)\n",
    "print(start_num+2*increment)\n",
    "print(start_num+3*increment)\n",
    "print(start_num+4*increment)"
   ]
  },
  {
   "cell_type": "code",
   "execution_count": null,
   "metadata": {},
   "outputs": [],
   "source": [
    "#What if we want 20 numbers in the sequence instead of 5?  That is a lot of copy/paste/update.\n",
    "#Use a loop instead!\n",
    "\n",
    "start_num = int(input('starting value:'))\n",
    "increment = int(input('increment:'))\n"
   ]
  },
  {
   "cell_type": "code",
   "execution_count": null,
   "metadata": {},
   "outputs": [],
   "source": [
    "#draw 4 20x20 squares spaced 5 pixels apart. first square x is 50\n",
    "\n",
    "canvas = Canvas(width=400, height=400)\n",
    "display(canvas)\n",
    "canvas.fill_style = 'yellow'\n",
    "canvas.fill_rect(0,0,400,400)\n",
    "\n",
    "size=20\n",
    "space=5\n",
    "x=50\n",
    "canvas.fill_style = 'black'\n",
    "\n",
    "#first try to find the pattern without a loop\n",
    "canvas.fill_rect(x,0,size,size)  #first square\n"
   ]
  },
  {
   "cell_type": "code",
   "execution_count": null,
   "metadata": {},
   "outputs": [],
   "source": [
    "# drawing 4 vertical lines without loop.  \n",
    "# what if we want to draw 6 or 10 lines instead of just 4?\n",
    "\n",
    "canvas = Canvas(width=400, height=400)\n",
    "display(canvas)\n",
    "canvas.fill_style = 'yellow'\n",
    "canvas.fill_rect(0,0,400,400)\n",
    "\n",
    "x=50\n",
    "y=100\n",
    "line_length=75\n",
    "horiz_space = 20\n",
    "\n",
    "\n",
    "canvas.stroke_line(x,y,x,y+line_length)\n",
    "canvas.stroke_text(1,x-2,y-10)  \n",
    "\n",
    "#find the pattern without a loop\n",
    "\n",
    "\n"
   ]
  },
  {
   "cell_type": "code",
   "execution_count": 50,
   "metadata": {},
   "outputs": [
    {
     "data": {
      "application/vnd.jupyter.widget-view+json": {
       "model_id": "7c2cc80d02af4123bb501b7d4fbe4ae8",
       "version_major": 2,
       "version_minor": 0
      },
      "text/plain": [
       "Canvas(height=400, width=400)"
      ]
     },
     "metadata": {},
     "output_type": "display_data"
    }
   ],
   "source": [
    "#drawing 4 vertical lines with loop\n",
    "\n",
    "\n",
    "\n",
    "\n"
   ]
  },
  {
   "cell_type": "code",
   "execution_count": null,
   "metadata": {},
   "outputs": [],
   "source": [
    "#flip a coin 5 times\n",
    "\n",
    "\n",
    "coin = random.randint(1,2)\n",
    "if coin == 1:\n",
    "    print('heads')\n",
    "else:\n",
    "    print('tails')"
   ]
  },
  {
   "cell_type": "code",
   "execution_count": null,
   "metadata": {},
   "outputs": [],
   "source": [
    "#flip a coin until 3 heads\n",
    "\n"
   ]
  },
  {
   "cell_type": "code",
   "execution_count": null,
   "metadata": {},
   "outputs": [],
   "source": [
    "#flip a coin until 3 heads in a row\n",
    "\n"
   ]
  },
  {
   "cell_type": "code",
   "execution_count": 6,
   "metadata": {},
   "outputs": [
    {
     "data": {
      "application/vnd.jupyter.widget-view+json": {
       "model_id": "b74196688fbe4343ac3c63ce93042842",
       "version_major": 2,
       "version_minor": 0
      },
      "text/plain": [
       "Canvas(height=400, width=400)"
      ]
     },
     "metadata": {},
     "output_type": "display_data"
    }
   ],
   "source": [
    "#Update this code to generate 10 random lines, labeling each line with counter. \n",
    "#Alternate color between red,  blue, green\n",
    "\n",
    "canvas = Canvas(width=400, height=400)\n",
    "display(canvas)\n",
    "canvas.font = '16pt serif'\n",
    "\n",
    "count = 1\n",
    "\n",
    "x1 = random.randint(0,400)\n",
    "y1 = random.randint(0,400)\n",
    "x2 = random.randint(0,400)\n",
    "y2 = random.randint(0,400)\n",
    "\n",
    "canvas.stroke_line(x1,y1,x2,y2)\n",
    "canvas.fill_text(count,x1,y1)\n",
    "\n",
    "    \n"
   ]
  },
  {
   "cell_type": "code",
   "execution_count": 56,
   "metadata": {},
   "outputs": [
    {
     "data": {
      "application/vnd.jupyter.widget-view+json": {
       "model_id": "9ad92218879c48d490aa5da38c47be19",
       "version_major": 2,
       "version_minor": 0
      },
      "text/plain": [
       "Canvas(height=400, width=400)"
      ]
     },
     "metadata": {},
     "output_type": "display_data"
    }
   ],
   "source": [
    "#Generate a trail of 10 random lines.  Each line should begin where the previous line ended. \n",
    "#Alternate color between red,  blue, green\n",
    "\n",
    "\n"
   ]
  },
  {
   "cell_type": "markdown",
   "metadata": {},
   "source": [
    "### While loop testing a threshold"
   ]
  },
  {
   "cell_type": "code",
   "execution_count": null,
   "metadata": {},
   "outputs": [],
   "source": [
    "#Draw shrinking sequence of lines without a loop. What if we prompt for the shrink\n",
    "#rate and want to keep drawing until the line_length is 0?  \n",
    "#Need a loop to draw until length reaches 0.\n",
    "\n",
    "canvas = Canvas(width=400, height=400)\n",
    "display(canvas)\n",
    "canvas.fill_style = 'yellow'\n",
    "canvas.fill_rect(0,0,400,400)\n",
    "\n",
    "x = 10\n",
    "y = 50\n",
    "line_length = 200\n",
    "horiz_space = 40\n",
    "shrink_rate = 40\n",
    "\n",
    "\n",
    "canvas.stroke_line(x,y,x,y+line_length)\n",
    "canvas.stroke_text(line_length,x-2,y-10)  \n",
    "x += horiz_space\n",
    "line_length -= shrink_rate\n",
    "\n",
    "canvas.stroke_line(x,y,x,y+line_length)\n",
    "canvas.stroke_text(line_length,x-2,y-10)  \n",
    "x += horiz_space\n",
    "line_length -= shrink_rate\n",
    "\n",
    "canvas.stroke_line(x,y,x,y+line_length)\n",
    "canvas.stroke_text(line_length,x-2,y-10)  \n",
    "x += horiz_space\n",
    "line_length -= shrink_rate\n",
    "\n",
    "canvas.stroke_line(x,y,x,y+line_length)\n",
    "canvas.stroke_text(line_length,x-2,y-10)  \n",
    "x += horiz_space\n",
    "line_length -= shrink_rate\n",
    "\n",
    "\n"
   ]
  },
  {
   "cell_type": "code",
   "execution_count": null,
   "metadata": {},
   "outputs": [],
   "source": [
    "#CHALLENGE: Prompt for the shrink amount and use loop to draw until the line_length is 0. \n",
    "\n",
    "canvas = Canvas(width=400, height=400)\n",
    "display(canvas)\n",
    "canvas.fill_style = 'yellow'\n",
    "canvas.fill_rect(0,0,400,400)\n",
    "\n",
    "x = 10\n",
    "y = 50\n",
    "line_length = 200\n",
    "horiz_space = 40\n",
    "shrink_rate = int(input('shrink rate:'))\n",
    "\n",
    "\n",
    "\n",
    "\n",
    "\n"
   ]
  },
  {
   "cell_type": "code",
   "execution_count": null,
   "metadata": {},
   "outputs": [],
   "source": [
    "# Generate 2 random numbers representing a 6 sided dice.  \n",
    "#Loop until both numbers are same.  \n",
    "#Display a count of how many times it took to get matching pair.\n",
    "\n",
    "die1 = random.randint(1,6)\n",
    "die2 = random.randint(1,6)\n",
    "print(die1,',',die2)\n",
    "\n"
   ]
  },
  {
   "cell_type": "markdown",
   "metadata": {},
   "source": [
    "### Loop to get input until a sentinel (stopping) value is entered by the user"
   ]
  },
  {
   "cell_type": "code",
   "execution_count": null,
   "metadata": {},
   "outputs": [],
   "source": [
    "#Ask user what is on their mind 3 times.  Generate a random response.\n",
    "\n",
    "count=1\n",
    "while count <= 3:\n",
    "    user_response = input('what\\'s in your mind?')\n",
    "    rand_num = random.randint(1,3)\n",
    "    if rand_num == 1:\n",
    "        print('How interesting!')\n",
    "    elif rand_num == 2:\n",
    "        print(\"Tell me more....\")\n",
    "    else:\n",
    "        print('You don\\'t say!')\n",
    "        \n",
    "    count += 1\n",
    "    \n",
    "print('bye!')"
   ]
  },
  {
   "cell_type": "code",
   "execution_count": null,
   "metadata": {},
   "outputs": [],
   "source": [
    "#Ask user what is on their mind  until they enter q to quit.\n",
    "\n"
   ]
  },
  {
   "cell_type": "code",
   "execution_count": null,
   "metadata": {},
   "outputs": [],
   "source": []
  }
 ],
 "metadata": {
  "kernelspec": {
   "display_name": "Python 3",
   "language": "python",
   "name": "python3"
  },
  "language_info": {
   "codemirror_mode": {
    "name": "ipython",
    "version": 3
   },
   "file_extension": ".py",
   "mimetype": "text/x-python",
   "name": "python",
   "nbconvert_exporter": "python",
   "pygments_lexer": "ipython3",
   "version": "3.6.9"
  }
 },
 "nbformat": 4,
 "nbformat_minor": 2
}
