{
 "cells": [
  {
   "cell_type": "markdown",
   "metadata": {},
   "source": [
    "[python tutor](http://pythontutor.com/visualize.html#mode=edit)"
   ]
  },
  {
   "cell_type": "code",
   "execution_count": null,
   "metadata": {},
   "outputs": [],
   "source": [
    "import math\n",
    "import random\n",
    "from ipycanvas import Canvas\n",
    "from time import sleep"
   ]
  },
  {
   "cell_type": "code",
   "execution_count": null,
   "metadata": {},
   "outputs": [],
   "source": [
    "#generate 10 random lines. Alternate color between red,  blue, green\n",
    "\n",
    "canvas = Canvas(width=400, height=400)\n",
    "display(canvas)\n",
    "canvas.font = '16pt serif'\n",
    "\n",
    "count = 1\n",
    "while (count <= 10):\n",
    "    x1 = random.randint(0,400)\n",
    "    y1 = random.randint(0,400)\n",
    "    x2 = random.randint(0,400)\n",
    "    y2 = random.randint(0,400)\n",
    "    if count % 3 == 1:\n",
    "        canvas.stroke_style='red'\n",
    "    elif count% 3 == 2:\n",
    "        canvas.stroke_style='blue'\n",
    "    else: \n",
    "        canvas.stroke_style='green'\n",
    "    \n",
    "    canvas.stroke_line(x1,y1,x2,y2)\n",
    "    canvas.fill_text(count,x1,y1)\n",
    "    count += 1  \n",
    "    sleep(0.5)  #pause 1/2 second between loop iterations\n",
    "    \n"
   ]
  },
  {
   "cell_type": "code",
   "execution_count": null,
   "metadata": {},
   "outputs": [],
   "source": [
    "#Generate a trail of 10 random lines.  Each line should begin where the previous line ended. \n",
    "#Alternate color between red,  blue, green\n",
    "\n",
    "canvas = Canvas(width=400, height=400)\n",
    "display(canvas)\n",
    "canvas.font = '16pt serif'\n",
    "\n",
    "count = 1\n",
    "x1 = random.randint(0,400)\n",
    "y1 = random.randint(0,400)\n",
    "while (count <= 10):\n",
    "    x2 = random.randint(0,400)\n",
    "    y2 = random.randint(0,400)\n",
    "    if count % 3 == 1:\n",
    "        canvas.stroke_style='red'\n",
    "    elif count% 3 == 2:\n",
    "        canvas.stroke_style='blue'\n",
    "    else: \n",
    "        canvas.stroke_style='green'\n",
    "    \n",
    "    canvas.stroke_line(x1,y1,x2,y2)\n",
    "    canvas.fill_text(count,x1,y1)\n",
    "    count += 1  \n",
    "    x1 = x2\n",
    "    y1 = y2\n",
    "    sleep(0.5)\n",
    "    \n"
   ]
  },
  {
   "cell_type": "code",
   "execution_count": null,
   "metadata": {},
   "outputs": [],
   "source": [
    "#Prompt for the shrink amount and use loop to draw until the line_length is 0. \n",
    "\n",
    "canvas = Canvas(width=400, height=400)\n",
    "display(canvas)\n",
    "canvas.fill_style = 'yellow'\n",
    "canvas.fill_rect(0,0,400,400)\n",
    "\n",
    "x = 10\n",
    "y = 50\n",
    "line_length = 200\n",
    "horiz_space = 40\n",
    "shrink_rate = int(input('shrink rate:'))\n",
    "\n",
    "while line_length > 0:\n",
    "    canvas.stroke_line(x,y,x,y+line_length)\n",
    "    canvas.stroke_text(line_length,x-2,y-10)  \n",
    "    x += horiz_space\n",
    "    line_length -= shrink_rate\n",
    "\n",
    "\n",
    "\n",
    "\n"
   ]
  },
  {
   "cell_type": "code",
   "execution_count": null,
   "metadata": {},
   "outputs": [],
   "source": [
    "# Generate 2 random numbers representing a 6 sided dice.  Loop until both numbers are same.\n",
    "\n",
    "die1 = random.randint(1,6)\n",
    "die2 = random.randint(1,6)\n",
    "print(die1,',',die2)\n",
    "rolls = 1\n",
    "while die1 != die2:\n",
    "    die1 = random.randint(1,6)\n",
    "    die2 = random.randint(1,6)\n",
    "    print(die1,',',die2)\n",
    "    rolls+=1\n",
    "\n",
    "print('It took',rolls, 'rolls to get a matching pair')"
   ]
  },
  {
   "cell_type": "code",
   "execution_count": null,
   "metadata": {},
   "outputs": [],
   "source": [
    "# VERSION 2: Generate 2 random numbers representing a 6 sided dice.  Loop until both numbers are same.\n",
    "\n",
    "matched_pair = False\n",
    "rolls = 1\n",
    "while matched_pair == False:\n",
    "    die1 = random.randint(1,6)\n",
    "    die2 = random.randint(1,6)\n",
    "    print(die1,die2)\n",
    "    \n",
    "    if die1 == die2:\n",
    "        matched_pair = True\n",
    "    else:\n",
    "        rolls+=1\n",
    "\n",
    "print('It took',rolls, 'rolls to get a matching pair')"
   ]
  },
  {
   "cell_type": "markdown",
   "metadata": {},
   "source": [
    "### Loop to get input until a sentinel (stopping) value is entered by the user"
   ]
  },
  {
   "cell_type": "code",
   "execution_count": null,
   "metadata": {},
   "outputs": [],
   "source": [
    "#Ask user what is on their mind 3 times.  Generate a random response.\n",
    "\n",
    "count=1\n",
    "while count <= 3:\n",
    "    user_response = input('what\\'s in your mind?')\n",
    "    rand_num = random.randint(1,3)\n",
    "    if rand_num == 1:\n",
    "        print('How interesting!')\n",
    "    elif rand_num == 2:\n",
    "        print(\"Tell me more....\")\n",
    "    else:\n",
    "        print('You don\\'t say!')\n",
    "        \n",
    "    count += 1\n",
    "    \n",
    "print('bye!')"
   ]
  },
  {
   "cell_type": "code",
   "execution_count": null,
   "metadata": {},
   "outputs": [],
   "source": [
    "#Ask user what is on their mind  until they enter q to quit.\n",
    "\n",
    "user_response = input('what\\'s in your mind (q to quit)?')\n",
    "while user_response != 'q':\n",
    "    \n",
    "    rand_num = random.randint(1,3)\n",
    "    \n",
    "    if rand_num == 1:\n",
    "        print('How interesting!')\n",
    "    elif rand_num == 2:\n",
    "        print(\"Tell me more....\")\n",
    "    else:\n",
    "        print('You don\\'t say!')\n",
    "        \n",
    "    user_response = input('what\\'s in your mind (q to quit)?')\n",
    "    \n",
    "print('bye!')"
   ]
  },
  {
   "cell_type": "code",
   "execution_count": null,
   "metadata": {},
   "outputs": [],
   "source": []
  }
 ],
 "metadata": {
  "kernelspec": {
   "display_name": "Python 3",
   "language": "python",
   "name": "python3"
  },
  "language_info": {
   "codemirror_mode": {
    "name": "ipython",
    "version": 3
   },
   "file_extension": ".py",
   "mimetype": "text/x-python",
   "name": "python",
   "nbconvert_exporter": "python",
   "pygments_lexer": "ipython3",
   "version": "3.6.9"
  }
 },
 "nbformat": 4,
 "nbformat_minor": 2
}
