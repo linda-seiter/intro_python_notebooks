{
 "cells": [
  {
   "cell_type": "code",
   "execution_count": 3,
   "metadata": {},
   "outputs": [],
   "source": [
    "import math\n",
    "import random\n",
    "from ColabTurtle.Turtle import *"
   ]
  },
  {
   "cell_type": "code",
   "execution_count": 10,
   "metadata": {},
   "outputs": [
    {
     "name": "stdout",
     "output_type": "stream",
     "text": [
      "inventory: 20 cookies and 20 cakes\n",
      "sold: 16 cookies and 17 cakes\n",
      "inventory: 4 cookies and 3 cakes\n",
      "sold: 0 cookies and 1 cakes\n",
      "inventory: 4 cookies and 2 cakes\n",
      "sold: 0 cookies and 1 cakes\n",
      "inventory: 4 cookies and 1 cakes\n",
      "sold: 2 cookies and 1 cakes\n",
      "inventory: 2 cookies and 0 cakes\n",
      "sold: 1 cookies and 0 cakes\n",
      "inventory: 1 cookies and 0 cakes\n",
      "sold: 1 cookies and 0 cakes\n",
      "inventory: 0 cookies and 0 cakes\n"
     ]
    }
   ],
   "source": [
    "\n",
    "num_cookies = 20\n",
    "num_cakes = 20\n",
    "print('inventory: {} cookies and {} cakes'.format(num_cookies, num_cakes))\n",
    "while (num_cookies > 0 or num_cakes > 0):\n",
    "    cookies_sold = random.randint(0,num_cookies)\n",
    "    cakes_sold = random.randint(0,num_cakes)\n",
    "    print('sold: {} cookies and {} cakes'.format(cookies_sold, cakes_sold))\n",
    "    num_cookies -= cookies_sold\n",
    "    num_cakes -= cakes_sold\n",
    "    print('inventory: {} cookies and {} cakes'.format(num_cookies, num_cakes))\n",
    "\n"
   ]
  },
  {
   "cell_type": "code",
   "execution_count": null,
   "metadata": {},
   "outputs": [],
   "source": []
  },
  {
   "cell_type": "code",
   "execution_count": null,
   "metadata": {},
   "outputs": [],
   "source": []
  }
 ],
 "metadata": {
  "kernelspec": {
   "display_name": "Python 3",
   "language": "python",
   "name": "python3"
  },
  "language_info": {
   "codemirror_mode": {
    "name": "ipython",
    "version": 3
   },
   "file_extension": ".py",
   "mimetype": "text/x-python",
   "name": "python",
   "nbconvert_exporter": "python",
   "pygments_lexer": "ipython3",
   "version": "3.6.9"
  }
 },
 "nbformat": 4,
 "nbformat_minor": 2
}
