{
 "cells": [
  {
   "cell_type": "code",
   "execution_count": 1,
   "metadata": {},
   "outputs": [],
   "source": [
    "from ipycanvas import Canvas\n",
    "from time import sleep\n",
    "import random"
   ]
  },
  {
   "cell_type": "code",
   "execution_count": 6,
   "metadata": {},
   "outputs": [
    {
     "data": {
      "application/vnd.jupyter.widget-view+json": {
       "model_id": "",
       "version_major": 2,
       "version_minor": 0
      },
      "text/plain": [
       "Canvas(height=400, width=400)"
      ]
     },
     "metadata": {},
     "output_type": "display_data"
    }
   ],
   "source": [
    "canvas = Canvas(width=400, height=400)\n",
    "display(canvas)\n",
    "canvas.font = '16pt serif'\n",
    "\n",
    "x = 50\n",
    "y = 100\n",
    "\n",
    "#draw 10 lines spaced 10 pixels apart\n",
    "for i in range(10):\n",
    "    canvas.stroke_line(x,y,x,y+100)\n",
    "    x += 10\n",
    "    #sleep(0.5)  #pause 1/2 second between loop iterations"
   ]
  },
  {
   "cell_type": "code",
   "execution_count": 9,
   "metadata": {},
   "outputs": [
    {
     "data": {
      "application/vnd.jupyter.widget-view+json": {
       "model_id": "",
       "version_major": 2,
       "version_minor": 0
      },
      "text/plain": [
       "Canvas(height=400, width=400)"
      ]
     },
     "metadata": {},
     "output_type": "display_data"
    }
   ],
   "source": [
    "#move line 10 pixels to the right every 1/2 second\n"
   ]
  },
  {
   "cell_type": "code",
   "execution_count": 19,
   "metadata": {},
   "outputs": [
    {
     "data": {
      "application/vnd.jupyter.widget-view+json": {
       "model_id": "08ccd62225be428cb10e71839ae68caa",
       "version_major": 2,
       "version_minor": 0
      },
      "text/plain": [
       "Canvas(height=400, width=400)"
      ]
     },
     "metadata": {},
     "output_type": "display_data"
    }
   ],
   "source": [
    "canvas = Canvas(width=400, height=400)\n",
    "display(canvas)\n",
    "canvas.font = '16pt serif'\n",
    "\n",
    "x = 50\n",
    "y = 100\n",
    "size = 50 \n",
    "canvas.fill_rect(x,y,size,size)\n",
    "    \n",
    "#move rectangle down 5 times. pause 1/2 second before each move (MISSING canvas.clear())\n",
    "for i in range(5):\n",
    "    sleep(0.5)  #pause 1 second between loop iterations\n",
    "    \n",
    "    canvas.stroke_rect(0,0,400,400)  #canvas border\n",
    "    \n",
    "    #move the rect down 20 pixels\n",
    "    y += 20  \n",
    "    canvas.fill_rect(x,y,size,size)\n",
    "    "
   ]
  },
  {
   "cell_type": "code",
   "execution_count": 20,
   "metadata": {},
   "outputs": [
    {
     "data": {
      "application/vnd.jupyter.widget-view+json": {
       "model_id": "56c8234e57ac45fda6bc60fed5692a2a",
       "version_major": 2,
       "version_minor": 0
      },
      "text/plain": [
       "Canvas(height=400, width=400)"
      ]
     },
     "metadata": {},
     "output_type": "display_data"
    }
   ],
   "source": [
    "\n",
    "#move rectangle down until it hits bottom of canvas\n"
   ]
  },
  {
   "cell_type": "code",
   "execution_count": null,
   "metadata": {},
   "outputs": [],
   "source": []
  }
 ],
 "metadata": {
  "kernelspec": {
   "display_name": "Python 3",
   "language": "python",
   "name": "python3"
  },
  "language_info": {
   "codemirror_mode": {
    "name": "ipython",
    "version": 3
   },
   "file_extension": ".py",
   "mimetype": "text/x-python",
   "name": "python",
   "nbconvert_exporter": "python",
   "pygments_lexer": "ipython3",
   "version": "3.6.9"
  }
 },
 "nbformat": 4,
 "nbformat_minor": 2
}
