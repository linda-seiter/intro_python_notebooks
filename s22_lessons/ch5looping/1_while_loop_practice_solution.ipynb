{
 "cells": [
  {
   "cell_type": "code",
   "execution_count": 5,
   "metadata": {},
   "outputs": [],
   "source": [
    "import math\n",
    "import random\n",
    "from ipycanvas import Canvas\n",
    "from time import sleep"
   ]
  },
  {
   "cell_type": "code",
   "execution_count": 1,
   "metadata": {},
   "outputs": [
    {
     "name": "stdout",
     "output_type": "stream",
     "text": [
      "10\n",
      "12\n",
      "14\n",
      "16\n",
      "18\n",
      "20\n",
      "22\n",
      "24\n",
      "26\n",
      "28\n",
      "30\n"
     ]
    }
   ],
   "source": [
    "#count from 10 to 30 by 2\n",
    "\n",
    "count = 10\n",
    "while count <= 30:\n",
    "    print(count)\n",
    "    count += 2\n",
    "    \n",
    "    "
   ]
  },
  {
   "cell_type": "code",
   "execution_count": 2,
   "metadata": {},
   "outputs": [
    {
     "name": "stdout",
     "output_type": "stream",
     "text": [
      "start:5\n",
      "end:25\n",
      "5\n",
      "7\n",
      "9\n",
      "11\n",
      "13\n",
      "15\n",
      "17\n",
      "19\n",
      "21\n",
      "23\n",
      "25\n"
     ]
    }
   ],
   "source": [
    "#ask for start and end numbers. count from start to end by 2\n",
    "\n",
    "start = int(input('start:'))\n",
    "end = int(input('end:'))\n",
    "while start <= end:\n",
    "    print(start)\n",
    "    start += 2\n",
    "    \n",
    "    "
   ]
  },
  {
   "cell_type": "code",
   "execution_count": 3,
   "metadata": {},
   "outputs": [
    {
     "name": "stdout",
     "output_type": "stream",
     "text": [
      "countdown starts at:12\n",
      "12 11 10 9 8 7 6 5 4 3 2 1 blastoff!!!!!\n"
     ]
    }
   ],
   "source": [
    "#ask user for starting number, count down to 1 (on same line) then say \"blastoff\"\n",
    "\n",
    "countdown = int(input('countdown starts at:'))\n",
    "while countdown >= 1:\n",
    "    print(countdown,end = ' ')\n",
    "    countdown -= 1\n",
    "print('blastoff!!!!!')"
   ]
  },
  {
   "cell_type": "code",
   "execution_count": 6,
   "metadata": {},
   "outputs": [
    {
     "data": {
      "application/vnd.jupyter.widget-view+json": {
       "model_id": "079be328d8c647df88c441be90d4220e",
       "version_major": 2,
       "version_minor": 0
      },
      "text/plain": [
       "Canvas(height=400, width=400)"
      ]
     },
     "metadata": {},
     "output_type": "display_data"
    }
   ],
   "source": [
    "#draw series of lines.  starting point for all lines is 0,0.  End point\n",
    "#for first line eis 200,50.  Vertical offset of each subsequent lines is 50 pixels.\n",
    "#draw lines until end point reaches bottom of canvas.\n",
    "canvas = Canvas(width=400, height=400)\n",
    "display(canvas)\n",
    "canvas.fill_style = 'yellow'\n",
    "canvas.fill_rect(0,0,400,400)\n",
    "\n",
    "x = 200\n",
    "y = 50\n",
    "diff_y = 50\n",
    "\n",
    "while y <= 400:\n",
    "    canvas.stroke_line(0,0,x,y)\n",
    "    label = '{},{}'.format(x,y)\n",
    "    canvas.stroke_text(label,x,y)\n",
    "    y += diff_y\n",
    "   "
   ]
  },
  {
   "cell_type": "code",
   "execution_count": 3,
   "metadata": {},
   "outputs": [
    {
     "name": "stdout",
     "output_type": "stream",
     "text": [
      "num1:5\n",
      "num2:20\n",
      "5 <= 20\n",
      "6 <= 19\n",
      "7 <= 18\n",
      "8 <= 17\n",
      "9 <= 16\n",
      "10 <= 15\n",
      "11 <= 14\n",
      "12 <= 13\n",
      "13 > 12\n"
     ]
    }
   ],
   "source": [
    "#ask the user for two numbers. \n",
    "#Repeatedly increase the first number and decrease the second until the numbers\n",
    "#swap their order.\n",
    "\n",
    "num1 = int(input('num1:'))\n",
    "num2 = int(input('num2:'))\n",
    "while num1 <= num2:\n",
    "    print('{} <= {}'.format(num1, num2))\n",
    "    num1 += 1\n",
    "    num2 -= 1\n",
    "print('{} > {}'.format(num1, num2))\n",
    "    "
   ]
  }
 ],
 "metadata": {
  "kernelspec": {
   "display_name": "Python 3",
   "language": "python",
   "name": "python3"
  },
  "language_info": {
   "codemirror_mode": {
    "name": "ipython",
    "version": 3
   },
   "file_extension": ".py",
   "mimetype": "text/x-python",
   "name": "python",
   "nbconvert_exporter": "python",
   "pygments_lexer": "ipython3",
   "version": "3.6.9"
  }
 },
 "nbformat": 4,
 "nbformat_minor": 2
}
