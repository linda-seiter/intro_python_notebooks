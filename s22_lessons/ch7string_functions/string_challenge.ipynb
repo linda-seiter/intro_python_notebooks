{
 "cells": [
  {
   "cell_type": "code",
   "execution_count": null,
   "metadata": {},
   "outputs": [],
   "source": [
    "'''\n",
    "Task1.  Write a function named count_occurrences that takes a string \n",
    "as a parameter with length at least 3.\n",
    "The first character in the string represents a search character.\n",
    "The second character in the string must be a colon.\n",
    "The substring following the colon represents a phrase. \n",
    "The function should return the number of times the search character \n",
    "appears in the phrase.  \n",
    "Return -1 if the string length is less than 3 or the second character \n",
    "is not a space.\n",
    "'''\n",
    "\n",
    "\n",
    "assert(count_occurrences('a:Happy Birthday Albert') == 2)\n",
    "assert(count_occurrences('A:Happy Birthday') == 0)\n",
    "assert(count_occurrences('p:hippopotamus') == 3)\n",
    "assert(count_occurrences('e:The quick brown fox jumped over the lazy dog') == 4)\n",
    "assert(count_occurrences('blah') == -1)\n",
    "assert(count_occurrences('') == -1)\n",
    "assert(count_occurrences(':blah') == -1) #colon not second character\n",
    "assert(count_occurrences('ha:haha') == -1)  #colon not second character\n",
    "assert(count_occurrences('a:') == -1)  #string length not at least 3\n",
    "print('tests passed')"
   ]
  },
  {
   "cell_type": "code",
   "execution_count": null,
   "metadata": {},
   "outputs": [],
   "source": [
    "'''\n",
    "Task2\n",
    "Write a function named end_of_phrase that takes two parameter \n",
    "strings.  The function should return True if the first string appears at \n",
    "the end of the second string directly before the punctuation.\n",
    "The second parameter string must contain at least two characters \n",
    "and the last character must be a period, question mark, or explanation mark.\n",
    "Ignore upper/lower case differences between the two string.  \n",
    "In other words, the function should be \"case insensitive\". \n",
    "'''\n",
    "\n",
    "\n",
    "\n",
    "\n",
    "assert(end_of_phrase('work', 'Nice work!') == True)\n",
    "assert(end_of_phrase('ExampLE', 'How about this EXAMPLE?') == True)\n",
    "assert(end_of_phrase('ha', 'ha!') == True)\n",
    "assert(end_of_phrase('BORing', 'This sentence is boring.') == True)\n",
    "assert(end_of_phrase('hungry', 'Are you hhhhhungry?') == True)\n",
    "\n",
    "assert(end_of_phrase('I', 'U') == False) #invalid string length \n",
    "assert(end_of_phrase('I', '!') == False)  #invalid string length\n",
    "assert(end_of_phrase('nope', 'I said no!') == False) #last word does not match first string\n",
    "assert(end_of_phrase('I', 'I know right?') == False) #last word does not match first string\n",
    "assert(end_of_phrase('yes', 'I said yes') == False)  #missing punctuation at end of sentence\n",
    "assert(end_of_phrase('password', '(hint:secret)') == False)  #missing punctuation at end of sentence\n",
    "print('tests passed')"
   ]
  },
  {
   "cell_type": "code",
   "execution_count": null,
   "metadata": {},
   "outputs": [],
   "source": [
    "'''\n",
    "Task 3 - Write a function named integer_string that takes a \n",
    "parameter string and returns a boolean indicating whether the string\n",
    "represents an integer with an optional leading positive or negative sign.\n",
    "The integer 0 should not have a plus or negative sign.\n",
    "'''\n",
    "\n",
    "\n",
    "assert(integer_string('12345') == True)\n",
    "assert(integer_string('0') == True)\n",
    "assert(integer_string('953') == True)\n",
    "assert(integer_string('-5673') == True)  #optional leading minus sign\n",
    "assert(integer_string('-1') == True)  #optional leading minus sign\n",
    "assert(integer_string('+123') == True) #optional leading plus sign\n",
    "\n",
    "assert(integer_string('123,456') == False)  #non-digit that is not leading plus or minus sign\n",
    "assert(integer_string('7abc9') == False) #non-digit that is not leading plus or minus sign\n",
    "assert(integer_string('') == False) #must contain at least one digit\n",
    "assert(integer_string('-') == False) #must contain at least one digit\n",
    "assert(integer_string('-0') == False) #0 should not have minus sign\n",
    "assert(integer_string('+0') == False) #0 should not have plus sign\n",
    "assert(integer_string('12-56') == False) #minus sign only allowed as first character\n",
    "assert(integer_string('1+256') == False) #plus sign only allowed as first character\n",
    "print('tests passed')"
   ]
  }
 ],
 "metadata": {
  "kernelspec": {
   "display_name": "Python 3",
   "language": "python",
   "name": "python3"
  },
  "language_info": {
   "codemirror_mode": {
    "name": "ipython",
    "version": 3
   },
   "file_extension": ".py",
   "mimetype": "text/x-python",
   "name": "python",
   "nbconvert_exporter": "python",
   "pygments_lexer": "ipython3",
   "version": "3.6.9"
  }
 },
 "nbformat": 4,
 "nbformat_minor": 2
}
