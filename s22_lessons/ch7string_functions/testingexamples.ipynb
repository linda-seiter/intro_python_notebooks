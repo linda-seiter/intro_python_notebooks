{
 "cells": [
  {
   "cell_type": "code",
   "execution_count": null,
   "metadata": {},
   "outputs": [],
   "source": [
    "def square(x):\n",
    "    '''raise x to the second power'''\n",
    "    return x * x\n",
    "\n",
    "\n",
    "print('testing square function')\n",
    "assert(square(10) == 100)\n",
    "assert(square(9) == 81)\n",
    "assert(square(2) == 4)\n",
    "print('tests passed')\n"
   ]
  },
  {
   "cell_type": "code",
   "execution_count": null,
   "metadata": {},
   "outputs": [],
   "source": [
    "\n",
    "def remove(substr,theStr):\n",
    "    index = theStr.find(substr)\n",
    "    if index < 0:  \n",
    "        return theStr\n",
    "    return_str = theStr[:index] + theStr[index+len(substr):] \n",
    "    return return_str\n",
    "\n",
    "#Test cases\n",
    "assert(remove('an', 'banana') ==  'bana')\n",
    "assert(remove('cyc', 'bicycle') == 'bile')\n",
    "assert(remove('iss', 'Mississippi') == 'Missippi')\n",
    "assert(remove('egg', 'bicycle') == 'bicycle')\n",
    "print('Tests passed')"
   ]
  },
  {
   "cell_type": "code",
   "execution_count": null,
   "metadata": {},
   "outputs": [],
   "source": [
    "def encrypt(message, cipher):\n",
    "    alphabet = \"abcdefghijklmnopqrstuvwxyz\"\n",
    "    encrypted = ''\n",
    "    for char in message:\n",
    "        if char == ' ':\n",
    "            encrypted = encrypted + ' '\n",
    "        else:\n",
    "            pos = alphabet.index(char)\n",
    "            encrypted = encrypted + cipher[pos]\n",
    "    return encrypted\n",
    "\n",
    "def decrypt(encrypted, cipher):\n",
    "    alphabet = \"abcdefghijklmnopqrstuvwxyz\"\n",
    "    decrypted = ''\n",
    "    for char in encrypted:\n",
    "        if char == ' ':\n",
    "            decrypted = decrypted + ' '\n",
    "        else:\n",
    "            pos = cipher.index(char)\n",
    "            decrypted = decrypted + alphabet[pos]\n",
    "    return decrypted\n",
    "\n",
    "\n",
    "cipher = \"badcfehgjilknmporqtsvuxwzy\"\n",
    "\n",
    "encrypted = encrypt('hello world', cipher)\n",
    "print encrypted\n",
    "\n",
    "decrypted = decrypt(encrypted, cipher)\n",
    "print(decrypted)\n"
   ]
  },
  {
   "cell_type": "code",
   "execution_count": null,
   "metadata": {},
   "outputs": [],
   "source": []
  }
 ],
 "metadata": {
  "kernelspec": {
   "display_name": "Python 3",
   "language": "python",
   "name": "python3"
  },
  "language_info": {
   "codemirror_mode": {
    "name": "ipython",
    "version": 3
   },
   "file_extension": ".py",
   "mimetype": "text/x-python",
   "name": "python",
   "nbconvert_exporter": "python",
   "pygments_lexer": "ipython3",
   "version": "3.6.9"
  }
 },
 "nbformat": 4,
 "nbformat_minor": 2
}
