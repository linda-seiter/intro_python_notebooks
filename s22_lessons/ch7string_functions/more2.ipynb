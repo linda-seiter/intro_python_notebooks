{
 "cells": [
  {
   "cell_type": "code",
   "execution_count": 12,
   "metadata": {},
   "outputs": [
    {
     "name": "stdout",
     "output_type": "stream",
     "text": [
      "     Freddy     \n",
      "Freddy\n"
     ]
    }
   ],
   "source": [
    "name = '     Freddy     '\n",
    "name_2 = name.strip() #removes leading and ending spaces\n",
    "print(name)\n",
    "print(name_2)"
   ]
  },
  {
   "cell_type": "code",
   "execution_count": 2,
   "metadata": {},
   "outputs": [
    {
     "name": "stdout",
     "output_type": "stream",
     "text": [
      "3\n",
      "0\n",
      "0\n"
     ]
    }
   ],
   "source": [
    "name = 'freddy Nordstrom'\n",
    "print(name.count('d'))\n",
    "print(name.count('F'))  #case sensitive\n",
    "print(name.count('z'))"
   ]
  },
  {
   "cell_type": "code",
   "execution_count": 14,
   "metadata": {},
   "outputs": [
    {
     "name": "stdout",
     "output_type": "stream",
     "text": [
      "Fred Smith\n"
     ]
    }
   ],
   "source": [
    "name = '    Smith   ,     Fred    '\n",
    "index_comma = name.find(',')\n",
    "last = name[0:index_comma].strip()\n",
    "first = name[index_comma+1:].strip()\n",
    "print(first, last)"
   ]
  },
  {
   "cell_type": "code",
   "execution_count": 11,
   "metadata": {},
   "outputs": [
    {
     "name": "stdout",
     "output_type": "stream",
     "text": [
      "tests passed\n"
     ]
    }
   ],
   "source": [
    "def initials(str):\n",
    "    index_space = str.find(' ')\n",
    "    if (index_space != -1):\n",
    "        first_name = str[0:index_space].strip()\n",
    "        last_name = str[index_space+1:].strip()\n",
    "        #need at least one character before and after space\n",
    "        if len(first_name) > 0 and len(last_name) > 0:\n",
    "            first_init = first_name[0]\n",
    "            second_init = last_name[0]\n",
    "            return first_init + second_init\n",
    "        else:\n",
    "            return 'invalid'\n",
    "    else:\n",
    "        return 'invalid'\n",
    "    \n",
    "assert(initials('fred smith') == 'fs')\n",
    "assert(initials('sue chan') == 'sc')\n",
    "assert(initials('superman') == 'invalid')\n",
    "assert(initials('     superman'))\n",
    "assert(initials('superman     '))\n",
    "print('tests passed')"
   ]
  }
 ],
 "metadata": {
  "kernelspec": {
   "display_name": "Python 3",
   "language": "python",
   "name": "python3"
  },
  "language_info": {
   "codemirror_mode": {
    "name": "ipython",
    "version": 3
   },
   "file_extension": ".py",
   "mimetype": "text/x-python",
   "name": "python",
   "nbconvert_exporter": "python",
   "pygments_lexer": "ipython3",
   "version": "3.6.9"
  }
 },
 "nbformat": 4,
 "nbformat_minor": 2
}
