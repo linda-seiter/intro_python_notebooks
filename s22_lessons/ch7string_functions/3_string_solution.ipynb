{
 "cells": [
  {
   "cell_type": "code",
   "execution_count": null,
   "metadata": {},
   "outputs": [],
   "source": [
    "name = 'Fred W Smith'\n",
    "\n",
    "#slice to get substring\n",
    "\n",
    "first_name = name[0:4]\n",
    "print(first_name)\n",
    "\n",
    "last_name = name[7:]\n",
    "print(last_name)\n",
    "\n",
    "middle_initial = name[5]\n",
    "print(middle_initial)"
   ]
  },
  {
   "cell_type": "code",
   "execution_count": null,
   "metadata": {},
   "outputs": [],
   "source": [
    "#len function returns string length\n",
    "\n",
    "print(len(name))"
   ]
  },
  {
   "cell_type": "code",
   "execution_count": null,
   "metadata": {},
   "outputs": [],
   "source": [
    "#get last character\n",
    "last_char = name[len(name)-1]\n",
    "print(last_char)"
   ]
  },
  {
   "cell_type": "code",
   "execution_count": null,
   "metadata": {},
   "outputs": [],
   "source": [
    "#we can print the function result, \n",
    "#but for testing it is useful to use assertions to ensure expected result is returned\n",
    "\n",
    "assert( 7 == 7)  #expression in parameter should be a true statement"
   ]
  },
  {
   "cell_type": "code",
   "execution_count": null,
   "metadata": {},
   "outputs": [],
   "source": [
    "assert( 7 == 8)  #this will fail since expression 7==8 is false\n"
   ]
  },
  {
   "cell_type": "code",
   "execution_count": null,
   "metadata": {},
   "outputs": [],
   "source": [
    "\n",
    "def double_it(num):\n",
    "    return num * 2\n",
    "\n",
    "assert(double_it(4) == 8)\n",
    "assert(double_it(-4) == -8)\n",
    "assert(double_it(0) == 0)\n",
    "print('double_it tests passed')\n"
   ]
  },
  {
   "cell_type": "code",
   "execution_count": null,
   "metadata": {},
   "outputs": [],
   "source": [
    "\n",
    "def in_order(a, b, c):\n",
    "    return (a < b and b < c ) or (a > b and b > c)\n",
    "\n",
    "assert(in_order ( 5, 7, 12) == True)\n",
    "assert(in_order ( 4, 3, 0) == True)\n",
    "assert(in_order ( 4, 4, 0) == False)\n",
    "assert(in_order ( 5, 8, 2) == False)\n",
    "print('in_order tests passed')\n"
   ]
  },
  {
   "cell_type": "code",
   "execution_count": null,
   "metadata": {},
   "outputs": [],
   "source": [
    "def start_end_same(str):\n",
    "    first_char = str[0:]\n",
    "    last_char = str[len(str)-1]\n",
    "    return first_char == last_char\n",
    "\n",
    "#Testing start_end_same\n",
    "\n",
    "start_end_same('hello')  #should return false\n",
    "start_end_same('ahha')  #should return true"
   ]
  },
  {
   "cell_type": "code",
   "execution_count": null,
   "metadata": {},
   "outputs": [],
   "source": [
    "def start_end_same(str):\n",
    "    first_char = str[0]   #accidentally put 0:\n",
    "    last_char = str[len(str)-1]\n",
    "    return first_char == last_char\n",
    "\n",
    "#Testing start_end_same\n",
    "\n",
    "assert(start_end_same('hello') == False)  #should return false\n",
    "assert(start_end_same('ahha') == True)  #should return true\n",
    "assert(start_end_same('a') == True)  #should return true\n",
    "print('start_end_same tests passed')"
   ]
  },
  {
   "cell_type": "code",
   "execution_count": null,
   "metadata": {},
   "outputs": [],
   "source": [
    "name = 'FreDDy'\n",
    "print ( name.lower() )\n",
    "print ( name.upper() )\n"
   ]
  },
  {
   "cell_type": "code",
   "execution_count": null,
   "metadata": {},
   "outputs": [],
   "source": [
    "name1 = 'Fred'\n",
    "name2 = 'FRED'\n",
    "\n",
    "print(name1 == name2)\n",
    "\n",
    "print(name1.lower() == name2.lower())  #case insensitive comparision"
   ]
  },
  {
   "cell_type": "code",
   "execution_count": null,
   "metadata": {},
   "outputs": [],
   "source": [
    "#in operator can be used to test if string contains another string\n",
    "superhero_name = 'Batman the caped crusader'\n",
    "\n",
    "print ( 'Batman' in superhero_name)\n",
    "print ( 'robin' in superhero_name)\n",
    "\n",
    "print ( 'batman' in superhero_name)\n",
    "\n"
   ]
  },
  {
   "cell_type": "code",
   "execution_count": null,
   "metadata": {},
   "outputs": [],
   "source": [
    "def case_insensitive_in(str, substr):\n",
    "    return substr.lower() in str.lower()\n",
    "\n",
    "assert(case_insensitive_in('Batman the caped crusader', 'batman')  == True)\n",
    "assert(case_insensitive_in('Batman the caped crusader', 'BaTMan')  == True)\n",
    "assert(case_insensitive_in('Batman the caped crusader', 'Robin')  == False)\n",
    "\n",
    "print('case_insensitive_in tests passed')"
   ]
  },
  {
   "cell_type": "code",
   "execution_count": null,
   "metadata": {},
   "outputs": [],
   "source": [
    "#getting one character at a time.  For loop with in.\n",
    "name = 'Freddy'\n",
    "for c in name:\n",
    "    print(c)"
   ]
  },
  {
   "cell_type": "code",
   "execution_count": null,
   "metadata": {},
   "outputs": [],
   "source": [
    "def count_vowel(str):\n",
    "    count = 0\n",
    "    str = str.lower()\n",
    "    for c in str:\n",
    "        if c=='a' or c=='e' or c=='i' or c=='o' or c =='u':\n",
    "            count += 1\n",
    "    return count\n",
    "\n",
    "\n",
    "assert(count_vowel('hello') == 2)  \n",
    "assert(count_vowel('maybe') == 2)  \n",
    "assert(count_vowel('DID This WOrk?') == 3)\n",
    "\n",
    "print('count_vowel tests passed')"
   ]
  },
  {
   "cell_type": "code",
   "execution_count": null,
   "metadata": {},
   "outputs": [],
   "source": [
    "def count_vowelV2(str):\n",
    "    count = 0\n",
    "    str = str.lower()\n",
    "    vowels = 'aeiou'\n",
    "    for c in str:\n",
    "        if c in vowels:\n",
    "            count += 1\n",
    "    return count\n",
    "\n",
    "\n",
    "assert(count_vowelV2('hello') == 2)  \n",
    "assert(count_vowelV2('maybe') == 2)  \n",
    "assert(count_vowelV2('DID This WOrk?') == 3)\n",
    "\n",
    "print('count_vowelV2 tests passed')"
   ]
  },
  {
   "cell_type": "code",
   "execution_count": null,
   "metadata": {},
   "outputs": [],
   "source": [
    "#find \n",
    "\n",
    "str = 'This is a test'\n",
    "print( str.find('test') )  #test starts at index 10\n",
    "\n",
    "print( str.find('blah') ) #-1 since blah is not in the string\n",
    "\n",
    "print( str.find('is') )  #first occurrence of is starts at index 2\n",
    "\n",
    "\n",
    "print( str.rfind('is') )  #reverse find, last occurrence of is starts at index 5\n",
    "\n",
    "\n",
    "print( str.find(' ') )  #first space at 4\n",
    "\n",
    "print( str.find(' ', 8))  #look for space beginning in index 8.  skip first two spaces\n",
    "\n",
    "index_a = str.find('a')\n",
    "print( str.find('t', index_a))  #look for t after a\n",
    "\n",
    "\n",
    "str='Name:fred;Age:20;Major:Business'\n",
    "major_tag='Major:'\n",
    "majorindex=str.find(major_tag)\n",
    "major=str[majorindex+len(major_tag):]\n",
    "print(major)\n",
    "\n",
    "age_tag='Age:'\n",
    "ageindex=str.find(age_tag)\n",
    "semicolon_index = str.find(';',ageindex)\n",
    "age=str[ageindex+len(age_tag):semicolon_index]\n",
    "print(age)"
   ]
  },
  {
   "cell_type": "code",
   "execution_count": null,
   "metadata": {},
   "outputs": [],
   "source": [
    "def extract_age(str):\n",
    "    str = str.lower()\n",
    "    age_tag='age:'\n",
    "    ageindex=str.find(age_tag)   \n",
    "    if ageindex == -1:\n",
    "        return 0\n",
    "    semicolon_index = str.find(';',ageindex)\n",
    "    if semicolon_index == -1:\n",
    "        return 0\n",
    "    age=str[ageindex+len(age_tag):semicolon_index]\n",
    "    return int(age)\n",
    "\n",
    "assert(extract_age('Name:fred;Age:20;Major:Business') == 20)\n",
    "assert(extract_age('Age:100;') == 100)\n",
    "assert(extract_age('Name:fred') == 0)\n",
    "assert(extract_age('Name:fred;Age:20;Major:Business') == 20)\n",
    "assert(extract_age('name:fred;age:20;major:Business') == 20)\n"
   ]
  },
  {
   "cell_type": "code",
   "execution_count": 1,
   "metadata": {},
   "outputs": [
    {
     "name": "stdout",
     "output_type": "stream",
     "text": [
      "True\n",
      "False\n",
      "True\n",
      "True\n",
      "6 is a digit? True\n",
      "7 is a digit? True\n",
      "a is a digit? False\n",
      "abc\n",
      "True\n",
      "True\n",
      "False\n",
      "False\n",
      "ABC9\n",
      "False\n",
      "False\n",
      "True\n",
      "False\n",
      "A\n",
      "True\n",
      "False\n",
      "True\n",
      "False\n",
      "123\n",
      "False\n",
      "False\n",
      "False\n",
      "True\n"
     ]
    }
   ],
   "source": [
    "str = '123'\n",
    "print(str.isdigit())\n",
    "str = '67a'\n",
    "print(str.isdigit())\n",
    "print(str[0].isdigit())\n",
    "firsttwochars = str[0:2]\n",
    "print(firsttwochars.isdigit())\n",
    "\n",
    "for c in str:\n",
    "    print('{} is a digit? {}'.format(c,c.isdigit()))\n",
    "\n",
    "\n",
    "str1 = 'abc'\n",
    "print(str1)\n",
    "print(str1.isalpha())\n",
    "print(str1.islower())\n",
    "print(str1.isupper())\n",
    "print(str1.isdigit())\n",
    "\n",
    "str2 = 'ABC9'\n",
    "print(str2)\n",
    "print(str2.isalpha())\n",
    "print(str2.islower())\n",
    "print(str2.isupper())\n",
    "print(str2.isdigit())\n",
    "\n",
    "c = str2[0]\n",
    "print(c)\n",
    "print(c.isalpha())\n",
    "print(c.islower())\n",
    "print(c.isupper())\n",
    "print(c.isdigit())\n",
    "\n",
    "str3 = '123'\n",
    "print(str3)\n",
    "print(str3.isalpha())\n",
    "print(str3.islower())\n",
    "print(str3.isupper())\n",
    "print(str3.isdigit())\n"
   ]
  },
  {
   "cell_type": "code",
   "execution_count": 3,
   "metadata": {},
   "outputs": [
    {
     "name": "stdout",
     "output_type": "stream",
     "text": [
      "10045\n",
      "145\n"
     ]
    }
   ],
   "source": [
    "#+ operator (addition vs string concatenation)\n",
    "\n",
    "str1 = '100'\n",
    "str2 = '45'\n",
    "print(str1+str2)   #string concatenation\n",
    "\n",
    "print(int(str1) + int(str2))  #addition\n",
    "\n"
   ]
  },
  {
   "cell_type": "code",
   "execution_count": 3,
   "metadata": {},
   "outputs": [
    {
     "name": "stdout",
     "output_type": "stream",
     "text": [
      "tests passed\n"
     ]
    }
   ],
   "source": [
    "#make case insensitive\n",
    "def count_letter(str, letter):\n",
    "    str = str.lower()\n",
    "    letter = letter.lower()\n",
    "    count = 0\n",
    "    for c in str:\n",
    "        if c == letter:\n",
    "            count+=1\n",
    "    return count\n",
    "\n",
    "assert(count_letter('hello','L') == 2)\n",
    "print('tests passed')"
   ]
  },
  {
   "cell_type": "code",
   "execution_count": 4,
   "metadata": {},
   "outputs": [
    {
     "name": "stdout",
     "output_type": "stream",
     "text": [
      "tests passed\n"
     ]
    }
   ],
   "source": [
    "#make case insensitive, use existing count function\n",
    "def count_letter(str, letter):\n",
    "    str = str.lower()\n",
    "    letter = letter.lower()\n",
    "    return str.count(letter)\n",
    "\n",
    "assert(count_letter('hello','L') == 2)\n",
    "print('tests passed')"
   ]
  },
  {
   "cell_type": "code",
   "execution_count": 6,
   "metadata": {},
   "outputs": [
    {
     "name": "stdout",
     "output_type": "stream",
     "text": [
      "tests passed\n"
     ]
    }
   ],
   "source": [
    "#make case insensitive, use existing count function\n",
    "def no_b(str):\n",
    "    return str.lower().count('b') == 0\n",
    "\n",
    "assert(no_b('hello') == True)\n",
    "assert(no_b('GOODBYE') == False)\n",
    "print('tests passed')"
   ]
  },
  {
   "cell_type": "code",
   "execution_count": 7,
   "metadata": {},
   "outputs": [
    {
     "name": "stdout",
     "output_type": "stream",
     "text": [
      "tests passed\n"
     ]
    }
   ],
   "source": [
    "def contains_digit(str):\n",
    "    for c in str:\n",
    "        if c.isdigit():\n",
    "            return True\n",
    "    return False\n",
    "\n",
    "assert(contains_digit('abc123') == True)\n",
    "assert(contains_digit('GOODBYE') == False)\n",
    "print('tests passed')"
   ]
  },
  {
   "cell_type": "code",
   "execution_count": 7,
   "metadata": {},
   "outputs": [
    {
     "name": "stdout",
     "output_type": "stream",
     "text": [
      "tests passed\n"
     ]
    }
   ],
   "source": [
    "def no_digit(str):\n",
    "    for c in str:\n",
    "        if c.isdigit():\n",
    "            return False\n",
    "    return True\n",
    "\n",
    "assert(contains_digit('abc123') == True)\n",
    "assert(contains_digit('GOODBYE') == False)\n",
    "print('tests passed')"
   ]
  },
  {
   "cell_type": "code",
   "execution_count": null,
   "metadata": {},
   "outputs": [],
   "source": []
  }
 ],
 "metadata": {
  "kernelspec": {
   "display_name": "Python 3",
   "language": "python",
   "name": "python3"
  },
  "language_info": {
   "codemirror_mode": {
    "name": "ipython",
    "version": 3
   },
   "file_extension": ".py",
   "mimetype": "text/x-python",
   "name": "python",
   "nbconvert_exporter": "python",
   "pygments_lexer": "ipython3",
   "version": "3.6.9"
  }
 },
 "nbformat": 4,
 "nbformat_minor": 2
}
