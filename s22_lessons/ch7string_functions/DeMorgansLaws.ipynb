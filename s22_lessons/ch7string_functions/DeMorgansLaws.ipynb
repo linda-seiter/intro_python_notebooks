{
 "cells": [
  {
   "cell_type": "code",
   "execution_count": 18,
   "metadata": {},
   "outputs": [],
   "source": [
    "import ipywidgets as widgets\n",
    "from IPython.display import display\n",
    "from ipywidgets import interact, interactive, fixed, interact_manual\n"
   ]
  },
  {
   "cell_type": "code",
   "execution_count": 27,
   "metadata": {},
   "outputs": [
    {
     "data": {
      "application/vnd.jupyter.widget-view+json": {
       "model_id": "8b8274edf6d9475fa5722d7e9f76d0b4",
       "version_major": 2,
       "version_minor": 0
      },
      "text/plain": [
       "interactive(children=(RadioButtons(description='favorite_dessert', options=('cake', 'pie', 'cookies'), value='…"
      ]
     },
     "metadata": {},
     "output_type": "display_data"
    },
    {
     "data": {
      "text/plain": [
       "<function __main__.survey>"
      ]
     },
     "execution_count": 27,
     "metadata": {},
     "output_type": "execute_result"
    }
   ],
   "source": [
    "def survey(favorite_dessert, daily_selfies, owns_pet):\n",
    "     \n",
    "    #equality\n",
    "    print('favorite_dessert == cake',favorite_dessert == 'cake')\n",
    "    #negate the expression\n",
    "    print('not favorite_dessert == cake', not (favorite_dessert == 'cake')) \n",
    "    #simplify the negation\n",
    "    print( 'favorite_dessert != cake',favorite_dessert != 'cake')  \n",
    "    print()\n",
    "    \n",
    "    #relational operator <\n",
    "    print('daily_selfies < 10', daily_selfies < 10)\n",
    "    #negate the expression\n",
    "    print('not daily_selfies < 10', not (daily_selfies < 10))  \n",
    "    #simplify the negation\n",
    "    print('daily_selfies >= 10', daily_selfies >= 10)  \n",
    "    print()\n",
    "    \n",
    "    #boolean value\n",
    "    print('owns_pet', owns_pet)\n",
    "    #negate the expression\n",
    "    print('not owns_pet', not owns_pet) \n",
    "    print()\n",
    "\n",
    "interact_manual(survey,\n",
    "                    favorite_dessert = widgets.RadioButtons(options=['cake', 'pie','cookies']),\n",
    "                    daily_selfies = widgets.IntSlider(),\n",
    "                    owns_pet = widgets.Checkbox()\n",
    "                   )\n"
   ]
  },
  {
   "cell_type": "code",
   "execution_count": 29,
   "metadata": {},
   "outputs": [
    {
     "data": {
      "application/vnd.jupyter.widget-view+json": {
       "model_id": "",
       "version_major": 2,
       "version_minor": 0
      },
      "text/plain": [
       "interactive(children=(RadioButtons(description='favorite_dessert', options=('cake', 'pie', 'cookies'), value='…"
      ]
     },
     "metadata": {},
     "output_type": "display_data"
    },
    {
     "data": {
      "text/plain": [
       "<function __main__.survey_not_or>"
      ]
     },
     "execution_count": 29,
     "metadata": {},
     "output_type": "execute_result"
    }
   ],
   "source": [
    "'''\n",
    "not (A or B)   =   not A and not B \n",
    "'''\n",
    "\n",
    "def survey_not_or(favorite_dessert, daily_selfies, owns_pet):\n",
    "     \n",
    "    print('favorite_dessert == cake',favorite_dessert == 'cake')\n",
    "    print('daily_selfies < 10', daily_selfies < 10)\n",
    "    \n",
    "    #compound expression\n",
    "    print('favorite_dessert == cake or daily_selfies < 10',\n",
    "         favorite_dessert == 'cake' or daily_selfies < 10 )\n",
    "    \n",
    "    #negation\n",
    "    print('not (favorite_dessert == cake or daily_selfies < 10)',\n",
    "         not( favorite_dessert == 'cake' or daily_selfies < 10 ) )\n",
    "    \n",
    "    #Apply DeMorgan's law to simplify the negation\n",
    "    print('not favorite_dessert == cake and not daily_selfies < 10',\n",
    "          not favorite_dessert == 'cake' and not daily_selfies < 10  )\n",
    "    \n",
    "    #Simplify further\n",
    "    print('favorite_dessert != cake and daily_selfies >= 10',\n",
    "          favorite_dessert != 'cake' and daily_selfies >= 10  )\n",
    "    \n",
    "\n",
    "interact_manual(survey_not_or,\n",
    "                    favorite_dessert = widgets.RadioButtons(options=['cake', 'pie','cookies']),\n",
    "                    daily_selfies = widgets.IntSlider(),\n",
    "                    owns_pet = widgets.Checkbox()\n",
    "                   )\n",
    "\n",
    "\n",
    "\n"
   ]
  },
  {
   "cell_type": "code",
   "execution_count": 32,
   "metadata": {},
   "outputs": [
    {
     "data": {
      "application/vnd.jupyter.widget-view+json": {
       "model_id": "c41c04149db548eb877e3ddcb747d643",
       "version_major": 2,
       "version_minor": 0
      },
      "text/plain": [
       "interactive(children=(RadioButtons(description='favorite_dessert', options=('cake', 'pie', 'cookies'), value='…"
      ]
     },
     "metadata": {},
     "output_type": "display_data"
    },
    {
     "data": {
      "text/plain": [
       "<function __main__.survey_not_and>"
      ]
     },
     "execution_count": 32,
     "metadata": {},
     "output_type": "execute_result"
    }
   ],
   "source": [
    "'''\n",
    "not (A and B)   =   not A or not B \n",
    "'''\n",
    "\n",
    "def survey_not_and(favorite_dessert, daily_selfies, owns_pet):\n",
    "     \n",
    "    print('owns_pet', owns_pet)\n",
    "    print('daily_selfies >= 15', daily_selfies >= 15)\n",
    "    \n",
    "    #compound expression\n",
    "    print('owns_pet  and  daily_selfies >= 10',\n",
    "         owns_pet  and  daily_selfies >= 10 )\n",
    "    \n",
    "    #negation\n",
    "    print('not ( owns_pet  and  daily_selfies >= 10 )',\n",
    "         not(owns_pet  and  daily_selfies >= 10 ))\n",
    "    \n",
    "    #Apply DeMorgan's law to simplify the negation\n",
    "    #negation\n",
    "    print('not owns_pet  or  not daily_selfies >= 10 ',\n",
    "         not owns_pet  or  not daily_selfies >= 10)\n",
    "    \n",
    "    \n",
    "    #Simplify further\n",
    "    print('not owns_pet  or daily_selfies < 10 ',\n",
    "           not owns_pet  or  daily_selfies < 10)\n",
    "    \n",
    "\n",
    "interact_manual(survey_not_and,\n",
    "                    favorite_dessert = widgets.RadioButtons(options=['cake', 'pie','cookies']),\n",
    "                    daily_selfies = widgets.IntSlider(),\n",
    "                    owns_pet = widgets.Checkbox()\n",
    "                   )"
   ]
  },
  {
   "cell_type": "code",
   "execution_count": null,
   "metadata": {},
   "outputs": [],
   "source": [
    "\n",
    "#Simplify the expression using DeMorgan's Laws\n",
    "\n",
    "width = 20\n",
    "height = 30\n",
    "length = 15\n",
    "\n",
    "not (width < 25 or height == 30)\n",
    "\n"
   ]
  },
  {
   "cell_type": "code",
   "execution_count": null,
   "metadata": {},
   "outputs": [],
   "source": [
    "\n",
    "#Simplify the expression using DeMorgan's Laws\n",
    "\n",
    "width = 20\n",
    "height = 30\n",
    "length = 15\n",
    "\n",
    "not (height == 25 and length >= 15)\n",
    "\n",
    "\n",
    "\n"
   ]
  },
  {
   "cell_type": "code",
   "execution_count": null,
   "metadata": {},
   "outputs": [],
   "source": [
    "\n",
    "#Simplify the expression using DeMorgan's Laws\n",
    "\n",
    "width = 20\n",
    "height = 30\n",
    "length = 15\n",
    "\n",
    "not (height == 25 and length >= 15 or width < 22)\n",
    "\n",
    "\n",
    "\n"
   ]
  },
  {
   "cell_type": "code",
   "execution_count": null,
   "metadata": {},
   "outputs": [],
   "source": [
    "\n",
    "#Simplify the expression using DeMorgan's Laws\n",
    "\n",
    "is_raining = True\n",
    "temperature = 80\n",
    "is_windy = False\n",
    "\n",
    "not ( is_raining and temperature > 88)\n",
    "\n",
    "\n"
   ]
  },
  {
   "cell_type": "code",
   "execution_count": null,
   "metadata": {},
   "outputs": [],
   "source": [
    "\n",
    "#Simplify the expression using DeMorgan's Laws\n",
    "\n",
    "is_raining = True\n",
    "temperature = 80\n",
    "is_windy = False\n",
    "\n",
    "not ( is_windy == False and temperature != 88 or is_raining)\n",
    "\n",
    "\n"
   ]
  },
  {
   "cell_type": "code",
   "execution_count": null,
   "metadata": {},
   "outputs": [],
   "source": []
  }
 ],
 "metadata": {
  "kernelspec": {
   "display_name": "Python 3",
   "language": "python",
   "name": "python3"
  },
  "language_info": {
   "codemirror_mode": {
    "name": "ipython",
    "version": 3
   },
   "file_extension": ".py",
   "mimetype": "text/x-python",
   "name": "python",
   "nbconvert_exporter": "python",
   "pygments_lexer": "ipython3",
   "version": "3.6.9"
  }
 },
 "nbformat": 4,
 "nbformat_minor": 2
}
