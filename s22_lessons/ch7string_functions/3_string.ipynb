{
 "cells": [
  {
   "cell_type": "code",
   "execution_count": null,
   "metadata": {},
   "outputs": [],
   "source": [
    "name = 'Fred W Smith'\n",
    "\n",
    "#slice to get substring\n",
    "\n",
    "first_name = name[0:4]\n",
    "print(first_name)\n",
    "\n",
    "last_name = name[7:]\n",
    "print(last_name)\n",
    "\n",
    "middle_initial = name[5]\n",
    "print(middle_initial)"
   ]
  },
  {
   "cell_type": "code",
   "execution_count": null,
   "metadata": {},
   "outputs": [],
   "source": [
    "#len function returns string length\n",
    "\n",
    "print(len(name))"
   ]
  },
  {
   "cell_type": "code",
   "execution_count": null,
   "metadata": {},
   "outputs": [],
   "source": [
    "#get last character\n",
    "last_char = name[len(name)-1]\n",
    "print(last_char)"
   ]
  },
  {
   "cell_type": "code",
   "execution_count": null,
   "metadata": {},
   "outputs": [],
   "source": [
    "#we can print the function result, \n",
    "#but for testing it is useful to use assertions to ensure expected result is returned\n",
    "\n",
    "assert( 7 == 7)  #expression in parameter should be a true statement"
   ]
  },
  {
   "cell_type": "code",
   "execution_count": null,
   "metadata": {},
   "outputs": [],
   "source": [
    "#assert( 7 == 8)  #this will fail since expression 7==8 is false\n"
   ]
  },
  {
   "cell_type": "code",
   "execution_count": null,
   "metadata": {},
   "outputs": [],
   "source": [
    "\n",
    "def double_it(num):\n",
    "    return num * 2\n",
    "\n",
    "#Testing double_it\n",
    "assert(double_it(4) == 8)\n",
    "assert(double_it(-4) == -8)\n",
    "assert(double_it(0) == 0)\n",
    "print('double_it tests passed')\n"
   ]
  },
  {
   "cell_type": "code",
   "execution_count": null,
   "metadata": {},
   "outputs": [],
   "source": [
    "\n",
    "def in_order(a, b, c):\n",
    "    return (a < b and b < c ) or (a > b and b > c)\n",
    "\n",
    "#Add some tests\n",
    "\n",
    "\n",
    "print('in_order tests passed')\n"
   ]
  },
  {
   "cell_type": "code",
   "execution_count": null,
   "metadata": {},
   "outputs": [],
   "source": [
    "def start_end_same(str):\n",
    "    return str  #fix this\n",
    "\n",
    "#Add some tests\n",
    "\n",
    "print('start_end_same tests passed')"
   ]
  },
  {
   "cell_type": "code",
   "execution_count": null,
   "metadata": {},
   "outputs": [],
   "source": [
    "name = 'FreDDy'\n",
    "print ( name.lower() )\n",
    "print ( name.upper() )\n"
   ]
  },
  {
   "cell_type": "code",
   "execution_count": null,
   "metadata": {},
   "outputs": [],
   "source": [
    "name1 = 'Fred'\n",
    "name2 = 'FRED'\n",
    "\n",
    "print(name1 == name2)\n",
    "print(name1.lower() == name2.lower())  #case insensitive comparision"
   ]
  },
  {
   "cell_type": "code",
   "execution_count": null,
   "metadata": {},
   "outputs": [],
   "source": [
    "#in operator can be used to test if string contains another string\n",
    "superhero_name = 'Batman the caped crusader'\n",
    "\n",
    "print ( 'Batman' in superhero_name)\n",
    "print ( 'robin' in superhero_name)\n",
    "print ( 'batman' in superhero_name)"
   ]
  },
  {
   "cell_type": "code",
   "execution_count": null,
   "metadata": {},
   "outputs": [],
   "source": [
    "#define function case_insensitive_in(str, substr) that returns boolean if substr is a substring of str (case insensitive)\n",
    "\n",
    "\n",
    "\n",
    "# testing case_insensitive_in(str, substr):\n",
    "\n",
    "print('case_insensitive_in tests passed')"
   ]
  },
  {
   "cell_type": "code",
   "execution_count": null,
   "metadata": {},
   "outputs": [],
   "source": [
    "#getting one character at a time.  For loop with in.\n",
    "name = 'Freddy'\n",
    "for c in name:\n",
    "    print(c)"
   ]
  },
  {
   "cell_type": "code",
   "execution_count": null,
   "metadata": {},
   "outputs": [],
   "source": [
    "#define function count_vowel(str) that returns a count of number of vowels in str\n",
    "#Testing count_vowel\n",
    "print('count_vowel tests passed')"
   ]
  },
  {
   "cell_type": "code",
   "execution_count": null,
   "metadata": {},
   "outputs": [],
   "source": [
    "#find \n",
    "\n",
    "str = 'This is a test'\n",
    "print( str.find('test') )  #test starts at index 10\n",
    "\n",
    "print( str.find('blah') ) #-1 since blah is not in the string\n",
    "\n",
    "print( str.find('is') )  #first occurrence of is starts at index 2\n",
    "\n",
    "print( str.rfind('is') )  #reverse find, last occurrence of is starts at index 5\n",
    "\n",
    "print( str.find(' ') )  #first space at 4\n",
    "\n",
    "print( str.find(' ', 8))  #look for space beginning in index 8.  skip first two spaces\n",
    "\n",
    "index_a = str.find('a')\n",
    "print( str.find('t', index_a))  #look for t after a\n",
    "\n",
    "\n",
    "\n"
   ]
  },
  {
   "cell_type": "code",
   "execution_count": null,
   "metadata": {},
   "outputs": [],
   "source": [
    "\n",
    "\n",
    "#testing extract_age\n",
    "assert(extract_age('Name:fred;Age:20;Major:Business') == 20)\n",
    "assert(extract_age('Age:100;') == 100)\n",
    "assert(extract_age('Name:fred') == 0)\n",
    "assert(extract_age('Name:fred;Age:20;Major:Business') == 20)\n",
    "assert(extract_age('name:fred;age:20;major:Business') == 20)\n"
   ]
  },
  {
   "cell_type": "code",
   "execution_count": null,
   "metadata": {},
   "outputs": [],
   "source": []
  }
 ],
 "metadata": {
  "kernelspec": {
   "display_name": "Python 3",
   "language": "python",
   "name": "python3"
  },
  "language_info": {
   "codemirror_mode": {
    "name": "ipython",
    "version": 3
   },
   "file_extension": ".py",
   "mimetype": "text/x-python",
   "name": "python",
   "nbconvert_exporter": "python",
   "pygments_lexer": "ipython3",
   "version": "3.6.9"
  }
 },
 "nbformat": 4,
 "nbformat_minor": 2
}
