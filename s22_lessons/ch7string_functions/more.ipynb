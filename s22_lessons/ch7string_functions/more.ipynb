{
 "cells": [
  {
   "cell_type": "code",
   "execution_count": 1,
   "metadata": {},
   "outputs": [
    {
     "name": "stdout",
     "output_type": "stream",
     "text": [
      "h\n",
      "e\n",
      "l\n",
      "l\n",
      "o\n",
      " \n",
      "t\n",
      "h\n",
      "e\n",
      "r\n",
      "e\n"
     ]
    }
   ],
   "source": [
    "str = 'hello there'\n",
    "\n",
    "for c in str:\n",
    "    print(c)"
   ]
  },
  {
   "cell_type": "code",
   "execution_count": 2,
   "metadata": {},
   "outputs": [
    {
     "name": "stdout",
     "output_type": "stream",
     "text": [
      "3\n"
     ]
    }
   ],
   "source": [
    "str = 'hello there'\n",
    "\n",
    "count = 0\n",
    "for c in str:\n",
    "    if c == 'e':\n",
    "        count += 1\n",
    "\n",
    "print(count)"
   ]
  },
  {
   "cell_type": "code",
   "execution_count": 4,
   "metadata": {},
   "outputs": [],
   "source": [
    "def count_letter(str, letter):\n",
    "    count = 0\n",
    "    for c in str:\n",
    "        if c == letter:\n",
    "            count += 1\n",
    "    return count\n",
    "\n",
    "assert(count_letter('hello there', 'e') == 3)\n",
    "assert(count_letter('hello there', 'z') == 0)\n",
    "assert(count_letter('', 'e') == 0)\n",
    "\n"
   ]
  },
  {
   "cell_type": "code",
   "execution_count": 5,
   "metadata": {},
   "outputs": [
    {
     "name": "stdout",
     "output_type": "stream",
     "text": [
      "found e\n",
      "found e\n",
      "found e\n"
     ]
    }
   ],
   "source": [
    "str = 'hello there'\n",
    "\n",
    "\n",
    "for c in str:\n",
    "    if c == 'e':\n",
    "        print('found e')\n",
    "        \n"
   ]
  },
  {
   "cell_type": "code",
   "execution_count": 7,
   "metadata": {},
   "outputs": [],
   "source": [
    "def contains_letter(str, letter): \n",
    "    for c in str:\n",
    "        if c == letter:\n",
    "            return True\n",
    "    #after for loop, not found\n",
    "    return False\n",
    "\n",
    "assert(contains_letter('hello there', 'e') == True)\n",
    "assert(contains_letter('hello there', 'z') == False)\n",
    "        \n"
   ]
  },
  {
   "cell_type": "code",
   "execution_count": 12,
   "metadata": {},
   "outputs": [
    {
     "name": "stdout",
     "output_type": "stream",
     "text": [
      "found digit\n",
      "found digit\n",
      "found digit\n"
     ]
    }
   ],
   "source": [
    "str = 'a1b2cd3!!!'\n",
    "for c in str:\n",
    "    if c.isdigit():\n",
    "        print('found digit')"
   ]
  },
  {
   "cell_type": "code",
   "execution_count": 13,
   "metadata": {},
   "outputs": [],
   "source": [
    "def no_digits(str):\n",
    "    for c in str:\n",
    "        if c.isdigit():\n",
    "            return False\n",
    "    return True\n",
    "\n",
    "assert(no_digits('a1bc2') == False)\n",
    "assert(no_digits('ha!') == True)\n"
   ]
  },
  {
   "cell_type": "code",
   "execution_count": 14,
   "metadata": {},
   "outputs": [],
   "source": [
    "def contains_vowel(str):\n",
    "    vowels = 'aeiou'\n",
    "    for c in str:\n",
    "        if c in vowels:\n",
    "            return True\n",
    "    return False\n",
    "\n",
    "assert(contains_vowel('hello') == True)\n",
    "assert(contains_vowel('hmmmmm') == False)\n"
   ]
  }
 ],
 "metadata": {
  "kernelspec": {
   "display_name": "Python 3",
   "language": "python",
   "name": "python3"
  },
  "language_info": {
   "codemirror_mode": {
    "name": "ipython",
    "version": 3
   },
   "file_extension": ".py",
   "mimetype": "text/x-python",
   "name": "python",
   "nbconvert_exporter": "python",
   "pygments_lexer": "ipython3",
   "version": "3.6.9"
  }
 },
 "nbformat": 4,
 "nbformat_minor": 2
}
