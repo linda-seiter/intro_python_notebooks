{
 "cells": [
  {
   "cell_type": "markdown",
   "metadata": {},
   "source": [
    "Zybooks PA 3.1.1\n",
    "![string indexing](pa311.jpg \"String Indexing\")"
   ]
  },
  {
   "cell_type": "markdown",
   "metadata": {},
   "source": [
    "Every character in a string has an index, or position, starting at 0 from the leftmost character. You can access a character at a specific index by appending brackets containing the index:"
   ]
  },
  {
   "cell_type": "code",
   "execution_count": 3,
   "metadata": {},
   "outputs": [
    {
     "name": "stdout",
     "output_type": "stream",
     "text": [
      "fred\n",
      "4\n",
      "f\n",
      "r\n"
     ]
    }
   ],
   "source": [
    "name = 'fred'\n",
    "print(name)\n",
    "print(len(name))\n",
    "print('1st character', name[0])  #first character in string\n",
    "print('2nd character', name[1])  #second character in string\n"
   ]
  },
  {
   "cell_type": "code",
   "execution_count": 4,
   "metadata": {},
   "outputs": [
    {
     "name": "stdout",
     "output_type": "stream",
     "text": [
      "what is your name?herbert\n",
      "herbert\n",
      "7\n",
      "1st character h\n",
      "2nd character e\n",
      "last character t\n"
     ]
    }
   ],
   "source": [
    "name = input('what is your name?')\n",
    "print(name)\n",
    "print(len(name))\n",
    "print('1st character', name[0])  #first character in string\n",
    "print('2nd character', name[1])  #second character in string\n",
    "print('last character', name[len(name) - 1])  #string length - 1"
   ]
  },
  {
   "cell_type": "markdown",
   "metadata": {},
   "source": [
    "Explore this code using the Python Visualizer https://pythontutor.com/visualize.html#mode=edit "
   ]
  },
  {
   "cell_type": "code",
   "execution_count": 2,
   "metadata": {},
   "outputs": [
    {
     "name": "stdout",
     "output_type": "stream",
     "text": [
      "185 characters is much too long of a name!\n",
      "26 characters is better...\n",
      "3 characters is short enough.\n"
     ]
    }
   ],
   "source": [
    "#Zybooks Figure 3.3.1 \n",
    "\n",
    "george_v = \"His Majesty George V, by the Grace of God, \" \\\n",
    "           \"of the United Kingdom of Great Britain and \" \\\n",
    "           \"Ireland and of the British Dominions beyond \" \\\n",
    "           \"the Seas, King, Defender of the Faith, Emperor of India\"\n",
    "gandhi = 'Mohandas Karamchand Gandhi'\n",
    "john_f_kennedy = 'JFK'\n",
    "\n",
    "print(len(george_v), 'characters is much too long of a name!')\n",
    "print(len(gandhi), 'characters is better...')\n",
    "print(len(john_f_kennedy), 'characters is short enough.')"
   ]
  },
  {
   "cell_type": "markdown",
   "metadata": {},
   "source": [
    "Strings are immutable.  You can't use indexing to character a character."
   ]
  },
  {
   "cell_type": "code",
   "execution_count": 7,
   "metadata": {},
   "outputs": [
    {
     "name": "stdout",
     "output_type": "stream",
     "text": [
      "Alphabet: abcdefghijklmnopqrstuvwxyz\n"
     ]
    }
   ],
   "source": [
    "# Figure 3.1.3\n",
    "\n",
    "alphabet = 'abcdefghijklmnopqrstuvwxyz'\n",
    "\n",
    "# Change to upper case\n",
    "#alphabet[0] = 'A'  # Invalid: Cannot change character\n",
    "\n",
    "print('Alphabet:', alphabet)"
   ]
  },
  {
   "cell_type": "markdown",
   "metadata": {},
   "source": [
    "String concatenation"
   ]
  },
  {
   "cell_type": "code",
   "execution_count": 22,
   "metadata": {},
   "outputs": [
    {
     "name": "stdout",
     "output_type": "stream",
     "text": [
      "abc 123\n",
      "abc123\n"
     ]
    }
   ],
   "source": [
    "print('abc','123')  #notice space between strings\n",
    "print('abc'+'123')  #+ operator does not add space "
   ]
  },
  {
   "cell_type": "code",
   "execution_count": 12,
   "metadata": {},
   "outputs": [
    {
     "name": "stdout",
     "output_type": "stream",
     "text": [
      "Easy as:abc123\n"
     ]
    }
   ],
   "source": [
    "# Figure 3.1.4.  Explore using visualizer\n",
    "\n",
    "\n",
    "string_1 = 'abc'\n",
    "string_2 = '123'\n",
    "concatenated_string = string_1 + string_2  #+ concatenates and creates new string\n",
    "print('Easy as:' + concatenated_string)  #you can use plus in print function, notice space not added"
   ]
  },
  {
   "cell_type": "code",
   "execution_count": 11,
   "metadata": {},
   "outputs": [
    {
     "name": "stdout",
     "output_type": "stream",
     "text": [
      "Easy as: abc123\n"
     ]
    }
   ],
   "source": [
    "# String concatenation using + vs ,\n",
    "\n",
    "string_1 = 'abc'\n",
    "string_2 = '123'\n",
    "concatenated_string = string_1 + string_2  #+ creates new \n",
    "print('Easy as:' , concatenated_string)  #ok to use comma in print, adds space between strings"
   ]
  },
  {
   "cell_type": "code",
   "execution_count": 13,
   "metadata": {},
   "outputs": [
    {
     "name": "stdout",
     "output_type": "stream",
     "text": [
      "Easy as ('abc', '123')\n"
     ]
    }
   ],
   "source": [
    "# DON'T USE comma for string concatenation outside of print statement.\n",
    "\n",
    "string_1 = 'abc'\n",
    "string_2 = '123'\n",
    "concatenated_string = string_1 , string_2 #creates tuple, does not create concatenated string\n",
    "print('Easy as' , concatenated_string)  #ok to use comma in print"
   ]
  },
  {
   "cell_type": "markdown",
   "metadata": {},
   "source": [
    "Review of string formatting.  Section 3.10\n",
    "\n",
    "{} replacement field"
   ]
  },
  {
   "cell_type": "code",
   "execution_count": 15,
   "metadata": {},
   "outputs": [
    {
     "name": "stdout",
     "output_type": "stream",
     "text": [
      "6 burritos cost $32\n"
     ]
    }
   ],
   "source": [
    "number = 6\n",
    "amount = 32\n",
    "\n",
    "print('{} burritos cost ${}'.format(   number   ,    amount   ))"
   ]
  },
  {
   "cell_type": "code",
   "execution_count": 17,
   "metadata": {},
   "outputs": [
    {
     "name": "stdout",
     "output_type": "stream",
     "text": [
      "Cardi's last name is B\n",
      "Cardi's last name is B\n",
      "B's first name is Cardi\n",
      "Cardi B ? More like Cardi Z\n"
     ]
    }
   ],
   "source": [
    "#Positional and named replacement\n",
    "\n",
    "first_name = 'Cardi'\n",
    "last_name = 'B'\n",
    "print(\"{}'s last name is {}\".format(first_name, last_name))\n",
    "print(\"{0}'s last name is {1}\".format(first_name, last_name))  #0 based indexing\n",
    "print(\"{1}'s first name is {0}\".format(first_name, last_name))\n",
    "print(\"{first} {last} ? More like {first} {other}\".format(first=first_name, last=last_name, other='Z'))"
   ]
  },
  {
   "cell_type": "code",
   "execution_count": 20,
   "metadata": {},
   "outputs": [
    {
     "name": "stdout",
     "output_type": "stream",
     "text": [
      "Three $1.50 tacos = $4.500000 total\n"
     ]
    }
   ],
   "source": [
    "#Format specification\n",
    "\n",
    "print('{} ${:.2f} tacos = ${:.6f} total'.format('Three', 1.50, 4.50))"
   ]
  },
  {
   "cell_type": "code",
   "execution_count": null,
   "metadata": {},
   "outputs": [],
   "source": []
  }
 ],
 "metadata": {
  "kernelspec": {
   "display_name": "Python 3",
   "language": "python",
   "name": "python3"
  },
  "language_info": {
   "codemirror_mode": {
    "name": "ipython",
    "version": 3
   },
   "file_extension": ".py",
   "mimetype": "text/x-python",
   "name": "python",
   "nbconvert_exporter": "python",
   "pygments_lexer": "ipython3",
   "version": "3.6.9"
  }
 },
 "nbformat": 4,
 "nbformat_minor": 2
}
