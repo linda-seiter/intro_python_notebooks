{
 "cells": [
  {
   "cell_type": "code",
   "execution_count": 1,
   "metadata": {},
   "outputs": [],
   "source": [
    "from ipycanvas import Canvas\n",
    "from ipywidgets import Image\n"
   ]
  },
  {
   "cell_type": "code",
   "execution_count": 30,
   "metadata": {},
   "outputs": [
    {
     "data": {
      "application/vnd.jupyter.widget-view+json": {
       "model_id": "c512dbf637a04ca69d17c24087a023c2",
       "version_major": 2,
       "version_minor": 0
      },
      "text/plain": [
       "Canvas(height=200, width=200)"
      ]
     },
     "metadata": {},
     "output_type": "display_data"
    }
   ],
   "source": [
    "canvas = Canvas(width=200, height=200)\n",
    "display(canvas)\n",
    "canvas.stroke_style = 'red'\n",
    "canvas.stroke_rect(0,0,200,200)  #framed rectangle\n",
    "canvas.fill_style = 'lightgreen'\n",
    "canvas.fill_rect(50,50,100,100) #filled rectangle\n",
    "canvas.stroke_style='black'\n",
    "canvas.stroke_rect(50,50,20,20)  #framed rectangle\n",
    "canvas.fill_style = 'blue'\n",
    "canvas.fill_circle(50,50,5)  #center x,y,radius\n",
    "canvas.stroke_style = 'pink'\n",
    "canvas.stroke_circle(150,150,50)  #center x,y,radius\n",
    "canvas.stroke_style = 'brown'\n",
    "canvas.stroke_line(0,200,100,100)  #startx,starty,endx,endy\n"
   ]
  },
  {
   "cell_type": "code",
   "execution_count": 31,
   "metadata": {},
   "outputs": [
    {
     "data": {
      "application/vnd.jupyter.widget-view+json": {
       "model_id": "0c978a6a502f4004bf8eddc5653fea10",
       "version_major": 2,
       "version_minor": 0
      },
      "text/plain": [
       "Canvas(height=200, width=200)"
      ]
     },
     "metadata": {},
     "output_type": "display_data"
    }
   ],
   "source": [
    "canvas = Canvas(width=200, height=200)\n",
    "display(canvas)\n",
    "canvas.stroke_style='black'\n",
    "canvas.stroke_rect(0,0,200,200)\n",
    "canvas.fill_style='blue'\n",
    "\n",
    "for x in range(0,200,10):\n",
    "    if(x % 20 == 0):\n",
    "        canvas.stroke_style='red'\n",
    "    else:\n",
    "        canvas.stroke_style='green'\n",
    "    canvas.stroke_line(x,0,x,200)\n",
    "\n",
    "\n"
   ]
  },
  {
   "cell_type": "code",
   "execution_count": 32,
   "metadata": {},
   "outputs": [
    {
     "data": {
      "application/vnd.jupyter.widget-view+json": {
       "model_id": "f2e92c5b41be415da4fe0a3b57fcd965",
       "version_major": 2,
       "version_minor": 0
      },
      "text/plain": [
       "Canvas(height=200, width=200)"
      ]
     },
     "metadata": {},
     "output_type": "display_data"
    }
   ],
   "source": [
    "canvas = Canvas(width=200, height=200)\n",
    "display(canvas)\n",
    "\n",
    "canvas.stroke_style='black'\n",
    "canvas.stroke_rect(0,0,200,200)\n",
    "canvas.fill_style='blue'\n",
    "\n",
    "for y in range(0,200,10):\n",
    "    if(y % 20 == 0):\n",
    "        canvas.stroke_style='red'\n",
    "    else:\n",
    "        canvas.stroke_style='green'\n",
    "    canvas.stroke_line(0,y,200,y)\n",
    "\n",
    "\n"
   ]
  },
  {
   "cell_type": "code",
   "execution_count": 33,
   "metadata": {},
   "outputs": [
    {
     "data": {
      "application/vnd.jupyter.widget-view+json": {
       "model_id": "8b98414dca094f31994d40fbebb44000",
       "version_major": 2,
       "version_minor": 0
      },
      "text/plain": [
       "Canvas(height=200, width=200)"
      ]
     },
     "metadata": {},
     "output_type": "display_data"
    }
   ],
   "source": [
    "canvas = Canvas(width=200, height=200)\n",
    "display(canvas)\n",
    "\n",
    "canvas.stroke_style='black'\n",
    "canvas.stroke_rect(0,0,200,200)\n",
    "canvas.fill_style='blue'\n",
    "\n",
    "for x in range(0,200,25):\n",
    "    for y in range(0,200,25):\n",
    "        #print('x={},y={}'.format(x,y))\n",
    "        canvas.fill_rect(x,y,5,5)"
   ]
  },
  {
   "cell_type": "code",
   "execution_count": 34,
   "metadata": {},
   "outputs": [
    {
     "data": {
      "application/vnd.jupyter.widget-view+json": {
       "model_id": "d3cd27e5be7348c6b496def0e193a03c",
       "version_major": 2,
       "version_minor": 0
      },
      "text/plain": [
       "Canvas()"
      ]
     },
     "metadata": {},
     "output_type": "display_data"
    }
   ],
   "source": [
    "def handle_mouse_move(x, y):\n",
    "    canvas.fill_circle(x,y,5)  #default fill is black\n",
    "    \n",
    "def handle_mouse_out(x, y):\n",
    "    canvas.clear()\n",
    "    \n",
    "def handle_mouse_down(x,y):\n",
    "    if x<canvas.width/2:\n",
    "        canvas.fill_style='red'\n",
    "    else:\n",
    "        canvas.fill_style='green'\n",
    "\n",
    "#main algorithm\n",
    "canvas = Canvas()\n",
    "display(canvas) \n",
    "canvas.on_mouse_move(handle_mouse_move)\n",
    "canvas.on_mouse_out(handle_mouse_out)\n",
    "canvas.on_mouse_down(handle_mouse_down)\n"
   ]
  },
  {
   "cell_type": "code",
   "execution_count": 35,
   "metadata": {},
   "outputs": [
    {
     "data": {
      "application/vnd.jupyter.widget-view+json": {
       "model_id": "89f024ed3b8a4164932ce94b118dd16d",
       "version_major": 2,
       "version_minor": 0
      },
      "text/plain": [
       "Canvas(height=200, width=200)"
      ]
     },
     "metadata": {},
     "output_type": "display_data"
    }
   ],
   "source": [
    "def handle_mouse_down(x, y):\n",
    "    if (x > canvas.width/2):\n",
    "        canvas.fill_style='red'\n",
    "    else:\n",
    "        canvas.fill_style='green'\n",
    "    canvas.fill_circle(x,y,5)  #default fill is black\n",
    "\n",
    "#main algorithm\n",
    "canvas = Canvas(width=200, height=200)\n",
    "display(canvas) \n",
    "canvas.stroke_line(canvas.width/2,0,canvas.width/2,canvas.height)\n",
    "canvas.on_mouse_down(handle_mouse_down)\n"
   ]
  },
  {
   "cell_type": "code",
   "execution_count": 36,
   "metadata": {},
   "outputs": [
    {
     "data": {
      "application/vnd.jupyter.widget-view+json": {
       "model_id": "846dba040f394994bb534db00e3b8334",
       "version_major": 2,
       "version_minor": 0
      },
      "text/plain": [
       "Canvas(height=200, width=200)"
      ]
     },
     "metadata": {},
     "output_type": "display_data"
    }
   ],
   "source": [
    "#animation\n",
    "\n",
    "canvas = Canvas(width=200, height=200)\n",
    "display(canvas)\n",
    "canvas.stroke_style = 'blue'  #set the pen color\n",
    "\n",
    "for i in range(canvas.width):\n",
    "    canvas.stroke_line(i, 0, i, 150)"
   ]
  },
  {
   "cell_type": "code",
   "execution_count": 38,
   "metadata": {},
   "outputs": [
    {
     "data": {
      "application/vnd.jupyter.widget-view+json": {
       "model_id": "97a06d907da6496185fcc55320deb902",
       "version_major": 2,
       "version_minor": 0
      },
      "text/plain": [
       "Canvas(height=200, width=200)"
      ]
     },
     "metadata": {},
     "output_type": "display_data"
    }
   ],
   "source": [
    "#animation\n",
    "from time import sleep\n",
    "\n",
    "canvas = Canvas(width=200, height=200)\n",
    "display(canvas)\n",
    "\n",
    "canvas.stroke_style = 'blue'  #set the pen color\n",
    "\n",
    "for i in range(canvas.width):\n",
    "    canvas.stroke_line(i, 0, i, 150)\n",
    "    sleep(0.01) #pause 1/100 second"
   ]
  },
  {
   "cell_type": "code",
   "execution_count": null,
   "metadata": {},
   "outputs": [],
   "source": [
    "#animation\n",
    "\n",
    "\n",
    "canvas = Canvas(width=200, height=200)\n",
    "display(canvas)\n",
    "canvas.stroke_style = 'blue'  #set the pen color\n",
    "\n",
    "for i in range(canvas.width):\n",
    "    canvas.clear()  #clear old animation step\n",
    "    canvas.stroke_line(i, 0, i, 150) #redraw the line\n",
    "    sleep(0.01) #pause 1/100 second"
   ]
  },
  {
   "cell_type": "code",
   "execution_count": null,
   "metadata": {},
   "outputs": [],
   "source": [
    "#animation\n",
    "canvas = Canvas(width=200, height=200)\n",
    "display(canvas)\n",
    "canvas.stroke_style = 'blue'  #set the pen color\n",
    "\n",
    "for i in range(canvas.width):\n",
    "    with hold_canvas(canvas):\n",
    "        canvas.clear()\n",
    "        canvas.stroke_line(i, 0, i, 150)   \n",
    "    sleep(0.01)"
   ]
  },
  {
   "cell_type": "code",
   "execution_count": null,
   "metadata": {},
   "outputs": [],
   "source": [
    "from ipywidgets import Image\n",
    "\n",
    "sprite1 = Image.from_file('dog.png')\n",
    "canvas = Canvas()\n",
    "canvas.draw_image(sprite1, 0, 0)\n",
    "canvas.fill_style='red'\n",
    "canvas.fill_circle(140,90,10)   #add a mouth\n",
    "display(canvas)\n",
    "\n"
   ]
  },
  {
   "cell_type": "code",
   "execution_count": null,
   "metadata": {},
   "outputs": [],
   "source": [
    "#animation\n",
    "\n",
    "from time import sleep\n",
    "\n",
    "from ipycanvas import  hold_canvas\n",
    "\n",
    "canvas = Canvas()\n",
    "display(canvas)\n",
    "\n",
    "steps_number = 200\n",
    "canvas.stroke_style = 'blue'  #set the pen color\n",
    "\n",
    "for i in range(steps_number):\n",
    "    with hold_canvas(canvas):\n",
    "        # Clear the old animation step\n",
    "        canvas.clear()\n",
    "        # redraw the line\n",
    "        canvas.stroke_line(i, 0, i, 150)\n",
    "        \n",
    "    sleep(0.01)"
   ]
  },
  {
   "cell_type": "code",
   "execution_count": 46,
   "metadata": {},
   "outputs": [
    {
     "data": {
      "application/vnd.jupyter.widget-view+json": {
       "model_id": "54dd7497c10a45089aa3fa61f482cf25",
       "version_major": 2,
       "version_minor": 0
      },
      "text/plain": [
       "Canvas(height=400, width=400)"
      ]
     },
     "metadata": {},
     "output_type": "display_data"
    }
   ],
   "source": [
    "from ipywidgets import Image\n",
    "from ipycanvas import Canvas\n",
    "import random\n",
    "\n",
    "bee = Image.from_file('bee.png')\n",
    "beetle = Image.from_file('beetle.png')\n",
    "canvas = Canvas(width=400, height=400)\n",
    "display(canvas)\n",
    "canvas.stroke_rect(0, 0, canvas.width, canvas.height)\n",
    "\n",
    "\n",
    "for i in range(4):\n",
    "    x = random.randint(0,canvas.width)\n",
    "    y = random.randint(0,canvas.height)\n",
    "    width = random.randint(20,60)\n",
    "    canvas.draw_image(bee, x, y,width)\n",
    "    \n",
    "canvas.draw_image(beetle, 50, 50) #image, x, y\n",
    "canvas.draw_image(beetle, 100, 100, 25) #image, x, y, width\n",
    "\n"
   ]
  },
  {
   "cell_type": "code",
   "execution_count": null,
   "metadata": {},
   "outputs": [],
   "source": []
  },
  {
   "cell_type": "code",
   "execution_count": null,
   "metadata": {},
   "outputs": [],
   "source": []
  },
  {
   "cell_type": "code",
   "execution_count": null,
   "metadata": {},
   "outputs": [],
   "source": []
  }
 ],
 "metadata": {
  "kernelspec": {
   "display_name": "Python 3",
   "language": "python",
   "name": "python3"
  },
  "language_info": {
   "codemirror_mode": {
    "name": "ipython",
    "version": 3
   },
   "file_extension": ".py",
   "mimetype": "text/x-python",
   "name": "python",
   "nbconvert_exporter": "python",
   "pygments_lexer": "ipython3",
   "version": "3.6.9"
  }
 },
 "nbformat": 4,
 "nbformat_minor": 2
}
