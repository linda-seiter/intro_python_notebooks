{
 "cells": [
  {
   "cell_type": "markdown",
   "metadata": {},
   "source": [
    "### Variables and Expressions"
   ]
  },
  {
   "cell_type": "code",
   "execution_count": null,
   "metadata": {},
   "outputs": [],
   "source": [
    "#PA 2.2.1\n",
    "#people on a bus\n",
    "#show in visualizer too\n",
    "\n",
    "num_people = 5\n",
    "print(num_people)\n",
    "\n",
    "num_people = num_people + 3\n",
    "print(num_people)\n",
    "\n",
    "num_people = num_people - 2\n",
    "print(num_people)\n",
    "\n",
    "num_people = num_people - 4\n",
    "print(num_people)\n",
    "\n",
    "num_people = num_people + 5\n",
    "print(num_people)\n",
    "\n",
    "num_people = num_people + 4\n",
    "print(num_people)"
   ]
  },
  {
   "cell_type": "markdown",
   "metadata": {},
   "source": [
    "### Formatting output"
   ]
  },
  {
   "cell_type": "code",
   "execution_count": null,
   "metadata": {},
   "outputs": [],
   "source": [
    "width = 7\n",
    "height = 9\n",
    "area = width * height\n",
    "print('width=',width,'height=',height,'area=',area)\n",
    "\n",
    "#use format function with placeholders {} in template string\n",
    "print('width={} height={} area={}'.format(width,height,area))\n",
    "print('Area of rectangle with width {} and height {} is {}'.format(width,height,area))"
   ]
  },
  {
   "cell_type": "code",
   "execution_count": null,
   "metadata": {},
   "outputs": [],
   "source": [
    "#controlling the number of digits after the decimal point when printing floating pt number PA2.4.3\n",
    "num = 16 / 3\n",
    "\n",
    "print(num)\n",
    "\n",
    "print( '{:.2f}'.format(num) )  #2 digits after decimal pt\n",
    "\n",
    "print( 'Number with 4 digits after decimal pt is {:.4f}'.format(num))"
   ]
  },
  {
   "cell_type": "code",
   "execution_count": null,
   "metadata": {},
   "outputs": [],
   "source": [
    "#PA 2.2.1\n",
    "#people on a bus\n",
    "#show in visualizer too\n",
    "\n",
    "num_people = 5\n",
    "print('Start with {} people on the bus'.format(num_people))\n",
    "\n",
    "num_people = num_people + 3\n",
    "print('3 get on, there are now {} people on the bus'.format(num_people))\n",
    "\n",
    "num_people = num_people - 2\n",
    "print('2 get off, there are now {} people on the bus'.format(num_people))\n",
    "\n",
    "num_people = num_people - 4\n",
    "print('4 get off, there are now {} people on the bus'.format(num_people))\n",
    "\n",
    "num_people = num_people + 5\n",
    "print('5 get on, there are now {} people on the bus'.format(num_people))\n",
    "\n",
    "num_people = num_people + 4\n",
    "print('4 get on, there are now {} people on the bus'.format(num_people))\n"
   ]
  },
  {
   "cell_type": "code",
   "execution_count": null,
   "metadata": {},
   "outputs": [],
   "source": [
    "#PA 2.1.6\n",
    "\n",
    "x = 1\n",
    "x = x * 20  #after week one\n",
    "print('A person with measles can cause {} people to be infected in one week.'.format(x))\n",
    "x = x * 20  #after week two\n",
    "print('A person with measles can cause {} people to be infected in two weeks.'.format(x))"
   ]
  },
  {
   "cell_type": "code",
   "execution_count": null,
   "metadata": {},
   "outputs": [],
   "source": [
    "#PA 2.1.6 updated\n",
    "\n",
    "r0 = 20  #r-naught is the transmission rate\n",
    "disease = 'measles'\n",
    "x = 1\n",
    "x = x * r0  #after week one\n",
    "print('A person with {} can cause {} people to be infected in one week.'.format(disease,x))\n",
    "x = x * r0  #after week two\n",
    "print('A person with {} can cause {} people to be infected in two weeks.'.format(disease,x))"
   ]
  },
  {
   "cell_type": "code",
   "execution_count": null,
   "metadata": {},
   "outputs": [],
   "source": [
    "#PA 2.1.6 updated (original covid 2-5, delta 6-7, omicron 8-10?)\n",
    "\n",
    "r0 = 4  \n",
    "disease = 'covid'\n",
    "x = 1\n",
    "x = x * r0  #after week one\n",
    "print('A person with {} can cause {} people to be infected in one week.'.format(disease,x))\n",
    "x = x * r0  #after week two\n",
    "print('A person with {} can cause {} people to be infected in two weeks.'.format(disease,x))"
   ]
  }
 ],
 "metadata": {
  "kernelspec": {
   "display_name": "Python 3",
   "language": "python",
   "name": "python3"
  },
  "language_info": {
   "codemirror_mode": {
    "name": "ipython",
    "version": 3
   },
   "file_extension": ".py",
   "mimetype": "text/x-python",
   "name": "python",
   "nbconvert_exporter": "python",
   "pygments_lexer": "ipython3",
   "version": "3.6.9"
  }
 },
 "nbformat": 4,
 "nbformat_minor": 2
}
