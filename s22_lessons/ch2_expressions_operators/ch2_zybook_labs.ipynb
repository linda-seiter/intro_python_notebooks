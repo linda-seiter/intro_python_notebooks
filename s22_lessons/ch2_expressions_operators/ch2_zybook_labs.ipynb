{
 "cells": [
  {
   "cell_type": "code",
   "execution_count": 5,
   "metadata": {},
   "outputs": [],
   "source": [
    "from ColabTurtle.Turtle import *\n",
    "import math\n",
    "import random\n"
   ]
  },
  {
   "cell_type": "code",
   "execution_count": null,
   "metadata": {},
   "outputs": [],
   "source": [
    "#Generate a random integer value between 50 and 100, along with a random increment between 5 and 10.\n",
    "#List the first four numbers in the series\n",
    "#Ex, if number is 74 and increment is 6, the series is 74 80 86 92\n",
    "\n",
    "num = random.randint(50,100)\n",
    "increment = random.randint(5,10)\n",
    "print('num=',num,'increment=',increment)\n",
    "print(num,num+increment,num+2*increment,num+3*increment)\n"
   ]
  },
  {
   "cell_type": "code",
   "execution_count": null,
   "metadata": {},
   "outputs": [],
   "source": [
    "num = int(input('enter a number:'))\n",
    "divisor = int(input('enter a divisor:'))\n",
    "\n",
    "#print a sequence of numbers resulting from the number divided by the divisor three times \n",
    "num = num/divisor\n",
    "print(num, end=' ')\n",
    "num = num/divisor\n",
    "print(num, end=' ')\n",
    "num = num/divisor\n",
    "print(num, end=' ')"
   ]
  },
  {
   "cell_type": "code",
   "execution_count": 2,
   "metadata": {},
   "outputs": [
    {
     "name": "stdout",
     "output_type": "stream",
     "text": [
      "enter a number:66\n",
      "enter a divisor:3\n",
      "22.0 7.333333333333333 2.444444444444444\n"
     ]
    }
   ],
   "source": [
    "num = int(input('enter a number:'))\n",
    "divisor = int(input('enter a divisor:'))\n",
    "\n",
    "#print a sequence of numbers resulting from the number divided by the divisor three times \n",
    "num1 = num/divisor\n",
    "num2 = num1/divisor\n",
    "num3 = num2/divisor\n",
    "print(num1, num2, num3)"
   ]
  },
  {
   "cell_type": "code",
   "execution_count": 7,
   "metadata": {},
   "outputs": [
    {
     "name": "stdout",
     "output_type": "stream",
     "text": [
      "enter a number:2000\n",
      "enter a divisor:2\n",
      "1000 500 250\n"
     ]
    }
   ],
   "source": [
    "#Prompt for a number and divisor. Print a sequence resulting from dividing the number by the divisor three times.\n",
    "#For example, given number 2000 and divisor 2, the sequence is 1000 500 250\n",
    "\n",
    "num = int(input('enter a number:'))\n",
    "divisor = int(input('enter a divisor:'))\n",
    "\n",
    "#print a sequence of numbers resulting from the number divided by the divisor three times \n",
    "print(num/divisor, num/divisor**2), num/(divisor**3))"
   ]
  },
  {
   "cell_type": "code",
   "execution_count": 14,
   "metadata": {},
   "outputs": [
    {
     "data": {
      "text/html": [
       "\n",
       "      <svg width=\"400\" height=\"400\">\n",
       "        <rect width=\"100%\" height=\"100%\" fill=\"black\"/>\n",
       "        <line x1=\"5\" y1=\"5\" x2=\"105.0\" y2=\"5.0\" stroke-linecap=\"round\" style=\"stroke:white;stroke-width:4\"/><line x1=\"105.0\" y1=\"5.0\" x2=\"105.0\" y2=\"105.0\" stroke-linecap=\"round\" style=\"stroke:white;stroke-width:4\"/><line x1=\"105.0\" y1=\"105.0\" x2=\"155.0\" y2=\"105.0\" stroke-linecap=\"round\" style=\"stroke:white;stroke-width:4\"/><line x1=\"155.0\" y1=\"105.0\" x2=\"155.0\" y2=\"155.0\" stroke-linecap=\"round\" style=\"stroke:white;stroke-width:4\"/><line x1=\"155.0\" y1=\"155.0\" x2=\"180.0\" y2=\"155.0\" stroke-linecap=\"round\" style=\"stroke:white;stroke-width:4\"/><line x1=\"180.0\" y1=\"155.0\" x2=\"180.0\" y2=\"180.0\" stroke-linecap=\"round\" style=\"stroke:white;stroke-width:4\"/><line x1=\"180.0\" y1=\"180.0\" x2=\"192.0\" y2=\"180.0\" stroke-linecap=\"round\" style=\"stroke:white;stroke-width:4\"/><line x1=\"192.0\" y1=\"180.0\" x2=\"192.0\" y2=\"192.0\" stroke-linecap=\"round\" style=\"stroke:white;stroke-width:4\"/><line x1=\"192.0\" y1=\"192.0\" x2=\"198.0\" y2=\"192.0\" stroke-linecap=\"round\" style=\"stroke:white;stroke-width:4\"/><line x1=\"198.0\" y1=\"192.0\" x2=\"198.0\" y2=\"198.0\" stroke-linecap=\"round\" style=\"stroke:white;stroke-width:4\"/>\n",
       "        \n",
       "      <g visibility=visible transform=\"rotate(0,198.0,198.0) translate(198.0, 198.0)\">\n",
       "        <circle stroke=\"white\" stroke-width=\"3\" fill=\"transparent\" r=\"12\" cx=\"0\" cy=\"0\"/>\n",
       "        <polygon points=\"0,19 3,16 -3,16\" style=\"fill:white;stroke:white;stroke-width:2\"/>\n",
       "      </g>\n",
       "    \n",
       "      </svg>\n",
       "    "
      ],
      "text/plain": [
       "<IPython.core.display.HTML object>"
      ]
     },
     "metadata": {},
     "output_type": "display_data"
    }
   ],
   "source": [
    "#draw stairs going from top/left to bottom/right.  The line length should decrease by 1/2 for each new stair.\n",
    "\n",
    "\n",
    "initializeTurtle(initial_speed=8, initial_window_size=(400,400)) \n",
    "\n",
    "penup()\n",
    "goto(5,5)\n",
    "pendown()\n",
    "line_length = 100\n",
    "\n",
    "right(90)\n",
    "forward(line_length)\n",
    "right(90)\n",
    "forward(line_length)\n",
    "\n",
    "#must use // to produce int for forward function\n",
    "line_length//=2\n",
    "left(90)\n",
    "forward(line_length)\n",
    "right(90)\n",
    "forward(line_length)\n",
    "\n",
    "line_length//=2\n",
    "left(90)\n",
    "forward(line_length)\n",
    "right(90)\n",
    "forward(line_length)\n",
    "\n",
    "line_length//=2\n",
    "left(90)\n",
    "forward(line_length)\n",
    "right(90)\n",
    "forward(line_length)\n",
    "\n",
    "line_length//=2\n",
    "left(90)\n",
    "forward(line_length)\n",
    "right(90)\n",
    "forward(line_length)"
   ]
  },
  {
   "cell_type": "code",
   "execution_count": 10,
   "metadata": {},
   "outputs": [
    {
     "data": {
      "text/html": [
       "\n",
       "      <svg width=\"400\" height=\"400\">\n",
       "        <rect width=\"100%\" height=\"100%\" fill=\"black\"/>\n",
       "        <line x1=\"50\" y1=\"50\" x2=\"252\" y2=\"50\" stroke-linecap=\"round\" style=\"stroke:white;stroke-width:4\"/><line x1=\"50\" y1=\"70\" x2=\"151\" y2=\"70\" stroke-linecap=\"round\" style=\"stroke:white;stroke-width:4\"/><line x1=\"50\" y1=\"90\" x2=\"100\" y2=\"90\" stroke-linecap=\"round\" style=\"stroke:white;stroke-width:4\"/><line x1=\"50\" y1=\"110\" x2=\"75\" y2=\"110\" stroke-linecap=\"round\" style=\"stroke:white;stroke-width:4\"/>\n",
       "        \n",
       "      <g visibility=visible transform=\"rotate(180,75,110) translate(75, 110)\">\n",
       "        <circle stroke=\"white\" stroke-width=\"3\" fill=\"transparent\" r=\"12\" cx=\"0\" cy=\"0\"/>\n",
       "        <polygon points=\"0,19 3,16 -3,16\" style=\"fill:white;stroke:white;stroke-width:2\"/>\n",
       "      </g>\n",
       "    \n",
       "      </svg>\n",
       "    "
      ],
      "text/plain": [
       "<IPython.core.display.HTML object>"
      ]
     },
     "metadata": {},
     "output_type": "display_data"
    },
    {
     "name": "stdout",
     "output_type": "stream",
     "text": [
      "line length 202\n",
      "line length 101\n",
      "line length 50\n",
      "line length 25\n"
     ]
    }
   ],
   "source": [
    "#draw horizontal line of random length 200-300 starting at 50,50.\n",
    "#draw 3 lines spaced 20 units vertically. each line 1/2 length of previous line.\n",
    "\n",
    "#use goto function, not forward or backward\n",
    "#goto function requires integer unit\n",
    "\n",
    "initializeTurtle(initial_speed=8, initial_window_size=(400,400)) \n",
    "\n",
    "x=50\n",
    "y=50\n",
    "vspace = 20\n",
    "penup()\n",
    "goto(x,y)\n",
    "pendown()\n",
    "line_length = random.randint(200,300)\n",
    "goto(x+line_length,y)\n",
    "print('line length',line_length)\n",
    "\n",
    "penup()\n",
    "y += vspace\n",
    "goto(x,y)\n",
    "pendown()\n",
    "line_length //= 2\n",
    "goto(x+line_length,y)\n",
    "print('line length',line_length)\n",
    "\n",
    "\n",
    "penup()\n",
    "y += vspace\n",
    "goto(x,y)\n",
    "pendown()\n",
    "line_length //= 2\n",
    "goto(x+line_length,y)\n",
    "print('line length',line_length)\n",
    "\n",
    "\n",
    "penup()\n",
    "y += vspace\n",
    "goto(x,y)\n",
    "pendown()\n",
    "line_length //= 2\n",
    "goto(x+line_length,y)\n",
    "print('line length',line_length)\n"
   ]
  },
  {
   "cell_type": "markdown",
   "metadata": {},
   "source": [
    "random.randint(min,max) generates random integer value between min and max, inclusive.\n",
    "random.uniform(min,max) generates random floating point value between min and max, inclusive.\n"
   ]
  },
  {
   "cell_type": "code",
   "execution_count": 26,
   "metadata": {},
   "outputs": [
    {
     "name": "stdout",
     "output_type": "stream",
     "text": [
      "mpg= 22 price per gallon $3.32\n",
      "$15.10\n"
     ]
    }
   ],
   "source": [
    "#Generate random mpg between 15 and 45, and random price per gallon between 1.99 and 3.49.\n",
    "#Print the price to drive 100 miles, displaying the price with 2 digits after the decimal point.\n",
    "\n",
    "mpg = random.randint(15, 45)  # inclusive\n",
    "price_per_gallon = random.uniform(1.99, 3.49)  #inclusive, generate random floating point value\n",
    "\n",
    "print('mpg=',mpg,'price per gallon', '${:.2f}'.format( price_per_gallon))\n",
    "\n",
    "#What is price to drive 100 miles\n",
    "\n",
    "price100 = 100/mpg*price_per_gallon\n",
    "print('${:.2f}'.format( price100))"
   ]
  },
  {
   "cell_type": "code",
   "execution_count": 42,
   "metadata": {},
   "outputs": [
    {
     "name": "stdout",
     "output_type": "stream",
     "text": [
      "46.91892320239967 1.2999999999999998 6.849738914907609\n",
      "46.92 1.30 6.85\n"
     ]
    }
   ],
   "source": [
    "#Given three floating-point numbers x, y, and z, \n",
    "#output x to the power of z, the absolute value of (x minus y), and square root of (x to the power of z).\n",
    "#Output each floating-point value with two digits after the decimal point, which can be achieved as follows:\n",
    "#print('{:.2f} {:.2f} {:.2f}'.format(your_value1, your_value2, your_value3, your_value4))\n",
    "\n",
    "x = 2.5\n",
    "y = 3.8\n",
    "z = 4.2\n",
    "\n",
    "print(math.pow(x,z), math.fabs(x-y), math.sqrt(math.pow(x,z)))\n",
    "print('{:.2f} {:.2f} {:.2f}'.format(math.pow(x,z), math.fabs(x-y), math.sqrt(math.pow(x,z))))"
   ]
  },
  {
   "cell_type": "code",
   "execution_count": 32,
   "metadata": {},
   "outputs": [
    {
     "name": "stdout",
     "output_type": "stream",
     "text": [
      "1.0594630943592953\n",
      "440.00 466.16 493.88 523.25 554.37\n"
     ]
    }
   ],
   "source": [
    "#On a piano, a key has a frequency, say f0. Each higher key (black or white) has a frequency of f0 * r , where n \n",
    "#is the distance (number of keys) from that key, and r is 2 . \n",
    "#Given an initial key frequency, output that frequency and the next 4 higher key frequencies.\n",
    "\n",
    "key0 = 440   #test with frequency 440, which is key A near middle of piano keyboard\n",
    "\n",
    "#r = 2**(1/12)\n",
    "#print(r)\n",
    "\n",
    "r = math.pow(2,1/12)\n",
    "print(r)\n",
    "\n",
    "key1=key0*math.pow(r,1)\n",
    "key2=key0*math.pow(r,2)\n",
    "key3=key0*math.pow(r,3)\n",
    "key4=key0*math.pow(r,4)\n",
    "\n",
    "print('{:.2f} {:.2f} {:.2f} {:.2f} {:.2f}'.format(key0,key1,key2,key3,key4))\n"
   ]
  },
  {
   "cell_type": "code",
   "execution_count": 33,
   "metadata": {},
   "outputs": [
    {
     "data": {
      "text/plain": [
       "range(1, 8)"
      ]
     },
     "execution_count": 33,
     "metadata": {},
     "output_type": "execute_result"
    }
   ],
   "source": [
    "\n",
    "\n",
    "\n"
   ]
  },
  {
   "cell_type": "code",
   "execution_count": null,
   "metadata": {},
   "outputs": [],
   "source": []
  }
 ],
 "metadata": {
  "kernelspec": {
   "display_name": "Python 3",
   "language": "python",
   "name": "python3"
  },
  "language_info": {
   "codemirror_mode": {
    "name": "ipython",
    "version": 3
   },
   "file_extension": ".py",
   "mimetype": "text/x-python",
   "name": "python",
   "nbconvert_exporter": "python",
   "pygments_lexer": "ipython3",
   "version": "3.6.9"
  }
 },
 "nbformat": 4,
 "nbformat_minor": 2
}
