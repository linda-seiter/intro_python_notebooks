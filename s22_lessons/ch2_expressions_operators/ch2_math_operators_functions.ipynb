{
 "cells": [
  {
   "cell_type": "code",
   "execution_count": 1,
   "metadata": {},
   "outputs": [],
   "source": [
    "#import math library for math functions\n",
    "import math"
   ]
  },
  {
   "cell_type": "markdown",
   "metadata": {},
   "source": [
    "### Division"
   ]
  },
  {
   "cell_type": "code",
   "execution_count": 10,
   "metadata": {},
   "outputs": [
    {
     "name": "stdout",
     "output_type": "stream",
     "text": [
      "4.0\n",
      "5.333333333333333\n",
      "0.5555555555555556\n",
      "0.5555555555555556\n"
     ]
    }
   ],
   "source": [
    "# / operator results in a floating point number\n",
    "print(8 / 2)\n",
    "print(16 / 3)\n",
    "print(5 / 9)\n",
    "print(5.0 / 9.0)"
   ]
  },
  {
   "cell_type": "code",
   "execution_count": 13,
   "metadata": {},
   "outputs": [],
   "source": [
    "#Division by 0 results in an error\n",
    "\n",
    "#7 / 0\n"
   ]
  },
  {
   "cell_type": "code",
   "execution_count": 26,
   "metadata": {},
   "outputs": [
    {
     "name": "stdout",
     "output_type": "stream",
     "text": [
      "3.5\n"
     ]
    }
   ],
   "source": [
    "\n",
    "\n",
    "print( 7/2)"
   ]
  },
  {
   "cell_type": "code",
   "execution_count": 27,
   "metadata": {},
   "outputs": [
    {
     "name": "stdout",
     "output_type": "stream",
     "text": [
      "3\n"
     ]
    }
   ],
   "source": [
    "#int function converts float 3.5 to int, rounding down\n",
    "print( int(7/2) )"
   ]
  },
  {
   "cell_type": "code",
   "execution_count": 24,
   "metadata": {},
   "outputs": [
    {
     "name": "stdout",
     "output_type": "stream",
     "text": [
      "3\n"
     ]
    }
   ],
   "source": [
    "#floor function rounds down (need to import math library)\n",
    "print( math.floor(7/2) )"
   ]
  },
  {
   "cell_type": "code",
   "execution_count": 6,
   "metadata": {},
   "outputs": [
    {
     "name": "stdout",
     "output_type": "stream",
     "text": [
      "enter float:5.2\n",
      "6\n"
     ]
    }
   ],
   "source": [
    "#round down\n",
    "x = float(input('enter float:'))\n",
    "x_rounddown = math.floor(x)\n",
    "print(x_rounddown)"
   ]
  },
  {
   "cell_type": "code",
   "execution_count": 25,
   "metadata": {},
   "outputs": [
    {
     "name": "stdout",
     "output_type": "stream",
     "text": [
      "4\n"
     ]
    }
   ],
   "source": [
    "#ceil function rounds up (need to import math library)\n",
    "\n",
    "print( math.ceil(7/2) )"
   ]
  },
  {
   "cell_type": "code",
   "execution_count": 7,
   "metadata": {},
   "outputs": [
    {
     "name": "stdout",
     "output_type": "stream",
     "text": [
      "enter float:5.3\n",
      "6\n"
     ]
    }
   ],
   "source": [
    "#round up\n",
    "x = float(input('enter float:'))\n",
    "x_roundup = math.ceil(x)\n",
    "print(x_roundup)"
   ]
  },
  {
   "cell_type": "markdown",
   "metadata": {},
   "source": [
    "###  Floored division operator // rounds down"
   ]
  },
  {
   "cell_type": "code",
   "execution_count": 8,
   "metadata": {},
   "outputs": [
    {
     "name": "stdout",
     "output_type": "stream",
     "text": [
      "4\n",
      "5\n",
      "0\n"
     ]
    }
   ],
   "source": [
    "# Use integer division operator // to round down to nearest integer\n",
    "print(8 // 2)   #rounds down to integer 4 rather than float 4.0\n",
    "print(16 // 3)  #rounds down to 5\n",
    "print(5 // 9)  #rounds down to 0"
   ]
  },
  {
   "cell_type": "code",
   "execution_count": 14,
   "metadata": {},
   "outputs": [
    {
     "name": "stdout",
     "output_type": "stream",
     "text": [
      "2\n",
      "2.0\n",
      "1.0\n",
      "1.0\n"
     ]
    }
   ],
   "source": [
    "# int//int results in an int.  int/float or float/int or float/float results in float.\n",
    "\n",
    "print(20 // 10)  #int\n",
    "print(20.0 // 10)  #float\n",
    "print(50 // 50.0) #float\n",
    "print(16.0 // 10.0) #float"
   ]
  },
  {
   "cell_type": "markdown",
   "metadata": {},
   "source": [
    "### Mod operator % gives the remainder after integer division"
   ]
  },
  {
   "cell_type": "code",
   "execution_count": 6,
   "metadata": {},
   "outputs": [
    {
     "name": "stdout",
     "output_type": "stream",
     "text": [
      "6\n",
      "3\n",
      "1\n",
      "0\n"
     ]
    }
   ],
   "source": [
    "# Use % mod operator to get the remainder after integer division\n",
    "\n",
    "print(27 // 4) #6\n",
    "print(27 % 4) #remainder after dividing 27 by 4.  27 - (4 * 6) == 3\n",
    "print(9 % 2)  #odd numbers mod 2 have a remainder of 1\n",
    "print(8 % 2)  #even numbers mod 2 have a remainder of 0"
   ]
  },
  {
   "cell_type": "code",
   "execution_count": 10,
   "metadata": {},
   "outputs": [],
   "source": [
    "# mod 0 results in an error\n",
    "\n",
    "#7 % 0"
   ]
  },
  {
   "cell_type": "code",
   "execution_count": null,
   "metadata": {},
   "outputs": [],
   "source": []
  },
  {
   "cell_type": "code",
   "execution_count": 13,
   "metadata": {},
   "outputs": [
    {
     "name": "stdout",
     "output_type": "stream",
     "text": [
      "How many apples:9\n",
      "How many horses:3\n",
      "Each horse gets 3 apples.\n",
      "There are 0 apples leftover.\n"
     ]
    }
   ],
   "source": [
    "#CHALLENGE: Prompt for number of apples and number of horses. \n",
    "#Print number of apples per horse and number of leftover apples.\n",
    "\n",
    "apples = int(input('How many apples:'))\n",
    "horses = int(input('How many horses:'))\n",
    "apples_per_horse = apples // horses\n",
    "leftover = apples % horses\n",
    "\n",
    "print('Each horse gets', apples_per_horse, 'apples.')\n",
    "print('There are', leftover, 'apples leftover.')\n"
   ]
  },
  {
   "cell_type": "code",
   "execution_count": null,
   "metadata": {},
   "outputs": [],
   "source": [
    "#CHALLENGE: Prompt for total number of minutes.  Print the equivalent number of hours and minutes.\n",
    "#Test with 225 (3 hours 45 minutes)\n",
    "\n",
    "minutes = int(input('Enter total minutes:\\n'))\n",
    "hours = minutes // 60\n",
    "minutes_remaining = minutes % 60\n",
    "\n",
    "print(minutes, 'minutes is', hours, 'hours and', minutes_remaining, 'minutes')\n",
    "\n",
    "\n"
   ]
  },
  {
   "cell_type": "code",
   "execution_count": 6,
   "metadata": {},
   "outputs": [
    {
     "name": "stdout",
     "output_type": "stream",
     "text": [
      "enter total number of seconds:8000\n",
      "8000 seconds is equivalent to 2 hours 13 minutes and 20 seconds leftover\n"
     ]
    }
   ],
   "source": [
    "#CHALLENGE: Prompt for total seconds.  Print equivalent hours, minutes, seconds\n",
    "seconds_in_minute = 60 \n",
    "seconds_in_hour = seconds_in_minute * 60 #3600\n",
    "\n",
    "\n",
    "total_seconds = int(input('enter total number of seconds:'))\n",
    "hours = total_seconds // seconds_in_hour\n",
    "hour_remainder = total_seconds % seconds_in_hour\n",
    "minutes = hour_remainder // seconds_in_minute\n",
    "minute_remainder = hour_remainder % seconds_in_minute\n",
    "print('{} seconds is equivalent to {} hours {} minutes and {} seconds'.format(total_seconds, hours, minutes, minute_remainder ))"
   ]
  },
  {
   "cell_type": "code",
   "execution_count": 7,
   "metadata": {},
   "outputs": [
    {
     "data": {
      "text/plain": [
       "8000"
      ]
     },
     "execution_count": 7,
     "metadata": {},
     "output_type": "execute_result"
    }
   ],
   "source": [
    "2*3600 + 13*60 + 20\n"
   ]
  },
  {
   "cell_type": "markdown",
   "metadata": {},
   "source": [
    "### Exponentiation operator **"
   ]
  },
  {
   "cell_type": "code",
   "execution_count": 5,
   "metadata": {},
   "outputs": [
    {
     "name": "stdout",
     "output_type": "stream",
     "text": [
      "16\n",
      "16\n",
      "46.91892320239967\n",
      "16.0\n",
      "18.767569280959865\n"
     ]
    }
   ],
   "source": [
    "# Exponentiation operator is **, so 2 raised to the power of 4, or 2*2*2*2, is written as 2**4\n",
    "print(2*2*2*2)\n",
    "\n",
    "#Exponentiation operator **\n",
    "print(2**4)\n",
    "\n",
    "#works with floats\n",
    "print(2.5**4.2)\n",
    "\n",
    "#can also use the math.pow function\n",
    "print(math.pow(2,4))\n",
    "\n",
    "#works with floats\n",
    "print(math.pow(2.5, 3.2))"
   ]
  },
  {
   "cell_type": "code",
   "execution_count": 11,
   "metadata": {},
   "outputs": [
    {
     "name": "stdout",
     "output_type": "stream",
     "text": [
      "7.5\n"
     ]
    }
   ],
   "source": [
    "#absolute value\n",
    "print(math.fabs(-7.5))\n"
   ]
  },
  {
   "cell_type": "markdown",
   "metadata": {},
   "source": [
    "### Order of operations"
   ]
  },
  {
   "cell_type": "code",
   "execution_count": null,
   "metadata": {},
   "outputs": [],
   "source": [
    "#Order of operations: pe(md)(as)\n",
    "print(8-2*5)\n",
    "print((8-2)*5)\n",
    "print(8*3**2)\n",
    "print((8*3)**2)"
   ]
  },
  {
   "cell_type": "markdown",
   "metadata": {},
   "source": [
    "### Compound operators"
   ]
  },
  {
   "cell_type": "code",
   "execution_count": 28,
   "metadata": {},
   "outputs": [
    {
     "name": "stdout",
     "output_type": "stream",
     "text": [
      "7\n",
      "9\n"
     ]
    }
   ],
   "source": [
    "x = 5\n",
    "\n",
    "#adding 2 to x\n",
    "x = x + 2\n",
    "print(x)\n",
    "\n",
    "#can be rewritten using a compound operator += \n",
    "x += 2 \n",
    "print(x)"
   ]
  },
  {
   "cell_type": "code",
   "execution_count": null,
   "metadata": {},
   "outputs": [],
   "source": [
    "#PA 2.2.1 using compound operators\n",
    "\n",
    "num_people = 5\n",
    "print(num_people)\n",
    "\n",
    "num_people += 3\n",
    "print(num_people)\n",
    "\n",
    "num_people -= 2\n",
    "print(num_people)\n",
    "\n",
    "num_people -= 4\n",
    "print(num_people)\n",
    "\n",
    "num_people += 5\n",
    "print(num_people)\n",
    "\n",
    "num_people += 4\n",
    "print(num_people)"
   ]
  }
 ],
 "metadata": {
  "kernelspec": {
   "display_name": "Python 3",
   "language": "python",
   "name": "python3"
  },
  "language_info": {
   "codemirror_mode": {
    "name": "ipython",
    "version": 3
   },
   "file_extension": ".py",
   "mimetype": "text/x-python",
   "name": "python",
   "nbconvert_exporter": "python",
   "pygments_lexer": "ipython3",
   "version": "3.6.9"
  }
 },
 "nbformat": 4,
 "nbformat_minor": 2
}
