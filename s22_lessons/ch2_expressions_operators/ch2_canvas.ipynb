{
 "cells": [
  {
   "cell_type": "code",
   "execution_count": 32,
   "metadata": {},
   "outputs": [],
   "source": [
    "from ipycanvas import Canvas\n",
    "import random "
   ]
  },
  {
   "cell_type": "code",
   "execution_count": 2,
   "metadata": {},
   "outputs": [
    {
     "data": {
      "application/vnd.jupyter.widget-view+json": {
       "model_id": "49ace21581b94b14b02dbd0d6bf017cb",
       "version_major": 2,
       "version_minor": 0
      },
      "text/plain": [
       "Canvas(height=200, width=200)"
      ]
     },
     "metadata": {},
     "output_type": "display_data"
    }
   ],
   "source": [
    "canvas = Canvas(width=200, height=200)\n",
    "display(canvas)\n",
    "canvas.stroke_style = 'red'\n",
    "canvas.stroke_rect(0,0,200,200)  #framed rectangle\n",
    "canvas.fill_style = 'lightgreen'\n",
    "canvas.fill_rect(50,50,100,100) #filled rectangle\n",
    "canvas.stroke_style='black'\n",
    "canvas.stroke_rect(50,50,20,20)  #framed rectangle\n",
    "canvas.fill_style = 'blue'\n",
    "canvas.fill_circle(50,50,5)  #center x,y,radius\n",
    "canvas.stroke_style = 'pink'\n",
    "canvas.stroke_circle(150,150,50)  #center x,y,radius\n",
    "canvas.stroke_style = 'brown'\n",
    "canvas.stroke_line(0,200,100,100)  #startx,starty,endx,endy\n",
    "canvas.stroke_style = \"yellow\"\n",
    "canvas.stroke_line(100,100,200,200)  #startx,starty,endx,endy\n"
   ]
  },
  {
   "cell_type": "code",
   "execution_count": null,
   "metadata": {},
   "outputs": [],
   "source": [
    "'''\n",
    "Red rectangle  width 50  height  200\n",
    "Blue rectangle width  400  height 100\n",
    "White circle is centered horizontally\n",
    "'''\n",
    "canvas = Canvas(width=400, height=400)\n",
    "display(canvas)\n",
    "canvas.fill_style = 'yellow'\n",
    "canvas.fill_rect(0,0,400,400)\n",
    "canvas.fill_style = 'red'\n",
    "canvas.fill_rect(0,0,50,200)  #width 50, height 1/2 canvas height 200\n",
    "canvas.fill_style = 'blue'\n",
    "canvas.fill_rect(0,200,400,100)  #width canvas size 400, height 100\n",
    "canvas.stroke_style = 'black'\n",
    "canvas.stroke_line(50,0,400,200) \n",
    "canvas.stroke_style='white'\n",
    "canvas.stroke_circle(200,250,50)"
   ]
  },
  {
   "cell_type": "code",
   "execution_count": null,
   "metadata": {},
   "outputs": [],
   "source": [
    "#CHALLENGE:  \n",
    "#Draw a green filled circle at 80, 125 with radius 20.\n",
    "#Draw a purple framed rectangle at 90,20 with width 25 and height 50\n",
    "#Draw a blue line connecting the circle center to the\n",
    "#bottom right corner of the rectangle\n",
    "canvas = Canvas(width=200, height=200)\n",
    "display(canvas)\n",
    "canvas.fill_style = 'green'\n",
    "canvas.fill_circle(80,125,20)  \n",
    "canvas.stroke_style = 'purple'\n",
    "canvas.stroke_rect(90,20,25,50)\n",
    "canvas.stroke_style = 'blue'\n",
    "canvas.stroke_line(80,125,90+25,20+50)"
   ]
  },
  {
   "cell_type": "code",
   "execution_count": 70,
   "metadata": {},
   "outputs": [
    {
     "data": {
      "application/vnd.jupyter.widget-view+json": {
       "model_id": "f6989313c7f64282869bf56b2e11958f",
       "version_major": 2,
       "version_minor": 0
      },
      "text/plain": [
       "Canvas(height=200, width=200)"
      ]
     },
     "metadata": {},
     "output_type": "display_data"
    },
    {
     "name": "stdout",
     "output_type": "stream",
     "text": [
      "enter x:20\n",
      "enter y:30\n",
      "enter square size:25\n"
     ]
    }
   ],
   "source": [
    "canvas = Canvas(width=200, height=200)\n",
    "display(canvas)\n",
    "canvas.stroke_rect(0,0,canvas.width,canvas.height)\n",
    "x=0\n",
    "y=0\n",
    "x = int(input('enter x:'))\n",
    "y = int(input('enter y:'))\n",
    "size = int(input('enter square size:'))\n",
    "canvas.stroke_style = 'red'\n",
    "canvas.stroke_rect(x,y,size,size) \n",
    "canvas.font = '16px sans-serif'  #straight letters\n",
    "canvas.fill_text('x={},y={},size={}'.format(x,y,size), x,y)\n",
    "canvas.stroke_style='blue'\n",
    "x += size\n",
    "y += size \n",
    "canvas.stroke_rect(x,y,size,size)\n",
    "canvas.fill_text('x={},y={},size={}'.format(x,y,size), x,y)\n",
    "canvas.font = '32px serif' # curly letters\n",
    "canvas.fill_text('howdy', 100, 150)  #string, x, y\n"
   ]
  },
  {
   "cell_type": "code",
   "execution_count": 16,
   "metadata": {},
   "outputs": [
    {
     "data": {
      "application/vnd.jupyter.widget-view+json": {
       "model_id": "3852bb7fa54b4f8394cf9c2fa1fef615",
       "version_major": 2,
       "version_minor": 0
      },
      "text/plain": [
       "Canvas(height=200, width=200)"
      ]
     },
     "metadata": {},
     "output_type": "display_data"
    },
    {
     "name": "stdout",
     "output_type": "stream",
     "text": [
      "enter square size:50\n"
     ]
    }
   ],
   "source": [
    "canvas = Canvas(width=200, height=200)\n",
    "display(canvas)\n",
    "x=0\n",
    "y=0\n",
    "hspace = 10\n",
    "vspace = 20\n",
    "size = int(input('enter square size:'))\n",
    "canvas.stroke_style = 'red'\n",
    "canvas.stroke_rect(0,0,size,size) \n",
    "canvas.stroke_style='blue'\n",
    "x += size + hspace\n",
    "y += size + vspace\n",
    "canvas.stroke_rect(x,y,size,size)\n",
    "canvas.stroke_style='black'\n",
    "canvas.stroke_line(x,y,x-hspace,y-vspace)"
   ]
  },
  {
   "cell_type": "markdown",
   "metadata": {},
   "source": [
    "### Handling mouse events"
   ]
  },
  {
   "cell_type": "code",
   "execution_count": 56,
   "metadata": {},
   "outputs": [
    {
     "data": {
      "application/vnd.jupyter.widget-view+json": {
       "model_id": "f71a50bb9e6a4844bdd8cfdb865cdc8d",
       "version_major": 2,
       "version_minor": 0
      },
      "text/plain": [
       "Canvas(height=400, width=400)"
      ]
     },
     "metadata": {},
     "output_type": "display_data"
    }
   ],
   "source": [
    "def handle_mouse_down(x,y):\n",
    "    #IMPORTANT: all code in handle_mouse_down function must be indented equally (1 tab))\n",
    "    canvas.fill_style = 'blue'\n",
    "    canvas.fill_circle(x,y,5) \n",
    "\n",
    "    canvas.font='16px sans-serif'\n",
    "    canvas.fill_style='black'\n",
    "    canvas.fill_text('x={:.0f} y={:.0f}'.format(x,y), x+5, y)  #shift a little to the right\n",
    "    canvas.stroke_line(x,y,x,0)  #CHALLENGE: draw vertical line to top of canvas\n",
    "    \n",
    "#main algorithm\n",
    "canvas = Canvas(width=400, height=400)\n",
    "display(canvas)\n",
    "canvas.stroke_style = 'black'\n",
    "canvas.stroke_rect(0,0,400,400)   \n",
    "canvas.on_mouse_down(handle_mouse_down)"
   ]
  },
  {
   "cell_type": "code",
   "execution_count": null,
   "metadata": {},
   "outputs": [],
   "source": [
    "#Challenge : draw a red filled circle with random radius between 10 and 20 pixels\n",
    "#where the mouse is clicked\n",
    "def handle_mouse_down(x,y):\n",
    "    #IMPORTANT: all code in handle_mouse_down function must be indented equally (1 tab))\n",
    "    canvas.fill_style = 'red'\n",
    "    radius = random.randint(10,20)\n",
    "    canvas.fill_circle(x,y,radius) \n",
    "    \n",
    "#main algorithm\n",
    "canvas = Canvas(width=400, height=400)\n",
    "display(canvas)\n",
    "canvas.stroke_style = 'black'\n",
    "canvas.stroke_rect(0,0,400,400)   \n",
    "canvas.on_mouse_down(handle_mouse_down)"
   ]
  },
  {
   "cell_type": "code",
   "execution_count": 31,
   "metadata": {},
   "outputs": [
    {
     "data": {
      "application/vnd.jupyter.widget-view+json": {
       "model_id": "1ba9184ed06c4455a358c4993051fd3f",
       "version_major": 2,
       "version_minor": 0
      },
      "text/plain": [
       "Canvas(height=200, width=200)"
      ]
     },
     "metadata": {},
     "output_type": "display_data"
    },
    {
     "name": "stdout",
     "output_type": "stream",
     "text": [
      "rgb(111,124,209)\n"
     ]
    }
   ],
   "source": [
    "#creating a color\n",
    "\n",
    "canvas = Canvas(width=200, height=200)\n",
    "display(canvas)\n",
    "canvas.fill_style = 'rgb(0, 255, 0)' #green\n",
    "canvas.fill_rect(0,0,200,200)   \n",
    "canvas.fill_style = 'rgb(255, 0, 255)' #red and blue = purple\n",
    "canvas.fill_rect(50,50,20,20)   \n",
    "canvas.fill_style = 'rgb(200, 150, 0)' #lots of red, some green = orange\n",
    "canvas.fill_rect(50,150,20,20)   \n",
    "\n",
    "canvas.fill_style = 'rgb(0, 0, 0)' #black\n",
    "canvas.fill_rect(150,50,20,20)   \n",
    "\n",
    "\n",
    "canvas.fill_style = 'rgb(255,255,255)' #white\n",
    "canvas.fill_rect(150,150,20,20) \n",
    "\n",
    "#random\n",
    "red = random.randint(0,255)\n",
    "green = random.randint(0,255)\n",
    "blue = random.randint(0,255)\n",
    "randcolor= 'rgb({},{},{})'.format(red,green,blue) \n",
    "print(randcolor)\n",
    "canvas.fill_style = randcolor\n",
    "canvas.fill_rect(100,100,20,20) \n"
   ]
  },
  {
   "cell_type": "code",
   "execution_count": null,
   "metadata": {},
   "outputs": [],
   "source": []
  }
 ],
 "metadata": {
  "kernelspec": {
   "display_name": "Python 3",
   "language": "python",
   "name": "python3"
  },
  "language_info": {
   "codemirror_mode": {
    "name": "ipython",
    "version": 3
   },
   "file_extension": ".py",
   "mimetype": "text/x-python",
   "name": "python",
   "nbconvert_exporter": "python",
   "pygments_lexer": "ipython3",
   "version": "3.6.9"
  }
 },
 "nbformat": 4,
 "nbformat_minor": 2
}
