{
 "cells": [
  {
   "cell_type": "code",
   "execution_count": 2,
   "metadata": {},
   "outputs": [],
   "source": [
    "import random"
   ]
  },
  {
   "cell_type": "code",
   "execution_count": 3,
   "metadata": {},
   "outputs": [
    {
     "data": {
      "text/plain": [
       "5"
      ]
     },
     "execution_count": 3,
     "metadata": {},
     "output_type": "execute_result"
    }
   ],
   "source": [
    "#random.randint(a,b)  produces a random integer N such that a <= N <= b\n",
    "random.randint(5,8)  #5,6,7,8"
   ]
  },
  {
   "cell_type": "code",
   "execution_count": 4,
   "metadata": {},
   "outputs": [
    {
     "data": {
      "text/plain": [
       "6"
      ]
     },
     "execution_count": 4,
     "metadata": {},
     "output_type": "execute_result"
    }
   ],
   "source": [
    "#random.randrange(a,b)  produces a random integer N such that a <= N <= b-1\n",
    "random.randrange(5,8)  #5,6,7. "
   ]
  },
  {
   "cell_type": "code",
   "execution_count": 5,
   "metadata": {},
   "outputs": [
    {
     "data": {
      "text/plain": [
       "6.772182302207831"
      ]
     },
     "execution_count": 5,
     "metadata": {},
     "output_type": "execute_result"
    }
   ],
   "source": [
    "#random.uniform(a,b)  produces a random floating point number N such that a <= N <= b\n",
    "random.uniform(5,8)"
   ]
  },
  {
   "cell_type": "code",
   "execution_count": 6,
   "metadata": {},
   "outputs": [
    {
     "data": {
      "text/plain": [
       "0.6120363441605673"
      ]
     },
     "execution_count": 6,
     "metadata": {},
     "output_type": "execute_result"
    }
   ],
   "source": [
    "#random.random() produces a random floating point value N  0.0 <= N < 1.0\n",
    "random.random()"
   ]
  },
  {
   "cell_type": "code",
   "execution_count": 7,
   "metadata": {},
   "outputs": [
    {
     "name": "stdout",
     "output_type": "stream",
     "text": [
      "num1 0.47 num2 0.43 num3 0.15\n",
      "num1 with 2 decimal pts 0.47 and with all digits 0.4745824863687962\n"
     ]
    }
   ],
   "source": [
    "num1 = random.random()\n",
    "num2 = random.random()\n",
    "num3 = random.random()\n",
    "\n",
    "#you can format multiple values\n",
    "print('num1 {:.2f} num2 {:.2f} num3 {:.2f}'.format(num1, num2, num3))\n",
    "\n",
    "#just use {} as a value placehold if you don't want to control how many decimal pts\n",
    "print('num1 with 2 decimal pts {:.2f} and with all digits {}'.format(num1, num1))"
   ]
  },
  {
   "cell_type": "code",
   "execution_count": 8,
   "metadata": {},
   "outputs": [
    {
     "name": "stdout",
     "output_type": "stream",
     "text": [
      "number is 69 increment is 8\n",
      "69 77 85 93\n"
     ]
    }
   ],
   "source": [
    "#CHALLENGE:  Generate a random integer value between 50 and 100, \n",
    "#along with a random increment between 5 and 10.\n",
    "#List the first four numbers in the series\n",
    "#Ex, if number is 74 and increment is 6, the series is 74 80 86 92\n",
    "\n",
    "num = random.randint(50,100)\n",
    "increment = random.randint(5,10)\n",
    "print('number is',num,'increment is',increment)\n",
    "print(num, num+increment, num+2*increment, num+3*increment)"
   ]
  },
  {
   "cell_type": "code",
   "execution_count": 9,
   "metadata": {},
   "outputs": [
    {
     "name": "stdout",
     "output_type": "stream",
     "text": [
      "27 mpg, $3.23 per gallon\n",
      "100 mile trip requires 3.70 gallons and costs $11.96.\n"
     ]
    }
   ],
   "source": [
    "#CHALLENGE:Generate random mpg between 15 and 45, and random price per gallon between 1.99 and 3.49.\n",
    "#Print mpg, price per gallon, number of gallons and price need to drive 100 miles.\n",
    "#Format float results with 2 digits after decimal place\n",
    "\n",
    "mpg = random.randint(15,45)\n",
    "price_gallon = random.uniform(1.99,3.49)\n",
    "gallons_100_miles = 100/mpg\n",
    "price_100_miles = gallons_100_miles * price_gallon\n",
    "print('{} mpg, ${:.2f} per gallon'.format(mpg,price_gallon))\n",
    "print('100 mile trip requires {:.2f} gallons and costs ${:.2f}.'.format(gallons_100_miles,price_100_miles))"
   ]
  },
  {
   "cell_type": "code",
   "execution_count": null,
   "metadata": {},
   "outputs": [],
   "source": []
  }
 ],
 "metadata": {
  "kernelspec": {
   "display_name": "Python 3",
   "language": "python",
   "name": "python3"
  },
  "language_info": {
   "codemirror_mode": {
    "name": "ipython",
    "version": 3
   },
   "file_extension": ".py",
   "mimetype": "text/x-python",
   "name": "python",
   "nbconvert_exporter": "python",
   "pygments_lexer": "ipython3",
   "version": "3.6.9"
  }
 },
 "nbformat": 4,
 "nbformat_minor": 2
}
