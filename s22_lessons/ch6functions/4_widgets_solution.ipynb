{
 "cells": [
  {
   "cell_type": "markdown",
   "metadata": {},
   "source": [
    "https://ipywidgets.readthedocs.io/en/latest/index.html "
   ]
  },
  {
   "cell_type": "code",
   "execution_count": 1,
   "metadata": {},
   "outputs": [],
   "source": [
    "#Open a terminal window, then copy the following code (without the #)\n",
    "#sudo -H pip3 install ipywidgets\n",
    "#jupyter nbextension enable --py widgetsnbextension\n",
    "\n",
    "import ipywidgets as widgets\n",
    "from IPython.display import display\n",
    "from ipywidgets import interact, interactive, fixed, interact_manual\n"
   ]
  },
  {
   "cell_type": "code",
   "execution_count": null,
   "metadata": {},
   "outputs": [],
   "source": [
    "def print_age(age):\n",
    "    print('age is', age)\n",
    "\n",
    "print_age(10)\n",
    "print_age(20)\n",
    "age = int(input('enter age:'))\n",
    "print_age(age)"
   ]
  },
  {
   "cell_type": "code",
   "execution_count": null,
   "metadata": {},
   "outputs": [],
   "source": [
    "widgets.IntSlider()\n"
   ]
  },
  {
   "cell_type": "code",
   "execution_count": null,
   "metadata": {},
   "outputs": [],
   "source": [
    "widgets.IntSlider(min=30, max=80, step=5, value=40)"
   ]
  },
  {
   "cell_type": "code",
   "execution_count": null,
   "metadata": {},
   "outputs": [],
   "source": [
    "widgets.Text()"
   ]
  },
  {
   "cell_type": "code",
   "execution_count": null,
   "metadata": {},
   "outputs": [],
   "source": [
    "widgets.Checkbox()"
   ]
  },
  {
   "cell_type": "code",
   "execution_count": null,
   "metadata": {},
   "outputs": [],
   "source": [
    "widgets.Dropdown(options=['low', 'medium', 'high'])"
   ]
  },
  {
   "cell_type": "code",
   "execution_count": null,
   "metadata": {},
   "outputs": [],
   "source": [
    "widgets.RadioButtons(options=['low', 'medium', 'high'])"
   ]
  },
  {
   "cell_type": "code",
   "execution_count": 2,
   "metadata": {},
   "outputs": [
    {
     "data": {
      "application/vnd.jupyter.widget-view+json": {
       "model_id": "12e48e4a7a6b4d1594ec698f05be704b",
       "version_major": 2,
       "version_minor": 0
      },
      "text/plain": [
       "interactive(children=(IntSlider(value=0, description='age'), Button(description='Run Interact', style=ButtonSt…"
      ]
     },
     "metadata": {},
     "output_type": "display_data"
    },
    {
     "data": {
      "text/plain": [
       "<function __main__.print_age>"
      ]
     },
     "execution_count": 2,
     "metadata": {},
     "output_type": "execute_result"
    }
   ],
   "source": [
    "def print_age(age):\n",
    "    print('age is', age)\n",
    "\n",
    "interact_manual(print_age, \n",
    "                age=widgets.IntSlider()\n",
    "               )"
   ]
  },
  {
   "cell_type": "code",
   "execution_count": 3,
   "metadata": {},
   "outputs": [
    {
     "data": {
      "application/vnd.jupyter.widget-view+json": {
       "model_id": "3cf66511bbaf4b8e85b97053cac348ff",
       "version_major": 2,
       "version_minor": 0
      },
      "text/plain": [
       "interactive(children=(Text(value='', description='name'), Button(description='Run Interact', style=ButtonStyle…"
      ]
     },
     "metadata": {},
     "output_type": "display_data"
    },
    {
     "data": {
      "text/plain": [
       "<function __main__.print_name>"
      ]
     },
     "execution_count": 3,
     "metadata": {},
     "output_type": "execute_result"
    }
   ],
   "source": [
    "def print_name(name):\n",
    "    print('Hello', name)\n",
    "\n",
    "interact_manual(print_name, \n",
    "                name=widgets.Text()\n",
    "               )"
   ]
  },
  {
   "cell_type": "code",
   "execution_count": 4,
   "metadata": {},
   "outputs": [
    {
     "data": {
      "application/vnd.jupyter.widget-view+json": {
       "model_id": "03ed094a92ae46c0a78dfbc92d5c01f4",
       "version_major": 2,
       "version_minor": 0
      },
      "text/plain": [
       "interactive(children=(Checkbox(value=False, description='isSunny'), Button(description='Run Interact', style=B…"
      ]
     },
     "metadata": {},
     "output_type": "display_data"
    },
    {
     "data": {
      "text/plain": [
       "<function __main__.print_sunny>"
      ]
     },
     "execution_count": 4,
     "metadata": {},
     "output_type": "execute_result"
    }
   ],
   "source": [
    "def print_sunny(isSunny):\n",
    "    print('Sunny out? ', isSunny)\n",
    "\n",
    "interact_manual(print_sunny, \n",
    "                isSunny=widgets.Checkbox()\n",
    "               )"
   ]
  },
  {
   "cell_type": "code",
   "execution_count": 7,
   "metadata": {},
   "outputs": [
    {
     "data": {
      "application/vnd.jupyter.widget-view+json": {
       "model_id": "2c3e30d534334e74b19ede6f311fe6f3",
       "version_major": 2,
       "version_minor": 0
      },
      "text/plain": [
       "interactive(children=(IntSlider(value=0, description='inches'), Button(description='Run Interact', style=Butto…"
      ]
     },
     "metadata": {},
     "output_type": "display_data"
    },
    {
     "data": {
      "text/plain": [
       "<function __main__.inches_to_centimeters>"
      ]
     },
     "execution_count": 7,
     "metadata": {},
     "output_type": "execute_result"
    }
   ],
   "source": [
    "def inches_to_centimeters( inches):\n",
    "    centimeters = inches * 2.54\n",
    "    print('{}inches-->{}centimeters'.format(inches,centimeters))\n",
    "\n",
    "interact_manual(inches_to_centimeters, \n",
    "                inches = widgets.IntSlider()\n",
    "               )\n"
   ]
  },
  {
   "cell_type": "code",
   "execution_count": null,
   "metadata": {},
   "outputs": [],
   "source": [
    "def print_weather(isSunny, temperature, humidity, windy):\n",
    "    print('Sunny out? ', isSunny)\n",
    "    print('The temperature is {} with {} humidity.'.format(temperature, humidity))\n",
    "    print('The forecast calls for {}.'.format(windy))\n",
    "    if (windy == 'strong gusts'):\n",
    "        print('Secure your outdoor furniture!')\n",
    "\n",
    "print_weather( True,  80, 'low', 'light wind')"
   ]
  },
  {
   "cell_type": "code",
   "execution_count": 8,
   "metadata": {},
   "outputs": [
    {
     "data": {
      "application/vnd.jupyter.widget-view+json": {
       "model_id": "1cc5aea89c6b4bdba63785b97a352175",
       "version_major": 2,
       "version_minor": 0
      },
      "text/plain": [
       "interactive(children=(Checkbox(value=False, description='isSunny'), IntText(value=0, description='temperature'…"
      ]
     },
     "metadata": {},
     "output_type": "display_data"
    },
    {
     "data": {
      "text/plain": [
       "<function __main__.print_weather>"
      ]
     },
     "execution_count": 8,
     "metadata": {},
     "output_type": "execute_result"
    }
   ],
   "source": [
    "def print_weather(isSunny, temperature, humidity, windy):\n",
    "    print('Sunny out? ', isSunny)\n",
    "    print('The temperature is {} with {} humidity.'.format(temperature, humidity))\n",
    "    print('The forecast calls for {}.'.format(windy))\n",
    "    if (windy == 'strong gusts'):\n",
    "        print('Secure your outdoor furniture!')\n",
    "\n",
    "interact_manual(print_weather, \n",
    "            isSunny=widgets.Checkbox(),\n",
    "            temperature=widgets.IntText(),\n",
    "            humidity=widgets.Dropdown(options=['low', 'medium', 'high']),\n",
    "            windy=widgets.RadioButtons(options=['no wind','light gusts','strong gusts'])\n",
    "            )"
   ]
  },
  {
   "cell_type": "code",
   "execution_count": null,
   "metadata": {},
   "outputs": [],
   "source": [
    "def print_weather(isSunny, temperature, humidity, windy):\n",
    "    print('Sunny out? ', isSunny)\n",
    "    print('The temperature is {} with {} humidity.'.format(temperature, humidity))\n",
    "    print('The forecast calls for {}.'.format(windy))\n",
    "    if (windy == 'strong gusts'):\n",
    "        print('Secure your outdoor furniture!')\n",
    "\n",
    "#change the default values for each widget        \n",
    "interact_manual(print_weather, \n",
    "            isSunny=widgets.Checkbox(value=True),\n",
    "            temperature=widgets.BoundedIntText(value=70, min=30,  max=100),\n",
    "            humidity=widgets.Dropdown(options=['low', 'medium', 'high'], value='high'),\n",
    "            windy=widgets.RadioButtons(options=['no wind','light gusts','strong gusts'], value='strong gusts')\n",
    "            )"
   ]
  },
  {
   "cell_type": "code",
   "execution_count": null,
   "metadata": {},
   "outputs": [],
   "source": []
  }
 ],
 "metadata": {
  "kernelspec": {
   "display_name": "Python 3",
   "language": "python",
   "name": "python3"
  },
  "language_info": {
   "codemirror_mode": {
    "name": "ipython",
    "version": 3
   },
   "file_extension": ".py",
   "mimetype": "text/x-python",
   "name": "python",
   "nbconvert_exporter": "python",
   "pygments_lexer": "ipython3",
   "version": "3.6.9"
  }
 },
 "nbformat": 4,
 "nbformat_minor": 2
}
