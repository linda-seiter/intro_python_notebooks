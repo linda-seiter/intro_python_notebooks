{
 "cells": [
  {
   "cell_type": "code",
   "execution_count": null,
   "metadata": {},
   "outputs": [],
   "source": [
    "#make sure no extra spaces at beginning of each line.  \n",
    "age = 9   \n",
    "print(age)"
   ]
  },
  {
   "cell_type": "code",
   "execution_count": null,
   "metadata": {},
   "outputs": [],
   "source": [
    "major = 'computer science'    #string values must be enclosed in quotes\n",
    "print(major)"
   ]
  },
  {
   "cell_type": "code",
   "execution_count": null,
   "metadata": {},
   "outputs": [],
   "source": [
    "name = 'jamal'    \n",
    "print('Hello', name)"
   ]
  },
  {
   "cell_type": "code",
   "execution_count": null,
   "metadata": {},
   "outputs": [],
   "source": [
    "#input() function returns a string value entered through keyboard input\n",
    "\n",
    "print('what is your name?')\n",
    "name = input() \n",
    "print('Hello', name)"
   ]
  },
  {
   "cell_type": "code",
   "execution_count": null,
   "metadata": {},
   "outputs": [],
   "source": [
    "#USE THIS STYLE INSTEAD.  Pass the input a string to use as a prompt\n",
    "\n",
    "name = input('what is your name?') \n",
    "print('Hello', name)"
   ]
  },
  {
   "cell_type": "code",
   "execution_count": null,
   "metadata": {},
   "outputs": [],
   "source": [
    "height = 10\n",
    "width = 5\n",
    "area = height * width\n",
    "\n",
    "print('area = ', area)"
   ]
  },
  {
   "cell_type": "code",
   "execution_count": null,
   "metadata": {},
   "outputs": [],
   "source": [
    "'''\n",
    "The input() function returns a string.\n",
    "You must convert the string to an integer to perform math operations.\n",
    "Use int() function to convert a string to an integer.\n",
    "'''\n",
    "\n",
    "height = int(input('enter height: '))\n",
    "width = int(input('enter width: '))\n",
    "area = height * width\n",
    "\n",
    "print('area = ', area)"
   ]
  },
  {
   "cell_type": "code",
   "execution_count": null,
   "metadata": {},
   "outputs": [],
   "source": [
    "name = 'fred'  \n",
    "type(name)    #ask the name variable what type of value it stores\n"
   ]
  },
  {
   "cell_type": "code",
   "execution_count": null,
   "metadata": {},
   "outputs": [],
   "source": [
    "age = 100\n",
    "type(age)"
   ]
  },
  {
   "cell_type": "code",
   "execution_count": null,
   "metadata": {},
   "outputs": [],
   "source": [
    "my_str = '7'\n",
    "type(my_str)"
   ]
  },
  {
   "cell_type": "code",
   "execution_count": null,
   "metadata": {},
   "outputs": [],
   "source": [
    "my_int = int(my_str)  #convert the string to an integer using the int function\n",
    "type(my_int)"
   ]
  },
  {
   "cell_type": "code",
   "execution_count": null,
   "metadata": {},
   "outputs": [],
   "source": [
    "wage = 20\n",
    "hours = 40\n",
    "weeks = 50\n",
    "salary = wage * hours * weeks\n",
    "\n",
    "print('Salary is:', salary)\n"
   ]
  },
  {
   "cell_type": "code",
   "execution_count": null,
   "metadata": {},
   "outputs": [],
   "source": [
    "wage = int(input('wage:'))\n",
    "hours = int(input('hours'))\n",
    "weeks = int(input('weeks'))\n",
    "salary = wage * hours * weeks\n",
    "\n",
    "print('Salary is:', salary)\n"
   ]
  },
  {
   "cell_type": "code",
   "execution_count": null,
   "metadata": {},
   "outputs": [],
   "source": [
    "#use float function to convert a value to a floating point number\n",
    "\n",
    "wage = float(input('wage:'))\n",
    "hours = int(input('hours'))\n",
    "weeks = int(input('weeks'))\n",
    "salary = wage * hours * weeks\n",
    "\n",
    "print('Salary is:', salary)\n"
   ]
  },
  {
   "cell_type": "code",
   "execution_count": null,
   "metadata": {},
   "outputs": [],
   "source": [
    "dog_years = int(input('Enter age of dog (in years): '))\n",
    "human_years = 7 * dog_years\n",
    "\n",
    "#multiple comma-separated values in print function\n",
    "print(dog_years, 'dog years is about', human_years, 'human years.')"
   ]
  },
  {
   "cell_type": "code",
   "execution_count": null,
   "metadata": {},
   "outputs": [],
   "source": [
    "# Each print statement adds a newline character at the end of output string\n",
    "print('Hello')\n",
    "print('Fred')\n",
    "print('Smith')\n"
   ]
  },
  {
   "cell_type": "code",
   "execution_count": null,
   "metadata": {},
   "outputs": [],
   "source": [
    "#Print a space instead  of a newline at the end of the output string\n",
    "print('Hello', end=' ')\n",
    "print('Fred', end=' ')\n",
    "print('Smith')\n"
   ]
  },
  {
   "cell_type": "code",
   "execution_count": null,
   "metadata": {},
   "outputs": [],
   "source": [
    "print('Enter name:', end=' ')\n",
    "name = input()\n",
    "\n",
    "print('Hello',name)\n"
   ]
  },
  {
   "cell_type": "code",
   "execution_count": null,
   "metadata": {},
   "outputs": [],
   "source": [
    "#BETTER STYLE, pass prompt string into the input function\n",
    "name = input('Enter name:')\n",
    "\n",
    "print('Hello',name)\n"
   ]
  },
  {
   "cell_type": "code",
   "execution_count": null,
   "metadata": {},
   "outputs": [],
   "source": [
    "'''\n",
    "challenge: read in 3 scores as integers. Store in variables score1, scofre2, score3\n",
    "Compute and print the average\n",
    "'''\n",
    "\n",
    "score1=int(input('score#1:'))\n",
    "score2=int(input('score#2:'))\n",
    "score3=int(input('score#3:'))\n",
    "\n",
    "average = (score1 + score2 + score3)/3\n",
    "print('average = ', average)"
   ]
  },
  {
   "cell_type": "code",
   "execution_count": null,
   "metadata": {},
   "outputs": [],
   "source": [
    "#Use / to produce floating point value.  Use // to produce integer value\n",
    "\n",
    "print(7/2)\n",
    "print(7//2)"
   ]
  },
  {
   "cell_type": "code",
   "execution_count": null,
   "metadata": {},
   "outputs": [],
   "source": []
  }
 ],
 "metadata": {
  "kernelspec": {
   "display_name": "Python 3",
   "language": "python",
   "name": "python3"
  },
  "language_info": {
   "codemirror_mode": {
    "name": "ipython",
    "version": 3
   },
   "file_extension": ".py",
   "mimetype": "text/x-python",
   "name": "python",
   "nbconvert_exporter": "python",
   "pygments_lexer": "ipython3",
   "version": "3.6.9"
  }
 },
 "nbformat": 4,
 "nbformat_minor": 2
}
