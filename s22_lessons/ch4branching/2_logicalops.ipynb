{
 "cells": [
  {
   "cell_type": "code",
   "execution_count": null,
   "metadata": {},
   "outputs": [],
   "source": [
    "import math\n",
    "import random"
   ]
  },
  {
   "cell_type": "markdown",
   "metadata": {},
   "source": [
    "### Boolean Expressions and Boolean Variables"
   ]
  },
  {
   "cell_type": "code",
   "execution_count": null,
   "metadata": {},
   "outputs": [],
   "source": [
    "print( 5 < 7)"
   ]
  },
  {
   "cell_type": "code",
   "execution_count": null,
   "metadata": {},
   "outputs": [],
   "source": [
    "is_sunny = False\n",
    "is_raining = True\n",
    "\n",
    "print(is_sunny)\n",
    "print(is_raining)"
   ]
  },
  {
   "cell_type": "code",
   "execution_count": null,
   "metadata": {},
   "outputs": [],
   "source": [
    "temperature = 20\n",
    "is_cold = temperature < 32\n",
    "\n",
    "print(is_cold)"
   ]
  },
  {
   "cell_type": "markdown",
   "metadata": {},
   "source": [
    "### Boolean operators: not, and, or"
   ]
  },
  {
   "cell_type": "code",
   "execution_count": null,
   "metadata": {},
   "outputs": [],
   "source": [
    "print (True and True)\n",
    "print (True and False)\n",
    "print (False and True)\n",
    "print (False and False)"
   ]
  },
  {
   "cell_type": "code",
   "execution_count": null,
   "metadata": {},
   "outputs": [],
   "source": [
    "print (5<7 and 9 != 10)\n",
    "print (5<7 and 9 == 10)\n",
    "print (5>7 and 9 != 10)\n",
    "print (5>7 and 9 == 10)"
   ]
  },
  {
   "cell_type": "code",
   "execution_count": null,
   "metadata": {},
   "outputs": [],
   "source": [
    "print (True or True)\n",
    "print (True or False)\n",
    "print (False or True)\n",
    "print (False or False)"
   ]
  },
  {
   "cell_type": "code",
   "execution_count": null,
   "metadata": {},
   "outputs": [],
   "source": [
    "print (5<7 or 9 != 10)\n",
    "print (5<7 or 9 == 10)\n",
    "print (5>7 or 9 != 10)\n",
    "print (5>7 or 9 == 10)"
   ]
  },
  {
   "cell_type": "code",
   "execution_count": null,
   "metadata": {},
   "outputs": [],
   "source": [
    "print (not True)\n",
    "print (not False)"
   ]
  },
  {
   "cell_type": "code",
   "execution_count": null,
   "metadata": {},
   "outputs": [],
   "source": [
    "print (not 5 < 7)\n",
    "print (not 5 > 7)"
   ]
  },
  {
   "cell_type": "code",
   "execution_count": null,
   "metadata": {},
   "outputs": [],
   "source": [
    "age = int(input('enter age:'))\n",
    "name = input('enter name:')\n",
    "\n",
    "#print whether age exceeds 10 and name is Fred\n"
   ]
  },
  {
   "cell_type": "code",
   "execution_count": null,
   "metadata": {},
   "outputs": [],
   "source": [
    "age = int(input('enter age:'))\n",
    "name = input('enter name:')\n",
    "\n",
    "#print whether age exceeds 10 or name is Fred\n"
   ]
  },
  {
   "cell_type": "code",
   "execution_count": null,
   "metadata": {},
   "outputs": [],
   "source": [
    "age = int(input('enter age:'))\n",
    "#print whether age does not exceeds 10 \n"
   ]
  },
  {
   "cell_type": "code",
   "execution_count": null,
   "metadata": {},
   "outputs": [],
   "source": [
    "#simplify to remove the not by reversing the operator\n",
    "age = int(input('enter age:'))\n"
   ]
  },
  {
   "cell_type": "code",
   "execution_count": null,
   "metadata": {},
   "outputs": [],
   "source": []
  },
  {
   "cell_type": "code",
   "execution_count": null,
   "metadata": {},
   "outputs": [],
   "source": [
    "temperature = int(input('what is the temperature?'))\n",
    "money = int(input('how much money do you have?'))\n",
    "\n",
    "\n"
   ]
  },
  {
   "cell_type": "code",
   "execution_count": null,
   "metadata": {},
   "outputs": [],
   "source": []
  },
  {
   "cell_type": "code",
   "execution_count": null,
   "metadata": {},
   "outputs": [],
   "source": [
    "#RPS. Implement using == along with logical operator: and\n",
    "#Don't assume valid input (10 cases. 3 tie, 3 cases player1 wins, 3 cases player2 wins, invalid input)\n",
    "player1 = input(\"Player#1 weapon: rock, paper, scissors?\")\n",
    "player2 = input(\"Player#2 weapon: rock, paper, scissors?\")\n",
    "\n",
    "\n",
    "   "
   ]
  },
  {
   "cell_type": "code",
   "execution_count": null,
   "metadata": {},
   "outputs": [],
   "source": [
    "#RPS.  Try implementation using == along with logical operator and, or\n",
    "#4 cases (tie, player1, player2, invalid input)\n",
    "player1 = input(\"Player#1 weapon: rock, paper, scissors?\")\n",
    "player2 = input(\"Player#2 weapon: rock, paper, scissors?\")\n",
    "\n",
    "  "
   ]
  },
  {
   "cell_type": "code",
   "execution_count": null,
   "metadata": {},
   "outputs": [],
   "source": [
    "#break long expression into multiple line by wrapping in parentheses\n",
    "player1 = input(\"Player#1 weapon: rock, paper, scissors?\")\n",
    "player2 = input(\"Player#2 weapon: rock, paper, scissors?\")\n",
    "\n"
   ]
  },
  {
   "cell_type": "markdown",
   "metadata": {},
   "source": [
    "Operator Precedence:  not, and, or"
   ]
  },
  {
   "cell_type": "code",
   "execution_count": null,
   "metadata": {},
   "outputs": [],
   "source": [
    "sky = input('sky:')\n",
    "temperature = int(input('temperature:'))\n",
    "\n",
    "#Play outside when temperature at least 50 and it is either cloudy or sunny outside\n",
    "#Play inside when the temperature is below 50 or if the sky is not cloudy or sunny\n",
    "#ERROR: and has higher precedence than or\n",
    "if (temperature>= 50 and sky == 'cloudy' or sky == 'sunny'):\n",
    "    print('play outside')\n",
    "else:\n",
    "    print('play inside')"
   ]
  },
  {
   "cell_type": "code",
   "execution_count": null,
   "metadata": {},
   "outputs": [],
   "source": [
    "sky = input('sky:')\n",
    "temperature = int(input('temperature:'))\n",
    "\n",
    "#Need parenthesis around or condition to override and\n"
   ]
  },
  {
   "cell_type": "code",
   "execution_count": null,
   "metadata": {},
   "outputs": [],
   "source": [
    "sky = input('sky:')\n",
    "\n",
    "#Play outside if it is not raining or snowing.\n",
    "#This is incorrect\n",
    "if (not sky == 'raining' or sky == 'snowing'):\n",
    "    print('play outside')\n",
    "else:\n",
    "    print('play inside')"
   ]
  },
  {
   "cell_type": "code",
   "execution_count": null,
   "metadata": {},
   "outputs": [],
   "source": [
    "sky = input('sky:')\n",
    "\n",
    "#Play outside if it is not raining or snowing.\n",
    "#Need parenthesis around or to override not\n"
   ]
  },
  {
   "cell_type": "code",
   "execution_count": null,
   "metadata": {},
   "outputs": [],
   "source": [
    "sky = input('sky:')\n",
    "\n",
    "#Play outside if it is not raining or snowing.\n",
    "#DeMorgan's Laws.  Simplify not\n"
   ]
  },
  {
   "cell_type": "markdown",
   "metadata": {},
   "source": [
    "### DeMorgan's Law"
   ]
  },
  {
   "cell_type": "markdown",
   "metadata": {},
   "source": [
    "not (a or b)  is equivalent to (not a and not b)\n",
    "\n",
    "not (a and b)  is equivalent to (not a or not b)"
   ]
  },
  {
   "cell_type": "markdown",
   "metadata": {},
   "source": [
    " ### Simplify using DeMorgan's Law\n",
    " \n",
    " not(age > 10 and name == 'Fred' ) \n",
    " \n",
    " is equivalent to:\n",
    " \n",
    " not(age > 10) or not(name == 'Fred') \n",
    " \n",
    " this is further simplified to:\n",
    " \n",
    " (age <= 10) or (name != 'Fred') "
   ]
  },
  {
   "cell_type": "markdown",
   "metadata": {},
   "source": [
    "###  Simplify using DeMorgan's Law\n",
    " \n",
    " not(age > 10 or name == 'Fred' ) \n",
    " \n",
    " is equivalent to:\n",
    " \n",
    " not(age > 10) and not(name == 'Fred') \n",
    " \n",
    " this is further simplified to:\n",
    " \n",
    " (age <= 10) and (name != 'Fred') \n",
    " \n"
   ]
  },
  {
   "cell_type": "code",
   "execution_count": null,
   "metadata": {},
   "outputs": [],
   "source": []
  }
 ],
 "metadata": {
  "kernelspec": {
   "display_name": "Python 3",
   "language": "python",
   "name": "python3"
  },
  "language_info": {
   "codemirror_mode": {
    "name": "ipython",
    "version": 3
   },
   "file_extension": ".py",
   "mimetype": "text/x-python",
   "name": "python",
   "nbconvert_exporter": "python",
   "pygments_lexer": "ipython3",
   "version": "3.6.9"
  }
 },
 "nbformat": 4,
 "nbformat_minor": 2
}
