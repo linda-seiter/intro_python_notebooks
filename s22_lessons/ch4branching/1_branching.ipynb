{
 "cells": [
  {
   "cell_type": "markdown",
   "metadata": {},
   "source": [
    "[Visualize the code using the Python tutor](http://pythontutor.com/visualize.html#mode=edit)"
   ]
  },
  {
   "cell_type": "code",
   "execution_count": 1,
   "metadata": {},
   "outputs": [],
   "source": [
    "import math\n",
    "import random\n",
    "from ipycanvas import Canvas"
   ]
  },
  {
   "cell_type": "markdown",
   "metadata": {},
   "source": [
    "## Boolean Expressions"
   ]
  },
  {
   "cell_type": "code",
   "execution_count": null,
   "metadata": {},
   "outputs": [],
   "source": [
    "num1 = 20\n",
    "num2 = 20\n",
    "num3 = 35\n",
    "\n",
    "# A boolean expression evaluates to True or False\n",
    "\n",
    "# Compare values using relational operators <, <=, >, >=\n",
    "print( 'num1 < num3', num1 < num3)\n",
    "print( 'num3 >= num2', num3 >= num2)\n",
    "print( 'num1 >= num2', num1 >= num2)\n",
    "\n",
    "\n",
    "# Equality  == \n",
    "# Inequality != \n",
    "\n",
    "print('num1 == num2', num1 == num2)\n",
    "print('num1 != num2', num1 != num2)\n",
    "\n"
   ]
  },
  {
   "cell_type": "code",
   "execution_count": 2,
   "metadata": {
    "scrolled": true
   },
   "outputs": [
    {
     "name": "stdout",
     "output_type": "stream",
     "text": [
      "age:6\n",
      "False\n"
     ]
    }
   ],
   "source": [
    "#assigning a boolean value to a variable\n",
    "age = int(input('age:'))\n",
    "atleast18 = (age >= 18)\n",
    "print(atleast18)"
   ]
  },
  {
   "cell_type": "markdown",
   "metadata": {},
   "source": [
    "## IF"
   ]
  },
  {
   "cell_type": "code",
   "execution_count": null,
   "metadata": {},
   "outputs": [],
   "source": [
    "#PA 4.2.1\n",
    "#Step through with Python visualizer  https://pythontutor.com/visualize.html#mode=edit\n",
    "\n",
    "hotel_rate = 155\n",
    "\n",
    "user_age = int(input('Enter age: '))\n",
    "\n",
    "if user_age > 65:\n",
    "   hotel_rate = hotel_rate - 20\n",
    "\n",
    "print('Your hotel rate:', hotel_rate) "
   ]
  },
  {
   "cell_type": "code",
   "execution_count": null,
   "metadata": {},
   "outputs": [],
   "source": [
    "#Challenge: prompt for pay and hours.  Give $50 bonus if worked more than 40 hours\n"
   ]
  },
  {
   "cell_type": "markdown",
   "metadata": {},
   "source": [
    "## 2 branches:  IF ELSE"
   ]
  },
  {
   "cell_type": "code",
   "execution_count": null,
   "metadata": {},
   "outputs": [],
   "source": [
    "#PA 4.2.3\n",
    "\n",
    "user_age = int(input('Enter age: '))\n",
    "\n",
    "if user_age < 25:\n",
    "    insurance_price = 4800\n",
    "else:\n",
    "    insurance_price = 2200\n",
    "\n",
    "print('Annual price: ${}'.format(insurance_price))"
   ]
  },
  {
   "cell_type": "code",
   "execution_count": null,
   "metadata": {},
   "outputs": [],
   "source": [
    "#CHALLENGE: PA4.1.9\n",
    "#Prompt user for two values x and y.  \n",
    "#Assign variable max to larger value.\n",
    "#Print the max value.\n",
    "\n"
   ]
  },
  {
   "cell_type": "markdown",
   "metadata": {},
   "source": [
    "## Multibranch: IF ELIF ... ELSE"
   ]
  },
  {
   "cell_type": "code",
   "execution_count": null,
   "metadata": {},
   "outputs": [],
   "source": [
    "# PA 4.2.1\n",
    "\n",
    "num_years = int(input('Enter number years married: '))\n",
    "\n",
    "if num_years == 1:\n",
    "    print('Your first year -- great!')\n",
    "elif num_years == 10:\n",
    "    print('A whole decade -- impressive.')\n",
    "elif num_years == 25:\n",
    "    print('Your silver anniversary -- enjoy.')\n",
    "elif num_years == 50:\n",
    "    print('Your golden anniversary -- amazing.')\n",
    "else:\n",
    "    print('Nothing special.')\n",
    "    \n",
    "print('DONE')"
   ]
  },
  {
   "cell_type": "code",
   "execution_count": null,
   "metadata": {},
   "outputs": [],
   "source": [
    "#You don't have to have an else (catch all if other tests don't match)\n",
    "\n",
    "forecast = input('enter the weather forecast:')\n",
    "if (forecast == 'raining'):\n",
    "    print('take umbrella')\n",
    "elif (forecast == 'sunny'):\n",
    "    print('take sunglasses')\n",
    "elif (forecast == 'snowing'):\n",
    "    print('take warm coat')\n"
   ]
  },
  {
   "cell_type": "markdown",
   "metadata": {},
   "source": [
    "## Practice - Non executable cells"
   ]
  },
  {
   "cell_type": "markdown",
   "metadata": {},
   "source": [
    "![branching question 1](q1.JPG \"Branching\")"
   ]
  },
  {
   "cell_type": "code",
   "execution_count": null,
   "metadata": {},
   "outputs": [],
   "source": []
  },
  {
   "cell_type": "markdown",
   "metadata": {},
   "source": [
    "![branching question2](q2.JPG \"Branching\")"
   ]
  },
  {
   "cell_type": "code",
   "execution_count": null,
   "metadata": {},
   "outputs": [],
   "source": [
    "'''\n",
    "CHALLENGE: \n",
    "Prompt for number of people.\n",
    "If number of people is greater than 6, set num_pizzas to 2, otherwise num_pizzas should be 1.\n",
    "Print the number of pizzas\n",
    "\n",
    "''' \n",
    "\n",
    "num_people = int(input('enter #people:'))\n",
    "\n"
   ]
  },
  {
   "cell_type": "code",
   "execution_count": null,
   "metadata": {},
   "outputs": [],
   "source": [
    "'''\n",
    "CHALLENGE:\n",
    "Prompt for age.\n",
    "If age is under 12 then price is 12.99, \n",
    "otherwise if age is under 65 then price is 18.99, \n",
    "otherwise price is 15.99\n",
    "\n",
    "''' \n",
    "\n",
    "age = int(input('enter age:'))\n",
    "\n"
   ]
  },
  {
   "cell_type": "code",
   "execution_count": null,
   "metadata": {},
   "outputs": [],
   "source": [
    "'''\n",
    "CHALLENGE: Prompt for major code.\n",
    "If major code is 'cs' the print 'computer science',\n",
    "otherwise if major code is 'data' the print 'data science',\n",
    "otherwise if major code is 'ec' the print 'economics',\n",
    "otherwise if major code is 'po' the print 'political science',\n",
    "otherwise print 'unknown'\n",
    "\n",
    "''' \n",
    "\n",
    "\n",
    "code = input('enter major code:')\n",
    "\n",
    "\n",
    "    \n"
   ]
  },
  {
   "cell_type": "markdown",
   "metadata": {},
   "source": [
    "## Testing random numbers\n"
   ]
  },
  {
   "cell_type": "code",
   "execution_count": null,
   "metadata": {},
   "outputs": [],
   "source": [
    "# simulate a coin flip, two choices\n",
    "\n",
    "coin = random.randint(1,2)\n",
    "\n",
    "if coin == 1:\n",
    "    print('heads')\n",
    "else:\n",
    "    print('tails')"
   ]
  },
  {
   "cell_type": "code",
   "execution_count": null,
   "metadata": {},
   "outputs": [],
   "source": [
    "#Recall mod function (remainder)\n",
    "print(7 % 2)\n",
    "print(6 % 2)"
   ]
  },
  {
   "cell_type": "code",
   "execution_count": null,
   "metadata": {},
   "outputs": [],
   "source": [
    "# testing parity (even or odd)\n",
    "\n",
    "num = random.randint(1,100)\n",
    "\n",
    "if num % 2 == 0:\n",
    "    print(num,' is even')\n",
    "else:\n",
    "      print(num,' is even')"
   ]
  },
  {
   "cell_type": "code",
   "execution_count": null,
   "metadata": {},
   "outputs": [],
   "source": [
    "'''\n",
    "CHALLENGE: \n",
    "generate random temperature between 0 and 100.\n",
    "print the temperature, then test the value.\n",
    "if temperature is at or below freezing 'stay inside and watch tv'\n",
    "otherwise if below 80 print 'go for a walk in the park'\n",
    "otherwise print 'go to the beach'\n",
    "''' \n",
    "\n"
   ]
  },
  {
   "cell_type": "markdown",
   "metadata": {},
   "source": [
    "### Branching with graphics"
   ]
  },
  {
   "cell_type": "code",
   "execution_count": null,
   "metadata": {},
   "outputs": [],
   "source": [
    "def handle_mouse_down(x,y):\n",
    "    #generate random number and test to set pen color\n",
    "    num = random.randint(1,2)\n",
    "    if num == 1:\n",
    "        canvas.fill_style = 'blue'\n",
    "    else:\n",
    "        canvas.fill_style = 'red'\n",
    "    #draw a circle at mouse location\n",
    "    canvas.fill_circle(x,y,5) \n",
    "    \n",
    "    \n",
    "\n",
    "#main algorithm\n",
    "canvas = Canvas(width=400, height=400)\n",
    "display(canvas)\n",
    "canvas.stroke_style = 'black'\n",
    "canvas.stroke_rect(0,0,400,400)   \n",
    "canvas.on_mouse_down(handle_mouse_down)"
   ]
  },
  {
   "cell_type": "code",
   "execution_count": null,
   "metadata": {},
   "outputs": [],
   "source": [
    "#CHALLENGE:Set pen to blue if mouse clicked in left half of window, otherwise red\n",
    "    \n",
    "\n",
    "def handle_mouse_down(x,y):\n",
    "    #test mouse location to set pen color.\n",
    "   \n",
    "        \n",
    "    #draw a circle at mouse location\n",
    "    canvas.fill_circle(x,y,5) \n",
    "    canvas.fill_text('hi',x+5,y)  #shift text to the right a bit\n",
    "    canvas.fill_text('x={:.0f}'.format(x),x,y+20)  #x is a float, format with no digits after decimal pt\n",
    "    \n",
    "\n",
    "#main algorithm\n",
    "canvas = Canvas(width=400, height=400)\n",
    "display(canvas)\n",
    "canvas.stroke_style = 'black'\n",
    "canvas.stroke_rect(0,0,400,400)   \n",
    "canvas.stroke_line(200, 0, 200, 400)\n",
    "canvas.on_mouse_down(handle_mouse_down)\n",
    "canvas.font = '16px serif'"
   ]
  },
  {
   "cell_type": "code",
   "execution_count": null,
   "metadata": {},
   "outputs": [],
   "source": []
  }
 ],
 "metadata": {
  "kernelspec": {
   "display_name": "Python 3",
   "language": "python",
   "name": "python3"
  },
  "language_info": {
   "codemirror_mode": {
    "name": "ipython",
    "version": 3
   },
   "file_extension": ".py",
   "mimetype": "text/x-python",
   "name": "python",
   "nbconvert_exporter": "python",
   "pygments_lexer": "ipython3",
   "version": "3.6.9"
  }
 },
 "nbformat": 4,
 "nbformat_minor": 2
}
