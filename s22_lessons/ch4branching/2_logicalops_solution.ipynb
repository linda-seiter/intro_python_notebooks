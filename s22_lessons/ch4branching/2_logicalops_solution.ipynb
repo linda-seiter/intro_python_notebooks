{
 "cells": [
  {
   "cell_type": "code",
   "execution_count": 1,
   "metadata": {},
   "outputs": [],
   "source": [
    "import math\n",
    "import random\n",
    "from ipycanvas import Canvas\n",
    "from time import sleep"
   ]
  },
  {
   "cell_type": "markdown",
   "metadata": {},
   "source": [
    "### Boolean Expressions and Boolean Variables"
   ]
  },
  {
   "cell_type": "code",
   "execution_count": null,
   "metadata": {},
   "outputs": [],
   "source": [
    "print( 5 < 7)"
   ]
  },
  {
   "cell_type": "code",
   "execution_count": null,
   "metadata": {},
   "outputs": [],
   "source": [
    "is_sunny = False\n",
    "is_raining = True\n",
    "\n",
    "print(is_sunny)\n",
    "print(is_raining)"
   ]
  },
  {
   "cell_type": "code",
   "execution_count": null,
   "metadata": {},
   "outputs": [],
   "source": [
    "temperature = 20\n",
    "is_cold = temperature < 32\n",
    "\n",
    "print(is_cold)"
   ]
  },
  {
   "cell_type": "markdown",
   "metadata": {},
   "source": [
    "### Boolean operators: not, and, or"
   ]
  },
  {
   "cell_type": "code",
   "execution_count": 1,
   "metadata": {},
   "outputs": [
    {
     "name": "stdout",
     "output_type": "stream",
     "text": [
      "True\n",
      "False\n",
      "False\n",
      "False\n"
     ]
    }
   ],
   "source": [
    "print (True and True)\n",
    "print (True and False)\n",
    "print (False and True)\n",
    "print (False and False)"
   ]
  },
  {
   "cell_type": "code",
   "execution_count": 2,
   "metadata": {},
   "outputs": [
    {
     "name": "stdout",
     "output_type": "stream",
     "text": [
      "True\n",
      "False\n",
      "False\n",
      "False\n"
     ]
    }
   ],
   "source": [
    "print (5<7 and 9 != 10)\n",
    "print (5<7 and 9 == 10)\n",
    "print (5>7 and 9 != 10)\n",
    "print (5>7 and 9 == 10)"
   ]
  },
  {
   "cell_type": "code",
   "execution_count": 3,
   "metadata": {},
   "outputs": [
    {
     "name": "stdout",
     "output_type": "stream",
     "text": [
      "True\n",
      "True\n",
      "True\n",
      "False\n"
     ]
    }
   ],
   "source": [
    "print (True or True)\n",
    "print (True or False)\n",
    "print (False or True)\n",
    "print (False or False)"
   ]
  },
  {
   "cell_type": "code",
   "execution_count": 4,
   "metadata": {},
   "outputs": [
    {
     "name": "stdout",
     "output_type": "stream",
     "text": [
      "True\n",
      "True\n",
      "True\n",
      "False\n"
     ]
    }
   ],
   "source": [
    "print (5<7 or 9 != 10)\n",
    "print (5<7 or 9 == 10)\n",
    "print (5>7 or 9 != 10)\n",
    "print (5>7 or 9 == 10)"
   ]
  },
  {
   "cell_type": "code",
   "execution_count": 5,
   "metadata": {},
   "outputs": [
    {
     "name": "stdout",
     "output_type": "stream",
     "text": [
      "False\n",
      "True\n"
     ]
    }
   ],
   "source": [
    "print (not True)\n",
    "print (not False)"
   ]
  },
  {
   "cell_type": "code",
   "execution_count": 6,
   "metadata": {},
   "outputs": [
    {
     "name": "stdout",
     "output_type": "stream",
     "text": [
      "False\n",
      "True\n"
     ]
    }
   ],
   "source": [
    "print (not 5 < 7)\n",
    "print (not 5 > 7)"
   ]
  },
  {
   "cell_type": "code",
   "execution_count": null,
   "metadata": {},
   "outputs": [],
   "source": [
    "age = int(input('enter age:'))\n",
    "name = input('enter name:')\n",
    "\n",
    "print( age > 10 and name == 'Fred' )"
   ]
  },
  {
   "cell_type": "code",
   "execution_count": null,
   "metadata": {},
   "outputs": [],
   "source": [
    "age = int(input('enter age:'))\n",
    "name = input('enter name:')\n",
    "\n",
    "print( age > 10 or name == 'Fred' )"
   ]
  },
  {
   "cell_type": "code",
   "execution_count": null,
   "metadata": {},
   "outputs": [],
   "source": [
    "age = int(input('enter age:'))\n",
    "print( not (age > 10) )"
   ]
  },
  {
   "cell_type": "code",
   "execution_count": null,
   "metadata": {},
   "outputs": [],
   "source": [
    "#simplify not (age > 10)\n",
    "age = int(input('enter age:'))\n",
    "print( age <= 10 )"
   ]
  },
  {
   "cell_type": "code",
   "execution_count": null,
   "metadata": {},
   "outputs": [],
   "source": []
  },
  {
   "cell_type": "code",
   "execution_count": 41,
   "metadata": {},
   "outputs": [
    {
     "name": "stdout",
     "output_type": "stream",
     "text": [
      "what is the temperature?90\n",
      "how much money do you have?99\n",
      "go to outdoor concert\n"
     ]
    }
   ],
   "source": [
    "temperature = int(input('what is the temperature?'))\n",
    "money = int(input('how much money do you have?'))\n",
    "\n",
    "if temperature < 50 and money > 20:\n",
    "    print('go to the movies')\n",
    "elif temperature < 50 and money <= 20:\n",
    "    print('watch tv')\n",
    "elif temperature >= 50 and money > 20:\n",
    "    print('go to outdoor concert')\n",
    "else:\n",
    "    print('take a walk in the park')\n"
   ]
  },
  {
   "cell_type": "code",
   "execution_count": null,
   "metadata": {},
   "outputs": [],
   "source": []
  },
  {
   "cell_type": "code",
   "execution_count": 14,
   "metadata": {},
   "outputs": [
    {
     "name": "stdout",
     "output_type": "stream",
     "text": [
      "Player#1 weapon: rock, paper, scissors?r\n",
      "Player#2 weapon: rock, paper, scissors?r\n",
      "That's not a valid play. Check your spelling!\n"
     ]
    }
   ],
   "source": [
    "#RPS. Implement using == along with logical operator: and\n",
    "#Don't assume valid input (10 cases. 3 tie, 3 cases player1 wins, 3 cases player2 wins, invalid input)\n",
    "player1 = input(\"Player#1 weapon: rock, paper, scissors?\")\n",
    "player2 = input(\"Player#2 weapon: rock, paper, scissors?\")\n",
    "\n",
    "if player1 == \"rock\" and player2 ==  \"rock\":\n",
    "    print(\"Tie!\")\n",
    "elif player1 == \"paper\" and player2 ==  \"paper\":\n",
    "    print(\"Tie!\")\n",
    "elif player1 == \"scissors\" and player2 ==  \"scissors\":\n",
    "    print(\"Tie!\")\n",
    "elif player1 == \"rock\" and player2 == \"paper\":\n",
    "    print(\"Player#2 wins\")\n",
    "elif player1 == \"rock\" and player2 == \"scissors\":\n",
    "    print(\"Player#1 wins\")\n",
    "elif player1 == \"paper\" and player2 == \"scissors\":\n",
    "    print(\"Player#2 wins\")\n",
    "elif player1 == \"paper\" and player2 == \"rock\":\n",
    "    print(\"Player#1 wins\")\n",
    "elif player1 == \"scissors\"and player2 == \"rock\":\n",
    "    print(\"Player#2 wins\")\n",
    "elif player1 == \"scissors\"and player2 == \"paper\":\n",
    "        print(\"Player#1 wins\")\n",
    "else:\n",
    "    print(\"That's not a valid play. Check your spelling!\")\n",
    "   "
   ]
  },
  {
   "cell_type": "code",
   "execution_count": 11,
   "metadata": {},
   "outputs": [
    {
     "name": "stdout",
     "output_type": "stream",
     "text": [
      "Player#1 weapon: rock, paper, scissors?rock\n",
      "Player#2 weapon: rock, paper, scissors?paper\n",
      "Player#2 wins\n"
     ]
    }
   ],
   "source": [
    "#RPS.  Try implementation using == along with logical operator and, or\n",
    "#4 cases (tie, player1, player2, invalid input)\n",
    "player1 = input(\"Player#1 weapon: rock, paper, scissors?\")\n",
    "player2 = input(\"Player#2 weapon: rock, paper, scissors?\")\n",
    "\n",
    "if player1 == \"rock\" and player2 ==  \"rock\" or player1 == \"paper\" and player2 ==  \"paper\" or player1 == \"scissors\" and player2 ==  \"scissors\":\n",
    "    print(\"Tie!\")\n",
    "elif player1 == \"rock\" and player2 == \"scissors\" or player1 == \"paper\" and player2 == \"rock\" or player1 == \"scissors\"and player2 == \"paper\":\n",
    "    print(\"Player#1 wins\")\n",
    "elif player1 == \"paper\" and player2 == \"scissors\" or player1 == \"scissors\"and player2 == \"rock\" or player1 == \"rock\"and player2 == \"paper\":\n",
    "    print(\"Player#2 wins\")\n",
    "else:\n",
    "    print(\"That's not a valid play. Check your spelling!\")\n",
    "   "
   ]
  },
  {
   "cell_type": "code",
   "execution_count": 15,
   "metadata": {},
   "outputs": [
    {
     "name": "stdout",
     "output_type": "stream",
     "text": [
      "Player#1 weapon: rock, paper, scissors?rock\n",
      "Player#2 weapon: rock, paper, scissors?rock\n",
      "Tie!\n"
     ]
    }
   ],
   "source": [
    "#break long expression into multiple line by wrapping in parentheses\n",
    "player1 = input(\"Player#1 weapon: rock, paper, scissors?\")\n",
    "player2 = input(\"Player#2 weapon: rock, paper, scissors?\")\n",
    "\n",
    "if (player1 == \"rock\" and player2 ==  \"rock\" or \n",
    "    player1 == \"paper\" and player2 ==  \"paper\" or \n",
    "    player1 == \"scissors\" and player2 ==  \"scissors\"):\n",
    "    print(\"Tie!\")\n",
    "elif (player1 == \"rock\" and player2 == \"scissors\" or \n",
    "      player1 == \"paper\" and player2 == \"rock\" or \n",
    "      player1 == \"scissors\"and player2 == \"paper\"):\n",
    "    print(\"Player#1 wins\")\n",
    "elif (player1 == \"paper\" and player2 == \"scissors\" or \n",
    "      player1 == \"scissors\"and player2 == \"rock\" or \n",
    "      player1 == \"rock\"and player2 == \"paper\"):\n",
    "    print(\"Player#2 wins\")\n",
    "else:\n",
    "    print(\"That's not a valid play. Check your spelling!\")\n",
    "   "
   ]
  },
  {
   "cell_type": "markdown",
   "metadata": {},
   "source": [
    "Operator Precedence:  not, and, or"
   ]
  },
  {
   "cell_type": "code",
   "execution_count": 16,
   "metadata": {},
   "outputs": [
    {
     "name": "stdout",
     "output_type": "stream",
     "text": [
      "sky:sunny\n",
      "temperature:20\n",
      "play outside\n"
     ]
    }
   ],
   "source": [
    "sky = input('sky:')\n",
    "temperature = int(input('temperature:'))\n",
    "\n",
    "#Play outside when temperature at least 50 and it is either cloudy or sunny outside\n",
    "#Play inside when the temperature is below 50 or if the sky is not cloudy or sunny\n",
    "#INCORRECT VERSION\n",
    "if (temperature>= 50 and sky == 'cloudy' or sky == 'sunny'):\n",
    "    print('play outside')\n",
    "else:\n",
    "    print('play inside')"
   ]
  },
  {
   "cell_type": "code",
   "execution_count": 16,
   "metadata": {},
   "outputs": [
    {
     "name": "stdout",
     "output_type": "stream",
     "text": [
      "sky:sunny\n",
      "temperature:20\n",
      "play outside\n"
     ]
    }
   ],
   "source": [
    "sky = input('sky:')\n",
    "temperature = int(input('temperature:'))\n",
    "\n",
    "#Need parenthesis around or condition to override and\n",
    "if (temperature>= 50 and (sky == 'cloudy' or sky == 'sunny')):\n",
    "    print('play outside')\n",
    "else:\n",
    "    print('play inside')"
   ]
  },
  {
   "cell_type": "code",
   "execution_count": null,
   "metadata": {},
   "outputs": [],
   "source": [
    "#Implement using nested conditionals\n",
    "sky = input('sky:')\n",
    "temperature = int(input('temperature:'))\n",
    "\n",
    "#Need parenthesis around or condition to override and\n",
    "if temperature>= 50:\n",
    "    if sky == 'cloudy':\n",
    "        print('play outside')\n",
    "    elif sky == 'sunny':\n",
    "        print('play outside')\n",
    "    else:\n",
    "        print('play inside')\n",
    "else:\n",
    "    print('play inside')"
   ]
  },
  {
   "cell_type": "code",
   "execution_count": 19,
   "metadata": {},
   "outputs": [
    {
     "name": "stdout",
     "output_type": "stream",
     "text": [
      "sky:raining\n",
      "play inside\n"
     ]
    }
   ],
   "source": [
    "sky = input('sky:')\n",
    "\n",
    "#Play outside if it is not raining or snowing.\n",
    "#INCORRECT VERSION\n",
    "if (not sky == 'raining' or sky == 'snowing'):\n",
    "    print('play outside')\n",
    "else:\n",
    "    print('play inside')"
   ]
  },
  {
   "cell_type": "code",
   "execution_count": 20,
   "metadata": {},
   "outputs": [
    {
     "name": "stdout",
     "output_type": "stream",
     "text": [
      "sky:snowing\n",
      "play inside\n"
     ]
    }
   ],
   "source": [
    "sky = input('sky:')\n",
    "\n",
    "#Play outside if it is not raining or snowing.\n",
    "#Need parenthesis around or to override not\n",
    "if (not (sky == 'raining' or sky == 'snowing')):\n",
    "    print('play outside')\n",
    "else:\n",
    "    print('play inside')"
   ]
  },
  {
   "cell_type": "code",
   "execution_count": 20,
   "metadata": {},
   "outputs": [
    {
     "name": "stdout",
     "output_type": "stream",
     "text": [
      "sky:snowing\n",
      "play inside\n"
     ]
    }
   ],
   "source": [
    "sky = input('sky:')\n",
    "\n",
    "#Play outside if it is not raining or snowing.\n",
    "#DeMorgan's Laws.  Simplify not\n",
    "#Test what should be true, not what should be false\n",
    "if (sky != 'raining' and sky != 'snowing'):\n",
    "    print('play outside')\n",
    "else:\n",
    "    print('play inside')"
   ]
  },
  {
   "cell_type": "code",
   "execution_count": null,
   "metadata": {},
   "outputs": [],
   "source": [
    "#Nested conditionals version\n",
    "sky = input('sky:')\n",
    "\n",
    "#Play outside if it is not raining or snowing.\n",
    "#DeMorgan's Laws.  Simplify not\n",
    "if sky != 'raining': \n",
    "    if sky != 'snowing':\n",
    "        print('play outside')\n",
    "    else:\n",
    "        print('play inside')\n",
    "else:\n",
    "    print('play inside')"
   ]
  },
  {
   "cell_type": "markdown",
   "metadata": {},
   "source": [
    "### DeMorgan's Law"
   ]
  },
  {
   "cell_type": "markdown",
   "metadata": {},
   "source": [
    "not (a or b)  is equivalent to (not a and not b)\n",
    "\n",
    "not (a and b)  is equivalent to (not a or not b)"
   ]
  },
  {
   "cell_type": "markdown",
   "metadata": {},
   "source": [
    " ### Simplify using DeMorgan's Law\n",
    " \n",
    " not(age > 10 and name == 'Fred' ) \n",
    " \n",
    " is equivalent to:\n",
    " \n",
    " not(age > 10) or not(name == 'Fred') \n",
    " \n",
    " this is further simplified to:\n",
    " \n",
    " (age <= 10) or (name != 'Fred') "
   ]
  },
  {
   "cell_type": "markdown",
   "metadata": {},
   "source": [
    "###  Simplify using DeMorgan's Law\n",
    " \n",
    " not(age > 10 or name == 'Fred' ) \n",
    " \n",
    " is equivalent to:\n",
    " \n",
    " not(age > 10) and not(name == 'Fred') \n",
    " \n",
    " this is further simplified to:\n",
    " \n",
    " (age <= 10) and (name != 'Fred') \n",
    " \n"
   ]
  },
  {
   "cell_type": "code",
   "execution_count": null,
   "metadata": {},
   "outputs": [],
   "source": [
    "#CHALLENGE.  \n",
    "#Simplify each expression using DeMorgan's Law\n",
    "#Remove unnecessary parenthesis in the solution.\n",
    "not (x > 2 and y <= 4)\n",
    "SOLUTION: \n",
    "not (x > 2) or not (y <= 4)\n",
    "x <= 2 or y > 4    \n",
    "\n",
    "not(x == 2 and y > 4)\n",
    "not(x == 2) or not (y > 4)\n",
    "x != 2 or y <= 4\n",
    "\n",
    "not (x > 5 or y < 7)\n",
    "not(x > 5) and not (y < 7)\n",
    "x <= 4 and y >= 7\n",
    "\n",
    "not (x < y and not (a == b))\n",
    "not (x < y) or not (not (a == b))\n",
    "x >= y or a == b\n",
    "\n",
    "not (x < 7 and (y < 10 or z == 12))\n",
    "not (x < 7) or not (y < 10 or z == 12)\n",
    "x >= 7 or (not (y < 10) and not (z == 12))\n",
    "x >= 7 or (y >= 10 and z != 12)\n",
    "x >= 7 or y >= 10 and z != 12\n",
    "\n",
    "not (a == b or (c < d and e == f))\n",
    "not (a == b) and not (c < d and e == f)\n",
    "a != b and (not (c < d) or not (e == f))\n",
    "a != b and (c >= d or e != f)\n"
   ]
  },
  {
   "cell_type": "code",
   "execution_count": 10,
   "metadata": {},
   "outputs": [
    {
     "data": {
      "application/vnd.jupyter.widget-view+json": {
       "model_id": "",
       "version_major": 2,
       "version_minor": 0
      },
      "text/plain": [
       "Canvas(height=400, width=400)"
      ]
     },
     "metadata": {},
     "output_type": "display_data"
    }
   ],
   "source": [
    "\n",
    "canvas = Canvas(width=400, height=400)\n",
    "display(canvas)\n",
    "top_line_y = 100\n",
    "bottom_line_y = 300\n",
    "\n",
    "for i in range(10):\n",
    "    #redraw canvas border and horizontal lines\n",
    "    canvas.clear()\n",
    "    canvas.stroke_rect(0,0,400,400)   \n",
    "    canvas.stroke_line(0, top_line_y, 400, top_line_y)\n",
    "    canvas.stroke_line(0, bottom_line_y, 400, bottom_line_y)\n",
    "    \n",
    "    #Move rectangle to new vertical location\n",
    "    #CHALLENGE: Simplify using DeMorgan's Law\n",
    "    y = random.randint(0,400)\n",
    "    #red if it is not true that y is less than top line or greater than bottom line\n",
    "    if not (y < top_line_y or y > bottom_line_y):\n",
    "        canvas.fill_style = 'red'\n",
    "    else:\n",
    "        canvas.fill_style = 'black'\n",
    "    canvas.fill_rect(200,y,10,10)\n",
    "    sleep(1) #1 second\n",
    "    "
   ]
  },
  {
   "cell_type": "code",
   "execution_count": 11,
   "metadata": {},
   "outputs": [
    {
     "data": {
      "application/vnd.jupyter.widget-view+json": {
       "model_id": "",
       "version_major": 2,
       "version_minor": 0
      },
      "text/plain": [
       "Canvas(height=400, width=400)"
      ]
     },
     "metadata": {},
     "output_type": "display_data"
    }
   ],
   "source": [
    "\n",
    "canvas = Canvas(width=400, height=400)\n",
    "display(canvas)\n",
    "top_line_y = 100\n",
    "bottom_line_y = 300\n",
    "\n",
    "for i in range(10):\n",
    "    #redraw canvas border and horizontal lines\n",
    "    canvas.clear()\n",
    "    canvas.stroke_rect(0,0,400,400)   \n",
    "    canvas.stroke_line(0, top_line_y, 400, top_line_y)\n",
    "    canvas.stroke_line(0, bottom_line_y, 400, bottom_line_y)\n",
    "      \n",
    "    #Move rectangle to new vertical location\n",
    "    #CHALLENGE: Simplify using DeMorgan's Law\n",
    "    y = random.randint(0,400)\n",
    "    #filled if it is not true that y is greater than top line and less than bottom line\n",
    "    if not (y > top_line_y and y < bottom_line_y):\n",
    "        canvas.fill_rect(200,y,10,10)\n",
    "    else:\n",
    "        canvas.stroke_rect(200,y,10,10)\n",
    "    \n",
    "    sleep(1) #1 second\n",
    "    "
   ]
  },
  {
   "cell_type": "code",
   "execution_count": null,
   "metadata": {},
   "outputs": [],
   "source": []
  },
  {
   "cell_type": "code",
   "execution_count": 2,
   "metadata": {},
   "outputs": [
    {
     "data": {
      "application/vnd.jupyter.widget-view+json": {
       "model_id": "41e81628f62d4ef7b2641646f7212475",
       "version_major": 2,
       "version_minor": 0
      },
      "text/plain": [
       "Canvas(height=400, width=400)"
      ]
     },
     "metadata": {},
     "output_type": "display_data"
    }
   ],
   "source": [
    "\n",
    "canvas = Canvas(width=400, height=400)\n",
    "display(canvas)\n",
    "mid_line_y = 200\n",
    "\n",
    "for i in range(10):\n",
    "    #redraw canvas border and horizontal lines\n",
    "    canvas.clear()\n",
    "    canvas.stroke_rect(0,0,400,400)   \n",
    "    canvas.stroke_line(0, mid_line_y, 400, mid_line_y)\n",
    "    \n",
    "    #Move rectangles to new vertical location\n",
    "    y1 = random.randint(0,400)\n",
    "    y2 = random.randint(0,400)\n",
    "    #CHALLENGE: Simplify using DeMorgan's Law\n",
    "    #red if both in top half. implemented to test if neither is in lower half\n",
    "    if not(y1 > mid_line_y or y2 > mid_line_y):\n",
    "        canvas.fill_style = 'red'\n",
    "    else:\n",
    "        canvas.fill_style = 'green'\n",
    "    canvas.fill_rect(100,y1,10,10)\n",
    "    canvas.fill_rect(300,y2,10,10)\n",
    "    \n",
    "    sleep(1) #1 second\n",
    "    "
   ]
  },
  {
   "cell_type": "code",
   "execution_count": null,
   "metadata": {},
   "outputs": [],
   "source": []
  }
 ],
 "metadata": {
  "kernelspec": {
   "display_name": "Python 3",
   "language": "python",
   "name": "python3"
  },
  "language_info": {
   "codemirror_mode": {
    "name": "ipython",
    "version": 3
   },
   "file_extension": ".py",
   "mimetype": "text/x-python",
   "name": "python",
   "nbconvert_exporter": "python",
   "pygments_lexer": "ipython3",
   "version": "3.6.9"
  }
 },
 "nbformat": 4,
 "nbformat_minor": 2
}
