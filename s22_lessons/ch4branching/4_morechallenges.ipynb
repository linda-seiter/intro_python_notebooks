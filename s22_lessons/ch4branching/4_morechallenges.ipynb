{
 "cells": [
  {
   "cell_type": "code",
   "execution_count": 2,
   "metadata": {},
   "outputs": [
    {
     "name": "stdout",
     "output_type": "stream",
     "text": [
      "a:1\n",
      "b:2\n",
      "c:3\n",
      "6\n"
     ]
    }
   ],
   "source": [
    "'''\n",
    "Task1\n",
    "Input 3 int values, a b c, and print their sum. \n",
    "However, if one of the values is the same as another of the values, \n",
    "it does not count towards the sum.\n",
    "\n",
    "Sample Tests:\n",
    "1,2,3 : 6\n",
    "3,2,3 : 2\n",
    "3,3,3 : 0\n",
    "9,2,2 : 9\n",
    "2,2,8 : 8\n",
    "\n",
    "'''\n",
    "\n",
    "a = int(input('a:'))\n",
    "b = int(input('b:'))\n",
    "c = int(input('c:'))\n",
    "sum = 0\n",
    "if a != b and a != c: sum += a\n",
    "if b != a and b != c: sum += b\n",
    "if c != a and c != b: sum += c\n",
    "  \n",
    "print(sum)"
   ]
  },
  {
   "cell_type": "code",
   "execution_count": 4,
   "metadata": {},
   "outputs": [
    {
     "name": "stdout",
     "output_type": "stream",
     "text": [
      "a:1\n",
      "b:2\n",
      "c:3\n",
      "6\n"
     ]
    }
   ],
   "source": [
    "'''\n",
    "Task2\n",
    "Input 3 int values, a b c, and print their sum. \n",
    "However, if one of the values is 13 then it does not count towards \n",
    "the sum and values to its right do not count. \n",
    "So for example, if b is 13, then both b and c do not count.\n",
    "\n",
    "Sample Tests:\n",
    "1,2,3 : 6\n",
    "3,2,13 : 5\n",
    "3,13,4 : 3\n",
    "13,2,12 : 0\n",
    "'''\n",
    "\n",
    "a = int(input('a:'))\n",
    "b = int(input('b:'))\n",
    "c = int(input('c:'))\n",
    "\n",
    "if a == 13:\n",
    "    print(0)\n",
    "elif b == 13:\n",
    "    print(a)\n",
    "elif c == 13:\n",
    "    print( a + b )\n",
    "else:\n",
    "    print ( a + b + c)"
   ]
  },
  {
   "cell_type": "code",
   "execution_count": 9,
   "metadata": {},
   "outputs": [
    {
     "name": "stdout",
     "output_type": "stream",
     "text": [
      "a:1\n",
      "b:2\n",
      "c:9\n",
      "True\n"
     ]
    }
   ],
   "source": [
    "'''\n",
    "Task3\n",
    "Input three ints, a b c, and print True if one of b or c is \"close\" \n",
    "(differing from a by at most 1), while the other is \"far\", \n",
    "differing from both other values by 2 or more.  Print False otherwise.\n",
    "Note: abs(num) computes the absolute value of a number.\n",
    "\n",
    "Sample Tests:\n",
    "1,2,10 : True\n",
    "1,2,3 : False\n",
    "4,1,3 : True\n",
    "4,5,3 : False\n",
    "-1,10,0: True\n",
    "0,-1,10: True\n",
    "10,10,8: True\n",
    "10,8,9: False\n",
    "\n",
    "'''\n",
    "\n",
    "a = int(input('a:'))\n",
    "b = int(input('b:'))\n",
    "c = int(input('c:'))\n",
    "\n",
    "print ((abs(a-b) <= 1 and abs(a-c) >=2 and abs(b-c) >= 2) or \n",
    "       (abs(a-c) <= 1 and abs(a-b) >=2 and abs(b-c) >= 2))"
   ]
  }
 ],
 "metadata": {
  "kernelspec": {
   "display_name": "Python 3",
   "language": "python",
   "name": "python3"
  },
  "language_info": {
   "codemirror_mode": {
    "name": "ipython",
    "version": 3
   },
   "file_extension": ".py",
   "mimetype": "text/x-python",
   "name": "python",
   "nbconvert_exporter": "python",
   "pygments_lexer": "ipython3",
   "version": "3.6.9"
  }
 },
 "nbformat": 4,
 "nbformat_minor": 2
}
