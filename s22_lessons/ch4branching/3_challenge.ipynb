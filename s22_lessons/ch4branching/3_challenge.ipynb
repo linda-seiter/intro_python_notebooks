{
 "cells": [
  {
   "cell_type": "code",
   "execution_count": 3,
   "metadata": {},
   "outputs": [],
   "source": [
    "import math\n",
    "import random\n",
    "from ipycanvas import Canvas\n",
    "from time import sleep"
   ]
  },
  {
   "cell_type": "markdown",
   "metadata": {},
   "source": [
    "### Operator Precedence:  not, and, or"
   ]
  },
  {
   "cell_type": "markdown",
   "metadata": {},
   "source": [
    "### DeMorgan's Law"
   ]
  },
  {
   "cell_type": "markdown",
   "metadata": {},
   "source": [
    "not (a or b)  is equivalent to (not a and not b)\n",
    "\n",
    "not (a and b)  is equivalent to (not a or not b)"
   ]
  },
  {
   "cell_type": "markdown",
   "metadata": {},
   "source": [
    " ### Simplify using DeMorgan's Law\n",
    " \n",
    " not(age > 10 and name == 'Fred' ) \n",
    " \n",
    " is equivalent to:\n",
    " \n",
    " not(age > 10) or not(name == 'Fred') \n",
    " \n",
    " this is further simplified to:\n",
    " \n",
    " age <= 10 or name != 'Fred'"
   ]
  },
  {
   "cell_type": "markdown",
   "metadata": {},
   "source": [
    "###  Simplify using DeMorgan's Law\n",
    " \n",
    " not(age > 10 or name == 'Fred' ) \n",
    " \n",
    " is equivalent to:\n",
    " \n",
    " not(age > 10) and not(name == 'Fred') \n",
    " \n",
    " this is further simplified to:\n",
    " \n",
    " age <= 10 and name != 'Fred'\n",
    " \n"
   ]
  },
  {
   "cell_type": "code",
   "execution_count": null,
   "metadata": {},
   "outputs": [],
   "source": [
    "#CHALLENGE.  \n",
    "#Simplify the expression using DeMorgan's Law\n",
    "\n",
    "not (x > 2 and y <= 4)\n",
    "\n",
    "#YOUR SOLUTION:\n",
    "\n"
   ]
  },
  {
   "cell_type": "code",
   "execution_count": null,
   "metadata": {},
   "outputs": [],
   "source": [
    "#CHALLENGE.  \n",
    "#Simplify the expression using DeMorgan's Law\n",
    "\n",
    "not(x == 2 and y > 4)\n",
    "\n",
    "#YOUR SOLUTION:\n",
    "\n"
   ]
  },
  {
   "cell_type": "code",
   "execution_count": null,
   "metadata": {},
   "outputs": [],
   "source": [
    "#CHALLENGE.  \n",
    "#Simplify the expression using DeMorgan's Law\n",
    "\n",
    "not (x > 5 or y < 7)\n",
    "\n",
    "\n",
    "#YOUR SOLUTION:\n",
    "\n"
   ]
  },
  {
   "cell_type": "code",
   "execution_count": null,
   "metadata": {},
   "outputs": [],
   "source": [
    "#CHALLENGE.  \n",
    "#Simplify the expression using DeMorgan's Law\n",
    "\n",
    "not (x < y and not (a == b))\n",
    "\n",
    "#YOUR SOLUTION:\n",
    "\n"
   ]
  },
  {
   "cell_type": "code",
   "execution_count": 4,
   "metadata": {},
   "outputs": [
    {
     "data": {
      "application/vnd.jupyter.widget-view+json": {
       "model_id": "2bd2ac4e0d644e5e971ec5663b6dd169",
       "version_major": 2,
       "version_minor": 0
      },
      "text/plain": [
       "Canvas(height=400, width=400)"
      ]
     },
     "metadata": {},
     "output_type": "display_data"
    }
   ],
   "source": [
    "\n",
    "canvas = Canvas(width=400, height=400)\n",
    "display(canvas)\n",
    "y1 = 100\n",
    "y2 = 300\n",
    "\n",
    "for i in range(10):\n",
    "    #redraw canvas border and horizontal lines\n",
    "    canvas.clear()\n",
    "    canvas.stroke_rect(0,0,400,400)   \n",
    "    canvas.stroke_line(0, y1, 400, y1)\n",
    "    canvas.stroke_line(0, y2, 400, y2)\n",
    "    \n",
    "    #Move rectangle to new vertical location\n",
    "    y = random.randint(0,400)\n",
    "    \n",
    "    #red is in between the lines, otherwise black\n",
    "    #red if it is not true that y is less than top line or greater than bottom line\n",
    "    #CHALLENGE: Simplify the if condition using DeMorgan's Law\n",
    "    \n",
    "    if not (y < y1 or y > y2):\n",
    "        canvas.fill_style = 'red'\n",
    "    else:\n",
    "        canvas.fill_style = 'black'\n",
    "    canvas.fill_rect(200,y,10,10)\n",
    "    sleep(1) #1 second\n",
    "    "
   ]
  },
  {
   "cell_type": "code",
   "execution_count": 5,
   "metadata": {},
   "outputs": [
    {
     "data": {
      "application/vnd.jupyter.widget-view+json": {
       "model_id": "a614b2a8d8aa4db089b373b35d597ff4",
       "version_major": 2,
       "version_minor": 0
      },
      "text/plain": [
       "Canvas(height=400, width=400)"
      ]
     },
     "metadata": {},
     "output_type": "display_data"
    }
   ],
   "source": [
    "\n",
    "canvas = Canvas(width=400, height=400)\n",
    "display(canvas)\n",
    "y1 = 100\n",
    "y2 = 300\n",
    "\n",
    "for i in range(10):\n",
    "    #redraw canvas border and horizontal lines\n",
    "    canvas.clear()\n",
    "    canvas.stroke_rect(0,0,400,400)   \n",
    "    canvas.stroke_line(0, y1, 400, y1)\n",
    "    canvas.stroke_line(0, y2, 400, y2)\n",
    "      \n",
    "    #Move rectangle to new vertical location\n",
    "    y = random.randint(0,400)\n",
    "    \n",
    "    #filled if it is not true that y is between the lines\n",
    "    #CHALLENGE: Simplify using DeMorgan's Law\n",
    "    \n",
    "    if not (y > y1 and y < y2):\n",
    "        canvas.fill_rect(200,y,10,10)\n",
    "    else:\n",
    "        canvas.stroke_rect(200,y,10,10)\n",
    "    \n",
    "    sleep(1) #1 second\n",
    "    "
   ]
  },
  {
   "cell_type": "code",
   "execution_count": null,
   "metadata": {},
   "outputs": [],
   "source": []
  },
  {
   "cell_type": "code",
   "execution_count": null,
   "metadata": {},
   "outputs": [],
   "source": [
    "\n",
    "canvas = Canvas(width=400, height=400)\n",
    "display(canvas)\n",
    "mid_line_y = 200\n",
    "\n",
    "for i in range(10):\n",
    "    #redraw canvas border and horizontal lines\n",
    "    canvas.clear()\n",
    "    canvas.stroke_rect(0,0,400,400)   \n",
    "    canvas.stroke_line(0, mid_line_y, 400, mid_line_y)\n",
    "    \n",
    "    #Move rectangles to new vertical location\n",
    "    y1 = random.randint(0,400)\n",
    "    y2 = random.randint(0,400)\n",
    "    \n",
    "    #red if both in top half. implemented to test if neither is in lower half\n",
    "    #CHALLENGE: Simplify using DeMorgan's Law\n",
    "    \n",
    "    if not(y1 > mid_line_y or y2 > mid_line_y):\n",
    "        canvas.fill_style = 'red'\n",
    "    else:\n",
    "        canvas.fill_style = 'green'\n",
    "    canvas.fill_rect(100,y1,10,10)\n",
    "    canvas.fill_rect(300,y2,10,10)\n",
    "    \n",
    "    sleep(1) #1 second\n",
    "    "
   ]
  },
  {
   "cell_type": "code",
   "execution_count": null,
   "metadata": {},
   "outputs": [],
   "source": [
    "'''\n",
    "Input 3 int values, a b c, and print their sum. \n",
    "However, if one value is the same as another value, \n",
    "it should not count towards the sum.\n",
    "\n",
    "Sample Tests:\n",
    "1,2,3 : 6\n",
    "3,2,3 : 2\n",
    "3,3,3 : 0\n",
    "9,2,2 : 9\n",
    "2,2,8 : 8\n",
    "\n",
    "'''\n",
    "\n",
    "a = int(input('a:'))\n",
    "b = int(input('b:'))\n",
    "c = int(input('c:'))\n",
    "\n",
    "#YOUR SOLUTION:\n"
   ]
  },
  {
   "cell_type": "code",
   "execution_count": null,
   "metadata": {},
   "outputs": [],
   "source": [
    "'''\n",
    "Input 3 int values a b c and print their sum. \n",
    "However, if one of the values is 13 then it does not count towards \n",
    "the sum and values to its right do not count. \n",
    "So for example, if b is 13, then b and c do not count toward the sum.\n",
    "\n",
    "Sample Tests:\n",
    "1,2,3 : 6\n",
    "3,2,13 : 5\n",
    "3,13,4 : 3\n",
    "13,2,12 : 0\n",
    "'''\n",
    "\n",
    "a = int(input('a:'))\n",
    "b = int(input('b:'))\n",
    "c = int(input('c:'))\n",
    "\n",
    "#YOUR SOLUTION:\n"
   ]
  },
  {
   "cell_type": "code",
   "execution_count": null,
   "metadata": {},
   "outputs": [],
   "source": [
    "'''\n",
    "Input three ints, a b c, and print True if b is \"close\" \n",
    "(differing from a by at most 1), while c is \"far\", \n",
    "(differing from both a and b by 2 or more).  Print False otherwise.\n",
    "Note: abs(num) computes the absolute value of a number.\n",
    "\n",
    "Sample Tests:\n",
    "1,2,10 : True\n",
    "1,2,3 : False\n",
    "4,1,3 : True\n",
    "4,5,3 : False\n",
    "-1,10,0: True\n",
    "0,-1,10: True\n",
    "10,10,8: True\n",
    "10,8,9: False\n",
    "'''\n",
    "\n",
    "a = int(input('a:'))\n",
    "b = int(input('b:'))\n",
    "c = int(input('c:'))\n",
    "\n",
    "#YOUR SOLUTION:\n"
   ]
  },
  {
   "cell_type": "code",
   "execution_count": null,
   "metadata": {},
   "outputs": [],
   "source": [
    "'''\n",
    "Input three ints, a b c, and print True if one of b or c is \"close\" \n",
    "(differing from a by at most 1), while the other is \"far\", \n",
    "(differing from both other values by 2 or more).  Print False otherwise.\n",
    "Note: abs(num) computes the absolute value of a number.\n",
    "\n",
    "Sample Tests:\n",
    "1,2,10 : True\n",
    "1,2,3 : False\n",
    "4,1,3 : True\n",
    "4,5,3 : False\n",
    "-1,10,0: True\n",
    "0,-1,10: True\n",
    "10,10,8: True\n",
    "10,8,9: False\n",
    "'''\n",
    "\n",
    "a = int(input('a:'))\n",
    "b = int(input('b:'))\n",
    "c = int(input('c:'))\n",
    "\n",
    "#YOUR SOLUTION:\n"
   ]
  }
 ],
 "metadata": {
  "kernelspec": {
   "display_name": "Python 3",
   "language": "python",
   "name": "python3"
  },
  "language_info": {
   "codemirror_mode": {
    "name": "ipython",
    "version": 3
   },
   "file_extension": ".py",
   "mimetype": "text/x-python",
   "name": "python",
   "nbconvert_exporter": "python",
   "pygments_lexer": "ipython3",
   "version": "3.6.9"
  }
 },
 "nbformat": 4,
 "nbformat_minor": 2
}
