{
 "cells": [
  {
   "cell_type": "code",
   "execution_count": null,
   "metadata": {},
   "outputs": [],
   "source": [
    "import random"
   ]
  },
  {
   "cell_type": "code",
   "execution_count": null,
   "metadata": {},
   "outputs": [],
   "source": [
    "'''\n",
    "Challenge 1:  Ask the user for a number.  Print 'hello' is the number is\n",
    "divisible by 5 (i.e. 5, 10, 15, 20, etc) otherwise print 'goodbye'. \n",
    "'''\n",
    "\n"
   ]
  },
  {
   "cell_type": "code",
   "execution_count": null,
   "metadata": {},
   "outputs": [],
   "source": [
    "'''\n",
    "Challenge 2:  Ask the user for a two numbers n and m.\n",
    "Output one of the following based on the relative order \n",
    "(substitute actual values for n and m in your output):\n",
    "n is less than m\n",
    "n is greater than m\n",
    "n is equal to m\n",
    "\n",
    "For example, if the user enters 3 and 5, the output should be:\n",
    "3 is less than 5\n",
    "'''\n",
    "\n"
   ]
  },
  {
   "cell_type": "code",
   "execution_count": null,
   "metadata": {},
   "outputs": [],
   "source": [
    "'''\n",
    "Challenge 3: Generate a random greeting each time the cell is run: \n",
    "hello, howdy, hi, hey. \n",
    "\n",
    "Run the cell until you see each of the 4 greetings generated at least once.\n",
    "'''\n",
    "\n"
   ]
  },
  {
   "cell_type": "code",
   "execution_count": null,
   "metadata": {},
   "outputs": [],
   "source": [
    "'''\n",
    "Challenge 4:\n",
    "Prompt for box weight as an integer.  Print the shipping cost.\n",
    "0-5 lbs costs 4.99\n",
    "6-10 lbs costs 7.99\n",
    "11-20 lbs costs 9.99\n",
    "over 20 lbs costs 12.99\n",
    "\n",
    "Test your boundary conditions (5,6,10,11,20,21 as well as values between the boundaries)\n",
    "'''\n",
    "\n"
   ]
  }
 ],
 "metadata": {
  "kernelspec": {
   "display_name": "Python 3",
   "language": "python",
   "name": "python3"
  },
  "language_info": {
   "codemirror_mode": {
    "name": "ipython",
    "version": 3
   },
   "file_extension": ".py",
   "mimetype": "text/x-python",
   "name": "python",
   "nbconvert_exporter": "python",
   "pygments_lexer": "ipython3",
   "version": "3.6.9"
  }
 },
 "nbformat": 4,
 "nbformat_minor": 2
}
