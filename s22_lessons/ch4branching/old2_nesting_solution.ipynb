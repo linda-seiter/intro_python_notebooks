{
 "cells": [
  {
   "cell_type": "code",
   "execution_count": null,
   "metadata": {},
   "outputs": [],
   "source": [
    "import math\n",
    "import random"
   ]
  },
  {
   "cell_type": "markdown",
   "metadata": {},
   "source": [
    "### Nested Conditionals"
   ]
  },
  {
   "cell_type": "code",
   "execution_count": null,
   "metadata": {},
   "outputs": [],
   "source": [
    "temperature = int(input('what is the temperature?'))\n",
    "money = int(input('how much money do you have?'))\n",
    "\n",
    "if temperature < 60\n",
    "    if money > 30:\n",
    "        print('go to the movie theater')\n",
    "    else:\n",
    "        print('watch tv')\n",
    "else:\n",
    "    if money > 30:\n",
    "        print('go to outdoor concert')\n",
    "    else:\n",
    "        print('take a walk in the park')\n",
    "        \n"
   ]
  },
  {
   "cell_type": "code",
   "execution_count": null,
   "metadata": {},
   "outputs": [],
   "source": [
    "print('I\\'m going to ask you some questions to guess the animal (bird, bug, fish, dog )')\n",
    "hasWings = input('does it have wings(y/n)?')\n",
    "\n",
    "#assume no if not yes\n",
    "if hasWings == 'y':\n",
    "    hasFeathers = input('does it have feathers(y/n)?')\n",
    "    if hasFeathers == 'y':\n",
    "        print('It is a bird!')\n",
    "    else:\n",
    "        print('It is a bug')\n",
    "else:\n",
    "    hasgills = input('does it have gills(y/n)?')\n",
    "    if hasgills == 'y':\n",
    "        print('It is a fish!')\n",
    "    else:\n",
    "        print('It is a dog')"
   ]
  },
  {
   "cell_type": "code",
   "execution_count": null,
   "metadata": {},
   "outputs": [],
   "source": [
    "'''\n",
    "s.find(x) -- Returns the index of the first occurrence of item x in the string s, else returns -1.\n",
    "In a string, the index of the first character is 0, not 1.  \n",
    "'''\n",
    "\n",
    "\n",
    "flavor = 'mint chocolate chip'\n",
    "print(flavor.find('mint'))       #mint starts in index 0.  strings use 0 based indexing\n",
    "print(flavor.find('chocolate'))  #chocolate starts in index 5\n",
    "print(flavor.find('chip'))       #chip starts in index 15\n",
    "print(flavor.find('o'))          #first occurrence of o is index 7\n",
    "print(flavor.find('vanilla'))    #vanilla is not in string so index -1 is returned"
   ]
  },
  {
   "cell_type": "code",
   "execution_count": null,
   "metadata": {},
   "outputs": [],
   "source": [
    "likes_icecream = input('Do you like ice cream (y/n)?')\n",
    "\n",
    "if likes_icecream == 'y':\n",
    "    flavor = input('What is your favorite flavor?')\n",
    "    if flavor.find('chocolate') >= 0:\n",
    "        print('I love anything with chocolate too!')\n",
    "    else:\n",
    "        print('Hmm, interesting choice.',)\n",
    "else:\n",
    "    reason = input('Why not?')\n",
    "    print(reason,': sounds like a good reason.')"
   ]
  },
  {
   "cell_type": "code",
   "execution_count": null,
   "metadata": {},
   "outputs": [],
   "source": [
    "num1 = int(input('enter num1:'))\n",
    "num2 = int(input('enter num2:'))\n",
    "num3 = int(input('enter num3:'))\n",
    "\n",
    "if num1 < num2:\n",
    "    if num1 < num3:\n",
    "        print(num1,'is smallest')\n",
    "    else:\n",
    "        print(num3,'is smallest')\n",
    "else:\n",
    "    if num2 < num3:\n",
    "        print(num2,'is smallest')\n",
    "    else:\n",
    "        print(num3,'is smallest')"
   ]
  },
  {
   "cell_type": "code",
   "execution_count": null,
   "metadata": {},
   "outputs": [],
   "source": [
    "num = random.randint(-50, 50)\n",
    "print(num)\n",
    "\n",
    "if num>0:\n",
    "    if num % 2 == 0:\n",
    "        print(num,'is a positive even number')\n",
    "    else:\n",
    "        print(num,'is a positive odd number')\n",
    "elif num < 0:\n",
    "    if num % 2 == 0 :\n",
    "        print(num,'is a negative evenumber')\n",
    "    else:\n",
    "        print(num,'is a double digit negative number')\n",
    "else:\n",
    "    print('Zero')"
   ]
  },
  {
   "cell_type": "code",
   "execution_count": null,
   "metadata": {},
   "outputs": [],
   "source": [
    "from random import randint\n",
    "player1 = input(\"Player#1 weapon: rock, paper, scissors?\")\n",
    "player2 = input(\"Player#2 weapon: rock, paper, scissors?\")\n",
    "\n",
    "if player1 == player2:\n",
    "    print(\"Tie!\")\n",
    "elif player1 == \"rock\":\n",
    "    if player2 == \"paper\":\n",
    "        print(\"Player#2 wins\")\n",
    "    else:\n",
    "        print(\"Player#1 wins\")\n",
    "elif player1 == \"paper\":\n",
    "    if player2 == \"scissors\":\n",
    "        print(\"Player#2 wins\")\n",
    "    else:\n",
    "        print(\"Player#1 wins\")\n",
    "elif player1 == \"scissors\":\n",
    "    if player2 == \"rock\":\n",
    "        print(\"Player#2 wins\")\n",
    "    else:\n",
    "        print(\"Player#1 wins\")\n",
    "else:\n",
    "    print(\"That's not a valid play. Check your spelling!\")\n",
    "   "
   ]
  },
  {
   "cell_type": "markdown",
   "metadata": {},
   "source": [
    "### Boolean Expressions and Boolean Variables"
   ]
  },
  {
   "cell_type": "code",
   "execution_count": null,
   "metadata": {},
   "outputs": [],
   "source": [
    "print( 5 < 7)"
   ]
  },
  {
   "cell_type": "code",
   "execution_count": null,
   "metadata": {},
   "outputs": [],
   "source": [
    "is_sunny = False\n",
    "is_raining = True\n",
    "\n",
    "print(is_sunny)\n",
    "print(is_raining)"
   ]
  },
  {
   "cell_type": "code",
   "execution_count": null,
   "metadata": {},
   "outputs": [],
   "source": [
    "temperature = 20\n",
    "is_cold = temperature < 32\n",
    "\n",
    "print(is_cold)"
   ]
  },
  {
   "cell_type": "code",
   "execution_count": null,
   "metadata": {},
   "outputs": [],
   "source": [
    "#this won't work, is_laughing is a string, not a boolean\n",
    "is_laughing = input('are you laughing (True/False)')\n",
    "print(is_laughing)\n",
    "print(type(is_laughing))\n",
    "\n",
    "if is_laughing == True:\n",
    "    print('you are laughing')\n",
    "else:\n",
    "    print('you are not laughing')"
   ]
  },
  {
   "cell_type": "code",
   "execution_count": null,
   "metadata": {},
   "outputs": [],
   "source": [
    "#this won't work, anything that is not empty string is True\n",
    "is_laughing = bool(input('are you laughing (True/False)'))\n",
    "print(is_laughing)\n",
    "print(type(is_laughing))\n",
    "\n",
    "\n",
    "if is_laughing == True:\n",
    "    print('you are laughing')\n",
    "else:\n",
    "    print('you are not laughing')"
   ]
  },
  {
   "cell_type": "code",
   "execution_count": null,
   "metadata": {},
   "outputs": [],
   "source": [
    "#This works, compare the input and set is_laughing as a boolean expression\n",
    "\n",
    "\n",
    "is_laughing = input('are you laughing (y/n)?') == 'y'\n",
    "print(is_laughing)\n",
    "print(type(is_laughing))\n",
    "\n",
    "\n",
    "if is_laughing == True:\n",
    "    print('you are laughing')\n",
    "else:\n",
    "    print('you are not laughing')"
   ]
  },
  {
   "cell_type": "markdown",
   "metadata": {},
   "source": [
    "### Boolean operators: not, and, or"
   ]
  },
  {
   "cell_type": "code",
   "execution_count": null,
   "metadata": {},
   "outputs": [],
   "source": [
    "age = int(input('enter age:'))\n",
    "name = input('enter name:')\n",
    "\n",
    "print( age > 10 and name == 'Fred' )"
   ]
  },
  {
   "cell_type": "code",
   "execution_count": null,
   "metadata": {},
   "outputs": [],
   "source": [
    "age = int(input('enter age:'))\n",
    "name = input('enter name:')\n",
    "\n",
    "print( age > 10 or name == 'Fred' )"
   ]
  },
  {
   "cell_type": "code",
   "execution_count": null,
   "metadata": {},
   "outputs": [],
   "source": [
    "age = int(input('enter age:'))\n",
    "print( not (age > 10) )"
   ]
  },
  {
   "cell_type": "code",
   "execution_count": null,
   "metadata": {},
   "outputs": [],
   "source": [
    "#simplify not (age > 10)\n",
    "age = int(input('enter age:'))\n",
    "print( age <= 10 )"
   ]
  },
  {
   "cell_type": "code",
   "execution_count": null,
   "metadata": {},
   "outputs": [],
   "source": []
  },
  {
   "cell_type": "code",
   "execution_count": 41,
   "metadata": {},
   "outputs": [
    {
     "name": "stdout",
     "output_type": "stream",
     "text": [
      "what is the temperature?90\n",
      "how much money do you have?99\n",
      "go to outdoor concert\n"
     ]
    }
   ],
   "source": [
    "temperature = int(input('what is the temperature?'))\n",
    "money = int(input('how much money do you have?'))\n",
    "\n",
    "if temperature < 50 and money > 20:\n",
    "    print('go to the movies')\n",
    "elif temperature < 50 and money <= 20:\n",
    "    print('watch tv')\n",
    "elif temperature >= 50 and money > 20:\n",
    "    print('go to outdoor concert')\n",
    "else:\n",
    "    print('take a walk in the park')\n"
   ]
  },
  {
   "cell_type": "code",
   "execution_count": null,
   "metadata": {},
   "outputs": [],
   "source": []
  },
  {
   "cell_type": "code",
   "execution_count": 42,
   "metadata": {},
   "outputs": [
    {
     "name": "stdout",
     "output_type": "stream",
     "text": [
      "Player#1 weapon: rock, paper, scissors?rock\n",
      "Player#2 weapon: rock, paper, scissors?paper\n",
      "Player#2 wins\n"
     ]
    }
   ],
   "source": [
    "from random import randint\n",
    "player1 = input(\"Player#1 weapon: rock, paper, scissors?\")\n",
    "player2 = input(\"Player#2 weapon: rock, paper, scissors?\")\n",
    "\n",
    "if player1 == player2:\n",
    "    print(\"Tie!\")\n",
    "elif player1 == \"rock\" and player2 == \"paper\":\n",
    "    print(\"Player#2 wins\")\n",
    "elif player1 == \"rock\" and player2 == \"scissors\":\n",
    "    print(\"Player#1 wins\")\n",
    "elif player1 == \"paper\" and player2 == \"scissors\":\n",
    "    print(\"Player#2 wins\")\n",
    "elif player1 == \"paper\" and player2 == \"rock\":\n",
    "    print(\"Player#1 wins\")\n",
    "elif player1 == \"scissors\"and player2 == \"rock\":\n",
    "    print(\"Player#2 wins\")\n",
    "elif player1 == \"scissors\"and player2 == \"paper\":\n",
    "        print(\"Player#1 wins\")\n",
    "else:\n",
    "    print(\"That's not a valid play. Check your spelling!\")\n",
    "   "
   ]
  },
  {
   "cell_type": "code",
   "execution_count": null,
   "metadata": {},
   "outputs": [],
   "source": []
  },
  {
   "cell_type": "code",
   "execution_count": null,
   "metadata": {},
   "outputs": [],
   "source": []
  },
  {
   "cell_type": "markdown",
   "metadata": {},
   "source": [
    "### DeMorgan's Law"
   ]
  },
  {
   "cell_type": "markdown",
   "metadata": {},
   "source": [
    "not (a or b)  is equivalent to (not a and not b)\n",
    "not (a and b)  is equivalent to (not a or not b)"
   ]
  },
  {
   "cell_type": "markdown",
   "metadata": {},
   "source": [
    " Simplify using DeMorgan's Law\n",
    " \n",
    " not(age > 10 and name == 'Fred' ) \n",
    " \n",
    " is equivalent to\n",
    " \n",
    " not(age > 10) or not(name == 'Fred') \n",
    " (age <= 10) or (name != 'Fred') "
   ]
  },
  {
   "cell_type": "markdown",
   "metadata": {},
   "source": [
    " Simplify using DeMorgan's Law\n",
    " \n",
    " not(age > 10 or name == 'Fred' ) \n",
    " \n",
    " is equivalent to\n",
    " \n",
    " not(age > 10) and not(name == 'Fred') \n",
    " (age <= 10) and (name != 'Fred') "
   ]
  },
  {
   "cell_type": "code",
   "execution_count": null,
   "metadata": {},
   "outputs": [],
   "source": []
  }
 ],
 "metadata": {
  "kernelspec": {
   "display_name": "Python 3",
   "language": "python",
   "name": "python3"
  },
  "language_info": {
   "codemirror_mode": {
    "name": "ipython",
    "version": 3
   },
   "file_extension": ".py",
   "mimetype": "text/x-python",
   "name": "python",
   "nbconvert_exporter": "python",
   "pygments_lexer": "ipython3",
   "version": "3.6.9"
  }
 },
 "nbformat": 4,
 "nbformat_minor": 2
}
