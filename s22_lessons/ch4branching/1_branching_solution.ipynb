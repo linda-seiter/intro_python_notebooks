{
 "cells": [
  {
   "cell_type": "markdown",
   "metadata": {},
   "source": [
    "[Visualize the code using the Python tutor](http://pythontutor.com/visualize.html#mode=edit)"
   ]
  },
  {
   "cell_type": "code",
   "execution_count": 1,
   "metadata": {},
   "outputs": [],
   "source": [
    "import math\n",
    "import random\n",
    "from ipycanvas import Canvas"
   ]
  },
  {
   "cell_type": "markdown",
   "metadata": {},
   "source": [
    "## Boolean Expressions"
   ]
  },
  {
   "cell_type": "code",
   "execution_count": 3,
   "metadata": {},
   "outputs": [
    {
     "name": "stdout",
     "output_type": "stream",
     "text": [
      "num1 < num3 True\n",
      "num3 >= num2 True\n",
      "num1 >= num2 True\n",
      "num1 == num2 True\n",
      "num1 != num2 False\n"
     ]
    }
   ],
   "source": [
    "num1 = 20\n",
    "num2 = 20\n",
    "num3 = 35\n",
    "\n",
    "# A boolean expression evaluates to True or False\n",
    "\n",
    "# Compare values using relational operators <, <=, >, >=\n",
    "print( 'num1 < num3', num1 < num3)\n",
    "print( 'num3 >= num2', num3 >= num2)\n",
    "print( 'num1 >= num2', num1 >= num2)\n",
    "\n",
    "\n",
    "# Equality  == \n",
    "# Inequality != \n",
    "\n",
    "print('num1 == num2', num1 == num2)\n",
    "print('num1 != num2', num1 != num2)\n",
    "\n"
   ]
  },
  {
   "cell_type": "code",
   "execution_count": 6,
   "metadata": {
    "scrolled": true
   },
   "outputs": [
    {
     "name": "stdout",
     "output_type": "stream",
     "text": [
      "age:18\n",
      "True\n"
     ]
    }
   ],
   "source": [
    "#assigning a boolean value to a variable\n",
    "age = int(input('age:'))\n",
    "atleast18 = (age >= 18)\n",
    "print(atleast18)"
   ]
  },
  {
   "cell_type": "markdown",
   "metadata": {},
   "source": [
    "## IF"
   ]
  },
  {
   "cell_type": "code",
   "execution_count": 2,
   "metadata": {},
   "outputs": [
    {
     "name": "stdout",
     "output_type": "stream",
     "text": [
      "Enter age: 20\n",
      "Your hotel rate: 155\n"
     ]
    }
   ],
   "source": [
    "#PA 4.2.1\n",
    "#Step through with Python visualizer  https://pythontutor.com/visualize.html#mode=edit\n",
    "\n",
    "hotel_rate = 155\n",
    "\n",
    "user_age = int(input('Enter age: '))\n",
    "\n",
    "if user_age > 65:\n",
    "   hotel_rate = hotel_rate - 20\n",
    "\n",
    "print('Your hotel rate:', hotel_rate) "
   ]
  },
  {
   "cell_type": "code",
   "execution_count": 2,
   "metadata": {},
   "outputs": [
    {
     "name": "stdout",
     "output_type": "stream",
     "text": [
      "Weekly hours studying: 15\n",
      "Study more!\n"
     ]
    }
   ],
   "source": [
    "#CHALLENGE: \n",
    "\n",
    "hours = int(input('Weekly hours studying: '))\n",
    "if hours <  20:\n",
    "   print('Study more!') "
   ]
  },
  {
   "cell_type": "code",
   "execution_count": 2,
   "metadata": {},
   "outputs": [
    {
     "name": "stdout",
     "output_type": "stream",
     "text": [
      "Weekly pay:300\n",
      "Hours worked: 20\n",
      "Total paycheck: 300\n"
     ]
    }
   ],
   "source": [
    "#Challenge: prompt for pay and hours.  Give $50 bonus if worked more than 40 hours\n",
    "pay = int(input('Weekly pay:'))\n",
    "\n",
    "hours = int(input('Hours worked: '))\n",
    "\n",
    "if hours > 40:\n",
    "   pay = pay + 50  #bonus if worked more than 40 hours\n",
    "\n",
    "print('Total paycheck:',pay) "
   ]
  },
  {
   "cell_type": "markdown",
   "metadata": {},
   "source": [
    "## 2 branches:  IF ELSE"
   ]
  },
  {
   "cell_type": "code",
   "execution_count": 3,
   "metadata": {},
   "outputs": [
    {
     "name": "stdout",
     "output_type": "stream",
     "text": [
      "Enter age: 77\n",
      "Annual price: $2200\n"
     ]
    }
   ],
   "source": [
    "#PA 4.2.3\n",
    "\n",
    "user_age = int(input('Enter age: '))\n",
    "\n",
    "if user_age < 25:\n",
    "    insurance_price = 4800\n",
    "else:\n",
    "    insurance_price = 2200\n",
    "\n",
    "print('Annual price: ${}'.format(insurance_price))"
   ]
  },
  {
   "cell_type": "code",
   "execution_count": null,
   "metadata": {},
   "outputs": [],
   "source": [
    "#CHALLENGE: PA4.1.9\n",
    "#Prompt user for two values x and y.  \n",
    "#Assign variable max to larger value.\n",
    "#Print the max value.\n",
    "\n",
    "x = int(input('enter x:'))\n",
    "y = int(input('enter y:'))\n",
    "\n",
    "if x > y:\n",
    "    max = x\n",
    "else:\n",
    "    max = y\n",
    "print('max is',max)"
   ]
  },
  {
   "cell_type": "markdown",
   "metadata": {},
   "source": [
    "## Multibranch: IF ELIF ... ELSE"
   ]
  },
  {
   "cell_type": "code",
   "execution_count": 4,
   "metadata": {},
   "outputs": [
    {
     "name": "stdout",
     "output_type": "stream",
     "text": [
      "Enter number years married: 12\n",
      "Nothing special.\n",
      "DONE\n"
     ]
    }
   ],
   "source": [
    "# PA 4.2.1\n",
    "\n",
    "num_years = int(input('Enter number years married: '))\n",
    "\n",
    "if num_years == 1:\n",
    "    print('Your first year -- great!')\n",
    "elif num_years == 10:\n",
    "    print('A whole decade -- impressive.')\n",
    "elif num_years == 25:\n",
    "    print('Your silver anniversary -- enjoy.')\n",
    "elif num_years == 50:\n",
    "    print('Your golden anniversary -- amazing.')\n",
    "else:\n",
    "    print('Nothing special.')\n",
    "    \n",
    "print('DONE')"
   ]
  },
  {
   "cell_type": "code",
   "execution_count": 50,
   "metadata": {},
   "outputs": [
    {
     "name": "stdout",
     "output_type": "stream",
     "text": [
      "enter the weather forecast:snowing\n",
      "take warm coat\n"
     ]
    }
   ],
   "source": [
    "#You don't have to have an else (catch all if other tests don't match)\n",
    "\n",
    "forecast = input('enter the weather forecast:')\n",
    "if (forecast == 'raining'):\n",
    "    print('take umbrella')\n",
    "elif (forecast == 'sunny'):\n",
    "    print('take sunglasses')\n",
    "elif (forecast == 'snowing'):\n",
    "    print('take warm coat')\n"
   ]
  },
  {
   "cell_type": "markdown",
   "metadata": {},
   "source": [
    "## Practice - Non executable cells"
   ]
  },
  {
   "cell_type": "markdown",
   "metadata": {},
   "source": [
    "![branching question 1](q1.JPG \"Branching\")"
   ]
  },
  {
   "cell_type": "code",
   "execution_count": null,
   "metadata": {},
   "outputs": [],
   "source": []
  },
  {
   "cell_type": "markdown",
   "metadata": {},
   "source": [
    "![branching question2](q2.JPG \"Branching\")"
   ]
  },
  {
   "cell_type": "code",
   "execution_count": 31,
   "metadata": {},
   "outputs": [
    {
     "name": "stdout",
     "output_type": "stream",
     "text": [
      "enter #people:6\n",
      "1\n"
     ]
    }
   ],
   "source": [
    "'''\n",
    "CHALLENGE: \n",
    "Prompt for number of people.\n",
    "If number of people is greater than 6, set num_pizzas to 2, otherwise num_pizzas should be 1.\n",
    "Print the number of pizzas\n",
    "\n",
    "''' \n",
    "\n",
    "num_people = int(input('enter #people:'))\n",
    "\n",
    "if num_people > 6:\n",
    "    num_pizzas = 2\n",
    "else:\n",
    "    num_pizzas = 1\n",
    "    \n",
    "print(num_pizzas)"
   ]
  },
  {
   "cell_type": "code",
   "execution_count": 35,
   "metadata": {},
   "outputs": [
    {
     "name": "stdout",
     "output_type": "stream",
     "text": [
      "enter age:65\n",
      "15.99\n"
     ]
    }
   ],
   "source": [
    "'''\n",
    "CHALLENGE:\n",
    "Prompt for age.\n",
    "If age is under 12 then price is 12.99, \n",
    "otherwise if age is under 65 then price is 18.99, \n",
    "otherwise price is 15.99\n",
    "\n",
    "''' \n",
    "\n",
    "age = int(input('enter age:'))\n",
    "\n",
    "if age < 12:\n",
    "    price = 12.99\n",
    "elif age < 65:\n",
    "    price = 18.99\n",
    "else:\n",
    "    price = 15.99\n",
    "    \n",
    "print(price)"
   ]
  },
  {
   "cell_type": "code",
   "execution_count": 41,
   "metadata": {},
   "outputs": [
    {
     "name": "stdout",
     "output_type": "stream",
     "text": [
      "enter major code:math\n",
      "unknown\n"
     ]
    }
   ],
   "source": [
    "'''\n",
    "CHALLENGE: Prompt for major code.\n",
    "If major code is 'cs' the print 'computer science',\n",
    "otherwise if major code is 'data' the print 'data science',\n",
    "otherwise if major code is 'ec' the print 'economics',\n",
    "otherwise if major code is 'po' the print 'political science',\n",
    "otherwise print 'unknown'\n",
    "\n",
    "''' \n",
    "\n",
    "\n",
    "code = input('enter major code:')\n",
    "\n",
    "if code == 'cs':\n",
    "    print('computer science')\n",
    "elif code == 'data':\n",
    "    print('data science')\n",
    "elif code == 'ec':\n",
    "    print('economics')\n",
    "elif code == 'po':\n",
    "    print('political science')\n",
    "else:\n",
    "    print('unknown')\n",
    "    \n"
   ]
  },
  {
   "cell_type": "markdown",
   "metadata": {},
   "source": [
    "## Testing random numbers\n"
   ]
  },
  {
   "cell_type": "code",
   "execution_count": 18,
   "metadata": {},
   "outputs": [
    {
     "name": "stdout",
     "output_type": "stream",
     "text": [
      "heads\n"
     ]
    }
   ],
   "source": [
    "# simulate a coin flip, two choices\n",
    "\n",
    "coin = random.randint(1,2)\n",
    "\n",
    "if coin == 1:\n",
    "    print('heads')\n",
    "else:\n",
    "    print('tails')"
   ]
  },
  {
   "cell_type": "code",
   "execution_count": 23,
   "metadata": {},
   "outputs": [
    {
     "name": "stdout",
     "output_type": "stream",
     "text": [
      "1\n",
      "0\n"
     ]
    }
   ],
   "source": [
    "#Recall mod function (remainder)\n",
    "print(7 % 2)\n",
    "print(6 % 2)"
   ]
  },
  {
   "cell_type": "code",
   "execution_count": 21,
   "metadata": {},
   "outputs": [
    {
     "name": "stdout",
     "output_type": "stream",
     "text": [
      "96  is even\n"
     ]
    }
   ],
   "source": [
    "# testing parity (even or odd)\n",
    "\n",
    "num = random.randint(1,100)\n",
    "\n",
    "if num % 2 == 0:\n",
    "    print(num,' is even')\n",
    "else:\n",
    "      print(num,' is even')"
   ]
  },
  {
   "cell_type": "code",
   "execution_count": 46,
   "metadata": {},
   "outputs": [
    {
     "name": "stdout",
     "output_type": "stream",
     "text": [
      "56\n",
      "go for a walk in the park\n"
     ]
    }
   ],
   "source": [
    "'''\n",
    "CHALLENGE: \n",
    "generate random temperature between 0 and 100.\n",
    "print the temperature, then test the value.\n",
    "if temperature is at or below freezing 'stay inside and watch tv'\n",
    "otherwise if below 80 print 'go for a walk in the park'\n",
    "otherwise print 'go to the beach'\n",
    "''' \n",
    "\n",
    "temperature = random.randint(0,100)\n",
    "print(temperature)\n",
    "\n",
    "if temperature <= 32:\n",
    "    print('stay inside and watch tv' )\n",
    "elif temperature < 80:\n",
    "      print('go for a walk in the park')\n",
    "else:\n",
    "    print('go to the beach')"
   ]
  },
  {
   "cell_type": "markdown",
   "metadata": {},
   "source": [
    "### Branching with graphics"
   ]
  },
  {
   "cell_type": "code",
   "execution_count": 4,
   "metadata": {},
   "outputs": [
    {
     "data": {
      "application/vnd.jupyter.widget-view+json": {
       "model_id": "",
       "version_major": 2,
       "version_minor": 0
      },
      "text/plain": [
       "Canvas(height=400, width=400)"
      ]
     },
     "metadata": {},
     "output_type": "display_data"
    }
   ],
   "source": [
    "def handle_mouse_down(x,y):\n",
    "    #generate random number and test to set pen color\n",
    "    num = random.randint(1,2)\n",
    "    if num == 1:\n",
    "        canvas.fill_style = 'blue'\n",
    "    else:\n",
    "        canvas.fill_style = 'red'\n",
    "    #draw a circle at mouse location\n",
    "    canvas.fill_circle(x,y,5) \n",
    "    \n",
    "    \n",
    "\n",
    "#main algorithm\n",
    "canvas = Canvas(width=400, height=400)\n",
    "display(canvas)\n",
    "canvas.stroke_style = 'black'\n",
    "canvas.stroke_rect(0,0,400,400)   \n",
    "canvas.on_mouse_down(handle_mouse_down)"
   ]
  },
  {
   "cell_type": "code",
   "execution_count": 19,
   "metadata": {},
   "outputs": [
    {
     "data": {
      "application/vnd.jupyter.widget-view+json": {
       "model_id": "3a18b24f581f432ca9807aecad191f91",
       "version_major": 2,
       "version_minor": 0
      },
      "text/plain": [
       "Canvas(height=400, width=400)"
      ]
     },
     "metadata": {},
     "output_type": "display_data"
    }
   ],
   "source": [
    "#CHALLENGE:Set pen to blue if mouse clicked in left half of window, otherwise red\n",
    "    \n",
    "\n",
    "def handle_mouse_down(x,y):\n",
    "    #test mouse location to set pen color.\n",
    "    if x < 200:\n",
    "        canvas.fill_style = 'blue'\n",
    "    else:\n",
    "        canvas.fill_style = 'red'\n",
    "        \n",
    "    #draw a circle at mouse location\n",
    "    canvas.fill_circle(x,y,5) \n",
    "    canvas.fill_text('hi',x+5,y)  #shift text to the right a bit\n",
    "    canvas.fill_text('x={:.0f}'.format(x),x,y+20)  #x is a float, format with no digits after decimal pt\n",
    "    \n",
    "\n",
    "#main algorithm\n",
    "canvas = Canvas(width=400, height=400)\n",
    "display(canvas)\n",
    "canvas.stroke_style = 'black'\n",
    "canvas.stroke_rect(0,0,400,400)   \n",
    "canvas.stroke_line(200, 0, 200, 400)\n",
    "canvas.on_mouse_down(handle_mouse_down)\n",
    "canvas.font = '16px serif'"
   ]
  },
  {
   "cell_type": "code",
   "execution_count": null,
   "metadata": {},
   "outputs": [],
   "source": []
  }
 ],
 "metadata": {
  "kernelspec": {
   "display_name": "Python 3",
   "language": "python",
   "name": "python3"
  },
  "language_info": {
   "codemirror_mode": {
    "name": "ipython",
    "version": 3
   },
   "file_extension": ".py",
   "mimetype": "text/x-python",
   "name": "python",
   "nbconvert_exporter": "python",
   "pygments_lexer": "ipython3",
   "version": "3.6.9"
  }
 },
 "nbformat": 4,
 "nbformat_minor": 2
}
