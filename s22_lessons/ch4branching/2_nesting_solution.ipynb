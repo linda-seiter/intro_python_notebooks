{
 "cells": [
  {
   "cell_type": "markdown",
   "metadata": {},
   "source": [
    "### Nested Conditionals"
   ]
  },
  {
   "cell_type": "code",
   "execution_count": null,
   "metadata": {},
   "outputs": [],
   "source": [
    "import math\n",
    "import random"
   ]
  },
  {
   "cell_type": "code",
   "execution_count": null,
   "metadata": {},
   "outputs": [],
   "source": [
    "#Logical operator AND.  This example is not a nested condition.\n",
    "\n",
    "hungry = input('hungry (y/n)?')\n",
    "money = int(input('how much cash do you have?'))\n",
    "if hungry == 'y' and money > 20 :\n",
    "    print('go to grocery store')\n",
    "else:\n",
    "    print('stay home')"
   ]
  },
  {
   "cell_type": "code",
   "execution_count": null,
   "metadata": {},
   "outputs": [],
   "source": [
    "#nested conditional\n",
    "\n",
    "hungry = input('hungry (y/n)?')\n",
    "money = int(input('how much cash do you have?'))\n",
    "if hungry == 'y':\n",
    "    if  money > 20 :\n",
    "        print('go to grocery store')\n",
    "    else:\n",
    "        print('stay home')\n",
    "else:\n",
    "    print('stay home')"
   ]
  },
  {
   "cell_type": "code",
   "execution_count": null,
   "metadata": {},
   "outputs": [],
   "source": [
    "#Logical operator AND.  Chained, non-nested conditional\n",
    "temperature = int(input('what is the temperature?'))\n",
    "money = int(input('how much money do you have?'))\n",
    "\n",
    "if temperature < 60 and money > 30:\n",
    "        print('go to the movie theater')\n",
    "elif temperature < 60 and money <= 30:\n",
    "        print('watch tv')\n",
    "elif temperature >= 60 and  money > 30:\n",
    "        print('go to outdoor concert')\n",
    "else:\n",
    "        print('take a walk in the park')\n",
    "        \n"
   ]
  },
  {
   "cell_type": "code",
   "execution_count": null,
   "metadata": {},
   "outputs": [],
   "source": [
    "#Nested conditional\n",
    "temperature = int(input('what is the temperature?'))\n",
    "money = int(input('how much money do you have?'))\n",
    "\n",
    "if temperature < 60:\n",
    "    if money > 30:\n",
    "        print('go to the movie theater')\n",
    "    else:\n",
    "        print('watch tv')\n",
    "else:\n",
    "    if money > 30:\n",
    "        print('go to outdoor concert')\n",
    "    else:\n",
    "        print('take a walk in the park')\n",
    "        "
   ]
  },
  {
   "cell_type": "code",
   "execution_count": null,
   "metadata": {},
   "outputs": [],
   "source": [
    "#Logical operator OR.  Non-nested conditional\n",
    "\n",
    "status = input('freshman/sophomore/junior/senior:')\n",
    "if status == 'freshman'  or status == 'sophomore' :\n",
    "    print('underclassman')\n",
    "else:\n",
    "    print('upperclassman')"
   ]
  },
  {
   "cell_type": "code",
   "execution_count": null,
   "metadata": {},
   "outputs": [],
   "source": [
    "#Convert OR to non-nested chained conditional.\n",
    "\n",
    "status = input('freshman/sophomore/junior/senior:')\n",
    "if status == 'freshman'  :\n",
    "     print('underclassman')\n",
    "elif status == 'sophomore' :\n",
    "     print('underclassman')  \n",
    "else:\n",
    "    print('upperclassman')"
   ]
  },
  {
   "cell_type": "code",
   "execution_count": null,
   "metadata": {},
   "outputs": [],
   "source": [
    "#Rock paper scissors using nested conditionals\n",
    "player1 = input(\"Player#1 weapon: rock, paper, scissors?\")\n",
    "player2 = input(\"Player#2 weapon: rock, paper, scissors?\")\n",
    "\n",
    "if player1 == player2:\n",
    "    print(\"Tie!\")\n",
    "elif player1 == \"rock\":\n",
    "    if player2 == \"paper\":\n",
    "        print(\"Player#2 wins\")\n",
    "    elif player2 == \"scissors\":\n",
    "        print(\"Player#1 wins\")\n",
    "    else:\n",
    "        print(\"Invalid weapon\")\n",
    "elif player1 == \"paper\":\n",
    "    if player2 == \"scissors\":\n",
    "        print(\"Player#2 wins\")\n",
    "    elif player2 == \"rock\":\n",
    "        print(\"Player#1 wins\")\n",
    "    else:\n",
    "        print(\"Invalid weapon\")\n",
    "elif player1 == \"scissors\":\n",
    "    if player2 == \"rock\":\n",
    "        print(\"Player#2 wins\")\n",
    "    elif player2 == \"paper\":\n",
    "        print(\"Player#1 wins\")\n",
    "    else:\n",
    "        print(\"Invalid weapon\")\n",
    "else:\n",
    "    print(\"Invalid weapon\")"
   ]
  },
  {
   "cell_type": "code",
   "execution_count": null,
   "metadata": {},
   "outputs": [],
   "source": []
  },
  {
   "cell_type": "code",
   "execution_count": null,
   "metadata": {},
   "outputs": [],
   "source": [
    "'''\n",
    "s.find(x) -- Returns the index of the first occurrence of item x in the string s, else returns -1.\n",
    "In a string, the index of the first character is 0, not 1.  \n",
    "'''\n",
    "\n",
    "\n",
    "flavor = 'mint chocolate chip'\n",
    "print(flavor.find('mint'))       #mint starts in index 0.  strings use 0 based indexing\n",
    "print(flavor.find('chocolate'))  #chocolate starts in index 5\n",
    "print(flavor.find('chip'))       #chip starts in index 15\n",
    "print(flavor.find('o'))          #first occurrence of o is index 7\n",
    "print(flavor.find('vanilla'))    #vanilla is not in string so index -1 is returned"
   ]
  },
  {
   "cell_type": "code",
   "execution_count": null,
   "metadata": {},
   "outputs": [],
   "source": [
    "likes_icecream = input('Do you like ice cream (y/n)?')\n",
    "\n",
    "if likes_icecream == 'y':\n",
    "    flavor = input('What is your favorite flavor?')\n",
    "    if flavor.find('chocolate') >= 0:\n",
    "        print('I love anything with chocolate too!')\n",
    "    else:\n",
    "        print('Hmm, interesting choice.',)\n",
    "else:\n",
    "    reason = input('Why not?')\n",
    "    print(reason,': sounds like a good reason.')"
   ]
  },
  {
   "cell_type": "code",
   "execution_count": null,
   "metadata": {},
   "outputs": [],
   "source": [
    "#this won't work, is_laughing is a string, not a boolean\n",
    "is_laughing = input('are you laughing (True/False)')\n",
    "print(is_laughing)\n",
    "print(type(is_laughing))\n",
    "\n",
    "if is_laughing == True:\n",
    "    print('you are laughing')\n",
    "else:\n",
    "    print('you are not laughing')"
   ]
  },
  {
   "cell_type": "code",
   "execution_count": null,
   "metadata": {},
   "outputs": [],
   "source": [
    "#this won't work, anything that is not empty string is True\n",
    "is_laughing = bool(input('are you laughing (True/False)'))\n",
    "print(is_laughing)\n",
    "print(type(is_laughing))\n",
    "\n",
    "\n",
    "if is_laughing == True:\n",
    "    print('you are laughing')\n",
    "else:\n",
    "    print('you are not laughing')"
   ]
  },
  {
   "cell_type": "code",
   "execution_count": null,
   "metadata": {},
   "outputs": [],
   "source": [
    "#This works, compare the input and set is_laughing as a boolean expression\n",
    "\n",
    "\n",
    "is_laughing = input('are you laughing (y/n)?') == 'y'\n",
    "print(is_laughing)\n",
    "print(type(is_laughing))\n",
    "\n",
    "\n",
    "if is_laughing == True:\n",
    "    print('you are laughing')\n",
    "else:\n",
    "    print('you are not laughing')"
   ]
  },
  {
   "cell_type": "code",
   "execution_count": null,
   "metadata": {},
   "outputs": [],
   "source": [
    "#Previous cell is equivalent to this:\n",
    "\n",
    "if input('are you laughing (y/n)?') == 'y':\n",
    "    is_laughing = True\n",
    "else:\n",
    "    is_laughing = False\n",
    "print(is_laughing)\n",
    "print(type(is_laughing))\n",
    "\n",
    "\n",
    "if is_laughing == True:\n",
    "    print('you are laughing')\n",
    "else:\n",
    "    print('you are not laughing')"
   ]
  },
  {
   "cell_type": "code",
   "execution_count": null,
   "metadata": {},
   "outputs": [],
   "source": []
  }
 ],
 "metadata": {
  "kernelspec": {
   "display_name": "Python 3",
   "language": "python",
   "name": "python3"
  },
  "language_info": {
   "codemirror_mode": {
    "name": "ipython",
    "version": 3
   },
   "file_extension": ".py",
   "mimetype": "text/x-python",
   "name": "python",
   "nbconvert_exporter": "python",
   "pygments_lexer": "ipython3",
   "version": "3.6.9"
  }
 },
 "nbformat": 4,
 "nbformat_minor": 2
}
