{
 "cells": [
  {
   "cell_type": "code",
   "execution_count": 12,
   "metadata": {},
   "outputs": [],
   "source": [
    "import random\n",
    "import math\n"
   ]
  },
  {
   "cell_type": "code",
   "execution_count": 2,
   "metadata": {
    "scrolled": true
   },
   "outputs": [
    {
     "name": "stdout",
     "output_type": "stream",
     "text": [
      "current hours studying:8\n",
      "current hours on Tiktok:20\n",
      "weekly increase in studying:2\n",
      "week 1, studying 10 Tiktok 18\n",
      "week 2, studying 12 Tiktok 16\n",
      "week 3, studying 14 Tiktok 14\n",
      "Congrats! The hours studying 14 meets or exceeds hours on Tiktok 14 in week 3\n"
     ]
    }
   ],
   "source": [
    "'''\n",
    "Task1\n",
    "'''\n",
    "study = int(input('current hours studying:'))\n",
    "tiktok = int(input('current hours on Tiktok:'))\n",
    "hours= int(input('weekly increase in studying:'))\n",
    "week = 0\n",
    "while tiktok > study:\n",
    "    study += hours\n",
    "    tiktok -= hours\n",
    "    week+=1\n",
    "    print('week {}, studying {} Tiktok {}'.format(week, study, tiktok))\n",
    "    \n",
    "print('Congrats! The hours studying {} meets or exceeds hours on Tiktok {} in week {}'.format( study,tiktok,week))"
   ]
  },
  {
   "cell_type": "code",
   "execution_count": 14,
   "metadata": {
    "scrolled": false
   },
   "outputs": [
    {
     "name": "stdout",
     "output_type": "stream",
     "text": [
      "freshman sits in seat 1\n",
      "junior sits in seat 2\n",
      "senior sits in seat 3\n",
      "sophomore sits in seat 4\n",
      "junior sits in seat 5\n",
      "freshman sits in seat 6\n",
      "sophomore sits in seat 7\n",
      "junior sits in seat 8\n",
      "junior sits in seat 9\n",
      "sophomore sits in seat 10\n",
      "5 underclassmen , 5 upperclassmen\n"
     ]
    }
   ],
   "source": [
    "'''\n",
    "Task2 \n",
    "'''\n",
    "under = 0\n",
    "upper = 0\n",
    "seat = 1\n",
    "while  seat <= 10:\n",
    "    year = random.randint(1,4)\n",
    "    if year == 1:\n",
    "        print('freshman sits in seat {}'.format(seat))\n",
    "        under += 1\n",
    "    elif year == 2:\n",
    "        print('sophomore sits in seat {}'.format(seat))\n",
    "        under += 1\n",
    "    elif year == 3:\n",
    "        print('junior sits in seat {}'.format(seat))\n",
    "        upper +=1\n",
    "    else:\n",
    "        print('senior sits in seat {}'.format(seat))\n",
    "        upper += 1\n",
    "    seat+= 1\n",
    "    \n",
    "print('{} underclassmen , {} upperclassmen'.format(under, upper) )"
   ]
  },
  {
   "cell_type": "code",
   "execution_count": null,
   "metadata": {},
   "outputs": [],
   "source": []
  }
 ],
 "metadata": {
  "kernelspec": {
   "display_name": "Python 3",
   "language": "python",
   "name": "python3"
  },
  "language_info": {
   "codemirror_mode": {
    "name": "ipython",
    "version": 3
   },
   "file_extension": ".py",
   "mimetype": "text/x-python",
   "name": "python",
   "nbconvert_exporter": "python",
   "pygments_lexer": "ipython3",
   "version": "3.6.9"
  }
 },
 "nbformat": 4,
 "nbformat_minor": 2
}
