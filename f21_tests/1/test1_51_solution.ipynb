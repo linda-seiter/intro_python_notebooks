{
 "cells": [
  {
   "cell_type": "code",
   "execution_count": 2,
   "metadata": {},
   "outputs": [],
   "source": [
    "import random\n",
    "import math"
   ]
  },
  {
   "cell_type": "code",
   "execution_count": 3,
   "metadata": {
    "scrolled": false
   },
   "outputs": [
    {
     "name": "stdout",
     "output_type": "stream",
     "text": [
      "account#1 balance:130\n",
      "account#2 balance:50\n",
      "transfer amount:10\n",
      "day 1 after transferring $10, account#1 $120 account#2 $60\n",
      "day 2 after transferring $10, account#1 $110 account#2 $70\n",
      "day 3 after transferring $10, account#1 $100 account#2 $80\n",
      "day 4 after transferring $10, account#1 $90 account#2 $90\n",
      "4 transfers between accounts\n"
     ]
    }
   ],
   "source": [
    "'''\n",
    "Task1\n",
    "'''\n",
    "\n",
    "acct1 = int(input('account#1 balance:'))\n",
    "acct2 = int(input('account#2 balance:'))\n",
    "transfer = int(input('transfer amount:'))\n",
    "day=0\n",
    "while (acct1 > acct2):\n",
    "    acct1 -= transfer\n",
    "    acct2 += transfer\n",
    "    day += 1\n",
    "    print('day {} after transferring ${}, account#1 ${} account#2 ${}'.format(day, transfer, acct1,acct2))\n",
    "   \n",
    "\n",
    "print('{} transfers between accounts'.format(day))\n",
    "    "
   ]
  },
  {
   "cell_type": "code",
   "execution_count": 4,
   "metadata": {},
   "outputs": [
    {
     "name": "stdout",
     "output_type": "stream",
     "text": [
      "day 1 ate a pear\n",
      "day 2 ate an apple\n",
      "day 3 ate an apple\n",
      "day 4 ate a pear\n",
      "day 5 ate an apple\n",
      "day 6 ate brocolli\n",
      "day 7 ate an apple\n",
      "day 8 ate brocolli\n",
      "day 9 ate a carrot\n",
      "day 10 ate brocolli\n",
      "ate 6 fruit and 4 veggy\n"
     ]
    }
   ],
   "source": [
    "'''\n",
    "Task2\n",
    "'''\n",
    "fruit = 0\n",
    "veggy = 0\n",
    "day = 1\n",
    "while  day <= 10:\n",
    "    num = random.randint(1,4)\n",
    "    if num == 1:\n",
    "        print('day {} ate an apple'.format(day))\n",
    "        fruit += 1\n",
    "    elif num == 2:\n",
    "        print('day {} ate brocolli'.format(day))\n",
    "        veggy += 1\n",
    "    elif num == 3:\n",
    "        print('day {} ate a pear'.format(day))\n",
    "        fruit +=1\n",
    "    else:\n",
    "        print('day {} ate a carrot'.format(day))\n",
    "        veggy += 1\n",
    "    day+= 1\n",
    "    \n",
    "print('ate {} fruit and {} veggy'.format(fruit, veggy) )"
   ]
  },
  {
   "cell_type": "code",
   "execution_count": null,
   "metadata": {},
   "outputs": [],
   "source": []
  },
  {
   "cell_type": "code",
   "execution_count": null,
   "metadata": {},
   "outputs": [],
   "source": []
  }
 ],
 "metadata": {
  "kernelspec": {
   "display_name": "Python 3",
   "language": "python",
   "name": "python3"
  },
  "language_info": {
   "codemirror_mode": {
    "name": "ipython",
    "version": 3
   },
   "file_extension": ".py",
   "mimetype": "text/x-python",
   "name": "python",
   "nbconvert_exporter": "python",
   "pygments_lexer": "ipython3",
   "version": "3.6.9"
  }
 },
 "nbformat": 4,
 "nbformat_minor": 2
}
