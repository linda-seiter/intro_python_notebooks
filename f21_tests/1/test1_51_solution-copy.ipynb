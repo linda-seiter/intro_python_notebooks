{
 "cells": [
  {
   "cell_type": "code",
   "execution_count": 6,
   "metadata": {},
   "outputs": [],
   "source": [
    "import random\n",
    "import math"
   ]
  },
  {
   "cell_type": "code",
   "execution_count": 34,
   "metadata": {
    "scrolled": false
   },
   "outputs": [
    {
     "name": "stdout",
     "output_type": "stream",
     "text": [
      "account#1 balance:100\n",
      "account#2 balance:150\n",
      "transfer amount:5\n",
      "0 transfers between accounts\n"
     ]
    }
   ],
   "source": [
    "'''\n",
    "Task1\n",
    "'''\n",
    "\n",
    "acct1 = int(input('account#1 balance:'))\n",
    "acct2 = int(input('account#2 balance:'))\n",
    "transfer = int(input('transfer amount:'))\n",
    "count=0\n",
    "day=1\n",
    "while (acct1 > acct2):\n",
    "    count += 1\n",
    "    acct1 -= transfer\n",
    "    acct2 += transfer\n",
    "    print('day {} after transferring ${}, account#1 ${} account#2 ${}'.format(day, transfer, acct1,acct2))\n",
    "    day += 1\n",
    "\n",
    "print('{} transfers between accounts'.format(count))\n",
    "    "
   ]
  },
  {
   "cell_type": "code",
   "execution_count": 22,
   "metadata": {},
   "outputs": [
    {
     "name": "stdout",
     "output_type": "stream",
     "text": [
      "day 1 ate an apple\n",
      "day 2 ate an brocolli\n",
      "day 3 ate a pear\n",
      "day 4 ate a pear\n",
      "day 5 ate a carrot\n",
      "day 6 ate a carrot\n",
      "day 7 ate an apple\n",
      "day 8 ate an brocolli\n",
      "day 9 ate a pear\n",
      "day 10 ate an brocolli\n",
      "ate 5 fruit and 5 veggy\n"
     ]
    }
   ],
   "source": [
    "'''\n",
    "Task2\n",
    "'''\n",
    "fruit = 0\n",
    "veggy = 0\n",
    "total = 0\n",
    "day = 1\n",
    "while  total < 10:\n",
    "    num = random.randint(1,4)\n",
    "    if num == 1:\n",
    "        print('day {} ate an apple'.format(day))\n",
    "        fruit += 1\n",
    "    elif num == 2:\n",
    "        print('day {} ate an brocolli'.format(day))\n",
    "        veggy += 1\n",
    "    elif num == 3:\n",
    "        print('day {} ate a pear'.format(day))\n",
    "        fruit +=1\n",
    "    else:\n",
    "        print('day {} ate a carrot'.format(day))\n",
    "        veggy += 1\n",
    "    day+= 1\n",
    "    total+= 1\n",
    "    \n",
    "print('ate {} fruit and {} veggy'.format(fruit, veggy) )"
   ]
  },
  {
   "cell_type": "code",
   "execution_count": 68,
   "metadata": {},
   "outputs": [
    {
     "name": "stdout",
     "output_type": "stream",
     "text": [
      "3 > 1 WINNER: player1\n",
      "5 > 4 WINNER: player1\n",
      "2 > 1 WINNER: player1\n",
      "3 > 1 WINNER: player1\n",
      "1 < 5 WINNER: player2\n",
      "2 < 5 WINNER: player2\n",
      "2 == 2 TIE\n"
     ]
    }
   ],
   "source": [
    "'''\n",
    "Task2 \n",
    "'''\n",
    "numties = 0\n",
    "while  numties == 0:\n",
    "    player1 = random.randint(1,5)\n",
    "    player2 = random.randint(1,5)\n",
    "    if player1 > player2:\n",
    "        print('{} > {} WINNER: player1'.format(player1,player2))\n",
    "    elif player1 < player2:\n",
    "        print('{} < {} WINNER: player2'.format(player1,player2))\n",
    "    else:\n",
    "        print('{} == {} TIE'.format(player1,player2))\n",
    "        numties +=1\n"
   ]
  },
  {
   "cell_type": "code",
   "execution_count": 35,
   "metadata": {},
   "outputs": [
    {
     "name": "stdout",
     "output_type": "stream",
     "text": [
      "enter number:5\n",
      "5\n",
      "4\n",
      "3\n",
      "2\n",
      "1\n"
     ]
    }
   ],
   "source": [
    "'''\n",
    "Task1\n",
    "'''\n",
    "\n",
    "num = int(input('enter number:'))\n",
    "if (num > 0):\n",
    "    while num > 0:\n",
    "        print(num)\n",
    "        num -= 1    \n",
    "else:\n",
    "    while num < 0:\n",
    "        print(num)\n",
    "        num += 1\n",
    "        "
   ]
  },
  {
   "cell_type": "code",
   "execution_count": 34,
   "metadata": {},
   "outputs": [
    {
     "name": "stdout",
     "output_type": "stream",
     "text": [
      "enter number:6\n",
      "6\n",
      "5\n",
      "4\n",
      "3\n",
      "2\n",
      "1\n"
     ]
    }
   ],
   "source": [
    "'''\n",
    "Task1b\n",
    "'''\n",
    "\n",
    "num = int(input('enter number:'))\n",
    "if (num > 0):\n",
    "    change = -1\n",
    "else:\n",
    "    change = 1\n",
    "\n",
    "while num != 0:\n",
    "        print(num)\n",
    "        num += change\n",
    "        "
   ]
  },
  {
   "cell_type": "code",
   "execution_count": 73,
   "metadata": {},
   "outputs": [
    {
     "name": "stdout",
     "output_type": "stream",
     "text": [
      "hours studying week 1:10\n",
      "hourly increase in studying per week:2\n",
      "weekly studying goal:18\n",
      "week 1 you studied 10 hours\n",
      "week 2 you studied 12 hours\n",
      "week 3 you studied 14 hours\n",
      "week 4 you studied 16 hours\n",
      "Congrats, you are studying 18 hours in week5\n"
     ]
    }
   ],
   "source": []
  },
  {
   "cell_type": "code",
   "execution_count": null,
   "metadata": {},
   "outputs": [],
   "source": []
  }
 ],
 "metadata": {
  "kernelspec": {
   "display_name": "Python 3",
   "language": "python",
   "name": "python3"
  },
  "language_info": {
   "codemirror_mode": {
    "name": "ipython",
    "version": 3
   },
   "file_extension": ".py",
   "mimetype": "text/x-python",
   "name": "python",
   "nbconvert_exporter": "python",
   "pygments_lexer": "ipython3",
   "version": "3.6.9"
  }
 },
 "nbformat": 4,
 "nbformat_minor": 2
}
