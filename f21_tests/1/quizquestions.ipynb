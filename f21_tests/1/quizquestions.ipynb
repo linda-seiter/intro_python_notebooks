{
 "cells": [
  {
   "cell_type": "code",
   "execution_count": null,
   "metadata": {},
   "outputs": [],
   "source": [
    "14 % 4"
   ]
  },
  {
   "cell_type": "code",
   "execution_count": null,
   "metadata": {},
   "outputs": [],
   "source": [
    "14 // 4"
   ]
  },
  {
   "cell_type": "code",
   "execution_count": null,
   "metadata": {},
   "outputs": [],
   "source": [
    "a = 2\n",
    "\n",
    "b = 2 * a\n",
    "\n",
    "c = b + 1\n",
    "\n",
    "d = a  + b + c\n",
    "\n",
    "print(d)"
   ]
  },
  {
   "cell_type": "code",
   "execution_count": null,
   "metadata": {},
   "outputs": [],
   "source": [
    "x = 10\n",
    "a = 5\n",
    "b = 0\n",
    "if b < 0: \n",
    "    x = x + 5 \n",
    "elif a > 5:\n",
    "    x = x + 4\n",
    "else:\n",
    "    x = x + 3\n",
    "print(x)"
   ]
  },
  {
   "cell_type": "code",
   "execution_count": null,
   "metadata": {},
   "outputs": [],
   "source": [
    "bonus_val = 16\n",
    "\n",
    "if bonus_val < 20:\n",
    "    bonus_val += 5\n",
    "if bonus_val > 20:\n",
    "    bonus_val += 10\n",
    "    \n",
    "print(bonus_val)"
   ]
  },
  {
   "cell_type": "code",
   "execution_count": 1,
   "metadata": {},
   "outputs": [
    {
     "name": "stdout",
     "output_type": "stream",
     "text": [
      "7\n"
     ]
    }
   ],
   "source": [
    "x = 1\n",
    "while x < 6:\n",
    "     x += 2\n",
    "print(x)"
   ]
  },
  {
   "cell_type": "code",
   "execution_count": 2,
   "metadata": {},
   "outputs": [
    {
     "name": "stdout",
     "output_type": "stream",
     "text": [
      "9\n"
     ]
    }
   ],
   "source": [
    "sum = 0\n",
    "i = 2\n",
    "\n",
    "while i <= 4:\n",
    "    sum += i\n",
    "    i += 1 \n",
    "\n",
    "print(sum)"
   ]
  },
  {
   "cell_type": "code",
   "execution_count": null,
   "metadata": {},
   "outputs": [],
   "source": [
    "#INFINITE LOOP\n",
    "y = 5\n",
    "\n",
    "while y< 10:\n",
    "\n",
    "    if y % 2 == 0:\n",
    "\n",
    "         print(y, 'even')\n",
    "\n",
    "    else:\n",
    "\n",
    "          print(y,'odd')\n",
    "\n",
    "    y -= 1"
   ]
  },
  {
   "cell_type": "code",
   "execution_count": null,
   "metadata": {},
   "outputs": [],
   "source": [
    "#FINITE LOOP\n",
    "\n",
    "count = 10\n",
    "\n",
    "while count < 15:\n",
    "\n",
    "    if count % 2 == 0:\n",
    "\n",
    "         count += 1\n",
    "\n",
    "    else:\n",
    "\n",
    "         count += 2\n",
    "    print(count)"
   ]
  },
  {
   "cell_type": "code",
   "execution_count": null,
   "metadata": {},
   "outputs": [],
   "source": [
    "#INFINITE LOOP\n",
    "\n",
    "count = 10\n",
    "\n",
    "while count < 15:\n",
    "\n",
    "    if count % 2 == 0:\n",
    "\n",
    "         count += 1\n",
    "\n",
    "    else:\n",
    "\n",
    "         count -= 1\n",
    "\n",
    "    print(count)"
   ]
  },
  {
   "cell_type": "code",
   "execution_count": null,
   "metadata": {},
   "outputs": [],
   "source": []
  }
 ],
 "metadata": {
  "kernelspec": {
   "display_name": "Python 3",
   "language": "python",
   "name": "python3"
  },
  "language_info": {
   "codemirror_mode": {
    "name": "ipython",
    "version": 3
   },
   "file_extension": ".py",
   "mimetype": "text/x-python",
   "name": "python",
   "nbconvert_exporter": "python",
   "pygments_lexer": "ipython3",
   "version": "3.6.9"
  }
 },
 "nbformat": 4,
 "nbformat_minor": 2
}
