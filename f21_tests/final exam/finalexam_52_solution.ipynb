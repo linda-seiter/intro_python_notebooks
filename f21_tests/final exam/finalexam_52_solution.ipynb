{
 "cells": [
  {
   "cell_type": "code",
   "execution_count": 3,
   "metadata": {},
   "outputs": [
    {
     "name": "stdout",
     "output_type": "stream",
     "text": [
      "testing list 1\n",
      "2*5=10\n",
      "5*9=45\n",
      "9*4=36\n",
      "\n",
      "testing list 2\n",
      "10*14=140\n",
      "14*20=280\n",
      "20*5=100\n",
      "5*2=10\n",
      "2*3=6\n"
     ]
    }
   ],
   "source": [
    "'''\n",
    "Task1\n",
    "'''\n",
    "def product(list):\n",
    "    for i in range(len(list) - 1):\n",
    "        print('{}*{}={}'.format(list[i],list[i+1],list[i]*list[i+1]))\n",
    "      \n",
    "        \n",
    "list1 = [2, 5, 9, 4]\n",
    "print('testing list 1')\n",
    "product(list1)\n",
    "\n",
    "print()\n",
    "list2 = [10, 14, 20, 5, 2, 3]\n",
    "print('testing list 2')\n",
    "product(list2)"
   ]
  },
  {
   "cell_type": "code",
   "execution_count": null,
   "metadata": {},
   "outputs": [],
   "source": []
  },
  {
   "cell_type": "code",
   "execution_count": 5,
   "metadata": {},
   "outputs": [
    {
     "name": "stdout",
     "output_type": "stream",
     "text": [
      "tests passed\n"
     ]
    }
   ],
   "source": [
    "'''\n",
    "Task2a\n",
    "'''\n",
    "\n",
    "def get_direction(str):\n",
    "    if str.count('-->') > 0:\n",
    "        pos = str.index('-->')\n",
    "        return str[0:pos]\n",
    "    else:\n",
    "        return ''\n",
    "\n",
    "#Test cases\n",
    "assert(get_direction('left-->50') == 'left')\n",
    "assert(get_direction('right-->10') == 'right') \n",
    "assert(get_direction('up-->5') == 'up') \n",
    "assert(get_direction('down-->200') == 'down') \n",
    "assert(get_direction('left') == '')  #missing -->\n",
    "assert(get_direction('left--100') == '') #missing -->\n",
    "\n",
    "print('tests passed')"
   ]
  },
  {
   "cell_type": "code",
   "execution_count": 8,
   "metadata": {},
   "outputs": [
    {
     "name": "stdout",
     "output_type": "stream",
     "text": [
      "enter command:forward-->50\n",
      "unknown direction: forward\n"
     ]
    }
   ],
   "source": [
    "'''\n",
    "Task2b\n",
    "'''\n",
    "\n",
    "valid_directions = ['left','right','up','down']\n",
    "\n",
    "#write your code here\n",
    "\n",
    "command = input('enter command:')\n",
    "direction = get_direction(command)\n",
    "if direction != '':\n",
    "    if valid_directions.count(direction) > 0:\n",
    "        print('valid direction:',direction)\n",
    "    else:\n",
    "        print('unknown direction:', direction)\n",
    "else:\n",
    "    print('invalid command:',command)"
   ]
  },
  {
   "cell_type": "code",
   "execution_count": null,
   "metadata": {},
   "outputs": [],
   "source": []
  },
  {
   "cell_type": "code",
   "execution_count": 8,
   "metadata": {},
   "outputs": [
    {
     "name": "stdout",
     "output_type": "stream",
     "text": [
      "7 13 6 \n",
      "1 9 -4 \n",
      "13 2 \n",
      "invalid row index\n",
      "row lengths do not match\n",
      "7 6 5 12 \n",
      "invalid row index\n"
     ]
    }
   ],
   "source": [
    "'''\n",
    "task3\n",
    "'''\n",
    "def diff_rows(list, row1, row2) :\n",
    "    if row1 < len(list) and row2 < len(list):\n",
    "        if len(list[row1]) == len(list[row2]): \n",
    "            for i in range(len(list[row1])):\n",
    "                print(list[row1][i] - list[row2][i], end = ' ')\n",
    "            print()\n",
    "        else:\n",
    "            print('row lengths do not match')\n",
    "    else:\n",
    "        print('invalid row index')\n",
    "\n",
    "num1_list = [\n",
    "    [10,14,8 ],\n",
    "    [3, 1, 2 ],\n",
    "    [9, 5, 12],\n",
    "    [20, 10],\n",
    "    [7, 8]\n",
    "]\n",
    "\n",
    "diff_rows(num1_list,0,1)  #7 13 6\n",
    "diff_rows(num1_list,0,2)  #1 9 -4\n",
    "diff_rows(num1_list,3,4)  #13 2\n",
    "diff_rows(num1_list,1,5)  #invalid row index\n",
    "diff_rows(num1_list,2,3)  #row lengths do not match\n",
    "\n",
    "num2_list = [\n",
    "    [16,14,12,18],\n",
    "    [9,8,7,6]\n",
    "]\n",
    "\n",
    "diff_rows(num2_list,0,1)  #7 6 5 12\n",
    "diff_rows(num2_list,1,2)  #invalid row index\n"
   ]
  },
  {
   "cell_type": "code",
   "execution_count": null,
   "metadata": {},
   "outputs": [],
   "source": []
  }
 ],
 "metadata": {
  "kernelspec": {
   "display_name": "Python 3",
   "language": "python",
   "name": "python3"
  },
  "language_info": {
   "codemirror_mode": {
    "name": "ipython",
    "version": 3
   },
   "file_extension": ".py",
   "mimetype": "text/x-python",
   "name": "python",
   "nbconvert_exporter": "python",
   "pygments_lexer": "ipython3",
   "version": "3.6.9"
  }
 },
 "nbformat": 4,
 "nbformat_minor": 2
}
