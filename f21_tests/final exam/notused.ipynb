{
 "cells": [
  {
   "cell_type": "code",
   "execution_count": 47,
   "metadata": {},
   "outputs": [
    {
     "name": "stdout",
     "output_type": "stream",
     "text": [
      "differences for list 1\n",
      "20-18=2\n",
      "18-12=6\n",
      "12-4=8\n",
      "\n",
      "differences for list 2\n",
      "10-4=6\n",
      "4-20=-16\n",
      "20-5=15\n",
      "5-5=0\n",
      "5-3=2\n"
     ]
    }
   ],
   "source": [
    "'''\n",
    "Task1 section 51\n",
    "'''\n",
    "\n",
    "#Add your function here\n",
    "def difference(list):\n",
    "    for i in range(len(list) - 1):\n",
    "        print('{}-{}={}'.format(list[i],list[i+1],list[i]-list[i+1]))\n",
    "       \n",
    "    \n",
    "#Test cases, confirm your output to expected output\n",
    "list1 = [20, 18, 12, 4]\n",
    "print('differences for list 1')\n",
    "difference(list1)\n",
    "\n",
    "print()\n",
    "list2 = [10, 4, 20, 5, 5, 3]\n",
    "print('differences for list 2')\n",
    "difference(list2)\n"
   ]
  },
  {
   "cell_type": "code",
   "execution_count": 48,
   "metadata": {},
   "outputs": [
    {
     "name": "stdout",
     "output_type": "stream",
     "text": [
      "testing list 1\n",
      "2*5=10\n",
      "5*9=45\n",
      "9*4=36\n",
      "\n",
      "testing list 2\n",
      "10*14=140\n",
      "14*20=280\n",
      "20*5=100\n",
      "5*2=10\n",
      "2*3=6\n"
     ]
    }
   ],
   "source": [
    "'''\n",
    "Task1 section 52\n",
    "'''\n",
    "def product(list):\n",
    "    for i in range(len(list) - 1):\n",
    "        inorder = list[i]<list[i+1]\n",
    "        print('{}*{}={}'.format(list[i],list[i+1],list[i]*list[i+1]))\n",
    "      \n",
    "        \n",
    "list1 = [2, 5, 9, 4]\n",
    "print('testing list 1')\n",
    "product(list1)\n",
    "\n",
    "print()\n",
    "list2 = [10, 14, 20, 5, 2, 3]\n",
    "print('testing list 2')\n",
    "product(list2)"
   ]
  },
  {
   "cell_type": "code",
   "execution_count": null,
   "metadata": {},
   "outputs": [],
   "source": []
  },
  {
   "cell_type": "code",
   "execution_count": 56,
   "metadata": {},
   "outputs": [
    {
     "name": "stdout",
     "output_type": "stream",
     "text": [
      "tests passed\n"
     ]
    }
   ],
   "source": [
    "'''\n",
    "Task2a section 51\n",
    "'''\n",
    "\n",
    "def get_protocol(str):\n",
    "    if str.count('://') > 0:\n",
    "        colonslash = str.index('://')\n",
    "        return str[0:colonslash]\n",
    "    else:\n",
    "        return ''\n",
    "\n",
    "#Test cases\n",
    "assert(get_protocol('https://jcu.edu') == 'https')\n",
    "assert(get_protocol('http://google.com') == 'http') \n",
    "assert(get_protocol('mailto://fred@jcu.edu') == 'mailto') \n",
    "assert(get_protocol('ftp://address.edu/file.txt') == 'ftp') \n",
    "assert(get_protocol('apple.com') == '')  #missing ://\n",
    "\n",
    "print('tests passed')"
   ]
  },
  {
   "cell_type": "code",
   "execution_count": 60,
   "metadata": {},
   "outputs": [
    {
     "name": "stdout",
     "output_type": "stream",
     "text": [
      "enter url:google.com\n",
      "missing protocol: google.com\n"
     ]
    }
   ],
   "source": [
    "'''\n",
    "Task2b section 51\n",
    "'''\n",
    "\n",
    "valid_protocols = ['http','https','ftp','mailto']\n",
    "\n",
    "#write your code here\n",
    "\n",
    "url = input('enter url:')\n",
    "protocol = get_protocol(url)\n",
    "if protocol != '':\n",
    "    if valid_protocols.count(protocol) > 0:\n",
    "        print('valid protocol:',protocol)\n",
    "    else:\n",
    "        print('unknown protocol:', protocol)\n",
    "else:\n",
    "    print('missing protocol:',url)"
   ]
  },
  {
   "cell_type": "code",
   "execution_count": 10,
   "metadata": {},
   "outputs": [
    {
     "name": "stdout",
     "output_type": "stream",
     "text": [
      "tests passed\n"
     ]
    }
   ],
   "source": [
    "'''\n",
    "Task2a section 52\n",
    "'''\n",
    "\n",
    "def get_direction(str):\n",
    "    if str.count('-->') > 0:\n",
    "        pos = str.index('-->')\n",
    "        return str[0:pos]\n",
    "    else:\n",
    "        return ''\n",
    "\n",
    "#Test cases\n",
    "assert(get_direction('left-->50') == 'left')\n",
    "assert(get_direction('right-->10') == 'right') \n",
    "assert(get_direction('up-->5') == 'up') \n",
    "assert(get_direction('down-->200') == 'down') \n",
    "assert(get_direction('left') == '')  #missing -->\n",
    "assert(get_direction('left--100') == '') #missing -->\n",
    "\n",
    "print('tests passed')"
   ]
  },
  {
   "cell_type": "code",
   "execution_count": null,
   "metadata": {},
   "outputs": [],
   "source": [
    "'''\n",
    "Task2b section 52\n",
    "'''\n",
    "\n",
    "valid_directions = ['left','right','up','down']\n",
    "\n",
    "#write your code here\n",
    "\n",
    "command = input('enter command:')\n",
    "direction = get_direction(command)\n",
    "if direction != '':\n",
    "    if valid_directions.count(direction) > 0:\n",
    "        print('valid direction:',direction)\n",
    "    else:\n",
    "        print('unknown direction:', direction)\n",
    "else:\n",
    "    print('invalid command:',command)"
   ]
  },
  {
   "cell_type": "code",
   "execution_count": null,
   "metadata": {},
   "outputs": [],
   "source": []
  },
  {
   "cell_type": "code",
   "execution_count": 26,
   "metadata": {},
   "outputs": [
    {
     "name": "stdout",
     "output_type": "stream",
     "text": [
      "10 5 3 \n",
      "16 9 13 \n",
      "8 10 \n",
      "invalid row index\n",
      "row lengths do not match\n",
      "15 12 9 14 \n",
      "invalid row index\n"
     ]
    }
   ],
   "source": [
    "'''\n",
    "task3\n",
    "'''\n",
    "def sum_rows(list, row1, row2) :\n",
    "    if row1 < len(list) and row2 < len(list):\n",
    "        if len(list[row1]) == len(list[row2]): \n",
    "            for i in range(len(list[row1])):\n",
    "                print(list[row1][i] + list[row2][i], end = ' ')\n",
    "            print()\n",
    "        else:\n",
    "            print('row lengths do not match')\n",
    "    else:\n",
    "        print('invalid row index')\n",
    "\n",
    "num1_list = [\n",
    "    [7,4,1],\n",
    "    [3,1,2],\n",
    "    [9,5,12],\n",
    "    [1,2],\n",
    "    [7,8]\n",
    "]\n",
    "\n",
    "sum_rows(num1_list,0,1)  #10 5 3\n",
    "sum_rows(num1_list,0,2)  #16 9 13\n",
    "sum_rows(num1_list,3,4)  #8 10\n",
    "sum_rows(num1_list,1,5)  #invalid row index\n",
    "sum_rows(num1_list,2,3)  #row lengths do not match\n",
    "\n",
    "num2_list = [\n",
    "    [6,4,2,8],\n",
    "    [9,8,7,6]\n",
    "]\n",
    "\n",
    "sum_rows(num2_list,0,1)  #15 12 9 14\n",
    "sum_rows(num2_list,1,2)  #invalid row index\n"
   ]
  },
  {
   "cell_type": "code",
   "execution_count": null,
   "metadata": {},
   "outputs": [],
   "source": []
  },
  {
   "cell_type": "code",
   "execution_count": null,
   "metadata": {},
   "outputs": [],
   "source": []
  },
  {
   "cell_type": "code",
   "execution_count": null,
   "metadata": {},
   "outputs": [],
   "source": [
    "'''\n",
    "NO Task1a\n",
    "'''\n",
    "\n",
    "def position_first_digit(str):\n",
    "    for i in range(len(str)):\n",
    "        if str[i].isdigit():\n",
    "            return i\n",
    "    return -1\n",
    "\n",
    "assert(position_first_digit('cs128') == 2)\n",
    "assert(position_first_digit('Hello789!') == 5)\n",
    "assert(position_first_digit('65 Main St') == 0)\n",
    "assert(position_first_digit('Fred') == -1)  #no digits\n",
    "assert(position_first_digit('') == -1)  #empty string\n",
    "\n",
    "print('task1a tests passed')"
   ]
  },
  {
   "cell_type": "code",
   "execution_count": null,
   "metadata": {},
   "outputs": [],
   "source": [
    "'''\n",
    "NO Task1b - course code should be at least 2 characters before first digit\n",
    "'''\n",
    "\n",
    "def course_code(course):\n",
    "    pos_digit = position_first_digit(course)\n",
    "    if pos_digit >= 2:\n",
    "        return course[0:pos_digit]\n",
    "    else:\n",
    "        return 'invalid'\n",
    "\n",
    "assert(course_code('cs128') == 'cs')\n",
    "assert(course_code('MT118') == 'MT')\n",
    "assert(course_code('data100') == 'data')\n",
    "assert(course_code('trs200') == 'trs') \n",
    "assert(course_code('cs128L') == 'cs')\n",
    "assert(course_code('c999') == 'invalid')  #code must be at least two characters\n",
    "assert(course_code('csabc') == 'invalid')  #no digits\n",
    "\n",
    "\n",
    "print('task1b tests passed')"
   ]
  },
  {
   "cell_type": "code",
   "execution_count": null,
   "metadata": {},
   "outputs": [],
   "source": [
    "'''\n",
    "NO Task1c - course number is the three digits that follow the course code.\n",
    "HINT: Find the position of the first digit and extract substring of length 3.\n",
    "'''\n",
    "\n",
    "def course_num(course):\n",
    "    pos_digit = position_first_digit(course)\n",
    "    if pos_digit >= 2:\n",
    "        num = course[pos_digit:pos_digit+3]\n",
    "        if num.isdigit() and len(num) == 3:\n",
    "            return num\n",
    "    return 'invalid'\n",
    "\n",
    "assert(course_num('cs128') == '128')\n",
    "assert(course_num('mt118') == '118')\n",
    "assert(course_num('data100') == '100')\n",
    "assert(course_num('cs128L') == '128') #ok if letters after course num\n",
    "assert(course_num('mt499b') == '499')  #of if letters after course num\n",
    "assert(course_num('mt12') == 'invalid')\n",
    "assert(course_num('123') == 'invalid')  #missing course code before digits \n",
    "\n",
    "print('task1c tests passed')"
   ]
  },
  {
   "cell_type": "code",
   "execution_count": null,
   "metadata": {},
   "outputs": [],
   "source": [
    "'''\n",
    "Task2 - nested list problem\n",
    "'''\n",
    "\n",
    "runs = [\n",
    "    [3, 2, 0, 3, 0, 0, 2],\n",
    "    [0, 2, 0, 0, 0, 1, 0],\n",
    "    [1, 0, 2, 3, 1, 2, 3], \n",
    "]\n",
    "\n",
    "total = 0\n",
    "for r in range(len(runs)):\n",
    "    count = 0\n",
    "    week = 0\n",
    "    for c in range(len(runs[0])):\n",
    "        if runs[r][c] != 0:\n",
    "            count += 1\n",
    "        week += runs[r][c]\n",
    "    print('week {} ran {} days for a weekly total of {} miles'.format((r+1), count, week))\n",
    "    total += week\n",
    "\n",
    "print('Total mileage:',total,'miles')"
   ]
  },
  {
   "cell_type": "code",
   "execution_count": null,
   "metadata": {},
   "outputs": [],
   "source": [
    "'''\n",
    "Task3 - nested list problem\n",
    "'''\n",
    "\n"
   ]
  },
  {
   "cell_type": "code",
   "execution_count": null,
   "metadata": {},
   "outputs": [],
   "source": [
    "def get_first_parameter(str):\n",
    "    query_string = get_query_string(str)\n",
    "    if query_string.count('&') > 0:\n",
    "        return query_string[0:query_string.index('&')]\n",
    "    else:\n",
    "        return query_string\n",
    "\n",
    "str1 = 'https://www.w3schools.com?name=John&age=30'\n",
    "assert(get_first_parameter(str1) == 'name=John')\n",
    "str2 = 'http://jcu.edu?major=cs'\n",
    "assert(get_first_parameter(str2) == 'major=cs')\n",
    "str3 = 'http://google.com'\n",
    "assert(get_first_parameter(str3) == '')  #empty string\n",
    "\n",
    "\n",
    "print('tests passed')"
   ]
  },
  {
   "cell_type": "code",
   "execution_count": null,
   "metadata": {},
   "outputs": [],
   "source": [
    "\n",
    "def extract_param_value(str):\n",
    "    param = get_first_parameter(str)\n",
    "    if param != 'invalid':\n",
    "        equal = param.index('=')\n",
    "        if equal != -1:\n",
    "            value = param[equal+1:]\n",
    "            if len(value) > 0:\n",
    "                return value\n",
    "    return 'invalid'"
   ]
  }
 ],
 "metadata": {
  "kernelspec": {
   "display_name": "Python 3",
   "language": "python",
   "name": "python3"
  },
  "language_info": {
   "codemirror_mode": {
    "name": "ipython",
    "version": 3
   },
   "file_extension": ".py",
   "mimetype": "text/x-python",
   "name": "python",
   "nbconvert_exporter": "python",
   "pygments_lexer": "ipython3",
   "version": "3.6.9"
  }
 },
 "nbformat": 4,
 "nbformat_minor": 2
}
