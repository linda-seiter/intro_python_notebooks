{
 "cells": [
  {
   "cell_type": "code",
   "execution_count": 14,
   "metadata": {},
   "outputs": [
    {
     "name": "stdout",
     "output_type": "stream",
     "text": [
      "42\n",
      "10\n",
      "22\n"
     ]
    }
   ],
   "source": [
    "ages = [20, 42, 18, 10, 5, 22, 75, 99]\n",
    "for i in range(1,7,2):\n",
    "    print(ages[i])"
   ]
  },
  {
   "cell_type": "code",
   "execution_count": null,
   "metadata": {},
   "outputs": [],
   "source": [
    "hour > 12 and thirsty or hungry\n"
   ]
  },
  {
   "cell_type": "code",
   "execution_count": 18,
   "metadata": {},
   "outputs": [
    {
     "name": "stdout",
     "output_type": "stream",
     "text": [
      "by\n",
      "bye\n",
      ",\n",
      "e\n"
     ]
    }
   ],
   "source": [
    "greeting = 'hi,bye'\n",
    "print(greeting[3:5])\n",
    "print(greeting[3:])\n",
    "print(greeting[2])\n",
    "print(greeting[-1])"
   ]
  },
  {
   "cell_type": "code",
   "execution_count": 19,
   "metadata": {},
   "outputs": [
    {
     "name": "stdout",
     "output_type": "stream",
     "text": [
      "Bill\n",
      "Al\n",
      "Sue\n"
     ]
    }
   ],
   "source": [
    "nums = [2,3,1]\n",
    "names = ['Bob','Sue','Ed','Al']\n",
    "for n in nums:\n",
    "    print(names[n])"
   ]
  },
  {
   "cell_type": "code",
   "execution_count": 35,
   "metadata": {},
   "outputs": [
    {
     "name": "stdout",
     "output_type": "stream",
     "text": [
      "p=2,w=0\n",
      "p=2,w=1\n",
      "p=3,w=0\n",
      "p=3,w=1\n",
      "p=3,w=2\n"
     ]
    }
   ],
   "source": [
    "for p in range(2,4):\n",
    "  for w in range(p):\n",
    "    print('p={},w={}'.format(p,w))\n",
    "     "
   ]
  },
  {
   "cell_type": "code",
   "execution_count": 37,
   "metadata": {},
   "outputs": [
    {
     "name": "stdout",
     "output_type": "stream",
     "text": [
      "3\n",
      "14\n",
      "2\n"
     ]
    }
   ],
   "source": [
    "nums = [\n",
    "    [8,3,6,2],\n",
    "    [10,12,14,8],\n",
    "    [9,3]\n",
    "]\n",
    "\n",
    "print(len(nums))\n",
    "print(nums[1][2])\n",
    "print(len(nums[2]))"
   ]
  },
  {
   "cell_type": "code",
   "execution_count": 11,
   "metadata": {},
   "outputs": [
    {
     "name": "stdout",
     "output_type": "stream",
     "text": [
      "12 True\n",
      "main st False\n",
      "apt#4 False\n"
     ]
    }
   ],
   "source": [
    "address = ['12','main st','apt#4']\n",
    "for val in address:\n",
    "    print(val, val.isdigit())"
   ]
  },
  {
   "cell_type": "code",
   "execution_count": 2,
   "metadata": {},
   "outputs": [
    {
     "name": "stdout",
     "output_type": "stream",
     "text": [
      "10\n",
      "16\n",
      "21\n"
     ]
    }
   ],
   "source": [
    "info = 'name=fred;age=21;gpa=3.6'\n",
    "tag='age='\n",
    "start = info.find(tag)\n",
    "print(start)\n",
    "end = info.find(';',start)\n",
    "print(end)\n",
    "print(info[start+len(tag):end])"
   ]
  },
  {
   "cell_type": "code",
   "execution_count": 8,
   "metadata": {},
   "outputs": [
    {
     "name": "stdout",
     "output_type": "stream",
     "text": [
      "10\n"
     ]
    }
   ],
   "source": [
    "def mystery(a, b):\n",
    "    if a < b:\n",
    "        return 2 * a\n",
    "    else:\n",
    "        return 3 * b\n",
    "    \n",
    "def test (x, y):\n",
    "    if x + y > 10:\n",
    "        return mystery(y, x)\n",
    "    else:\n",
    "        return mystery(x, y)\n",
    "    \n",
    "print( test (6,5) )"
   ]
  },
  {
   "cell_type": "code",
   "execution_count": null,
   "metadata": {},
   "outputs": [],
   "source": []
  }
 ],
 "metadata": {
  "kernelspec": {
   "display_name": "Python 3",
   "language": "python",
   "name": "python3"
  },
  "language_info": {
   "codemirror_mode": {
    "name": "ipython",
    "version": 3
   },
   "file_extension": ".py",
   "mimetype": "text/x-python",
   "name": "python",
   "nbconvert_exporter": "python",
   "pygments_lexer": "ipython3",
   "version": "3.6.9"
  }
 },
 "nbformat": 4,
 "nbformat_minor": 2
}
