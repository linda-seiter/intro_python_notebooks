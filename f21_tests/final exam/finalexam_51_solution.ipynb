{
 "cells": [
  {
   "cell_type": "code",
   "execution_count": 47,
   "metadata": {},
   "outputs": [
    {
     "name": "stdout",
     "output_type": "stream",
     "text": [
      "differences for list 1\n",
      "20-18=2\n",
      "18-12=6\n",
      "12-4=8\n",
      "\n",
      "differences for list 2\n",
      "10-4=6\n",
      "4-20=-16\n",
      "20-5=15\n",
      "5-5=0\n",
      "5-3=2\n"
     ]
    }
   ],
   "source": [
    "'''\n",
    "Task1 section 51\n",
    "'''\n",
    "\n",
    "#Add your function here\n",
    "def difference(list):\n",
    "    for i in range(len(list) - 1):\n",
    "        print('{}-{}={}'.format(list[i],list[i+1],list[i]-list[i+1]))\n",
    "       \n",
    "    \n",
    "#Test cases, confirm your output to expected output\n",
    "list1 = [20, 18, 12, 4]\n",
    "print('differences for list 1')\n",
    "difference(list1)\n",
    "\n",
    "print()\n",
    "list2 = [10, 4, 20, 5, 5, 3]\n",
    "print('differences for list 2')\n",
    "difference(list2)\n"
   ]
  },
  {
   "cell_type": "code",
   "execution_count": null,
   "metadata": {},
   "outputs": [],
   "source": []
  },
  {
   "cell_type": "code",
   "execution_count": 56,
   "metadata": {},
   "outputs": [
    {
     "name": "stdout",
     "output_type": "stream",
     "text": [
      "tests passed\n"
     ]
    }
   ],
   "source": [
    "'''\n",
    "Task2a section 51\n",
    "'''\n",
    "\n",
    "def get_protocol(str):\n",
    "    if str.count('://') > 0:\n",
    "        colonslash = str.index('://')\n",
    "        return str[0:colonslash]\n",
    "    else:\n",
    "        return ''\n",
    "\n",
    "#Test cases\n",
    "assert(get_protocol('https://jcu.edu') == 'https')\n",
    "assert(get_protocol('http://google.com') == 'http') \n",
    "assert(get_protocol('mailto://fred@jcu.edu') == 'mailto') \n",
    "assert(get_protocol('ftp://address.edu/file.txt') == 'ftp') \n",
    "assert(get_protocol('apple.com') == '')  #missing ://\n",
    "\n",
    "print('tests passed')"
   ]
  },
  {
   "cell_type": "code",
   "execution_count": 60,
   "metadata": {},
   "outputs": [
    {
     "name": "stdout",
     "output_type": "stream",
     "text": [
      "enter url:google.com\n",
      "missing protocol: google.com\n"
     ]
    }
   ],
   "source": [
    "'''\n",
    "Task2b section 51\n",
    "'''\n",
    "\n",
    "valid_protocols = ['http','https','ftp','mailto']\n",
    "\n",
    "#write your code here\n",
    "\n",
    "url = input('enter url:')\n",
    "protocol = get_protocol(url)\n",
    "if protocol != '':\n",
    "    if valid_protocols.count(protocol) > 0:\n",
    "        print('valid protocol:',protocol)\n",
    "    else:\n",
    "        print('unknown protocol:', protocol)\n",
    "else:\n",
    "    print('missing protocol:',url)"
   ]
  },
  {
   "cell_type": "code",
   "execution_count": null,
   "metadata": {},
   "outputs": [],
   "source": []
  },
  {
   "cell_type": "code",
   "execution_count": 26,
   "metadata": {},
   "outputs": [
    {
     "name": "stdout",
     "output_type": "stream",
     "text": [
      "10 5 3 \n",
      "16 9 13 \n",
      "8 10 \n",
      "invalid row index\n",
      "row lengths do not match\n",
      "15 12 9 14 \n",
      "invalid row index\n"
     ]
    }
   ],
   "source": [
    "'''\n",
    "task3\n",
    "'''\n",
    "def sum_rows(list, row1, row2) :\n",
    "    if row1 < len(list) and row2 < len(list):\n",
    "        if len(list[row1]) == len(list[row2]): \n",
    "            for i in range(len(list[row1])):\n",
    "                print(list[row1][i] + list[row2][i], end = ' ')\n",
    "            print()\n",
    "        else:\n",
    "            print('row lengths do not match')\n",
    "    else:\n",
    "        print('invalid row index')\n",
    "\n",
    "num1_list = [\n",
    "    [7,4,1],\n",
    "    [3,1,2],\n",
    "    [9,5,12],\n",
    "    [1,2],\n",
    "    [7,8]\n",
    "]\n",
    "\n",
    "sum_rows(num1_list,0,1)  #10 5 3\n",
    "sum_rows(num1_list,0,2)  #16 9 13\n",
    "sum_rows(num1_list,3,4)  #8 10\n",
    "sum_rows(num1_list,1,5)  #invalid row index\n",
    "sum_rows(num1_list,2,3)  #row lengths do not match\n",
    "\n",
    "num2_list = [\n",
    "    [6,4,2,8],\n",
    "    [9,8,7,6]\n",
    "]\n",
    "\n",
    "sum_rows(num2_list,0,1)  #15 12 9 14\n",
    "sum_rows(num2_list,1,2)  #invalid row index\n"
   ]
  },
  {
   "cell_type": "code",
   "execution_count": null,
   "metadata": {},
   "outputs": [],
   "source": []
  },
  {
   "cell_type": "code",
   "execution_count": null,
   "metadata": {},
   "outputs": [],
   "source": []
  }
 ],
 "metadata": {
  "kernelspec": {
   "display_name": "Python 3",
   "language": "python",
   "name": "python3"
  },
  "language_info": {
   "codemirror_mode": {
    "name": "ipython",
    "version": 3
   },
   "file_extension": ".py",
   "mimetype": "text/x-python",
   "name": "python",
   "nbconvert_exporter": "python",
   "pygments_lexer": "ipython3",
   "version": "3.6.9"
  }
 },
 "nbformat": 4,
 "nbformat_minor": 2
}
