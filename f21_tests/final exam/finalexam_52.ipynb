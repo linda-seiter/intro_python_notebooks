{
 "cells": [
  {
   "cell_type": "code",
   "execution_count": null,
   "metadata": {},
   "outputs": [],
   "source": [
    "'''\n",
    "Task1\n",
    "'''\n",
    "#Add your function here\n",
    "       \n",
    "    \n",
    "    \n",
    "    \n",
    "#Test cases, confirm your output to expected output\n",
    "      \n",
    "        \n",
    "list1 = [2, 5, 9, 4]\n",
    "print('testing list 1')\n",
    "product(list1)\n",
    "\n",
    "print()\n",
    "list2 = [10, 14, 20, 5, 2, 3]\n",
    "print('testing list 2')\n",
    "product(list2)"
   ]
  },
  {
   "cell_type": "code",
   "execution_count": null,
   "metadata": {},
   "outputs": [],
   "source": []
  },
  {
   "cell_type": "code",
   "execution_count": null,
   "metadata": {},
   "outputs": [],
   "source": [
    "'''\n",
    "Task2a\n",
    "'''\n",
    "\n",
    "#Add your function here\n",
    "       \n",
    "    \n",
    "    \n",
    "\n",
    "#Test cases\n",
    "assert(get_direction('left-->50') == 'left')\n",
    "assert(get_direction('right-->10') == 'right') \n",
    "assert(get_direction('up-->5') == 'up') \n",
    "assert(get_direction('down-->200') == 'down') \n",
    "assert(get_direction('left') == '')  #missing -->\n",
    "assert(get_direction('left--100') == '') #missing -->\n",
    "\n",
    "print('tests passed')"
   ]
  },
  {
   "cell_type": "code",
   "execution_count": null,
   "metadata": {},
   "outputs": [],
   "source": [
    "'''\n",
    "Task2b\n",
    "'''\n",
    "\n",
    "valid_directions = ['left','right','up','down']\n",
    "\n",
    "#write your code here\n",
    "\n"
   ]
  },
  {
   "cell_type": "code",
   "execution_count": null,
   "metadata": {},
   "outputs": [],
   "source": []
  },
  {
   "cell_type": "code",
   "execution_count": null,
   "metadata": {},
   "outputs": [],
   "source": [
    "'''\n",
    "task3\n",
    "'''\n",
    "#Add your function here\n",
    "       \n",
    "    \n",
    "    \n",
    "    \n",
    "#Test cases, confirm your output to expected output\n",
    "\n",
    "num1_list = [\n",
    "    [10,14,8 ],\n",
    "    [3, 1, 2 ],\n",
    "    [9, 5, 12],\n",
    "    [20, 10],\n",
    "    [7, 8]\n",
    "]\n",
    "\n",
    "diff_rows(num1_list,0,1)  #7 13 6\n",
    "diff_rows(num1_list,0,2)  #1 9 -4\n",
    "diff_rows(num1_list,3,4)  #13 2\n",
    "diff_rows(num1_list,1,5)  #invalid row index\n",
    "diff_rows(num1_list,2,3)  #row lengths do not match\n",
    "\n",
    "num2_list = [\n",
    "    [16,14,12,18],\n",
    "    [9,8,7,6]\n",
    "]\n",
    "\n",
    "diff_rows(num2_list,0,1)  #7 6 5 12\n",
    "diff_rows(num2_list,1,2)  #invalid row index"
   ]
  },
  {
   "cell_type": "code",
   "execution_count": null,
   "metadata": {},
   "outputs": [],
   "source": []
  }
 ],
 "metadata": {
  "kernelspec": {
   "display_name": "Python 3",
   "language": "python",
   "name": "python3"
  },
  "language_info": {
   "codemirror_mode": {
    "name": "ipython",
    "version": 3
   },
   "file_extension": ".py",
   "mimetype": "text/x-python",
   "name": "python",
   "nbconvert_exporter": "python",
   "pygments_lexer": "ipython3",
   "version": "3.6.9"
  }
 },
 "nbformat": 4,
 "nbformat_minor": 2
}
