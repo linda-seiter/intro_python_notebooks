{
 "cells": [
  {
   "cell_type": "code",
   "execution_count": null,
   "metadata": {},
   "outputs": [],
   "source": [
    "'''\n",
    "Task1\n",
    "'''\n",
    "\n",
    "#Add your function here\n",
    "       \n",
    "    \n",
    "    \n",
    "    \n",
    "#Test cases, confirm your output to expected output\n",
    "list1 = [20, 18, 12, 4]\n",
    "print('differences for list 1')\n",
    "difference(list1)\n",
    "\n",
    "print()\n",
    "list2 = [10, 4, 20, 5, 5, 3]\n",
    "print('differences for list 2')\n",
    "difference(list2)\n"
   ]
  },
  {
   "cell_type": "code",
   "execution_count": null,
   "metadata": {},
   "outputs": [],
   "source": []
  },
  {
   "cell_type": "code",
   "execution_count": null,
   "metadata": {},
   "outputs": [],
   "source": [
    "'''\n",
    "Task2a \n",
    "'''\n",
    "\n",
    "#Add your function here\n",
    "\n",
    "\n",
    "\n",
    "#Test cases\n",
    "assert(get_protocol('https://jcu.edu') == 'https')\n",
    "assert(get_protocol('http://google.com') == 'http') \n",
    "assert(get_protocol('mailto://fred@jcu.edu') == 'mailto') \n",
    "assert(get_protocol('ftp://address.edu/file.txt') == 'ftp') \n",
    "assert(get_protocol('apple.com') == '')  #missing ://\n",
    "\n",
    "print('tests passed')"
   ]
  },
  {
   "cell_type": "code",
   "execution_count": null,
   "metadata": {},
   "outputs": [],
   "source": [
    "'''\n",
    "Task2b section 51\n",
    "'''\n",
    "\n",
    "valid_protocols = ['http','https','ftp','mailto']\n",
    "\n",
    "#write your code here\n",
    "\n"
   ]
  },
  {
   "cell_type": "code",
   "execution_count": null,
   "metadata": {},
   "outputs": [],
   "source": []
  },
  {
   "cell_type": "code",
   "execution_count": null,
   "metadata": {},
   "outputs": [],
   "source": [
    "'''\n",
    "task3\n",
    "'''\n",
    "#Add your function here\n",
    "\n",
    "\n",
    "\n",
    "#Test cases\n",
    "num1_list = [\n",
    "    [7,4,1],\n",
    "    [3,1,2],\n",
    "    [9,5,12],\n",
    "    [1,2],\n",
    "    [7,8]\n",
    "]\n",
    "\n",
    "sum_rows(num1_list,0,1)  #10 5 3\n",
    "sum_rows(num1_list,0,2)  #16 9 13\n",
    "sum_rows(num1_list,3,4)  #8 10\n",
    "sum_rows(num1_list,1,5)  #invalid row index\n",
    "sum_rows(num1_list,2,3)  #row lengths do not match\n",
    "\n",
    "num2_list = [\n",
    "    [6,4,2,8],\n",
    "    [9,8,7,6]\n",
    "]\n",
    "\n",
    "sum_rows(num2_list,0,1)  #15 12 9 14\n",
    "sum_rows(num2_list,1,2)  #invalid row index\n"
   ]
  },
  {
   "cell_type": "code",
   "execution_count": null,
   "metadata": {},
   "outputs": [],
   "source": []
  },
  {
   "cell_type": "code",
   "execution_count": null,
   "metadata": {},
   "outputs": [],
   "source": []
  }
 ],
 "metadata": {
  "kernelspec": {
   "display_name": "Python 3",
   "language": "python",
   "name": "python3"
  },
  "language_info": {
   "codemirror_mode": {
    "name": "ipython",
    "version": 3
   },
   "file_extension": ".py",
   "mimetype": "text/x-python",
   "name": "python",
   "nbconvert_exporter": "python",
   "pygments_lexer": "ipython3",
   "version": "3.6.9"
  }
 },
 "nbformat": 4,
 "nbformat_minor": 2
}
