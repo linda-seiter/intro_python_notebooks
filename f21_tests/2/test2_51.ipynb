{
 "cells": [
  {
   "cell_type": "code",
   "execution_count": null,
   "metadata": {},
   "outputs": [],
   "source": [
    "'''\n",
    "Task1\n",
    "'''\n",
    "\n",
    "\n",
    "            \n"
   ]
  },
  {
   "cell_type": "code",
   "execution_count": null,
   "metadata": {},
   "outputs": [],
   "source": [
    "'''\n",
    "Task2\n",
    "'''\n",
    "\n",
    "#add function calculate_shipping here\n",
    "\n",
    "\n",
    "\n",
    "#Test calculate_shipping function\n",
    "assert(calculate_shipping(150) == 12.95)\n",
    "assert(calculate_shipping(126)  == 12.95)\n",
    "assert(calculate_shipping(125)  == 10.95)\n",
    "assert(calculate_shipping(80) == 10.95)\n",
    "assert(calculate_shipping(75) == 10.95)\n",
    "assert(calculate_shipping(74) == 8.95)\n",
    "assert(calculate_shipping(60) == 8.95)\n",
    "print('calculate_shipping tests passed')\n",
    "\n",
    "\n",
    "#add function total_cost here\n",
    "\n",
    "\n",
    "   \n",
    "assert(total_cost(150, True) == 150)  #free shipping\n",
    "assert(total_cost(150, False) == 162.95)  #150 + 12.95 shipping\n",
    "assert(total_cost(80, True) == 80) #free shipping\n",
    "assert(total_cost(80, False) == 90.95)  #80 + 10.95\n",
    "\n",
    "print('total_cost tests passed')\n"
   ]
  },
  {
   "cell_type": "code",
   "execution_count": null,
   "metadata": {},
   "outputs": [],
   "source": [
    "'''\n",
    "Task3\n",
    "'''\n",
    "\n",
    "#add function must_be_accompanied here\n",
    "\n",
    "       \n",
    "\n",
    "assert(must_be_accompanied( 30, 'Friday', True ) == False) #over 17\n",
    "assert(must_be_accompanied( 12,  'Friday', True) == True)  #minor, Friday, after 4pm\n",
    "assert(must_be_accompanied( 17,  'Saturday', True) == True)  #minor, Saturday, after 4pm\n",
    "assert(must_be_accompanied( 16,  'Monday', True) == False)  #not Friday or Saturday\n",
    "assert(must_be_accompanied( 14,  'Saturday', False) == False)  #not after 4pm\n",
    "\n",
    "print('tests passed')"
   ]
  }
 ],
 "metadata": {
  "kernelspec": {
   "display_name": "Python 3",
   "language": "python",
   "name": "python3"
  },
  "language_info": {
   "codemirror_mode": {
    "name": "ipython",
    "version": 3
   },
   "file_extension": ".py",
   "mimetype": "text/x-python",
   "name": "python",
   "nbconvert_exporter": "python",
   "pygments_lexer": "ipython3",
   "version": "3.6.9"
  }
 },
 "nbformat": 4,
 "nbformat_minor": 2
}
