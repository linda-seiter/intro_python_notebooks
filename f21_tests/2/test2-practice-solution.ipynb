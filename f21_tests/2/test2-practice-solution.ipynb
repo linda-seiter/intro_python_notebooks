{
 "cells": [
  {
   "cell_type": "code",
   "execution_count": 1,
   "metadata": {},
   "outputs": [
    {
     "name": "stdout",
     "output_type": "stream",
     "text": [
      "enter an integer:6\n",
      "6 4 2 0 "
     ]
    }
   ],
   "source": [
    "'''\n",
    "Task1\n",
    "'''\n",
    "\n",
    "#Test your code by running the cell and entering \n",
    "#the sample input values shown in the instructions\n",
    "\n",
    "num = int(input('enter an integer:'))\n",
    "if num < 0:\n",
    "    num=0\n",
    "if num%2==1:\n",
    "    num -= 1\n",
    "for i in range(num,-1,-2):\n",
    "    print(i,end=' ')\n"
   ]
  },
  {
   "cell_type": "code",
   "execution_count": 2,
   "metadata": {},
   "outputs": [
    {
     "name": "stdout",
     "output_type": "stream",
     "text": [
      "magnitude tests passed\n",
      "min_magnitude tests passed\n"
     ]
    }
   ],
   "source": [
    "'''\n",
    "Task2\n",
    "'''\n",
    "\n",
    "def magnitude(num):\n",
    "    if num >= 0:\n",
    "        return num\n",
    "    else:\n",
    "        return 0-num\n",
    "\n",
    "def min_magnitude(a, b):\n",
    "    mag_a = magnitude(a)\n",
    "    mag_b = magnitude(b)\n",
    "    if mag_a < mag_b:\n",
    "        return mag_a\n",
    "    else:\n",
    "        return mag_b\n",
    "\n",
    "\n",
    "#Testing magnitude function\n",
    "assert(magnitude(4) == 4)\n",
    "assert(magnitude(7) == 7)\n",
    "assert(magnitude(-2) == 2)\n",
    "assert(magnitude(-10) == 10)\n",
    "assert(magnitude(0) == 0)\n",
    "\n",
    "print('magnitude tests passed')\n",
    "\n",
    "#Testing min_magnitude\n",
    "assert(min_magnitude(4, 7) == 4)\n",
    "assert(min_magnitude(12, 5) == 5)\n",
    "assert(min_magnitude(-5, -2) == 2)\n",
    "assert(min_magnitude(-3, -6) == 3)\n",
    "assert(min_magnitude(-2, 3) == 2)\n",
    "assert(min_magnitude(-6, 3) == 3)\n",
    "assert(min_magnitude(0, -4) == 0)\n",
    "assert(min_magnitude(4, 0) == 0)\n",
    "\n",
    "print('min_magnitude tests passed')\n"
   ]
  },
  {
   "cell_type": "code",
   "execution_count": 2,
   "metadata": {},
   "outputs": [],
   "source": [
    "'''\n",
    "Task3\n",
    "'''\n",
    "\n",
    "def cost_per_credit(credits, status):\n",
    "    if status == 'undergraduate':\n",
    "        if credits <= 18:\n",
    "            return 500\n",
    "        else:\n",
    "            return 450\n",
    "    else:\n",
    "    #assume graduate\n",
    "        if credits <=12:\n",
    "            return 550\n",
    "        else:\n",
    "            return 525\n",
    "        \n",
    "        \n",
    "def semester_cost(credits, status, on_campus):\n",
    "    credit_cost = cost_per_credit(credits, status)\n",
    "    semester_cost = credit_cost * credits\n",
    "    if on_campus:\n",
    "        semester_cost += 10000\n",
    "    return semester_cost\n",
    "        \n",
    "        \n",
    "#Test cases for cost_per_credit function\n",
    "assert(cost_per_credit(10, 'undergraduate') == 500)\n",
    "assert(cost_per_credit(18, 'undergraduate') == 500)\n",
    "assert(cost_per_credit(19, 'undergraduate') == 450)\n",
    "assert(cost_per_credit(21, 'undergraduate') == 450)\n",
    "assert(cost_per_credit(10, 'graduate') == 550)\n",
    "assert(cost_per_credit(12, 'graduate') == 550)\n",
    "assert(cost_per_credit(13, 'graduate') == 525)\n",
    "assert(cost_per_credit(18, 'graduate') == 525)\n",
    "\n",
    "\n",
    "#Test cases for semester_cost function\n",
    "assert(semester_cost(10,'undergraduate', False) == 5000)  #500*10, course costs, no room and board charge\n",
    "assert(semester_cost(10,'undergraduate', True) == 15000)  #500*10+10000  add on room and board\n",
    "assert(semester_cost(21,'undergraduate', False) == 9450)  #525*21 course costs, no room and board charge\n",
    "assert(semester_cost(21,'undergraduate', True) == 19450)  #525*21+10000 add on room and board \n",
    "\n"
   ]
  },
  {
   "cell_type": "code",
   "execution_count": null,
   "metadata": {},
   "outputs": [],
   "source": []
  }
 ],
 "metadata": {
  "kernelspec": {
   "display_name": "Python 3",
   "language": "python",
   "name": "python3"
  },
  "language_info": {
   "codemirror_mode": {
    "name": "ipython",
    "version": 3
   },
   "file_extension": ".py",
   "mimetype": "text/x-python",
   "name": "python",
   "nbconvert_exporter": "python",
   "pygments_lexer": "ipython3",
   "version": "3.6.9"
  }
 },
 "nbformat": 4,
 "nbformat_minor": 2
}
