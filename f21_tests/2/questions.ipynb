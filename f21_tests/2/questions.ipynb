{
 "cells": [
  {
   "cell_type": "code",
   "execution_count": 2,
   "metadata": {},
   "outputs": [
    {
     "name": "stdout",
     "output_type": "stream",
     "text": [
      "4 5 9\n",
      "8 0 8\n",
      "16 -5 11\n"
     ]
    }
   ],
   "source": [
    "x = 2\n",
    "y = 10\n",
    "z = 0\n",
    "while (x < y or z < 10 ): \n",
    "    x = x * 2\n",
    "    y = y - 5\n",
    "    z = x + y\n",
    "    print('x={} y={} z={}'.format(x,y,z))"
   ]
  },
  {
   "cell_type": "code",
   "execution_count": 4,
   "metadata": {},
   "outputs": [
    {
     "name": "stdout",
     "output_type": "stream",
     "text": [
      "i= 2\n",
      "i= 5\n"
     ]
    }
   ],
   "source": [
    "for i in range(2, 8, 3):\n",
    " print('i=',i)"
   ]
  },
  {
   "cell_type": "code",
   "execution_count": null,
   "metadata": {},
   "outputs": [],
   "source": [
    "x = 10\n",
    "y = 6\n",
    "z = 12\n",
    "\n",
    "if x < 5 and (y > 12 or z != 20):\n",
    "    print('hello')\n",
    "else:\n",
    "    print('hi')\n",
    "    \n",
    "\n",
    "#solution\n",
    "if x < 5:\n",
    "    if y > 12:\n",
    "        print('hello')\n",
    "    elif z != 20:\n",
    "        print('hello')\n",
    "    else:\n",
    "        print('hi')\n",
    "else:\n",
    "    print('hi')"
   ]
  },
  {
   "cell_type": "code",
   "execution_count": 4,
   "metadata": {},
   "outputs": [
    {
     "name": "stdout",
     "output_type": "stream",
     "text": [
      "6\n",
      "5 6 20\n"
     ]
    }
   ],
   "source": [
    "name='Fred'\n",
    "name[1:-1]\n",
    "name.find('f')\n",
    "f=1\n",
    "for i in range(1,4):\n",
    "    f = f * i\n",
    "print(f)\n",
    "\n",
    "num=5\n",
    "i=1\n",
    "j=8\n",
    "while (i <= j and num < 20):\n",
    "    i += 2\n",
    "    j -= 1\n",
    "    num *= 2\n",
    "print(i,j,num)"
   ]
  }
 ],
 "metadata": {
  "kernelspec": {
   "display_name": "Python 3",
   "language": "python",
   "name": "python3"
  },
  "language_info": {
   "codemirror_mode": {
    "name": "ipython",
    "version": 3
   },
   "file_extension": ".py",
   "mimetype": "text/x-python",
   "name": "python",
   "nbconvert_exporter": "python",
   "pygments_lexer": "ipython3",
   "version": "3.6.9"
  }
 },
 "nbformat": 4,
 "nbformat_minor": 2
}
