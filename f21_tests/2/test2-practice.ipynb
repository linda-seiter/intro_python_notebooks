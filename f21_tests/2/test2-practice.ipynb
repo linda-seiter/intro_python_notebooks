{
 "cells": [
  {
   "cell_type": "code",
   "execution_count": 1,
   "metadata": {},
   "outputs": [
    {
     "data": {
      "text/plain": [
       "'\\nTask1\\n'"
      ]
     },
     "execution_count": 1,
     "metadata": {},
     "output_type": "execute_result"
    }
   ],
   "source": [
    "'''\n",
    "Task1\n",
    "'''\n",
    "\n",
    "#Test your code by running the cell and entering \n",
    "#the sample input values shown in the instructions\n",
    "\n",
    "\n",
    "\n"
   ]
  },
  {
   "cell_type": "code",
   "execution_count": null,
   "metadata": {},
   "outputs": [],
   "source": [
    "'''\n",
    "Task2a\n",
    "'''\n",
    "\n",
    "#Write your function here\n",
    "\n",
    "\n",
    "\n",
    "#Testing magnitude function\n",
    "assert(magnitude(4) == 4)\n",
    "assert(magnitude(7) == 7)\n",
    "assert(magnitude(-2) == 2)\n",
    "assert(magnitude(-10) == 10)\n",
    "assert(magnitude(0) == 0)\n",
    "\n",
    "print('magnitude tests passed')\n"
   ]
  },
  {
   "cell_type": "code",
   "execution_count": null,
   "metadata": {},
   "outputs": [],
   "source": [
    "'''\n",
    "Task2b\n",
    "'''\n",
    "\n",
    "#Write your function here\n",
    "\n",
    "\n",
    "\n",
    "\n",
    "#Testing min_magnitude\n",
    "assert(min_magnitude(4, 7) == 4)\n",
    "assert(min_magnitude(12, 5) == 5)\n",
    "assert(min_magnitude(-5, -2) == 2)\n",
    "assert(min_magnitude(-3, -6) == 3)\n",
    "assert(min_magnitude(-2, 3) == 2)\n",
    "assert(min_magnitude(-6, 3) == 3)\n",
    "assert(min_magnitude(0, -4) == 0)\n",
    "assert(min_magnitude(4, 0) == 0)\n",
    "\n",
    "print('min_magnitude tests passed')\n"
   ]
  },
  {
   "cell_type": "code",
   "execution_count": null,
   "metadata": {},
   "outputs": [],
   "source": [
    "'''\n",
    "Task3\n",
    "'''\n",
    "\n",
    "#Write your function here\n",
    "\n",
    "#Test cases for cost_per_credit function\n",
    "assert(cost_per_credit(10, 'undergraduate') == 500)\n",
    "assert(cost_per_credit(18, 'undergraduate') == 500)\n",
    "assert(cost_per_credit(19, 'undergraduate') == 450)\n",
    "assert(cost_per_credit(21, 'undergraduate') == 450)\n",
    "assert(cost_per_credit(10, 'graduate') == 550)\n",
    "assert(cost_per_credit(12, 'graduate') == 550)\n",
    "assert(cost_per_credit(13, 'graduate') == 525)\n",
    "assert(cost_per_credit(18, 'graduate') == 525)\n",
    "\n",
    "\n",
    "#Test cases for semester_cost function\n",
    "assert(semester_cost(10,'undergraduate', False) == 5000)  #500*10, course costs, no room and board charge\n",
    "assert(semester_cost(10,'undergraduate', True) == 15000)  #500*10+10000  add on room and board\n",
    "assert(semester_cost(21,'undergraduate', False) == 9450)  #525*21 course costs, no room and board charge\n",
    "assert(semester_cost(21,'undergraduate', True) == 19450)  #525*21+10000 add on room and board \n"
   ]
  },
  {
   "cell_type": "code",
   "execution_count": null,
   "metadata": {},
   "outputs": [],
   "source": []
  }
 ],
 "metadata": {
  "kernelspec": {
   "display_name": "Python 3",
   "language": "python",
   "name": "python3"
  },
  "language_info": {
   "codemirror_mode": {
    "name": "ipython",
    "version": 3
   },
   "file_extension": ".py",
   "mimetype": "text/x-python",
   "name": "python",
   "nbconvert_exporter": "python",
   "pygments_lexer": "ipython3",
   "version": "3.6.9"
  }
 },
 "nbformat": 4,
 "nbformat_minor": 2
}
