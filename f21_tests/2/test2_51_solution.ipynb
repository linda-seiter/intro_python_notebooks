{
 "cells": [
  {
   "cell_type": "code",
   "execution_count": 7,
   "metadata": {},
   "outputs": [
    {
     "name": "stdout",
     "output_type": "stream",
     "text": [
      "starting number:24\n",
      "24\n",
      "23\n",
      "22\n",
      "21\n",
      "20\n"
     ]
    }
   ],
   "source": [
    "'''\n",
    "Task1\n",
    "'''\n",
    "\n",
    "start = int(input('starting number:'))\n",
    "if start < 20:\n",
    "        change = 1\n",
    "        end = 21\n",
    "else:\n",
    "        change = -1\n",
    "        end = 19\n",
    "for i in range(start, end, change):\n",
    "    print(i)\n",
    "            \n"
   ]
  },
  {
   "cell_type": "code",
   "execution_count": 9,
   "metadata": {},
   "outputs": [
    {
     "name": "stdout",
     "output_type": "stream",
     "text": [
      "calculate_shipping tests passed\n",
      "total_cost tests passed\n"
     ]
    }
   ],
   "source": [
    "'''\n",
    "Task2\n",
    "'''\n",
    "\n",
    "def calculate_shipping(cart_total):\n",
    "    if cart_total > 125:\n",
    "        return 12.95\n",
    "    elif cart_total >= 75:\n",
    "        return 10.95\n",
    "    else:\n",
    "        return 8.95\n",
    "\n",
    "#Test calculate_shipping function\n",
    "assert(calculate_shipping(150) == 12.95)\n",
    "assert(calculate_shipping(126)  == 12.95)\n",
    "assert(calculate_shipping(125)  == 10.95)\n",
    "assert(calculate_shipping(80) == 10.95)\n",
    "assert(calculate_shipping(75) == 10.95)\n",
    "assert(calculate_shipping(74) == 8.95)\n",
    "assert(calculate_shipping(60) == 8.95)\n",
    "print('calculate_shipping tests passed')\n",
    "\n",
    "\n",
    "def total_cost(cart_total, is_prime):\n",
    "    if is_prime:\n",
    "        return cart_total\n",
    "    else:\n",
    "        return cart_total + calculate_shipping(cart_total)\n",
    "   \n",
    "assert(total_cost(150, True) == 150)  #free shipping\n",
    "assert(total_cost(150, False) == 162.95)  #150 + 12.95 shipping\n",
    "assert(total_cost(80, True) == 80) #free shipping\n",
    "assert(total_cost(80, False) == 90.95)  #80 + 10.95\n",
    "\n",
    "print('total_cost tests passed')"
   ]
  },
  {
   "cell_type": "code",
   "execution_count": 2,
   "metadata": {},
   "outputs": [
    {
     "name": "stdout",
     "output_type": "stream",
     "text": [
      "tests passed\n"
     ]
    }
   ],
   "source": [
    "'''\n",
    "Task3\n",
    "'''\n",
    "\n",
    "#Shoppers who are 17 or younger must be accompanied by an adult on Fridays and Saturdays after 4pm. \n",
    "\n",
    "def must_be_accompanied(age, day, after4pm):\n",
    "    if age <= 17 and (day == 'Friday' or day == 'Saturday') and after4pm :\n",
    "        return True\n",
    "    else:\n",
    "        return False\n",
    "        \n",
    "\n",
    "assert(must_be_accompanied( 30, 'Friday', True ) == False) #over 17\n",
    "assert(must_be_accompanied( 12,  'Friday', True) == True)  #minor, Friday, after 4pm\n",
    "assert(must_be_accompanied( 17,  'Saturday', True) == True)  #minor, Saturday, after 4pm\n",
    "assert(must_be_accompanied( 16,  'Monday', True) == False)  #not Friday or Saturday\n",
    "assert(must_be_accompanied( 14,  'Saturday', False) == False)  #not after 4pm\n",
    "\n",
    "print('tests passed')"
   ]
  },
  {
   "cell_type": "code",
   "execution_count": null,
   "metadata": {},
   "outputs": [],
   "source": []
  }
 ],
 "metadata": {
  "kernelspec": {
   "display_name": "Python 3",
   "language": "python",
   "name": "python3"
  },
  "language_info": {
   "codemirror_mode": {
    "name": "ipython",
    "version": 3
   },
   "file_extension": ".py",
   "mimetype": "text/x-python",
   "name": "python",
   "nbconvert_exporter": "python",
   "pygments_lexer": "ipython3",
   "version": "3.6.9"
  }
 },
 "nbformat": 4,
 "nbformat_minor": 2
}
