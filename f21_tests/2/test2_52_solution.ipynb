{
 "cells": [
  {
   "cell_type": "code",
   "execution_count": null,
   "metadata": {},
   "outputs": [],
   "source": [
    "'''\n",
    "Task1\n",
    "'''\n",
    "\n",
    "start = int(input('starting number:'))\n",
    "if start < 0:\n",
    "        change = 1\n",
    "        end = 2\n",
    "else:\n",
    "        change = -1\n",
    "        end = 0\n",
    "for i in range(start, end, change):\n",
    "    print(i)\n",
    "            \n"
   ]
  },
  {
   "cell_type": "code",
   "execution_count": null,
   "metadata": {},
   "outputs": [],
   "source": [
    "'''\n",
    "Task2\n",
    "'''\n",
    "\n",
    "def ticket_price(age):\n",
    "    if age <= 12 or age >= 65:\n",
    "        return 6\n",
    "    else:\n",
    "        return 9\n",
    "\n",
    "#Test ticket_price\n",
    "assert(ticket_price(10) == 6)\n",
    "assert(ticket_price(12) == 6)\n",
    "assert(ticket_price(65) == 6)\n",
    "assert(ticket_price(70) == 6)\n",
    "assert(ticket_price(13) == 9)\n",
    "assert(ticket_price(64) == 9)\n",
    "\n",
    "def total_cost(age, is_matinee):\n",
    "    price = ticket_price(age)\n",
    "    if is_matinee:\n",
    "        price -= 2\n",
    "    return price\n",
    "  \n",
    "assert(total_cost(10, True) == 4)  #matinee discount\n",
    "assert(total_cost(12, False) == 6) #no ticket price discount\n",
    "assert(total_cost(70, True) == 4)  #matinee discount\n",
    "assert(total_cost(50, True) == 7) #matinee discount\n",
    "assert(total_cost(21, False) == 9)  #no ticket price discount\n",
    "\n",
    "print('tests passed')"
   ]
  },
  {
   "cell_type": "code",
   "execution_count": null,
   "metadata": {},
   "outputs": [],
   "source": [
    "'''\n",
    "Task3\n",
    "'''\n",
    "\n",
    "\n",
    "def free_shipping(cart_total, month):\n",
    "    if cart_total >= 125:\n",
    "        return True\n",
    "    elif (month == 'July' or month == 'October') and cart_total >= 50 :\n",
    "        return True\n",
    "    else:\n",
    "        return False\n",
    "        \n",
    "\n",
    "assert(free_shipping( 150, 'June' ) == True)   #at least 125\n",
    "assert(free_shipping( 125, 'February' ) == True)  #at least 125\n",
    "assert(free_shipping( 75, 'July' ) == True)    #at least 50 in promo month\n",
    "assert(free_shipping( 50, 'October' ) == True)  #at least 50 in promo month\n",
    "assert(free_shipping( 75, 'January' ) == False)  #not promo month\n",
    "assert(free_shipping( 50, 'March' ) == False)    #not promo month\n",
    "assert(free_shipping( 20, 'July' ) == False)     #min of 50 not met in promo month\n",
    "assert(free_shipping( 30, 'October' ) == False)  #min of 50 not met in promo month\n",
    "\n",
    "print('tests passed')"
   ]
  },
  {
   "cell_type": "code",
   "execution_count": null,
   "metadata": {},
   "outputs": [],
   "source": []
  }
 ],
 "metadata": {
  "kernelspec": {
   "display_name": "Python 3",
   "language": "python",
   "name": "python3"
  },
  "language_info": {
   "codemirror_mode": {
    "name": "ipython",
    "version": 3
   },
   "file_extension": ".py",
   "mimetype": "text/x-python",
   "name": "python",
   "nbconvert_exporter": "python",
   "pygments_lexer": "ipython3",
   "version": "3.6.9"
  }
 },
 "nbformat": 4,
 "nbformat_minor": 2
}
