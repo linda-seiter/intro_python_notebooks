{
 "cells": [
  {
   "cell_type": "code",
   "execution_count": 8,
   "metadata": {},
   "outputs": [
    {
     "name": "stdout",
     "output_type": "stream",
     "text": [
      "tests passed\n"
     ]
    }
   ],
   "source": [
    "'''\n",
    "Task1\n",
    "'''\n",
    "\n",
    "def convert_measure(str):\n",
    "    if len(str) < 3:\n",
    "        return 'invalid'\n",
    "    \n",
    "    last_chars = str[-2:]\n",
    "    digits = str[0:-2]\n",
    "    \n",
    "    if digits.isdigit():\n",
    "        if last_chars == 'oz':\n",
    "            return '{}ounces'.format(digits)\n",
    "        elif last_chars == 'qt':\n",
    "            return '{}quarts'.format(digits)\n",
    "        else:\n",
    "            return 'invalid'\n",
    "    else:\n",
    "        return 'invalid'\n",
    "    \n",
    "    \n",
    "#You can assume fluid quantities will be positive values.\n",
    "assert(convert_measure('12oz') == '12ounces')\n",
    "assert(convert_measure('2qt') == '2quarts')\n",
    "assert(convert_measure('100oz') == '100ounces')\n",
    "assert(convert_measure('0qt') == '0quarts')\n",
    "assert(convert_measure('23o') == 'invalid')\n",
    "assert(convert_measure('oz') == 'invalid')\n",
    "assert(convert_measure('qt') == 'invalid')\n",
    "assert(convert_measure('32') == 'invalid')\n",
    "assert(convert_measure('b4qt') == 'invalid')\n",
    "assert(convert_measure('41qts') == 'invalid')\n",
    "\n",
    "\n",
    "print('tests passed')\n",
    "    "
   ]
  },
  {
   "cell_type": "code",
   "execution_count": 9,
   "metadata": {},
   "outputs": [
    {
     "name": "stdout",
     "output_type": "stream",
     "text": [
      "enter student name for gpa lookup:bob\n",
      "2.0\n"
     ]
    }
   ],
   "source": [
    "'''\n",
    "Task2\n",
    "'''\n",
    "            \n",
    "student_list = ['devon', 'sue', 'bob', 'marvin', 'pat',    'amir']\n",
    "gpa_list     = [ 4.0,    3.66,  2.0,    2.33 ] \n",
    "student = input('enter student name for gpa lookup:')\n",
    "\n",
    "\n",
    "if student not in student_list:\n",
    "    print('no such student')\n",
    "else:\n",
    "    index = student_list.index(student)\n",
    "    if index < len(gpa_list):\n",
    "        print(gpa_list[index])    \n",
    "    else:\n",
    "        print('gpa not available')\n"
   ]
  },
  {
   "cell_type": "code",
   "execution_count": null,
   "metadata": {},
   "outputs": [],
   "source": []
  }
 ],
 "metadata": {
  "kernelspec": {
   "display_name": "Python 3",
   "language": "python",
   "name": "python3"
  },
  "language_info": {
   "codemirror_mode": {
    "name": "ipython",
    "version": 3
   },
   "file_extension": ".py",
   "mimetype": "text/x-python",
   "name": "python",
   "nbconvert_exporter": "python",
   "pygments_lexer": "ipython3",
   "version": "3.6.9"
  }
 },
 "nbformat": 4,
 "nbformat_minor": 2
}
