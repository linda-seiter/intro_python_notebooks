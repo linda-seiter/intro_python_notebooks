{
 "cells": [
  {
   "cell_type": "code",
   "execution_count": null,
   "metadata": {},
   "outputs": [],
   "source": [
    "'''\n",
    "Task1\n",
    "'''\n",
    "\n",
    "#TASK1: Add your code here\n",
    "\n",
    "   \n",
    "    \n",
    "#TEST CASES. You can assume temperatures will be positive values.\n",
    "assert(convert_temp('20C') == '20Celsius')\n",
    "assert(convert_temp('5C') == '5Celsius')\n",
    "assert(convert_temp('105F') == '105Fahrenheit')\n",
    "assert(convert_temp('0F') == '0Fahrenheit')\n",
    "assert(convert_temp('42k') == 'invalid')\n",
    "assert(convert_temp('C') == 'invalid')\n",
    "assert(convert_temp('32') == 'invalid')\n",
    "assert(convert_temp('tenC') == 'invalid')\n",
    "\n",
    "\n",
    "print('tests passed')\n",
    "    "
   ]
  },
  {
   "cell_type": "code",
   "execution_count": null,
   "metadata": {},
   "outputs": [],
   "source": [
    "'''\n",
    "Task2\n",
    "'''\n",
    "            \n",
    "product_list = ['milk', 'bread', 'bagels', 'eggs', 'bananas', 'yogurt']\n",
    "price_list   = [ 3.29,   2.39,    3.49,     3.99 ] \n",
    "\n",
    "#Prompt user to enter a product\n",
    "product = input('enter product for price lookup:')\n",
    "\n",
    "#TASK2: Add your code here\n",
    "\n"
   ]
  }
 ],
 "metadata": {
  "kernelspec": {
   "display_name": "Python 3",
   "language": "python",
   "name": "python3"
  },
  "language_info": {
   "codemirror_mode": {
    "name": "ipython",
    "version": 3
   },
   "file_extension": ".py",
   "mimetype": "text/x-python",
   "name": "python",
   "nbconvert_exporter": "python",
   "pygments_lexer": "ipython3",
   "version": "3.6.9"
  }
 },
 "nbformat": 4,
 "nbformat_minor": 2
}
