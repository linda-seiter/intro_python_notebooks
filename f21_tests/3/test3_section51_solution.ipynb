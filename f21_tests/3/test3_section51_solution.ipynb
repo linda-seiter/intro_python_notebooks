{
 "cells": [
  {
   "cell_type": "code",
   "execution_count": 19,
   "metadata": {},
   "outputs": [
    {
     "name": "stdout",
     "output_type": "stream",
     "text": [
      "tests passed\n"
     ]
    }
   ],
   "source": [
    "'''\n",
    "Task1\n",
    "'''\n",
    "\n",
    "def convert_temp(str):\n",
    "    if len(str) < 2:\n",
    "        return 'invalid'\n",
    "    \n",
    "    last_char = str[-1]\n",
    "    temp = str[0:-1]\n",
    "    \n",
    "    if temp.isdigit():\n",
    "        if last_char == 'C':\n",
    "            return '{}Celsius'.format(temp)\n",
    "        elif last_char == 'F':\n",
    "            return '{}Fahrenheit'.format(temp)\n",
    "        else:\n",
    "            return 'invalid'\n",
    "    else:\n",
    "        return 'invalid'\n",
    "    \n",
    "    \n",
    "#You can assume temperatures will be positive values.\n",
    "assert(convert_temp('20C') == '20Celsius')\n",
    "assert(convert_temp('5C') == '5Celsius')\n",
    "assert(convert_temp('105F') == '105Fahrenheit')\n",
    "assert(convert_temp('0F') == '0Fahrenheit')\n",
    "assert(convert_temp('42k') == 'invalid')\n",
    "assert(convert_temp('C') == 'invalid')\n",
    "assert(convert_temp('32') == 'invalid')\n",
    "assert(convert_temp('tenC') == 'invalid')\n",
    "\n",
    "\n",
    "print('tests passed')\n",
    "    "
   ]
  },
  {
   "cell_type": "code",
   "execution_count": 18,
   "metadata": {},
   "outputs": [
    {
     "name": "stdout",
     "output_type": "stream",
     "text": [
      "enter product for price lookup:bananas\n",
      "price not available\n"
     ]
    }
   ],
   "source": [
    "'''\n",
    "Task2\n",
    "'''\n",
    "            \n",
    "product_list = ['milk', 'bread', 'bagels', 'eggs', 'bananas', 'yogurt']\n",
    "price_list   = [ 3.29,   2.39,    3.49,     3.99 ] \n",
    "product = input('enter product for price lookup:')\n",
    "\n",
    "\n",
    "if product not in product_list:\n",
    "    print('product not available')\n",
    "else:\n",
    "    index = product_list.index(product)\n",
    "    if index < len(price_list):\n",
    "        print(price_list[index])    \n",
    "    else:\n",
    "        print('price not available')\n"
   ]
  }
 ],
 "metadata": {
  "kernelspec": {
   "display_name": "Python 3",
   "language": "python",
   "name": "python3"
  },
  "language_info": {
   "codemirror_mode": {
    "name": "ipython",
    "version": 3
   },
   "file_extension": ".py",
   "mimetype": "text/x-python",
   "name": "python",
   "nbconvert_exporter": "python",
   "pygments_lexer": "ipython3",
   "version": "3.6.9"
  }
 },
 "nbformat": 4,
 "nbformat_minor": 2
}
