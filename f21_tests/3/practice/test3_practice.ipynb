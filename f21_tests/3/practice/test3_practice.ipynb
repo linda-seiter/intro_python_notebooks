{
 "cells": [
  {
   "cell_type": "code",
   "execution_count": null,
   "metadata": {},
   "outputs": [],
   "source": [
    "'''\n",
    "Task1  - Create a function named find_all_below that takes 2 parameters: \n",
    "(1) a list of numbers and (2) a value n.\n",
    "The function should return a new list that contains values from the parameter list\n",
    "that are less than the parameter n.  The function should not modify the \n",
    "original parameter list.\n",
    "'''\n",
    "\n",
    "#add your function here\n",
    "\n",
    "\n",
    "\n",
    "#test cases\n",
    "\n",
    "\n",
    "list1 = [6,3,9,10,5,3,12]\n",
    "assert( find_all_below(list1,7) == [6,3,5,3] )\n",
    "assert( list1 == [6,3,9,10,5,3,12] )  #function should not change original list\n",
    "\n",
    "\n",
    "list2 = [-2,0,4,1,-5]\n",
    "assert( find_all_below(list2,0) == [-2,-5] )\n",
    "assert( list2 == [-2,0,4,1,-5] )  #function should not change original list\n",
    "\n",
    "\n",
    "print('Task1 tests passed')"
   ]
  },
  {
   "cell_type": "code",
   "execution_count": null,
   "metadata": {},
   "outputs": [],
   "source": [
    "'''\n",
    "Task2 -  Create a function named count_same_values that takes 2 lists as parameters.\n",
    "The function should return the number of times the lists \n",
    "contain the same value in the same position, i.e. \n",
    "if the first elements in both lists are equal to each other,\n",
    "if the second elements in both lists are equal to each other, etc.\n",
    "\n",
    "Note that the two lists may not have the same length, \n",
    "so the shorter list should control the number of times to loop \n",
    "and compare elements.\n",
    "'''\n",
    "\n",
    "#add your function here\n",
    "\n",
    "\n",
    "\n",
    "#test cases\n",
    "\n",
    "\n",
    "list1 = [6,3,9,10,5,3,12]\n",
    "list2 = [5,3,4,12,5,3,12]\n",
    "assert(count_same_values(list1,list2) == 4) #lists match at indices 1,4,5,6\n",
    "\n",
    "list3 = [5,3,2,12,8]\n",
    "assert(count_same_values(list2,list3) == 3) #lists match at indices 0,1,3\n",
    "\n",
    "assert(count_same_values(list3,list1) == 1) #lists match at index 1\n",
    "\n",
    "print('Task2 tests passed')"
   ]
  },
  {
   "cell_type": "code",
   "execution_count": null,
   "metadata": {},
   "outputs": [],
   "source": [
    "'''\n",
    "Task3 - Create a function named is_phone that takes a string as a parameter.\n",
    "The function should return a boolean value indicating whether the parameter\n",
    "represents a valid phone number xxx-xxx-xxxx, where each x is a digit.\n",
    "'''\n",
    "\n",
    "#add your function here\n",
    "\n",
    "\n",
    "\n",
    "#test cases\n",
    "\n",
    "assert(is_phone('123-456-7890')  == True)\n",
    "assert(is_phone('999-333-6666')  == True)\n",
    "assert(is_phone('12-3456-7890')  == False)\n",
    "assert(is_phone('123-34-97890')  == False)\n",
    "assert(is_phone('999-333-666')  == False)\n",
    "assert(is_phone('123456789012')  == False)\n",
    "assert(is_phone('12a-456-7890')  == False)\n",
    "assert(is_phone('999-b33-6666')  == False)\n",
    "assert(is_phone('999-333-c666')  == False)\n",
    "\n",
    "             \n",
    "print('is_phone tests passed')"
   ]
  },
  {
   "cell_type": "code",
   "execution_count": null,
   "metadata": {},
   "outputs": [],
   "source": []
  }
 ],
 "metadata": {
  "kernelspec": {
   "display_name": "Python 3",
   "language": "python",
   "name": "python3"
  },
  "language_info": {
   "codemirror_mode": {
    "name": "ipython",
    "version": 3
   },
   "file_extension": ".py",
   "mimetype": "text/x-python",
   "name": "python",
   "nbconvert_exporter": "python",
   "pygments_lexer": "ipython3",
   "version": "3.6.9"
  }
 },
 "nbformat": 4,
 "nbformat_minor": 2
}
