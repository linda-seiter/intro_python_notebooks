{
 "cells": [
  {
   "cell_type": "code",
   "execution_count": null,
   "metadata": {},
   "outputs": [],
   "source": [
    "'''\n",
    "Task1  - Create a function named find_all_below that takes 2 parameters: \n",
    "(1) a list of numbers and (2) a value n.\n",
    "The function should return a new list that contains values from the parameter list\n",
    "that are less than the parameter n.  The function should not modify the \n",
    "original parameter list.\n",
    "'''\n",
    "\n",
    "def find_all_below(list, n):\n",
    "    new_list = []\n",
    "    for val in list:\n",
    "        if val < n:\n",
    "            new_list.append(val)\n",
    "    return new_list\n",
    "\n",
    "\n",
    "list1 = [6,3,9,10,5,3,12]\n",
    "assert( find_all_below(list1,7) == [6,3,5,3] )\n",
    "assert( list1 == [6,3,9,10,5,3,12] )  #function should not change original list\n",
    "\n",
    "\n",
    "list2 = [-2,0,4,1,-5]\n",
    "assert( find_all_below(list2,0) == [-2,-5] )\n",
    "assert( list2 == [-2,0,4,1,-5] )  #function should not change original list\n",
    "\n",
    "\n",
    "print('Task1 tests passed')"
   ]
  },
  {
   "cell_type": "code",
   "execution_count": null,
   "metadata": {},
   "outputs": [],
   "source": [
    "'''\n",
    "Task2 -  Create a function named count_same_values that takes 2 lists as parameters.\n",
    "The function should return the number of times the lists \n",
    "contain the same value in the same position, i.e. \n",
    "if the first elements in both lists are equal to each other,\n",
    "if the second elements in both lists are equal to each other, etc.\n",
    "\n",
    "Note that the two lists may not have the same length, \n",
    "so the shorter list should control the number of times to loop \n",
    "and compare elements.\n",
    "'''\n",
    "\n",
    "def count_same_values(list1, list2):\n",
    "    count=0\n",
    "    if len(list1) < len(list2):\n",
    "        length = len(list1)\n",
    "    else:\n",
    "        length = len(list2)\n",
    "    for i in range(length):\n",
    "        if list1[i] == list2[i]:\n",
    "            count += 1\n",
    "    return count\n",
    "\n",
    "list1 = [6,3,9,10,5,3,12]\n",
    "list2 = [5,3,4,12,5,3,12]\n",
    "assert(count_same_values(list1,list2) == 4) #lists match at indices 1,4,5,6\n",
    "\n",
    "list3 = [5,3,2,12,8]\n",
    "assert(count_same_values(list2,list3) == 3) #lists match at indices 0,1,3\n",
    "\n",
    "assert(count_same_values(list3,list1) == 1) #lists match at index 1\n",
    "\n",
    "print('Task2 tests passed')"
   ]
  },
  {
   "cell_type": "code",
   "execution_count": 1,
   "metadata": {},
   "outputs": [
    {
     "name": "stdout",
     "output_type": "stream",
     "text": [
      "is_phone tests passed\n"
     ]
    }
   ],
   "source": [
    "'''\n",
    "Task3 - Create a function named is_phone that takes a string as a parameter.\n",
    "The function should return a boolean value indicating whether the parameter\n",
    "represents a valid phone number xxx-xxx-xxxx, where each x is a digit.\n",
    "'''\n",
    "def is_phone(str):\n",
    "    if len(str) == 12 and str[3] == '-' and str[7] == '-':\n",
    "        substrs = str.split('-')\n",
    "        for s in substrs:\n",
    "            if (not s.isdigit()):\n",
    "                return False\n",
    "        return True\n",
    "    else:\n",
    "        return False\n",
    "\n",
    "assert(is_phone('123-456-7890')  == True)\n",
    "assert(is_phone('999-333-6666')  == True)\n",
    "assert(is_phone('12-3456-7890')  == False)\n",
    "assert(is_phone('123-34-97890')  == False)\n",
    "assert(is_phone('999-333-666')  == False)\n",
    "assert(is_phone('123456789012')  == False)\n",
    "assert(is_phone('12a-456-7890')  == False)\n",
    "assert(is_phone('999-b33-6666')  == False)\n",
    "assert(is_phone('999-333-c666')  == False)\n",
    "\n",
    "             \n",
    "print('is_phone tests passed')"
   ]
  },
  {
   "cell_type": "code",
   "execution_count": 3,
   "metadata": {},
   "outputs": [
    {
     "name": "stdout",
     "output_type": "stream",
     "text": [
      "is_phone tests passed\n"
     ]
    }
   ],
   "source": [
    "'''\n",
    "Task3 - alternative solution without split\n",
    "'''\n",
    "def is_phone(str):\n",
    "    if len(str) == 12 and str[3] == '-' and str[7] == '-':\n",
    "        sub1 = str[0:3]\n",
    "        sub2 = str[4:7]\n",
    "        sub3 = str[8:]\n",
    "        return sub1.isdigit() and sub2.isdigit() and sub3.isdigit()\n",
    "    else:\n",
    "        return False\n",
    "\n",
    "assert(is_phone('123-456-7890')  == True)\n",
    "assert(is_phone('999-333-6666')  == True)\n",
    "assert(is_phone('12-3456-7890')  == False)\n",
    "assert(is_phone('123-34-97890')  == False)\n",
    "assert(is_phone('999-333-666')  == False)\n",
    "assert(is_phone('123456789012')  == False)\n",
    "assert(is_phone('12a-456-7890')  == False)\n",
    "assert(is_phone('999-b33-6666')  == False)\n",
    "assert(is_phone('999-333-c666')  == False)\n",
    "\n",
    "             \n",
    "print('is_phone tests passed')"
   ]
  },
  {
   "cell_type": "code",
   "execution_count": null,
   "metadata": {},
   "outputs": [],
   "source": []
  }
 ],
 "metadata": {
  "kernelspec": {
   "display_name": "Python 3",
   "language": "python",
   "name": "python3"
  },
  "language_info": {
   "codemirror_mode": {
    "name": "ipython",
    "version": 3
   },
   "file_extension": ".py",
   "mimetype": "text/x-python",
   "name": "python",
   "nbconvert_exporter": "python",
   "pygments_lexer": "ipython3",
   "version": "3.6.9"
  }
 },
 "nbformat": 4,
 "nbformat_minor": 2
}
