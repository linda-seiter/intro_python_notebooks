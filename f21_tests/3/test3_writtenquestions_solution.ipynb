{
 "cells": [
  {
   "cell_type": "code",
   "execution_count": 22,
   "metadata": {},
   "outputs": [
    {
     "name": "stdout",
     "output_type": "stream",
     "text": [
      "c\n"
     ]
    }
   ],
   "source": [
    "str = 'abcdefg'\n",
    "print( str[2])"
   ]
  },
  {
   "cell_type": "code",
   "execution_count": 23,
   "metadata": {},
   "outputs": [
    {
     "name": "stdout",
     "output_type": "stream",
     "text": [
      "bcd\n"
     ]
    }
   ],
   "source": [
    "str = 'abcdefg'\n",
    "print( str[1:4])"
   ]
  },
  {
   "cell_type": "code",
   "execution_count": 24,
   "metadata": {},
   "outputs": [
    {
     "name": "stdout",
     "output_type": "stream",
     "text": [
      "8\n"
     ]
    }
   ],
   "source": [
    "str = 'popcorn_people'\n",
    "print( str.find('p',4))"
   ]
  },
  {
   "cell_type": "code",
   "execution_count": 25,
   "metadata": {},
   "outputs": [
    {
     "name": "stdout",
     "output_type": "stream",
     "text": [
      "5\n",
      "Henry\n"
     ]
    }
   ],
   "source": [
    "str = 'howdyHenry'\n",
    "str.upper()\n",
    "pos_H = str.find('H')\n",
    "print(pos_H)\n",
    "print( str[ pos_H: ] )"
   ]
  },
  {
   "cell_type": "code",
   "execution_count": 26,
   "metadata": {},
   "outputs": [
    {
     "name": "stdout",
     "output_type": "stream",
     "text": [
      "True\n"
     ]
    }
   ],
   "source": [
    "str = 'abc_123_xy89'\n",
    "substrings = str.split('_')\n",
    "print( substrings[1].isdigit() )"
   ]
  },
  {
   "cell_type": "code",
   "execution_count": 27,
   "metadata": {},
   "outputs": [
    {
     "name": "stdout",
     "output_type": "stream",
     "text": [
      "2 hat\n",
      "3 no\n"
     ]
    }
   ],
   "source": [
    "list = ['sun','eye','hat','no','yes']\n",
    "\n",
    "for n in range(2,4):\n",
    "    print('{} {}'.format(n, list[n]))"
   ]
  },
  {
   "cell_type": "code",
   "execution_count": 28,
   "metadata": {
    "scrolled": true
   },
   "outputs": [
    {
     "name": "stdout",
     "output_type": "stream",
     "text": [
      "1 eye\n",
      "3 no\n",
      "2 hat\n"
     ]
    }
   ],
   "source": [
    "nums = [1,3,2]\n",
    "list = ['sun','eye','hat','no','yes']\n",
    "\n",
    "for n in nums:\n",
    "    print('{} {}'.format(n, list[n]))"
   ]
  },
  {
   "cell_type": "code",
   "execution_count": 29,
   "metadata": {},
   "outputs": [
    {
     "name": "stdout",
     "output_type": "stream",
     "text": [
      "3\n"
     ]
    }
   ],
   "source": [
    "list = ['sun','eye','hat','no','yes']\n",
    "str = 'NO'\n",
    "print(list.index(str.lower()))"
   ]
  },
  {
   "cell_type": "code",
   "execution_count": 30,
   "metadata": {},
   "outputs": [
    {
     "name": "stdout",
     "output_type": "stream",
     "text": [
      "[3, 5, 12]\n"
     ]
    }
   ],
   "source": [
    "nums = [5,3,12]\n",
    "nums.sort()\n",
    "print(nums)"
   ]
  },
  {
   "cell_type": "code",
   "execution_count": 31,
   "metadata": {},
   "outputs": [
    {
     "name": "stdout",
     "output_type": "stream",
     "text": [
      "-4578\n",
      "False\n"
     ]
    }
   ],
   "source": [
    "str = '123-4578'\n",
    "index_dash=str.find('-')\n",
    "sub_str = str[index_dash:]\n",
    "print(sub_str)\n",
    "print(sub_str.isdigit())"
   ]
  },
  {
   "cell_type": "code",
   "execution_count": null,
   "metadata": {},
   "outputs": [],
   "source": []
  }
 ],
 "metadata": {
  "kernelspec": {
   "display_name": "Python 3",
   "language": "python",
   "name": "python3"
  },
  "language_info": {
   "codemirror_mode": {
    "name": "ipython",
    "version": 3
   },
   "file_extension": ".py",
   "mimetype": "text/x-python",
   "name": "python",
   "nbconvert_exporter": "python",
   "pygments_lexer": "ipython3",
   "version": "3.6.9"
  }
 },
 "nbformat": 4,
 "nbformat_minor": 2
}
