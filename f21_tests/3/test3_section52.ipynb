{
 "cells": [
  {
   "cell_type": "code",
   "execution_count": null,
   "metadata": {},
   "outputs": [],
   "source": [
    "'''\n",
    "Task1\n",
    "'''\n",
    "\n",
    "#TASK1: Add your code here\n",
    "\n",
    "   \n",
    "    \n",
    "    \n",
    "#TEST CASES. You can assume fluid quantities will be positive values.\n",
    "assert(convert_measure('12oz') == '12ounces')\n",
    "assert(convert_measure('2qt') == '2quarts')\n",
    "assert(convert_measure('100oz') == '100ounces')\n",
    "assert(convert_measure('0qt') == '0quarts')\n",
    "assert(convert_measure('23o') == 'invalid')\n",
    "assert(convert_measure('oz') == 'invalid')\n",
    "assert(convert_measure('qt') == 'invalid')\n",
    "assert(convert_measure('32') == 'invalid')\n",
    "assert(convert_measure('b4qt') == 'invalid')\n",
    "assert(convert_measure('41qts') == 'invalid')\n",
    "\n",
    "\n",
    "print('tests passed')\n",
    "    "
   ]
  },
  {
   "cell_type": "code",
   "execution_count": null,
   "metadata": {},
   "outputs": [],
   "source": [
    "'''\n",
    "Task2\n",
    "'''\n",
    "            \n",
    "student_list = ['devon', 'sue', 'bob', 'marvin', 'pat',    'amir']\n",
    "gpa_list     = [ 4.0,    3.66,  2.0,    2.33 ] \n",
    "\n",
    "#prompt for student name\n",
    "student = input('enter student name for gpa lookup:')\n",
    "\n",
    "#TASK2: Add your code here\n",
    "\n"
   ]
  },
  {
   "cell_type": "code",
   "execution_count": null,
   "metadata": {},
   "outputs": [],
   "source": []
  }
 ],
 "metadata": {
  "kernelspec": {
   "display_name": "Python 3",
   "language": "python",
   "name": "python3"
  },
  "language_info": {
   "codemirror_mode": {
    "name": "ipython",
    "version": 3
   },
   "file_extension": ".py",
   "mimetype": "text/x-python",
   "name": "python",
   "nbconvert_exporter": "python",
   "pygments_lexer": "ipython3",
   "version": "3.6.9"
  }
 },
 "nbformat": 4,
 "nbformat_minor": 2
}
