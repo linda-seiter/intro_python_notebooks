{
 "cells": [
  {
   "cell_type": "code",
   "execution_count": 19,
   "metadata": {},
   "outputs": [
    {
     "name": "stdout",
     "output_type": "stream",
     "text": [
      "tests passed\n"
     ]
    }
   ],
   "source": [
    "'''\n",
    "Task1\n",
    "'''\n",
    "\n",
    "def convert_temp(str):\n",
    "    if len(str) < 2:\n",
    "        return 'invalid'\n",
    "    \n",
    "    last_char = str[-1]\n",
    "    temp = str[0:-1]\n",
    "    \n",
    "    if temp.isdigit():\n",
    "        if last_char == 'C':\n",
    "            return '{}Celsius'.format(temp)\n",
    "        elif last_char == 'F':\n",
    "            return '{}Fahrenheit'.format(temp)\n",
    "        else:\n",
    "            return 'invalid'\n",
    "    else:\n",
    "        return 'invalid'\n",
    "    \n",
    "    \n",
    "#You can assume temperatures will be positive values.\n",
    "assert(convert_temp('20C') == '20Celsius')\n",
    "assert(convert_temp('5C') == '5Celsius')\n",
    "assert(convert_temp('105F') == '105Fahrenheit')\n",
    "assert(convert_temp('0F') == '0Fahrenheit')\n",
    "assert(convert_temp('42k') == 'invalid')\n",
    "assert(convert_temp('C') == 'invalid')\n",
    "assert(convert_temp('32') == 'invalid')\n",
    "assert(convert_temp('tenC') == 'invalid')\n",
    "\n",
    "\n",
    "print('tests passed')\n",
    "    "
   ]
  },
  {
   "cell_type": "code",
   "execution_count": 18,
   "metadata": {},
   "outputs": [
    {
     "name": "stdout",
     "output_type": "stream",
     "text": [
      "enter product for price lookup:bananas\n",
      "price not available\n"
     ]
    }
   ],
   "source": [
    "'''\n",
    "Task2\n",
    "'''\n",
    "            \n",
    "product_list = ['milk', 'bread', 'bagels', 'eggs', 'bananas', 'yogurt']\n",
    "price_list   = [ 3.29,   2.39,    3.49,     3.99 ] \n",
    "product = input('enter product for price lookup:')\n",
    "\n",
    "\n",
    "if product not in product_list:\n",
    "    print('product not available')\n",
    "else:\n",
    "    index = product_list.index(product)\n",
    "    if index < len(price_list):\n",
    "        print(price_list[index])    \n",
    "    else:\n",
    "        print('price not available')\n"
   ]
  },
  {
   "cell_type": "code",
   "execution_count": 1,
   "metadata": {},
   "outputs": [
    {
     "name": "stdout",
     "output_type": "stream",
     "text": [
      "tests passed\n"
     ]
    }
   ],
   "source": [
    "'''\n",
    "Task2 NO\n",
    "'''\n",
    "\n",
    "def price_lookup(product_list, price_list, product):\n",
    "    for i in range(len(product_list)):\n",
    "        if product_list[i] == product:\n",
    "            if i < len(price_list):\n",
    "                return price_list[i]\n",
    "            else:\n",
    "                return 0\n",
    "    #product not found\n",
    "    return 0\n",
    "            \n",
    "walmart_products = ['gallon milk', 'italian bread', '6 bagels', 'dozen eggs']\n",
    "walmart_prices = [3.60, 2.30, 3.40, 3.50]\n",
    "target_products = ['32 oz yogurt', 'gallon milk', '6 bagels', 'dozen eggs', 'bananas']\n",
    "target_prices = [2.70, 3.70, 3.50]\n",
    "\n",
    "assert(price_lookup(walmart_products, walmart_prices, 'italian bread') == 2.30)\n",
    "assert(price_lookup(walmart_products, walmart_prices, '6 bagels') == 3.40)\n",
    "assert(price_lookup(walmart_products, walmart_prices, 'chocolate ice cream') == 0)  #product not in the list\n",
    "assert(price_lookup(target_products, target_prices, '6 bagels') == 3.50)\n",
    "assert(price_lookup(target_products, target_prices, 'gallon milk') == 3.70)\n",
    "assert(price_lookup(target_products, target_prices, 'bananas') == 0)  #price unavailable for this product\n",
    "\n",
    "print('tests passed')"
   ]
  },
  {
   "cell_type": "code",
   "execution_count": 21,
   "metadata": {},
   "outputs": [
    {
     "name": "stdout",
     "output_type": "stream",
     "text": [
      "tests passed\n"
     ]
    }
   ],
   "source": [
    "'''\n",
    "NO\n",
    "'''\n",
    "\n",
    "def total_cost(product_list, price_list, cart_list):\n",
    "    total = 0\n",
    "    for product in cart_list:\n",
    "        total += price_lookup(product_list, price_list, product)\n",
    "    return total\n",
    "            \n",
    "freds_cart = ['italian bread', 'gallon milk']\n",
    "bobs_cart = ['6 bagels', '32 oz vanilla yogurt', 'gallon milk']\n",
    "assert(total_cost(walmart_products, walmart_prices, freds_cart) == 5.90)  #3.60 + 2.30\n",
    "assert(total_cost(target_products, target_prices, bobs_cart) == 9.90)  #3.50 + 2.70 + 3.70\n",
    "\n",
    "print('tests passed')"
   ]
  },
  {
   "cell_type": "code",
   "execution_count": 30,
   "metadata": {},
   "outputs": [
    {
     "name": "stdout",
     "output_type": "stream",
     "text": [
      "tests passed\n"
     ]
    }
   ],
   "source": [
    "'''\n",
    "NO\n",
    "'''\n",
    "\n",
    "def get_parity(list1, list2):\n",
    "    result_list = []\n",
    "    if len(list1) != len(list2):\n",
    "        return result_list\n",
    "    for i in range(len(list1)):\n",
    "        if (list1[i] + list2[i]) %2 == 0:\n",
    "            result_list.append('even')\n",
    "        else:\n",
    "            result_list.append('odd')\n",
    "    return result_list\n",
    "            \n",
    "list_a = [5, 2, 2, 3]\n",
    "list_b = [8, 4, 1, 0]\n",
    "list_c = [1, 2, 3]\n",
    "list_d = [2, 1, 0]\n",
    "assert(get_parity(list_a, list_b) == ['odd','even','odd','odd'])\n",
    "assert(get_parity(list_c, list_d) == ['odd','odd','odd'])\n",
    "assert(get_parity(list_b, list_c) == [])\n",
    "\n",
    "print('tests passed')"
   ]
  },
  {
   "cell_type": "code",
   "execution_count": 16,
   "metadata": {},
   "outputs": [
    {
     "data": {
      "text/plain": [
       "9.9"
      ]
     },
     "execution_count": 16,
     "metadata": {},
     "output_type": "execute_result"
    }
   ],
   "source": [
    "3.50 + 2.70 + 3.70"
   ]
  },
  {
   "cell_type": "code",
   "execution_count": null,
   "metadata": {},
   "outputs": [],
   "source": [
    "6.08"
   ]
  }
 ],
 "metadata": {
  "kernelspec": {
   "display_name": "Python 3",
   "language": "python",
   "name": "python3"
  },
  "language_info": {
   "codemirror_mode": {
    "name": "ipython",
    "version": 3
   },
   "file_extension": ".py",
   "mimetype": "text/x-python",
   "name": "python",
   "nbconvert_exporter": "python",
   "pygments_lexer": "ipython3",
   "version": "3.6.9"
  }
 },
 "nbformat": 4,
 "nbformat_minor": 2
}
