{
 "cells": [
  {
   "cell_type": "code",
   "execution_count": 3,
   "metadata": {},
   "outputs": [],
   "source": [
    "from PIL import Image               # to load images\n",
    "from IPython.display import display # to display images\n",
    "import numpy as np\n",
    "import random\n",
    "from ipycanvas import Canvas"
   ]
  },
  {
   "cell_type": "code",
   "execution_count": 14,
   "metadata": {},
   "outputs": [
    {
     "name": "stdout",
     "output_type": "stream",
     "text": [
      "1 \n",
      "2 2 \n",
      "3 3 3 \n",
      "4 4 4 4 \n",
      "5 5 5 5 5 \n"
     ]
    }
   ],
   "source": [
    "'''\n",
    "Task1a\n",
    "'''\n",
    "for r in range(1,6):\n",
    "    for c in range(r):\n",
    "        print(r, end=' ')\n",
    "    print()"
   ]
  },
  {
   "cell_type": "code",
   "execution_count": 15,
   "metadata": {},
   "outputs": [
    {
     "name": "stdout",
     "output_type": "stream",
     "text": [
      "1 \n",
      "1 2 \n",
      "1 2 3 \n",
      "1 2 3 4 \n",
      "1 2 3 4 5 \n"
     ]
    }
   ],
   "source": [
    "'''\n",
    "Task1b\n",
    "'''\n",
    "for r in range(1,6):\n",
    "    for c in range(1,r+1):\n",
    "        print(c, end=' ')\n",
    "    print()"
   ]
  },
  {
   "cell_type": "code",
   "execution_count": 16,
   "metadata": {},
   "outputs": [
    {
     "name": "stdout",
     "output_type": "stream",
     "text": [
      "1 \n",
      "2 4 \n",
      "3 6 9 \n",
      "4 8 12 16 \n",
      "5 10 15 20 25 \n"
     ]
    }
   ],
   "source": [
    "'''\n",
    "Task1c\n",
    "'''\n",
    "for r in range(1,6):\n",
    "    for c in range(1,r+1):\n",
    "        print(r*c, end=' ')\n",
    "    print()"
   ]
  },
  {
   "cell_type": "code",
   "execution_count": 4,
   "metadata": {},
   "outputs": [
    {
     "data": {
      "application/vnd.jupyter.widget-view+json": {
       "model_id": "",
       "version_major": 2,
       "version_minor": 0
      },
      "text/plain": [
       "Canvas(height=200, width=200)"
      ]
     },
     "metadata": {},
     "output_type": "display_data"
    }
   ],
   "source": [
    "'''\n",
    "Task2a\n",
    "'''\n",
    "canvas = Canvas(width=200, height=200)\n",
    "display(canvas)\n",
    "\n",
    "canvas.stroke_style='black'\n",
    "canvas.stroke_rect(0,0,200,200)\n",
    "canvas.fill_style='blue'\n",
    "canvas.stroke_style = 'green'\n",
    "\n",
    "size=50\n",
    "y=0\n",
    "for col in range(4):\n",
    "    x = col*size\n",
    "    canvas.stroke_rect(x,y,size,size)\n",
    "    canvas.fill_circle(x+size/2,y+size/2,size/4)\n"
   ]
  },
  {
   "cell_type": "code",
   "execution_count": 5,
   "metadata": {},
   "outputs": [
    {
     "data": {
      "application/vnd.jupyter.widget-view+json": {
       "model_id": "",
       "version_major": 2,
       "version_minor": 0
      },
      "text/plain": [
       "Canvas(height=200, width=200)"
      ]
     },
     "metadata": {},
     "output_type": "display_data"
    }
   ],
   "source": [
    "'''\n",
    "Task2b\n",
    "'''\n",
    "canvas = Canvas(width=200, height=200)\n",
    "display(canvas)\n",
    "\n",
    "canvas.stroke_style='black'\n",
    "canvas.stroke_rect(0,0,200,200)\n",
    "canvas.fill_style='blue'\n",
    "canvas.stroke_style = 'green'\n",
    "\n",
    "size=50\n",
    "for row in range(4):\n",
    "    y=row*size\n",
    "    for col in range(4):\n",
    "        x = col*size\n",
    "        canvas.stroke_rect(x,y,size,size)\n",
    "        canvas.fill_circle(x+size/2,y+size/2,size/4)\n"
   ]
  },
  {
   "cell_type": "code",
   "execution_count": 13,
   "metadata": {
    "scrolled": true
   },
   "outputs": [
    {
     "data": {
      "application/vnd.jupyter.widget-view+json": {
       "model_id": "6022f74adbbe481ea89ca5164dcb9255",
       "version_major": 2,
       "version_minor": 0
      },
      "text/plain": [
       "Canvas(height=200, width=200)"
      ]
     },
     "metadata": {},
     "output_type": "display_data"
    }
   ],
   "source": [
    "'''\n",
    "Task2c\n",
    "'''\n",
    "canvas = Canvas(width=200, height=200)\n",
    "display(canvas)\n",
    "\n",
    "canvas.stroke_style='black'\n",
    "canvas.stroke_rect(0,0,200,200)\n",
    "canvas.fill_style='blue'\n",
    "canvas.stroke_style = 'green'\n",
    "\n",
    "size=50\n",
    "for row in range(4):\n",
    "    y=row*size\n",
    "    for col in range(4):\n",
    "        x = col*size\n",
    "        if row == col:\n",
    "            canvas.fill_style = 'red'\n",
    "        else:\n",
    "            canvas.fill_style = 'blue'\n",
    "        canvas.stroke_rect(x,y,size,size)\n",
    "        canvas.fill_circle(x+size/2,y+size/2,size/4)\n"
   ]
  },
  {
   "cell_type": "code",
   "execution_count": 11,
   "metadata": {},
   "outputs": [
    {
     "data": {
      "application/vnd.jupyter.widget-view+json": {
       "model_id": "b75715d929954f0aba2185c6eac24817",
       "version_major": 2,
       "version_minor": 0
      },
      "text/plain": [
       "Canvas(height=200, width=200)"
      ]
     },
     "metadata": {},
     "output_type": "display_data"
    }
   ],
   "source": [
    "'''\n",
    "Task2d\n",
    "'''\n",
    "canvas = Canvas(width=200, height=200)\n",
    "display(canvas)\n",
    "\n",
    "canvas.stroke_style='black'\n",
    "canvas.stroke_rect(0,0,200,200)\n",
    "canvas.fill_style='blue'\n",
    "canvas.stroke_style = 'green'\n",
    "\n",
    "size=50\n",
    "for row in range(4):\n",
    "    y=row*size\n",
    "    for col in range(4):\n",
    "        x = col*size\n",
    "       \n",
    "        if row == col:\n",
    "            canvas.fill_style = 'red'\n",
    "        elif row % 2 == 0:\n",
    "            canvas.fill_style = 'blue'\n",
    "        else:\n",
    "            canvas.fill_style = 'yellow'\n",
    "        canvas.stroke_rect(x,y,size,size)\n",
    "        \n",
    "        canvas.fill_circle(x+size/2,y+size/2,size/4)\n"
   ]
  },
  {
   "cell_type": "code",
   "execution_count": null,
   "metadata": {},
   "outputs": [],
   "source": []
  },
  {
   "cell_type": "code",
   "execution_count": 14,
   "metadata": {},
   "outputs": [
    {
     "data": {
      "image/png": "[encoded data removed]",
      "text/plain": [
       "<PIL.Image.Image image mode=RGB size=100x100 at 0x7F415EBAA2B0>"
      ]
     },
     "metadata": {},
     "output_type": "display_data"
    },
    {
     "data": {
      "image/png": "[encoded data removed]",
      "text/plain": [
       "<PIL.Image.Image image mode=RGB size=100x100 at 0x7F415EBAA748>"
      ]
     },
     "metadata": {},
     "output_type": "display_data"
    }
   ],
   "source": [
    "'''\n",
    "Task3a\n",
    "\n",
    "'''\n",
    "\n",
    "\n",
    "image = Image.new(mode = \"RGB\", size = (100,100))\n",
    "display(image)\n",
    "pixels_2D = np.array(image)  #convert to 2D list\n",
    "rows = len(pixels_2D)\n",
    "cols = len(pixels_2D[0])\n",
    "\n",
    "for r in range(rows):\n",
    "    for c in range(cols):\n",
    "        random_num = random.randint(0,255)\n",
    "        pixels_2D[r][c] = [0,random_num,0]\n",
    "        \n",
    "        \n",
    "image = Image.fromarray(pixels_2D)\n",
    "display(image)"
   ]
  },
  {
   "cell_type": "code",
   "execution_count": 8,
   "metadata": {},
   "outputs": [
    {
     "data": {
      "image/png": "[encoded data removed]",
      "text/plain": [
       "<PIL.Image.Image image mode=RGB size=100x100 at 0x7F415EBAA518>"
      ]
     },
     "metadata": {},
     "output_type": "display_data"
    },
    {
     "data": {
      "image/png": "[encoded data removed]",
      "text/plain": [
       "<PIL.Image.Image image mode=RGB size=100x100 at 0x7F415EBAA080>"
      ]
     },
     "metadata": {},
     "output_type": "display_data"
    }
   ],
   "source": [
    "'''\n",
    "Task3b\n",
    "'''\n",
    "\n",
    "\n",
    "image = Image.new(mode = \"RGB\", size = (100,100))\n",
    "display(image)\n",
    "pixels_2D = np.array(image)  #convert to 2D list\n",
    "rows = len(pixels_2D)\n",
    "cols = len(pixels_2D[0])\n",
    "\n",
    "for r in range(rows):\n",
    "    for c in range(cols):\n",
    "        random_num = random.randint(0,255)\n",
    "        if (r<=rows//2):\n",
    "            pixels_2D[r][c] = [0,random_num,0]\n",
    "        else:\n",
    "            pixels_2D[r][c] = [random_num,0,0]\n",
    "        \n",
    "image = Image.fromarray(pixels_2D)\n",
    "display(image)"
   ]
  },
  {
   "cell_type": "code",
   "execution_count": 18,
   "metadata": {},
   "outputs": [
    {
     "data": {
      "image/png": "[encoded data removed]",
      "text/plain": [
       "<PIL.Image.Image image mode=RGB size=100x100 at 0x7F415D2C3048>"
      ]
     },
     "metadata": {},
     "output_type": "display_data"
    },
    {
     "data": {
      "image/png": "[encoded data removed]",
      "text/plain": [
       "<PIL.Image.Image image mode=RGB size=100x100 at 0x7F415D2C3FD0>"
      ]
     },
     "metadata": {},
     "output_type": "display_data"
    }
   ],
   "source": [
    "'''\n",
    "Task3c\n",
    "'''\n",
    "\n",
    "\n",
    "image = Image.new(mode = \"RGB\", size = (100,100))\n",
    "display(image)\n",
    "pixels_2D = np.array(image)  #convert to 2D list\n",
    "rows = len(pixels_2D)\n",
    "cols = len(pixels_2D[0])\n",
    "\n",
    "for r in range(rows):\n",
    "    for c in range(cols):\n",
    "        random_num = random.randint(0,255)\n",
    "        if r<=rows//2 and c<=cols//2:\n",
    "            pixels_2D[r][c] = [0,random_num,0]\n",
    "        elif r<=rows//2 and c>cols//2:\n",
    "            pixels_2D[r][c] = [random_num,0,0]\n",
    "        elif r>rows//2 and c<cols//2:\n",
    "            pixels_2D[r][c] = [0,0,random_num]\n",
    "        else:\n",
    "            pixels_2D[r][c] = [random.randint(0,255),random.randint(0,255),random.randint(0,255)]\n",
    "        \n",
    "image = Image.fromarray(pixels_2D)\n",
    "display(image)"
   ]
  }
 ],
 "metadata": {
  "kernelspec": {
   "display_name": "Python 3",
   "language": "python",
   "name": "python3"
  },
  "language_info": {
   "codemirror_mode": {
    "name": "ipython",
    "version": 3
   },
   "file_extension": ".py",
   "mimetype": "text/x-python",
   "name": "python",
   "nbconvert_exporter": "python",
   "pygments_lexer": "ipython3",
   "version": "3.6.9"
  }
 },
 "nbformat": 4,
 "nbformat_minor": 2
}
