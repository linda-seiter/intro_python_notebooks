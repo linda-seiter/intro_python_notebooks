{
 "cells": [
  {
   "cell_type": "markdown",
   "metadata": {},
   "source": [
    "### CS128 HW 1 - Python Variables and Input/Output"
   ]
  },
  {
   "cell_type": "markdown",
   "metadata": {},
   "source": [
    "Try to follow the convention of one space around operators  = and + and ,\n"
   ]
  },
  {
   "cell_type": "code",
   "execution_count": null,
   "metadata": {},
   "outputs": [],
   "source": [
    "'''\n",
    "TASK1a: \n",
    "'''\n",
    "\n",
    "#Assume you have these variables defined\n",
    "legal_age = 18\n",
    "fred_age = 11\n",
    "pat_age = 14\n",
    "\n",
    "#Add variables named fred_diff and pat_diff to calculate the difference between the legal age and their current age\n",
    "\n",
    "\n",
    "\n",
    "#Add 2 print statements to produce the expected result using the appropriate variables \n",
    "\n",
    "\n"
   ]
  },
  {
   "cell_type": "code",
   "execution_count": null,
   "metadata": {
    "scrolled": true
   },
   "outputs": [],
   "source": [
    "'''\n",
    "TASK1b: \n",
    "'''\n",
    "\n",
    "#prompt for legal age, fred's age, and pat's age and store in the variables\n",
    "\n",
    "\n",
    "#Add variables named fred_diff and pat_diff to calculate the difference between the legal age and their current age\n",
    "\n",
    "\n",
    "#Add 2 print statements to produce the expected result using the appropriate variables \n",
    "\n"
   ]
  },
  {
   "cell_type": "code",
   "execution_count": null,
   "metadata": {},
   "outputs": [],
   "source": [
    "'''\n",
    "TASK2a:\n",
    "'''\n",
    "\n",
    "#add your code here\n"
   ]
  },
  {
   "cell_type": "code",
   "execution_count": null,
   "metadata": {},
   "outputs": [],
   "source": [
    "'''\n",
    "TASK2b:\n",
    "'''\n",
    "\n",
    "# add your code here\n"
   ]
  },
  {
   "cell_type": "code",
   "execution_count": null,
   "metadata": {
    "scrolled": true
   },
   "outputs": [],
   "source": [
    "'''\n",
    "Task3:\n",
    "\n",
    "'''\n",
    "\n",
    "#add your code here\n",
    "\n"
   ]
  },
  {
   "cell_type": "code",
   "execution_count": null,
   "metadata": {},
   "outputs": [],
   "source": [
    "'''\n",
    "Task4:\n",
    "'''\n",
    "\n",
    "#add your code here\n",
    "\n"
   ]
  },
  {
   "cell_type": "code",
   "execution_count": null,
   "metadata": {},
   "outputs": [],
   "source": []
  }
 ],
 "metadata": {
  "kernelspec": {
   "display_name": "Python 3",
   "language": "python",
   "name": "python3"
  },
  "language_info": {
   "codemirror_mode": {
    "name": "ipython",
    "version": 3
   },
   "file_extension": ".py",
   "mimetype": "text/x-python",
   "name": "python",
   "nbconvert_exporter": "python",
   "pygments_lexer": "ipython3",
   "version": "3.6.9"
  }
 },
 "nbformat": 4,
 "nbformat_minor": 2
}
