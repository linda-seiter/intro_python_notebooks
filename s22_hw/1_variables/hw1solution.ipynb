{
 "cells": [
  {
   "cell_type": "markdown",
   "metadata": {},
   "source": [
    "### CS128 HW 1 - Python Variables and Input/Output"
   ]
  },
  {
   "cell_type": "markdown",
   "metadata": {},
   "source": [
    "Try to follow the convention of one space around operators  = and + and ,\n"
   ]
  },
  {
   "cell_type": "code",
   "execution_count": 8,
   "metadata": {},
   "outputs": [
    {
     "name": "stdout",
     "output_type": "stream",
     "text": [
      "Fred is 11 years old and will be 18 in 7 years\n",
      "Pat is 14 years old and will be 18 in 4 years\n"
     ]
    }
   ],
   "source": [
    "'''\n",
    "TASK1a: \n",
    "'''\n",
    "\n",
    "#Assume you have these variables defined\n",
    "legal_age = 18\n",
    "fred_age = 11\n",
    "pat_age = 14\n",
    "\n",
    "#Add variables named fred_diff and pat_diff to calculate the difference between the legal age and their current age\n",
    "fred_diff = legal_age - fred_age\n",
    "pat_diff = legal_age - pat_age\n",
    "\n",
    "#Add 2 print statements to produce the expected result using the appropriate variables \n",
    "print('Fred is' , fred_age, 'years old and will be', legal_age, 'in', fred_diff,'years')\n",
    "print('Pat is' , pat_age, 'years old and will be', legal_age, 'in', pat_diff,'years')\n"
   ]
  },
  {
   "cell_type": "code",
   "execution_count": 3,
   "metadata": {
    "scrolled": true
   },
   "outputs": [
    {
     "name": "stdout",
     "output_type": "stream",
     "text": [
      "What is the legal age?19\n",
      "How old is Fred?17\n",
      "How old is Pat?16\n",
      "Fred is 17 years old and will be 19 in 2 years\n",
      "Pat is 16 years old and will be 19 in 3 years\n"
     ]
    }
   ],
   "source": [
    "'''\n",
    "TASK1b: \n",
    "'''\n",
    "\n",
    "#prompt for legal age, fred's age, and pat's age and store in the variables\n",
    "legal_age = int(input('What is the legal age?'))\n",
    "fred_age = int(input('How old is Fred?'))\n",
    "pat_age = int(input('How old is Pat?'))\n",
    "\n",
    "#Add variables named fred_diff and pat_diff to calculate the difference between the legal age and their current age\n",
    "fred_diff = legal_age - fred_age\n",
    "pat_diff = legal_age - pat_age\n",
    "\n",
    "#Add 2 print statements to produce the expected result using the appropriate variables \n",
    "print('Fred is' , fred_age, 'years old and will be', legal_age, 'in', fred_diff,'years')\n",
    "print('Pat is' , pat_age, 'years old and will be', legal_age, 'in', pat_diff,'years')\n"
   ]
  },
  {
   "cell_type": "code",
   "execution_count": 5,
   "metadata": {},
   "outputs": [
    {
     "name": "stdout",
     "output_type": "stream",
     "text": [
      "price of a bag of chips:3.50\n",
      "number of bags of chips:2\n",
      "Purchased 2 bags of chips at 3.5 per bag for a total cost of 7.0\n"
     ]
    }
   ],
   "source": [
    "'''\n",
    "TASK2a:\n",
    "'''\n",
    "\n",
    "price_chips = float(input('price of a bag of chips:'))\n",
    "num_bags = int(input('number of bags of chips:'))\n",
    "total_cost = price_chips * num_bags\n",
    "\n",
    "print('Purchased' , num_bags , 'bags of chips at', price_chips,'per bag for a total cost of', total_cost)"
   ]
  },
  {
   "cell_type": "code",
   "execution_count": 7,
   "metadata": {},
   "outputs": [
    {
     "name": "stdout",
     "output_type": "stream",
     "text": [
      "price of a bag of chips:2.99\n",
      "number of bags of chips:3\n",
      "sales discount per bag:0.10\n",
      "Original cost for 3 bags of chips at 2.99 per bag is 8.97\n",
      "Sales cost for 3 bags of chips at 2.89 per bag is 8.67\n"
     ]
    }
   ],
   "source": [
    "'''\n",
    "TASK2b:\n",
    "'''\n",
    "\n",
    "price_chips = float(input('price of a bag of chips:'))\n",
    "num_bags = int(input('number of bags of chips:'))\n",
    "discount = float(input('sales discount per bag:'))\n",
    "total_cost = price_chips * num_bags\n",
    "sales_price = price_chips - discount\n",
    "sales_cost = sales_price * num_bags\n",
    "\n",
    "print('Original cost for' , num_bags , 'bags of chips at', price_chips,'per bag is', total_cost)\n",
    "print('Sales cost for' , num_bags , 'bags of chips at', sales_price,'per bag is', sales_cost)\n"
   ]
  },
  {
   "cell_type": "code",
   "execution_count": 9,
   "metadata": {
    "scrolled": true
   },
   "outputs": [
    {
     "name": "stdout",
     "output_type": "stream",
     "text": [
      "enter name:Devonte Miller\n",
      "enter your intended major:Mathematics\n",
      "enter year of high school graduation:2019\n",
      "Congratulations Devonte Miller on your acceptance to John Carroll University\n",
      "You will enjoy being a Mathematics major\n",
      "You graduated from high school in 2019 and should graduate from JCU in 2023\n"
     ]
    }
   ],
   "source": [
    "'''\n",
    "Task3:\n",
    "\n",
    "'''\n",
    "\n",
    "name = input('enter name:')\n",
    "major = input('enter your intended major:')\n",
    "high_school_year = int(input('enter year of high school graduation:'))\n",
    "jcu_year = high_school_year + 4\n",
    "\n",
    "print('Congratulations', name, 'on your acceptance to John Carroll University')\n",
    "print('You will enjoy being a', major, 'major')\n",
    "print('You graduated from high school in',high_school_year, \n",
    "      'and should graduate from JCU in', jcu_year)\n"
   ]
  },
  {
   "cell_type": "code",
   "execution_count": 2,
   "metadata": {},
   "outputs": [
    {
     "name": "stdout",
     "output_type": "stream",
     "text": [
      "Monthly rent for year 1?575.50\n",
      "Monthly increase year 2?20.25\n",
      "Year 1 monthly rent of 575.5  for 12 months = 6906.0\n",
      "Year 2 monthly rent of 595.75  for 12 months = 7149.0\n"
     ]
    }
   ],
   "source": [
    "'''\n",
    "Task4:\n",
    "You are signing a two year lease. The first 12 months of rent will have the same price,\n",
    "but there will be an increase in rent for the second 12 months.\n",
    "Prompt the user for the current monthly rent and the amount the rent will increase in year 2.\n",
    "Calculate and print the total rent paid for year 1 and year 2 as shown in the example output.\n",
    "'''\n",
    "\n",
    "\n",
    "monthly_year1 = float(input('Monthly rent for year 1?'))\n",
    "rent_increase = float(input('Monthly increase year 2?'))\n",
    "total_year1 = monthly_year1 * 12\n",
    "monthly_year2 = monthly_year1 + rent_increase\n",
    "total_year2 = monthly_year2 * 12\n",
    "\n",
    "print('Year 1 monthly rent of',monthly_year1,' for 12 months =',total_year1)\n",
    "print('Year 2 monthly rent of',monthly_year2,' for 12 months =',total_year2)\n"
   ]
  },
  {
   "cell_type": "code",
   "execution_count": null,
   "metadata": {},
   "outputs": [],
   "source": []
  }
 ],
 "metadata": {
  "kernelspec": {
   "display_name": "Python 3",
   "language": "python",
   "name": "python3"
  },
  "language_info": {
   "codemirror_mode": {
    "name": "ipython",
    "version": 3
   },
   "file_extension": ".py",
   "mimetype": "text/x-python",
   "name": "python",
   "nbconvert_exporter": "python",
   "pygments_lexer": "ipython3",
   "version": "3.6.9"
  }
 },
 "nbformat": 4,
 "nbformat_minor": 2
}
