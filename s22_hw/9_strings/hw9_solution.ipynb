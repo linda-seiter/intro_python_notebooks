{
 "cells": [
  {
   "cell_type": "code",
   "execution_count": 6,
   "metadata": {},
   "outputs": [
    {
     "name": "stdout",
     "output_type": "stream",
     "text": [
      "unit tests pass\n"
     ]
    }
   ],
   "source": [
    "#Task1\n",
    "\n",
    "def is_nth_char(char, n, str):\n",
    "    if n<len(str):\n",
    "        return str[n] == char\n",
    "    else:\n",
    "        return False\n",
    "    \n",
    "#Unit tests\n",
    "assert(is_nth_char('b',6,'happy birthday') == True)\n",
    "assert(is_nth_char('h',0,'happy birthday') == True)\n",
    "assert(is_nth_char('b',6,'Happy Birthday') == False)\n",
    "assert(is_nth_char('B',6,'Happy birthday') == False)\n",
    "assert(is_nth_char('B',6,'hi') == False)  #n >= length of string\n",
    "\n",
    "print('unit tests pass')"
   ]
  },
  {
   "cell_type": "code",
   "execution_count": 6,
   "metadata": {},
   "outputs": [
    {
     "name": "stdout",
     "output_type": "stream",
     "text": [
      "unit tests pass\n"
     ]
    }
   ],
   "source": [
    "#Task2\n",
    "\n",
    "def count_after(search_char, start_char, str):\n",
    "    start_index = str.find(start_char)\n",
    "    if start_index != -1 :\n",
    "        substr = str[start_index+1:]\n",
    "        return substr.count(search_char)\n",
    "    else:\n",
    "        return 0\n",
    "\n",
    "#Unit tests\n",
    "assert(count_after('a','p','happy birthday')  == 1)  #  1 a after the first p\n",
    "assert(count_after('p','p','happy birthday')  == 1)  #  1 p after the first p\n",
    "assert(count_after('z','b','happy birthday')  == 0)  #  0 z after the first b\n",
    "assert(count_after('h','d','happy birthday')  == 0)  #  0 h after the first d\n",
    "assert(count_after('y','a','happy birthday') == 2) #    2 y after first a\n",
    "assert(count_after('y','z','happy birthday') == 0) #    z not in string, function returns 0\n",
    "assert(count_after('e','o','hello') == 0) #             0 e after first o\n",
    "\n",
    "print('unit tests pass')"
   ]
  },
  {
   "cell_type": "code",
   "execution_count": 13,
   "metadata": {},
   "outputs": [
    {
     "name": "stdout",
     "output_type": "stream",
     "text": [
      "unit tests pass\n"
     ]
    }
   ],
   "source": [
    "#Task3\n",
    "\n",
    "def cutout (str, start, end):\n",
    "    if start >= 0 and end < len(str) and start <= end:\n",
    "        before = str[0:start]\n",
    "        after = str[end+1:]\n",
    "        return before + after\n",
    "    else:\n",
    "        return ''\n",
    "\n",
    "#Unit tests\n",
    "assert(cutout('abcdefgh', 2, 4) == 'abfgh') #concatenate substrings before and after cde\n",
    "assert(cutout('abcdefgh', 0, 3) == 'efgh') #concatenate substrings before and after abcd\n",
    "assert(cutout('abcdefgh', 4, 7) == 'abcd') #concatenate substrings before and after efgh\n",
    "assert(cutout('abcdefgh', 4, 3) == '') #start > end, return empty string\n",
    "assert(cutout('abcdefgh', -1, 4)  == '') #start index out of bounds, return empty string\n",
    "assert(cutout('abcdefgh', 2, 8)  == '') #end index out of bounds, return empty string\n",
    "\n",
    "print('unit tests pass')"
   ]
  },
  {
   "cell_type": "code",
   "execution_count": 14,
   "metadata": {},
   "outputs": [],
   "source": [
    "#Task4\n",
    "\n",
    "def upper_substring(str, start, end):\n",
    "    if start >= 0 and end < len(str) and start <= end:\n",
    "        before = str[0:start]\n",
    "        sub = str[start:end+1].upper()\n",
    "        after = str[end+1:]\n",
    "        return before + sub + after\n",
    "    else:\n",
    "        return ''\n",
    "    \n",
    "\n",
    "#Unit tests\n",
    "assert(upper_substring('abcdefgh', 2, 4) == 'abCDEfgh') \n",
    "assert(upper_substring('abcdefgh', 0, 3) == 'ABCDefgh') #concatenate substrings before and after abcd\n",
    "assert(upper_substring('abcdefgh', 4, 7) == 'abcdEFGH') #concatenate substrings before and after efgh\n",
    "assert(upper_substring('abcdefgh', 4, 3) == '') #start > end, return empty string\n",
    "assert(upper_substring('abcdefgh', -1, 4)  == '') #start index out of bounds, return empty string\n",
    "assert(upper_substring('abcdefgh', 2, 8)  == '') #end index out of bounds, return empty string\n",
    "        \n",
    "print('unit tests pass')"
   ]
  },
  {
   "cell_type": "code",
   "execution_count": 20,
   "metadata": {},
   "outputs": [
    {
     "name": "stdout",
     "output_type": "stream",
     "text": [
      "unit tests pass\n"
     ]
    }
   ],
   "source": [
    "#Task5\n",
    "\n",
    "def count_digits(str):\n",
    "    count = 0\n",
    "    for c in str:\n",
    "        if c.isdigit():\n",
    "            count += 1\n",
    "    return count\n",
    "\n",
    "#Unit tests\n",
    "assert(count_digits('a4bc9d') == 2) \n",
    "assert(count_digits('a1b2c3d4') == 4)  \n",
    "assert(count_digits('abc') == 0)  \n",
    "print('unit tests pass')"
   ]
  },
  {
   "cell_type": "code",
   "execution_count": 22,
   "metadata": {},
   "outputs": [
    {
     "name": "stdout",
     "output_type": "stream",
     "text": [
      "unit tests pass\n"
     ]
    }
   ],
   "source": [
    "#Task6\n",
    "\n",
    "def sum_digits(str):\n",
    "    sum = 0\n",
    "    for c in str:\n",
    "        if c.isdigit():\n",
    "            sum += int(c)\n",
    "    return sum\n",
    "\n",
    "#Unit tests\n",
    "assert(sum_digits('a4bc9d') == 13)   #4+9\n",
    "assert(sum_digits('a1b2c3d4') == 10)  #1+2+3+4 \n",
    "assert(sum_digits('abc') == 0)  \n",
    "print('unit tests pass')"
   ]
  },
  {
   "cell_type": "code",
   "execution_count": 6,
   "metadata": {},
   "outputs": [
    {
     "name": "stdout",
     "output_type": "stream",
     "text": [
      "tests passed\n"
     ]
    }
   ],
   "source": [
    "#Task7 \n",
    "\n",
    "def convert_name(str):\n",
    "    index_first_space = str.find(' ')\n",
    "    if index_first_space != -1:\n",
    "        index_second_space = str.find(' ',index_first_space + 1) \n",
    "        first = str[0:index_first_space]\n",
    "        if index_second_space != -1:\n",
    "            middle = str[index_first_space+1:index_second_space]\n",
    "            last = str[index_second_space+1:]\n",
    "            return last+', '+first[0]+'.'+middle[0]+'.'\n",
    "        else:\n",
    "            last = str[index_first_space+1:]\n",
    "            return last+', '+first[0]+'.'\n",
    "    else:\n",
    "        return str\n",
    "\n",
    "assert(convert_name('Fred Herbert Smith') == 'Smith, F.H.')\n",
    "assert(convert_name('Billy Bob Jones') == 'Jones, B.B.')\n",
    "assert(convert_name('Ann Mary Jacobson') == 'Jacobson, A.M.')\n",
    "assert(convert_name('Darth Vader') == 'Vader, D.')\n",
    "assert(convert_name('Yoda') == 'Yoda')\n",
    "print('tests passed')"
   ]
  }
 ],
 "metadata": {
  "kernelspec": {
   "display_name": "Python 3",
   "language": "python",
   "name": "python3"
  },
  "language_info": {
   "codemirror_mode": {
    "name": "ipython",
    "version": 3
   },
   "file_extension": ".py",
   "mimetype": "text/x-python",
   "name": "python",
   "nbconvert_exporter": "python",
   "pygments_lexer": "ipython3",
   "version": "3.6.9"
  }
 },
 "nbformat": 4,
 "nbformat_minor": 2
}
