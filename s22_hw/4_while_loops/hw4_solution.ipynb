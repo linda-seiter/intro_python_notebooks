{
 "cells": [
  {
   "cell_type": "code",
   "execution_count": 59,
   "metadata": {},
   "outputs": [],
   "source": [
    "import random\n",
    "from ipycanvas import Canvas"
   ]
  },
  {
   "cell_type": "code",
   "execution_count": 18,
   "metadata": {},
   "outputs": [
    {
     "name": "stdout",
     "output_type": "stream",
     "text": [
      "Round#1: 10 vs 7, player#1 wins.\n",
      "Round#2: 9 vs 3, player#1 wins.\n",
      "Round#3: 5 vs 5, tie.\n",
      "Round#4: 9 vs 5, player#1 wins.\n",
      "Round#5: 10 vs 10, tie.\n",
      "Game over.\n"
     ]
    }
   ],
   "source": [
    "'''\n",
    "Task 1\n",
    "'''\n",
    "round = 1\n",
    "while (round <= 5):\n",
    "    player1 = random.randint(1,10)\n",
    "    player2 = random.randint(1,10)\n",
    "    if player1 > player2:\n",
    "        print('Round#{}: {} vs {}, player#1 wins.'.format(round,player1, player2))\n",
    "    elif player1 < player2:\n",
    "        print('Round#{}: {} vs {}, player#2 wins.'.format(round,player1, player2))\n",
    "    else:\n",
    "        print('Round#{}: {} vs {}, tie.'.format(round,player1, player2))\n",
    "    round +=1\n",
    "\n",
    "print('Game over.')"
   ]
  },
  {
   "cell_type": "code",
   "execution_count": 23,
   "metadata": {},
   "outputs": [
    {
     "name": "stdout",
     "output_type": "stream",
     "text": [
      "Round#1: 7 vs 4, player#1 wins.\n",
      "Round#2: 9 vs 10, player#2 wins.\n",
      "Round#3: 6 vs 9, player#2 wins.\n",
      "Round#4: 8 vs 8, tie#1.\n",
      "Round#5: 5 vs 8, player#2 wins.\n",
      "Round#6: 10 vs 4, player#1 wins.\n",
      "Round#7: 6 vs 6, tie#2.\n",
      "Game over\n"
     ]
    }
   ],
   "source": [
    "'''\n",
    "Task 2 \n",
    "'''\n",
    "round = 1\n",
    "ties = 0\n",
    "while (ties < 2):\n",
    "    player1 = random.randint(1,10)\n",
    "    player2 = random.randint(1,10)\n",
    "    if player1 > player2:\n",
    "        print('Round#{}: {} vs {}, player#1 wins.'.format(round,player1, player2))\n",
    "    elif player1 < player2:\n",
    "        print('Round#{}: {} vs {}, player#2 wins.'.format(round,player1, player2))\n",
    "    else:\n",
    "        ties += 1\n",
    "        print('Round#{}: {} vs {}, tie#{}.'.format(round,player1, player2, ties))\n",
    "        \n",
    "    round +=1\n",
    "\n",
    "print('Game over')"
   ]
  },
  {
   "cell_type": "code",
   "execution_count": 46,
   "metadata": {},
   "outputs": [
    {
     "name": "stdout",
     "output_type": "stream",
     "text": [
      "1 + 7 = 8.  #Even sums:1\n",
      "9 + 4 = 13.  #Odd sums:1\n",
      "7 + 4 = 11.  #Odd sums:2\n",
      "8 + 7 = 15.  #Odd sums:3\n",
      "4 + 10 = 14.  #Even sums:2\n",
      "6 + 5 = 11.  #Odd sums:4\n",
      "7 + 8 = 15.  #Odd sums:5\n",
      "6 + 8 = 14.  #Even sums:3\n",
      "Game over\n"
     ]
    }
   ],
   "source": [
    "'''\n",
    "Task 3\n",
    "'''\n",
    "evens = 0\n",
    "odds = 0\n",
    "while (evens < 3):\n",
    "    player1 = random.randint(1,10)\n",
    "    player2 = random.randint(1,10)\n",
    "    sum = player1 + player2\n",
    "    if sum % 2 == 0:\n",
    "        evens +=  1\n",
    "        print('{} + {} = {}.  #Even sums:{}'.format(player1, player2, sum, evens))\n",
    "    else:\n",
    "        odds += 1\n",
    "        print('{} + {} = {}.  #Odd sums:{}'.format(player1, player2, sum, odds)) \n",
    "\n",
    "print('Game over')"
   ]
  },
  {
   "cell_type": "code",
   "execution_count": 55,
   "metadata": {
    "scrolled": true
   },
   "outputs": [
    {
     "data": {
      "application/vnd.jupyter.widget-view+json": {
       "model_id": "",
       "version_major": 2,
       "version_minor": 0
      },
      "text/plain": [
       "Canvas(height=400, width=400)"
      ]
     },
     "metadata": {},
     "output_type": "display_data"
    }
   ],
   "source": [
    "'''\n",
    "Task4a  - Draw without a loop\n",
    "'''\n",
    "\n",
    "canvas = Canvas(width=400, height=400)\n",
    "display(canvas)\n",
    "canvas.font = '12pt sans-serif'\n",
    "\n",
    "x=0\n",
    "y=0\n",
    "size=400\n",
    "shrink = 50\n",
    "\n",
    "canvas.stroke_rect(x,y,size,size)\n",
    "canvas.fill_text('#1 size={}'.format(size),x,y+size)\n",
    "size -= shrink\n",
    "    \n",
    "canvas.stroke_rect(x,y,size,size)\n",
    "canvas.fill_text('#2 size={}'.format(size),x,y+size)\n",
    "size -= shrink\n",
    "\n",
    "canvas.stroke_rect(x,y,size,size)\n",
    "canvas.fill_text('#3 size={}'.format(size),x,y+size)\n",
    "size -= shrink\n"
   ]
  },
  {
   "cell_type": "code",
   "execution_count": 56,
   "metadata": {
    "scrolled": true
   },
   "outputs": [
    {
     "data": {
      "application/vnd.jupyter.widget-view+json": {
       "model_id": "",
       "version_major": 2,
       "version_minor": 0
      },
      "text/plain": [
       "Canvas(height=400, width=400)"
      ]
     },
     "metadata": {},
     "output_type": "display_data"
    }
   ],
   "source": [
    "'''\n",
    "Task4b  - Draw without a loop\n",
    "'''\n",
    "\n",
    "canvas = Canvas(width=400, height=400)\n",
    "display(canvas)\n",
    "canvas.font = '12pt sans-serif'\n",
    "\n",
    "x=0\n",
    "y=0\n",
    "size=400\n",
    "shrink = 50\n",
    "\n",
    "canvas.stroke_rect(x,y,size,size)\n",
    "canvas.fill_text('#1 size={}'.format(size),x,y+size)\n",
    "size -= shrink\n",
    "x += shrink/2\n",
    "y += shrink/2\n",
    "    \n",
    "canvas.stroke_rect(x,y,size,size)\n",
    "canvas.fill_text('#2 size={}'.format(size),x,y+size)\n",
    "size -= shrink\n",
    "x += shrink/2\n",
    "y += shrink/2\n",
    "\n",
    "canvas.stroke_rect(x,y,size,size)\n",
    "canvas.fill_text('#3 size={}'.format(size),x,y+size)\n",
    "size -= shrink\n",
    "x += shrink/2\n",
    "y += shrink/2\n"
   ]
  },
  {
   "cell_type": "code",
   "execution_count": 60,
   "metadata": {
    "scrolled": true
   },
   "outputs": [
    {
     "data": {
      "application/vnd.jupyter.widget-view+json": {
       "model_id": "8dff95160d374eaf9c0197f301c2f3dd",
       "version_major": 2,
       "version_minor": 0
      },
      "text/plain": [
       "Canvas(height=400, width=400)"
      ]
     },
     "metadata": {},
     "output_type": "display_data"
    }
   ],
   "source": [
    "'''\n",
    "Task4b  - Draw with a loop\n",
    "'''\n",
    "\n",
    "canvas = Canvas(width=400, height=400)\n",
    "display(canvas)\n",
    "canvas.font = '12pt sans-serif'\n",
    "\n",
    "x=0\n",
    "y=0\n",
    "size=400\n",
    "shrink = 50\n",
    "count = 1\n",
    "\n",
    "while count <= 5:\n",
    "    canvas.stroke_rect(x,y,size,size)\n",
    "    canvas.fill_text('#{} size={}'.format(count,size),x,y+size)\n",
    "    size -= shrink\n",
    "    x += shrink/2\n",
    "    y += shrink/2\n",
    "    count += 1\n",
    "    "
   ]
  },
  {
   "cell_type": "code",
   "execution_count": 39,
   "metadata": {},
   "outputs": [
    {
     "data": {
      "application/vnd.jupyter.widget-view+json": {
       "model_id": "",
       "version_major": 2,
       "version_minor": 0
      },
      "text/plain": [
       "Canvas(height=400, width=400)"
      ]
     },
     "metadata": {},
     "output_type": "display_data"
    }
   ],
   "source": [
    "'''\n",
    "Task4c  - Draw with a loop\n",
    "'''\n",
    "\n",
    "canvas = Canvas(width=400, height=400)\n",
    "display(canvas)\n",
    "canvas.font = '10pt sans-serif'\n",
    "\n",
    "x=0\n",
    "y=0\n",
    "size=400\n",
    "shrink = 50\n",
    "count = 1\n",
    "\n",
    "while count <= 3:\n",
    "    canvas.stroke_rect(x,y,size,size)\n",
    "    canvas.fill_text('square#{}, size={}'.format(count,size),x,y+size)\n",
    "    size -= shrink\n",
    "    x += shrink/2\n",
    "    y += shrink/2\n",
    "    count += 1\n"
   ]
  },
  {
   "cell_type": "code",
   "execution_count": 64,
   "metadata": {},
   "outputs": [
    {
     "data": {
      "application/vnd.jupyter.widget-view+json": {
       "model_id": "310375c2981c42cb8590584c47207b60",
       "version_major": 2,
       "version_minor": 0
      },
      "text/plain": [
       "Canvas(height=400, width=400)"
      ]
     },
     "metadata": {},
     "output_type": "display_data"
    },
    {
     "name": "stdout",
     "output_type": "stream",
     "text": [
      "shrink amount:40\n"
     ]
    }
   ],
   "source": [
    "'''\n",
    "Task4d  - Prompt for shrink amount and loop while the size is at least 200\n",
    "'''\n",
    "\n",
    "canvas = Canvas(width=400, height=400)\n",
    "display(canvas)\n",
    "canvas.font = '10pt sans-serif'\n",
    "\n",
    "x=0\n",
    "y=0\n",
    "size=400\n",
    "shrink = int(input('shrink amount:'))\n",
    "count = 1\n",
    "\n",
    "while size >= 200:\n",
    "    canvas.stroke_rect(x,y,size,size)\n",
    "    canvas.fill_text('square#{}, size={}'.format(count,size),x,y+size)\n",
    "    size -= shrink\n",
    "    x += shrink/2\n",
    "    y += shrink/2\n",
    "    count += 1\n"
   ]
  },
  {
   "cell_type": "code",
   "execution_count": null,
   "metadata": {},
   "outputs": [],
   "source": []
  }
 ],
 "metadata": {
  "kernelspec": {
   "display_name": "Python 3",
   "language": "python",
   "name": "python3"
  },
  "language_info": {
   "codemirror_mode": {
    "name": "ipython",
    "version": 3
   },
   "file_extension": ".py",
   "mimetype": "text/x-python",
   "name": "python",
   "nbconvert_exporter": "python",
   "pygments_lexer": "ipython3",
   "version": "3.6.9"
  }
 },
 "nbformat": 4,
 "nbformat_minor": 2
}
