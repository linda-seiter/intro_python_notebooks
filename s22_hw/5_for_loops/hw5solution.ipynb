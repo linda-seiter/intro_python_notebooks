{
 "cells": [
  {
   "cell_type": "code",
   "execution_count": 2,
   "metadata": {},
   "outputs": [],
   "source": [
    "import random\n",
    "from ipycanvas import Canvas"
   ]
  },
  {
   "cell_type": "code",
   "execution_count": 3,
   "metadata": {},
   "outputs": [
    {
     "name": "stdout",
     "output_type": "stream",
     "text": [
      "Student #1 score: 70\n",
      "Student #2 score: 52\n",
      "Student #3 score: 62\n",
      "Student #4 score: 61\n",
      "Student #5 score: 79\n",
      "Student #6 score: 71\n",
      "Student #7 score: 51\n",
      "Student #8 score: 72\n",
      "Student #9 score: 97\n",
      "Student #10 score: 89\n",
      "The high score of 97 was achieved by student #9\n"
     ]
    }
   ],
   "source": [
    "'''\n",
    "Task1\n",
    "'''\n",
    "\n",
    "for i in range(1,11):\n",
    "    grade = random.randint(50,100)\n",
    "    print ('Student #{} score: {}'.format(i,grade))\n",
    "    if i == 1:\n",
    "        maxscore = grade\n",
    "        maxstudent = i\n",
    "    elif grade > maxscore:\n",
    "            maxscore = grade\n",
    "            maxstudent = i\n",
    "print('The high score of {} was achieved by student #{}'.format(maxscore, maxstudent))"
   ]
  },
  {
   "cell_type": "code",
   "execution_count": 4,
   "metadata": {},
   "outputs": [
    {
     "data": {
      "application/vnd.jupyter.widget-view+json": {
       "model_id": "9678a2a8d69242d583f5d09e7d8a7481",
       "version_major": 2,
       "version_minor": 0
      },
      "text/plain": [
       "Canvas(height=400, width=400)"
      ]
     },
     "metadata": {},
     "output_type": "display_data"
    }
   ],
   "source": [
    "'''\n",
    "Task2a\n",
    "'''\n",
    "\n",
    "canvas = Canvas(width=400, height = 400)\n",
    "display(canvas)\n",
    "\n",
    "canvas.stroke_rect(0,0,canvas.width,canvas.height)\n",
    "\n",
    "for i in range(1,6):\n",
    "    x1 = random.randint(0,400)\n",
    "    x2 = random.randint(0,400)\n",
    "    y1 = random.randint(0,400)\n",
    "    y2 = random.randint(0,400)\n",
    "    canvas.stroke_line(x1,y1,x2,y2)\n",
    "    canvas.stroke_text(i,x1,y1)"
   ]
  },
  {
   "cell_type": "code",
   "execution_count": 5,
   "metadata": {},
   "outputs": [
    {
     "data": {
      "application/vnd.jupyter.widget-view+json": {
       "model_id": "63ab3772b93f45f7a15fb182a862bf4b",
       "version_major": 2,
       "version_minor": 0
      },
      "text/plain": [
       "Canvas(height=400, width=400)"
      ]
     },
     "metadata": {},
     "output_type": "display_data"
    }
   ],
   "source": [
    "'''\n",
    "Task2b\n",
    "'''\n",
    "\n",
    "canvas = Canvas(width=400, height = 400)\n",
    "display(canvas)\n",
    "\n",
    "canvas.stroke_rect(0,0,canvas.width,canvas.height)\n",
    "\n",
    "    \n",
    "for i in range(1,6):\n",
    "    if i == 1:\n",
    "        x1 = random.randint(0,400)\n",
    "        y1 = random.randint(0,400)\n",
    "    else:\n",
    "        x1 = x2  #end point from previous line\n",
    "        y1 = y2\n",
    "    x2 = random.randint(0,400)\n",
    "    y2 = random.randint(0,400)\n",
    "    canvas.stroke_line(x1,y1,x2,y2)\n",
    "    canvas.stroke_text(i,x1,y1)"
   ]
  },
  {
   "cell_type": "code",
   "execution_count": null,
   "metadata": {},
   "outputs": [],
   "source": []
  },
  {
   "cell_type": "code",
   "execution_count": null,
   "metadata": {},
   "outputs": [],
   "source": []
  },
  {
   "cell_type": "code",
   "execution_count": null,
   "metadata": {},
   "outputs": [],
   "source": []
  }
 ],
 "metadata": {
  "kernelspec": {
   "display_name": "Python 3",
   "language": "python",
   "name": "python3"
  },
  "language_info": {
   "codemirror_mode": {
    "name": "ipython",
    "version": 3
   },
   "file_extension": ".py",
   "mimetype": "text/x-python",
   "name": "python",
   "nbconvert_exporter": "python",
   "pygments_lexer": "ipython3",
   "version": "3.6.9"
  }
 },
 "nbformat": 4,
 "nbformat_minor": 2
}
