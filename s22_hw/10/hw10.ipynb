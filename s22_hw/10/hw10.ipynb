{
 "cells": [
  {
   "cell_type": "code",
   "execution_count": 2,
   "metadata": {},
   "outputs": [],
   "source": [
    "from ipycanvas import Canvas\n",
    "from ipywidgets import Image\n",
    "import random\n",
    "from time import sleep"
   ]
  },
  {
   "cell_type": "code",
   "execution_count": null,
   "metadata": {},
   "outputs": [],
   "source": [
    "'''\n",
    "Task1a\n",
    "'''\n",
    "\n",
    "possible_responses = ['Ask again later', 'My sources say no', 'Definitely yes']\n"
   ]
  },
  {
   "cell_type": "code",
   "execution_count": null,
   "metadata": {},
   "outputs": [],
   "source": [
    "'''\n",
    "Task1b\n",
    "'''\n"
   ]
  },
  {
   "cell_type": "code",
   "execution_count": null,
   "metadata": {},
   "outputs": [],
   "source": [
    "'''\n",
    "Task1c\n",
    "'''\n"
   ]
  },
  {
   "cell_type": "code",
   "execution_count": null,
   "metadata": {},
   "outputs": [],
   "source": [
    "'''\n",
    "Task1d\n",
    "'''\n"
   ]
  },
  {
   "cell_type": "code",
   "execution_count": 3,
   "metadata": {},
   "outputs": [
    {
     "data": {
      "application/vnd.jupyter.widget-view+json": {
       "model_id": "9fcc5a4adf614e8f90574b22c8c481aa",
       "version_major": 2,
       "version_minor": 0
      },
      "text/plain": [
       "Canvas(height=200, width=200)"
      ]
     },
     "metadata": {},
     "output_type": "display_data"
    }
   ],
   "source": [
    "'''\n",
    "Task2a\n",
    "Upsidedown bar chart - hardcode rectangle position and height\n",
    "'''\n",
    "\n",
    "canvas = Canvas(width=200, height=200)\n",
    "display(canvas)\n",
    "canvas.stroke_rect(0,0,canvas.width, canvas.height)\n",
    "canvas.stroke_style = 'red'\n",
    "\n",
    "line_y = canvas.height/2    #line_y = 200/2\n",
    "canvas.stroke_line(0, line_y, canvas.width ,line_y) \n",
    "\n",
    "canvas.stroke_style = 'blue'\n",
    "start_x = 50\n",
    "box_width = 20\n",
    "\n",
    "grade0 = 80\n",
    "grade1 = 72\n",
    "\n",
    "#draw labeled rectangle  for grade0\n",
    "canvas.stroke_rect(start_x, line_y, box_width, grade0)\n",
    "canvas.stroke_text(grade0,start_x + box_width/4, line_y + 10  )\n",
    "\n",
    "#draw labeled rectangle  for grade1\n",
    "canvas.stroke_rect(start_x + box_width, line_y, box_width, 72)\n",
    "canvas.stroke_text(72,start_x + box_width + box_width/4, line_y + 10  )"
   ]
  },
  {
   "cell_type": "code",
   "execution_count": null,
   "metadata": {},
   "outputs": [],
   "source": [
    "'''\n",
    "Task2b\n",
    "Upsidedown bar chart from list of grades\n",
    "'''\n",
    "\n"
   ]
  },
  {
   "cell_type": "code",
   "execution_count": null,
   "metadata": {},
   "outputs": [],
   "source": [
    "'''\n",
    "Task2c\n",
    "Rightside up bar chart\n",
    "'''\n",
    "\n"
   ]
  }
 ],
 "metadata": {
  "kernelspec": {
   "display_name": "Python 3",
   "language": "python",
   "name": "python3"
  },
  "language_info": {
   "codemirror_mode": {
    "name": "ipython",
    "version": 3
   },
   "file_extension": ".py",
   "mimetype": "text/x-python",
   "name": "python",
   "nbconvert_exporter": "python",
   "pygments_lexer": "ipython3",
   "version": "3.6.9"
  }
 },
 "nbformat": 4,
 "nbformat_minor": 2
}
