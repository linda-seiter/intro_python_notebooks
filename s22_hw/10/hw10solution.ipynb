{
 "cells": [
  {
   "cell_type": "code",
   "execution_count": 1,
   "metadata": {},
   "outputs": [],
   "source": [
    "from ipycanvas import Canvas\n",
    "from ipywidgets import Image\n",
    "import random\n",
    "from time import sleep"
   ]
  },
  {
   "cell_type": "code",
   "execution_count": null,
   "metadata": {},
   "outputs": [],
   "source": [
    "'''\n",
    "Task1a\n",
    "'''\n",
    "\n",
    "possible_responses = ['Ask again later', 'My sources say no', 'Definitely yes']\n",
    "question = input('Ask the 8 ball a question:')\n",
    "response = possible_responses[random.randint(0,len(possible_responses)-1)]\n",
    "print('You asked:{}.  Magic 8 ball says:{}'.format(question, response))"
   ]
  },
  {
   "cell_type": "code",
   "execution_count": 22,
   "metadata": {},
   "outputs": [
    {
     "name": "stdout",
     "output_type": "stream",
     "text": [
      "Ask the 8 ball a question:is pizza yummy\n",
      "You asked:is pizza yummy.  Magic 8 ball says:Definitely yes\n",
      "QUESTION LIST:\n",
      "is pizza yummy\n",
      "\n",
      "Ask the 8 ball a question:is ice cream delicious\n",
      "You asked:is ice cream delicious.  Magic 8 ball says:Definitely yes\n",
      "QUESTION LIST:\n",
      "is pizza yummy\n",
      "is ice cream delicious\n",
      "\n",
      "Ask the 8 ball a question:is the moon blue\n",
      "You asked:is the moon blue.  Magic 8 ball says:Ask again later\n",
      "QUESTION LIST:\n",
      "is pizza yummy\n",
      "is ice cream delicious\n",
      "is the moon blue\n",
      "\n",
      "Ask the 8 ball a question:is the sun hot\n",
      "You asked:is the sun hot.  Magic 8 ball says:My sources say no\n",
      "QUESTION LIST:\n",
      "is pizza yummy\n",
      "is ice cream delicious\n",
      "is the moon blue\n",
      "is the sun hot\n",
      "\n"
     ]
    }
   ],
   "source": [
    "'''\n",
    "Task1b\n",
    "'''\n",
    "possible_responses = ['Ask again later', 'My sources say no', 'Definitely yes']\n",
    "questions = []\n",
    "    \n",
    "for i in range(4):\n",
    "    question = input('Ask the 8 ball a question:')\n",
    "    response = possible_responses[random.randint(0,len(possible_responses)-1)]\n",
    "    print('You asked:{}.  Magic 8 ball says:{}'.format(question, response))\n",
    "    questions.append(question)\n",
    "    print(\"QUESTION LIST:\")\n",
    "    for q in questions:\n",
    "        print(q)\n",
    "    print()"
   ]
  },
  {
   "cell_type": "code",
   "execution_count": 25,
   "metadata": {},
   "outputs": [
    {
     "name": "stdout",
     "output_type": "stream",
     "text": [
      "Ask the 8 ball a question:a\n",
      "You asked:a.  Magic 8 ball says:Definitely yes\n",
      "QUESTION LIST:\n",
      "a\n",
      "\n",
      "Ask the 8 ball a question:b\n",
      "You asked:b.  Magic 8 ball says:Ask again later\n",
      "QUESTION LIST:\n",
      "a\n",
      "b\n",
      "\n",
      "Ask the 8 ball a question:c\n",
      "You asked:c.  Magic 8 ball says:My sources say no\n",
      "QUESTION LIST:\n",
      "a\n",
      "b\n",
      "c\n",
      "\n",
      "Ask the 8 ball a question:a\n",
      "You already asked: a\n"
     ]
    }
   ],
   "source": [
    "'''\n",
    "Task1c\n",
    "'''\n",
    "possible_responses = ['Ask again later', 'My sources say no', 'Definitely yes']\n",
    "questions = []\n",
    "question = input('Ask the 8 ball a question:')\n",
    "    \n",
    "while questions.count(question) == 0:\n",
    "    response = possible_responses[random.randint(0,len(possible_responses)-1)]\n",
    "    print('You asked:{}.  Magic 8 ball says:{}'.format(question, response))\n",
    "    questions.append(question)\n",
    "    print(\"QUESTION LIST:\")\n",
    "    for q in questions:\n",
    "        print(q)\n",
    "    print()\n",
    "    question = input('Ask the 8 ball a question:')\n",
    "    \n",
    "    \n",
    "print('You already asked:', question)   "
   ]
  },
  {
   "cell_type": "code",
   "execution_count": 34,
   "metadata": {},
   "outputs": [
    {
     "name": "stdout",
     "output_type": "stream",
     "text": [
      "Ask the 8 ball a question:will it snow\n",
      "You asked:will it snow.  Magic 8 ball says:My sources say no\n",
      "QUESTION LIST:\n",
      "will it snow\n",
      "ANSWER LIST:\n",
      "My sources say no\n",
      "\n",
      "Ask the 8 ball a question:is pizza yummy\n",
      "You asked:is pizza yummy.  Magic 8 ball says:Definitely yes\n",
      "QUESTION LIST:\n",
      "will it snow\n",
      "is pizza yummy\n",
      "ANSWER LIST:\n",
      "My sources say no\n",
      "Definitely yes\n",
      "\n",
      "Ask the 8 ball a question:is it sunny\n",
      "You asked:is it sunny.  Magic 8 ball says:My sources say no\n",
      "QUESTION LIST:\n",
      "will it snow\n",
      "is pizza yummy\n",
      "is it sunny\n",
      "ANSWER LIST:\n",
      "My sources say no\n",
      "Definitely yes\n",
      "My sources say no\n",
      "\n",
      "Ask the 8 ball a question:is pizza yummy\n",
      "You already asked: is pizza yummy and the answer was: Definitely yes\n"
     ]
    }
   ],
   "source": [
    "'''\n",
    "Task1d\n",
    "'''\n",
    "possible_responses = ['Ask again later', 'My sources say no', 'Definitely yes']\n",
    "questions = []\n",
    "answers = []\n",
    "question = input('Ask the 8 ball a question:')\n",
    "    \n",
    "while questions.count(question) == 0:\n",
    "    response = possible_responses[random.randint(0,len(possible_responses)-1)]\n",
    "    answers.append(response)\n",
    "    print('You asked:{}.  Magic 8 ball says:{}'.format(question, response))\n",
    "    questions.append(question)\n",
    "    print(\"QUESTION LIST:\")\n",
    "    for q in questions:\n",
    "        print(q)\n",
    "    print(\"ANSWER LIST:\")\n",
    "    for r in answers:\n",
    "        print(r)\n",
    "    print()\n",
    "    question = input('Ask the 8 ball a question:')\n",
    "    \n",
    "index = questions.index(question)\n",
    "print('You already asked:', question, 'and the answer was:', answers[index])   "
   ]
  },
  {
   "cell_type": "code",
   "execution_count": 35,
   "metadata": {},
   "outputs": [
    {
     "data": {
      "application/vnd.jupyter.widget-view+json": {
       "model_id": "1018a1b33db84ddbad26ca003b75b58f",
       "version_major": 2,
       "version_minor": 0
      },
      "text/plain": [
       "Canvas(height=200, width=200)"
      ]
     },
     "metadata": {},
     "output_type": "display_data"
    }
   ],
   "source": [
    "'''\n",
    "Task2a\n",
    "Upsidedown bar chart - hardcode rectangle position and height\n",
    "'''\n",
    "\n",
    "canvas = Canvas(width=200, height=200)\n",
    "display(canvas)\n",
    "canvas.stroke_rect(0,0,canvas.width, canvas.height)\n",
    "canvas.stroke_style = 'red'\n",
    "\n",
    "line_y = canvas.height/2    #line_y = 200/2\n",
    "canvas.stroke_line(0, line_y, canvas.width ,line_y) \n",
    "\n",
    "canvas.stroke_style = 'blue'\n",
    "start_x = 50\n",
    "box_width = 20\n",
    "\n",
    "grade0 = 80\n",
    "grade1 = 72\n",
    "\n",
    "#draw labeled rectangle  for grade0\n",
    "canvas.stroke_rect(start_x, line_y, box_width, grade0)\n",
    "canvas.stroke_text(grade0,start_x + box_width/4, line_y + 10  )\n",
    "\n",
    "#draw labeled rectangle  for grade1\n",
    "canvas.stroke_rect(start_x + box_width, line_y, box_width, 72)\n",
    "canvas.stroke_text(72,start_x + box_width + box_width/4, line_y + 10  )"
   ]
  },
  {
   "cell_type": "code",
   "execution_count": 36,
   "metadata": {},
   "outputs": [
    {
     "data": {
      "application/vnd.jupyter.widget-view+json": {
       "model_id": "6630bcc54b654666ba7e3e5577d02ea5",
       "version_major": 2,
       "version_minor": 0
      },
      "text/plain": [
       "Canvas(height=200, width=200)"
      ]
     },
     "metadata": {},
     "output_type": "display_data"
    }
   ],
   "source": [
    "'''\n",
    "Task2b\n",
    "Upsidedown bar chart from list of grades\n",
    "'''\n",
    "\n",
    "canvas = Canvas(width=200, height=200)\n",
    "display(canvas)\n",
    "canvas.stroke_rect(0,0,canvas.width, canvas.height)\n",
    "canvas.stroke_style = 'red'\n",
    "\n",
    "line_y = canvas.height/2    #line_y = 200/2\n",
    "canvas.stroke_line(0, line_y, canvas.width ,line_y) \n",
    "\n",
    "canvas.stroke_style = 'blue'\n",
    "start_x = 50\n",
    "box_width = 20\n",
    "grades = [90, 78, 82, 58, 80]\n",
    "for i in range(len(grades)):\n",
    "    canvas.stroke_rect(start_x + i*box_width, line_y, box_width, grades[i])\n",
    "    canvas.stroke_text(grades[i],start_x + i*box_width + box_width/4, line_y + 10  )\n"
   ]
  },
  {
   "cell_type": "code",
   "execution_count": 38,
   "metadata": {},
   "outputs": [
    {
     "data": {
      "application/vnd.jupyter.widget-view+json": {
       "model_id": "894dae5fda174ea59bf6fc579ee438ae",
       "version_major": 2,
       "version_minor": 0
      },
      "text/plain": [
       "Canvas(height=200, width=200)"
      ]
     },
     "metadata": {},
     "output_type": "display_data"
    }
   ],
   "source": [
    "'''\n",
    "Task2c\n",
    "Rightside up bar chart\n",
    "'''\n",
    "\n",
    "canvas = Canvas(width=200, height=200)\n",
    "display(canvas)\n",
    "canvas.stroke_rect(0,0,canvas.width, canvas.height)\n",
    "canvas.stroke_style = 'red'\n",
    "\n",
    "line_y = canvas.height/2 #Ask the canvas for its height.  line_y = 200/2\n",
    "canvas.stroke_line(0, line_y, canvas.width ,line_y) #ask canvas for width, i.e. 200\n",
    "\n",
    "canvas.stroke_style = 'blue'\n",
    "start_x = 50\n",
    "box_width = 20\n",
    "grades = [70, 80, 60, 55]\n",
    "for i in range(len(grades)):\n",
    "    canvas.stroke_rect(start_x + i*box_width, canvas.height/2 - grades[i], box_width, grades[i])\n",
    "    canvas.stroke_text(grades[i],start_x + i*box_width + box_width/4, line_y + 10  )\n"
   ]
  },
  {
   "cell_type": "code",
   "execution_count": 11,
   "metadata": {},
   "outputs": [
    {
     "name": "stdout",
     "output_type": "stream",
     "text": [
      "Tests passed\n"
     ]
    }
   ],
   "source": [
    "'''\n",
    "NO: DO IN LAB Task3  Return the maximum number of visits made by any paitent\n",
    "(i.e. length of longest nested list)\n",
    "'''\n",
    "\n",
    "def max_visits(visit_list):\n",
    "    max_so_far = 0\n",
    "    for patient in visit_list:\n",
    "        visits = len(patient)\n",
    "        if (visits) > max_so_far:\n",
    "            max_so_far = visits\n",
    "    return max_so_far\n",
    "\n",
    "\n",
    "january_visits= [\n",
    "    [2, 6], \n",
    "    [3, 10], \n",
    "    [10], \n",
    "    [6], \n",
    "    [1, 8, 15, 22, 29], \n",
    "    [14]\n",
    "]\n",
    "\n",
    "february_visits = [\n",
    "    [2, 4, 6],\n",
    "    [4, 10, 20],\n",
    "    [10, 28]\n",
    "]\n",
    "\n",
    "assert(max_visits(january_visits) == 5)\n",
    "assert(max_visits(february_visits) == 3)\n",
    "print('Tests passed')"
   ]
  },
  {
   "cell_type": "code",
   "execution_count": 12,
   "metadata": {},
   "outputs": [
    {
     "name": "stdout",
     "output_type": "stream",
     "text": [
      "Tests passed\n"
     ]
    }
   ],
   "source": [
    "'''\n",
    "NO: DO IN LAB Task4  How often do patient visits fall on odd numbered days\n",
    "'''\n",
    "\n",
    "def odd_days(visit_list):\n",
    "    count = 0\n",
    "    for patient in visit_list:\n",
    "        for day in patient:\n",
    "            if day % 2 == 1:\n",
    "                count += 1\n",
    "    return count\n",
    "\n",
    "\n",
    "january_visits= [\n",
    "    [2, 6], \n",
    "    [3, 10], \n",
    "    [10], \n",
    "    [6], \n",
    "    [1, 8, 15, 22, 29], \n",
    "    [14]\n",
    "]\n",
    "\n",
    "february_visits = [\n",
    "    [2, 4, 6],\n",
    "    [4, 10, 20],\n",
    "    [10, 28]\n",
    "]\n",
    "\n",
    "assert(odd_days(january_visits) == 4)\n",
    "assert(odd_days(february_visits) == 0)\n",
    "print('Tests passed')"
   ]
  }
 ],
 "metadata": {
  "kernelspec": {
   "display_name": "Python 3",
   "language": "python",
   "name": "python3"
  },
  "language_info": {
   "codemirror_mode": {
    "name": "ipython",
    "version": 3
   },
   "file_extension": ".py",
   "mimetype": "text/x-python",
   "name": "python",
   "nbconvert_exporter": "python",
   "pygments_lexer": "ipython3",
   "version": "3.6.9"
  }
 },
 "nbformat": 4,
 "nbformat_minor": 2
}
