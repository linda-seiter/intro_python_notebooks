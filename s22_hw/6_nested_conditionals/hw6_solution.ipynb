{
 "cells": [
  {
   "cell_type": "code",
   "execution_count": null,
   "metadata": {},
   "outputs": [],
   "source": [
    "from ipycanvas import Canvas\n",
    "from time import sleep\n",
    "import random"
   ]
  },
  {
   "cell_type": "code",
   "execution_count": null,
   "metadata": {},
   "outputs": [],
   "source": [
    "'''\n",
    "Task1a - Logical operator, no nesting\n",
    "'''\n",
    "#no  Fs.  no more than 1 D.\n",
    "a = int(input('A:'))\n",
    "b = int(input('B:'))\n",
    "c = int(input('C:'))\n",
    "d = int(input('D:'))\n",
    "f = int(input('F:'))\n",
    "if f == 0 and d <=1:\n",
    "    reward=a*20 + b*5\n",
    "    print('You get ${}'.format(reward))\n",
    "else:\n",
    "    print('Study harder')"
   ]
  },
  {
   "cell_type": "code",
   "execution_count": null,
   "metadata": {},
   "outputs": [],
   "source": [
    "'''\n",
    "Task1b - Nested conditional, no logical operators\n",
    "'''\n",
    "#no  Fs.  no more than 1 D.\n",
    "a = int(input('A:'))\n",
    "b = int(input('B:'))\n",
    "c = int(input('C:'))\n",
    "d = int(input('D:'))\n",
    "f = int(input('F:'))\n",
    "\n",
    "if f == 0:\n",
    "    if d <=1:\n",
    "        reward=a*20 + b*5\n",
    "        print('You get ${}'.format(reward))\n",
    "    else:\n",
    "        print('Study harder')\n",
    "else:\n",
    "    print('Study harder')"
   ]
  },
  {
   "cell_type": "code",
   "execution_count": null,
   "metadata": {},
   "outputs": [],
   "source": [
    "'''\n",
    "Task2a - Logical operators, no nesting\n",
    "'''\n",
    "#no Ds. no Fs. no more than 2 Cs.\n",
    "a = int(input('A:'))\n",
    "b = int(input('B:'))\n",
    "c = int(input('C:'))\n",
    "d = int(input('D:'))\n",
    "f = int(input('F:'))\n",
    "if f == 0 and d == 0 and c <= 2:\n",
    "    reward=a*20 + b*5\n",
    "    print('You get ${}'.format(reward))\n",
    "else:\n",
    "    print('Study harder')"
   ]
  },
  {
   "cell_type": "code",
   "execution_count": null,
   "metadata": {},
   "outputs": [],
   "source": [
    "'''\n",
    "Task2b - Nested conditionals, no logical operators\n",
    "'''\n",
    "#no Ds. no Fs. no more than 2 Cs.\n",
    "a = int(input('A:'))\n",
    "b = int(input('B:'))\n",
    "c = int(input('C:'))\n",
    "d = int(input('D:'))\n",
    "f = int(input('F:'))\n",
    "\n",
    "if f == 0:\n",
    "    if d == 0:\n",
    "        if c <= 2:\n",
    "            reward=a*20 + b*5\n",
    "            print('You get ${}'.format(reward))\n",
    "        else:\n",
    "            print('Study harder')\n",
    "    else:\n",
    "        print('Study harder')\n",
    "else:\n",
    "    print('Study harder')"
   ]
  },
  {
   "cell_type": "code",
   "execution_count": null,
   "metadata": {},
   "outputs": [],
   "source": [
    "'''\n",
    "Task3a - Logical operators, no nesting\n",
    "'''\n",
    "#Must have at least 2 As or at least 4 Bs.\n",
    "a = int(input('A:'))\n",
    "b = int(input('B:'))\n",
    "c = int(input('C:'))\n",
    "d = int(input('D:'))\n",
    "f = int(input('F:'))\n",
    "\n",
    "if a >= 2 or b>= 4:\n",
    "    reward=a*20 + b*5\n",
    "    print('You get ${}'.format(reward))\n",
    "else:\n",
    "    print('Study harder')"
   ]
  },
  {
   "cell_type": "code",
   "execution_count": null,
   "metadata": {},
   "outputs": [],
   "source": [
    "'''\n",
    "Task3b - Chained conditional (no logical operators, no nesting) \n",
    "'''\n",
    "Must have at least 2 As or at least 4 Bs.\n",
    "a = int(input('A:'))\n",
    "b = int(input('B:'))\n",
    "c = int(input('C:'))\n",
    "d = int(input('D:'))\n",
    "f = int(input('F:'))\n",
    "\n",
    "if a >= 2:\n",
    "    reward=a*20 + b*5\n",
    "    print('You get ${}'.format(reward))\n",
    "elif b>= 4:\n",
    "    reward=a*20 + b*5\n",
    "    print('You get ${}'.format(reward))\n",
    "else:\n",
    "    print('Study harder')"
   ]
  },
  {
   "cell_type": "code",
   "execution_count": null,
   "metadata": {},
   "outputs": [],
   "source": [
    "'''\n",
    "Task4a - Logical operators, no nesting \n",
    "'''\n",
    "#No Fs.  Must also have at least 2 As or at least 4 Bs.\n",
    "a = int(input('A:'))\n",
    "b = int(input('B:'))\n",
    "c = int(input('C:'))\n",
    "d = int(input('D:'))\n",
    "f = int(input('F:'))\n",
    "\n",
    "if f == 0 and (a >= 2 or b>= 4):\n",
    "    reward=a*20 + b*5\n",
    "    print('You get ${}'.format(reward))\n",
    "else:\n",
    "    print('Study harder')"
   ]
  },
  {
   "cell_type": "code",
   "execution_count": null,
   "metadata": {},
   "outputs": [],
   "source": [
    "'''\n",
    "Task4b - Nested conditionals, no logical operators\n",
    "'''\n",
    "#No Fs.  Must also have at least 2 As or at least 4 Bs.\n",
    "a = int(input('A:'))\n",
    "b = int(input('B:'))\n",
    "c = int(input('C:'))\n",
    "d = int(input('D:'))\n",
    "f = int(input('F:'))\n",
    "\n",
    "if f == 0:\n",
    "    if a >= 3:\n",
    "        reward=a*20 + b*5\n",
    "        print('You get ${}'.format(reward))\n",
    "    elif b >= 4:\n",
    "        reward=a*20 + b*5\n",
    "        print('You get ${}'.format(reward))\n",
    "    else:\n",
    "        print('Study harder')\n",
    "else:\n",
    "    print('Study harder')"
   ]
  },
  {
   "cell_type": "code",
   "execution_count": null,
   "metadata": {
    "scrolled": true
   },
   "outputs": [],
   "source": [
    "'''\n",
    "Task5a - Logical operator (and), no nesting.\n",
    "'''\n",
    "\n",
    "def handle_mouse_down(x,y):\n",
    "    if x > 100 and x < 300 and y > 100 and y < 300:\n",
    "        canvas.fill_style = 'red'\n",
    "    else:\n",
    "        canvas.fill_style = 'blue'\n",
    "    canvas.fill_circle(x,y,5)\n",
    "\n",
    "canvas = Canvas(width=400, height=400)\n",
    "display(canvas)\n",
    "\n",
    "canvas.stroke_rect(0,0,canvas.width, canvas.height)\n",
    "canvas.fill_style = 'yellow'\n",
    "canvas.fill_rect(100,100,200,200)\n",
    "canvas.on_mouse_down(handle_mouse_down)\n"
   ]
  },
  {
   "cell_type": "code",
   "execution_count": null,
   "metadata": {},
   "outputs": [],
   "source": [
    "'''\n",
    "Task5b - Logical operator (or), no nesting.\n",
    "'''\n",
    "\n",
    "def handle_mouse_down(x,y):\n",
    "    if x <= 100 or x >= 300 or y <= 100 or y >= 300:\n",
    "        canvas.fill_style = 'blue'\n",
    "    else:\n",
    "        canvas.fill_style = 'red'\n",
    "    canvas.fill_circle(x,y,5)\n",
    "\n",
    "canvas = Canvas(width=400, height=400)\n",
    "display(canvas)\n",
    "\n",
    "canvas.stroke_rect(0,0,canvas.width, canvas.height)\n",
    "canvas.fill_style = 'yellow'\n",
    "canvas.fill_rect(100,100,200,200)\n",
    "canvas.on_mouse_down(handle_mouse_down)\n"
   ]
  },
  {
   "cell_type": "code",
   "execution_count": null,
   "metadata": {},
   "outputs": [],
   "source": [
    "'''\n",
    "Task5c - Chained conditional, no nesting, no logical operators.\n",
    "'''\n",
    "\n",
    "def handle_mouse_down(x,y):\n",
    "    if x <= 100 :\n",
    "        canvas.fill_style = 'blue'\n",
    "    elif x >= 300:\n",
    "        canvas.fill_style = 'blue'\n",
    "    elif y <= 100:\n",
    "        canvas.fill_style = 'blue'\n",
    "    elif y >= 300:\n",
    "        canvas.fill_style = 'blue'\n",
    "    else:\n",
    "        canvas.fill_style = 'red'\n",
    "    canvas.fill_circle(x,y,5)\n",
    "\n",
    "canvas = Canvas(width=400, height=400)\n",
    "display(canvas)\n",
    "\n",
    "canvas.stroke_rect(0,0,canvas.width, canvas.height)\n",
    "canvas.fill_style = 'yellow'\n",
    "canvas.fill_rect(100,100,200,200)\n",
    "canvas.on_mouse_down(handle_mouse_down)\n"
   ]
  },
  {
   "cell_type": "code",
   "execution_count": null,
   "metadata": {},
   "outputs": [],
   "source": []
  },
  {
   "cell_type": "code",
   "execution_count": null,
   "metadata": {},
   "outputs": [],
   "source": []
  }
 ],
 "metadata": {
  "kernelspec": {
   "display_name": "Python 3",
   "language": "python",
   "name": "python3"
  },
  "language_info": {
   "codemirror_mode": {
    "name": "ipython",
    "version": 3
   },
   "file_extension": ".py",
   "mimetype": "text/x-python",
   "name": "python",
   "nbconvert_exporter": "python",
   "pygments_lexer": "ipython3",
   "version": "3.6.9"
  }
 },
 "nbformat": 4,
 "nbformat_minor": 2
}
