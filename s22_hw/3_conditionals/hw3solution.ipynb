{
 "cells": [
  {
   "cell_type": "code",
   "execution_count": 2,
   "metadata": {},
   "outputs": [],
   "source": [
    "import math\n",
    "import random\n",
    "from ipycanvas import Canvas"
   ]
  },
  {
   "cell_type": "code",
   "execution_count": 41,
   "metadata": {},
   "outputs": [
    {
     "data": {
      "application/vnd.jupyter.widget-view+json": {
       "model_id": "42ca04a8731d4f8890df37179a224958",
       "version_major": 2,
       "version_minor": 0
      },
      "text/plain": [
       "Canvas(height=200, width=200)"
      ]
     },
     "metadata": {},
     "output_type": "display_data"
    }
   ],
   "source": [
    "'''\n",
    "Task1\n",
    "'''\n",
    "canvas = Canvas(width=200, height=200)\n",
    "display(canvas)\n",
    "\n",
    "canvas.fill_style='yellow'\n",
    "canvas.fill_rect(0,0,200,200)\n",
    "canvas.stroke_style = 'red'\n",
    "canvas.stroke_line(0,100,200,100)\n",
    "canvas.stroke_line(100,0,100,200)\n",
    "\n",
    "x1=random.randint(0,100)\n",
    "y1=random.randint(0,100)\n",
    "\n",
    "x2=random.randint(100,200)\n",
    "y2=random.randint(0,100)\n",
    "\n",
    "x3=random.randint(100,200)\n",
    "y3=random.randint(100,200)\n",
    "\n",
    "canvas.fill_style='black'\n",
    "canvas.stroke_style = 'black'\n",
    "canvas.font='10px sans-serif'\n",
    "canvas.fill_text('({},{})'.format(x1,y1), x1, y1)\n",
    "canvas.stroke_line(x1,y1,x2,y2)\n",
    "canvas.fill_text('({},{})'.format(x2,y2), x2, y2)\n",
    "canvas.stroke_line(x2,y2,x3,y3)\n",
    "canvas.fill_text('({},{})'.format(x3,y3), x3, y3)\n",
    "canvas.stroke_line(x3,y3,x1,y1)\n",
    "\n",
    "\n"
   ]
  },
  {
   "cell_type": "code",
   "execution_count": 45,
   "metadata": {},
   "outputs": [
    {
     "name": "stdout",
     "output_type": "stream",
     "text": [
      "enter a highway number:422\n",
      "Highway 422 runs east/west.\n"
     ]
    }
   ],
   "source": [
    "'''\n",
    "Task2\n",
    "'''\n",
    "highway = int(input('enter a highway number:'))\n",
    "if highway % 2 == 0:\n",
    "    print('Highway {} runs east/west.'.format(highway))\n",
    "else:\n",
    "    print('Highway {} runs north/south.'.format(highway))"
   ]
  },
  {
   "cell_type": "code",
   "execution_count": 49,
   "metadata": {},
   "outputs": [
    {
     "name": "stdout",
     "output_type": "stream",
     "text": [
      "enter a highway number:8\n",
      "Highway 8 is a primary highway.\n"
     ]
    }
   ],
   "source": [
    "'''\n",
    "Task3\n",
    "'''\n",
    "highway = int(input('enter a highway number:'))\n",
    "if highway < 100:\n",
    "    print('Highway {} is a primary highway.'.format(highway))\n",
    "else:\n",
    "    primary = highway % 100\n",
    "    print('Highway {} is an auxiliary highway that services highway {}.'.format(highway, primary))"
   ]
  },
  {
   "cell_type": "code",
   "execution_count": 54,
   "metadata": {},
   "outputs": [
    {
     "name": "stdout",
     "output_type": "stream",
     "text": [
      "The forecast today: 34 degrees with overcast skies.\n"
     ]
    }
   ],
   "source": [
    "'''\n",
    "Task4\n",
    "'''\n",
    "temperature = random.randint(30,50)\n",
    "num = random.randint(1,3)\n",
    "if num == 1:\n",
    "    forecast = 'sunny skies'\n",
    "elif num == 2:\n",
    "    forecast = 'partly cloudy skies'\n",
    "else:\n",
    "    forecast = 'overcast skies'\n",
    "    \n",
    "print('The forecast today: {} degrees with {}.'.format(temperature, forecast))"
   ]
  },
  {
   "cell_type": "code",
   "execution_count": 55,
   "metadata": {},
   "outputs": [
    {
     "data": {
      "application/vnd.jupyter.widget-view+json": {
       "model_id": "177d14cfc6dc4b39b086b9c883eb41ee",
       "version_major": 2,
       "version_minor": 0
      },
      "text/plain": [
       "Canvas(height=400, width=400)"
      ]
     },
     "metadata": {},
     "output_type": "display_data"
    }
   ],
   "source": [
    "'''\n",
    "Task5\n",
    "'''\n",
    "\n",
    "def handle_mouse_down(x,y):\n",
    "    if y<100:\n",
    "        canvas.fill_style = 'red'\n",
    "        canvas.fill_rect(x,y,20,20)\n",
    "    elif y<200:\n",
    "        canvas.fill_style = 'yellow'\n",
    "        canvas.fill_circle(x,y,10)\n",
    "    elif y<300:\n",
    "        canvas.stroke_style = 'blue'\n",
    "        canvas.stroke_rect(x,y,20)\n",
    "    else:\n",
    "        canvas.stroke_style = 'green'\n",
    "        canvas.stroke_circle(x,y,10)\n",
    "    \n",
    "\n",
    "#main algorithm\n",
    "canvas = Canvas(width=400, height=400)\n",
    "display(canvas)\n",
    "canvas.stroke_style = 'black'\n",
    "canvas.stroke_rect(0,0,400,400) \n",
    "canvas.stroke_line(0,100,400,100)\n",
    "canvas.stroke_line(0,200,400,200)\n",
    "canvas.stroke_line(0,300,400,300)\n",
    "canvas.font='16px serif'\n",
    "canvas.fill_text('1',10,50)\n",
    "canvas.fill_text('2',10,150)\n",
    "canvas.fill_text('3',10,250)\n",
    "canvas.fill_text('4',10,350)\n",
    "\n",
    "canvas.on_mouse_down(handle_mouse_down)\n"
   ]
  },
  {
   "cell_type": "code",
   "execution_count": 59,
   "metadata": {},
   "outputs": [
    {
     "data": {
      "application/vnd.jupyter.widget-view+json": {
       "model_id": "2cc4c19054cd4fb8a4f4a2e1aaf2c06a",
       "version_major": 2,
       "version_minor": 0
      },
      "text/plain": [
       "Canvas(height=200, width=200)"
      ]
     },
     "metadata": {},
     "output_type": "display_data"
    },
    {
     "name": "stdout",
     "output_type": "stream",
     "text": [
      "Enter shape (circle or square):triangle\n"
     ]
    }
   ],
   "source": [
    "'''\n",
    "Task6 chained conditional with input\n",
    "'''\n",
    "\n",
    "\n",
    "canvas = Canvas(width=200, height=200)\n",
    "display(canvas)\n",
    "canvas.fill_style = 'yellow'\n",
    "canvas.fill_rect(0,0,200,200)\n",
    "shape = input('Enter shape (circle or square):')\n",
    "canvas.fill_style = 'red'\n",
    "if shape == 'circle':\n",
    "    radius = int(input('Enter radius:'))\n",
    "    canvas.fill_circle(100,100,radius)\n",
    "elif shape == 'square':\n",
    "    size = int(input('Enter size:'))\n",
    "    canvas.fill_rect(100-size/2,100-size/2,size,size)\n",
    "else:\n",
    "    canvas.font = '16px sans-serif'\n",
    "    canvas.fill_style = 'black'\n",
    "    canvas.fill_text('Invalid shape:{}'.format(shape), 20,100)\n"
   ]
  },
  {
   "cell_type": "code",
   "execution_count": null,
   "metadata": {},
   "outputs": [],
   "source": []
  }
 ],
 "metadata": {
  "kernelspec": {
   "display_name": "Python 3",
   "language": "python",
   "name": "python3"
  },
  "language_info": {
   "codemirror_mode": {
    "name": "ipython",
    "version": 3
   },
   "file_extension": ".py",
   "mimetype": "text/x-python",
   "name": "python",
   "nbconvert_exporter": "python",
   "pygments_lexer": "ipython3",
   "version": "3.6.9"
  }
 },
 "nbformat": 4,
 "nbformat_minor": 2
}
