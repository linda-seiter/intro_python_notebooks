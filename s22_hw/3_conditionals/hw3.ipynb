{
 "cells": [
  {
   "cell_type": "code",
   "execution_count": null,
   "metadata": {},
   "outputs": [],
   "source": [
    "import math\n",
    "import random\n",
    "from ipycanvas import Canvas"
   ]
  },
  {
   "cell_type": "code",
   "execution_count": null,
   "metadata": {},
   "outputs": [],
   "source": [
    "'''\n",
    "Task1\n",
    "'''\n",
    "canvas = Canvas(width=200, height=200)\n",
    "display(canvas)\n",
    "\n",
    "canvas.fill_style='yellow'\n",
    "canvas.fill_rect(0,0,200,200)\n",
    "canvas.stroke_style = 'red'\n",
    "canvas.stroke_line(0,100,200,100)\n",
    "canvas.stroke_line(100,0,100,200)\n",
    "\n",
    "#Add your code here\n",
    "\n"
   ]
  },
  {
   "cell_type": "code",
   "execution_count": null,
   "metadata": {},
   "outputs": [],
   "source": [
    "'''\n",
    "Task2\n",
    "'''\n",
    "\n",
    "\n"
   ]
  },
  {
   "cell_type": "code",
   "execution_count": null,
   "metadata": {},
   "outputs": [],
   "source": [
    "'''\n",
    "Task3\n",
    "'''\n",
    "\n"
   ]
  },
  {
   "cell_type": "code",
   "execution_count": null,
   "metadata": {},
   "outputs": [],
   "source": [
    "'''\n",
    "Task4\n",
    "'''\n",
    "\n",
    "\n"
   ]
  },
  {
   "cell_type": "code",
   "execution_count": null,
   "metadata": {},
   "outputs": [],
   "source": [
    "'''\n",
    "Task5\n",
    "'''\n",
    "\n",
    "def handle_mouse_down(x,y):\n",
    "    #The cell will bomb if the function is empty.\n",
    "    #The print statement is just temporary so you can run the cell and see the canvas drawing.\n",
    "    #Remove the print statement after you add code to the function.\n",
    "    print('mouse down') \n",
    "    #Add your code here.  All lines in the function must be indented the same amount.\n",
    "    \n",
    "    \n",
    "    \n",
    "\n",
    "#main algorithm\n",
    "canvas = Canvas(width=400, height=400)\n",
    "display(canvas)\n",
    "canvas.stroke_style = 'black'\n",
    "canvas.stroke_rect(0,0,400,400) \n",
    "canvas.stroke_line(0,100,400,100)\n",
    "canvas.stroke_line(0,200,400,200)\n",
    "canvas.stroke_line(0,300,400,300)\n",
    "canvas.font='16px serif'\n",
    "canvas.fill_text('1',10,50)\n",
    "canvas.fill_text('2',10,150)\n",
    "canvas.fill_text('3',10,250)\n",
    "canvas.fill_text('4',10,350)\n",
    "\n",
    "canvas.on_mouse_down(handle_mouse_down)\n"
   ]
  },
  {
   "cell_type": "code",
   "execution_count": null,
   "metadata": {},
   "outputs": [],
   "source": [
    "'''\n",
    "Task6 \n",
    "'''\n",
    "\n",
    "\n",
    "canvas = Canvas(width=200, height=200)\n",
    "display(canvas)\n",
    "canvas.fill_style = 'yellow'\n",
    "canvas.fill_rect(0,0,200,200)\n",
    "\n",
    "#Add your code here\n"
   ]
  },
  {
   "cell_type": "code",
   "execution_count": null,
   "metadata": {},
   "outputs": [],
   "source": []
  }
 ],
 "metadata": {
  "kernelspec": {
   "display_name": "Python 3",
   "language": "python",
   "name": "python3"
  },
  "language_info": {
   "codemirror_mode": {
    "name": "ipython",
    "version": 3
   },
   "file_extension": ".py",
   "mimetype": "text/x-python",
   "name": "python",
   "nbconvert_exporter": "python",
   "pygments_lexer": "ipython3",
   "version": "3.6.9"
  }
 },
 "nbformat": 4,
 "nbformat_minor": 2
}
