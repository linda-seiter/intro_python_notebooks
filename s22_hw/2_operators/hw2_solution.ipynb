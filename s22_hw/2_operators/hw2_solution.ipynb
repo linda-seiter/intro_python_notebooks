{
 "cells": [
  {
   "cell_type": "markdown",
   "metadata": {},
   "source": [
    "### NOTE: You must run the following cell every time you open the notebook and after each kernel restart."
   ]
  },
  {
   "cell_type": "code",
   "execution_count": 2,
   "metadata": {},
   "outputs": [],
   "source": [
    "from ipycanvas import Canvas\n",
    "from ipywidgets import Image"
   ]
  },
  {
   "cell_type": "markdown",
   "metadata": {},
   "source": [
    "### Task1"
   ]
  },
  {
   "cell_type": "code",
   "execution_count": 39,
   "metadata": {},
   "outputs": [
    {
     "name": "stdout",
     "output_type": "stream",
     "text": [
      "Total number of pennies:60\n",
      "60 pennies is equivalent to 2 quarters and 10 pennies\n"
     ]
    }
   ],
   "source": [
    "'''\n",
    "Task1a\n",
    "'''\n",
    "\n",
    "total_pennies = int(input('Total number of pennies:'))\n",
    "quarters = total_pennies // 25\n",
    "leftover = total_pennies % 25\n",
    "print('{} pennies is equivalent to {} quarters and {} pennies'.format(total_pennies, quarters, leftover))"
   ]
  },
  {
   "cell_type": "code",
   "execution_count": 42,
   "metadata": {},
   "outputs": [
    {
     "name": "stdout",
     "output_type": "stream",
     "text": [
      "Total number of pennies:39\n",
      "39 pennies is equivalent to 1 quarters, 1 dimes, and 4 pennies\n"
     ]
    }
   ],
   "source": [
    "'''\n",
    "Task1b\n",
    "'''\n",
    "\n",
    "total_pennies = int(input('Total number of pennies:'))\n",
    "quarters = total_pennies // 25\n",
    "leftover = total_pennies % 25\n",
    "dimes = leftover // 10\n",
    "leftover = leftover % 10\n",
    "print('{} pennies is equivalent to {} quarters, {} dimes, and {} pennies'.format(total_pennies, quarters, dimes, leftover))"
   ]
  },
  {
   "cell_type": "code",
   "execution_count": 46,
   "metadata": {},
   "outputs": [
    {
     "name": "stdout",
     "output_type": "stream",
     "text": [
      "Total number of pennies:106\n",
      "106 pennies is equivalent to 4 quarters, 0 dimes, 1 nickels, and 1 pennies\n"
     ]
    }
   ],
   "source": [
    "'''\n",
    "Task1c\n",
    "'''\n",
    "\n",
    "total_pennies = int(input('Total number of pennies:'))\n",
    "quarters = total_pennies // 25\n",
    "leftover = total_pennies % 25\n",
    "dimes = leftover // 10\n",
    "leftover = leftover % 10\n",
    "nickels = leftover // 5\n",
    "leftover = leftover % 5\n",
    "print('{} pennies is equivalent to {} quarters, {} dimes, {} nickels, and {} pennies'.format(total_pennies, quarters, dimes, nickels, leftover))"
   ]
  },
  {
   "cell_type": "markdown",
   "metadata": {},
   "source": [
    "### Task2"
   ]
  },
  {
   "cell_type": "code",
   "execution_count": 58,
   "metadata": {
    "scrolled": true
   },
   "outputs": [
    {
     "data": {
      "application/vnd.jupyter.widget-view+json": {
       "model_id": "8b5f4fe26dda4898b69993fd5b60df3d",
       "version_major": 2,
       "version_minor": 0
      },
      "text/plain": [
       "Canvas(height=300, width=300)"
      ]
     },
     "metadata": {},
     "output_type": "display_data"
    }
   ],
   "source": [
    "'''\n",
    "Task2\n",
    "'''\n",
    "canvas = Canvas(width=300, height=300)\n",
    "display(canvas)\n",
    "\n",
    "#Add your code here\n",
    "\n",
    "#sky\n",
    "canvas.fill_style = 'aqua'\n",
    "canvas.fill_rect(0,0,300,300)  \n",
    "#grass\n",
    "canvas.fill_style = 'green'\n",
    "canvas.fill_rect(0,275,400,25)\n",
    "#truck\n",
    "canvas.fill_style = 'blue'\n",
    "canvas.fill_rect(20,150,150,100)\n",
    "canvas.fill_style = 'black'\n",
    "canvas.fill_circle(50,260,20)\n",
    "canvas.fill_circle(140,260,20)\n",
    "canvas.fill_style = 'white'\n",
    "canvas.fill_rect(110,150,60,40)\n",
    "#stop sign\n",
    "canvas.stroke_style = 'black'\n",
    "canvas.stroke_line(250,175,250,275)\n",
    "canvas.fill_style = 'red'\n",
    "canvas.fill_circle(250,175,30)\n",
    "canvas.fill_style = 'white'\n",
    "canvas.font = '16px sans-serif'\n",
    "canvas.fill_text('STOP', 230,180)\n",
    "\n",
    "\n"
   ]
  },
  {
   "cell_type": "markdown",
   "metadata": {},
   "source": [
    "### Task3"
   ]
  },
  {
   "cell_type": "code",
   "execution_count": 3,
   "metadata": {},
   "outputs": [
    {
     "data": {
      "application/vnd.jupyter.widget-view+json": {
       "model_id": "a06f3c8737b341949a4cc384d7ce3463",
       "version_major": 2,
       "version_minor": 0
      },
      "text/plain": [
       "Canvas(height=200, width=200)"
      ]
     },
     "metadata": {},
     "output_type": "display_data"
    }
   ],
   "source": [
    "'''\n",
    "Task3\n",
    "'''\n",
    "\n",
    "        \n",
    "def handle_mouse_down(x,y):\n",
    "    #IMPORTANT: all code in function must be indented equally (1 tab))\n",
    "    canvas.fill_style = 'blue'\n",
    "    size=40\n",
    "    canvas.fill_rect(x,y,size,size)  \n",
    "    canvas.fill_style='yellow'\n",
    "    canvas.fill_circle(x+size/2,y+size/2,size/2)\n",
    "    canvas.stroke_line(x+size/2,y,x+size/2,y+size)\n",
    "    canvas.stroke_line(x,y+size/2,x+size,y+size/2)\n",
    "    \n",
    "\n",
    "#main algorithm\n",
    "canvas = Canvas(width=200, height=200)\n",
    "display(canvas)\n",
    "canvas.stroke_style = 'black'\n",
    "canvas.stroke_rect(0,0,200,200)   \n",
    "canvas.on_mouse_down(handle_mouse_down)"
   ]
  },
  {
   "cell_type": "code",
   "execution_count": null,
   "metadata": {},
   "outputs": [],
   "source": []
  },
  {
   "cell_type": "code",
   "execution_count": null,
   "metadata": {},
   "outputs": [],
   "source": []
  }
 ],
 "metadata": {
  "kernelspec": {
   "display_name": "Python 3",
   "language": "python",
   "name": "python3"
  },
  "language_info": {
   "codemirror_mode": {
    "name": "ipython",
    "version": 3
   },
   "file_extension": ".py",
   "mimetype": "text/x-python",
   "name": "python",
   "nbconvert_exporter": "python",
   "pygments_lexer": "ipython3",
   "version": "3.6.9"
  }
 },
 "nbformat": 4,
 "nbformat_minor": 2
}
