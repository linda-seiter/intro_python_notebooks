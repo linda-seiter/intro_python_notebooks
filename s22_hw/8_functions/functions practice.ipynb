{
 "cells": [
  {
   "cell_type": "code",
   "execution_count": 22,
   "metadata": {},
   "outputs": [
    {
     "name": "stdout",
     "output_type": "stream",
     "text": [
      "Your small pizza with 2 toppings costs $13.95\n",
      "Your medium pizza with 0 toppings costs $12.95\n",
      "Your large pizza with 0 toppings costs $15.95\n",
      "Your small pizza with 3 toppings costs $15.95\n",
      "Delivery charge of $5.00 brings your total cost to $20.95\n"
     ]
    }
   ],
   "source": [
    "'''\n",
    "USE IN FUNCTIONS PRACTICE\n",
    "'''\n",
    "#Add function here\n",
    "def pizza_cost(size, toppings, delivery):\n",
    "    cost = 0\n",
    "    if size == 'small':\n",
    "        cost = 9.95\n",
    "    elif size == 'medium':\n",
    "        cost = 12.95\n",
    "    else:\n",
    "        cost = 15.95\n",
    "    cost +=  toppings * 2.00\n",
    "    print('Your {} pizza with {} toppings costs ${:.2f}'.format(size, toppings,cost))\n",
    "    if delivery:\n",
    "        cost += 5.00\n",
    "        print('Delivery charge of $5.00 brings your total cost to ${:.2f}'.format(cost))\n",
    "        \n",
    "#Main algorithm.  Add function calls here\n",
    "pizza_cost('small',2,False)\n",
    "pizza_cost('medium',0,False)\n",
    "pizza_cost('large',0,False)\n",
    "pizza_cost('small',3,True)\n"
   ]
  },
  {
   "cell_type": "code",
   "execution_count": 25,
   "metadata": {},
   "outputs": [
    {
     "name": "stdout",
     "output_type": "stream",
     "text": [
      "Tests passed\n"
     ]
    }
   ],
   "source": [
    "'''\n",
    "\n",
    "'''\n",
    "#Add function here\n",
    "def pizza_cost(size, toppings, delivery):\n",
    "    cost = 0\n",
    "    if size == 'small':\n",
    "        cost = 9.95\n",
    "    elif size == 'medium':\n",
    "        cost = 12.95\n",
    "    else:\n",
    "        cost = 15.95\n",
    "    cost +=  toppings * 2.00\n",
    "    #print('Your {} pizza with {} toppings costs ${:.2f}'.format(size, toppings,cost))\n",
    "    if delivery:\n",
    "        cost += 5.00\n",
    "        #print('Delivery charge of $5.00 brings your total cost to ${:.2f}'.format(cost))\n",
    "    return cost\n",
    "\n",
    "#Main algorithm.  Add function calls here\n",
    "assert(pizza_cost('small',2,False) == 13.95)\n",
    "assert(pizza_cost('medium',0,False) == 12.95)\n",
    "assert(pizza_cost('large',0,False) == 15.95)\n",
    "assert(pizza_cost('small',3,True) == 20.95)\n",
    "\n",
    "print('Tests passed')"
   ]
  }
 ],
 "metadata": {
  "kernelspec": {
   "display_name": "Python 3",
   "language": "python",
   "name": "python3"
  },
  "language_info": {
   "codemirror_mode": {
    "name": "ipython",
    "version": 3
   },
   "file_extension": ".py",
   "mimetype": "text/x-python",
   "name": "python",
   "nbconvert_exporter": "python",
   "pygments_lexer": "ipython3",
   "version": "3.6.9"
  }
 },
 "nbformat": 4,
 "nbformat_minor": 2
}
