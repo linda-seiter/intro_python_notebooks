{
 "cells": [
  {
   "cell_type": "code",
   "execution_count": 7,
   "metadata": {},
   "outputs": [],
   "source": [
    "\n",
    "import numpy as np\n",
    "import pandas as pd\n",
    "\n",
    "import bqplot.pyplot as bplt\n",
    "import ipywidgets as widgets\n",
    "\n",
    "import time\n",
    "\n",
    "pd.set_option(\"display.max_columns\", 50)"
   ]
  },
  {
   "cell_type": "code",
   "execution_count": 8,
   "metadata": {},
   "outputs": [],
   "source": [
    "## Chart Creation Logic\n",
    "colors= [\"red\", \"green\", \"blue\", \"orangered\", \"tomato\", \"lawngreen\", \"lime\", \"pink\", \"gray\", \"black\"]\n",
    "\n",
    "fig = bplt.figure(animation_duration=1000, title=\"Random Data Scatter Chart\")\n",
    "fig.layout.width=\"700px\"\n",
    "fig.layout.height=\"500px\"\n",
    "\n",
    "x = np.random.rand(100)\n",
    "y = np.random.rand(100)\n",
    "scat = bplt.scatter(x,y)\n",
    "\n",
    "bplt.xlabel(\"X\")\n",
    "bplt.ylabel(\"Y\")\n",
    "\n",
    "bplt.xlim(0,1)\n",
    "bplt.ylim(0,1);\n",
    "\n",
    "\n",
    "\n",
    "btn = widgets.Button(description=\"Start\", icon=\"play\")\n",
    "\n",
    "\n",
    "## Callback to Update Chart\n",
    "def update_scatter_chart(btn):\n",
    "    for i in range(10):\n",
    "        x = np.random.rand(100)\n",
    "        y = np.random.rand(100)\n",
    "        idx = np.random.choice(np.arange(len(colors)))\n",
    "        with scat.hold_sync():\n",
    "            scat.x = x\n",
    "            scat.y = y\n",
    "            scat.colors = [colors[idx]]\n",
    "        time.sleep(1)\n",
    "\n",
    "btn.on_click(update_scatter_chart)\n",
    "\n",
    "\n"
   ]
  },
  {
   "cell_type": "code",
   "execution_count": 9,
   "metadata": {},
   "outputs": [
    {
     "data": {
      "application/vnd.jupyter.widget-view+json": {
       "model_id": "a5d2fbe9738840a5a9dcb220b562b52c",
       "version_major": 2,
       "version_minor": 0
      },
      "text/plain": [
       "VBox(children=(Button(description='Start', icon='play', style=ButtonStyle()), Figure(animation_duration=1000, …"
      ]
     },
     "metadata": {},
     "output_type": "display_data"
    }
   ],
   "source": [
    "widgets.VBox([btn, fig])"
   ]
  },
  {
   "cell_type": "code",
   "execution_count": 10,
   "metadata": {},
   "outputs": [
    {
     "data": {
      "application/vnd.jupyter.widget-view+json": {
       "model_id": "fd01acc1591a4fb99cffc1fcdf9eb09b",
       "version_major": 2,
       "version_minor": 0
      },
      "text/plain": [
       "VBox(children=(Figure(animation_duration=1000, axes=[Axis(label='X', scale=LinearScale()), Axis(label='Y', ori…"
      ]
     },
     "metadata": {},
     "output_type": "display_data"
    }
   ],
   "source": [
    "## Chart Creation Logic\n",
    "colors= [\"red\", \"green\", \"blue\", \"orangered\", \"tomato\", \"lawngreen\", \"lime\", \"black\"]\n",
    "heights = [10, 20, 30, 40, 50, 60, 70]\n",
    "\n",
    "fig = bplt.figure(animation_duration=1000,\n",
    "                  title=\"Random Data Bar Chart\",\n",
    "                  fig_margin={'top':60, 'bottom':60, 'left':150, 'right':150},\n",
    "                  background_style={'fill':\"lightgray\"})\n",
    "\n",
    "bar = bplt.bar(x=[1,2,3,4,5],y=heights)\n",
    "\n",
    "bplt.xlabel(\"X\")\n",
    "bplt.ylabel(\"Y\")\n",
    "\n",
    "bplt.ylim(0,75);\n",
    "\n",
    "## Callback to Update Chart\n",
    "def update_bar_chart(btn):\n",
    "    for i in range(15):\n",
    "        idx = np.random.choice(np.arange(len(colors)))\n",
    "        np.random.shuffle(heights)\n",
    "        with bar.hold_sync():\n",
    "            bar.y = heights\n",
    "            bar.colors = [colors[idx]]\n",
    "        time.sleep(1)\n",
    "\n",
    "btn = widgets.Button(description=\"Start Anime\", icon=\"play\")\n",
    "\n",
    "btn.on_click(update_bar_chart)\n",
    "\n",
    "widgets.VBox([fig, btn])"
   ]
  },
  {
   "cell_type": "code",
   "execution_count": null,
   "metadata": {},
   "outputs": [],
   "source": []
  }
 ],
 "metadata": {
  "kernelspec": {
   "display_name": "Python 3",
   "language": "python",
   "name": "python3"
  },
  "language_info": {
   "codemirror_mode": {
    "name": "ipython",
    "version": 3
   },
   "file_extension": ".py",
   "mimetype": "text/x-python",
   "name": "python",
   "nbconvert_exporter": "python",
   "pygments_lexer": "ipython3",
   "version": "3.6.9"
  }
 },
 "nbformat": 4,
 "nbformat_minor": 2
}
