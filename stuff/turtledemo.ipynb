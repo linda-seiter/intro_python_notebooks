{
 "cells": [
  {
   "cell_type": "code",
   "execution_count": 1,
   "metadata": {
    "colab": {
     "base_uri": "https://localhost:8080/"
    },
    "id": "mvvP6Zp8b_fo",
    "outputId": "dbf69470-a1ab-479e-ecb6-0e2c287df6de"
   },
   "outputs": [],
   "source": [
    "#!pip3 install ColabTurtle"
   ]
  },
  {
   "cell_type": "code",
   "execution_count": 6,
   "metadata": {
    "id": "3rhUJIa8myfI"
   },
   "outputs": [],
   "source": [
    "import ipywidgets as widgets\n",
    "from IPython.display import display\n",
    "from ipywidgets import interact, interactive, fixed, interact_manual\n"
   ]
  },
  {
   "cell_type": "code",
   "execution_count": 7,
   "metadata": {
    "id": "J-dTMBX7lcqO"
   },
   "outputs": [],
   "source": [
    "from ColabTurtle.Turtle import *"
   ]
  },
  {
   "cell_type": "code",
   "execution_count": 8,
   "metadata": {
    "colab": {
     "base_uri": "https://localhost:8080/",
     "height": 521
    },
    "id": "fRuBJbXs_ijD",
    "outputId": "5026d428-5ecb-45bc-b5ef-a9e6a4a71a60"
   },
   "outputs": [],
   "source": [
    "def square(size, x, y):\n",
    "  initializeTurtle() \n",
    "  speed(8)\n",
    "  penup()\n",
    "  goto(x,y)\n",
    "  pendown()\n",
    "  for i in range (0,4):\n",
    "        right(90)\n",
    "        forward(size)\n"
   ]
  },
  {
   "cell_type": "code",
   "execution_count": 9,
   "metadata": {},
   "outputs": [
    {
     "data": {
      "text/html": [
       "\n",
       "      <svg width=\"800\" height=\"500\">\n",
       "        <rect width=\"100%\" height=\"100%\" fill=\"black\"/>\n",
       "        <line x1=\"50\" y1=\"200\" x2=\"150.0\" y2=\"200.0\" stroke-linecap=\"round\" style=\"stroke:white;stroke-width:4\"/><line x1=\"150.0\" y1=\"200.0\" x2=\"150.0\" y2=\"300.0\" stroke-linecap=\"round\" style=\"stroke:white;stroke-width:4\"/><line x1=\"150.0\" y1=\"300.0\" x2=\"50.0\" y2=\"300.0\" stroke-linecap=\"round\" style=\"stroke:white;stroke-width:4\"/><line x1=\"50.0\" y1=\"300.0\" x2=\"49.99999999999998\" y2=\"200.0\" stroke-linecap=\"round\" style=\"stroke:white;stroke-width:4\"/>\n",
       "        \n",
       "      <g visibility=visible transform=\"rotate(180,49.99999999999998,200.0) translate(49.99999999999998, 200.0)\">\n",
       "        <circle stroke=\"white\" stroke-width=\"3\" fill=\"transparent\" r=\"12\" cx=\"0\" cy=\"0\"/>\n",
       "        <polygon points=\"0,19 3,16 -3,16\" style=\"fill:white;stroke:white;stroke-width:2\"/>\n",
       "      </g>\n",
       "    \n",
       "      </svg>\n",
       "    "
      ],
      "text/plain": [
       "<IPython.core.display.HTML object>"
      ]
     },
     "metadata": {},
     "output_type": "display_data"
    }
   ],
   "source": [
    "#call square method with hardcoded values\n",
    "square(100, 50, 200)"
   ]
  },
  {
   "cell_type": "code",
   "execution_count": 12,
   "metadata": {
    "colab": {
     "base_uri": "https://localhost:8080/",
     "height": 623
    },
    "id": "_brZfGxoAdVf",
    "outputId": "af5e4084-3d69-4ecb-8158-dc899c487dad"
   },
   "outputs": [
    {
     "name": "stdout",
     "output_type": "stream",
     "text": [
      "enter size:77\n",
      "enter x:5\n",
      "enter y:9\n"
     ]
    },
    {
     "data": {
      "text/html": [
       "\n",
       "      <svg width=\"800\" height=\"500\">\n",
       "        <rect width=\"100%\" height=\"100%\" fill=\"black\"/>\n",
       "        <line x1=\"5\" y1=\"9\" x2=\"82.0\" y2=\"9.0\" stroke-linecap=\"round\" style=\"stroke:white;stroke-width:4\"/><line x1=\"82.0\" y1=\"9.0\" x2=\"82.0\" y2=\"86.0\" stroke-linecap=\"round\" style=\"stroke:white;stroke-width:4\"/><line x1=\"82.0\" y1=\"86.0\" x2=\"5.0\" y2=\"86.00000000000001\" stroke-linecap=\"round\" style=\"stroke:white;stroke-width:4\"/><line x1=\"5.0\" y1=\"86.00000000000001\" x2=\"4.999999999999986\" y2=\"9.000000000000014\" stroke-linecap=\"round\" style=\"stroke:white;stroke-width:4\"/>\n",
       "        \n",
       "      <g visibility=visible transform=\"rotate(180,4.999999999999986,9.000000000000014) translate(4.999999999999986, 9.000000000000014)\">\n",
       "        <circle stroke=\"white\" stroke-width=\"3\" fill=\"transparent\" r=\"12\" cx=\"0\" cy=\"0\"/>\n",
       "        <polygon points=\"0,19 3,16 -3,16\" style=\"fill:white;stroke:white;stroke-width:2\"/>\n",
       "      </g>\n",
       "    \n",
       "      </svg>\n",
       "    "
      ],
      "text/plain": [
       "<IPython.core.display.HTML object>"
      ]
     },
     "metadata": {},
     "output_type": "display_data"
    }
   ],
   "source": [
    "#call square method passing values from console input\n",
    "\n",
    "size = int(input(\"enter size:\"))\n",
    "x = int(input(\"enter x:\"))\n",
    "y = int(input(\"enter y:\"))\n",
    "\n",
    "square(size,x,y)"
   ]
  },
  {
   "cell_type": "code",
   "execution_count": 11,
   "metadata": {
    "colab": {
     "base_uri": "https://localhost:8080/",
     "height": 1000,
     "referenced_widgets": [
      "12cfcf19984a4b01a675c2d05c8792f3",
      "6da0a3228fde40139941ec79de0178c2",
      "4c09c982ebad4307869616b4400da35b",
      "a4ab18456f3349f29ff3a0005d4f1248",
      "b356e4b0e8904e128eddf711d6600f09",
      "096deb94d4e64f11bcffcfeb23a5c8fb",
      "8ef965d3265840fa83ebb3d0e2c7b5ca",
      "1c3058a6c63d4aa288fd11dc38883e5c",
      "c3670f7525cf4bcb93e6dc6bd3a2ca86",
      "9b7cfab1702a4570b796eb3fe27712c2",
      "1bf7fa83da6e48c6bb825dad4c8042c2",
      "0426bc03e60b460da42b295b8ca1cade",
      "0384e783f5d54b04b5de9ba539cb46e7",
      "82ce8337e42948e48b7b27c9e99c9fdb",
      "d04e6b82e8b74ca180aa34ca7bd5dfa3",
      "67dfd13551ed4f778b776dc6830e2430"
     ]
    },
    "id": "TKZqOyS0l8sr",
    "outputId": "181d4fad-27ad-4458-bc36-630f0a337ffd"
   },
   "outputs": [
    {
     "data": {
      "application/vnd.jupyter.widget-view+json": {
       "model_id": "7d6888128a174250afd0fab7ca816b77",
       "version_major": 2,
       "version_minor": 0
      },
      "text/plain": [
       "interactive(children=(IntSlider(value=100, description='size', max=400, min=100, step=50), IntSlider(value=0, …"
      ]
     },
     "metadata": {},
     "output_type": "display_data"
    },
    {
     "data": {
      "text/plain": [
       "<function __main__.square>"
      ]
     },
     "execution_count": 11,
     "metadata": {},
     "output_type": "execute_result"
    }
   ],
   "source": [
    "#GUI version 1. Obtain size, x, y values from sliders. \n",
    "#interact_manual generates button for triggering interaction.\n",
    "\n",
    "interact_manual(square,\n",
    "                size=widgets.IntSlider(min=100,max=400,step=50), \n",
    "                x=widgets.IntSlider(min=0,max=100), \n",
    "                y=widgets.IntSlider(min=0,max=100))\n",
    "    "
   ]
  },
  {
   "cell_type": "code",
   "execution_count": 11,
   "metadata": {
    "colab": {
     "base_uri": "https://localhost:8080/",
     "height": 1000,
     "referenced_widgets": [
      "12cfcf19984a4b01a675c2d05c8792f3",
      "6da0a3228fde40139941ec79de0178c2",
      "4c09c982ebad4307869616b4400da35b",
      "a4ab18456f3349f29ff3a0005d4f1248",
      "b356e4b0e8904e128eddf711d6600f09",
      "096deb94d4e64f11bcffcfeb23a5c8fb",
      "8ef965d3265840fa83ebb3d0e2c7b5ca",
      "1c3058a6c63d4aa288fd11dc38883e5c",
      "c3670f7525cf4bcb93e6dc6bd3a2ca86",
      "9b7cfab1702a4570b796eb3fe27712c2",
      "1bf7fa83da6e48c6bb825dad4c8042c2",
      "0426bc03e60b460da42b295b8ca1cade",
      "0384e783f5d54b04b5de9ba539cb46e7",
      "82ce8337e42948e48b7b27c9e99c9fdb",
      "d04e6b82e8b74ca180aa34ca7bd5dfa3",
      "67dfd13551ed4f778b776dc6830e2430"
     ]
    },
    "id": "TKZqOyS0l8sr",
    "outputId": "181d4fad-27ad-4458-bc36-630f0a337ffd"
   },
   "outputs": [
    {
     "data": {
      "application/vnd.jupyter.widget-view+json": {
       "model_id": "4352ba4bc62b42aebb9f075c1f32579c",
       "version_major": 2,
       "version_minor": 0
      },
      "text/plain": [
       "interactive(children=(IntSlider(value=250, description='size', max=400, min=100, step=50), IntSlider(value=50,…"
      ]
     },
     "metadata": {},
     "output_type": "display_data"
    }
   ],
   "source": [
    "#GUI version 2. Using decorator and widget abbreviations.\n",
    "\n",
    "@interact_manual\n",
    "def squareWidgetsUI(size=(100,400,50), \n",
    "                    x=(0,100), \n",
    "                    y=(0,100)):\n",
    "  square(size, x, y)\n",
    "    "
   ]
  },
  {
   "cell_type": "code",
   "execution_count": 7,
   "metadata": {
    "colab": {
     "base_uri": "https://localhost:8080/",
     "height": 645,
     "referenced_widgets": [
      "ab9235489b8d404fa8c133c4c802a5b0",
      "12cd0d9be2454d75a40192bca85e557d",
      "9dd946925012407eb65524685c2cf181",
      "33c30e6284a643bbac7bcc5611e027dc",
      "7b6339df10174ecf9a9eb8e491721491",
      "90dbf5a4942646f0a678c99198577f39",
      "01089032242b484fb70b4ef7a4c2e921",
      "af7c37ec769c423fb76c115c94f385a0",
      "932dc8ed11ad48f8ada6a7e0bb7b7204",
      "83dde3422040484baba25e4aa5254564",
      "66ffb8182ae94a2180fd26e82c2f7264",
      "777fae5d300a47cd8f0663768169e764"
     ]
    },
    "id": "TUlCXIh2_eEv",
    "outputId": "074c7dbf-a9d9-4742-98ce-e62f058d7b5d"
   },
   "outputs": [
    {
     "data": {
      "application/vnd.jupyter.widget-view+json": {
       "model_id": "ee604ab0370845f1a0b7e23674cc3b6e",
       "version_major": 2,
       "version_minor": 0
      },
      "text/plain": [
       "Button(description='draw square', style=ButtonStyle())"
      ]
     },
     "metadata": {},
     "output_type": "display_data"
    },
    {
     "data": {
      "application/vnd.jupyter.widget-view+json": {
       "model_id": "6187a5de95e341ba9fea618ea41d5b2e",
       "version_major": 2,
       "version_minor": 0
      },
      "text/plain": [
       "IntSlider(value=100, description='size', max=400, min=100, step=50)"
      ]
     },
     "metadata": {},
     "output_type": "display_data"
    },
    {
     "data": {
      "application/vnd.jupyter.widget-view+json": {
       "model_id": "aead7c54110b471e85a15a4eb36868ba",
       "version_major": 2,
       "version_minor": 0
      },
      "text/plain": [
       "IntSlider(value=0, description='x', max=200)"
      ]
     },
     "metadata": {},
     "output_type": "display_data"
    },
    {
     "data": {
      "application/vnd.jupyter.widget-view+json": {
       "model_id": "3b8949b7b847484f892db91281ae692a",
       "version_major": 2,
       "version_minor": 0
      },
      "text/plain": [
       "IntSlider(value=0, description='y', max=200)"
      ]
     },
     "metadata": {},
     "output_type": "display_data"
    }
   ],
   "source": [
    "#GUI version 3. Manually creating button, sliders, onclick event handling, etc.\n",
    "\n",
    "def button_clicked(clickevent):\n",
    "  square(sizeslider.value, xslider.value, yslider.value)\n",
    "\n",
    "sizeslider = widgets.IntSlider(description='size', min=100, max=400, step=50)\n",
    "xslider = widgets.IntSlider(description=\"x\", min=0, max=200)\n",
    "yslider = widgets.IntSlider(description=\"y\", min=0, max=200)\n",
    "squarebutton = widgets.Button(  description='draw square' )\n",
    "squarebutton.on_click(button_clicked)\n",
    "display(squarebutton)\n",
    "display(sizeslider)\n",
    "display(xslider)\n",
    "display(yslider)\n",
    "\n"
   ]
  },
  {
   "cell_type": "code",
   "execution_count": null,
   "metadata": {},
   "outputs": [],
   "source": []
  }
 ],
 "metadata": {
  "colab": {
   "collapsed_sections": [],
   "name": "turtledemo.ipynb",
   "provenance": []
  },
  "kernelspec": {
   "display_name": "Python 3",
   "language": "python",
   "name": "python3"
  },
  "language_info": {
   "codemirror_mode": {
    "name": "ipython",
    "version": 3
   },
   "file_extension": ".py",
   "mimetype": "text/x-python",
   "name": "python",
   "nbconvert_exporter": "python",
   "pygments_lexer": "ipython3",
   "version": "3.6.9"
  },
  "widgets": {
   "application/vnd.jupyter.widget-state+json": {
    "01089032242b484fb70b4ef7a4c2e921": {
     "model_module": "@jupyter-widgets/controls",
     "model_name": "IntSliderModel",
     "state": {
      "_dom_classes": [],
      "_model_module": "@jupyter-widgets/controls",
      "_model_module_version": "1.5.0",
      "_model_name": "IntSliderModel",
      "_view_count": null,
      "_view_module": "@jupyter-widgets/controls",
      "_view_module_version": "1.5.0",
      "_view_name": "IntSliderView",
      "continuous_update": true,
      "description": "x",
      "description_tooltip": null,
      "disabled": false,
      "layout": "IPY_MODEL_932dc8ed11ad48f8ada6a7e0bb7b7204",
      "max": 200,
      "min": 0,
      "orientation": "horizontal",
      "readout": true,
      "readout_format": "d",
      "step": 1,
      "style": "IPY_MODEL_af7c37ec769c423fb76c115c94f385a0",
      "value": 21
     }
    },
    "0384e783f5d54b04b5de9ba539cb46e7": {
     "model_module": "@jupyter-widgets/base",
     "model_name": "LayoutModel",
     "state": {
      "_model_module": "@jupyter-widgets/base",
      "_model_module_version": "1.2.0",
      "_model_name": "LayoutModel",
      "_view_count": null,
      "_view_module": "@jupyter-widgets/base",
      "_view_module_version": "1.2.0",
      "_view_name": "LayoutView",
      "align_content": null,
      "align_items": null,
      "align_self": null,
      "border": null,
      "bottom": null,
      "display": null,
      "flex": null,
      "flex_flow": null,
      "grid_area": null,
      "grid_auto_columns": null,
      "grid_auto_flow": null,
      "grid_auto_rows": null,
      "grid_column": null,
      "grid_gap": null,
      "grid_row": null,
      "grid_template_areas": null,
      "grid_template_columns": null,
      "grid_template_rows": null,
      "height": null,
      "justify_content": null,
      "justify_items": null,
      "left": null,
      "margin": null,
      "max_height": null,
      "max_width": null,
      "min_height": null,
      "min_width": null,
      "object_fit": null,
      "object_position": null,
      "order": null,
      "overflow": null,
      "overflow_x": null,
      "overflow_y": null,
      "padding": null,
      "right": null,
      "top": null,
      "visibility": null,
      "width": null
     }
    },
    "0426bc03e60b460da42b295b8ca1cade": {
     "model_module": "@jupyter-widgets/controls",
     "model_name": "SliderStyleModel",
     "state": {
      "_model_module": "@jupyter-widgets/controls",
      "_model_module_version": "1.5.0",
      "_model_name": "SliderStyleModel",
      "_view_count": null,
      "_view_module": "@jupyter-widgets/base",
      "_view_module_version": "1.2.0",
      "_view_name": "StyleView",
      "description_width": "",
      "handle_color": null
     }
    },
    "096deb94d4e64f11bcffcfeb23a5c8fb": {
     "model_module": "@jupyter-widgets/controls",
     "model_name": "ButtonModel",
     "state": {
      "_dom_classes": [],
      "_model_module": "@jupyter-widgets/controls",
      "_model_module_version": "1.5.0",
      "_model_name": "ButtonModel",
      "_view_count": null,
      "_view_module": "@jupyter-widgets/controls",
      "_view_module_version": "1.5.0",
      "_view_name": "ButtonView",
      "button_style": "",
      "description": "Run Interact",
      "disabled": false,
      "icon": "",
      "layout": "IPY_MODEL_d04e6b82e8b74ca180aa34ca7bd5dfa3",
      "style": "IPY_MODEL_82ce8337e42948e48b7b27c9e99c9fdb",
      "tooltip": ""
     }
    },
    "12cd0d9be2454d75a40192bca85e557d": {
     "model_module": "@jupyter-widgets/controls",
     "model_name": "ButtonStyleModel",
     "state": {
      "_model_module": "@jupyter-widgets/controls",
      "_model_module_version": "1.5.0",
      "_model_name": "ButtonStyleModel",
      "_view_count": null,
      "_view_module": "@jupyter-widgets/base",
      "_view_module_version": "1.2.0",
      "_view_name": "StyleView",
      "button_color": null,
      "font_weight": ""
     }
    },
    "12cfcf19984a4b01a675c2d05c8792f3": {
     "model_module": "@jupyter-widgets/controls",
     "model_name": "VBoxModel",
     "state": {
      "_dom_classes": [
       "widget-interact"
      ],
      "_model_module": "@jupyter-widgets/controls",
      "_model_module_version": "1.5.0",
      "_model_name": "VBoxModel",
      "_view_count": null,
      "_view_module": "@jupyter-widgets/controls",
      "_view_module_version": "1.5.0",
      "_view_name": "VBoxView",
      "box_style": "",
      "children": [
       "IPY_MODEL_4c09c982ebad4307869616b4400da35b",
       "IPY_MODEL_a4ab18456f3349f29ff3a0005d4f1248",
       "IPY_MODEL_b356e4b0e8904e128eddf711d6600f09",
       "IPY_MODEL_096deb94d4e64f11bcffcfeb23a5c8fb",
       "IPY_MODEL_8ef965d3265840fa83ebb3d0e2c7b5ca"
      ],
      "layout": "IPY_MODEL_6da0a3228fde40139941ec79de0178c2"
     }
    },
    "1bf7fa83da6e48c6bb825dad4c8042c2": {
     "model_module": "@jupyter-widgets/base",
     "model_name": "LayoutModel",
     "state": {
      "_model_module": "@jupyter-widgets/base",
      "_model_module_version": "1.2.0",
      "_model_name": "LayoutModel",
      "_view_count": null,
      "_view_module": "@jupyter-widgets/base",
      "_view_module_version": "1.2.0",
      "_view_name": "LayoutView",
      "align_content": null,
      "align_items": null,
      "align_self": null,
      "border": null,
      "bottom": null,
      "display": null,
      "flex": null,
      "flex_flow": null,
      "grid_area": null,
      "grid_auto_columns": null,
      "grid_auto_flow": null,
      "grid_auto_rows": null,
      "grid_column": null,
      "grid_gap": null,
      "grid_row": null,
      "grid_template_areas": null,
      "grid_template_columns": null,
      "grid_template_rows": null,
      "height": null,
      "justify_content": null,
      "justify_items": null,
      "left": null,
      "margin": null,
      "max_height": null,
      "max_width": null,
      "min_height": null,
      "min_width": null,
      "object_fit": null,
      "object_position": null,
      "order": null,
      "overflow": null,
      "overflow_x": null,
      "overflow_y": null,
      "padding": null,
      "right": null,
      "top": null,
      "visibility": null,
      "width": null
     }
    },
    "1c3058a6c63d4aa288fd11dc38883e5c": {
     "model_module": "@jupyter-widgets/controls",
     "model_name": "SliderStyleModel",
     "state": {
      "_model_module": "@jupyter-widgets/controls",
      "_model_module_version": "1.5.0",
      "_model_name": "SliderStyleModel",
      "_view_count": null,
      "_view_module": "@jupyter-widgets/base",
      "_view_module_version": "1.2.0",
      "_view_name": "StyleView",
      "description_width": "",
      "handle_color": null
     }
    },
    "33c30e6284a643bbac7bcc5611e027dc": {
     "model_module": "@jupyter-widgets/controls",
     "model_name": "IntSliderModel",
     "state": {
      "_dom_classes": [],
      "_model_module": "@jupyter-widgets/controls",
      "_model_module_version": "1.5.0",
      "_model_name": "IntSliderModel",
      "_view_count": null,
      "_view_module": "@jupyter-widgets/controls",
      "_view_module_version": "1.5.0",
      "_view_name": "IntSliderView",
      "continuous_update": true,
      "description": "size",
      "description_tooltip": null,
      "disabled": false,
      "layout": "IPY_MODEL_90dbf5a4942646f0a678c99198577f39",
      "max": 400,
      "min": 100,
      "orientation": "horizontal",
      "readout": true,
      "readout_format": "d",
      "step": 50,
      "style": "IPY_MODEL_7b6339df10174ecf9a9eb8e491721491",
      "value": 300
     }
    },
    "4c09c982ebad4307869616b4400da35b": {
     "model_module": "@jupyter-widgets/controls",
     "model_name": "IntSliderModel",
     "state": {
      "_dom_classes": [],
      "_model_module": "@jupyter-widgets/controls",
      "_model_module_version": "1.5.0",
      "_model_name": "IntSliderModel",
      "_view_count": null,
      "_view_module": "@jupyter-widgets/controls",
      "_view_module_version": "1.5.0",
      "_view_name": "IntSliderView",
      "continuous_update": true,
      "description": "size",
      "description_tooltip": null,
      "disabled": false,
      "layout": "IPY_MODEL_c3670f7525cf4bcb93e6dc6bd3a2ca86",
      "max": 400,
      "min": 100,
      "orientation": "horizontal",
      "readout": true,
      "readout_format": "d",
      "step": 50,
      "style": "IPY_MODEL_1c3058a6c63d4aa288fd11dc38883e5c",
      "value": 150
     }
    },
    "66ffb8182ae94a2180fd26e82c2f7264": {
     "model_module": "@jupyter-widgets/controls",
     "model_name": "SliderStyleModel",
     "state": {
      "_model_module": "@jupyter-widgets/controls",
      "_model_module_version": "1.5.0",
      "_model_name": "SliderStyleModel",
      "_view_count": null,
      "_view_module": "@jupyter-widgets/base",
      "_view_module_version": "1.2.0",
      "_view_name": "StyleView",
      "description_width": "",
      "handle_color": null
     }
    },
    "67dfd13551ed4f778b776dc6830e2430": {
     "model_module": "@jupyter-widgets/base",
     "model_name": "LayoutModel",
     "state": {
      "_model_module": "@jupyter-widgets/base",
      "_model_module_version": "1.2.0",
      "_model_name": "LayoutModel",
      "_view_count": null,
      "_view_module": "@jupyter-widgets/base",
      "_view_module_version": "1.2.0",
      "_view_name": "LayoutView",
      "align_content": null,
      "align_items": null,
      "align_self": null,
      "border": null,
      "bottom": null,
      "display": null,
      "flex": null,
      "flex_flow": null,
      "grid_area": null,
      "grid_auto_columns": null,
      "grid_auto_flow": null,
      "grid_auto_rows": null,
      "grid_column": null,
      "grid_gap": null,
      "grid_row": null,
      "grid_template_areas": null,
      "grid_template_columns": null,
      "grid_template_rows": null,
      "height": null,
      "justify_content": null,
      "justify_items": null,
      "left": null,
      "margin": null,
      "max_height": null,
      "max_width": null,
      "min_height": null,
      "min_width": null,
      "object_fit": null,
      "object_position": null,
      "order": null,
      "overflow": null,
      "overflow_x": null,
      "overflow_y": null,
      "padding": null,
      "right": null,
      "top": null,
      "visibility": null,
      "width": null
     }
    },
    "6da0a3228fde40139941ec79de0178c2": {
     "model_module": "@jupyter-widgets/base",
     "model_name": "LayoutModel",
     "state": {
      "_model_module": "@jupyter-widgets/base",
      "_model_module_version": "1.2.0",
      "_model_name": "LayoutModel",
      "_view_count": null,
      "_view_module": "@jupyter-widgets/base",
      "_view_module_version": "1.2.0",
      "_view_name": "LayoutView",
      "align_content": null,
      "align_items": null,
      "align_self": null,
      "border": null,
      "bottom": null,
      "display": null,
      "flex": null,
      "flex_flow": null,
      "grid_area": null,
      "grid_auto_columns": null,
      "grid_auto_flow": null,
      "grid_auto_rows": null,
      "grid_column": null,
      "grid_gap": null,
      "grid_row": null,
      "grid_template_areas": null,
      "grid_template_columns": null,
      "grid_template_rows": null,
      "height": null,
      "justify_content": null,
      "justify_items": null,
      "left": null,
      "margin": null,
      "max_height": null,
      "max_width": null,
      "min_height": null,
      "min_width": null,
      "object_fit": null,
      "object_position": null,
      "order": null,
      "overflow": null,
      "overflow_x": null,
      "overflow_y": null,
      "padding": null,
      "right": null,
      "top": null,
      "visibility": null,
      "width": null
     }
    },
    "777fae5d300a47cd8f0663768169e764": {
     "model_module": "@jupyter-widgets/base",
     "model_name": "LayoutModel",
     "state": {
      "_model_module": "@jupyter-widgets/base",
      "_model_module_version": "1.2.0",
      "_model_name": "LayoutModel",
      "_view_count": null,
      "_view_module": "@jupyter-widgets/base",
      "_view_module_version": "1.2.0",
      "_view_name": "LayoutView",
      "align_content": null,
      "align_items": null,
      "align_self": null,
      "border": null,
      "bottom": null,
      "display": null,
      "flex": null,
      "flex_flow": null,
      "grid_area": null,
      "grid_auto_columns": null,
      "grid_auto_flow": null,
      "grid_auto_rows": null,
      "grid_column": null,
      "grid_gap": null,
      "grid_row": null,
      "grid_template_areas": null,
      "grid_template_columns": null,
      "grid_template_rows": null,
      "height": null,
      "justify_content": null,
      "justify_items": null,
      "left": null,
      "margin": null,
      "max_height": null,
      "max_width": null,
      "min_height": null,
      "min_width": null,
      "object_fit": null,
      "object_position": null,
      "order": null,
      "overflow": null,
      "overflow_x": null,
      "overflow_y": null,
      "padding": null,
      "right": null,
      "top": null,
      "visibility": null,
      "width": null
     }
    },
    "7b6339df10174ecf9a9eb8e491721491": {
     "model_module": "@jupyter-widgets/controls",
     "model_name": "SliderStyleModel",
     "state": {
      "_model_module": "@jupyter-widgets/controls",
      "_model_module_version": "1.5.0",
      "_model_name": "SliderStyleModel",
      "_view_count": null,
      "_view_module": "@jupyter-widgets/base",
      "_view_module_version": "1.2.0",
      "_view_name": "StyleView",
      "description_width": "",
      "handle_color": null
     }
    },
    "82ce8337e42948e48b7b27c9e99c9fdb": {
     "model_module": "@jupyter-widgets/controls",
     "model_name": "ButtonStyleModel",
     "state": {
      "_model_module": "@jupyter-widgets/controls",
      "_model_module_version": "1.5.0",
      "_model_name": "ButtonStyleModel",
      "_view_count": null,
      "_view_module": "@jupyter-widgets/base",
      "_view_module_version": "1.2.0",
      "_view_name": "StyleView",
      "button_color": null,
      "font_weight": ""
     }
    },
    "83dde3422040484baba25e4aa5254564": {
     "model_module": "@jupyter-widgets/controls",
     "model_name": "IntSliderModel",
     "state": {
      "_dom_classes": [],
      "_model_module": "@jupyter-widgets/controls",
      "_model_module_version": "1.5.0",
      "_model_name": "IntSliderModel",
      "_view_count": null,
      "_view_module": "@jupyter-widgets/controls",
      "_view_module_version": "1.5.0",
      "_view_name": "IntSliderView",
      "continuous_update": true,
      "description": "y",
      "description_tooltip": null,
      "disabled": false,
      "layout": "IPY_MODEL_777fae5d300a47cd8f0663768169e764",
      "max": 200,
      "min": 0,
      "orientation": "horizontal",
      "readout": true,
      "readout_format": "d",
      "step": 1,
      "style": "IPY_MODEL_66ffb8182ae94a2180fd26e82c2f7264",
      "value": 60
     }
    },
    "8ef965d3265840fa83ebb3d0e2c7b5ca": {
     "model_module": "@jupyter-widgets/output",
     "model_name": "OutputModel",
     "state": {
      "_dom_classes": [],
      "_model_module": "@jupyter-widgets/output",
      "_model_module_version": "1.0.0",
      "_model_name": "OutputModel",
      "_view_count": null,
      "_view_module": "@jupyter-widgets/output",
      "_view_module_version": "1.0.0",
      "_view_name": "OutputView",
      "layout": "IPY_MODEL_67dfd13551ed4f778b776dc6830e2430",
      "msg_id": "",
      "outputs": [
       {
        "display_id": "2035a6a4b8f72e0186b7954e07f441db",
        "metadata": {
         "tags": []
        },
        "output_type": "display_data",
        "text/html": "\n      <svg width=\"800\" height=\"500\">\n        <rect width=\"100%\" height=\"100%\" fill=\"black\"/>\n        \n        \n      <g visibility=visible transform=\"rotate(180,400,250) translate(400, 250)\">\n        <circle stroke=\"white\" stroke-width=\"3\" fill=\"transparent\" r=\"12\" cx=\"0\" cy=\"0\"/>\n        <polygon points=\"0,19 3,16 -3,16\" style=\"fill:white;stroke:white;stroke-width:2\"/>\n      </g>\n    \n      </svg>\n    ",
        "text/plain": "<IPython.core.display.HTML object>"
       },
       {
        "display_id": "2035a6a4b8f72e0186b7954e07f441db",
        "metadata": {
         "tags": []
        },
        "output_type": "display_data",
        "text/html": "\n      <svg width=\"800\" height=\"500\">\n        <rect width=\"100%\" height=\"100%\" fill=\"black\"/>\n        \n        \n      <g visibility=visible transform=\"rotate(180,70,28) translate(70, 28)\">\n        <circle stroke=\"white\" stroke-width=\"3\" fill=\"transparent\" r=\"12\" cx=\"0\" cy=\"0\"/>\n        <polygon points=\"0,19 3,16 -3,16\" style=\"fill:white;stroke:white;stroke-width:2\"/>\n      </g>\n    \n      </svg>\n    ",
        "text/plain": "<IPython.core.display.HTML object>"
       },
       {
        "display_id": "2035a6a4b8f72e0186b7954e07f441db",
        "metadata": {
         "tags": []
        },
        "output_type": "display_data",
        "text/html": "\n      <svg width=\"800\" height=\"500\">\n        <rect width=\"100%\" height=\"100%\" fill=\"black\"/>\n        \n        \n      <g visibility=visible transform=\"rotate(-90,70,28) translate(70, 28)\">\n        <circle stroke=\"white\" stroke-width=\"3\" fill=\"transparent\" r=\"12\" cx=\"0\" cy=\"0\"/>\n        <polygon points=\"0,19 3,16 -3,16\" style=\"fill:white;stroke:white;stroke-width:2\"/>\n      </g>\n    \n      </svg>\n    ",
        "text/plain": "<IPython.core.display.HTML object>"
       },
       {
        "display_id": "2035a6a4b8f72e0186b7954e07f441db",
        "metadata": {
         "tags": []
        },
        "output_type": "display_data",
        "text/html": "\n      <svg width=\"800\" height=\"500\">\n        <rect width=\"100%\" height=\"100%\" fill=\"black\"/>\n        <line x1=\"70\" y1=\"28\" x2=\"220.0\" y2=\"28.0\" stroke-linecap=\"round\" style=\"stroke:white;stroke-width:4\"/>\n        \n      <g visibility=visible transform=\"rotate(-90,220.0,28.0) translate(220.0, 28.0)\">\n        <circle stroke=\"white\" stroke-width=\"3\" fill=\"transparent\" r=\"12\" cx=\"0\" cy=\"0\"/>\n        <polygon points=\"0,19 3,16 -3,16\" style=\"fill:white;stroke:white;stroke-width:2\"/>\n      </g>\n    \n      </svg>\n    ",
        "text/plain": "<IPython.core.display.HTML object>"
       },
       {
        "display_id": "2035a6a4b8f72e0186b7954e07f441db",
        "metadata": {
         "tags": []
        },
        "output_type": "display_data",
        "text/html": "\n      <svg width=\"800\" height=\"500\">\n        <rect width=\"100%\" height=\"100%\" fill=\"black\"/>\n        <line x1=\"70\" y1=\"28\" x2=\"220.0\" y2=\"28.0\" stroke-linecap=\"round\" style=\"stroke:white;stroke-width:4\"/>\n        \n      <g visibility=visible transform=\"rotate(0,220.0,28.0) translate(220.0, 28.0)\">\n        <circle stroke=\"white\" stroke-width=\"3\" fill=\"transparent\" r=\"12\" cx=\"0\" cy=\"0\"/>\n        <polygon points=\"0,19 3,16 -3,16\" style=\"fill:white;stroke:white;stroke-width:2\"/>\n      </g>\n    \n      </svg>\n    ",
        "text/plain": "<IPython.core.display.HTML object>"
       },
       {
        "display_id": "2035a6a4b8f72e0186b7954e07f441db",
        "metadata": {
         "tags": []
        },
        "output_type": "display_data",
        "text/html": "\n      <svg width=\"800\" height=\"500\">\n        <rect width=\"100%\" height=\"100%\" fill=\"black\"/>\n        <line x1=\"70\" y1=\"28\" x2=\"220.0\" y2=\"28.0\" stroke-linecap=\"round\" style=\"stroke:white;stroke-width:4\"/><line x1=\"220.0\" y1=\"28.0\" x2=\"220.0\" y2=\"178.0\" stroke-linecap=\"round\" style=\"stroke:white;stroke-width:4\"/>\n        \n      <g visibility=visible transform=\"rotate(0,220.0,178.0) translate(220.0, 178.0)\">\n        <circle stroke=\"white\" stroke-width=\"3\" fill=\"transparent\" r=\"12\" cx=\"0\" cy=\"0\"/>\n        <polygon points=\"0,19 3,16 -3,16\" style=\"fill:white;stroke:white;stroke-width:2\"/>\n      </g>\n    \n      </svg>\n    ",
        "text/plain": "<IPython.core.display.HTML object>"
       },
       {
        "display_id": "2035a6a4b8f72e0186b7954e07f441db",
        "metadata": {
         "tags": []
        },
        "output_type": "display_data",
        "text/html": "\n      <svg width=\"800\" height=\"500\">\n        <rect width=\"100%\" height=\"100%\" fill=\"black\"/>\n        <line x1=\"70\" y1=\"28\" x2=\"220.0\" y2=\"28.0\" stroke-linecap=\"round\" style=\"stroke:white;stroke-width:4\"/><line x1=\"220.0\" y1=\"28.0\" x2=\"220.0\" y2=\"178.0\" stroke-linecap=\"round\" style=\"stroke:white;stroke-width:4\"/>\n        \n      <g visibility=visible transform=\"rotate(90,220.0,178.0) translate(220.0, 178.0)\">\n        <circle stroke=\"white\" stroke-width=\"3\" fill=\"transparent\" r=\"12\" cx=\"0\" cy=\"0\"/>\n        <polygon points=\"0,19 3,16 -3,16\" style=\"fill:white;stroke:white;stroke-width:2\"/>\n      </g>\n    \n      </svg>\n    ",
        "text/plain": "<IPython.core.display.HTML object>"
       },
       {
        "display_id": "2035a6a4b8f72e0186b7954e07f441db",
        "metadata": {
         "tags": []
        },
        "output_type": "display_data",
        "text/html": "\n      <svg width=\"800\" height=\"500\">\n        <rect width=\"100%\" height=\"100%\" fill=\"black\"/>\n        <line x1=\"70\" y1=\"28\" x2=\"220.0\" y2=\"28.0\" stroke-linecap=\"round\" style=\"stroke:white;stroke-width:4\"/><line x1=\"220.0\" y1=\"28.0\" x2=\"220.0\" y2=\"178.0\" stroke-linecap=\"round\" style=\"stroke:white;stroke-width:4\"/><line x1=\"220.0\" y1=\"178.0\" x2=\"70.0\" y2=\"178.00000000000003\" stroke-linecap=\"round\" style=\"stroke:white;stroke-width:4\"/>\n        \n      <g visibility=visible transform=\"rotate(90,70.0,178.00000000000003) translate(70.0, 178.00000000000003)\">\n        <circle stroke=\"white\" stroke-width=\"3\" fill=\"transparent\" r=\"12\" cx=\"0\" cy=\"0\"/>\n        <polygon points=\"0,19 3,16 -3,16\" style=\"fill:white;stroke:white;stroke-width:2\"/>\n      </g>\n    \n      </svg>\n    ",
        "text/plain": "<IPython.core.display.HTML object>"
       },
       {
        "display_id": "2035a6a4b8f72e0186b7954e07f441db",
        "metadata": {
         "tags": []
        },
        "output_type": "display_data",
        "text/html": "\n      <svg width=\"800\" height=\"500\">\n        <rect width=\"100%\" height=\"100%\" fill=\"black\"/>\n        <line x1=\"70\" y1=\"28\" x2=\"220.0\" y2=\"28.0\" stroke-linecap=\"round\" style=\"stroke:white;stroke-width:4\"/><line x1=\"220.0\" y1=\"28.0\" x2=\"220.0\" y2=\"178.0\" stroke-linecap=\"round\" style=\"stroke:white;stroke-width:4\"/><line x1=\"220.0\" y1=\"178.0\" x2=\"70.0\" y2=\"178.00000000000003\" stroke-linecap=\"round\" style=\"stroke:white;stroke-width:4\"/>\n        \n      <g visibility=visible transform=\"rotate(180,70.0,178.00000000000003) translate(70.0, 178.00000000000003)\">\n        <circle stroke=\"white\" stroke-width=\"3\" fill=\"transparent\" r=\"12\" cx=\"0\" cy=\"0\"/>\n        <polygon points=\"0,19 3,16 -3,16\" style=\"fill:white;stroke:white;stroke-width:2\"/>\n      </g>\n    \n      </svg>\n    ",
        "text/plain": "<IPython.core.display.HTML object>"
       },
       {
        "display_id": "2035a6a4b8f72e0186b7954e07f441db",
        "metadata": {
         "tags": []
        },
        "output_type": "display_data",
        "text/html": "\n      <svg width=\"800\" height=\"500\">\n        <rect width=\"100%\" height=\"100%\" fill=\"black\"/>\n        <line x1=\"70\" y1=\"28\" x2=\"220.0\" y2=\"28.0\" stroke-linecap=\"round\" style=\"stroke:white;stroke-width:4\"/><line x1=\"220.0\" y1=\"28.0\" x2=\"220.0\" y2=\"178.0\" stroke-linecap=\"round\" style=\"stroke:white;stroke-width:4\"/><line x1=\"220.0\" y1=\"178.0\" x2=\"70.0\" y2=\"178.00000000000003\" stroke-linecap=\"round\" style=\"stroke:white;stroke-width:4\"/><line x1=\"70.0\" y1=\"178.00000000000003\" x2=\"69.99999999999997\" y2=\"28.00000000000003\" stroke-linecap=\"round\" style=\"stroke:white;stroke-width:4\"/>\n        \n      <g visibility=visible transform=\"rotate(180,69.99999999999997,28.00000000000003) translate(69.99999999999997, 28.00000000000003)\">\n        <circle stroke=\"white\" stroke-width=\"3\" fill=\"transparent\" r=\"12\" cx=\"0\" cy=\"0\"/>\n        <polygon points=\"0,19 3,16 -3,16\" style=\"fill:white;stroke:white;stroke-width:2\"/>\n      </g>\n    \n      </svg>\n    ",
        "text/plain": "<IPython.core.display.HTML object>"
       }
      ]
     }
    },
    "90dbf5a4942646f0a678c99198577f39": {
     "model_module": "@jupyter-widgets/base",
     "model_name": "LayoutModel",
     "state": {
      "_model_module": "@jupyter-widgets/base",
      "_model_module_version": "1.2.0",
      "_model_name": "LayoutModel",
      "_view_count": null,
      "_view_module": "@jupyter-widgets/base",
      "_view_module_version": "1.2.0",
      "_view_name": "LayoutView",
      "align_content": null,
      "align_items": null,
      "align_self": null,
      "border": null,
      "bottom": null,
      "display": null,
      "flex": null,
      "flex_flow": null,
      "grid_area": null,
      "grid_auto_columns": null,
      "grid_auto_flow": null,
      "grid_auto_rows": null,
      "grid_column": null,
      "grid_gap": null,
      "grid_row": null,
      "grid_template_areas": null,
      "grid_template_columns": null,
      "grid_template_rows": null,
      "height": null,
      "justify_content": null,
      "justify_items": null,
      "left": null,
      "margin": null,
      "max_height": null,
      "max_width": null,
      "min_height": null,
      "min_width": null,
      "object_fit": null,
      "object_position": null,
      "order": null,
      "overflow": null,
      "overflow_x": null,
      "overflow_y": null,
      "padding": null,
      "right": null,
      "top": null,
      "visibility": null,
      "width": null
     }
    },
    "932dc8ed11ad48f8ada6a7e0bb7b7204": {
     "model_module": "@jupyter-widgets/base",
     "model_name": "LayoutModel",
     "state": {
      "_model_module": "@jupyter-widgets/base",
      "_model_module_version": "1.2.0",
      "_model_name": "LayoutModel",
      "_view_count": null,
      "_view_module": "@jupyter-widgets/base",
      "_view_module_version": "1.2.0",
      "_view_name": "LayoutView",
      "align_content": null,
      "align_items": null,
      "align_self": null,
      "border": null,
      "bottom": null,
      "display": null,
      "flex": null,
      "flex_flow": null,
      "grid_area": null,
      "grid_auto_columns": null,
      "grid_auto_flow": null,
      "grid_auto_rows": null,
      "grid_column": null,
      "grid_gap": null,
      "grid_row": null,
      "grid_template_areas": null,
      "grid_template_columns": null,
      "grid_template_rows": null,
      "height": null,
      "justify_content": null,
      "justify_items": null,
      "left": null,
      "margin": null,
      "max_height": null,
      "max_width": null,
      "min_height": null,
      "min_width": null,
      "object_fit": null,
      "object_position": null,
      "order": null,
      "overflow": null,
      "overflow_x": null,
      "overflow_y": null,
      "padding": null,
      "right": null,
      "top": null,
      "visibility": null,
      "width": null
     }
    },
    "9b7cfab1702a4570b796eb3fe27712c2": {
     "model_module": "@jupyter-widgets/controls",
     "model_name": "SliderStyleModel",
     "state": {
      "_model_module": "@jupyter-widgets/controls",
      "_model_module_version": "1.5.0",
      "_model_name": "SliderStyleModel",
      "_view_count": null,
      "_view_module": "@jupyter-widgets/base",
      "_view_module_version": "1.2.0",
      "_view_name": "StyleView",
      "description_width": "",
      "handle_color": null
     }
    },
    "9dd946925012407eb65524685c2cf181": {
     "model_module": "@jupyter-widgets/base",
     "model_name": "LayoutModel",
     "state": {
      "_model_module": "@jupyter-widgets/base",
      "_model_module_version": "1.2.0",
      "_model_name": "LayoutModel",
      "_view_count": null,
      "_view_module": "@jupyter-widgets/base",
      "_view_module_version": "1.2.0",
      "_view_name": "LayoutView",
      "align_content": null,
      "align_items": null,
      "align_self": null,
      "border": null,
      "bottom": null,
      "display": null,
      "flex": null,
      "flex_flow": null,
      "grid_area": null,
      "grid_auto_columns": null,
      "grid_auto_flow": null,
      "grid_auto_rows": null,
      "grid_column": null,
      "grid_gap": null,
      "grid_row": null,
      "grid_template_areas": null,
      "grid_template_columns": null,
      "grid_template_rows": null,
      "height": null,
      "justify_content": null,
      "justify_items": null,
      "left": null,
      "margin": null,
      "max_height": null,
      "max_width": null,
      "min_height": null,
      "min_width": null,
      "object_fit": null,
      "object_position": null,
      "order": null,
      "overflow": null,
      "overflow_x": null,
      "overflow_y": null,
      "padding": null,
      "right": null,
      "top": null,
      "visibility": null,
      "width": null
     }
    },
    "a4ab18456f3349f29ff3a0005d4f1248": {
     "model_module": "@jupyter-widgets/controls",
     "model_name": "IntSliderModel",
     "state": {
      "_dom_classes": [],
      "_model_module": "@jupyter-widgets/controls",
      "_model_module_version": "1.5.0",
      "_model_name": "IntSliderModel",
      "_view_count": null,
      "_view_module": "@jupyter-widgets/controls",
      "_view_module_version": "1.5.0",
      "_view_name": "IntSliderView",
      "continuous_update": true,
      "description": "x",
      "description_tooltip": null,
      "disabled": false,
      "layout": "IPY_MODEL_1bf7fa83da6e48c6bb825dad4c8042c2",
      "max": 100,
      "min": 0,
      "orientation": "horizontal",
      "readout": true,
      "readout_format": "d",
      "step": 1,
      "style": "IPY_MODEL_9b7cfab1702a4570b796eb3fe27712c2",
      "value": 70
     }
    },
    "ab9235489b8d404fa8c133c4c802a5b0": {
     "model_module": "@jupyter-widgets/controls",
     "model_name": "ButtonModel",
     "state": {
      "_dom_classes": [],
      "_model_module": "@jupyter-widgets/controls",
      "_model_module_version": "1.5.0",
      "_model_name": "ButtonModel",
      "_view_count": null,
      "_view_module": "@jupyter-widgets/controls",
      "_view_module_version": "1.5.0",
      "_view_name": "ButtonView",
      "button_style": "",
      "description": "draw square",
      "disabled": false,
      "icon": "",
      "layout": "IPY_MODEL_9dd946925012407eb65524685c2cf181",
      "style": "IPY_MODEL_12cd0d9be2454d75a40192bca85e557d",
      "tooltip": ""
     }
    },
    "af7c37ec769c423fb76c115c94f385a0": {
     "model_module": "@jupyter-widgets/controls",
     "model_name": "SliderStyleModel",
     "state": {
      "_model_module": "@jupyter-widgets/controls",
      "_model_module_version": "1.5.0",
      "_model_name": "SliderStyleModel",
      "_view_count": null,
      "_view_module": "@jupyter-widgets/base",
      "_view_module_version": "1.2.0",
      "_view_name": "StyleView",
      "description_width": "",
      "handle_color": null
     }
    },
    "b356e4b0e8904e128eddf711d6600f09": {
     "model_module": "@jupyter-widgets/controls",
     "model_name": "IntSliderModel",
     "state": {
      "_dom_classes": [],
      "_model_module": "@jupyter-widgets/controls",
      "_model_module_version": "1.5.0",
      "_model_name": "IntSliderModel",
      "_view_count": null,
      "_view_module": "@jupyter-widgets/controls",
      "_view_module_version": "1.5.0",
      "_view_name": "IntSliderView",
      "continuous_update": true,
      "description": "y",
      "description_tooltip": null,
      "disabled": false,
      "layout": "IPY_MODEL_0384e783f5d54b04b5de9ba539cb46e7",
      "max": 100,
      "min": 0,
      "orientation": "horizontal",
      "readout": true,
      "readout_format": "d",
      "step": 1,
      "style": "IPY_MODEL_0426bc03e60b460da42b295b8ca1cade",
      "value": 28
     }
    },
    "c3670f7525cf4bcb93e6dc6bd3a2ca86": {
     "model_module": "@jupyter-widgets/base",
     "model_name": "LayoutModel",
     "state": {
      "_model_module": "@jupyter-widgets/base",
      "_model_module_version": "1.2.0",
      "_model_name": "LayoutModel",
      "_view_count": null,
      "_view_module": "@jupyter-widgets/base",
      "_view_module_version": "1.2.0",
      "_view_name": "LayoutView",
      "align_content": null,
      "align_items": null,
      "align_self": null,
      "border": null,
      "bottom": null,
      "display": null,
      "flex": null,
      "flex_flow": null,
      "grid_area": null,
      "grid_auto_columns": null,
      "grid_auto_flow": null,
      "grid_auto_rows": null,
      "grid_column": null,
      "grid_gap": null,
      "grid_row": null,
      "grid_template_areas": null,
      "grid_template_columns": null,
      "grid_template_rows": null,
      "height": null,
      "justify_content": null,
      "justify_items": null,
      "left": null,
      "margin": null,
      "max_height": null,
      "max_width": null,
      "min_height": null,
      "min_width": null,
      "object_fit": null,
      "object_position": null,
      "order": null,
      "overflow": null,
      "overflow_x": null,
      "overflow_y": null,
      "padding": null,
      "right": null,
      "top": null,
      "visibility": null,
      "width": null
     }
    },
    "d04e6b82e8b74ca180aa34ca7bd5dfa3": {
     "model_module": "@jupyter-widgets/base",
     "model_name": "LayoutModel",
     "state": {
      "_model_module": "@jupyter-widgets/base",
      "_model_module_version": "1.2.0",
      "_model_name": "LayoutModel",
      "_view_count": null,
      "_view_module": "@jupyter-widgets/base",
      "_view_module_version": "1.2.0",
      "_view_name": "LayoutView",
      "align_content": null,
      "align_items": null,
      "align_self": null,
      "border": null,
      "bottom": null,
      "display": null,
      "flex": null,
      "flex_flow": null,
      "grid_area": null,
      "grid_auto_columns": null,
      "grid_auto_flow": null,
      "grid_auto_rows": null,
      "grid_column": null,
      "grid_gap": null,
      "grid_row": null,
      "grid_template_areas": null,
      "grid_template_columns": null,
      "grid_template_rows": null,
      "height": null,
      "justify_content": null,
      "justify_items": null,
      "left": null,
      "margin": null,
      "max_height": null,
      "max_width": null,
      "min_height": null,
      "min_width": null,
      "object_fit": null,
      "object_position": null,
      "order": null,
      "overflow": null,
      "overflow_x": null,
      "overflow_y": null,
      "padding": null,
      "right": null,
      "top": null,
      "visibility": null,
      "width": null
     }
    }
   }
  }
 },
 "nbformat": 4,
 "nbformat_minor": 1
}
