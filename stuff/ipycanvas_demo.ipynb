{
 "cells": [
  {
   "cell_type": "code",
   "execution_count": 1,
   "metadata": {},
   "outputs": [],
   "source": [
    "#https://ipycanvas.readthedocs.io/en/latest/basic_usage.html\n",
    "\n",
    "\n",
    "#!python -m pip install --upgrade pip"
   ]
  },
  {
   "cell_type": "code",
   "execution_count": 2,
   "metadata": {},
   "outputs": [],
   "source": [
    "#!pip3 install --upgrade ipycanvas"
   ]
  },
  {
   "cell_type": "code",
   "execution_count": 1,
   "metadata": {},
   "outputs": [],
   "source": [
    "from ipycanvas import Canvas\n"
   ]
  },
  {
   "cell_type": "code",
   "execution_count": 2,
   "metadata": {},
   "outputs": [
    {
     "data": {
      "application/vnd.jupyter.widget-view+json": {
       "model_id": "af8ad5811a6c4d9a9e2bb7ad8367794c",
       "version_major": 2,
       "version_minor": 0
      },
      "text/plain": [
       "Canvas(height=200, width=200)"
      ]
     },
     "metadata": {},
     "output_type": "display_data"
    }
   ],
   "source": [
    "\n",
    "canvas = Canvas(width=200, height=200)\n",
    "canvas.fill_style = 'red'\n",
    "canvas.fill_rect(0,0, 200, 200)\n",
    "canvas.fill_style = 'lightgreen'\n",
    "canvas.fill_rect(50,50,100,100) \n",
    "canvas.stroke_style='black'\n",
    "canvas.stroke_rect(50,50,20,20)\n",
    "display(canvas)"
   ]
  },
  {
   "cell_type": "code",
   "execution_count": 33,
   "metadata": {},
   "outputs": [
    {
     "data": {
      "application/vnd.jupyter.widget-view+json": {
       "model_id": "e13ae6a48f6a4a4ba6fb31d3dcebe6e4",
       "version_major": 2,
       "version_minor": 0
      },
      "text/plain": [
       "Canvas(height=200, width=200)"
      ]
     },
     "metadata": {},
     "output_type": "display_data"
    }
   ],
   "source": [
    "canvas = Canvas(width=200, height=200)\n",
    "\n",
    "canvas.stroke_style = 'blue'\n",
    "canvas.stroke_line(0, 0, 150, 150)\n",
    "\n",
    "canvas.stroke_style = 'red'\n",
    "canvas.stroke_line(200, 0, 0, 200)\n",
    "\n",
    "canvas.stroke_style = 'green'\n",
    "canvas.stroke_line(150, 150, 0, 200)\n",
    "\n",
    "display(canvas)"
   ]
  },
  {
   "cell_type": "code",
   "execution_count": 6,
   "metadata": {},
   "outputs": [
    {
     "data": {
      "application/vnd.jupyter.widget-view+json": {
       "model_id": "a0927b74cdcb4537bd1ea8adb87089fa",
       "version_major": 2,
       "version_minor": 0
      },
      "text/plain": [
       "Canvas(height=50, width=400)"
      ]
     },
     "metadata": {},
     "output_type": "display_data"
    }
   ],
   "source": [
    "canvas = Canvas(width=400, height=50)\n",
    "\n",
    "canvas.font = '32px serif'\n",
    "canvas.stroke_text('Hello There!', 10, 32)\n",
    "display(canvas)"
   ]
  },
  {
   "cell_type": "code",
   "execution_count": 7,
   "metadata": {},
   "outputs": [
    {
     "data": {
      "application/vnd.jupyter.widget-view+json": {
       "model_id": "b2aff1f7f1b14289a2c98cc98f71b4a6",
       "version_major": 2,
       "version_minor": 0
      },
      "text/plain": [
       "Canvas()"
      ]
     },
     "metadata": {},
     "output_type": "display_data"
    }
   ],
   "source": [
    "from ipywidgets import Image\n",
    "\n",
    "sprite1 = Image.from_file('img/dog.png')\n",
    "canvas = Canvas()\n",
    "canvas.draw_image(sprite1, 0, 0)\n",
    "canvas.fill_style='white'\n",
    "canvas.fill_circle(140,90,10)   #add a mouth\n",
    "display(canvas)"
   ]
  },
  {
   "cell_type": "code",
   "execution_count": 36,
   "metadata": {},
   "outputs": [
    {
     "data": {
      "application/vnd.jupyter.widget-view+json": {
       "model_id": "fdd2d163d35e4818a413a9fc61689470",
       "version_major": 2,
       "version_minor": 0
      },
      "text/plain": [
       "Canvas()"
      ]
     },
     "metadata": {},
     "output_type": "display_data"
    }
   ],
   "source": [
    "#animation\n",
    "\n",
    "from time import sleep\n",
    "\n",
    "from ipycanvas import  hold_canvas\n",
    "\n",
    "canvas = Canvas()\n",
    "display(canvas)\n",
    "\n",
    "steps_number = 200\n",
    "canvas.stroke_style = 'blue'  #set the pen color\n",
    "\n",
    "for i in range(steps_number):\n",
    "    with hold_canvas(canvas):\n",
    "        # Clear the old animation step\n",
    "        canvas.clear()\n",
    "        # redraw the line\n",
    "        canvas.stroke_line(i, 0, i, 150)\n",
    "        \n",
    "    sleep(0.01)"
   ]
  },
  {
   "cell_type": "code",
   "execution_count": 23,
   "metadata": {},
   "outputs": [
    {
     "data": {
      "application/vnd.jupyter.widget-view+json": {
       "model_id": "9beb23a8fcd44efd9e341e161661e65e",
       "version_major": 2,
       "version_minor": 0
      },
      "text/plain": [
       "Canvas(height=300, width=300)"
      ]
     },
     "metadata": {},
     "output_type": "display_data"
    }
   ],
   "source": [
    "#click in canvas to draw a line\n",
    "canvas = Canvas(width=300, height=300)\n",
    "display(canvas)\n",
    "\n",
    "def handle_mouse_down(x, y):\n",
    "    canvas.stroke_line(x, y, x, y+50)\n",
    "    pass\n",
    "\n",
    "canvas.on_mouse_down(handle_mouse_down)"
   ]
  },
  {
   "cell_type": "code",
   "execution_count": 6,
   "metadata": {},
   "outputs": [
    {
     "data": {
      "application/vnd.jupyter.widget-view+json": {
       "model_id": "b2ff724135d6476db37bb7e499539040",
       "version_major": 2,
       "version_minor": 0
      },
      "text/plain": [
       "Canvas(height=300, width=300)"
      ]
     },
     "metadata": {},
     "output_type": "display_data"
    }
   ],
   "source": [
    "#move mouse within canvas to draw\n",
    "canvas = Canvas(width=300, height=300)\n",
    "canvas.fill_style='yellow'\n",
    "display(canvas)\n",
    "\n",
    "def handle_mouse_move(x, y):\n",
    "    canvas.stroke_style='gray'\n",
    "    canvas.stroke_line(0,0,x, y)\n",
    "    canvas.fill_style='yellow'\n",
    "    canvas.fill_circle(x,y,5)   \n",
    "\n",
    "\n",
    "def handle_mouse_out(x,y):\n",
    "    canvas.clear()\n",
    "    \n",
    "canvas.on_mouse_move(handle_mouse_move)\n",
    "canvas.on_mouse_out(handle_mouse_out)"
   ]
  },
  {
   "cell_type": "code",
   "execution_count": 5,
   "metadata": {},
   "outputs": [
    {
     "data": {
      "application/vnd.jupyter.widget-view+json": {
       "model_id": "cb968324879d416aa7c3d4199a60e9bc",
       "version_major": 2,
       "version_minor": 0
      },
      "text/plain": [
       "Canvas(height=200, width=200)"
      ]
     },
     "metadata": {},
     "output_type": "display_data"
    }
   ],
   "source": [
    "def handle_mouse_down(x, y):\n",
    "    if (x < canvas_width/2):\n",
    "        canvas.fill_style = 'red'\n",
    "    else:\n",
    "        canvas.fill_style = 'blue'\n",
    "    canvas.fill_circle(x,y,5)\n",
    "\n",
    "\n",
    "#click on left or right side\n",
    "canvas_width=200\n",
    "canvas_height=200\n",
    "\n",
    "canvas = Canvas(width=canvas_width, height=canvas_height)\n",
    "canvas.stroke_style='black'\n",
    "canvas.stroke_rect(0,0,canvas_width,canvas_height)\n",
    "canvas.stroke_style='green'\n",
    "canvas.stroke_line(canvas_width/2,0,canvas_width/2, canvas_height)\n",
    "        \n",
    "display(canvas) \n",
    "canvas.on_mouse_down(handle_mouse_down)"
   ]
  },
  {
   "cell_type": "code",
   "execution_count": 4,
   "metadata": {},
   "outputs": [
    {
     "data": {
      "application/vnd.jupyter.widget-view+json": {
       "model_id": "e59eae52baec45198b203141dad1e2cd",
       "version_major": 2,
       "version_minor": 0
      },
      "text/plain": [
       "Canvas(height=300, width=300)"
      ]
     },
     "metadata": {},
     "output_type": "display_data"
    },
    {
     "data": {
      "application/vnd.jupyter.widget-view+json": {
       "model_id": "049a9719c9db461e8d7814b15fd7d666",
       "version_major": 2,
       "version_minor": 0
      },
      "text/plain": [
       "interactive(children=(IntSlider(value=55, description='size', min=10, step=5), IntSlider(value=50, description…"
      ]
     },
     "metadata": {},
     "output_type": "display_data"
    }
   ],
   "source": [
    "import ipywidgets as widgets\n",
    "from IPython.display import display\n",
    "from ipywidgets import interact, interactive, fixed, interact_manual\n",
    "\n",
    "canvas = Canvas(width=300,height=300)\n",
    "display(canvas)\n",
    "\n",
    "@interact_manual\n",
    "def squareWidgetsUI(size=(10,100,5), \n",
    "                    x=(0,100,1), \n",
    "                    y=(0,100,1)):\n",
    "  canvas.clear()\n",
    "  canvas.fill_style = 'green'\n",
    "  canvas.fill_rect(x, y, size)\n",
    "        \n",
    " "
   ]
  },
  {
   "cell_type": "code",
   "execution_count": 3,
   "metadata": {},
   "outputs": [
    {
     "data": {
      "application/vnd.jupyter.widget-view+json": {
       "model_id": "596c951752ec4b6986eb30174075f168",
       "version_major": 2,
       "version_minor": 0
      },
      "text/plain": [
       "Canvas(height=200, width=200)"
      ]
     },
     "metadata": {},
     "output_type": "display_data"
    }
   ],
   "source": [
    "#falling ball\n",
    "\n",
    "from time import sleep\n",
    "from ipycanvas import  hold_canvas\n",
    "\n",
    "canvas_width=200\n",
    "canvas_height=200\n",
    "dot_width=5\n",
    "dot_y = 0\n",
    "dot_x = canvas_width/2\n",
    "\n",
    "canvas = Canvas(width=canvas_width, height=canvas_height)\n",
    "display(canvas)\n",
    "\n",
    "while(dot_y+dot_width < canvas_height):\n",
    "    with hold_canvas(canvas):\n",
    "        # Clear the old animation step\n",
    "        canvas.clear()\n",
    "        canvas.stroke_style='black'\n",
    "        canvas.stroke_rect(0,0,canvas_width,canvas_height)\n",
    "\n",
    "        #gravity\n",
    "        canvas.fill_style='red'\n",
    "        canvas.fill_circle(dot_x,dot_y,dot_width) \n",
    "        dot_y += 1\n",
    "        \n",
    "        #pause before next iteration\n",
    "        sleep(0.01)\n",
    "    \n",
    "canvas.font = '16px serif'\n",
    "canvas.stroke_text('All done!', canvas_width/3, canvas_height/2)"
   ]
  },
  {
   "cell_type": "code",
   "execution_count": null,
   "metadata": {},
   "outputs": [],
   "source": []
  },
  {
   "cell_type": "code",
   "execution_count": null,
   "metadata": {},
   "outputs": [],
   "source": []
  }
 ],
 "metadata": {
  "kernelspec": {
   "display_name": "Python 3",
   "language": "python",
   "name": "python3"
  },
  "language_info": {
   "codemirror_mode": {
    "name": "ipython",
    "version": 3
   },
   "file_extension": ".py",
   "mimetype": "text/x-python",
   "name": "python",
   "nbconvert_exporter": "python",
   "pygments_lexer": "ipython3",
   "version": "3.6.9"
  }
 },
 "nbformat": 4,
 "nbformat_minor": 2
}
