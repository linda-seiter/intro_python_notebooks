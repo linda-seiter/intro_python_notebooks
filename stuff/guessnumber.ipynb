{
 "cells": [
  {
   "cell_type": "code",
   "execution_count": 1,
   "metadata": {},
   "outputs": [],
   "source": [
    "from random import randint\n",
    "\n",
    "def GuessNumber(maxGuesses=5):\n",
    "    randnumb = randint(1,100)\n",
    "    print(\"hint:\",randnumb)\n",
    "    # a logical flag to check whether user guessed the number or not - at the end of all guesses\n",
    "    user_won = False\n",
    "    i=0\n",
    "    while i<maxGuesses and not user_won:\n",
    "        personInput = int(input('What is your guess? '))\n",
    "        if personInput == randnumb:\n",
    "            print()\n",
    "            print('You won! It took you {} guess(es).'.format(i+1))\n",
    "            user_won = True    \n",
    "\n",
    "        elif personInput > randnumb:\n",
    "            print('Guess lower, {} guess(es) left.'.format(maxGuesses-i-1))\n",
    "            print()\n",
    "\n",
    "        else:\n",
    "            print('Guess higher, {} guess(es) left.'.format(maxGuesses-i-1))\n",
    "            print()\n",
    "        i=i+1\n",
    "        \n",
    "\n",
    "    # if user did not guess the number in all guesses\n",
    "    if not user_won:\n",
    "            print()\n",
    "            print('You lost! You ran out of your guesses!')\n",
    "            print('The answer was', randnumb, '!')"
   ]
  },
  {
   "cell_type": "code",
   "execution_count": 2,
   "metadata": {},
   "outputs": [
    {
     "name": "stdout",
     "output_type": "stream",
     "text": [
      "hint: 91\n",
      "What is your guess? 7\n",
      "Guess higher, 4 guess(es) left.\n",
      "\n",
      "What is your guess? 3\n",
      "Guess higher, 3 guess(es) left.\n",
      "\n",
      "What is your guess? 5\n",
      "Guess higher, 2 guess(es) left.\n",
      "\n",
      "What is your guess? 3\n",
      "Guess higher, 1 guess(es) left.\n",
      "\n",
      "What is your guess? 8\n",
      "Guess higher, 0 guess(es) left.\n",
      "\n",
      "\n",
      "You lost! You ran out of your guesses!\n",
      "The answer was 91 !\n"
     ]
    }
   ],
   "source": [
    "GuessNumber()"
   ]
  },
  {
   "cell_type": "code",
   "execution_count": null,
   "metadata": {},
   "outputs": [],
   "source": []
  }
 ],
 "metadata": {
  "kernelspec": {
   "display_name": "Python 3",
   "language": "python",
   "name": "python3"
  },
  "language_info": {
   "codemirror_mode": {
    "name": "ipython",
    "version": 3
   },
   "file_extension": ".py",
   "mimetype": "text/x-python",
   "name": "python",
   "nbconvert_exporter": "python",
   "pygments_lexer": "ipython3",
   "version": "3.6.9"
  }
 },
 "nbformat": 4,
 "nbformat_minor": 2
}
