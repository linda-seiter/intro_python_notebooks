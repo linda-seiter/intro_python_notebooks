{
 "cells": [
  {
   "cell_type": "code",
   "execution_count": 1,
   "metadata": {},
   "outputs": [],
   "source": [
    "from random import randint\n",
    "from ipythonblocks import BlockGrid\n",
    "from IPython.display import clear_output\n",
    "\n"
   ]
  },
  {
   "cell_type": "code",
   "execution_count": 2,
   "metadata": {},
   "outputs": [],
   "source": [
    "def place_ship(boardsize):\n",
    "    '''\n",
    "    Place a ship randomly on the board\n",
    "    of size boardsize x boardsize.  \n",
    "    Randomly decide whether it is vertical\n",
    "    or horizontal, what length ship, the \n",
    "    placement of the first block, and check\n",
    "    that it will fit on the board.  If not,\n",
    "    adjust the placement.\n",
    "    '''\n",
    "    #Select vertical or horizontal ship\n",
    "    shipdir = randint(0,1)\n",
    "    #random ship length\n",
    "    shiplength = randint(1,boardsize-2)\n",
    "    shipstart = randint(0,boardsize-1)\n",
    "    shipend = shipstart - 1 + shiplength\n",
    "    shipdiff = boardsize - 1 - shipend\n",
    "    if shipdiff < 0:\n",
    "        shipstart += shipdiff\n",
    "        shipend += shipdiff\n",
    "    #print shipdir, shiplength, shipstart, shipend, shipdiff\n",
    "    shipside = randint(0,boardsize-1)\n",
    "    ship = []\n",
    "    if randint(0,1) == 1:\n",
    "        for i in range(shiplength):\n",
    "            ship.append((shipstart+i,shipside))\n",
    "    else:\n",
    "        for i in range(shiplength):\n",
    "            ship.append((shipside,shipstart+i))\n",
    "    return ship\n",
    "\n",
    "BLACK = (0,0,0)\n",
    "RED = (255,0,0)\n",
    "ORANGE = (255,150,0)\n",
    "OCEAN = (13, 123, 234)"
   ]
  },
  {
   "cell_type": "code",
   "execution_count": 3,
   "metadata": {},
   "outputs": [
    {
     "data": {
      "text/html": [
       "<style type=\"text/css\">table.blockgrid {border: none;} .blockgrid tr {border: none;} .blockgrid td {padding: 0px;} #blocks1f1b141d-1db2-41a2-b3c3-561d6e88fc91 td {border: 1px solid white;}</style><table id=\"blocks1f1b141d-1db2-41a2-b3c3-561d6e88fc91\" class=\"blockgrid\"><tbody><tr><td title=\"Index: [0, 0]&#10;Color: (13, 123, 234)\" style=\"width: 20px; height: 20px;background-color: rgb(13, 123, 234);\"></td><td title=\"Index: [0, 1]&#10;Color: (13, 123, 234)\" style=\"width: 20px; height: 20px;background-color: rgb(13, 123, 234);\"></td><td title=\"Index: [0, 2]&#10;Color: (13, 123, 234)\" style=\"width: 20px; height: 20px;background-color: rgb(13, 123, 234);\"></td><td title=\"Index: [0, 3]&#10;Color: (13, 123, 234)\" style=\"width: 20px; height: 20px;background-color: rgb(13, 123, 234);\"></td></tr><tr><td title=\"Index: [1, 0]&#10;Color: (13, 123, 234)\" style=\"width: 20px; height: 20px;background-color: rgb(13, 123, 234);\"></td><td title=\"Index: [1, 1]&#10;Color: (0, 0, 0)\" style=\"width: 20px; height: 20px;background-color: rgb(0, 0, 0);\"></td><td title=\"Index: [1, 2]&#10;Color: (13, 123, 234)\" style=\"width: 20px; height: 20px;background-color: rgb(13, 123, 234);\"></td><td title=\"Index: [1, 3]&#10;Color: (13, 123, 234)\" style=\"width: 20px; height: 20px;background-color: rgb(13, 123, 234);\"></td></tr><tr><td title=\"Index: [2, 0]&#10;Color: (13, 123, 234)\" style=\"width: 20px; height: 20px;background-color: rgb(13, 123, 234);\"></td><td title=\"Index: [2, 1]&#10;Color: (13, 123, 234)\" style=\"width: 20px; height: 20px;background-color: rgb(13, 123, 234);\"></td><td title=\"Index: [2, 2]&#10;Color: (0, 0, 0)\" style=\"width: 20px; height: 20px;background-color: rgb(0, 0, 0);\"></td><td title=\"Index: [2, 3]&#10;Color: (0, 0, 0)\" style=\"width: 20px; height: 20px;background-color: rgb(0, 0, 0);\"></td></tr><tr><td title=\"Index: [3, 0]&#10;Color: (255, 150, 0)\" style=\"width: 20px; height: 20px;background-color: rgb(255, 150, 0);\"></td><td title=\"Index: [3, 1]&#10;Color: (255, 0, 0)\" style=\"width: 20px; height: 20px;background-color: rgb(255, 0, 0);\"></td><td title=\"Index: [3, 2]&#10;Color: (13, 123, 234)\" style=\"width: 20px; height: 20px;background-color: rgb(13, 123, 234);\"></td><td title=\"Index: [3, 3]&#10;Color: (13, 123, 234)\" style=\"width: 20px; height: 20px;background-color: rgb(13, 123, 234);\"></td></tr></tbody></table>"
      ],
      "text/plain": [
       "<IPython.core.display.HTML object>"
      ]
     },
     "metadata": {},
     "output_type": "display_data"
    },
    {
     "name": "stdout",
     "output_type": "stream",
     "text": [
      "Sorry, you are out of turns.  Game Over.\n"
     ]
    }
   ],
   "source": [
    "print (\"Lets play Battleship!\")\n",
    "boardsize = int(input(\"How big should the ocean be? (Enter an integer from 4 to 20)\"))\n",
    "nturns = int(input(\"How many shots would you like?\"))\n",
    "\n",
    "board = BlockGrid(boardsize, boardsize, fill=OCEAN)\n",
    "board.show()\n",
    "\n",
    "ship = place_ship(boardsize)\n",
    "nhits = 0\n",
    "\n",
    "for turn in range(nturns):\n",
    "    #print ship\n",
    "    guess_row = int(input(\"Guess Row:\"))\n",
    "    guess_col = int(input(\"Guess Col:\"))\n",
    "    \n",
    "    if (guess_row < 0 or guess_row >= board.height) or (guess_col < 0 or guess_col >= board.width):\n",
    "        clear_output()\n",
    "        board.show()\n",
    "        print (\"Oops, that's not even in the ocean.\")\n",
    "    else:\n",
    "        guessblock = board[guess_row,guess_col]\n",
    "        if (guess_row,guess_col) in ship:\n",
    "            clear_output()\n",
    "            board[guess_row,guess_col] = RED\n",
    "            board.show()\n",
    "            print (\"It's a hit!\")\n",
    "            nhits += 1          \n",
    "        elif (guessblock.red,guessblock.green,guessblock.blue) == BLACK or (guessblock.red,guessblock.green,guessblock.blue) == RED:\n",
    "            clear_output()\n",
    "            board.show()\n",
    "            print (\"You guessed that one already.\")\n",
    "        else:\n",
    "            clear_output()\n",
    "            board[guess_row,guess_col] = BLACK\n",
    "            board.show()\n",
    "            print (\"You missed my battleship!\"  )      \n",
    "\n",
    "    if nhits == len(ship):\n",
    "        clear_output()\n",
    "        board[guess_row,guess_col] = RED\n",
    "        board.show()\n",
    "        print (\"Congratulations! You sunk my battleship!\")\n",
    "        break\n",
    "\n",
    "    if turn+1 == nturns:\n",
    "        clear_output()\n",
    "        #Reveal location of ship in yellow\n",
    "        for block in ship:\n",
    "            current = board[block[0],block[1]]\n",
    "            if (current.red,current.green,current.blue) == RED:\n",
    "                pass\n",
    "            else:\n",
    "                board[block[0],block[1]] = ORANGE\n",
    "        board.show()\n",
    "        print (\"Sorry, you are out of turns.  Game Over.\")\n",
    "    else:\n",
    "        print (\"Remaining turns: \",nturns-1-turn)"
   ]
  },
  {
   "cell_type": "code",
   "execution_count": null,
   "metadata": {},
   "outputs": [],
   "source": []
  }
 ],
 "metadata": {
  "kernelspec": {
   "display_name": "Python 3",
   "language": "python",
   "name": "python3"
  },
  "language_info": {
   "codemirror_mode": {
    "name": "ipython",
    "version": 3
   },
   "file_extension": ".py",
   "mimetype": "text/x-python",
   "name": "python",
   "nbconvert_exporter": "python",
   "pygments_lexer": "ipython3",
   "version": "3.6.9"
  }
 },
 "nbformat": 4,
 "nbformat_minor": 2
}
