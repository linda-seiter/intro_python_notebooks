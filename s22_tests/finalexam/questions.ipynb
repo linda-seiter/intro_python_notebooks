{
 "cells": [
  {
   "cell_type": "code",
   "execution_count": 6,
   "metadata": {},
   "outputs": [
    {
     "name": "stdout",
     "output_type": "stream",
     "text": [
      "40\n",
      "12\n"
     ]
    }
   ],
   "source": [
    "nums = [30, 22, 40, 66, 12, 99, 100 ]\n",
    "\n",
    "for i in range( 2, 6, 2):\n",
    "    \n",
    "    print(nums[i])"
   ]
  },
  {
   "cell_type": "code",
   "execution_count": 38,
   "metadata": {},
   "outputs": [
    {
     "name": "stdout",
     "output_type": "stream",
     "text": [
      "c\n",
      "cd\n",
      "cdef\n",
      "ab\n",
      "f\n"
     ]
    }
   ],
   "source": [
    "str = 'abcdef'\n",
    "\n",
    "print( str[2] )\n",
    "\n",
    "print( str[2:4] )\n",
    "\n",
    "print( str[2: ] )\n",
    "\n",
    "print( str[:2] )\n",
    "\n",
    "print( str[-1] )"
   ]
  },
  {
   "cell_type": "code",
   "execution_count": 10,
   "metadata": {},
   "outputs": [
    {
     "name": "stdout",
     "output_type": "stream",
     "text": [
      "0\n",
      "1\n",
      "2\n"
     ]
    }
   ],
   "source": [
    "nums = [2, 0, 1]\n",
    "\n",
    "for n in range(len(nums)):\n",
    "    \n",
    "    print(n)"
   ]
  },
  {
   "cell_type": "code",
   "execution_count": 40,
   "metadata": {},
   "outputs": [
    {
     "name": "stdout",
     "output_type": "stream",
     "text": [
      "p=1 w=0\n",
      "p=1 w=1\n",
      "p=2 w=0\n",
      "p=2 w=1\n"
     ]
    }
   ],
   "source": [
    "for p in range(1,3):\n",
    "    \n",
    "   for w in range(2):\n",
    "\n",
    "      print('p={} w={}'.format(p,w))"
   ]
  },
  {
   "cell_type": "code",
   "execution_count": 44,
   "metadata": {},
   "outputs": [
    {
     "name": "stdout",
     "output_type": "stream",
     "text": [
      "a=10 b=5\n",
      "a=4 b=7\n"
     ]
    }
   ],
   "source": [
    "def mystery(a, b):\n",
    "    print( 'a={} b={}'.format(a,b) )\n",
    "\n",
    "def test (x, y):\n",
    "    if x + y > 12:\n",
    "        return mystery( y, x )\n",
    "    else:\n",
    "        return mystery( x, y )\n",
    "\n",
    "#Call test function\n",
    "test(5, 10)\n",
    "test(4, 7)"
   ]
  },
  {
   "cell_type": "code",
   "execution_count": 24,
   "metadata": {},
   "outputs": [
    {
     "name": "stdout",
     "output_type": "stream",
     "text": [
      "3\n",
      "7\n",
      "2\n"
     ]
    }
   ],
   "source": [
    "nums = [\n",
    "    [1, 2, 3, 4],\n",
    "    [5, 6, 7],\n",
    "    [8, 9]\n",
    "]\n",
    "\n",
    "print(len(nums))\n",
    "\n",
    "print(nums[1][2])\n",
    "\n",
    "print(len(nums[2]))"
   ]
  },
  {
   "cell_type": "code",
   "execution_count": 25,
   "metadata": {},
   "outputs": [
    {
     "name": "stdout",
     "output_type": "stream",
     "text": [
      "123 True\n",
      "abc False\n",
      "b7 False\n"
     ]
    }
   ],
   "source": [
    "values = ['123', 'abc', 'b7']\n",
    "\n",
    "for val in values:\n",
    "    print( val, val.isdigit() )"
   ]
  },
  {
   "cell_type": "code",
   "execution_count": 37,
   "metadata": {},
   "outputs": [
    {
     "name": "stdout",
     "output_type": "stream",
     "text": [
      "4\n",
      "fred\n",
      "4\n",
      "8\n",
      "-1\n"
     ]
    }
   ],
   "source": [
    "str = 'fred,sue,al,'\n",
    "\n",
    "comma = str.find(',')\n",
    "print( comma )\n",
    "\n",
    "print( str[:comma])\n",
    "\n",
    "print( str.find(',',comma) )\n",
    "\n",
    "print( str.find(',', comma+1) )\n",
    "\n",
    "print( str.find(';') )\n"
   ]
  },
  {
   "cell_type": "code",
   "execution_count": 7,
   "metadata": {},
   "outputs": [
    {
     "name": "stdout",
     "output_type": "stream",
     "text": [
      "9.5\n",
      "4\n",
      "1\n",
      "4\n",
      "-1\n"
     ]
    }
   ],
   "source": [
    "print (19 / 2)\n",
    "\n",
    "print( 19 % 5)\n",
    "\n",
    "print( 8 // 5)\n",
    "\n",
    "str = 'fred,sue,'\n",
    "\n",
    "print( str.find(',') )\n",
    "\n",
    "print( str.find(';') )"
   ]
  }
 ],
 "metadata": {
  "kernelspec": {
   "display_name": "Python 3",
   "language": "python",
   "name": "python3"
  },
  "language_info": {
   "codemirror_mode": {
    "name": "ipython",
    "version": 3
   },
   "file_extension": ".py",
   "mimetype": "text/x-python",
   "name": "python",
   "nbconvert_exporter": "python",
   "pygments_lexer": "ipython3",
   "version": "3.6.9"
  }
 },
 "nbformat": 4,
 "nbformat_minor": 2
}
