{
 "cells": [
  {
   "cell_type": "code",
   "execution_count": 1,
   "metadata": {},
   "outputs": [],
   "source": [
    "'''\n",
    "Task1a\n",
    "'''\n",
    "\n",
    "def digits_char_digits(str, char):\n",
    "    index_char = str.find(char)\n",
    "    if index_char == -1:\n",
    "        return False\n",
    "    before = str[:index_char]\n",
    "    after = str[index_char+1:]\n",
    "    return before.isdigit() and after.isdigit()\n",
    "\n",
    "#Test cases\n",
    "assert(digits_char_digits('3+7',    '+') == True)\n",
    "assert(digits_char_digits('987-12', '-') == True)\n",
    "assert(digits_char_digits('9?434',  '*') == False) #missing *\n",
    "assert(digits_char_digits('12+',    '+') == False) #no digits after +\n",
    "assert(digits_char_digits('*4',     '*') == False) #no digits before *\n",
    "assert(digits_char_digits('4*9p',   '*') == False) #nondigit after *\n",
    "assert(digits_char_digits('z+12',   '+') == False) #nondigit before +\n",
    "\n",
    "\n"
   ]
  },
  {
   "cell_type": "code",
   "execution_count": 2,
   "metadata": {},
   "outputs": [
    {
     "name": "stdout",
     "output_type": "stream",
     "text": [
      "Tests passed\n"
     ]
    }
   ],
   "source": [
    "'''\n",
    "Task1b\n",
    "'''\n",
    "\n",
    "def is_math_expression(str):\n",
    "    operators = '*/+-'\n",
    "    for op in operators:\n",
    "        if digits_char_digits(str,op):\n",
    "            return True\n",
    "    return False\n",
    "\n",
    "\n",
    "#Test cases\n",
    "assert(is_math_expression('3+72') == True) #digits+digits\n",
    "assert(is_math_expression('12-9') == True) #digits-digits\n",
    "assert(is_math_expression('12*7123') == True) #digits*digits\n",
    "assert(is_math_expression('555/3')   == True) #digits/digits\n",
    "\n",
    "assert(is_math_expression('12349') == False) #missing math operator\n",
    "assert(is_math_expression('12?49') == False) #missing math operator\n",
    "assert(is_math_expression('12/') == False) #no digit after operator\n",
    "assert(is_math_expression('+45') == False) #no digit before operator\n",
    "assert(is_math_expression('a*7') == False) #non digit before operator\n",
    "assert(is_math_expression('8-74p') == False) #non digit after operator\n",
    "print('Tests passed')\n",
    "\n",
    "\n"
   ]
  },
  {
   "cell_type": "code",
   "execution_count": 3,
   "metadata": {},
   "outputs": [
    {
     "name": "stdout",
     "output_type": "stream",
     "text": [
      "Texted Fred 2 times\n",
      "Texted Sue 4 times\n",
      "Texted Taylor 1 times\n",
      "Texted Al 0 times\n"
     ]
    }
   ],
   "source": [
    "'''\n",
    "Task2 require this version\n",
    "'''\n",
    "\n",
    "friends = ['Fred', 'Sue', 'Taylor', 'Al']\n",
    "text_history = ['Sue', 'Fred', 'Fred', 'Sue', 'Sue', 'Sue', 'Taylor']\n",
    "\n",
    "for friend in friends:\n",
    "    num_texts = 0\n",
    "    for text in text_history:\n",
    "        if text == friend:\n",
    "            num_texts += 1\n",
    "    print('Texted {} {} times'.format(friend, num_texts))"
   ]
  },
  {
   "cell_type": "code",
   "execution_count": 4,
   "metadata": {},
   "outputs": [
    {
     "name": "stdout",
     "output_type": "stream",
     "text": [
      "Texted Fred 2 times\n",
      "Texted Sue 4 times\n",
      "Texted Taylor 1 times\n",
      "Texted Al 0 times\n"
     ]
    }
   ],
   "source": [
    "'''\n",
    "Task2  NOT THIS VERSION\n",
    "'''\n",
    "\n",
    "friends = ['Fred', 'Sue', 'Taylor', 'Al']\n",
    "text_history = ['Sue', 'Fred', 'Fred', 'Sue', 'Sue', 'Sue', 'Taylor']\n",
    "\n",
    "for friend in friends:\n",
    "    num_texts = text_history.count(friend)\n",
    "    print('Texted {} {} times'.format(friend, num_texts))"
   ]
  },
  {
   "cell_type": "code",
   "execution_count": 5,
   "metadata": {},
   "outputs": [
    {
     "name": "stdout",
     "output_type": "stream",
     "text": [
      "Tests passed\n"
     ]
    }
   ],
   "source": [
    "'''\n",
    "Task3\n",
    "'''\n",
    "\n",
    "def get_parity(list):\n",
    "    result_list = []\n",
    "    for num in list:\n",
    "        if num %2 == 0:\n",
    "            result_list.append('even')\n",
    "        else:\n",
    "            result_list.append('odd')\n",
    "    return result_list\n",
    "\n",
    "\n",
    "#Test cases\n",
    "list_a = [5, 0, 2, 3]\n",
    "assert( get_parity(list_a) == ['odd','even','even','odd'] )\n",
    "assert( list_a == [5, 0, 2, 3] )  #function did not change list_a values\n",
    "\n",
    "list_b = [8, 4, 1]\n",
    "assert( get_parity(list_b) == ['even','even','odd'] )\n",
    "assert( list_b == [8, 4, 1] )  #function did not change list_b values\n",
    "\n",
    "\n",
    "print('Tests passed')"
   ]
  }
 ],
 "metadata": {
  "kernelspec": {
   "display_name": "Python 3",
   "language": "python",
   "name": "python3"
  },
  "language_info": {
   "codemirror_mode": {
    "name": "ipython",
    "version": 3
   },
   "file_extension": ".py",
   "mimetype": "text/x-python",
   "name": "python",
   "nbconvert_exporter": "python",
   "pygments_lexer": "ipython3",
   "version": "3.6.9"
  }
 },
 "nbformat": 4,
 "nbformat_minor": 2
}
