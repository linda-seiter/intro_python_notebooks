{
 "cells": [
  {
   "cell_type": "code",
   "execution_count": null,
   "metadata": {},
   "outputs": [],
   "source": [
    "'''\n",
    "Task1a\n",
    "'''\n",
    "\n",
    "#Write digits_char_digits function here\n",
    "\n",
    "\n",
    "\n",
    "#Test cases\n",
    "assert(digits_char_digits('3+7',    '+') == True)\n",
    "assert(digits_char_digits('987-12', '-') == True)\n",
    "assert(digits_char_digits('9?434',  '*') == False) #missing *\n",
    "assert(digits_char_digits('12+',    '+') == False) #no digits after +\n",
    "assert(digits_char_digits('*4',     '*') == False) #no digits before *\n",
    "assert(digits_char_digits('4*9p',   '*') == False) #nondigit after *\n",
    "assert(digits_char_digits('z+12',   '+') == False) #nondigit before +\n"
   ]
  },
  {
   "cell_type": "code",
   "execution_count": null,
   "metadata": {},
   "outputs": [],
   "source": [
    "'''\n",
    "Task1b\n",
    "'''\n",
    "\n",
    "#Write is_math_expression function here\n",
    "\n",
    "\n",
    "\n",
    "\n",
    "\n",
    "#Test cases\n",
    "assert(is_math_expression('3+72') == True) #digits+digits\n",
    "assert(is_math_expression('12-9') == True) #digits-digits\n",
    "assert(is_math_expression('12*7123') == True) #digits*digits\n",
    "assert(is_math_expression('555/3')   == True) #digits/digits\n",
    "\n",
    "assert(is_math_expression('12349') == False) #missing math operator\n",
    "assert(is_math_expression('12?49') == False) #missing math operator\n",
    "assert(is_math_expression('12/') == False) #no digit after operator\n",
    "assert(is_math_expression('+45') == False) #no digit before operator\n",
    "assert(is_math_expression('a*7') == False) #non digit before operator\n",
    "assert(is_math_expression('8-74p') == False) #non digit after operator\n",
    "print('Tests passed')\n",
    "\n",
    "\n"
   ]
  },
  {
   "cell_type": "code",
   "execution_count": null,
   "metadata": {},
   "outputs": [],
   "source": [
    "'''\n",
    "Task2\n",
    "'''\n",
    "\n",
    "friends = ['Fred', 'Sue', 'Taylor', 'Al']\n",
    "text_history = ['Sue', 'Fred', 'Fred', 'Sue', 'Sue', 'Sue', 'Taylor']\n",
    "\n",
    "#Write your code here\n",
    "\n"
   ]
  },
  {
   "cell_type": "code",
   "execution_count": null,
   "metadata": {},
   "outputs": [],
   "source": [
    "'''\n",
    "Task3\n",
    "'''\n",
    "\n",
    "#Write get_parity function here\n",
    "\n",
    "\n",
    "\n",
    "\n",
    "#Test cases\n",
    "list_a = [5, 0, 2, 3]\n",
    "assert( get_parity(list_a) == ['odd','even','even','odd'] )\n",
    "assert( list_a == [5, 0, 2, 3] )  #function did not change list_a values\n",
    "\n",
    "list_b = [8, 4, 1]\n",
    "assert( get_parity(list_b) == ['even','even','odd'] )\n",
    "assert( list_b == [8, 4, 1] )  #function did not change list_b values\n",
    "\n",
    "\n",
    "print('Tests passed')\n"
   ]
  }
 ],
 "metadata": {
  "kernelspec": {
   "display_name": "Python 3",
   "language": "python",
   "name": "python3"
  },
  "language_info": {
   "codemirror_mode": {
    "name": "ipython",
    "version": 3
   },
   "file_extension": ".py",
   "mimetype": "text/x-python",
   "name": "python",
   "nbconvert_exporter": "python",
   "pygments_lexer": "ipython3",
   "version": "3.6.9"
  }
 },
 "nbformat": 4,
 "nbformat_minor": 2
}
