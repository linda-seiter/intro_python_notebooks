{
 "cells": [
  {
   "cell_type": "code",
   "execution_count": 4,
   "metadata": {},
   "outputs": [],
   "source": [
    "import random\n",
    "import math\n"
   ]
  },
  {
   "cell_type": "code",
   "execution_count": 2,
   "metadata": {
    "scrolled": true
   },
   "outputs": [
    {
     "name": "stdout",
     "output_type": "stream",
     "text": [
      "hours worked?35\n",
      "base hourly pay?20\n",
      "35 base hours at $20 = $700\n",
      "0 overtime hours at $30.0 = $0.0\n"
     ]
    }
   ],
   "source": [
    "'''\n",
    "Task1\n",
    "'''\n",
    "total_hours = int(input('hours worked?'))\n",
    "base_rate = int(input('base hourly pay?'))\n",
    "overtime_rate = base_rate * 1.5\n",
    "if total_hours > 40:\n",
    "    overtime_hours = total_hours - 40\n",
    "    base_hours = 40\n",
    "else:\n",
    "    overtime_hours = 0\n",
    "    base_hours = total_hours\n",
    "base_pay = base_rate * base_hours\n",
    "overtime_pay = overtime_hours * overtime_rate\n",
    "print('{} base hours at ${} = ${}'.format(base_hours, base_rate, base_pay ))\n",
    "print('{} overtime hours at ${} = ${}'.format(overtime_hours, overtime_rate, overtime_pay))"
   ]
  },
  {
   "cell_type": "code",
   "execution_count": 14,
   "metadata": {
    "scrolled": false
   },
   "outputs": [
    {
     "name": "stdout",
     "output_type": "stream",
     "text": [
      "what is the knockout number:8\n",
      "1. You rolled 1 and 4.  Sum of current roll is 5\n",
      "SCORE: 5\n",
      "2. You rolled 3 and 3.  Sum of current roll is 6\n",
      "SCORE: 11\n",
      "3. You rolled 6 and 2.  Sum of current roll is 8\n",
      "KNOCKOUT, you lose your points\n",
      "4. You rolled 1 and 6.  Sum of current roll is 7\n",
      "SCORE: 7\n",
      "5. You rolled 2 and 2.  Sum of current roll is 4\n",
      "SCORE: 11\n",
      "6. You rolled 5 and 2.  Sum of current roll is 7\n",
      "SCORE: 18\n",
      "7. You rolled 4 and 1.  Sum of current roll is 5\n",
      "SCORE: 23\n",
      "8. You rolled 2 and 6.  Sum of current roll is 8\n",
      "KNOCKOUT, you lose your points\n",
      "9. You rolled 4 and 3.  Sum of current roll is 7\n",
      "SCORE: 7\n",
      "10. You rolled 2 and 2.  Sum of current roll is 4\n",
      "SCORE: 11\n"
     ]
    }
   ],
   "source": [
    "'''\n",
    "Task2 \n",
    "'''\n",
    "\n",
    "knockout = int(input('what is the knockout number:'))\n",
    "roll = 1\n",
    "score = 0\n",
    "while roll <= 10:\n",
    "    die1 = random.randint(1,6)\n",
    "    die2 = random.randint(1,6)\n",
    "    sum = die1 + die2\n",
    "    print('{}. You rolled {} and {}.  Sum of current roll is {}'.format(roll,die1, die2, sum))\n",
    "    if sum == knockout:\n",
    "        print('KNOCKOUT, you lose your points')\n",
    "        score = 0\n",
    "    else:\n",
    "        score += sum\n",
    "        print('SCORE: {}'.format(score))\n",
    "    roll += 1"
   ]
  },
  {
   "cell_type": "code",
   "execution_count": null,
   "metadata": {},
   "outputs": [],
   "source": []
  },
  {
   "cell_type": "code",
   "execution_count": null,
   "metadata": {},
   "outputs": [],
   "source": []
  }
 ],
 "metadata": {
  "kernelspec": {
   "display_name": "Python 3",
   "language": "python",
   "name": "python3"
  },
  "language_info": {
   "codemirror_mode": {
    "name": "ipython",
    "version": 3
   },
   "file_extension": ".py",
   "mimetype": "text/x-python",
   "name": "python",
   "nbconvert_exporter": "python",
   "pygments_lexer": "ipython3",
   "version": "3.6.9"
  }
 },
 "nbformat": 4,
 "nbformat_minor": 2
}
