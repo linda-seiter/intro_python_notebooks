{
 "cells": [
  {
   "cell_type": "code",
   "execution_count": 2,
   "metadata": {},
   "outputs": [],
   "source": [
    "import random\n",
    "import math\n"
   ]
  },
  {
   "cell_type": "code",
   "execution_count": 11,
   "metadata": {
    "scrolled": true
   },
   "outputs": [
    {
     "name": "stdout",
     "output_type": "stream",
     "text": [
      "how much have you saved?9500\n",
      "how much is a new car?8800\n",
      "additional savings per month?50\n",
      "Congrats! You have enough for the new car!\n"
     ]
    }
   ],
   "source": [
    "'''\n",
    "Task1\n",
    "'''\n",
    "saved = int(input('how much have you saved?'))\n",
    "car = int(input('how much is a new car?'))\n",
    "increase= int(input('additional savings per month?'))\n",
    "month = 0\n",
    "while saved < car:\n",
    "    saved += increase\n",
    "    month +=1\n",
    "    remaining = car - saved\n",
    "    print('saved ${} after month {}, need to save another ${}'.format( saved, month, remaining))\n",
    "    \n",
    "print('Congrats! You have enough for the new car!')"
   ]
  },
  {
   "cell_type": "code",
   "execution_count": 4,
   "metadata": {
    "scrolled": false
   },
   "outputs": [
    {
     "name": "stdout",
     "output_type": "stream",
     "text": [
      "1. Spiderman\n",
      "2. Superman\n",
      "3. Batman\n",
      "4. Thor\n",
      "5. Ironman\n",
      "6. Batman\n",
      "7. Batman\n",
      "8. Ironman\n",
      "9. Spiderman\n",
      "10. Spiderman\n",
      "5 caped , 5 capeless\n"
     ]
    }
   ],
   "source": [
    "'''\n",
    "Task2 \n",
    "'''\n",
    "caped = 0\n",
    "capeless = 0\n",
    "n = 1\n",
    "while  n <= 10:\n",
    "    hero = random.randint(1,5)\n",
    "    if hero == 1:\n",
    "        print('{}. Batman'.format(n))\n",
    "        caped += 1\n",
    "    elif hero == 2:\n",
    "        print('{}. Superman'.format(n))\n",
    "        caped += 1\n",
    "    elif hero == 3:\n",
    "        print('{}. Thor'.format(n))\n",
    "        caped += 1\n",
    "    elif hero == 4:\n",
    "        print('{}. Spiderman'.format(n))\n",
    "        capeless += 1\n",
    "    else:\n",
    "        print('{}. Ironman'.format(n))\n",
    "        capeless += 1\n",
    "    n += 1\n",
    "    \n",
    "print('{} caped , {} capeless'.format(caped, capeless) )"
   ]
  },
  {
   "cell_type": "code",
   "execution_count": null,
   "metadata": {},
   "outputs": [],
   "source": []
  },
  {
   "cell_type": "code",
   "execution_count": null,
   "metadata": {},
   "outputs": [],
   "source": []
  }
 ],
 "metadata": {
  "kernelspec": {
   "display_name": "Python 3",
   "language": "python",
   "name": "python3"
  },
  "language_info": {
   "codemirror_mode": {
    "name": "ipython",
    "version": 3
   },
   "file_extension": ".py",
   "mimetype": "text/x-python",
   "name": "python",
   "nbconvert_exporter": "python",
   "pygments_lexer": "ipython3",
   "version": "3.6.9"
  }
 },
 "nbformat": 4,
 "nbformat_minor": 2
}
