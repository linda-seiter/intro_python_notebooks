{
 "cells": [
  {
   "cell_type": "code",
   "execution_count": 17,
   "metadata": {},
   "outputs": [],
   "source": [
    "import random"
   ]
  },
  {
   "cell_type": "code",
   "execution_count": 15,
   "metadata": {},
   "outputs": [
    {
     "name": "stdout",
     "output_type": "stream",
     "text": [
      "How fast were you driving?99\n",
      "What is the speed limit?75\n",
      "24 miles over speed limit, lose your license.\n"
     ]
    }
   ],
   "source": [
    "'''\n",
    "Task1\n",
    "'''\n",
    "\n",
    "your_speed = int(input('How fast were you driving?'))\n",
    "speed_limit = int(input('What is the speed limit?'))\n",
    "milesover = your_speed - speed_limit\n",
    "\n",
    "if your_speed <= speed_limit:\n",
    "    print('Not speeding, no ticket.')\n",
    "elif milesover <= 10:\n",
    "    ticket = 10 * milesover\n",
    "    print('{} miles over speed limit, ticket = ${}.'.format(milesover, ticket))\n",
    "elif milesover <= 20:\n",
    "    ticket = 20 * milesover\n",
    "    print('{} miles over speed limit, ticket = ${}.'.format(milesover, ticket))\n",
    "else:\n",
    "    print('{} miles over speed limit, lose your license.'.format(milesover, ticket))"
   ]
  },
  {
   "cell_type": "code",
   "execution_count": 22,
   "metadata": {},
   "outputs": [
    {
     "name": "stdout",
     "output_type": "stream",
     "text": [
      "How much is 7 * 4? 28\n",
      "Correct\n",
      "How much is 8 * 8? 65\n",
      "Incorrect.  The correct answer was 64.\n",
      "How much is 6 * 9? 54\n",
      "Correct\n",
      "How much is 6 * 8? 48\n",
      "Correct\n",
      "You passed the multiplication quiz!\n"
     ]
    }
   ],
   "source": [
    "'''\n",
    "Task2\n",
    "'''\n",
    "count = 0\n",
    "while count < 3:\n",
    "    num1 = random.randint(2,10)\n",
    "    num2 = random.randint(2,10)\n",
    "    actual_solution = num1 * num2\n",
    "    user_answer = int(input('How much is {} * {}? '.format(num1, num2)))\n",
    "    if user_answer == actual_solution:\n",
    "        print('Correct')\n",
    "        count += 1\n",
    "    else:\n",
    "        print('Incorrect.  The correct answer was {}.'.format(actual_solution))\n",
    "        \n",
    "print('You passed the multiplication quiz!')"
   ]
  },
  {
   "cell_type": "code",
   "execution_count": 5,
   "metadata": {},
   "outputs": [
    {
     "name": "stdout",
     "output_type": "stream",
     "text": [
      "x= 2\n",
      "x= 3\n",
      "x= 4\n",
      "x= 5\n"
     ]
    }
   ],
   "source": [
    "x = 1\n",
    "while x < 5:\n",
    "    x += 1\n",
    "    print('x=', x)\n"
   ]
  }
 ],
 "metadata": {
  "kernelspec": {
   "display_name": "Python 3",
   "language": "python",
   "name": "python3"
  },
  "language_info": {
   "codemirror_mode": {
    "name": "ipython",
    "version": 3
   },
   "file_extension": ".py",
   "mimetype": "text/x-python",
   "name": "python",
   "nbconvert_exporter": "python",
   "pygments_lexer": "ipython3",
   "version": "3.6.9"
  }
 },
 "nbformat": 4,
 "nbformat_minor": 2
}
