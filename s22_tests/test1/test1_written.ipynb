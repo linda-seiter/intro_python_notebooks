{
 "cells": [
  {
   "cell_type": "code",
   "execution_count": 29,
   "metadata": {},
   "outputs": [
    {
     "name": "stdout",
     "output_type": "stream",
     "text": [
      "1\n",
      "2\n",
      "4\n",
      "after loop 8\n"
     ]
    }
   ],
   "source": [
    "y = 1\n",
    "while (2*y <= 8):\n",
    "    print(y)\n",
    "    y = y*2\n",
    "print('after loop {}'.format(y))\n",
    "    \n"
   ]
  },
  {
   "cell_type": "code",
   "execution_count": 18,
   "metadata": {},
   "outputs": [
    {
     "name": "stdout",
     "output_type": "stream",
     "text": [
      "n 1, m 30\n",
      "n 3, m 27\n",
      "n 7, m 20\n",
      "after loop n 15, m 5\n"
     ]
    }
   ],
   "source": [
    "\n",
    "n=1\n",
    "m = 30\n",
    "while (n < m) :\n",
    "    print('n {}, m {}'.format(n,m))\n",
    "    n = n * 2 + 1\n",
    "    m -= n\n",
    "\n",
    "print('after loop n {}, m {}'.format(n,m))\n",
    "    "
   ]
  },
  {
   "cell_type": "code",
   "execution_count": 27,
   "metadata": {},
   "outputs": [
    {
     "name": "stdout",
     "output_type": "stream",
     "text": [
      "2,2.5,22\n"
     ]
    }
   ],
   "source": [
    "num1 = 17 % 3\n",
    "num2 = 5 / 2\n",
    "num3 = 2+5*4\n",
    "print('{},{},{}'.format(num1, num2, num3))\n"
   ]
  },
  {
   "cell_type": "code",
   "execution_count": 1,
   "metadata": {},
   "outputs": [
    {
     "name": "stdout",
     "output_type": "stream",
     "text": [
      "a=1,b=5\n",
      "a=2,b=6\n",
      "a=4,b=7\n",
      "a=5,b=8\n"
     ]
    }
   ],
   "source": [
    "a = 0\n",
    "b = 4\n",
    "while a < 5:\n",
    "    if b % 3 == 0:\n",
    "        a += 2\n",
    "    else:\n",
    "        a += 1\n",
    "    b += 1\n",
    "    print('a={},b={}'.format(a,b))\n",
    "        "
   ]
  },
  {
   "cell_type": "code",
   "execution_count": 36,
   "metadata": {},
   "outputs": [
    {
     "ename": "IndentationError",
     "evalue": "expected an indented block (<ipython-input-36-f297ae508096>, line 6)",
     "output_type": "error",
     "traceback": [
      "\u001b[0;36m  File \u001b[0;32m\"<ipython-input-36-f297ae508096>\"\u001b[0;36m, line \u001b[0;32m6\u001b[0m\n\u001b[0;31m    num3 += num1\u001b[0m\n\u001b[0m       ^\u001b[0m\n\u001b[0;31mIndentationError\u001b[0m\u001b[0;31m:\u001b[0m expected an indented block\n"
     ]
    }
   ],
   "source": [
    "num1 = 4\n",
    "num2 = 6\n",
    "num3 = 5\n",
    "\n",
    "if num2 % num1 > 1:\n",
    "    num3 += num1\n",
    "\n",
    "num3 -= num2\n",
    "print(num3)"
   ]
  }
 ],
 "metadata": {
  "kernelspec": {
   "display_name": "Python 3",
   "language": "python",
   "name": "python3"
  },
  "language_info": {
   "codemirror_mode": {
    "name": "ipython",
    "version": 3
   },
   "file_extension": ".py",
   "mimetype": "text/x-python",
   "name": "python",
   "nbconvert_exporter": "python",
   "pygments_lexer": "ipython3",
   "version": "3.6.9"
  }
 },
 "nbformat": 4,
 "nbformat_minor": 2
}
