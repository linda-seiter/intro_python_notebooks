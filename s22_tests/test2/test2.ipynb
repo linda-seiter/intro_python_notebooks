{
 "cells": [
  {
   "cell_type": "code",
   "execution_count": null,
   "metadata": {},
   "outputs": [],
   "source": [
    "'''\n",
    "Task1 \n",
    "'''\n",
    "\n",
    "\n"
   ]
  },
  {
   "cell_type": "code",
   "execution_count": null,
   "metadata": {},
   "outputs": [],
   "source": [
    "'''\n",
    "Task2 \n",
    "'''\n",
    "\n",
    "#Define free_entrance function here\n",
    "\n",
    "\n",
    "\n",
    "        \n",
    "#Test cases\n",
    "assert(free_entrance( 8, 'Friday' ) == True)   #under 12\n",
    "assert(free_entrance( 70, 'Monday' ) == True)   #over 65 and Monday\n",
    "assert(free_entrance( 66, 'Tuesday' ) == True)   #over 65 and Tuesday\n",
    "assert(free_entrance( 12, 'Tuesday' ) == False) #not under 12 or over 65\n",
    "assert(free_entrance( 65, 'Monday' ) == False) #not under 12 or over 65\n",
    "assert(free_entrance( 60, 'Tuesday' ) == False) #not under 12 or over 65\n",
    "assert(free_entrance( 68, 'Wednesday' ) == False) #over 65 but not Monday or Tuesday\n",
    "\n",
    "\n",
    "print('tests passed')"
   ]
  },
  {
   "cell_type": "code",
   "execution_count": null,
   "metadata": {},
   "outputs": [],
   "source": [
    "'''\n",
    "Task3\n",
    "'''\n",
    "\n",
    "#Define tip_percent function here\n",
    "\n",
    "\n",
    "\n",
    "#Define total_cost function here\n",
    "\n",
    "\n",
    "\n",
    "\n",
    "\n",
    "#Test cases for tip_percent\n",
    "assert(tip_percent(12) == 0.2)\n",
    "assert(tip_percent(10) == 0.2)\n",
    "assert(tip_percent(9) == 0.15)\n",
    "assert(tip_percent(5) == 0.15)\n",
    "\n",
    "\n",
    "#Test cases for total_cost\n",
    "assert(total_cost(12, 100.00, False) == 120.00)  #100.00 + 100.00*0.20 \n",
    "assert(total_cost(12, 100.00, True) == 130.00)  #100.00 + 100.00*0.20 + 10.00 (ocean view charge)\n",
    "assert(total_cost(10, 50.00, False) == 60.00)  #50.00 + 50.00*0.20 \n",
    "assert(total_cost(10, 50.00, True) == 70.00)  #50.00 + 50.00*0.20 + 10.00 (ocean view charge)\n",
    "assert(total_cost(9, 100.00, False) == 115.00)  #100.00 + 100.00*0.15 \n",
    "assert(total_cost(9, 100.00, True) == 125.00)  #100.00 + 100.00*0.15 + 10.00 (ocean view charge)\n",
    "\n",
    "print('tests passed')"
   ]
  },
  {
   "cell_type": "code",
   "execution_count": null,
   "metadata": {},
   "outputs": [],
   "source": []
  }
 ],
 "metadata": {
  "kernelspec": {
   "display_name": "Python 3",
   "language": "python",
   "name": "python3"
  },
  "language_info": {
   "codemirror_mode": {
    "name": "ipython",
    "version": 3
   },
   "file_extension": ".py",
   "mimetype": "text/x-python",
   "name": "python",
   "nbconvert_exporter": "python",
   "pygments_lexer": "ipython3",
   "version": "3.6.9"
  }
 },
 "nbformat": 4,
 "nbformat_minor": 2
}
