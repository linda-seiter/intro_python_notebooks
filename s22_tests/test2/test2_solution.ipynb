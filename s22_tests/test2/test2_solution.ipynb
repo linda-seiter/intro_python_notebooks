{
 "cells": [
  {
   "cell_type": "code",
   "execution_count": 6,
   "metadata": {},
   "outputs": [
    {
     "name": "stdout",
     "output_type": "stream",
     "text": [
      "enter start:4\n",
      "enter  end:13\n",
      "4 6 8 10 12 "
     ]
    }
   ],
   "source": [
    "'''\n",
    "Task1 \n",
    "'''\n",
    "#for loop\n",
    "start = int(input('enter start:'))\n",
    "end = int(input('enter  end:') )\n",
    "if start%2 == 1:\n",
    "    start += 1\n",
    "for i in range(start, end+1,2) :\n",
    "        print(i, end = ' ')\n"
   ]
  },
  {
   "cell_type": "code",
   "execution_count": 3,
   "metadata": {},
   "outputs": [
    {
     "name": "stdout",
     "output_type": "stream",
     "text": [
      "tests passed\n"
     ]
    }
   ],
   "source": [
    "'''\n",
    "Task2 \n",
    "'''\n",
    "\n",
    "\n",
    "def free_entrance(age, day):\n",
    "    if age < 12 or (day == 'Monday' or day == 'Tuesday') and age > 65 :\n",
    "        return True\n",
    "    else:\n",
    "        return False\n",
    "        \n",
    "\n",
    "assert(free_entrance( 8, 'Friday' ) == True)   #under 12\n",
    "assert(free_entrance( 70, 'Monday' ) == True)   #over 65 and Monday\n",
    "assert(free_entrance( 66, 'Tuesday' ) == True)   #over 65 and Tuesday\n",
    "assert(free_entrance( 12, 'Tuesday' ) == False) #not under 12 or over 65\n",
    "assert(free_entrance( 65, 'Monday' ) == False) #not under 12 or over 65\n",
    "assert(free_entrance( 60, 'Tuesday' ) == False) #not under 12 or over 65\n",
    "assert(free_entrance( 68, 'Wednesday' ) == False) #over 65 but not Monday or Tuesday\n",
    "\n",
    "\n",
    "print('tests passed')"
   ]
  },
  {
   "cell_type": "code",
   "execution_count": 3,
   "metadata": {},
   "outputs": [
    {
     "name": "stdout",
     "output_type": "stream",
     "text": [
      "tests passed\n"
     ]
    }
   ],
   "source": [
    "'''\n",
    "Task3\n",
    "'''\n",
    "\n",
    "def tip_percent(people):\n",
    "    if people >= 10:\n",
    "        return 0.20\n",
    "    else:\n",
    "        return 0.15\n",
    "\n",
    "#Test tip_percent\n",
    "assert(tip_percent(12) == 0.2)\n",
    "assert(tip_percent(10) == 0.2)\n",
    "assert(tip_percent(9) == 0.15)\n",
    "assert(tip_percent(5) == 0.15)\n",
    "\n",
    "def total_cost(people, check, ocean_view):\n",
    "    tip = tip_percent(people) * check\n",
    "    total = check + tip\n",
    "    if ocean_view:\n",
    "        total += 10.00\n",
    "    return total\n",
    "  \n",
    "assert(total_cost(12, 100.00, False) == 120.00)  #100.00 + 100.00*0.20 \n",
    "assert(total_cost(12, 100.00, True) == 130.00)  #100.00 + 100.00*0.20 + 10.00 (ocean view charge)\n",
    "assert(total_cost(10, 50.00, False) == 60.00)  #50.00 + 50.00*0.20 \n",
    "assert(total_cost(10, 50.00, True) == 70.00)  #50.00 + 50.00*0.20 + 10.00 (ocean view charge)\n",
    "assert(total_cost(9, 100.00, False) == 115.00)  #100.00 + 100.00*0.15 \n",
    "assert(total_cost(9, 100.00, True) == 125.00)  #100.00 + 100.00*0.15 + 10.00 (ocean view charge)\n",
    "\n",
    "print('tests passed')"
   ]
  },
  {
   "cell_type": "code",
   "execution_count": 5,
   "metadata": {},
   "outputs": [
    {
     "name": "stdout",
     "output_type": "stream",
     "text": [
      "a=7 b=11\n",
      "a=9 b=10\n",
      "a=11 b=9\n"
     ]
    }
   ],
   "source": [
    "a= 5\n",
    "b=12\n",
    "c = 25\n",
    "while ( a < b and a+b < c ): \n",
    "  a += 2\n",
    "  b -= 1\n",
    "  print( 'a={} b={}'.format( a, b ) )\n"
   ]
  },
  {
   "cell_type": "code",
   "execution_count": null,
   "metadata": {},
   "outputs": [],
   "source": [
    "if temperature > 70:\n",
    "    if day == 'Saturday':\n",
    "        print('beach')\n",
    "    elif day == 'Sunday':\n",
    "        print('beach')\n",
    "    else:\n",
    "        print('study')\n",
    "else:\n",
    "    print('study')\n"
   ]
  }
 ],
 "metadata": {
  "kernelspec": {
   "display_name": "Python 3",
   "language": "python",
   "name": "python3"
  },
  "language_info": {
   "codemirror_mode": {
    "name": "ipython",
    "version": 3
   },
   "file_extension": ".py",
   "mimetype": "text/x-python",
   "name": "python",
   "nbconvert_exporter": "python",
   "pygments_lexer": "ipython3",
   "version": "3.6.9"
  }
 },
 "nbformat": 4,
 "nbformat_minor": 2
}
