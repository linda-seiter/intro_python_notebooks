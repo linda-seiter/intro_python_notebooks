{
 "cells": [
  {
   "cell_type": "code",
   "execution_count": null,
   "metadata": {},
   "outputs": [],
   "source": [
    "'''\n",
    "Task1a \n",
    "'''\n",
    "\n",
    "#Add your function here\n",
    "\n",
    "\n",
    "\n",
    "\n",
    "#Test Cases\n",
    "num_list_1 = [7,2,7]\n",
    "num_list_2 = [7,1,2,3]\n",
    "num_list_3 = [9,9]\n",
    "num_list_4 = [7]\n",
    "num_list_5 = ['a','b','c']\n",
    "num_list_6 = ['a','b','c','d','e','a']\n",
    "\n",
    "assert( first_last_same(num_list_1) == True) #start and end with 7\n",
    "assert( first_last_same(num_list_2) == False) #start with 7, ends with 3\n",
    "assert( first_last_same(num_list_3) == True) #start and end with 9\n",
    "assert( first_last_same(num_list_4) == True) #start and end with 7\n",
    "assert( first_last_same(num_list_5) == False) #start with a, end with c\n",
    "assert( first_last_same(num_list_6) == True) #start and end with a\n",
    "print('Task1a tests passed')"
   ]
  },
  {
   "cell_type": "code",
   "execution_count": null,
   "metadata": {},
   "outputs": [],
   "source": [
    "'''\n",
    "Task1b\n",
    "'''\n",
    "\n",
    "#Add your function here\n",
    "\n",
    "\n",
    "\n",
    "\n",
    "#Test Cases\n",
    "num_list_1 = [7,2,9]\n",
    "num_list_2 = [7,1,2,3,4,9]\n",
    "num_list_3 = [1,2,3,4]\n",
    "num_list_4 = [1,4]\n",
    "num_list_5 = [7,5,7]\n",
    "num_list_6 = [7]\n",
    "num_list_7 = [2,4]\n",
    "assert( begin_end_same(num_list_1, num_list_2) == True) #both lists begin with 7 and end with 9\n",
    "assert( begin_end_same(num_list_3, num_list_4) == True) #both lists begin with 1 and end with 4\n",
    "assert( begin_end_same(num_list_5, num_list_6) == True) #both lists begin with 7 and end with 7\n",
    "assert( begin_end_same(num_list_1, num_list_5) == False) #lists end with different values\n",
    "assert( begin_end_same(num_list_4, num_list_7) == False) #lists begin with different values\n",
    "print('Task1b tests passed')"
   ]
  },
  {
   "cell_type": "code",
   "execution_count": null,
   "metadata": {},
   "outputs": [],
   "source": [
    "'''\n",
    "Task2 \n",
    "'''\n",
    "\n",
    "\n",
    "#Add your function here\n",
    "\n",
    "\n",
    "\n",
    "\n",
    "#2 values are between 0 and 5\n",
    "assert( count_in_range([-2, -5, 4, 3, -1, 10], 0, 5) == 2)\n",
    "\n",
    "#0 values are between 10 and 20\n",
    "assert( count_in_range([6,8,3,5], 10, 20) == 0)\n",
    "\n",
    "#4 values are between 80 and 89\n",
    "assert( count_in_range( [90, 78, 85, 92, 80, 87, 85, 75], 80, 89)  == 4)\n",
    "\n",
    "print('Task2 tests passed')"
   ]
  },
  {
   "cell_type": "code",
   "execution_count": null,
   "metadata": {},
   "outputs": [],
   "source": [
    "'''\n",
    "Task3  \n",
    "'''\n",
    "\n",
    "\n",
    "#Add your function here\n",
    "\n",
    "\n",
    "\n",
    "\n",
    "assert( sum_chars (['hi','bye']) == 5)  #5 characters in both words\n",
    "assert( sum_chars (['hi there','hello','huh?']) == 17)  #17 characters in all three words\n",
    "\n",
    "print('Task3 tests passed')"
   ]
  },
  {
   "cell_type": "code",
   "execution_count": null,
   "metadata": {},
   "outputs": [],
   "source": [
    "'''\n",
    "Task4 \n",
    "'''\n",
    "\n",
    "#Add your function here\n",
    "\n",
    "\n",
    "\n",
    "\n",
    "\n",
    "assert( length_longest (['hi','bye']) == 3)  #bye is the longest word with length 3\n",
    "assert( length_longest (['hi there','hello','huh?']) == 8) #'hi there' is longest with length 8\n",
    "print('Task4 tests passed')"
   ]
  },
  {
   "cell_type": "code",
   "execution_count": null,
   "metadata": {},
   "outputs": [],
   "source": [
    "'''\n",
    "Task5 \n",
    "'''\n",
    "\n",
    "#Add your function here\n",
    "\n",
    "\n",
    "\n",
    "\n",
    "\n",
    "\n",
    "list1 = ['hello', 'how', 'is', 'it', 'going']\n",
    "#get a list of words with length greater than 2\n",
    "assert(get_bigger_words(list1, 2)  == ['hello','how','going'])\n",
    "assert(list1 == ['hello', 'how', 'is', 'it', 'going'])  #function should  not change list1\n",
    "\n",
    "\n",
    "list2 = ['haha','how funny','giggle','lol']\n",
    "#get a list of words with length greater than 4\n",
    "assert(get_bigger_words(list2, 4)  == ['how funny','giggle'])\n",
    "assert(list2 ==['haha','how funny','giggle','lol'] )  #funtion should not change list2\n",
    "print('Task5 tests passed')"
   ]
  },
  {
   "cell_type": "code",
   "execution_count": null,
   "metadata": {},
   "outputs": [],
   "source": []
  }
 ],
 "metadata": {
  "kernelspec": {
   "display_name": "Python 3",
   "language": "python",
   "name": "python3"
  },
  "language_info": {
   "codemirror_mode": {
    "name": "ipython",
    "version": 3
   },
   "file_extension": ".py",
   "mimetype": "text/x-python",
   "name": "python",
   "nbconvert_exporter": "python",
   "pygments_lexer": "ipython3",
   "version": "3.6.9"
  }
 },
 "nbformat": 4,
 "nbformat_minor": 2
}
