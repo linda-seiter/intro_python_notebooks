{
 "cells": [
  {
   "cell_type": "code",
   "execution_count": 1,
   "metadata": {},
   "outputs": [
    {
     "name": "stdout",
     "output_type": "stream",
     "text": [
      "Task1a tests passed\n"
     ]
    }
   ],
   "source": [
    "'''\n",
    "Task1a - Create a function named first_last_same that takes a list as \n",
    "a parameter and returns a boolean value indicating whether the first element \n",
    "in the list is the same as the last element in the list.\n",
    "'''\n",
    "\n",
    "def first_last_same(list):\n",
    "    return list[0] == list[len(list)-1]\n",
    "\n",
    "#Test Cases\n",
    "num_list_1 = [7,2,7]\n",
    "num_list_2 = [7,1,2,3]\n",
    "num_list_3 = [9,9]\n",
    "num_list_4 = [7]\n",
    "num_list_5 = ['a','b','c']\n",
    "num_list_6 = ['a','b','c','d','e','a']\n",
    "\n",
    "assert( first_last_same(num_list_1) == True) #start and end with 7\n",
    "assert( first_last_same(num_list_2) == False) #start with 7, ends with 3\n",
    "assert( first_last_same(num_list_3) == True) #start and end with 9\n",
    "assert( first_last_same(num_list_4) == True) #start and end with 7\n",
    "assert( first_last_same(num_list_5) == False) #start with a, end with c\n",
    "assert( first_last_same(num_list_6) == True) #start and end with a\n",
    "print('Task1a tests passed')"
   ]
  },
  {
   "cell_type": "code",
   "execution_count": 2,
   "metadata": {},
   "outputs": [
    {
     "name": "stdout",
     "output_type": "stream",
     "text": [
      "Task1b tests passed\n"
     ]
    }
   ],
   "source": [
    "'''\n",
    "Task1b - Create a function named begin_end_same that takes \n",
    "two lists as parameters and returns a boolean value \n",
    "indicating whether the first elements in both lists are the same\n",
    "and the last elements in both lists are the same.\n",
    "'''\n",
    "\n",
    "def begin_end_same(list1, list2):\n",
    "    return list1[0] == list2[0] and list1[len(list1)-1] == list2[len(list2)-1]\n",
    "\n",
    "#Test Cases\n",
    "num_list_1 = [7,2,9]\n",
    "num_list_2 = [7,1,2,3,4,9]\n",
    "num_list_3 = [1,2,3,4]\n",
    "num_list_4 = [1,4]\n",
    "num_list_5 = [7,5,7]\n",
    "num_list_6 = [7]\n",
    "num_list_7 = [2,4]\n",
    "assert( begin_end_same(num_list_1, num_list_2) == True) #both lists begin with 7 and end with 9\n",
    "assert( begin_end_same(num_list_3, num_list_4) == True) #both lists begin with 1 and end with 4\n",
    "assert( begin_end_same(num_list_5, num_list_6) == True) #both lists begin with 7 and end with 7\n",
    "assert( begin_end_same(num_list_1, num_list_5) == False) #lists end with different values\n",
    "assert( begin_end_same(num_list_4, num_list_7) == False) #lists begin with different values\n",
    "print('Task1b tests passed')"
   ]
  },
  {
   "cell_type": "code",
   "execution_count": 3,
   "metadata": {},
   "outputs": [
    {
     "name": "stdout",
     "output_type": "stream",
     "text": [
      "Task2 tests passed\n"
     ]
    }
   ],
   "source": [
    "'''\n",
    "Task2 - Create a function named count_in_range that takes three parameters:\n",
    "(1) a list, (2) a minimum value, and (3) a maximum value.\n",
    "The function should return a count of the number of list elements \n",
    "with a value between the minimum and maximum (inclusive).\n",
    "'''\n",
    "\n",
    "def count_in_range(nums, min, max):\n",
    "    count=0\n",
    "    for n in nums:\n",
    "        if n >= min and n <= max:\n",
    "            count += 1\n",
    "    return count\n",
    "\n",
    "#2 values are between 0 and 5\n",
    "assert( count_in_range([-2, -5, 4, 3, -1, 10], 0, 5) == 2)\n",
    "\n",
    "#0 values are between 10 and 20\n",
    "assert( count_in_range([6,8,3,5], 10, 20) == 0)\n",
    "\n",
    "#4 values are between 80 and 89\n",
    "assert( count_in_range( [90, 78, 85, 92, 80, 87, 85, 75], 80, 89)  == 4)\n",
    "print('Task2 tests passed')"
   ]
  },
  {
   "cell_type": "code",
   "execution_count": 4,
   "metadata": {},
   "outputs": [
    {
     "name": "stdout",
     "output_type": "stream",
     "text": [
      "Task3 tests passed\n"
     ]
    }
   ],
   "source": [
    "'''\n",
    "Task3 - Write a function named sum_chars that takes a list of strings as parameter \n",
    "and returns the sum of the lengths of all strings in the list. \n",
    "'''\n",
    "\n",
    "def sum_chars(words):\n",
    "    sum=0\n",
    "    for word in words:\n",
    "        sum += len(word)\n",
    "    return sum\n",
    "\n",
    "assert( sum_chars (['hi','bye']) == 5)\n",
    "assert( sum_chars (['hi there','hello','huh?']) == 17)\n",
    "print('Task3 tests passed')"
   ]
  },
  {
   "cell_type": "code",
   "execution_count": 5,
   "metadata": {},
   "outputs": [
    {
     "name": "stdout",
     "output_type": "stream",
     "text": [
      "Task4 tests passed\n"
     ]
    }
   ],
   "source": [
    "'''\n",
    "Task4 - Write a function named length_longest that takes  \n",
    "a list of strings as a parameter\n",
    "and returns the length of the longest string in the list.\n",
    "'''\n",
    "\n",
    "def length_longest(words):\n",
    "    max_length=0\n",
    "    for word in words:\n",
    "        if len(word) > max_length:\n",
    "            max_length = len(word)\n",
    "    return max_length\n",
    "\n",
    "assert( length_longest (['hi','bye']) == 3)  #bye is the longest word with length 3\n",
    "assert( length_longest (['hi there','hello','huh?']) == 8) #'hi there' is longest with length 8\n",
    "print('Task4 tests passed')"
   ]
  },
  {
   "cell_type": "code",
   "execution_count": 7,
   "metadata": {},
   "outputs": [
    {
     "name": "stdout",
     "output_type": "stream",
     "text": [
      "Task5 tests passed\n"
     ]
    }
   ],
   "source": [
    "'''\n",
    "Task5 - Write a function named get_bigger_words that takes two parameters:\n",
    "(1) a list of strings, and (2) a minimum length.  \n",
    "The function should return a new list that contains strings \n",
    "from the parameter list that are longer in length than \n",
    "the minimum length specified.\n",
    "'''\n",
    "\n",
    "def get_bigger_words(list, min_length):\n",
    "    big_list = []    #create empty list to store big words\n",
    "    for word in list:\n",
    "        if len(word) > min_length:\n",
    "            big_list.append(word)\n",
    "    return big_list\n",
    "\n",
    "\n",
    "list1 = ['hello', 'how', 'is', 'it', 'going']\n",
    "#get a list of words with length greater than 2\n",
    "assert(get_bigger_words(list1, 2)  == ['hello','how','going'])\n",
    "assert(list1 == ['hello', 'how', 'is', 'it', 'going'])  #function should  not change list1\n",
    "\n",
    "\n",
    "list2 = ['haha','how funny','giggle','lol']\n",
    "#get a list of words with length greater than 4\n",
    "assert(get_bigger_words(list2, 4)  == ['how funny','giggle'])\n",
    "assert(list2 ==['haha','how funny','giggle','lol'] )  #funtion should not change list2\n",
    "print('Task5 tests passed')"
   ]
  },
  {
   "cell_type": "code",
   "execution_count": null,
   "metadata": {},
   "outputs": [],
   "source": []
  }
 ],
 "metadata": {
  "kernelspec": {
   "display_name": "Python 3",
   "language": "python",
   "name": "python3"
  },
  "language_info": {
   "codemirror_mode": {
    "name": "ipython",
    "version": 3
   },
   "file_extension": ".py",
   "mimetype": "text/x-python",
   "name": "python",
   "nbconvert_exporter": "python",
   "pygments_lexer": "ipython3",
   "version": "3.6.9"
  }
 },
 "nbformat": 4,
 "nbformat_minor": 2
}
