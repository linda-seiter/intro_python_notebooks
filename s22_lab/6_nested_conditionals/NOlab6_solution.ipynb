{
 "cells": [
  {
   "cell_type": "code",
   "execution_count": 6,
   "metadata": {},
   "outputs": [],
   "source": [
    "#Open a terminal window, then copy the following code (without the #)\n",
    "#sudo -H pip3 install ColabTurtle"
   ]
  },
  {
   "cell_type": "markdown",
   "metadata": {},
   "source": [
    "Use the [Python Visualier](http://www.pythontutor.com/visualize.html#mode=edit) if you run into problems with your loops."
   ]
  },
  {
   "cell_type": "code",
   "execution_count": 3,
   "metadata": {},
   "outputs": [],
   "source": [
    "\n",
    "import math\n",
    "import random\n",
    "from ColabTurtle.Turtle import *"
   ]
  },
  {
   "cell_type": "code",
   "execution_count": 20,
   "metadata": {},
   "outputs": [
    {
     "name": "stdout",
     "output_type": "stream",
     "text": [
      "SAT score:1100\n",
      "ACT score:30\n",
      "high school gpa:2.5\n",
      "Sorry, you are not a candidate for the scholarship\n"
     ]
    }
   ],
   "source": [
    "'''\n",
    "Task1\n",
    "'''\n",
    "\n",
    "sat = int(input('SAT score:'))\n",
    "act = float(input('ACT score:'))\n",
    "gpa = float(input('high school gpa:'))\n",
    "\n",
    "if ((sat >= 1200 or act >= 28) and gpa >= 3.5):\n",
    "    print ('Congratulations, you are a candidate for the scholarship')\n",
    "else:\n",
    "    print('Sorry, you are not a candidate for the scholarship')"
   ]
  },
  {
   "cell_type": "code",
   "execution_count": 25,
   "metadata": {},
   "outputs": [
    {
     "name": "stdout",
     "output_type": "stream",
     "text": [
      "enter an integer:0\n",
      "Zero\n"
     ]
    }
   ],
   "source": [
    "'''\n",
    "Task2\n",
    "'''\n",
    "\n",
    "num = int(input('enter an integer:'))\n",
    "\n",
    "if num>0:\n",
    "    if num % 2 == 0:\n",
    "        print(num,'is a positive even number')\n",
    "    else:\n",
    "        print(num,'is a positive odd number')\n",
    "elif num < 0:\n",
    "    if num % 2 == 0 :\n",
    "        print(num,'is a negative even number')\n",
    "    else:\n",
    "        print(num,'is a negative odd number')\n",
    "else:\n",
    "    print('Zero')\n",
    "\n",
    "\n",
    "\n"
   ]
  },
  {
   "cell_type": "code",
   "execution_count": 45,
   "metadata": {
    "scrolled": true
   },
   "outputs": [
    {
     "data": {
      "text/html": [
       "\n",
       "      <svg width=\"200\" height=\"200\">\n",
       "        <rect width=\"100%\" height=\"100%\" fill=\"black\"/>\n",
       "        <line x1=\"100\" y1=\"0\" x2=\"100\" y2=\"200\" stroke-linecap=\"round\" style=\"stroke:white;stroke-width:4\"/><line x1=\"0\" y1=\"100\" x2=\"200\" y2=\"100\" stroke-linecap=\"round\" style=\"stroke:white;stroke-width:4\"/><line x1=\"200\" y1=\"100\" x2=\"100\" y2=\"100\" stroke-linecap=\"round\" style=\"stroke:white;stroke-width:4\"/><line x1=\"100\" y1=\"100\" x2=\"48\" y2=\"189\" stroke-linecap=\"round\" style=\"stroke:green;stroke-width:4\"/>\n",
       "        \n",
       "      <g visibility=hidden transform=\"rotate(180,48,189) translate(48, 189)\">\n",
       "        <circle stroke=\"green\" stroke-width=\"3\" fill=\"transparent\" r=\"12\" cx=\"0\" cy=\"0\"/>\n",
       "        <polygon points=\"0,19 3,16 -3,16\" style=\"fill:green;stroke:green;stroke-width:2\"/>\n",
       "      </g>\n",
       "    \n",
       "      </svg>\n",
       "    "
      ],
      "text/plain": [
       "<IPython.core.display.HTML object>"
      ]
     },
     "metadata": {},
     "output_type": "display_data"
    }
   ],
   "source": [
    "'''\n",
    "Task3\n",
    "'''\n",
    "\n",
    "initializeTurtle(initial_speed=6, initial_window_size=(200,200)) \n",
    "\n",
    "penup()\n",
    "goto(100,0)\n",
    "pendown()\n",
    "goto(100,200)\n",
    "penup()\n",
    "goto(0,100)\n",
    "pendown()\n",
    "goto(200,100)\n",
    "\n",
    "goto(100,100)\n",
    "\n",
    "x = random.randint(0,200)\n",
    "y = random.randint(0,200)\n",
    "if (x < 100 and y < 100):\n",
    "    color('red')\n",
    "elif (x < 100 and y > 100):\n",
    "    color('green')\n",
    "elif (x > 100 and y < 100):\n",
    "    color('blue')\n",
    "else:\n",
    "    color('yellow')\n",
    "\n",
    "goto(x,y)\n",
    "\n",
    "hideturtle()\n"
   ]
  },
  {
   "cell_type": "code",
   "execution_count": 13,
   "metadata": {
    "scrolled": false
   },
   "outputs": [
    {
     "name": "stdout",
     "output_type": "stream",
     "text": [
      "-41\n",
      "-33\n",
      "-28\n",
      "-22\n",
      "37\n",
      "-46\n",
      "17\n",
      "-34\n",
      "-44\n",
      "21\n",
      "min= -46 max= 37\n"
     ]
    }
   ],
   "source": [
    "'''\n",
    "Task4\n",
    "'''\n",
    "\n",
    "for i in range(10):\n",
    "    num = random.randint(-50, 50)\n",
    "    print(num)\n",
    "    if i == 0:\n",
    "        #initialize first time through loop\n",
    "        min=num\n",
    "        max=num\n",
    "    else:\n",
    "        #test if new min or max\n",
    "        if num < min:\n",
    "            min = num\n",
    "        elif num > max:\n",
    "            max = num\n",
    "\n",
    "print('min=',min,'max=',max)\n",
    "\n"
   ]
  },
  {
   "cell_type": "code",
   "execution_count": null,
   "metadata": {},
   "outputs": [],
   "source": []
  },
  {
   "cell_type": "code",
   "execution_count": null,
   "metadata": {},
   "outputs": [],
   "source": []
  }
 ],
 "metadata": {
  "kernelspec": {
   "display_name": "Python 3",
   "language": "python",
   "name": "python3"
  },
  "language_info": {
   "codemirror_mode": {
    "name": "ipython",
    "version": 3
   },
   "file_extension": ".py",
   "mimetype": "text/x-python",
   "name": "python",
   "nbconvert_exporter": "python",
   "pygments_lexer": "ipython3",
   "version": "3.6.9"
  }
 },
 "nbformat": 4,
 "nbformat_minor": 2
}
