{
 "cells": [
  {
   "cell_type": "markdown",
   "metadata": {},
   "source": [
    "Use the [Python Visualier](http://www.pythontutor.com/visualize.html#mode=edit) if you run into problems with your code."
   ]
  },
  {
   "cell_type": "code",
   "execution_count": 2,
   "metadata": {},
   "outputs": [],
   "source": [
    "\n",
    "import math\n",
    "import random"
   ]
  },
  {
   "cell_type": "code",
   "execution_count": 6,
   "metadata": {},
   "outputs": [
    {
     "name": "stdout",
     "output_type": "stream",
     "text": [
      "high school gpa:2.0\n",
      "SAT score:850\n",
      "Sorry, you are not a candidate for the scholarship\n"
     ]
    }
   ],
   "source": [
    "'''\n",
    "Task1a - logical and\n",
    "'''\n",
    "\n",
    "gpa = float(input('high school gpa:'))\n",
    "sat = int(input('SAT score:'))\n",
    "\n",
    "if gpa >= 3.5 and sat >= 1200 :\n",
    "    print ('Congratulations, you are a candidate for the scholarship')\n",
    "else:\n",
    "    print('Sorry, you are not a candidate for the scholarship')"
   ]
  },
  {
   "cell_type": "code",
   "execution_count": 20,
   "metadata": {},
   "outputs": [
    {
     "name": "stdout",
     "output_type": "stream",
     "text": [
      "SAT score:1100\n",
      "ACT score:30\n",
      "high school gpa:2.5\n",
      "Sorry, you are not a candidate for the scholarship\n"
     ]
    }
   ],
   "source": [
    "'''\n",
    "Task1b - nested\n",
    "'''\n",
    "\n",
    "gpa = float(input('high school gpa:'))\n",
    "sat = int(input('SAT score:'))\n",
    "\n",
    "if gpa >= 3.5:\n",
    "    if sat >= 1200:\n",
    "        print ('Congratulations, you are a candidate for the scholarship')\n",
    "    else:\n",
    "        print('Sorry, you are not a candidate for the scholarship')\n",
    "else:\n",
    "    print('Sorry, you are not a candidate for the scholarship')"
   ]
  },
  {
   "cell_type": "code",
   "execution_count": 11,
   "metadata": {},
   "outputs": [
    {
     "name": "stdout",
     "output_type": "stream",
     "text": [
      "high school gpa:3.2\n",
      "SAT score:1300\n",
      "ACT score:25\n",
      "Sorry, you are not a candidate for the scholarship\n"
     ]
    }
   ],
   "source": [
    "'''\n",
    "Task2a - logical and, or\n",
    "'''\n",
    "\n",
    "gpa = float(input('high school gpa:'))\n",
    "sat = int(input('SAT score:'))\n",
    "act = float(input('ACT score:'))\n",
    "\n",
    "if gpa >= 3.5 and (sat >= 1200 or act >= 28) :\n",
    "    print ('Congratulations, you are a candidate for the scholarship')\n",
    "else:\n",
    "    print('Sorry, you are not a candidate for the scholarship')"
   ]
  },
  {
   "cell_type": "code",
   "execution_count": 20,
   "metadata": {},
   "outputs": [
    {
     "name": "stdout",
     "output_type": "stream",
     "text": [
      "SAT score:1100\n",
      "ACT score:30\n",
      "high school gpa:2.5\n",
      "Sorry, you are not a candidate for the scholarship\n"
     ]
    }
   ],
   "source": [
    "'''\n",
    "Task2b - nested\n",
    "'''\n",
    "\n",
    "gpa = float(input('high school gpa:'))\n",
    "sat = int(input('SAT score:'))\n",
    "act = float(input('ACT score:'))\n",
    "\n",
    "if gpa >= 3.5:\n",
    "    if sat >= 1200:\n",
    "        print ('Congratulations, you are a candidate for the scholarship')\n",
    "    elif act >= 28:\n",
    "        print ('Congratulations, you are a candidate for the scholarship')\n",
    "    else:\n",
    "        print('Sorry, you are not a candidate for the scholarship')\n",
    "else:\n",
    "    print('Sorry, you are not a candidate for the scholarship')"
   ]
  },
  {
   "cell_type": "code",
   "execution_count": 16,
   "metadata": {},
   "outputs": [
    {
     "name": "stdout",
     "output_type": "stream",
     "text": [
      "enter an integer:0\n",
      "Zero\n"
     ]
    }
   ],
   "source": [
    "'''\n",
    "Task3a - logical and \n",
    "'''\n",
    "\n",
    "num = int(input('enter an integer:'))\n",
    "\n",
    "if num>0 and  num % 2 == 0:\n",
    "        print(num,'is a positive even number')\n",
    "elif num > 0 and num %2 != 0:\n",
    "        print(num,'is a positive odd number')\n",
    "elif num < 0 and  num % 2 == 0 :\n",
    "        print(num,'is a negative even number')\n",
    "elif num < 0 and num %2 != 0:\n",
    "        print(num,'is a negative odd number')\n",
    "else:\n",
    "    print('Zero')\n",
    "\n",
    "\n",
    "\n"
   ]
  },
  {
   "cell_type": "code",
   "execution_count": 25,
   "metadata": {},
   "outputs": [
    {
     "name": "stdout",
     "output_type": "stream",
     "text": [
      "enter an integer:0\n",
      "Zero\n"
     ]
    }
   ],
   "source": [
    "'''\n",
    "Task3b - nested \n",
    "'''\n",
    "\n",
    "num = int(input('enter an integer:'))\n",
    "\n",
    "if num>0:\n",
    "    if num % 2 == 0:\n",
    "        print(num,'is a positive even number')\n",
    "    else:\n",
    "        print(num,'is a positive odd number')\n",
    "elif num < 0:\n",
    "    if num % 2 == 0 :\n",
    "        print(num,'is a negative even number')\n",
    "    else:\n",
    "        print(num,'is a negative odd number')\n",
    "else:\n",
    "    print('Zero')\n",
    "\n",
    "\n",
    "\n"
   ]
  },
  {
   "cell_type": "code",
   "execution_count": null,
   "metadata": {},
   "outputs": [],
   "source": [
    "'''\n",
    "Task4 NOT ON LAB, maybe homework\n",
    "'''\n",
    "\n",
    "#Nested conditionals\n",
    "print('I\\'m going to ask you some questions to guess the animal (bird, bug, fish, dog )')\n",
    "hasWings = input('does it have wings(y/n)?')\n",
    "\n",
    "if hasWings == 'y':\n",
    "    hasFeathers = input('does it have feathers(y/n)?')\n",
    "    if hasFeathers == 'y':\n",
    "        print('It is a bird!')\n",
    "    else:\n",
    "        print('It is a bug')\n",
    "else: #assume n if not y\n",
    "    hasgills = input('does it have gills(y/n)?')\n",
    "    if hasgills == 'y':\n",
    "        print('It is a fish!')\n",
    "    else:\n",
    "        print('It is a dog')"
   ]
  },
  {
   "cell_type": "code",
   "execution_count": null,
   "metadata": {},
   "outputs": [],
   "source": []
  }
 ],
 "metadata": {
  "kernelspec": {
   "display_name": "Python 3",
   "language": "python",
   "name": "python3"
  },
  "language_info": {
   "codemirror_mode": {
    "name": "ipython",
    "version": 3
   },
   "file_extension": ".py",
   "mimetype": "text/x-python",
   "name": "python",
   "nbconvert_exporter": "python",
   "pygments_lexer": "ipython3",
   "version": "3.6.9"
  }
 },
 "nbformat": 4,
 "nbformat_minor": 2
}
