{
 "cells": [
  {
   "cell_type": "code",
   "execution_count": 8,
   "metadata": {},
   "outputs": [
    {
     "name": "stdout",
     "output_type": "stream",
     "text": [
      "tests passed\n"
     ]
    }
   ],
   "source": [
    "'''\n",
    "Task 1\n",
    "'''\n",
    "#Write function here\n",
    "\n",
    "\n",
    "\n",
    "#Test cases\n",
    "assert(get_jcu_userid('fhenderson21@jcu.edu')  == 'fhenderson21')\n",
    "assert(get_jcu_userid('mali24@jcu.edu') == 'mali24')\n",
    "assert(get_jcu_userid('fsmith@jcu.edu') == 'fsmith')\n",
    "assert(get_jcu_userid('abc@google.com') == 'invalid')\n",
    "assert(get_jcu_userid('fsmith23@kent.edu') == 'invalid')\n",
    "assert(get_jcu_userid('@jcu.edu') == 'invalid')\n",
    "assert(get_jcu_userid('xyz@jcu.edu.com') == 'invalid')\n",
    "assert(get_jcu_userid('fsmith') == 'invalid')\n",
    "              \n",
    "print('tests passed')"
   ]
  },
  {
   "cell_type": "code",
   "execution_count": 6,
   "metadata": {},
   "outputs": [
    {
     "name": "stdout",
     "output_type": "stream",
     "text": [
      "tests passed\n"
     ]
    }
   ],
   "source": [
    "'''\n",
    "Task 2\n",
    "'''\n",
    "#Write function here\n",
    "\n",
    "\n",
    "\n",
    "#Test cases\n",
    "assert(get_jcu_studentid('fhenderson21@jcu.edu')  == 'fhenderson21')\n",
    "assert(get_jcu_studentid('mali24@jcu.edu') == 'mali24')\n",
    "assert(get_jcu_studentid('fsmith@jcu.edu') == 'invalid')\n",
    "assert(get_jcu_studentid('abc@google.com') == 'invalid')\n",
    "assert(get_jcu_studentid('fsmith23@kent.edu') == 'invalid')\n",
    "assert(get_jcu_studentid('@jcu.edu') == 'invalid')\n",
    "assert(get_jcu_studentid('xyz@jcu.edu.com') == 'invalid')\n",
    "assert(get_jcu_studentid('fsmith') == 'invalid')\n",
    "              \n",
    "print('tests passed')"
   ]
  },
  {
   "cell_type": "code",
   "execution_count": 13,
   "metadata": {},
   "outputs": [
    {
     "name": "stdout",
     "output_type": "stream",
     "text": [
      "tests passed\n"
     ]
    }
   ],
   "source": [
    "'''\n",
    "Task 3 \n",
    "'''\n",
    "#Write function here\n",
    "\n",
    "\n",
    "\n",
    "#Test cases\n",
    "assert(assignment_statement('x=7*2', True) == 'x')\n",
    "assert(assignment_statement('x=7*2', False) == '7*2')\n",
    "assert(assignment_statement('abc=xyz-def', True) == 'abc')\n",
    "assert(assignment_statement('age = 20', True) == 'age')\n",
    "assert(assignment_statement('age    =      20', False) == '20')\n",
    "\n",
    "assert(assignment_statement('x=', False) == 'invalid')\n",
    "assert(assignment_statement('=5-2', True) == 'invalid')\n",
    "assert(assignment_statement('x-3', True) == 'invalid')\n",
    "\n",
    "print('tests passed')"
   ]
  },
  {
   "cell_type": "code",
   "execution_count": null,
   "metadata": {},
   "outputs": [],
   "source": []
  }
 ],
 "metadata": {
  "kernelspec": {
   "display_name": "Python 3",
   "language": "python",
   "name": "python3"
  },
  "language_info": {
   "codemirror_mode": {
    "name": "ipython",
    "version": 3
   },
   "file_extension": ".py",
   "mimetype": "text/x-python",
   "name": "python",
   "nbconvert_exporter": "python",
   "pygments_lexer": "ipython3",
   "version": "3.6.9"
  }
 },
 "nbformat": 4,
 "nbformat_minor": 2
}
