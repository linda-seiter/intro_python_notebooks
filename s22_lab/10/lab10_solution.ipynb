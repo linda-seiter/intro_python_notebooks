{
 "cells": [
  {
   "cell_type": "code",
   "execution_count": 8,
   "metadata": {},
   "outputs": [
    {
     "name": "stdout",
     "output_type": "stream",
     "text": [
      "tests passed\n"
     ]
    }
   ],
   "source": [
    "'''\n",
    "Task 1\n",
    "'''\n",
    "def get_jcu_userid(str):\n",
    "    at_index = str.find('@')\n",
    "    if at_index != -1:\n",
    "        userid=str[0:at_index]\n",
    "        domain=str[at_index+1:]\n",
    "    \n",
    "        if len(userid) >0 and domain=='jcu.edu':\n",
    "            return userid\n",
    "        else:\n",
    "            return 'invalid'\n",
    "    else:\n",
    "        return 'invalid'\n",
    "\n",
    "assert(get_jcu_userid('fhenderson21@jcu.edu')  == 'fhenderson21')\n",
    "assert(get_jcu_userid('mali24@jcu.edu') == 'mali24')\n",
    "assert(get_jcu_userid('fsmith@jcu.edu') == 'fsmith')\n",
    "assert(get_jcu_userid('abc@google.com') == 'invalid')\n",
    "assert(get_jcu_userid('fsmith23@kent.edu') == 'invalid')\n",
    "assert(get_jcu_userid('@jcu.edu') == 'invalid')\n",
    "assert(get_jcu_userid('xyz@jcu.edu.com') == 'invalid')\n",
    "assert(get_jcu_userid('fsmith') == 'invalid')\n",
    "              \n",
    "print('tests passed')"
   ]
  },
  {
   "cell_type": "code",
   "execution_count": 6,
   "metadata": {},
   "outputs": [
    {
     "name": "stdout",
     "output_type": "stream",
     "text": [
      "tests passed\n"
     ]
    }
   ],
   "source": [
    "'''\n",
    "Task 2\n",
    "'''\n",
    "def get_jcu_studentid(str):\n",
    "    at_index = str.find('@')\n",
    "    if at_index != -1:\n",
    "        userid=str[0:at_index]\n",
    "        domain=str[at_index+1:]\n",
    "        len_userid = len(userid)\n",
    "        if (len_userid >3 and domain=='jcu.edu' and \n",
    "            userid[len_userid-1].isdigit() and userid[len_userid-2].isdigit()):\n",
    "            return userid\n",
    "        else:\n",
    "            return 'invalid'\n",
    "    else:\n",
    "        return 'invalid'\n",
    "\n",
    "assert(get_jcu_studentid('fhenderson21@jcu.edu')  == 'fhenderson21')\n",
    "assert(get_jcu_studentid('mali24@jcu.edu') == 'mali24')\n",
    "assert(get_jcu_studentid('fsmith@jcu.edu') == 'invalid')\n",
    "assert(get_jcu_studentid('abc@google.com') == 'invalid')\n",
    "assert(get_jcu_studentid('fsmith23@kent.edu') == 'invalid')\n",
    "assert(get_jcu_studentid('@jcu.edu') == 'invalid')\n",
    "assert(get_jcu_studentid('xyz@jcu.edu.com') == 'invalid')\n",
    "assert(get_jcu_studentid('fsmith') == 'invalid')\n",
    "              \n",
    "print('tests passed')"
   ]
  },
  {
   "cell_type": "code",
   "execution_count": 13,
   "metadata": {},
   "outputs": [
    {
     "name": "stdout",
     "output_type": "stream",
     "text": [
      "tests passed\n"
     ]
    }
   ],
   "source": [
    "'''\n",
    "Task 3 \n",
    "'''\n",
    "def assignment_statement(str,lhs):\n",
    "    index_equal = str.find('=')\n",
    "    if index_equal != -1:\n",
    "        var = str[0:index_equal].strip()\n",
    "        value = str[index_equal+1:].strip()\n",
    "        if len(var) > 0 and len(value) > 0:\n",
    "            if lhs:\n",
    "                return var\n",
    "            else:\n",
    "                return value\n",
    "        else:\n",
    "            return 'invalid'\n",
    "    else:\n",
    "        return 'invalid'\n",
    "\n",
    "assert(assignment_statement('x=7*2', True) == 'x')\n",
    "assert(assignment_statement('x=7*2', False) == '7*2')\n",
    "assert(assignment_statement('abc=xyz-def', True) == 'abc')\n",
    "assert(assignment_statement('age = 20', True) == 'age')\n",
    "assert(assignment_statement('age    =      20', False) == '20')\n",
    "\n",
    "assert(assignment_statement('x=', False) == 'invalid')\n",
    "assert(assignment_statement('=5-2', True) == 'invalid')\n",
    "assert(assignment_statement('x-3', True) == 'invalid')\n",
    "\n",
    "print('tests passed')"
   ]
  },
  {
   "cell_type": "code",
   "execution_count": null,
   "metadata": {},
   "outputs": [],
   "source": []
  }
 ],
 "metadata": {
  "kernelspec": {
   "display_name": "Python 3",
   "language": "python",
   "name": "python3"
  },
  "language_info": {
   "codemirror_mode": {
    "name": "ipython",
    "version": 3
   },
   "file_extension": ".py",
   "mimetype": "text/x-python",
   "name": "python",
   "nbconvert_exporter": "python",
   "pygments_lexer": "ipython3",
   "version": "3.6.9"
  }
 },
 "nbformat": 4,
 "nbformat_minor": 2
}
