{
 "cells": [
  {
   "cell_type": "code",
   "execution_count": 2,
   "metadata": {},
   "outputs": [],
   "source": [
    "import math\n",
    "import random\n",
    "from ipycanvas import Canvas"
   ]
  },
  {
   "cell_type": "code",
   "execution_count": 10,
   "metadata": {},
   "outputs": [
    {
     "name": "stdout",
     "output_type": "stream",
     "text": [
      "you rolled a 5 and a 5 for a total of 10\n",
      "high roll\n"
     ]
    }
   ],
   "source": [
    "'''\n",
    "Task1 - if/else\n",
    "'''\n",
    "\n",
    "die1 = random.randint(1,6)\n",
    "die2 = random.randint(1,6)\n",
    "sum = die1 + die2\n",
    "print('you rolled a {} and a {} for a total of {}'.format(die1,die2,sum))\n",
    "if sum > 8:\n",
    "    print('high roll')\n",
    "else:\n",
    "    print('low roll')"
   ]
  },
  {
   "cell_type": "code",
   "execution_count": 15,
   "metadata": {},
   "outputs": [
    {
     "name": "stdout",
     "output_type": "stream",
     "text": [
      "3 is positive\n"
     ]
    }
   ],
   "source": [
    "'''\n",
    "Task2 - Chained conditional if/elif/else\n",
    "'''\n",
    "\n",
    "num = random.randint(-5, 5)\n",
    "\n",
    "if num > 0:\n",
    "    print(num,'is positive')\n",
    "elif num < 0:\n",
    "    print(num,'is negative')\n",
    "else:\n",
    "    print(num,'is zero')"
   ]
  },
  {
   "cell_type": "code",
   "execution_count": 21,
   "metadata": {},
   "outputs": [
    {
     "name": "stdout",
     "output_type": "stream",
     "text": [
      "enter score:59\n",
      "F\n"
     ]
    }
   ],
   "source": [
    "'''\n",
    "Task3 - Chained conditional if/elif/...../else\n",
    "'''\n",
    "\n",
    "score = int(input('enter score:'))\n",
    "if score >= 90:\n",
    "    print('A')\n",
    "elif score >= 80:\n",
    "    print('B')\n",
    "elif score >= 70:\n",
    "    print('C')\n",
    "elif score >= 60:\n",
    "    print('D')\n",
    "else :\n",
    "    print('F')\n",
    "    "
   ]
  },
  {
   "cell_type": "code",
   "execution_count": 3,
   "metadata": {},
   "outputs": [
    {
     "name": "stdout",
     "output_type": "stream",
     "text": [
      "Do you like ice cream? (yes/no)yes\n",
      "What is your favorite flavor:strawberry\n",
      "I like strawberry too!\n"
     ]
    }
   ],
   "source": [
    "'''\n",
    "Task 4 if/else\n",
    "'''\n",
    "\n",
    "likes_icecream = input('Do you like ice cream? (yes/no)')\n",
    "if likes_icecream == 'yes':\n",
    "    favorite = input('What is your favorite flavor:')\n",
    "    print('I like {} too!'.format(favorite))\n",
    "else:\n",
    "    reason = input('Why not?')\n",
    "    print('Your reason: {}'.format(reason))"
   ]
  },
  {
   "cell_type": "code",
   "execution_count": 22,
   "metadata": {
    "scrolled": true
   },
   "outputs": [
    {
     "data": {
      "application/vnd.jupyter.widget-view+json": {
       "model_id": "a3a9c1631a774892bed0b36be042cc79",
       "version_major": 2,
       "version_minor": 0
      },
      "text/plain": [
       "Canvas(height=400, width=400)"
      ]
     },
     "metadata": {},
     "output_type": "display_data"
    }
   ],
   "source": [
    "'''\n",
    "Task5a  - if/else\n",
    "'''\n",
    "\n",
    "def handle_mouse_down(x,y):\n",
    "    #test top or bottom\n",
    "    if y<200:\n",
    "        canvas.fill_style = 'red'\n",
    "        canvas.fill_text('top',x,y)\n",
    "    else:\n",
    "        canvas.fill_style = 'blue'\n",
    "        canvas.fill_text('bottom',x,y)\n",
    "        \n",
    "    #test left or right\n",
    "\n",
    "\n",
    "    \n",
    "\n",
    "#main algorithm\n",
    "canvas = Canvas(width=400, height=400)\n",
    "display(canvas)\n",
    "canvas.stroke_style = 'black'\n",
    "canvas.stroke_line(0,200,400,200)  #horizontal\n",
    "canvas.stroke_line(200,0,200,400)  #vertical\n",
    "canvas.on_mouse_down(handle_mouse_down)\n",
    "canvas.font = '16pt serif'\n"
   ]
  },
  {
   "cell_type": "code",
   "execution_count": 23,
   "metadata": {
    "scrolled": true
   },
   "outputs": [
    {
     "data": {
      "application/vnd.jupyter.widget-view+json": {
       "model_id": "7a1e275e361443fca58ed698e6a6aaf9",
       "version_major": 2,
       "version_minor": 0
      },
      "text/plain": [
       "Canvas(height=400, width=400)"
      ]
     },
     "metadata": {},
     "output_type": "display_data"
    }
   ],
   "source": [
    "'''\n",
    "Task5b - 2 separate if/else statements\n",
    "'''\n",
    "\n",
    "def handle_mouse_down(x,y):\n",
    "    #test top or bottom\n",
    "    if y<200:\n",
    "        canvas.fill_style = 'red'\n",
    "        canvas.fill_text('top',x,y)\n",
    "    else:\n",
    "        canvas.fill_style = 'blue'\n",
    "        canvas.fill_text('bottom',x,y)\n",
    "        \n",
    "    #test left or right\n",
    "    if x<200:\n",
    "        canvas.fill_style = 'green'\n",
    "        canvas.fill_text('left',x,y+20)\n",
    "    else:\n",
    "        canvas.fill_style = 'purple'\n",
    "        canvas.fill_text('right',x,y+20)\n",
    "\n",
    "    \n",
    "\n",
    "#main algorithm\n",
    "canvas = Canvas(width=400, height=400)\n",
    "display(canvas)\n",
    "canvas.stroke_style = 'black'\n",
    "canvas.stroke_line(0,200,400,200)  #horizontal\n",
    "canvas.stroke_line(200,0,200,400)  #vertical\n",
    "canvas.on_mouse_down(handle_mouse_down)\n",
    "canvas.font = '16pt serif'\n"
   ]
  },
  {
   "cell_type": "code",
   "execution_count": null,
   "metadata": {},
   "outputs": [],
   "source": []
  }
 ],
 "metadata": {
  "kernelspec": {
   "display_name": "Python 3",
   "language": "python",
   "name": "python3"
  },
  "language_info": {
   "codemirror_mode": {
    "name": "ipython",
    "version": 3
   },
   "file_extension": ".py",
   "mimetype": "text/x-python",
   "name": "python",
   "nbconvert_exporter": "python",
   "pygments_lexer": "ipython3",
   "version": "3.6.9"
  }
 },
 "nbformat": 4,
 "nbformat_minor": 2
}
