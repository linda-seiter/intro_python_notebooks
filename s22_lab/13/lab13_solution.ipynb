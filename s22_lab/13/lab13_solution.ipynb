{
 "cells": [
  {
   "cell_type": "code",
   "execution_count": null,
   "metadata": {},
   "outputs": [],
   "source": [
    "import random"
   ]
  },
  {
   "cell_type": "code",
   "execution_count": null,
   "metadata": {},
   "outputs": [],
   "source": [
    "'''\n",
    "Task1a:\n",
    "'''\n",
    "\n",
    "for i in range(5):\n",
    "    num = random.randint(1,3)\n",
    "    if num == 1:\n",
    "            weather = 'sunny'\n",
    "    elif num == 2:\n",
    "            weather = 'raining'\n",
    "    else:\n",
    "            weather = 'windy'\n",
    "    degrees = random.randint(60,90)\n",
    "    print('{} degrees and {}'.format(degrees, weather))\n",
    "    "
   ]
  },
  {
   "cell_type": "code",
   "execution_count": null,
   "metadata": {},
   "outputs": [],
   "source": [
    "'''\n",
    "Task1b:\n",
    "'''\n",
    "\n",
    "weather = ''\n",
    "degrees = 0\n",
    "while (weather != 'sunny' or degrees < 75):\n",
    "    num = random.randint(1,3)\n",
    "    if num == 1:\n",
    "        weather = 'sunny'\n",
    "    elif num == 2:\n",
    "        weather = 'raining'\n",
    "    else:\n",
    "        weather = 'windy'\n",
    "    degrees = random.randint(60,90)\n",
    "    print('{} degrees and {}'.format(degrees, weather))\n",
    "    \n",
    "print('Outdoor picnic!')"
   ]
  },
  {
   "cell_type": "code",
   "execution_count": null,
   "metadata": {},
   "outputs": [],
   "source": [
    "'''\n",
    "Task2a\n",
    "'''\n",
    "\n",
    "def purchase_product(stars, shipping):\n",
    "    if stars >= 3 and (shipping == 'free' or shipping == 'next day'):\n",
    "        return 'add to cart'\n",
    "    else:\n",
    "        return 'keep browsing'\n",
    "\n",
    "assert(purchase_product(4,'free') == 'add to cart')\n",
    "assert(purchase_product(3,'next day') == 'add to cart')\n",
    "assert(purchase_product(3,'free') == 'add to cart')\n",
    "assert(purchase_product(2,'free') == 'keep browsing')\n",
    "assert(purchase_product(4,'2 day') == 'keep browsing')\n",
    "assert(purchase_product(1,'next day') == 'keep browsing')\n",
    "assert(purchase_product(3,'2 day') == 'keep browsing')\n",
    "\n",
    "\n",
    "print('task2a tests passed')"
   ]
  },
  {
   "cell_type": "code",
   "execution_count": null,
   "metadata": {},
   "outputs": [],
   "source": [
    "'''\n",
    "Task2b  \n",
    "'''\n",
    "\n",
    "def purchase_product_V2(stars, shipping):\n",
    "    if stars >= 3:\n",
    "        if shipping == 'free':\n",
    "            return 'add to cart'\n",
    "        elif shipping == 'next day':\n",
    "            return 'add to cart'\n",
    "        else:\n",
    "            return 'keep browsing'\n",
    "    else:\n",
    "        return 'keep browsing'\n",
    "\n",
    "assert(purchase_product_V2(4,'free') == 'add to cart')\n",
    "assert(purchase_product_V2(3,'next day') == 'add to cart')\n",
    "assert(purchase_product_V2(3,'free') == 'add to cart')\n",
    "assert(purchase_product_V2(2,'free') == 'keep browsing')\n",
    "assert(purchase_product_V2(4,'2 day') == 'keep browsing')\n",
    "assert(purchase_product_V2(1,'next day') == 'keep browsing')\n",
    "assert(purchase_product_V2(3,'2 day') == 'keep browsing')\n",
    "\n",
    "print('task2b tests passed')"
   ]
  },
  {
   "cell_type": "code",
   "execution_count": null,
   "metadata": {},
   "outputs": [],
   "source": [
    "'''\n",
    "Task3  \n",
    "'''\n",
    "\n",
    "start = int(input('start:'))\n",
    "end = int(input('end:'))\n",
    "if start < end:\n",
    "    for n in range(start, end+1):\n",
    "        if n % 5 == 0:\n",
    "            print(n, end=' ')\n",
    "else:\n",
    "    for n in range(start,end-1, -1):\n",
    "        if n % 5 == 0:\n",
    "            print(n, end=' ')"
   ]
  },
  {
   "cell_type": "code",
   "execution_count": null,
   "metadata": {},
   "outputs": [],
   "source": [
    "'''\n",
    "Task4\n",
    "'''\n",
    "\n",
    "def dailygoal_per_week(matrix):\n",
    "    for r in range(len(matrix)):\n",
    "        count=0\n",
    "        for c in range(len(matrix[r])):\n",
    "            if matrix[r][c] >= 3:\n",
    "                count+=1\n",
    "        print('Week {} goal met {} days'.format(r, count))\n",
    "\n",
    "#Test cases\n",
    "\n",
    "scout1 = [\n",
    "    [5,3,1,2,6,0,0],  #3 days meet sales minimum\n",
    "    [1,2,3,4,0,2,1],  #2 days meet sales minimum\n",
    "    [0,2,0,1,0,0,1]   #0 days meet sales minimum\n",
    "]\n",
    "\n",
    "scout2 = [\n",
    "    [5,1,5,2,2,6,3],  #4 days meet sales minimum\n",
    "    [7,2,1,2,0,2,2]   #1 day meets sales minimum\n",
    "]\n",
    "\n",
    "print('Testing scout #1')\n",
    "dailygoal_per_week(scout1)\n",
    "\n",
    "print()\n",
    "print('Testing scout #2')\n",
    "dailygoal_per_week(scout2)\n",
    "\n"
   ]
  },
  {
   "cell_type": "code",
   "execution_count": null,
   "metadata": {},
   "outputs": [],
   "source": []
  }
 ],
 "metadata": {
  "kernelspec": {
   "display_name": "Python 3",
   "language": "python",
   "name": "python3"
  },
  "language_info": {
   "codemirror_mode": {
    "name": "ipython",
    "version": 3
   },
   "file_extension": ".py",
   "mimetype": "text/x-python",
   "name": "python",
   "nbconvert_exporter": "python",
   "pygments_lexer": "ipython3",
   "version": "3.6.9"
  }
 },
 "nbformat": 4,
 "nbformat_minor": 2
}
