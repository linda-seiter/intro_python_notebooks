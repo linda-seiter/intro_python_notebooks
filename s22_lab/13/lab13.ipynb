{
 "cells": [
  {
   "cell_type": "code",
   "execution_count": null,
   "metadata": {},
   "outputs": [],
   "source": [
    "import random"
   ]
  },
  {
   "cell_type": "code",
   "execution_count": null,
   "metadata": {},
   "outputs": [],
   "source": [
    "'''\n",
    "Task1a:\n",
    "'''\n",
    "\n",
    "\n",
    "    "
   ]
  },
  {
   "cell_type": "code",
   "execution_count": null,
   "metadata": {},
   "outputs": [],
   "source": [
    "'''\n",
    "Task1b:\n",
    "'''\n",
    "\n"
   ]
  },
  {
   "cell_type": "code",
   "execution_count": null,
   "metadata": {},
   "outputs": [],
   "source": [
    "'''\n",
    "Task2a\n",
    "'''\n",
    "\n",
    "#add function here\n",
    "\n",
    "\n",
    "#test cases\n",
    "\n",
    "assert(purchase_product(4,'free') == 'add to cart')\n",
    "assert(purchase_product(3,'next day') == 'add to cart')\n",
    "assert(purchase_product(3,'free') == 'add to cart')\n",
    "assert(purchase_product(2,'free') == 'keep browsing')\n",
    "assert(purchase_product(4,'2 day') == 'keep browsing')\n",
    "assert(purchase_product(1,'next day') == 'keep browsing')\n",
    "assert(purchase_product(3,'2 day') == 'keep browsing')\n",
    "\n",
    "\n",
    "print('task2a tests passed')"
   ]
  },
  {
   "cell_type": "code",
   "execution_count": null,
   "metadata": {},
   "outputs": [],
   "source": [
    "'''\n",
    "Task2b  \n",
    "'''\n",
    "\n",
    "#add function here\n",
    "\n",
    "\n",
    "#test cases\n",
    "\n",
    "assert(purchase_product_V2(4,'free') == 'add to cart')\n",
    "assert(purchase_product_V2(3,'next day') == 'add to cart')\n",
    "assert(purchase_product_V2(3,'free') == 'add to cart')\n",
    "assert(purchase_product_V2(2,'free') == 'keep browsing')\n",
    "assert(purchase_product_V2(4,'2 day') == 'keep browsing')\n",
    "assert(purchase_product_V2(1,'next day') == 'keep browsing')\n",
    "assert(purchase_product_V2(3,'2 day') == 'keep browsing')\n",
    "\n",
    "print('task2b tests passed')"
   ]
  },
  {
   "cell_type": "code",
   "execution_count": null,
   "metadata": {},
   "outputs": [],
   "source": [
    "'''\n",
    "Task3  \n",
    "'''\n",
    "\n"
   ]
  },
  {
   "cell_type": "code",
   "execution_count": null,
   "metadata": {},
   "outputs": [],
   "source": [
    "'''\n",
    "Task4\n",
    "'''\n",
    "\n",
    "#add function here\n",
    "\n",
    "\n",
    "#test cases\n",
    "\n",
    "scout1 = [\n",
    "    [5,3,1,2,6,0,0],  #3 days meet sales minimum\n",
    "    [1,2,3,4,0,2,1],  #2 days meet sales minimum\n",
    "    [0,2,0,1,0,0,1]   #0 days meet sales minimum\n",
    "]\n",
    "\n",
    "scout2 = [\n",
    "    [5,1,5,2,2,6,3],  #4 days meet sales minimum\n",
    "    [7,2,1,2,0,2,2]   #1 day meets sales minimum\n",
    "]\n",
    "\n",
    "print('Testing scout #1')\n",
    "dailygoal_per_week(scout1)\n",
    "\n",
    "print()\n",
    "print('Testing scout #2')\n",
    "dailygoal_per_week(scout2)\n",
    "\n"
   ]
  },
  {
   "cell_type": "code",
   "execution_count": null,
   "metadata": {},
   "outputs": [],
   "source": []
  }
 ],
 "metadata": {
  "kernelspec": {
   "display_name": "Python 3",
   "language": "python",
   "name": "python3"
  },
  "language_info": {
   "codemirror_mode": {
    "name": "ipython",
    "version": 3
   },
   "file_extension": ".py",
   "mimetype": "text/x-python",
   "name": "python",
   "nbconvert_exporter": "python",
   "pygments_lexer": "ipython3",
   "version": "3.6.9"
  }
 },
 "nbformat": 4,
 "nbformat_minor": 2
}
