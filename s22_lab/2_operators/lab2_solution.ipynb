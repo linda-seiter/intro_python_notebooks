{
 "cells": [
  {
   "cell_type": "markdown",
   "metadata": {},
   "source": [
    "### NOTE: You must run the following cell every time you open the notebook and after each kernel restart."
   ]
  },
  {
   "cell_type": "code",
   "execution_count": 10,
   "metadata": {},
   "outputs": [],
   "source": [
    "from ipycanvas import Canvas\n",
    "import random"
   ]
  },
  {
   "cell_type": "markdown",
   "metadata": {},
   "source": [
    "### Task1"
   ]
  },
  {
   "cell_type": "code",
   "execution_count": 17,
   "metadata": {
    "scrolled": true
   },
   "outputs": [
    {
     "name": "stdout",
     "output_type": "stream",
     "text": [
      "enter fahrenheit temp:24\n",
      "24.0 f = -4.44 c\n"
     ]
    }
   ],
   "source": [
    "'''\n",
    "Task1\n",
    "Prompt for the temperature in Fahrenheit degrees.  Read in the value as a float\n",
    "Convert the Fahrenheit temperature to Celsius by subtracting 32 and then multiply by 5/9. \n",
    "Be careful about operator precedence.\n",
    "Output the Celsius value with 2 digits after the decimal point. Hint {:.2f}\n",
    "'''\n",
    "fahrenheit = float(input('enter fahrenheit temp:'))\n",
    "celsius = (fahrenheit - 32) * 5/9\n",
    "print(fahrenheit , 'f =' , '{:.2f}'.format(celsius) , 'c' )"
   ]
  },
  {
   "cell_type": "markdown",
   "metadata": {},
   "source": [
    "### Task2"
   ]
  },
  {
   "cell_type": "code",
   "execution_count": 19,
   "metadata": {},
   "outputs": [
    {
     "name": "stdout",
     "output_type": "stream",
     "text": [
      "Total number of days:375\n",
      "375 days is equivalent to 1 years 1 weeks 3 days\n"
     ]
    }
   ],
   "source": [
    "'''\n",
    "Task 2\n",
    "Prompt for the total number of days.\n",
    "Use the floored division and mod operators to convert to equivalent years, weeks, and days.\n",
    "Don't worry about plural or singular spelling. \n",
    "\n",
    "HINT:\n",
    "Compute the number of years based on the total number of days entered by the user.  Store in a variable.\n",
    "Compute the number of days in the partial year (remainder).  Store in a variable.\n",
    "Compute the number of weeks based on the days in the partial year. Store in a variable.\n",
    "Compute the number of days in the partial week (remainder). Store in a variable.\n",
    "Print the results.\n",
    "'''\n",
    "\n",
    "total_days = int(input('Total number of days:'))\n",
    "years = total_days // 365\n",
    "days_leftover = total_days % 365\n",
    "weeks = days_leftover // 7\n",
    "days = days_leftover % 7\n",
    "print(total_days, 'days is equivalent to', years, 'years', weeks, 'weeks',days,'days')"
   ]
  },
  {
   "cell_type": "markdown",
   "metadata": {},
   "source": [
    "### Task3"
   ]
  },
  {
   "cell_type": "code",
   "execution_count": 13,
   "metadata": {},
   "outputs": [
    {
     "data": {
      "application/vnd.jupyter.widget-view+json": {
       "model_id": "6a098c9d3f6d4052b0311aaa02a032eb",
       "version_major": 2,
       "version_minor": 0
      },
      "text/plain": [
       "Canvas(height=400, width=400)"
      ]
     },
     "metadata": {},
     "output_type": "display_data"
    }
   ],
   "source": [
    "'''\n",
    "Task3\n",
    "NOTE: You must run the first cell in the notebook to import Canvas prior to running this cell.\n",
    "\n",
    "The existing code draws a 400x400 canvas, then draws a beige filled rectangle to fill the canvas drawing area.\n",
    "\n",
    "Update the code to draw the shapes in the expected results.  \n",
    "Keep in mind 0,0 is at the upper left corner of the canvas, and 400,400 is the lower right corner.\n",
    "\n",
    "Try adding one geometric shape at a time to the drawing:\n",
    "1. green horizontal line\n",
    "2. blue diagonal line\n",
    "3. red diagonal line\n",
    "4. pink filled circle centered in canvas with radius 50\n",
    "5. black framed circle centerd in canvas with radius 20\n",
    "'''\n",
    "\n",
    "#create and display 400x400 drawing canvas\n",
    "canvas = Canvas(width=400, height=400)\n",
    "display(canvas)\n",
    "\n",
    "#beige filled rectangle for canvas background\n",
    "canvas.fill_style = 'beige'\n",
    "canvas.fill_rect(0,0,400,400)  \n",
    "\n",
    "#Add your code here\n",
    "canvas.stroke_style = 'green'\n",
    "canvas.stroke_line(0,200,400,200)\n",
    "canvas.stroke_style = 'blue'\n",
    "canvas.stroke_line(0,200,200,0)\n",
    "canvas.stroke_style = 'red'\n",
    "canvas.stroke_line(400,200,200,400)\n",
    "canvas.fill_style = 'pink'\n",
    "canvas.fill_circle(200,200,50)\n",
    "canvas.stroke_style = 'black'\n",
    "canvas.stroke_circle(200,200,20)\n"
   ]
  },
  {
   "cell_type": "markdown",
   "metadata": {},
   "source": [
    "### Task4"
   ]
  },
  {
   "cell_type": "code",
   "execution_count": 16,
   "metadata": {},
   "outputs": [
    {
     "data": {
      "application/vnd.jupyter.widget-view+json": {
       "model_id": "c121a471cd484418ac08cf4914a30a8f",
       "version_major": 2,
       "version_minor": 0
      },
      "text/plain": [
       "Canvas(height=400, width=400)"
      ]
     },
     "metadata": {},
     "output_type": "display_data"
    }
   ],
   "source": [
    "'''\n",
    "Task4a\n",
    "NOTE: You must run the first cell to import Canvas prior to running this cell.\n",
    "\n",
    "The main algorithm code creates a 400x400 drawing canvas, draws a black framed rectangle around the canvas area,\n",
    "and sets up the mouse down event to call the handle_mouse_down function.\n",
    "\n",
    "Add code to the handle_mouse_down function: \n",
    "(1) Draw a red filled rectangle using the mousedown x,y coordinate, along with a height and width of 20.\n",
    "(2) Draw a green line from the mousedown x,y coordinate to the center of drawing canvas.\n",
    "'''\n",
    "\n",
    "        \n",
    "def handle_mouse_down(x,y):\n",
    "    #IMPORTANT: all code in handle_mouse_down function must be indented equally (1 tab))\n",
    "    canvas.fill_style = 'red'\n",
    "    canvas.fill_rect(x,y,20,20)  \n",
    "    canvas.stroke_style = 'green'\n",
    "    canvas.stroke_line(200,200,x,y)\n",
    "    \n",
    "\n",
    "#main algorithm\n",
    "canvas = Canvas(width=400, height=400)\n",
    "display(canvas)\n",
    "canvas.stroke_style = 'black'\n",
    "canvas.stroke_rect(0,0,400,400)   \n",
    "canvas.on_mouse_down(handle_mouse_down)"
   ]
  },
  {
   "cell_type": "code",
   "execution_count": 15,
   "metadata": {},
   "outputs": [
    {
     "data": {
      "application/vnd.jupyter.widget-view+json": {
       "model_id": "764d619909914ac0aa79abb232145f72",
       "version_major": 2,
       "version_minor": 0
      },
      "text/plain": [
       "Canvas(height=400, width=400)"
      ]
     },
     "metadata": {},
     "output_type": "display_data"
    }
   ],
   "source": [
    "'''\n",
    "Task4b. \n",
    "Copy the code from task4a.  \n",
    "Update the handle_mouse_down function. \n",
    "The width and height of each rectangle should be random a value between 10 and 30.\n",
    "'''\n",
    "\n",
    "\n",
    "        \n",
    "def handle_mouse_down(x,y):\n",
    "    #IMPORTANT: all code in handle_mouse_down function must be indented equally (1 tab))\n",
    "    canvas.fill_style = 'red'\n",
    "    width = random.randint(10,30)\n",
    "    height = random.randint(10,30)\n",
    "    canvas.fill_rect(x,y,width, height)  \n",
    "    canvas.stroke_style = 'green'\n",
    "    canvas.stroke_line(200,200,x,y)\n",
    "    \n",
    "\n",
    "#main algorithm\n",
    "canvas = Canvas(width=400, height=400)\n",
    "display(canvas)\n",
    "canvas.stroke_style = 'black'\n",
    "canvas.stroke_rect(0,0,400,400)   \n",
    "canvas.on_mouse_down(handle_mouse_down)"
   ]
  },
  {
   "cell_type": "code",
   "execution_count": null,
   "metadata": {},
   "outputs": [],
   "source": []
  },
  {
   "cell_type": "code",
   "execution_count": null,
   "metadata": {},
   "outputs": [],
   "source": []
  }
 ],
 "metadata": {
  "kernelspec": {
   "display_name": "Python 3",
   "language": "python",
   "name": "python3"
  },
  "language_info": {
   "codemirror_mode": {
    "name": "ipython",
    "version": 3
   },
   "file_extension": ".py",
   "mimetype": "text/x-python",
   "name": "python",
   "nbconvert_exporter": "python",
   "pygments_lexer": "ipython3",
   "version": "3.6.9"
  }
 },
 "nbformat": 4,
 "nbformat_minor": 2
}
