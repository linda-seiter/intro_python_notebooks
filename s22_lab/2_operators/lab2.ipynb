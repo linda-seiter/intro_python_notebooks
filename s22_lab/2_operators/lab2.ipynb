{
 "cells": [
  {
   "cell_type": "markdown",
   "metadata": {},
   "source": [
    "### NOTE: You must run the following cell every time you open the notebook and after each kernel restart."
   ]
  },
  {
   "cell_type": "code",
   "execution_count": null,
   "metadata": {},
   "outputs": [],
   "source": [
    "from ipycanvas import Canvas\n",
    "import random"
   ]
  },
  {
   "cell_type": "markdown",
   "metadata": {},
   "source": [
    "### Task1"
   ]
  },
  {
   "cell_type": "code",
   "execution_count": null,
   "metadata": {
    "scrolled": true
   },
   "outputs": [],
   "source": [
    "'''\n",
    "#Task1\n",
    "'''\n"
   ]
  },
  {
   "cell_type": "markdown",
   "metadata": {},
   "source": [
    "### Task2"
   ]
  },
  {
   "cell_type": "code",
   "execution_count": null,
   "metadata": {},
   "outputs": [],
   "source": [
    "'''\n",
    "Task 2\n",
    "'''\n"
   ]
  },
  {
   "cell_type": "markdown",
   "metadata": {},
   "source": [
    "### Task3"
   ]
  },
  {
   "cell_type": "code",
   "execution_count": null,
   "metadata": {},
   "outputs": [],
   "source": [
    "'''\n",
    "Task3\n",
    "NOTE: Run the first cell in the notebook to import Canvas prior to running this cell.\n",
    "'''\n",
    "\n",
    "#create and display 400x400 drawing canvas\n",
    "canvas = Canvas(width=400, height=400)\n",
    "display(canvas)\n",
    "\n",
    "#beige filled rectangle for canvas background\n",
    "canvas.fill_style = 'beige'\n",
    "canvas.fill_rect(0,0,400,400)  \n",
    "\n",
    "#Add your code here\n",
    "\n"
   ]
  },
  {
   "cell_type": "markdown",
   "metadata": {},
   "source": [
    "### Task4"
   ]
  },
  {
   "cell_type": "code",
   "execution_count": null,
   "metadata": {},
   "outputs": [],
   "source": [
    "'''\n",
    "Task4a\n",
    "'''\n",
    "\n",
    "        \n",
    "def handle_mouse_down(x,y):\n",
    "    #IMPORTANT: all code in handle_mouse_down function must be indented equally (1 tab))\n",
    "    #NOTE: You will get an error if you run this cell without adding code to this function.\n",
    "    #Add your code here:\n",
    "    \n",
    "    \n",
    "\n",
    "#main algorithm\n",
    "canvas = Canvas(width=400, height=400)\n",
    "display(canvas)\n",
    "canvas.stroke_style = 'black'\n",
    "canvas.stroke_rect(0,0,400,400)   \n",
    "canvas.on_mouse_down(handle_mouse_down)"
   ]
  },
  {
   "cell_type": "code",
   "execution_count": null,
   "metadata": {},
   "outputs": [],
   "source": [
    "'''\n",
    "Task4b. \n",
    "Copy the code from task4a.  \n",
    "Update the handle_mouse_down function. \n",
    "The width and height of each rectangle should be random a value between 10 and 30.\n",
    "'''\n",
    "\n"
   ]
  },
  {
   "cell_type": "code",
   "execution_count": null,
   "metadata": {},
   "outputs": [],
   "source": []
  },
  {
   "cell_type": "code",
   "execution_count": null,
   "metadata": {},
   "outputs": [],
   "source": []
  }
 ],
 "metadata": {
  "kernelspec": {
   "display_name": "Python 3",
   "language": "python",
   "name": "python3"
  },
  "language_info": {
   "codemirror_mode": {
    "name": "ipython",
    "version": 3
   },
   "file_extension": ".py",
   "mimetype": "text/x-python",
   "name": "python",
   "nbconvert_exporter": "python",
   "pygments_lexer": "ipython3",
   "version": "3.6.9"
  }
 },
 "nbformat": 4,
 "nbformat_minor": 2
}
