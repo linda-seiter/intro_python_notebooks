{
 "cells": [
  {
   "cell_type": "code",
   "execution_count": 1,
   "metadata": {},
   "outputs": [],
   "source": [
    "from PIL import Image               # to load images\n",
    "from IPython.display import display # to display images\n",
    "import numpy as np\n"
   ]
  },
  {
   "cell_type": "code",
   "execution_count": 1,
   "metadata": {},
   "outputs": [
    {
     "name": "stdout",
     "output_type": "stream",
     "text": [
      "5\n",
      "4\n",
      "3\n",
      "2\n",
      "1\n"
     ]
    }
   ],
   "source": [
    "'''\n",
    "Task1a\n",
    "'''\n",
    "\n",
    "for i in range(5,0,-1):\n",
    "    print(i)\n"
   ]
  },
  {
   "cell_type": "code",
   "execution_count": 2,
   "metadata": {},
   "outputs": [
    {
     "name": "stdout",
     "output_type": "stream",
     "text": [
      "5555555555\n",
      "4444444444\n",
      "3333333333\n",
      "2222222222\n",
      "1111111111\n"
     ]
    }
   ],
   "source": [
    "'''\n",
    "Task1b\n",
    "'''\n",
    "\n",
    "for i in range(5,0,-1):\n",
    "    for j in range(10):\n",
    "        print(i, end='')\n",
    "    print()\n"
   ]
  },
  {
   "cell_type": "code",
   "execution_count": 3,
   "metadata": {},
   "outputs": [
    {
     "name": "stdout",
     "output_type": "stream",
     "text": [
      "55555\n",
      "4444\n",
      "333\n",
      "22\n",
      "1\n"
     ]
    }
   ],
   "source": [
    "'''\n",
    "Task1c\n",
    "'''\n",
    "\n",
    "for i in range(5,0,-1):\n",
    "    for j in range(i):\n",
    "        print(i,end='')\n",
    "    print()\n"
   ]
  },
  {
   "cell_type": "markdown",
   "metadata": {},
   "source": [
    "Recall the factorial function n! = 1*2*3*...*n"
   ]
  },
  {
   "cell_type": "code",
   "execution_count": 14,
   "metadata": {},
   "outputs": [
    {
     "name": "stdout",
     "output_type": "stream",
     "text": [
      "1*\n",
      "1*2*\n",
      "1*2*3*\n",
      "1*2*3*4*\n",
      "1*2*3*4*5*\n"
     ]
    }
   ],
   "source": [
    "'''\n",
    "Task2a\n",
    "'''\n",
    "\n",
    "for n in range(1,6):\n",
    "    for i in range(1,n+1):\n",
    "        print('{}'.format(i),end='*')\n",
    "    print()\n",
    "    \n"
   ]
  },
  {
   "cell_type": "code",
   "execution_count": 1,
   "metadata": {},
   "outputs": [
    {
     "name": "stdout",
     "output_type": "stream",
     "text": [
      "1\n",
      "1*2\n",
      "1*2*3\n",
      "1*2*3*4\n",
      "1*2*3*4*5\n"
     ]
    }
   ],
   "source": [
    "'''\n",
    "Task2b \n",
    "'''\n",
    "\n",
    "for n in range(1,6):\n",
    "    for i in range(1,n+1):\n",
    "        if i<n:\n",
    "            print('{}'.format(i),end='*')\n",
    "        else:\n",
    "            print('{}'.format(i),end='')\n",
    "    print()\n",
    "    \n"
   ]
  },
  {
   "cell_type": "code",
   "execution_count": 1,
   "metadata": {},
   "outputs": [
    {
     "name": "stdout",
     "output_type": "stream",
     "text": [
      "1!  =  1\n",
      "2!  =  1*2\n",
      "3!  =  1*2*3\n",
      "4!  =  1*2*3*4\n",
      "5!  =  1*2*3*4*5\n"
     ]
    }
   ],
   "source": [
    "'''\n",
    "Task2c \n",
    "'''\n",
    "   \n",
    "for n in range(1,6):\n",
    "    print('{}!  =  '.format(n),end='')\n",
    "    for i in range(1,n+1):\n",
    "        if i<n:\n",
    "            print('{}'.format(i),end='*')\n",
    "        else:\n",
    "            print('{}'.format(i),end='')\n",
    "    print()\n",
    "    \n"
   ]
  },
  {
   "cell_type": "code",
   "execution_count": 3,
   "metadata": {},
   "outputs": [
    {
     "name": "stdout",
     "output_type": "stream",
     "text": [
      "1!  =  1  =  1\n",
      "2!  =  1*2  =  2\n",
      "3!  =  1*2*3  =  6\n",
      "4!  =  1*2*3*4  =  24\n",
      "5!  =  1*2*3*4*5  =  120\n"
     ]
    }
   ],
   "source": [
    "'''\n",
    "Task2d \n",
    "'''\n",
    "   \n",
    "for n in range(1,6):\n",
    "    total=1\n",
    "    print('{}!  =  '.format(n),end='')\n",
    "    for i in range(1,n+1):\n",
    "        total *= i\n",
    "        if i<n:\n",
    "            print('{}'.format(i),end='*')\n",
    "        else:\n",
    "            print('{}  =  {}'.format(i, total),end='')\n",
    "    print()\n",
    "    \n"
   ]
  },
  {
   "cell_type": "code",
   "execution_count": 20,
   "metadata": {},
   "outputs": [
    {
     "data": {
      "image/png": "[encoded data removed]",
      "text/plain": [
       "<PIL.Image.Image image mode=RGB size=100x100 at 0x7F0BC007D208>"
      ]
     },
     "metadata": {},
     "output_type": "display_data"
    },
    {
     "data": {
      "image/png": "[encoded data removed]",
      "text/plain": [
       "<PIL.Image.Image image mode=RGB size=100x100 at 0x7F0BC007D2E8>"
      ]
     },
     "metadata": {},
     "output_type": "display_data"
    }
   ],
   "source": [
    "'''\n",
    "Task3\n",
    "'''\n",
    "\n",
    "image = Image.new(mode = \"RGB\", size = (100, 100))\n",
    "display(image)  #displays image with all pixels colored black\n",
    "\n",
    "pixels_2D = np.array(image)\n",
    "rows = len(pixels_2D)\n",
    "cols = len(pixels_2D[0])#first row\n",
    "\n",
    "#add nested loop to set pixels in even columns blue , odd columns white (rgb all 255)\n",
    "for r in range(rows):\n",
    "    for c in range(cols):\n",
    "        if c  % 2 == 0:\n",
    "            pixels_2D[r][c] = [0, 0 , 255]\n",
    "        else:\n",
    "            pixels_2D[r][c] = [255, 255 , 255]\n",
    "\n",
    "#convert the pixels back to an image and display the image\n",
    "image = Image.fromarray(pixels_2D)\n",
    "display(image)"
   ]
  },
  {
   "cell_type": "code",
   "execution_count": null,
   "metadata": {},
   "outputs": [],
   "source": []
  }
 ],
 "metadata": {
  "kernelspec": {
   "display_name": "Python 3",
   "language": "python",
   "name": "python3"
  },
  "language_info": {
   "codemirror_mode": {
    "name": "ipython",
    "version": 3
   },
   "file_extension": ".py",
   "mimetype": "text/x-python",
   "name": "python",
   "nbconvert_exporter": "python",
   "pygments_lexer": "ipython3",
   "version": "3.6.9"
  }
 },
 "nbformat": 4,
 "nbformat_minor": 2
}
