{
 "cells": [
  {
   "cell_type": "code",
   "execution_count": 1,
   "metadata": {},
   "outputs": [],
   "source": [
    "import random"
   ]
  },
  {
   "cell_type": "code",
   "execution_count": 28,
   "metadata": {},
   "outputs": [
    {
     "name": "stdout",
     "output_type": "stream",
     "text": [
      "I need to save 25 dollars\n",
      "Saved $9 on day 1, need to save $16 more\n",
      "Saved $5 on day 2, need to save $11 more\n",
      "Saved $5 on day 3, need to save $6 more\n",
      "Saved $5 on day 4, need to save $1 more\n",
      "Saved $9 on day 5, goal exceeded by $8!\n"
     ]
    }
   ],
   "source": [
    "'''\n",
    "Task1a:\n",
    "'''\n",
    "\n",
    "dollars_remaining = 25\n",
    "day=1\n",
    "print('I need to save {} dollars'.format(dollars_remaining))\n",
    "while (dollars_remaining > 0):\n",
    "    save = random.randint(5,9)\n",
    "    dollars_remaining -= save\n",
    "    if dollars_remaining > 0:\n",
    "        print('Saved ${} on day {}, need to save ${} more'.format(save,day, dollars_remaining))\n",
    "    elif dollars_remaining == 0:\n",
    "        print('Saved ${} on day {}, goal met!'.format(save,day))\n",
    "    else:\n",
    "        print('Saved ${} on day {}, goal exceeded by ${}!'.format(save,day, -dollars_remaining))\n",
    "    \n",
    "    day +=1\n",
    "    \n",
    "    "
   ]
  },
  {
   "cell_type": "code",
   "execution_count": 83,
   "metadata": {},
   "outputs": [
    {
     "name": "stdout",
     "output_type": "stream",
     "text": [
      "I need to save 25 dollars in 4 days or less\n",
      "Saved $8 on day 1, need to save $17 more\n",
      "Saved $8 on day 2, need to save $9 more\n",
      "Saved $9 on day 3, goal met!\n"
     ]
    }
   ],
   "source": [
    "'''\n",
    "Task1b: only 4 days to reach goal\n",
    "'''\n",
    "\n",
    "dollars_remaining = 25\n",
    "day=1\n",
    "print('I need to save {} dollars in 4 days or less'.format(dollars_remaining))\n",
    "while (dollars_remaining > 0 and day <= 4):\n",
    "    save = random.randint(5,9)\n",
    "    dollars_remaining -= save\n",
    "    if dollars_remaining > 0:\n",
    "        print('Saved ${} on day {}, need to save ${} more'.format(save,day, dollars_remaining))\n",
    "    elif dollars_remaining == 0:\n",
    "        print('Saved ${} on day {}, goal met!'.format(save,day))\n",
    "    else:\n",
    "        print('Saved ${} on day {}, goal exceeded by ${}!'.format(save,day, -dollars_remaining))\n",
    "    \n",
    "    day +=1\n",
    "    \n",
    "if dollars_remaining > 0:\n",
    "    print('Goal not met')"
   ]
  },
  {
   "cell_type": "code",
   "execution_count": 62,
   "metadata": {},
   "outputs": [
    {
     "name": "stdout",
     "output_type": "stream",
     "text": [
      "Task2a tests pass\n"
     ]
    }
   ],
   "source": [
    "'''\n",
    "Task2a\n",
    "'''\n",
    "\n",
    "def exactly_2_match(a,b,c):\n",
    "    return ((a == b or b == c or c == a) and (a != b or b != c) )\n",
    "        \n",
    "assert(exactly_2_match(5,5,8)  == True)  #1st and 2nd match\n",
    "assert(exactly_2_match(4,6,6)  == True)  #2nd and 3rd match\n",
    "assert(exactly_2_match(7,3,7)  == True)  #1st and 3rd match\n",
    "assert(exactly_2_match(3,3,3)  == False) #all match\n",
    "assert(exactly_2_match(1,2,3)  == False) #no match\n",
    "\n",
    "print('Task2a tests pass')"
   ]
  },
  {
   "cell_type": "code",
   "execution_count": 63,
   "metadata": {},
   "outputs": [
    {
     "name": "stdout",
     "output_type": "stream",
     "text": [
      "Task2a tests pass\n"
     ]
    }
   ],
   "source": [
    "'''\n",
    "Task2a - alternate version\n",
    "'''\n",
    "\n",
    "def exactly_2_match(a,b,c):\n",
    "    return ((a == b or b == c or c == a) and not (a == b and b == c) )\n",
    "        \n",
    "assert(exactly_2_match(5,5,8)  == True)  #1st and 2nd match\n",
    "assert(exactly_2_match(4,6,6)  == True)  #2nd and 3rd match\n",
    "assert(exactly_2_match(7,3,7)  == True)  #1st and 3rd match\n",
    "assert(exactly_2_match(3,3,3)  == False) #all match\n",
    "assert(exactly_2_match(1,2,3)  == False) #no match\n",
    "\n",
    "print('Task2a tests pass')"
   ]
  },
  {
   "cell_type": "code",
   "execution_count": null,
   "metadata": {},
   "outputs": [],
   "source": [
    "'''\n",
    "Task2b\n",
    "'''\n",
    "\n",
    "def exactly_2_match_V2(a,b,c):\n",
    "    if (a == b):\n",
    "        if (b == c):\n",
    "            return False\n",
    "        else:\n",
    "            return True\n",
    "    elif (b == c):\n",
    "        return True\n",
    "    elif (a == c):\n",
    "        return True\n",
    "    else:\n",
    "        return False\n",
    "        \n",
    "        \n",
    "#Test cases\n",
    "\n",
    "assert(exactly_2_match_V2(5,5,8)  == True)  #1st and 2nd match\n",
    "assert(exactly_2_match_V2(4,6,6)  == True)  #2nd and 3rd match\n",
    "assert(exactly_2_match_V2(7,3,7)  == True)  #1st and 3rd match\n",
    "assert(exactly_2_match_V2(3,3,3)  == False) #all match\n",
    "assert(exactly_2_match_V2(1,2,3)  == False) #no match\n",
    "\n",
    "print('Task2b tests pass')"
   ]
  },
  {
   "cell_type": "code",
   "execution_count": 31,
   "metadata": {},
   "outputs": [
    {
     "name": "stdout",
     "output_type": "stream",
     "text": [
      "tests passed\n"
     ]
    }
   ],
   "source": [
    "'''\n",
    "Task3   extract function name\n",
    "'''\n",
    "\n",
    "def function_name(str) :\n",
    "    start = str.find('def ')\n",
    "    if start == 0:\n",
    "        end = str.find('(')\n",
    "        if end != -1 and end > start:\n",
    "            return str[4:end]\n",
    "        else:\n",
    "            return ''\n",
    "    else:\n",
    "        return ''\n",
    "\n",
    "assert(function_name('def mystery(n,m):') == 'mystery')\n",
    "assert(function_name('def test():') == 'test')\n",
    "assert(function_name('definitely not():') == '') #missing space immediately after def\n",
    "assert(function_name('abc mno():') == '') #missing def \n",
    "assert(function_name('def compare:') == '')  #missing left paren\n",
    "assert(function_name('abc def test():') == '') #string must start with def followed by space \n",
    "print('tests passed')"
   ]
  },
  {
   "cell_type": "code",
   "execution_count": 3,
   "metadata": {},
   "outputs": [
    {
     "name": "stdout",
     "output_type": "stream",
     "text": [
      "Task4 tests passed\n"
     ]
    }
   ],
   "source": [
    "'''\n",
    "Task4 \n",
    "'''\n",
    "\n",
    "def review_lookup(movies, comments, movie):\n",
    "    for i in range(len(movies)):\n",
    "        if movies[i] == movie:\n",
    "            return comments[i]\n",
    "    return 'no comment' #not found\n",
    "\n",
    "#Test cases\n",
    "\n",
    "movies = ['the bad guys', 'morbius', 'the northman']\n",
    "bobs_comments = ['funny', 'awesome', 'scary']\n",
    "sues_comments = ['just ok', 'hated it!', 'boring']\n",
    "\n",
    "assert(review_lookup(movies, bobs_comments, 'the bad guys') == 'funny')\n",
    "assert(review_lookup(movies, bobs_comments, 'the northman') == 'scary')\n",
    "assert(review_lookup(movies, sues_comments, 'the bad guys') == 'just ok')\n",
    "assert(review_lookup(movies, sues_comments, 'morbius') == 'hated it!')\n",
    "assert(review_lookup(movies, sues_comments, 'sonic 2') == 'no comment')  #movie not found\n",
    "\n",
    "print('Task4 tests passed')\n"
   ]
  },
  {
   "cell_type": "code",
   "execution_count": 5,
   "metadata": {},
   "outputs": [
    {
     "name": "stdout",
     "output_type": "stream",
     "text": [
      "Task4 tests passed\n"
     ]
    }
   ],
   "source": [
    "'''\n",
    "Task4 alternate implementation\n",
    "'''\n",
    "\n",
    "def review_lookup(movies, comments, movie):\n",
    "    if movie in movies:\n",
    "        i = movies.index(movie)\n",
    "        return comments[i]\n",
    "    else:\n",
    "        return 'no comment' #not found\n",
    "\n",
    "#Test cases\n",
    "\n",
    "movies = ['the bad guys', 'morbius', 'the northman']\n",
    "bobs_comments = ['funny', 'awesome', 'scary']\n",
    "sues_comments = ['just ok', 'hated it!', 'boring']\n",
    "\n",
    "assert(review_lookup(movies, bobs_comments, 'the bad guys') == 'funny')\n",
    "assert(review_lookup(movies, bobs_comments, 'the northman') == 'scary')\n",
    "assert(review_lookup(movies, sues_comments, 'the bad guys') == 'just ok')\n",
    "assert(review_lookup(movies, sues_comments, 'morbius') == 'hated it!')\n",
    "assert(review_lookup(movies, sues_comments, 'sonic 2') == 'no comment')  #movie not found\n",
    "\n",
    "print('Task4 tests passed')\n"
   ]
  },
  {
   "cell_type": "code",
   "execution_count": 10,
   "metadata": {},
   "outputs": [
    {
     "name": "stdout",
     "output_type": "stream",
     "text": [
      "Tests passed\n"
     ]
    }
   ],
   "source": [
    "'''\n",
    "Task5 - function to take nested list and count number of odd values\n",
    "'''\n",
    "\n",
    "def odd_days(list):\n",
    "    count = 0\n",
    "    for patient in list:\n",
    "        for day in patient:\n",
    "            if day % 2 == 1:\n",
    "                count += 1\n",
    "    return count\n",
    "\n",
    "\n",
    "#Test cases\n",
    "#Each row/sublist represents the days a particular patient visited the clinic.  \n",
    "#The first patient visited on January 2 and January 6. \n",
    "january_patient_visits= [\n",
    "    [2, 6], \n",
    "    [3, 10], \n",
    "    [1], \n",
    "    [6], \n",
    "    [1, 8, 15, 22, 29], \n",
    "    [14]\n",
    "]\n",
    "\n",
    "february_patient_visits = [\n",
    "    [2, 4, 6],\n",
    "    [4, 10, 20],\n",
    "    [10, 28]\n",
    "]\n",
    "\n",
    "assert(odd_days(january_patient_visits) == 5)\n",
    "assert(odd_days(february_patient_visits) == 0)\n",
    "print('Tests passed')"
   ]
  }
 ],
 "metadata": {
  "kernelspec": {
   "display_name": "Python 3",
   "language": "python",
   "name": "python3"
  },
  "language_info": {
   "codemirror_mode": {
    "name": "ipython",
    "version": 3
   },
   "file_extension": ".py",
   "mimetype": "text/x-python",
   "name": "python",
   "nbconvert_exporter": "python",
   "pygments_lexer": "ipython3",
   "version": "3.6.9"
  }
 },
 "nbformat": 4,
 "nbformat_minor": 2
}
