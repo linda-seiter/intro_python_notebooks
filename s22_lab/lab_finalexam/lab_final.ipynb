{
 "cells": [
  {
   "cell_type": "code",
   "execution_count": null,
   "metadata": {},
   "outputs": [],
   "source": [
    "import random"
   ]
  },
  {
   "cell_type": "code",
   "execution_count": null,
   "metadata": {},
   "outputs": [],
   "source": [
    "'''\n",
    "Task1a:\n",
    "'''\n",
    "\n",
    " "
   ]
  },
  {
   "cell_type": "code",
   "execution_count": null,
   "metadata": {},
   "outputs": [],
   "source": [
    "'''\n",
    "Task1b: \n",
    "'''\n",
    "\n"
   ]
  },
  {
   "cell_type": "code",
   "execution_count": null,
   "metadata": {},
   "outputs": [],
   "source": [
    "'''\n",
    "Task2a\n",
    "'''\n",
    "\n",
    "#Write function here\n",
    "\n",
    "\n",
    "\n",
    "#Test Cases\n",
    "assert(exactly_2_match(5,5,8)  == True)  #1st and 2nd match\n",
    "assert(exactly_2_match(4,6,6)  == True)  #2nd and 3rd match\n",
    "assert(exactly_2_match(7,3,7)  == True)  #1st and 3rd match\n",
    "assert(exactly_2_match(3,3,3)  == False) #all match\n",
    "assert(exactly_2_match(1,2,3)  == False) #no match\n",
    "\n",
    "print('Task2a tests pass')"
   ]
  },
  {
   "cell_type": "code",
   "execution_count": null,
   "metadata": {},
   "outputs": [],
   "source": [
    "'''\n",
    "Task2b\n",
    "'''\n",
    "\n",
    "#Write function here\n",
    "\n",
    "\n",
    "\n",
    "#Test Cases\n",
    "assert(exactly_2_match_V2(5,5,8)  == True)  #1st and 2nd match\n",
    "assert(exactly_2_match_V2(4,6,6)  == True)  #2nd and 3rd match\n",
    "assert(exactly_2_match_V2(7,3,7)  == True)  #1st and 3rd match\n",
    "assert(exactly_2_match_V2(3,3,3)  == False) #all match\n",
    "assert(exactly_2_match_V2(1,2,3)  == False) #no match\n",
    "\n",
    "print('Task2b tests pass')"
   ]
  },
  {
   "cell_type": "code",
   "execution_count": null,
   "metadata": {},
   "outputs": [],
   "source": [
    "'''\n",
    "Task3  \n",
    "'''\n",
    "\n",
    "#Write function here\n",
    "\n",
    "\n",
    "\n",
    "#Test Cases\n",
    "\n",
    "assert(function_name('def mystery(n,m):') == 'mystery')\n",
    "assert(function_name('def test():') == 'test')\n",
    "assert(function_name('definitely not():') == '') #missing space immediately after def\n",
    "assert(function_name('abc mno():') == '') #missing def \n",
    "assert(function_name('def compare:') == '')  #missing left paren\n",
    "assert(function_name('abc def test():') == '') #string must start with def followed by space \n",
    "print('tests passed')"
   ]
  },
  {
   "cell_type": "code",
   "execution_count": null,
   "metadata": {},
   "outputs": [],
   "source": [
    "'''\n",
    "Task4 \n",
    "'''\n",
    "\n",
    "#Write function here\n",
    "\n",
    "\n",
    "\n",
    "#Test Cases\n",
    "\n",
    "movies = ['the bad guys', 'morbius', 'the northman']\n",
    "bobs_comments = ['funny', 'awesome', 'scary']\n",
    "sues_comments = ['just ok', 'hated it!', 'boring']\n",
    "\n",
    "assert(review_lookup(movies, bobs_comments, 'the bad guys') == 'funny')\n",
    "assert(review_lookup(movies, bobs_comments, 'the northman') == 'scary')\n",
    "assert(review_lookup(movies, sues_comments, 'the bad guys') == 'just ok')\n",
    "assert(review_lookup(movies, sues_comments, 'morbius') == 'hated it!')\n",
    "assert(review_lookup(movies, sues_comments, 'sonic 2') == 'no comment')  #movie not found\n",
    "\n",
    "print('Task4 tests passed')\n"
   ]
  }
 ],
 "metadata": {
  "kernelspec": {
   "display_name": "Python 3",
   "language": "python",
   "name": "python3"
  },
  "language_info": {
   "codemirror_mode": {
    "name": "ipython",
    "version": 3
   },
   "file_extension": ".py",
   "mimetype": "text/x-python",
   "name": "python",
   "nbconvert_exporter": "python",
   "pygments_lexer": "ipython3",
   "version": "3.6.9"
  }
 },
 "nbformat": 4,
 "nbformat_minor": 2
}
