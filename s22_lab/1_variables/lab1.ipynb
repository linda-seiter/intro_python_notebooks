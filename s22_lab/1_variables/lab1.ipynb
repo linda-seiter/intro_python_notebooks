{
 "cells": [
  {
   "cell_type": "markdown",
   "metadata": {},
   "source": [
    "### CS128 Lab 1 Solution - Python Variables"
   ]
  },
  {
   "cell_type": "markdown",
   "metadata": {},
   "source": [
    "Try to follow the convention of one space around operators  = and + and ,\n"
   ]
  },
  {
   "cell_type": "code",
   "execution_count": null,
   "metadata": {},
   "outputs": [],
   "source": [
    "'''\n",
    "TASK1\n",
    "'''\n",
    "\n",
    "hours_worked = 30\n",
    "hourly_rate = 12.50\n",
    "\n",
    "# Multiply the variables hours_worked and  hourly_rate, \n",
    "# and assign the result to a new variable weekly_salary \n",
    "\n",
    "\n",
    "\n",
    "# Print a response about the weekly salary value as shown in the lab instructions\n",
    "\n",
    "\n"
   ]
  },
  {
   "cell_type": "code",
   "execution_count": null,
   "metadata": {},
   "outputs": [],
   "source": [
    "'''\n",
    "TASK2\n",
    "'''\n",
    "\n",
    "seconds_in_minute = 60\n",
    "minutes_in_hour = 60\n",
    "hours_in_day = 24\n",
    "days_in_week = 7\n",
    "\n",
    "# compute how many seconds in a day, \n",
    "# store the result in a variable named seconds_in_day\n",
    "\n",
    "\n",
    "\n",
    "# print the number of seconds in 1 day using seconds_in_day as shown in the lab instructions\n",
    "\n",
    "\n",
    "\n",
    "# compute how many seconds in a week, \n",
    "# store the result in a variable named seconds_in_week\n",
    "\n",
    "\n",
    "\n",
    "# print the number of seconds in 1 week using seconds_in_week as shown in the lab instructions\n",
    "\n",
    "\n"
   ]
  },
  {
   "cell_type": "code",
   "execution_count": null,
   "metadata": {},
   "outputs": [],
   "source": [
    "'''\n",
    "TASK3\n",
    "'''\n",
    "\n",
    "# Ask the user to input their favorite color. \n",
    "# Store the result in a variable named color.\n",
    "color = input('What is your favorite color?')\n",
    "\n",
    "# Print a response about the color as shown in the lab instructions.\n",
    "\n",
    "\n",
    "\n",
    "# Ask the user to input their favorite author. \n",
    "# Store the result in a variable named author.\n",
    "\n",
    "\n",
    "\n",
    "# Print a response about the author as shown in the lab instructions.\n",
    "\n",
    "\n"
   ]
  },
  {
   "cell_type": "code",
   "execution_count": null,
   "metadata": {},
   "outputs": [],
   "source": [
    "'''\n",
    "TASK4\n",
    "'''\n",
    "\n",
    "# Ask the user to input the number of people.\n",
    "# Store the result as an integer in a variable named num_people.\n",
    "num_people = int(input('How many people?'))\n",
    "\n",
    "# Ask the user to input the number of pizza slices. \n",
    "# Store the result as an integer in a variable named num_slices.\n",
    "\n",
    "\n",
    "\n",
    "#Calculate the slices per person, storing the result in a variable named slices_per_person\n",
    "\n",
    "\n",
    "\n",
    "# Print a response about the slices per person as shown in the lab instructions.\n",
    "\n",
    "\n"
   ]
  },
  {
   "cell_type": "code",
   "execution_count": null,
   "metadata": {},
   "outputs": [],
   "source": []
  }
 ],
 "metadata": {
  "kernelspec": {
   "display_name": "Python 3",
   "language": "python",
   "name": "python3"
  },
  "language_info": {
   "codemirror_mode": {
    "name": "ipython",
    "version": 3
   },
   "file_extension": ".py",
   "mimetype": "text/x-python",
   "name": "python",
   "nbconvert_exporter": "python",
   "pygments_lexer": "ipython3",
   "version": "3.6.9"
  }
 },
 "nbformat": 4,
 "nbformat_minor": 2
}
