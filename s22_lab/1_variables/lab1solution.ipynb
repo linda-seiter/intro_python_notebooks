{
 "cells": [
  {
   "cell_type": "markdown",
   "metadata": {},
   "source": [
    "### CS128 Lab 1 Solution - Python Variables"
   ]
  },
  {
   "cell_type": "markdown",
   "metadata": {},
   "source": [
    "Try to follow the convention of one space around operators  = and + and ,\n"
   ]
  },
  {
   "cell_type": "code",
   "execution_count": 1,
   "metadata": {},
   "outputs": [
    {
     "name": "stdout",
     "output_type": "stream",
     "text": [
      "Your weekly salary is 375.0\n"
     ]
    }
   ],
   "source": [
    "'''\n",
    "TASK1\n",
    "'''\n",
    "\n",
    "hours_worked = 30\n",
    "hourly_rate = 12.50\n",
    "\n",
    "# Multiply the variables hours_worked and  hourly_rate, \n",
    "# and assign the result to a new variable weekly_salary \n",
    "weekly_salary = hours_worked * hourly_rate\n",
    "\n",
    "# Print a response about the weekly salary value as shown in the lab instructions\n",
    "print('Your weekly salary is' , weekly_salary)\n"
   ]
  },
  {
   "cell_type": "code",
   "execution_count": 2,
   "metadata": {},
   "outputs": [
    {
     "name": "stdout",
     "output_type": "stream",
     "text": [
      "There are  86400 seconds in 1 day\n",
      "There are 604800 seconds in 1 week\n"
     ]
    }
   ],
   "source": [
    "'''\n",
    "TASK2\n",
    "'''\n",
    "\n",
    "seconds_in_minute = 60\n",
    "minutes_in_hour = 60\n",
    "hours_in_day = 24\n",
    "days_in_week = 7\n",
    "\n",
    "# compute how many seconds in a day, \n",
    "# store the result in a variable named seconds_in_day\n",
    "seconds_in_day = seconds_in_minute * minutes_in_hour * hours_in_day\n",
    "\n",
    "# print the number of seconds in 1 day using seconds_in_day as shown in the lab instructions\n",
    "print('There are ' , seconds_in_day , 'seconds in 1 day')\n",
    "\n",
    "# compute how many seconds in a week, \n",
    "# store the result in a variable named seconds_in_week\n",
    "seconds_in_week = seconds_in_day * days_in_week\n",
    "\n",
    "# print the number of seconds in 1 week using seconds_in_week as shown in the lab instructions\n",
    "print('There are' , seconds_in_week , 'seconds in 1 week')"
   ]
  },
  {
   "cell_type": "code",
   "execution_count": 3,
   "metadata": {},
   "outputs": [
    {
     "name": "stdout",
     "output_type": "stream",
     "text": [
      "What is your favorite color?blue\n",
      "I like blue too!\n",
      "Who is your favorite author?Fred Smith\n",
      "I have not read any books by Fred Smith\n"
     ]
    }
   ],
   "source": [
    "'''\n",
    "TASK3\n",
    "'''\n",
    "\n",
    "# Ask the user to input their favorite color. \n",
    "# Store the result in a variable named color.\n",
    "color = input('What is your favorite color?')\n",
    "\n",
    "# Print a response about the color as shown in the lab instructions.\n",
    "print('I like', color, 'too!')\n",
    "\n",
    "# Ask the user to input their favorite author. \n",
    "# Store the result in a variable named author.\n",
    "author = input('Who is your favorite author?')\n",
    "\n",
    "# Print a response about the author as shown in the lab instructions.\n",
    "print('I have not read any books by' , author)"
   ]
  },
  {
   "cell_type": "code",
   "execution_count": 4,
   "metadata": {},
   "outputs": [
    {
     "name": "stdout",
     "output_type": "stream",
     "text": [
      "How many people?2\n",
      "How many pizza slices?10\n",
      "10 slices split among 2 people means each person gets 5.0 slices\n"
     ]
    }
   ],
   "source": [
    "'''\n",
    "TASK4\n",
    "'''\n",
    "\n",
    "# Ask the user to input the number of people.\n",
    "# Store the result as an integer in a variable named num_people.\n",
    "num_people = int(input('How many people?'))\n",
    "\n",
    "# Ask the user to input the number of pizza slices. \n",
    "# Store the result as an integer in a variable named num_slices.\n",
    "num_slices = int(input('How many pizza slices?'))\n",
    "\n",
    "#Calculate the slices per person, storing the result in a variable named slices_per_person\n",
    "slices_per_person = num_slices / num_people\n",
    "\n",
    "# Print a response about the slices per person as shown in the lab instructions.\n",
    "print(num_slices , 'slices split among' , num_people , 'people means each person gets', slices_per_person, 'slices')"
   ]
  },
  {
   "cell_type": "code",
   "execution_count": null,
   "metadata": {},
   "outputs": [],
   "source": []
  }
 ],
 "metadata": {
  "kernelspec": {
   "display_name": "Python 3",
   "language": "python",
   "name": "python3"
  },
  "language_info": {
   "codemirror_mode": {
    "name": "ipython",
    "version": 3
   },
   "file_extension": ".py",
   "mimetype": "text/x-python",
   "name": "python",
   "nbconvert_exporter": "python",
   "pygments_lexer": "ipython3",
   "version": "3.6.9"
  }
 },
 "nbformat": 4,
 "nbformat_minor": 2
}
