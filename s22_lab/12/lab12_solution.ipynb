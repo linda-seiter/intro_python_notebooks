{
 "cells": [
  {
   "cell_type": "code",
   "execution_count": 2,
   "metadata": {},
   "outputs": [],
   "source": [
    "import random"
   ]
  },
  {
   "cell_type": "code",
   "execution_count": 45,
   "metadata": {},
   "outputs": [
    {
     "name": "stdout",
     "output_type": "stream",
     "text": [
      "silly rabbit jumps foolishly\n"
     ]
    }
   ],
   "source": [
    "'''\n",
    "Task1a\n",
    "'''\n",
    "\n",
    "adjectives = [\"adorable\", \"old\", \"silly\"]\n",
    "nouns = [\"puppy\", \"car\", \"rabbit\"]\n",
    "verbs = [\"runs\", \"steers\", \"jumps\"] \n",
    "adverbs = [\"crazily\", \"crazily\", \"foolishly\"]\n",
    "num = random.randint(0,len(adj)-1)  #randint is inclusive\n",
    "print('{} {} {} {}'.format( adjectives[num], nouns[num] ,verbs[num] ,adverbs[num] ))  "
   ]
  },
  {
   "cell_type": "code",
   "execution_count": 56,
   "metadata": {},
   "outputs": [
    {
     "name": "stdout",
     "output_type": "stream",
     "text": [
      "silly rabbit jumps foolishly "
     ]
    }
   ],
   "source": [
    "'''\n",
    "Task1b\n",
    "'''\n",
    "\n",
    "words = [\n",
    "    [\"adorable\", \"old\", \"silly\"],\n",
    "    [\"puppy\", \"car\", \"rabbit\"],\n",
    "    [\"runs\", \"steers\", \"jumps\"], \n",
    "    [\"crazily\", \"crazily\", \"foolishly\"]\n",
    "]\n",
    "num = random.randint(0,len(words[0])-1)\n",
    "for i in range(len(words)):\n",
    "    print(words[i][num], end = ' ')  "
   ]
  },
  {
   "cell_type": "code",
   "execution_count": 21,
   "metadata": {},
   "outputs": [
    {
     "name": "stdout",
     "output_type": "stream",
     "text": [
      "enter noun,verb,adjective,adverb:pizza\n",
      "1 words entered, need 3 more to generate sentence.\n"
     ]
    }
   ],
   "source": [
    "'''\n",
    "Task2\n",
    "'''\n",
    "word_str = input('enter noun,verb,adjective,adverb:')\n",
    "word_list = word_str.split(',')\n",
    "if len(word_list) >= 4:\n",
    "    print('The {} {} {} {}'.format(word_list[2], word_list[0], word_list[1], word_list[3]))\n",
    "else:\n",
    "    print('{} words entered, need {} more to generate sentence.'.format( len(word_list), 4 - len(word_list)))\n",
    "   "
   ]
  },
  {
   "cell_type": "code",
   "execution_count": 20,
   "metadata": {},
   "outputs": [
    {
     "name": "stdout",
     "output_type": "stream",
     "text": [
      "enter noun,verb,adjective,adverb:cat,meows,pretty\n",
      "3 words entered, need 1 more to generate sentence.\n"
     ]
    }
   ],
   "source": [
    "'''\n",
    "Task3 don't use split for this version.  need to get substrings based on comma positions\n",
    "'''\n",
    " \n",
    "word_str = input('enter noun,verb,adjective,adverb:')\n",
    "count = word_str.count(',')\n",
    "if count < 3:\n",
    "    print('{} words entered, need {} more to generate sentence.'.format( count+1, 3 - count))\n",
    "else:   \n",
    "    comma1 = word_str.find(',')\n",
    "    comma2 = word_str.find(',',comma1+1)\n",
    "    comma3 = word_str.find(',',comma2+1)\n",
    "    noun = word_str[0:comma1]\n",
    "    verb = word_str[comma1+1:comma2]\n",
    "    adjective = word_str[comma2+1:comma3]\n",
    "    adverb = word_str[comma3+1:]\n",
    "    print('The {} {} {} {}'.format(adjective, noun, verb, adverb))\n"
   ]
  },
  {
   "cell_type": "code",
   "execution_count": 14,
   "metadata": {},
   "outputs": [
    {
     "name": "stdout",
     "output_type": "stream",
     "text": [
      "small mushroom pizza\n",
      "small pepperoni pizza\n",
      "small olives pizza\n",
      "small sausage pizza\n",
      "medium mushroom pizza\n",
      "medium pepperoni pizza\n",
      "medium olives pizza\n",
      "medium sausage pizza\n",
      "large mushroom pizza\n",
      "large pepperoni pizza\n",
      "large olives pizza\n",
      "large sausage pizza\n"
     ]
    }
   ],
   "source": [
    "'''\n",
    "Task4\n",
    "'''\n",
    "\n",
    "sizes=['small','medium','large']\n",
    "toppings=['mushroom','pepperoni','olives','sausage']\n",
    "for size in sizes:\n",
    "    for topping in toppings:\n",
    "        print('{} {} pizza'.format(size, topping))\n"
   ]
  },
  {
   "cell_type": "code",
   "execution_count": 23,
   "metadata": {},
   "outputs": [
    {
     "name": "stdout",
     "output_type": "stream",
     "text": [
      "Jones-Chen\n",
      "Jones-Smith\n",
      "Jones-Miller\n",
      "Chen-Jones\n",
      "Chen-Smith\n",
      "Chen-Miller\n",
      "Smith-Jones\n",
      "Smith-Chen\n",
      "Smith-Miller\n",
      "Miller-Jones\n",
      "Miller-Chen\n",
      "Miller-Smith\n"
     ]
    }
   ],
   "source": [
    "'''\n",
    "Task5\n",
    "'''\n",
    "\n",
    "names=['Jones','Chen','Smith','Miller']\n",
    "for name1 in names:\n",
    "    for name2 in names:\n",
    "        if name1 != name2:\n",
    "            print('{}-{}'.format(name1, name2))\n"
   ]
  }
 ],
 "metadata": {
  "kernelspec": {
   "display_name": "Python 3",
   "language": "python",
   "name": "python3"
  },
  "language_info": {
   "codemirror_mode": {
    "name": "ipython",
    "version": 3
   },
   "file_extension": ".py",
   "mimetype": "text/x-python",
   "name": "python",
   "nbconvert_exporter": "python",
   "pygments_lexer": "ipython3",
   "version": "3.6.9"
  }
 },
 "nbformat": 4,
 "nbformat_minor": 2
}
