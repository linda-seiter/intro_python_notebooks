{
 "cells": [
  {
   "cell_type": "markdown",
   "metadata": {},
   "source": [
    "Use the [Python Visualier](http://www.pythontutor.com/visualize.html#mode=edit) if you run into problems with your loops."
   ]
  },
  {
   "cell_type": "code",
   "execution_count": 3,
   "metadata": {},
   "outputs": [],
   "source": [
    "import math\n",
    "import random\n",
    "from ipycanvas import Canvas\n"
   ]
  },
  {
   "cell_type": "code",
   "execution_count": 21,
   "metadata": {
    "scrolled": false
   },
   "outputs": [
    {
     "name": "stdout",
     "output_type": "stream",
     "text": [
      "Sold 12 boxes of cookies on day 1\n",
      "Sold 6 boxes of cookies on day 2\n",
      "Sold 5 boxes of cookies on day 3\n",
      "Sold 16 boxes of cookies on day 4\n",
      "Sold 10 boxes of cookies on day 5\n",
      "Sold 6 boxes of cookies on day 6\n",
      "Sold 17 boxes of cookies on day 7\n",
      "Sold 5 boxes of cookies on day 8\n",
      "Sold 2 boxes of cookies on day 9\n",
      "Sold 6 boxes of cookies on day 10\n"
     ]
    }
   ],
   "source": [
    "'''\n",
    "Task1a\n",
    "'''\n",
    "\n",
    "day = 1\n",
    "while day <= 10:\n",
    "    num = random.randint(1,20)\n",
    "    print('Sold {} boxes of cookies on day {}'.format(num,day))\n",
    "    day += 1\n"
   ]
  },
  {
   "cell_type": "code",
   "execution_count": 79,
   "metadata": {
    "scrolled": false
   },
   "outputs": [
    {
     "name": "stdout",
     "output_type": "stream",
     "text": [
      "Sold 15 boxes of cookies on day 1. Total sales: 15 boxes\n",
      "Sold 19 boxes of cookies on day 2. Total sales: 34 boxes\n",
      "Sold 16 boxes of cookies on day 3. Total sales: 50 boxes\n",
      "Sold 2 boxes of cookies on day 4. Total sales: 52 boxes\n",
      "Sold 6 boxes of cookies on day 5. Total sales: 58 boxes\n",
      "Sold 14 boxes of cookies on day 6. Total sales: 72 boxes\n",
      "Sold 19 boxes of cookies on day 7. Total sales: 91 boxes\n",
      "Sold 17 boxes of cookies on day 8. Total sales: 108 boxes\n",
      "Sales quota reached \n"
     ]
    }
   ],
   "source": [
    "'''\n",
    "Task1b\n",
    "'''\n",
    "\n",
    "day = 1\n",
    "total = 0\n",
    "while total < 100:\n",
    "    num = random.randint(1,20)\n",
    "    total += num\n",
    "    print('Sold {} boxes of cookies on day {}. Total sales: {} boxes'.format(num,day, total))\n",
    "    day += 1\n",
    "print('Sales quota reached ')"
   ]
  },
  {
   "cell_type": "code",
   "execution_count": 65,
   "metadata": {},
   "outputs": [
    {
     "name": "stdout",
     "output_type": "stream",
     "text": [
      "Cold 31\n",
      "Moderate 45\n",
      "Cold 44\n",
      "Moderate 55\n",
      "Cold 42\n"
     ]
    }
   ],
   "source": [
    "'''\n",
    "Task2a\n",
    "'''\n",
    "\n",
    "count = 0\n",
    "while count < 5:\n",
    "    temperature = random.randint(30,55)\n",
    "    if temperature >= 45:\n",
    "        print('Moderate {}'.format(temperature))\n",
    "    else:\n",
    "        print('Cold {}'.format(temperature))\n",
    "    count += 1\n",
    "   "
   ]
  },
  {
   "cell_type": "code",
   "execution_count": 68,
   "metadata": {},
   "outputs": [
    {
     "name": "stdout",
     "output_type": "stream",
     "text": [
      "Cold 38\n",
      "Moderate 49\n",
      "Cold 38\n",
      "Cold 37\n",
      "Cold 31\n",
      "Cold 43\n",
      "Moderate 46\n",
      "Cold 35\n",
      "Moderate 51\n",
      "Cold 30\n",
      "Moderate 50\n",
      "Moderate 46\n",
      "Moderate 51\n",
      "Spring has arrived!\n"
     ]
    }
   ],
   "source": [
    "'''\n",
    "Task2b\n",
    "'''\n",
    "\n",
    "count = 0\n",
    "while count < 3:\n",
    "    temperature = random.randint(30,55)\n",
    "    if temperature >= 45:\n",
    "        count += 1\n",
    "        print('Moderate {}'.format(temperature))\n",
    "    else:\n",
    "        count = 0\n",
    "        print('Cold {}'.format(temperature))\n",
    "print('Spring has arrived!') "
   ]
  },
  {
   "cell_type": "code",
   "execution_count": 69,
   "metadata": {},
   "outputs": [
    {
     "name": "stdout",
     "output_type": "stream",
     "text": [
      "how many matching parenthesis?10\n",
      "(((((((((())))))))))"
     ]
    }
   ],
   "source": [
    "'''\n",
    "Task3\n",
    "'''\n",
    "\n",
    "numparens = int(input('how many matching parenthesis?'))\n",
    "    \n",
    "count = 0\n",
    "while count < numparens:\n",
    "    print(\"(\",end='')\n",
    "    count +=1\n",
    "count = 0\n",
    "while count < numparens:\n",
    "    print(\")\",end='')\n",
    "    count +=1\n",
    "   "
   ]
  },
  {
   "cell_type": "code",
   "execution_count": 71,
   "metadata": {},
   "outputs": [
    {
     "data": {
      "application/vnd.jupyter.widget-view+json": {
       "model_id": "de4854e09c224444a6571baa21d80cd7",
       "version_major": 2,
       "version_minor": 0
      },
      "text/plain": [
       "Canvas(height=400, width=400)"
      ]
     },
     "metadata": {},
     "output_type": "display_data"
    }
   ],
   "source": [
    "'''\n",
    "Task4a\n",
    "'''\n",
    "\n",
    "canvas = Canvas(width=400, height=400)\n",
    "display(canvas)\n",
    "canvas.stroke_rect(0,0,400,400)\n",
    "canvas.stroke_style = 'red'\n",
    "line_y = 300\n",
    "canvas.stroke_line(0,line_y,400,line_y)\n",
    "x = 0\n",
    "y = 0\n",
    "count = 1\n",
    "while count <= 5:\n",
    "    canvas.fill_rect(x,y,10,10)\n",
    "    x += 10\n",
    "    y += 10\n",
    "    count += 1"
   ]
  },
  {
   "cell_type": "code",
   "execution_count": 86,
   "metadata": {},
   "outputs": [
    {
     "data": {
      "application/vnd.jupyter.widget-view+json": {
       "model_id": "54ff2f18058146cd9c7df155dd048b4e",
       "version_major": 2,
       "version_minor": 0
      },
      "text/plain": [
       "Canvas(height=400, width=400)"
      ]
     },
     "metadata": {},
     "output_type": "display_data"
    }
   ],
   "source": [
    "'''\n",
    "Task4b\n",
    "'''\n",
    "\n",
    "canvas = Canvas(width=400, height=400)\n",
    "display(canvas)\n",
    "canvas.stroke_rect(0,0,400,400)\n",
    "canvas.stroke_style = 'red'\n",
    "line_y = 300\n",
    "canvas.stroke_line(0,line_y,400,line_y)\n",
    "x = 0\n",
    "y = 0\n",
    "while y < line_y:\n",
    "    canvas.fill_rect(x,y,10,10)\n",
    "    x += 10\n",
    "    y += 10"
   ]
  },
  {
   "cell_type": "code",
   "execution_count": 89,
   "metadata": {},
   "outputs": [
    {
     "data": {
      "application/vnd.jupyter.widget-view+json": {
       "model_id": "8575eebe52804f7f8315c624bd5599c4",
       "version_major": 2,
       "version_minor": 0
      },
      "text/plain": [
       "Canvas(height=400, width=400)"
      ]
     },
     "metadata": {},
     "output_type": "display_data"
    }
   ],
   "source": [
    "'''\n",
    "Task4c\n",
    "'''\n",
    "\n",
    "canvas = Canvas(width=400, height=400)\n",
    "display(canvas)\n",
    "canvas.stroke_rect(0,0,400,400)\n",
    "canvas.stroke_style = 'red'\n",
    "line_y = 300\n",
    "canvas.stroke_line(0,line_y,400,line_y)\n",
    "x = 0\n",
    "y = 0\n",
    "while y < line_y:\n",
    "    canvas.fill_rect(x,y,10,10)\n",
    "    x += 10\n",
    "    y += random.randint(10,20)"
   ]
  },
  {
   "cell_type": "code",
   "execution_count": null,
   "metadata": {},
   "outputs": [],
   "source": []
  }
 ],
 "metadata": {
  "kernelspec": {
   "display_name": "Python 3",
   "language": "python",
   "name": "python3"
  },
  "language_info": {
   "codemirror_mode": {
    "name": "ipython",
    "version": 3
   },
   "file_extension": ".py",
   "mimetype": "text/x-python",
   "name": "python",
   "nbconvert_exporter": "python",
   "pygments_lexer": "ipython3",
   "version": "3.6.9"
  }
 },
 "nbformat": 4,
 "nbformat_minor": 2
}
