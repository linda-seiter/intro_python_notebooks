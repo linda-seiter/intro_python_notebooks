{
 "cells": [
  {
   "cell_type": "code",
   "execution_count": 2,
   "metadata": {},
   "outputs": [],
   "source": [
    "import random\n",
    "from ipycanvas import Canvas"
   ]
  },
  {
   "cell_type": "code",
   "execution_count": 4,
   "metadata": {},
   "outputs": [
    {
     "name": "stdout",
     "output_type": "stream",
     "text": [
      "15 IS evenly divisible by 3\n",
      "11 IS NOT evenly divisible by 3\n",
      "2 IS NOT evenly divisible by 3\n",
      "6 IS evenly divisible by 3\n",
      "18 IS evenly divisible by 3\n",
      "1 IS NOT evenly divisible by 3\n",
      "14 IS NOT evenly divisible by 3\n",
      "12 IS evenly divisible by 3\n",
      "3 IS evenly divisible by 3\n",
      "13 IS NOT evenly divisible by 3\n",
      "FINAL TALLY: 5 numbers were divisble by 3\n"
     ]
    }
   ],
   "source": [
    "'''\n",
    "Task1\n",
    "'''\n",
    "count = 0\n",
    "for i in range(10):\n",
    "    num = random.randint(1,20)\n",
    "    if num % 3 == 0:\n",
    "        print(num,'IS evenly divisible by 3')\n",
    "        count += 1\n",
    "    else:\n",
    "        print(num,'IS NOT evenly divisible by 3')\n",
    "print('FINAL TALLY: {} numbers were divisble by 3'.format(count))"
   ]
  },
  {
   "cell_type": "code",
   "execution_count": 8,
   "metadata": {},
   "outputs": [
    {
     "name": "stdout",
     "output_type": "stream",
     "text": [
      "enter multiplier:14\n",
      "1 * 14 = 14\n",
      "2 * 14 = 28\n",
      "3 * 14 = 42\n",
      "4 * 14 = 56\n",
      "5 * 14 = 70\n",
      "6 * 14 = 84\n",
      "7 * 14 = 98\n",
      "8 * 14 = 112\n",
      "9 * 14 = 126\n",
      "10 * 14 = 140\n"
     ]
    }
   ],
   "source": [
    "'''\n",
    "Task2\n",
    "\n",
    "'''\n",
    "\n",
    "multiplier = int(input('enter multiplier:'))\n",
    "for  multiplicand in range(1,11):\n",
    "    print('{} * {} = {}'.format(multiplicand, multiplier, multiplicand * multiplier))"
   ]
  },
  {
   "cell_type": "code",
   "execution_count": 14,
   "metadata": {},
   "outputs": [
    {
     "name": "stdout",
     "output_type": "stream",
     "text": [
      "NEW NUMBER: 25  MIN= 25  MAX= 25\n",
      "NEW NUMBER: 31  MIN= 25  MAX= 31\n",
      "NEW NUMBER: -48  MIN= -48  MAX= 31\n",
      "NEW NUMBER: 33  MIN= -48  MAX= 33\n",
      "NEW NUMBER: 35  MIN= -48  MAX= 35\n"
     ]
    }
   ],
   "source": [
    "'''\n",
    "Task3\n",
    "'''\n",
    "\n",
    "for i in range(5):\n",
    "    num = random.randint(-50, 50)\n",
    "    if i == 0:\n",
    "        #initialize first time through loop\n",
    "        min=num\n",
    "        max=num\n",
    "    else:\n",
    "        #test if new min or max\n",
    "        if num < min:\n",
    "            min = num\n",
    "        elif num > max:\n",
    "            max = num\n",
    "    print('NEW NUMBER:',num,' MIN=',min,' MAX=',max)\n",
    "\n",
    "\n"
   ]
  },
  {
   "cell_type": "code",
   "execution_count": 17,
   "metadata": {},
   "outputs": [
    {
     "data": {
      "application/vnd.jupyter.widget-view+json": {
       "model_id": "26283fd5d84748fc80790f0e7fba4525",
       "version_major": 2,
       "version_minor": 0
      },
      "text/plain": [
       "Canvas(height=200, width=200)"
      ]
     },
     "metadata": {},
     "output_type": "display_data"
    }
   ],
   "source": [
    "'''\n",
    "Task4a\n",
    "'''\n",
    "\n",
    "canvas = Canvas(width=200, height = 200)\n",
    "display(canvas)\n",
    "canvas.stroke_rect(0,0,canvas.width,canvas.height)\n",
    "\n",
    "x = 0\n",
    "y = canvas.height/2\n",
    "size=10\n",
    "hspace=20\n",
    "\n",
    "for i in range(5):\n",
    "    canvas.stroke_rect(x,y,size,size)\n",
    "    x += size + hspace"
   ]
  },
  {
   "cell_type": "code",
   "execution_count": 23,
   "metadata": {},
   "outputs": [
    {
     "data": {
      "application/vnd.jupyter.widget-view+json": {
       "model_id": "aff10895b8784f018d67c6214df051f8",
       "version_major": 2,
       "version_minor": 0
      },
      "text/plain": [
       "Canvas(height=200, width=200)"
      ]
     },
     "metadata": {},
     "output_type": "display_data"
    }
   ],
   "source": [
    "'''\n",
    "Task4b\n",
    "'''\n",
    "\n",
    "canvas = Canvas(width=200, height = 200)\n",
    "display(canvas)\n",
    "canvas.stroke_rect(0,0,canvas.width,canvas.height)\n",
    "\n",
    "x = 0\n",
    "y = canvas.height/2\n",
    "size=10\n",
    "hspace=20\n",
    "\n",
    "for i in range(5):\n",
    "    canvas.stroke_rect(x,y,size,size)\n",
    "    x += size + hspace\n",
    "    vspace = random.randint(-20,20)\n",
    "    y += vspace"
   ]
  },
  {
   "cell_type": "code",
   "execution_count": 29,
   "metadata": {},
   "outputs": [
    {
     "data": {
      "application/vnd.jupyter.widget-view+json": {
       "model_id": "1cc24a7ba30042ee93966d151cc7099d",
       "version_major": 2,
       "version_minor": 0
      },
      "text/plain": [
       "Canvas(height=200, width=200)"
      ]
     },
     "metadata": {},
     "output_type": "display_data"
    }
   ],
   "source": [
    "'''\n",
    "Task4c\n",
    "'''\n",
    "\n",
    "canvas = Canvas(width=200, height = 200)\n",
    "display(canvas)\n",
    "canvas.stroke_rect(0,0,canvas.width,canvas.height)\n",
    "\n",
    "x = 0\n",
    "y = canvas.height/2\n",
    "size=10\n",
    "hspace=20\n",
    "\n",
    "for i in range(5):\n",
    "    canvas.stroke_rect(x,y,size,size)\n",
    "    x += size + hspace\n",
    "    vspace = random.randint(-20,20)\n",
    "    y += vspace\n",
    "    if vspace > 0:\n",
    "        canvas.stroke_style = 'blue'\n",
    "    else:\n",
    "        canvas.stroke_style = 'red'"
   ]
  }
 ],
 "metadata": {
  "kernelspec": {
   "display_name": "Python 3",
   "language": "python",
   "name": "python3"
  },
  "language_info": {
   "codemirror_mode": {
    "name": "ipython",
    "version": 3
   },
   "file_extension": ".py",
   "mimetype": "text/x-python",
   "name": "python",
   "nbconvert_exporter": "python",
   "pygments_lexer": "ipython3",
   "version": "3.6.9"
  }
 },
 "nbformat": 4,
 "nbformat_minor": 2
}
